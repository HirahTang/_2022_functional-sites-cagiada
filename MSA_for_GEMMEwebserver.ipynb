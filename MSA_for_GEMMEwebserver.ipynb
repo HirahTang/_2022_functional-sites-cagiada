{
  "nbformat": 4,
  "nbformat_minor": 0,
  "metadata": {
    "colab": {
      "provenance": []
    },
    "kernelspec": {
      "name": "python3",
      "display_name": "Python 3"
    },
    "language_info": {
      "name": "python"
    }
  },
  "cells": [
    {
      "cell_type": "markdown",
      "source": [
        "# <b><font color='#009e74'>Functional site model: step-by-step MSA  preparation for GEMME web server </font></b>\n",
        "\n",
        "Colaboratory supporting notebook for creating MSA compatible with GEMME webserver.\\\n",
        "Manuscript: **Cagiada, et al.,** [Discovering functionally important sites in proteins\n",
        "](https://www.biorxiv.org/content/10.1101/2022.07.14.500015v1.full).\\\n",
        "Source code is available on the project [Github](https://github.com/KULL-Centre/papers/tree/main/2022/functional-sites-cagiada-et-al) page.\n",
        "\n",
        "If you use this notebook, rememeber to cite the software and packages used and the current version of our manuscript."
      ],
      "metadata": {
        "id": "rRcIO6H_Ng3k"
      }
    },
    {
      "cell_type": "markdown",
      "source": [
        "###1. <b><font color='#56b4e9'>Retrieve your sequence in fasta format</font></b>\n",
        "\n",
        "This can be done also using [UNIPROT](https://www.uniprot.org/)\n",
        "1. Search the protein ID\n",
        "2. Go to sequence tab\n",
        "3. Click on Download bottom and copy the sequence from the new\n",
        "\n",
        "![](https://raw.githubusercontent.com/KULL-Centre/_2022_functional-sites-cagiada/main/images_colab/Screenshot%202022-09-10%20at%2014.18.49.png)\n",
        "\n",
        "###2.   <b><font color='#56b4e9'>Generation of HHBlits alignment</font></b>:\n",
        "\n",
        "Go to https://toolkit.tuebingen.mpg.de/tools/hhblits:\n",
        "\n",
        "1. Paste your sequence in fasta format into the box\n",
        "2. Select UniRef30 as database\n",
        "\n",
        "![](https://raw.githubusercontent.com/KULL-Centre/_2022_functional-sites-cagiada/main/images_colab/Screenshot%202022-09-10%20at%2015.44.37.png)\n",
        "\n",
        "3. Go to the parameters tab and select as E-value threshold 1e-20 (you can increase if there are not enough sequences in the output)\n",
        "4. Select at least 2000 sequences as output (you can increase it for a larger signal)\n",
        "5. Fill the job name cell and run the prediction\n",
        "\n",
        "\n",
        "![](https://raw.githubusercontent.com/KULL-Centre/_2022_functional-sites-cagiada/main/images_colab/Screenshot%202022-09-10%20at%2013.38.53.png)\n",
        "\n",
        "6. Once the run is finished go to the output panel and click on the query MSA tab\n",
        "\n",
        "7. Download the full A3M MSA\n",
        "\n",
        "![](https://raw.githubusercontent.com/KULL-Centre/_2022_functional-sites-cagiada/main/images_colab/download_MSA_hhblits.png)\n",
        "\n"
      ],
      "metadata": {
        "id": "icQdtGlXNrKB"
      }
    },
    {
      "cell_type": "markdown",
      "source": [
        "###3. <b><font color='#56b4e9'> Convert you MSA in the appropriate GEMME format</font></b>\n",
        "\n",
        "Upload the downloaded MSA using the following code cell and it will be converted in the proper GEMME input msa format.\n",
        "\n",
        "  1. The MSA will be converted from a3m to fasta\n",
        "  2. All the non-query sequence columns will be removed from the MSA\n",
        "  3. All the sequences with more gaps than the selected threshold will be removed. The threshold (in percentage) can be set in the next cell (default 50%)\n",
        "\n",
        "A formatted GEMME MSA will be downloaded at the end of the process.\n",
        "\n",
        "\\\n",
        "\n",
        "### EXECUTABLE CODE STARTS HERE\n",
        "\n",
        "****"
      ],
      "metadata": {
        "id": "2muuUcTkIBC1"
      }
    },
    {
      "cell_type": "code",
      "source": [
        "#@title 2.1 Upload alignment\n",
        "#@markdown Run this cell to upload the <b>HHblits A3M alignment file</b>.\n",
        "#@markdown\n",
        "#@markdown  <b>N.B.:</b> To perform a new alignment, first restart the notebook by clicking `Runtime`->  `Disconnect and delete runtime` \n",
        "\n",
        "from google.colab import files\n",
        "import os,sys,shutil\n",
        "if 'input_path' in locals():\n",
        "  shutil.rmtree(input_path)\n",
        "\n",
        "input_path='/content/work_folder'\n",
        "\n",
        "if not os.path.exists(input_path):\n",
        "  os.mkdir(input_path)\n",
        "output_name=''\n",
        "uploaded_msa = files.upload()\n",
        "for fn in uploaded_msa.keys():\n",
        "    print(fn)\n",
        "    output_name=f'{fn[:-4]}_filtered.fas'\n",
        "    print(output_name)\n",
        "    os.rename(fn, f\"{input_path}/input.a3m\")\n",
        "    print('-->MSA uploaded')"
      ],
      "metadata": {
        "cellView": "form",
        "id": "kUJfL2XPKxQo"
      },
      "execution_count": null,
      "outputs": []
    },
    {
      "cell_type": "code",
      "source": [
        "#@title 2.2 Convert and filter the uploaded MSA\n",
        "#@markdown Run this cell to convert and filter the uploaded MSA for use in the GEMME web server.\n",
        "#@markdown\n",
        "#@markdown  <b>N.B.:</b> To perform a new alignment, first restart the notebook by clicking `Runtime`->  `Disconnect and delete runtime` \n",
        "\n",
        "%%bash\n",
        "wget -cq https://github.com/KULL-Centre/_2022_functional-sites-cagiada/raw/main/additional_msafilters.zip -o /content/additional_msafilters.zip\n",
        "unzip /content/additional_msafilters.zip > /dev/null 2>&1\n",
        "rm /content/additional_msafilters.zip > /dev/null 2>&1\n",
        "perl /content/convertseqs.pl a3m fas /content/work_folder/input.a3m /content/work_folder/input.fas\n",
        "chmod +x /content/MSAFILTERexe \n",
        "/content/MSAFILTERexe /content/work_folder/input.fas /content/work_folder/output 0.5 > /dev/null 2>&1"
      ],
      "metadata": {
        "cellView": "form",
        "id": "LWCnsXllOkVH"
      },
      "execution_count": null,
      "outputs": []
    },
    {
      "cell_type": "code",
      "source": [
        "#@title 2.2 Download the GEMME-ready MSA\n",
        "#@markdown Run this cell to download the converted MSA.\n",
        "os.rename(f'{input_path}/output.fasta', f'/content/{output_name}')\n",
        "files.download(f\"/content/{output_name}\")"
      ],
      "metadata": {
        "colab": {
          "base_uri": "https://localhost:8080/",
          "height": 17
        },
        "cellView": "form",
        "id": "fidb-O9CWlWz",
        "outputId": "287d6834-4c2f-4d71-d2b9-e607eebb3aad"
      },
      "execution_count": 4,
      "outputs": [
        {
          "output_type": "display_data",
          "data": {
            "text/plain": [
              "<IPython.core.display.Javascript object>"
            ],
            "application/javascript": [
              "\n",
              "    async function download(id, filename, size) {\n",
              "      if (!google.colab.kernel.accessAllowed) {\n",
              "        return;\n",
              "      }\n",
              "      const div = document.createElement('div');\n",
              "      const label = document.createElement('label');\n",
              "      label.textContent = `Downloading \"${filename}\": `;\n",
              "      div.appendChild(label);\n",
              "      const progress = document.createElement('progress');\n",
              "      progress.max = size;\n",
              "      div.appendChild(progress);\n",
              "      document.body.appendChild(div);\n",
              "\n",
              "      const buffers = [];\n",
              "      let downloaded = 0;\n",
              "\n",
              "      const channel = await google.colab.kernel.comms.open(id);\n",
              "      // Send a message to notify the kernel that we're ready.\n",
              "      channel.send({})\n",
              "\n",
              "      for await (const message of channel.messages) {\n",
              "        // Send a message to notify the kernel that we're ready.\n",
              "        channel.send({})\n",
              "        if (message.buffers) {\n",
              "          for (const buffer of message.buffers) {\n",
              "            buffers.push(buffer);\n",
              "            downloaded += buffer.byteLength;\n",
              "            progress.value = downloaded;\n",
              "          }\n",
              "        }\n",
              "      }\n",
              "      const blob = new Blob(buffers, {type: 'application/binary'});\n",
              "      const a = document.createElement('a');\n",
              "      a.href = window.URL.createObjectURL(blob);\n",
              "      a.download = filename;\n",
              "      div.appendChild(a);\n",
              "      a.click();\n",
              "      div.remove();\n",
              "    }\n",
              "  "
            ]
          },
          "metadata": {}
        },
        {
          "output_type": "display_data",
          "data": {
            "text/plain": [
              "<IPython.core.display.Javascript object>"
            ],
            "application/javascript": [
              "download(\"download_d815d19e-869f-4a4f-9a64-b6b9c38154bd\", \"hhblits_full_test_1_filtered.fas\", 146125)"
            ]
          },
          "metadata": {}
        }
      ]
    },
    {
      "cell_type": "markdown",
      "source": [
        "### EXECUTABLE CODE ENDS HERE\n",
        "\n",
        "****"
      ],
      "metadata": {
        "id": "ENvu2EwUbz-y"
      }
    },
    {
      "cell_type": "markdown",
      "source": [
        "###4. <b><font color='#56b4e9'>RUN GEMME webserver</font></b>:\n",
        "\n",
        "Go to http://www.lcqb.upmc.fr/GEMME/submit.html:\n",
        "\n",
        "1. upload the MSA you have generated and filtered\n",
        "2. set the protein name\n",
        "\n",
        "![](https://raw.githubusercontent.com/KULL-Centre/_2022_functional-sites-cagiada/main/images_colab/gemme_1.png)\n",
        "\n",
        "3. set the number of iteration to 5\n",
        "4. input your email and press the submit button\n",
        "\n",
        "![](https://raw.githubusercontent.com/KULL-Centre/_2022_functional-sites-cagiada/main/images_colab/gemme_2.png)\n",
        "\n",
        "5. Once finished, download the GEMME results file"
      ],
      "metadata": {
        "id": "0pzlDOZ5JQFX"
      }
    }
  ]
}