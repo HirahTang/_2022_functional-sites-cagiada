{
 "cells": [
  {
   "cell_type": "markdown",
   "metadata": {},
   "source": [
    "#  Prediction on MAVEs"
   ]
  },
  {
   "cell_type": "markdown",
   "metadata": {
    "toc-hr-collapsed": true
   },
   "source": [
    "## Libraries, functions and dictionaries"
   ]
  },
  {
   "cell_type": "code",
   "execution_count": 46,
   "metadata": {
    "tags": []
   },
   "outputs": [],
   "source": [
    "import sys, os\n",
    "\n",
    "import pandas as pd\n",
    "import numpy as np\n",
    "import scipy as sp\n",
    "import matplotlib as mpl\n",
    "import matplotlib.pyplot as plt\n",
    "import mdtraj as md\n",
    "import random\n",
    "import seaborn as sns\n",
    "\n",
    "from scipy.optimize import curve_fit\n",
    "from scipy import stats\n",
    "\n",
    "from sklearn.model_selection import RandomizedSearchCV\n",
    "from sklearn.model_selection import RepeatedStratifiedKFold\n",
    "from sklearn.model_selection import cross_val_score\n",
    "\n",
    "from sklearn.ensemble import RandomForestClassifier\n",
    "from catboost import CatBoostClassifier, Pool\n",
    "from catboost.datasets import titanic\n",
    "\n",
    "import warnings\n",
    "warnings.filterwarnings('ignore')"
   ]
  },
  {
   "cell_type": "code",
   "execution_count": 47,
   "metadata": {
    "tags": []
   },
   "outputs": [],
   "source": [
    "alphabetAA_L_D={'-':0,'_' :0,'A':1,'C':2,'D':3,'E':4,'F':5,'G':6,'H':7,'I':8,'K':9,'L':10,'M':11,'N':12,'P':13,'Q':14,'R':15,'S':16,'T':17,'V':18,'W':19,'Y':20}\n",
    "alphabetAA_D_L={v: k for k, v in alphabetAA_L_D.items()}\n",
    "               \n",
    "alphabetAA_3L_1L={\"Ter\":'*',\"Gap\":'-',\"Ala\":'A',\"Cys\":'C',\"Asp\":'D',\"Glu\":'E',\"Phe\":'F',\"Gly\":'G',\"His\":'H',\"Ile\":'I',\"Lys\":'K',\"Leu\":'L',\"Met\":'M',\"Asn\":'N',\"Pro\":'P',\"Gln\":'Q',\"Arg\":'R',\"Ser\":'S',\"Thr\":'T',\"Val\" :'V',\"Trp\":'W',\"Tyr\":'Y'}\n",
    "alphabetAA_1L_3L={v: k for k,v in alphabetAA_3L_1L.items()}\n",
    "\n",
    "alphabetAA_3L_1LC={\"Ter\":'*',\"Gap\":'-',\"ALA\":'A',\"CYS\":'C',\"ASP\":'D',\"GLU\":'E',\"PHE\":'F',\"GLY\":'G',\"HIS\":'H',\"ILE\":'I',\"LYS\":'K',\"LEU\":'L',\"MET\":'M',\"ASN\":'N',\"PRO\":'P',\"GLN\":'Q',\"ARG\":'R',\"SER\":'S',\"THR\":'T',\"VAL\" :'V',\"TRP\":'W',\"TYR\":'Y'}\n",
    "\n",
    "alphabetAA_to_classes={'A':1,'C':2,'D':3,'E':3,'F':1,'G':4,'H':3,'I':1,'K':3,'L':1,'M':1,'N':2,'P':4,'Q':2,'R':3,'S':2,'T':2,'V':1,'W':1,'Y':1}\n",
    "alphabetclasses_to_AA={v: k for k,v in alphabetAA_to_classes.items()}\n",
    "\n",
    "AA_ddsp_number={'H' :0,'B' : 1,'E' : 2,'G' : 3,'I' : 4,'T' : 5,'S' : 6,' ' : 7}\n",
    "AA_number_ddsp={v: k for k,v in AA_ddsp_number.items()}\n",
    "\n",
    "AA_ddsp_number_simp={'H' :0,'E' : 1,'C' : 2}\n",
    "AA_number_ddsp_simp={v: k for k,v in AA_ddsp_number.items()}\n",
    "\n",
    "AA_to_hydrophobicity_scores={'A':44,'C':50,'D':-37,'E':-12,'F':96,'G':0,'H':-16,'I':100,'K':-30,'L':99,'M':74,'N':-35,'P':-46,'Q':-14,'R':-20,'S':-6,'T':13,'V':78,'W':90,'Y':57}"
   ]
  },
  {
   "cell_type": "markdown",
   "metadata": {},
   "source": [
    "### Load functions"
   ]
  },
  {
   "cell_type": "code",
   "execution_count": 48,
   "metadata": {
    "tags": []
   },
   "outputs": [],
   "source": [
    "def remove_WT_score(score,WT_seq):\n",
    "    for i in range(len(WT_seq)):\n",
    "        score[i,alphabetAA_L_D[WT_seq[i]]-1]=np.nan\n",
    "    return score"
   ]
  },
  {
   "cell_type": "code",
   "execution_count": 134,
   "metadata": {},
   "outputs": [],
   "source": [
    "def load_data_V2(data,wt_seq,start_gap=0,column_score=1):\n",
    "    df=pd.read_csv(data, delim_whitespace=True, comment='#')\n",
    "    mutation_load=np.array(df.iloc[:,0])\n",
    "    score_load=np.array(df.iloc[:,column_score])\n",
    "    scores=np.empty((len(wt_seq),20),dtype=float)\n",
    "    scores[:]=np.nan\n",
    "    for i in range(len(mutation_load)):\n",
    "        if not mutation_load[i][len(mutation_load[i])-1] in ['=','*','~']:\n",
    "            scores[int(mutation_load[i][1:len(mutation_load[i])-1])-1+start_gap, alphabetAA_L_D[mutation_load[i][len(mutation_load[i])-1]]-1]= float(score_load[i])\n",
    "    return scores"
   ]
  },
  {
   "cell_type": "markdown",
   "metadata": {},
   "source": [
    "### General functions"
   ]
  },
  {
   "cell_type": "code",
   "execution_count": 50,
   "metadata": {
    "tags": []
   },
   "outputs": [],
   "source": [
    "def normalize_score(scores):\n",
    "    normalized_scores=np.copy(scores)\n",
    "    c_min_act=np.percentile(scores[~np.isnan(scores)],5)\n",
    "    c_max_act=np.percentile(scores[~np.isnan(scores)],95)\n",
    "    for i in range(scores.shape[0]):\n",
    "        for j in range(scores.shape[1]):\n",
    "            normalized_scores[i,j]=(scores[i,j]-c_min_act)/(c_max_act-c_min_act)\n",
    "                                  \n",
    "    return normalized_scores"
   ]
  },
  {
   "cell_type": "code",
   "execution_count": 51,
   "metadata": {
    "tags": []
   },
   "outputs": [],
   "source": [
    "def normalize_minmax(scores):\n",
    "    normalized_scores=np.copy(scores)\n",
    "    c_min_act=np.amin(scores[~np.isnan(scores)])\n",
    "    c_max_act=np.amax(scores[~np.isnan(scores)])\n",
    "    for i in range(scores.shape[0]):\n",
    "        for j in range(scores.shape[1]):\n",
    "            normalized_scores[i,j]=(scores[i,j]-c_min_act)/(c_max_act-c_min_act)\n",
    "                                  \n",
    "    return normalized_scores"
   ]
  },
  {
   "cell_type": "code",
   "execution_count": 52,
   "metadata": {
    "tags": []
   },
   "outputs": [],
   "source": [
    "def normalize_fermi(scores):\n",
    "    normalized_scores=np.copy(scores)\n",
    "    for i in range(scores.shape[0]):\n",
    "        for j in range(scores.shape[1]):\n",
    "            normalized_scores[i,j]=1/(sp.exp(scores[i,j]-2)+1)                 \n",
    "    return normalized_scores"
   ]
  },
  {
   "cell_type": "code",
   "execution_count": 53,
   "metadata": {
    "tags": []
   },
   "outputs": [],
   "source": [
    "def normalize_cutoff(scores,lowcut,highcut):\n",
    "    normalized_scores=np.copy(scores)\n",
    "    for i in range(scores.shape[0]):\n",
    "        for j in range(scores.shape[1]):\n",
    "            if scores[i,j] < lowcut:\n",
    "                normalized_scores[i,j]=lowcut\n",
    "            elif scores[i,j] > highcut:\n",
    "                normalized_scores[i,j]=highcut\n",
    "            else:\n",
    "                normalized_scores[i,j]=scores[i,j]\n",
    "    return normalized_scores"
   ]
  },
  {
   "cell_type": "code",
   "execution_count": 54,
   "metadata": {
    "tags": []
   },
   "outputs": [],
   "source": [
    "def position_mean(score):\n",
    "    score_mean=np.zeros(score.shape[0],dtype=float)\n",
    "    for i in range(score.shape[0]):\n",
    "        count=0\n",
    "        flag_nan=True\n",
    "        for j in range(score.shape[1]):\n",
    "            if np.isnan(score[i,j])==False:\n",
    "                flag_nan=False\n",
    "                score_mean[i]+=score[i,j]\n",
    "                count+=1\n",
    "            else:\n",
    "                pass\n",
    "        if flag_nan==True:\n",
    "            score_mean[i]=np.nan\n",
    "        score_mean[i]/=count\n",
    "        \n",
    "    return score_mean"
   ]
  },
  {
   "cell_type": "code",
   "execution_count": 55,
   "metadata": {
    "tags": []
   },
   "outputs": [],
   "source": [
    "def score_histogram(score,nbin,color,label_x,norm_bool,thr):\n",
    "\n",
    "    counts, bins = np.histogram(score[~np.isnan(score)],bins=nbin)\n",
    "    if norm_bool=='Density':\n",
    "        n, bins, patches = plt.hist(score[~np.isnan(score)], bins=nbin, facecolor=color, alpha=0.7,edgecolor=\"black\",density=True)\n",
    "        plt.ylabel('Normalized counts',fontsize=20)\n",
    "    elif norm_bool=='True':\n",
    "        \n",
    "        norm= counts / np.linalg.norm(counts)\n",
    "        plt.hist(bins[:-1], bins, weights=norm, facecolor=color, alpha=0.7,edgecolor=\"black\")\n",
    "        plt.ylabel('Normalized counts',fontsize=20)\n",
    "    else:\n",
    "        n, bins, patches = plt.hist(score[~np.isnan(score)], bins=nbin, facecolor=color,edgecolor=\"black\")\n",
    "        plt.ylabel('Counts',fontsize=20)\n",
    "\n",
    "    plt.xlabel(label_x,fontsize=20)\n",
    "    plt.xticks(fontsize=18)\n",
    "    plt.grid(axis=\"y\",alpha=0.4,linestyle='--')\n",
    "    sum_unstable=0\n",
    "    for i in range(len(bins)-1):\n",
    "        if bins[i+1] < thr:\n",
    "            sum_unstable+=counts[i]\n",
    "    print('Wt-like variants:',np.sum(counts)-sum_unstable, ' (', (np.sum(counts)-sum_unstable)/np.sum(counts) ,')')\n",
    "    \n",
    "    #plt.show()"
   ]
  },
  {
   "cell_type": "code",
   "execution_count": 56,
   "metadata": {
    "tags": []
   },
   "outputs": [],
   "source": [
    "def heatmap_IBS(prediction,variant_map,WT):\n",
    "    scores=np.empty((len(WT),20),dtype=float)\n",
    "    scores[:]=np.nan\n",
    "    \n",
    "    i=0\n",
    "    for cord in variant_map:\n",
    "        scores[cord[0],cord[1]]=prediction[i]\n",
    "        i+=1\n",
    "\n",
    "    fig, ax = plt.subplots(figsize=(16,6))\n",
    "    ylabels=[ alphabetAA_D_L[i] for i in range(1,21)]\n",
    "    \n",
    "    ax.imshow(np.transpose(scores), aspect = 'auto', cmap=mpl.colors.ListedColormap([\"white\",\"#56b4e9\"]))\n",
    "\n",
    "    ax.set_yticks([i for i in range(0,20)])\n",
    "    ax.set_yticklabels(ylabels,fontsize=15)\n",
    "    ax.tick_params(axis='x', which='major', labelsize=15)\n",
    "        \n",
    "    tmp=np.empty((len(WT),20),dtype=float)\n",
    "    tmp[:]=np.inf\n",
    "    for i in range(0,len(WT)):\n",
    "        tmp[i,alphabetAA_L_D[WT[i]]-1]=1\n",
    "    plt.imshow(tmp.T, cmap='Accent', aspect = 'auto')\n",
    "    \n",
    "    plt.grid(axis='both',which='both',alpha=0.4)\n",
    "    plt.ylabel(\"mutation\",fontsize=16)\n",
    "    plt.xlabel(\"residue\",fontsize=16)\n",
    "\n",
    "    plt.ylim(-0.5,19.5)"
   ]
  },
  {
   "cell_type": "code",
   "execution_count": 57,
   "metadata": {
    "tags": []
   },
   "outputs": [],
   "source": [
    "def ratio_variants(mave_funct,mave_abd):\n",
    "    ratio=np.copy(mave_funct)\n",
    "    ratio[:]=np.nan\n",
    "    for i in range(ratio.shape[0]):\n",
    "        for j in range(ratio.shape[1]):\n",
    "            if np.isnan(mave_funct[i,j]) or np.isnan(mave_abd[i,j]):\n",
    "                pass\n",
    "            else:\n",
    "                if mave_abd[i,j]==0.0:\n",
    "                    ratio[i,j]=mave_funct[i,j]/0.0000001\n",
    "                else:\n",
    "                    ratio[i,j]=mave_funct[i,j]/mave_abd[i,j]\n",
    "    sig_ratio=np.copy(ratio)\n",
    "    sig_ratio[:]=np.nan\n",
    "    for i in range(ratio.shape[0]):\n",
    "        for j in range(ratio.shape[1]):\n",
    "            if np.isnan(ratio[i,j])!=True:\n",
    "                sig_ratio[i,j]=1/(1+np.exp(-(ratio[i,j]-1)))\n",
    "\n",
    "    return sig_ratio"
   ]
  },
  {
   "cell_type": "code",
   "execution_count": 58,
   "metadata": {
    "tags": []
   },
   "outputs": [],
   "source": [
    "def MCC_test_subset(prediction,test):\n",
    "    TP=0\n",
    "    FP=0\n",
    "    total=0\n",
    "    for i in range(len(prediction)):\n",
    "        if np.isnan(prediction[i])!= True and np.isnan(test[i])!=True:\n",
    "            if prediction[i]==1:\n",
    "                if int(prediction[i])==int(test[i]):\n",
    "                    TP+=1\n",
    "                else:\n",
    "                    FP+=1\n",
    "            if int(test[i])==1:\n",
    "                total+=1\n",
    "    precision=TP/(TP+FP)\n",
    "    recall=TP/total\n",
    "    mcc=np.sqrt(abs(precision*recall))\n",
    "    \n",
    "    return precision,recall,mcc                 "
   ]
  },
  {
   "cell_type": "code",
   "execution_count": 59,
   "metadata": {
    "tags": []
   },
   "outputs": [],
   "source": [
    "def AUC_subset(prediction,test):\n",
    "    TP=0\n",
    "    FP=0\n",
    "    FN=0\n",
    "    TN=0\n",
    "    \n",
    "    for i in range(len(prediction)):\n",
    "        if np.isnan(prediction[i])!= True and np.isnan(test[i])!=True:\n",
    "            if prediction[i]==1:\n",
    "                if int(prediction[i])==int(test[i]):\n",
    "                    TP+=1\n",
    "                else:\n",
    "                    FP+=1\n",
    "            if prediction[i]==0:\n",
    "                if int(prediction[i])==int(test[i]):\n",
    "                    TN+=1\n",
    "                else:\n",
    "                    FN+=1 \n",
    "                    \n",
    "    TPR=TP/(TP+FN)\n",
    "    FPR=FP/(FP+TN)\n",
    "    \n",
    "    return [TPR,FPR]"
   ]
  },
  {
   "cell_type": "code",
   "execution_count": 60,
   "metadata": {
    "tags": []
   },
   "outputs": [],
   "source": [
    "def retrieve_residue_label_pred(prediction,variant_map,WT,percentage_threshold):\n",
    "    scores=np.empty((len(WT),20),dtype=float)\n",
    "    scores[:]=np.nan\n",
    "    \n",
    "    i=0\n",
    "    for cord in variant_map:\n",
    "        scores[cord[0],cord[1]]=prediction[i]\n",
    "        i+=1\n",
    "    \n",
    "    pseudomode_value_class=np.empty(len(WT),dtype=float)\n",
    "    pseudomode_value_class[:]=np.nan\n",
    "    percentage_mode=np.zeros((len(WT),2),dtype=float)\n",
    "    \n",
    "    for i in range(len(pseudomode_value_class)):\n",
    "        count=0\n",
    "        for j in range(scores.shape[1]):\n",
    "            if np.isnan(scores[i,j])!=True:\n",
    "                count+=1\n",
    "        if count>0:\n",
    "            count_1=0\n",
    "            for j in range(scores.shape[1]):\n",
    "                if scores[i,j]==1:\n",
    "                    count_1+=1\n",
    "            percentage=count_1/count\n",
    "            \n",
    "            if percentage > percentage_threshold:\n",
    "                pseudomode_value_class[i]=1\n",
    "            else:\n",
    "                pseudomode_value_class[i]=0\n",
    "            \n",
    "            percentage_mode[i,0]=percentage\n",
    "            percentage_mode[i,1]=count\n",
    "    \n",
    "    #mode_value_class, counts_mode=sp.stats.mode(scores,axis=1,nan_policy='omit')\n",
    "    \n",
    "    return pseudomode_value_class,percentage_mode"
   ]
  },
  {
   "cell_type": "code",
   "execution_count": 61,
   "metadata": {
    "tags": []
   },
   "outputs": [],
   "source": [
    "def pairplot_features(list_feature,name_features,namefile):\n",
    "    df=pd.DataFrame(list_feature,columns=name_features)\n",
    "    sns_plot=sns.pairplot(df)\n",
    "    sns_plot.savefig(namefile)"
   ]
  },
  {
   "cell_type": "code",
   "execution_count": 62,
   "metadata": {
    "tags": []
   },
   "outputs": [],
   "source": [
    "def print_chimera_attribute_file(attribute_check,attribute,file):\n",
    "    file=open(file,\"w+\")\n",
    "    file.write('%s\\n%s\\n%s\\n%s\\n' % ('#','#  Use this file to assign the attribute in Chimera with the','#  Define Attribute tool or the command defattr','#'))\n",
    "    file.write('%s\\n%s\\n%s\\n' % ( 'attribute: cbyvalue','match mode: 1-to-1', 'recipient: residues') )\n",
    "    for i in range(len(attribute_check)):\n",
    "        if np.isnan(attribute_check[i])==True:\n",
    "            file.write(\"\\t%s%d%s\\t%f\\n\" % (':',i+1,'.A',-1))\n",
    "        else:\n",
    "            file.write(\"\\t%s%d%s\\t%f\\n\" % (':',i+1,'.A',attribute[i]))\n",
    "    file.close()"
   ]
  },
  {
   "cell_type": "code",
   "execution_count": 63,
   "metadata": {
    "tags": []
   },
   "outputs": [],
   "source": [
    "def plot_attributes(pos,pred,variant_map,gemme,rosetta,wcn,gemme_n,rosetta_n):\n",
    "    \n",
    "    label_position=np.empty(20,dtype=float)\n",
    "    label_position[:]=np.nan\n",
    "    \n",
    "    i=0\n",
    "    for cord in variant_map:\n",
    "        if cord[0]==pos:\n",
    "            label_position[cord[1]]=prediction[i]\n",
    "        i+=1\n",
    "    \n",
    "    fig,(ax1,ax2,ax3,ax4,ax5,ax6)=plt.subplots(1,6,figsize=(9,4),gridspec_kw={\"width_ratios\" : [7,1,1,1,1,1], \"wspace\" : 0.4})\n",
    "    cdict = {1: 'blue', 0: 'red'}\n",
    "    glabel={1.0:'SBI',0.0:'non-SBI'}\n",
    "    for g in np.unique(label_position):\n",
    "        if np.isnan(g)!=True:\n",
    "            ix = np.where(label_position == g)\n",
    "            ax1.scatter(rosetta[pos,ix],gemme[pos,ix],c=cdict[g], label=[glabel[g]])\n",
    "    \n",
    "    ax2.bar(x=0.5,height=wcn[pos])\n",
    "    ax3.bar(x=0.5,height=np.mean(gemme[pos,:][~np.isnan(gemme[pos,:])]))\n",
    "    ax4.bar(x=0.5,height=np.mean(rosetta[pos,:][~np.isnan(rosetta[pos,:])]))   \n",
    "    ax5.bar(x=0.5,height=gemme_n[pos])\n",
    "    ax6.bar(x=0.5,height=rosetta_n[pos])\n",
    "    \n",
    "    \n",
    "    ax1.set_title('variants classification')\n",
    "    ax2.set_title('WCN')\n",
    "    ax3.set_title(r'$\\bar{G}$')\n",
    "    ax4.set_title(r'$\\bar{r}$')\n",
    "    ax5.set_title(r'G_n')\n",
    "    ax6.set_title(r'r_n')\n",
    "    \n",
    "    ax1.set_xlabel('rosetta_score',fontsize=13)\n",
    "    ax1.set_ylabel('GEMME score',fontsize=13)\n",
    "    ax1.set_xlim(6,-1)\n",
    "    ax1.set_ylim(-7,1)\n",
    "    ax2.set_ylim(0,15)\n",
    "    ax3.set_ylim(0,-8)\n",
    "    ax4.set_ylim(0,6)\n",
    "    ax5.set_ylim(0,-8)\n",
    "    ax6.set_ylim(0,6)\n",
    "    \n",
    "    \n",
    "    ax2.set_xticks([],[])\n",
    "    ax3.set_xticks([],[])\n",
    "    ax4.set_xticks([],[])\n",
    "    ax5.set_xticks([],[])\n",
    "    ax6.set_xticks([],[])\n",
    "    ax2.set_xlim(0.1,0.9)\n",
    "    \n",
    "    \n",
    "    \n",
    "    ax1.legend()"
   ]
  },
  {
   "cell_type": "code",
   "execution_count": 64,
   "metadata": {
    "tags": []
   },
   "outputs": [],
   "source": [
    "def results_plot(MCC,AUC,name_models):\n",
    "    \n",
    "    fig,(ax1,ax2,ax3)=plt.subplots(1,3,figsize=(14,4))\n",
    "    \n",
    "    cdict = {1: '#355070', 2: '#6D597A',2:'#B56576',3 :'#a4d600',4:'#a47f4b',5:'#EAAC8B',6:'#4a944f',7:\"#F95738\"}\n",
    "    for g in range(0,7):\n",
    "        ax1.scatter(AUC[g,1],AUC[g,0],c=cdict[g+1])\n",
    "    ax1.plot([0, 1], [0, 1], transform=ax1.transAxes,ls=':')\n",
    "    ax1.set_xlabel('FPR',fontsize=13)\n",
    "    ax1.set_ylabel('TPR',fontsize=13)\n",
    "    \n",
    "    for g in range(0,7):\n",
    "        ax2.scatter(MCC[g,0],MCC[g,1],c=cdict[g+1], label=g+1)\n",
    "    #ax2.scatter(MCC[:,0],MCC[:,1],c=color_class)\n",
    "    \n",
    "    ax2.set_xlabel('Precision',fontsize=13)\n",
    "    ax2.set_ylabel('Recall',fontsize=13)\n",
    "    ax2.legend(loc='lower right')\n",
    "    \n",
    "    cbar=[cdict[i] for i in range(1,8)]\n",
    "    ax3.bar(name_models,MCC[:,2],color=cbar)\n",
    "    ax3.set_ylabel('MCC',fontsize=13)\n"
   ]
  },
  {
   "cell_type": "code",
   "execution_count": 65,
   "metadata": {
    "tags": []
   },
   "outputs": [],
   "source": [
    "def print_percentage_prediction(pred,mode_pred,WT,WT_ros):\n",
    "    effective_pos=0\n",
    "    for i in range(len(WT)):\n",
    "        if WT[i]==WT_ros[i]:\n",
    "            effective_pos+=1\n",
    "    count_SBI=0\n",
    "    for i in pred:\n",
    "        if i ==1:\n",
    "            count_SBI+=1\n",
    "    \n",
    "    print(f' SBI variants: {count_SBI} out of {len(pred)} ({count_SBI/len(pred)*100:.2f}%) ')\n",
    "    \n",
    "    perc_variants=count_SBI/len(pred)*100\n",
    "    \n",
    "    count_SBI=0\n",
    "    for i in mode_pred:\n",
    "        if i==1:\n",
    "            count_SBI+=1\n",
    "    print(f' SBI residues: {count_SBI} out of {effective_pos} ({count_SBI/effective_pos*100:.2f}%) ')\n",
    "    \n",
    "    return [perc_variants, count_SBI/effective_pos*100]"
   ]
  },
  {
   "cell_type": "code",
   "execution_count": 66,
   "metadata": {
    "tags": []
   },
   "outputs": [],
   "source": [
    "def print_numbers_prediction(pred,mode_pred,WT,WT_ros):\n",
    "    effective_pos=0\n",
    "    for i in range(len(WT)):\n",
    "        if WT[i]==WT_ros[i]:\n",
    "            effective_pos+=1\n",
    "    count_SBI=0\n",
    "    for i in pred:\n",
    "        if i ==1:\n",
    "            count_SBI+=1\n",
    "    \n",
    "    variants=count_SBI\n",
    "    \n",
    "    count_SBI=0\n",
    "    for i in mode_pred:\n",
    "        if i==1:\n",
    "            count_SBI+=1\n",
    "    \n",
    "    return [variants, count_SBI]"
   ]
  },
  {
   "cell_type": "code",
   "execution_count": 67,
   "metadata": {},
   "outputs": [],
   "source": [
    "def classification_histogram_shadowed2(score_back,score_filter,nbin,b_min,b_max,color,label_x,region_ext):\n",
    "    # Function for plot the MAVE coloured variants distribution using the computational scores\n",
    "    \n",
    "    mpl.rcParams['figure.figsize']=(6,3)    \n",
    "    mpl.rcParams['axes.axisbelow'] = True\n",
    "    mpl.rcParams['xtick.labelsize'] = 14\n",
    "    mpl.rcParams['ytick.labelsize'] = 14\n",
    "    mpl.rcParams['axes.labelsize']  = 15\n",
    "    \n",
    "    temp=np.copy(score_back)\n",
    "    \n",
    "    for i in range(score_back.shape[0]):\n",
    "        for j in range(score_back.shape[1]):\n",
    "            if np.isnan(score_filter[i,j]):\n",
    "                temp[i,j]=np.nan\n",
    "\n",
    "    #histogram data of the gray distribution on background\n",
    "    counts, bins = np.histogram(temp[~np.isnan(temp)],bins=nbin)\n",
    "    \n",
    "    c_bins=np.copy(bins)\n",
    "    c_counts=np.copy(counts)\n",
    "    i=0\n",
    "    temp_cmin=0\n",
    "\n",
    "    # Fix the bins over the the limit plot region(b_min/b_max), to make them collapse into a single bin \n",
    "    while i < len(c_bins):\n",
    "\n",
    "        if c_bins[i] > b_min:\n",
    "            c_bins=np.delete(c_bins,np.s_[0:i-1])\n",
    "            c_counts=np.delete(c_counts,np.s_[0:i-1])\n",
    "            break\n",
    "\n",
    "        temp_cmin+=counts[i]\n",
    "        i+=1\n",
    "  \n",
    "    i=len(c_bins)-1\n",
    "    temp_cmax=0\n",
    "    \n",
    "    while i >=0:\n",
    "\n",
    "        if c_bins[i] <= b_max:\n",
    "            c_bins=np.delete(c_bins,np.s_[i+2:])\n",
    "            c_counts=np.delete(c_counts,np.s_[i+1:])\n",
    "            break\n",
    "            \n",
    "        temp_cmax+=c_counts[i-1]\n",
    "        i-=1 \n",
    "        \n",
    "    c_counts[0]=temp_cmin\n",
    "    c_counts[-1]=temp_cmax \n",
    "    fig,ax=plt.subplots(1,1,figsize=(5,4),tight_layout=True)    \n",
    "    #max-min normalization for background scores\n",
    "    norm= (c_counts-np.min(c_counts))/(np.max(c_counts)-np.min(c_counts))\n",
    "\n",
    "    #plot background gray histogram\n",
    "    ax.hist(c_bins[:-1], c_bins, weights=norm, facecolor='gray', alpha=0.4,edgecolor=\"k\",histtype='stepfilled')\n",
    "    \n",
    "    \n",
    "    temp=[]\n",
    "    for i in range(score_back.shape[0]):\n",
    "        for j in range(score_back.shape[1]):\n",
    "            if score_filter[i,j]==region_ext[0]:\n",
    "                temp.append(score_back[i,j])\n",
    "\n",
    "    temp=np.array(temp)\n",
    "\n",
    "    # Plot of coloured variants of MAVE using the score distribution of the computational analysis\n",
    "    counts_filter, bins2 = np.histogram(temp[~np.isnan(temp)],bins=bins)\n",
    "\n",
    "    # Fix the bins over the the limit plot region(b_min/b_max), to make them collapse into a single bin \n",
    "    # Extraction of the MAVE variants distribution of the region from the computational score .\n",
    "    cf_bins=np.copy(bins2)\n",
    "    cf_counts=np.copy(counts_filter)\n",
    "    i=0\n",
    "    temp_cmin=0\n",
    "    while i < len(cf_bins):\n",
    "\n",
    "        if cf_bins[i] > b_min:\n",
    "            cf_bins=np.delete(cf_bins,np.s_[0:i-1])\n",
    "            cf_counts=np.delete(cf_counts,np.s_[0:i-1])\n",
    "            break\n",
    "\n",
    "        temp_cmin+=cf_counts[i]\n",
    "        i+=1\n",
    "  \n",
    "    i=len(cf_bins)-1\n",
    "    temp_cmax=0\n",
    "    \n",
    "    while i >=0:\n",
    "\n",
    "        if cf_bins[i] <= b_max:\n",
    "            cf_bins=np.delete(cf_bins,np.s_[i+2:])\n",
    "            cf_counts=np.delete(cf_counts,np.s_[i+1:])\n",
    "            break\n",
    "            \n",
    "        temp_cmax+=cf_counts[i-1]\n",
    "        i-=1 \n",
    "\n",
    "    cf_counts[0]=temp_cmin\n",
    "    cf_counts[-1]=temp_cmax \n",
    "    \n",
    "    # Max-min normalization for the front couloured distribution\n",
    "    norm_filter=np.copy(norm)\n",
    "    for i in range(len(norm_filter)):\n",
    "        if c_counts[i] != 0:\n",
    "            norm_filter[i]= cf_counts[i]*norm[i]/c_counts[i]\n",
    "\n",
    "            \n",
    "\n",
    "    temp=[]\n",
    "    for i in range(score_back.shape[0]):\n",
    "        for j in range(score_back.shape[1]):\n",
    "            if score_filter[i,j]==region_ext[1]:\n",
    "                temp.append(score_back[i,j])\n",
    "\n",
    "    temp=np.array(temp)\n",
    "\n",
    "    # Plot of coloured variants of MAVE using the score distribution of the computational analysis\n",
    "    counts_filter, bins2 = np.histogram(temp[~np.isnan(temp)],bins=bins)\n",
    "\n",
    "    # Fix the bins over the the limit plot region(b_min/b_max), to make them collapse into a single bin \n",
    "    # Extraction of the MAVE variants distribution of the region from the computational score .\n",
    "    cf_bins=np.copy(bins2)\n",
    "    cf_counts=np.copy(counts_filter)\n",
    "    i=0\n",
    "    temp_cmin=0\n",
    "    while i < len(cf_bins):\n",
    "\n",
    "        if cf_bins[i] > b_min:\n",
    "            cf_bins=np.delete(cf_bins,np.s_[0:i-1])\n",
    "            cf_counts=np.delete(cf_counts,np.s_[0:i-1])\n",
    "            break\n",
    "\n",
    "        temp_cmin+=cf_counts[i]\n",
    "        i+=1\n",
    "  \n",
    "    i=len(cf_bins)-1\n",
    "    temp_cmax=0\n",
    "    \n",
    "    while i >=0:\n",
    "\n",
    "        if cf_bins[i] <= b_max:\n",
    "            cf_bins=np.delete(cf_bins,np.s_[i+2:])\n",
    "            cf_counts=np.delete(cf_counts,np.s_[i+1:])\n",
    "            break\n",
    "            \n",
    "        temp_cmax+=cf_counts[i-1]\n",
    "        i-=1 \n",
    "\n",
    "    cf_counts[0]=temp_cmin\n",
    "    cf_counts[-1]=temp_cmax \n",
    "    \n",
    "    # Max-min normalization for the front couloured distribution\n",
    "    norm_filter2=np.copy(norm)\n",
    "    for i in range(len(norm_filter)):\n",
    "        if c_counts[i] != 0:\n",
    "            norm_filter2[i]= cf_counts[i]*norm[i]/c_counts[i]            \n",
    "            \n",
    "            \n",
    "            \n",
    "    # plot of front coloured distribution\n",
    "    ax.hist([c_bins[:-1],c_bins[:-1]],  c_bins, weights=[norm_filter,norm_filter2], color=color,stacked=True, edgecolor=\"black\",histtype='stepfilled')\n",
    "\n",
    "    ax.set_xlabel(label_x)\n",
    "    ax.set_ylabel('Normalized counts')\n",
    "    plt.grid(axis=\"y\",alpha=0.4,linestyle='--')"
   ]
  },
  {
   "cell_type": "code",
   "execution_count": 68,
   "metadata": {
    "tags": []
   },
   "outputs": [],
   "source": [
    "def classification_histogram_shadowed(score_back,score_filter,nbin,b_min,b_max,color,label_x,region_ext):\n",
    "    # Function for plot the MAVE coloured variants distribution using the computational scores\n",
    "    \n",
    "    mpl.rcParams['figure.figsize']=(6,3)    \n",
    "    mpl.rcParams['axes.axisbelow'] = True\n",
    "    mpl.rcParams['xtick.labelsize'] = 14\n",
    "    mpl.rcParams['ytick.labelsize'] = 14\n",
    "    mpl.rcParams['axes.labelsize']  = 15\n",
    "    \n",
    "    temp=np.copy(score_back)\n",
    "    \n",
    "    for i in range(score_back.shape[0]):\n",
    "        for j in range(score_back.shape[1]):\n",
    "            if np.isnan(score_filter[i,j]):\n",
    "                temp[i,j]=np.nan\n",
    "\n",
    "    #histogram data of the gray distribution on background\n",
    "    counts, bins = np.histogram(temp[~np.isnan(temp)],bins=nbin)\n",
    "    \n",
    "    c_bins=np.copy(bins)\n",
    "    c_counts=np.copy(counts)\n",
    "    i=0\n",
    "    temp_cmin=0\n",
    "\n",
    "    # Fix the bins over the the limit plot region(b_min/b_max), to make them collapse into a single bin \n",
    "    while i < len(c_bins):\n",
    "\n",
    "        if c_bins[i] > b_min:\n",
    "            c_bins=np.delete(c_bins,np.s_[0:i-1])\n",
    "            c_counts=np.delete(c_counts,np.s_[0:i-1])\n",
    "            break\n",
    "\n",
    "        temp_cmin+=counts[i]\n",
    "        i+=1\n",
    "  \n",
    "    i=len(c_bins)-1\n",
    "    temp_cmax=0\n",
    "    \n",
    "    while i >=0:\n",
    "\n",
    "        if c_bins[i] <= b_max:\n",
    "            c_bins=np.delete(c_bins,np.s_[i+2:])\n",
    "            c_counts=np.delete(c_counts,np.s_[i+1:])\n",
    "            break\n",
    "            \n",
    "        temp_cmax+=c_counts[i-1]\n",
    "        i-=1 \n",
    "        \n",
    "    c_counts[0]=temp_cmin\n",
    "    c_counts[-1]=temp_cmax \n",
    "    fig,ax=plt.subplots(1,1,figsize=(5,4),tight_layout=True)    \n",
    "    #max-min normalization for background scores\n",
    "    norm= (c_counts-np.min(c_counts))/(np.max(c_counts)-np.min(c_counts))\n",
    "\n",
    "    #plot background gray histogram\n",
    "    ax.hist(c_bins[:-1], c_bins, weights=norm, facecolor='gray', alpha=0.4,edgecolor=\"k\",histtype='stepfilled')\n",
    "    \n",
    "    temp=[]\n",
    "    for i in range(score_back.shape[0]):\n",
    "        for j in range(score_back.shape[1]):\n",
    "            if score_filter[i,j]==region_ext:\n",
    "                temp.append(score_back[i,j])\n",
    "\n",
    "    temp=np.array(temp)\n",
    "\n",
    "    # Plot of coloured variants of MAVE using the score distribution of the computational analysis\n",
    "    counts_filter, bins2 = np.histogram(temp[~np.isnan(temp)],bins=bins)\n",
    "\n",
    "    # Fix the bins over the the limit plot region(b_min/b_max), to make them collapse into a single bin \n",
    "    # Extraction of the MAVE variants distribution of the region from the computational score .\n",
    "    cf_bins=np.copy(bins2)\n",
    "    cf_counts=np.copy(counts_filter)\n",
    "    i=0\n",
    "    temp_cmin=0\n",
    "    while i < len(cf_bins):\n",
    "\n",
    "        if cf_bins[i] > b_min:\n",
    "            cf_bins=np.delete(cf_bins,np.s_[0:i-1])\n",
    "            cf_counts=np.delete(cf_counts,np.s_[0:i-1])\n",
    "            break\n",
    "\n",
    "        temp_cmin+=cf_counts[i]\n",
    "        i+=1\n",
    "  \n",
    "    i=len(cf_bins)-1\n",
    "    temp_cmax=0\n",
    "    \n",
    "    while i >=0:\n",
    "\n",
    "        if cf_bins[i] <= b_max:\n",
    "            cf_bins=np.delete(cf_bins,np.s_[i+2:])\n",
    "            cf_counts=np.delete(cf_counts,np.s_[i+1:])\n",
    "            break\n",
    "            \n",
    "        temp_cmax+=cf_counts[i-1]\n",
    "        i-=1 \n",
    "\n",
    "    cf_counts[0]=temp_cmin\n",
    "    cf_counts[-1]=temp_cmax \n",
    "    \n",
    "    # Max-min normalization for the front couloured distribution\n",
    "    norm_filter=np.copy(norm)\n",
    "    for i in range(len(norm_filter)):\n",
    "        if c_counts[i] != 0:\n",
    "            norm_filter[i]= cf_counts[i]*norm[i]/c_counts[i]\n",
    "            \n",
    "    # plot of front coloured distribution\n",
    "    ax.hist(c_bins[:-1], c_bins, weights=norm_filter, facecolor=color,stacked=True, edgecolor=\"black\",histtype='stepfilled')\n",
    "\n",
    "    ax.set_xlabel(label_x)\n",
    "    ax.set_ylabel('Normalized counts')\n",
    "    plt.grid(axis=\"y\",alpha=0.4,linestyle='--')"
   ]
  },
  {
   "cell_type": "markdown",
   "metadata": {},
   "source": [
    "### setup ML functions"
   ]
  },
  {
   "cell_type": "code",
   "execution_count": 69,
   "metadata": {
    "tags": []
   },
   "outputs": [],
   "source": [
    "def blosum62_score(WT,scores):\n",
    "    blosum_prot=np.empty((len(WT),20),dtype=float)\n",
    "    \n",
    "    for i in range(len(WT)):\n",
    "        for j in range(20):\n",
    "            blosum_prot[i,j]=scores[alphabetAA_L_D[WT[i]]-1,j]\n",
    "            \n",
    "    return blosum_prot"
   ]
  },
  {
   "cell_type": "code",
   "execution_count": 70,
   "metadata": {
    "tags": []
   },
   "outputs": [],
   "source": [
    "def secondary_structure_cat(pdb_loc,WT):\n",
    "    pdb=md.load(pdb_loc)\n",
    "    topology = pdb.topology\n",
    "    chainA = topology.select('chainid 0  and protein')\n",
    "    pdb_chainA= pdb.atom_slice(chainA)\n",
    "    \n",
    "    chainA_top=pdb_chainA.topology\n",
    "    \n",
    "    ss_labels=md.compute_dssp(pdb_chainA,simplified=False)\n",
    "\n",
    "    ss_ret_labels=np.empty(len(WT),dtype=float)\n",
    "    ss_ret_labels[:]=np.nan\n",
    "    \n",
    "    count=1\n",
    "    for j in range(len(WT)):\n",
    "        if WT[j]!='-':\n",
    "            for i in range(len(ss_labels[0,:])):\n",
    "                if count==int(str(chainA_top.residue(i))[3:]):\n",
    "                    ss_ret_labels[j]=AA_ddsp_number[ss_labels[0,i]]\n",
    "    \n",
    "    return ss_ret_labels\n",
    "    "
   ]
  },
  {
   "cell_type": "code",
   "execution_count": 71,
   "metadata": {
    "tags": []
   },
   "outputs": [],
   "source": [
    "def secondary_structure_cat_simp(pdb_loc,WT):\n",
    "    pdb=md.load(pdb_loc)\n",
    "    topology = pdb.topology\n",
    "    chainA = topology.select('chainid 0  and protein')\n",
    "    pdb_chainA= pdb.atom_slice(chainA)\n",
    "    \n",
    "    chainA_top=pdb_chainA.topology\n",
    "    \n",
    "    ss_labels=md.compute_dssp(pdb_chainA,simplified=True)\n",
    "\n",
    "    ss_ret_labels=np.empty(len(WT),dtype=float)\n",
    "    ss_ret_labels[:]=np.nan\n",
    "    count=1\n",
    "    for j in range(len(WT)):\n",
    "        if WT[j]!='-':\n",
    "            for i in range(len(ss_labels[0,:])):\n",
    "                if count==int(str(chainA_top.residue(i))[3:]):\n",
    "                    ss_ret_labels[j]=AA_ddsp_number_simp[ss_labels[0,i]]\n",
    "            count+=1\n",
    "    return ss_ret_labels\n",
    "    "
   ]
  },
  {
   "cell_type": "code",
   "execution_count": 72,
   "metadata": {},
   "outputs": [],
   "source": [
    "def WCN(pdb_loc,scheme_e,WT):\n",
    "    r0=7.0\n",
    "    pdb=md.load(pdb_loc)\n",
    "    topology=pdb.topology\n",
    "    chainA=topology.select('chainid 0 and protein')\n",
    "    pdb_chain0=pdb.atom_slice(chainA)\n",
    "    pdb_dist,pdb_rp=md.compute_contacts(pdb_chain0,scheme=scheme_e,periodic=False)\n",
    "    \n",
    "    cm= md.geometry.squareform(pdb_dist,pdb_rp)[0]\n",
    "    wcn=np.zeros((len(WT)),dtype=float)\n",
    "    \n",
    "    cm_adj=np.empty((len(WT),len(WT)),dtype=float)\n",
    "    cm_adj[:]=np.nan\n",
    "    chainA_top=pdb_chain0.topology\n",
    "    \n",
    "    for i in range(cm.shape[0]):\n",
    "        for j in range(cm.shape[1]):\n",
    "            cm_adj[int(str(chainA_top.residue(i))[3:])-1,int(str(chainA_top.residue(j))[3:])-1]=cm[i,j]\n",
    "    for i in range(len(WT)):\n",
    "        nan_flag=True\n",
    "        for j in range(len(WT)):\n",
    "            if np.isnan(cm_adj[i,j])!=True and cm_adj[i,j]!=0.0:\n",
    "                nan_flag=False\n",
    "                wcn[i]+=(1-(cm_adj[i,j]*10/r0)**6)/(1-(cm_adj[i,j]*10/r0)**12)\n",
    "        if nan_flag==True:\n",
    "            wcn[i]=np.nan\n",
    "            \n",
    "    wcn_reorder=np.empty((len(WT)),dtype=float)\n",
    "    wcn_reorder[:]=np.nan\n",
    "    count=0\n",
    "    for i in range(len(wcn_reorder)):\n",
    "        if WT[i]!='-':\n",
    "            wcn_reorder[i]=wcn[count]\n",
    "            count+=1\n",
    "    return wcn_reorder"
   ]
  },
  {
   "cell_type": "code",
   "execution_count": 73,
   "metadata": {},
   "outputs": [],
   "source": [
    "def neighbor_scores(score,ext_range):\n",
    "    score_neighborhood=np.zeros(len(score),dtype=float)\n",
    "    for i in range(len(score)):\n",
    "        if np.isnan(score[i])!=True:\n",
    "            count_nan=0\n",
    "            if i==0:\n",
    "                for j in range(1,ext_range+1):\n",
    "                    if np.isnan(score[j])==False:\n",
    "                        score_neighborhood[i]+=score[j]\n",
    "                    else:\n",
    "                        count_nan+=1\n",
    "                if count_nan!=ext_range:    \n",
    "                    score_neighborhood[i]/=(ext_range)\n",
    "                else:\n",
    "                    score_neighborhood[i]=np.nan\n",
    "\n",
    "            elif i==(len(score)-1):\n",
    "                for j in range(len(score)-1-ext_range,len(score)-1):\n",
    "                    if np.isnan(score[j])==False:\n",
    "                        score_neighborhood[i]+=score[j]\n",
    "                    else:\n",
    "                        count_nan+=1\n",
    "                if count_nan!=ext_range: \n",
    "                    score_neighborhood[i]/=ext_range\n",
    "                else:\n",
    "                    score_neighborhood[i]=np.nan                \n",
    "            elif i<ext_range:\n",
    "                for j in range(0,i+ext_range+1):\n",
    "                    if j!=i:\n",
    "                        if np.isnan(score[j])==False:\n",
    "                            score_neighborhood[i]+=score[j]\n",
    "                        else:\n",
    "                            count_nan+=1\n",
    "                if count_nan!=(i+ext_range):    \n",
    "                    score_neighborhood[i]/=(i+ext_range)\n",
    "                else:\n",
    "                    score_neighborhood[i]=np.nan                        \n",
    "\n",
    "            elif i>(len(score)-1-ext_range):\n",
    "                for j in range(i-ext_range,len(score)):\n",
    "                    if j!=i:\n",
    "                        if np.isnan(score[j])==False:\n",
    "                            score_neighborhood[i]+=score[j]\n",
    "                        else:\n",
    "                            count_nan+=1\n",
    "                if count_nan!=(len(score)-i+ext_range):                     \n",
    "                    score_neighborhood[i]/=(len(score)-i+ext_range)\n",
    "                else:\n",
    "                    score_neighborhood[i]=np.nan  \n",
    "            else:\n",
    "                for j in range(i-ext_range,i+ext_range+1):\n",
    "                    if j!=i:\n",
    "                        if np.isnan(score[j])==False:\n",
    "                            score_neighborhood[i]+=score[j]\n",
    "                        else:\n",
    "                            count_nan+=1\n",
    "                if count_nan!=(2*ext_range):  \n",
    "                    score_neighborhood[i]/=(2*ext_range)\n",
    "                else:\n",
    "                    score_neighborhood[i]=np.nan             \n",
    "        else:\n",
    "            score_neighborhood[i]=np.nan\n",
    "    return score_neighborhood"
   ]
  },
  {
   "cell_type": "code",
   "execution_count": 74,
   "metadata": {},
   "outputs": [],
   "source": [
    "def label_category(output,threshold):\n",
    "    labels=[]\n",
    "    if output.ndim==1:\n",
    "        labels=np.copy(output)\n",
    "        labels[:]=np.nan\n",
    "        for i in range(len(output)):\n",
    "            if output[i]<threshold:\n",
    "                labels[i]=0\n",
    "            else:\n",
    "                labels[i]=1\n",
    "    else:\n",
    "        labels=np.copy(output)\n",
    "        labels[:]=np.nan\n",
    "        for i in range(output.shape[0]):\n",
    "            for j in range(output.shape[1]):\n",
    "                if output[i,j]<threshold:\n",
    "                    labels[i,j]=1\n",
    "                else:\n",
    "                    labels[i,j]=0\n",
    "    return labels"
   ]
  },
  {
   "cell_type": "code",
   "execution_count": 75,
   "metadata": {},
   "outputs": [],
   "source": [
    "def features_classification(list_features_x,list_output_y,WT):\n",
    "    \n",
    "    X=[]\n",
    "    Y=[]\n",
    "    mapping_pos=[] \n",
    "    \n",
    "    for i in range(len(WT)):\n",
    "        for j in range(20):\n",
    "            if j!=(alphabetAA_L_D[WT[i]]-1):\n",
    "                temp_x=[]\n",
    "                temp_y=[]\n",
    "                cond=True\n",
    "\n",
    "                for elem in list_features_x:\n",
    "                    if elem.ndim==1:\n",
    "                        if np.isnan(elem[i])==True:\n",
    "                            cond=False\n",
    "                    else:\n",
    "                        if np.isnan(elem[i,j])==True:\n",
    "                            cond=False    \n",
    "                \n",
    "                for elem in list_output_y:\n",
    "                    if elem.ndim==1:\n",
    "                        if np.isnan(elem[i])==True:\n",
    "                            cond=False\n",
    "                    else:\n",
    "                        if np.isnan(elem[i,j])==True:\n",
    "                            cond=False \n",
    "\n",
    "                if cond==True:\n",
    "                    \n",
    "                    for elem in list_features_x:\n",
    "                        if elem.ndim==1:\n",
    "                            temp_x.append(elem[i])\n",
    "                        else:\n",
    "                            temp_x.append(elem[i,j])\n",
    "\n",
    "                    for elem in list_output_y:\n",
    "                        if elem.ndim==1:\n",
    "                            temp_y.append(elem[i])\n",
    "                        else:\n",
    "                            temp_y.append(elem[i,j])\n",
    "                    \n",
    "                if len(temp_x)>0:\n",
    "                    X.append(temp_x)\n",
    "                    Y.append(temp_y)\n",
    "                    mapping_pos.append([i,j])\n",
    "        \n",
    "    return np.array(X),Y,mapping_pos        "
   ]
  },
  {
   "cell_type": "code",
   "execution_count": 76,
   "metadata": {},
   "outputs": [],
   "source": [
    "def features_classification(list_features_x,list_output_y,WT):\n",
    "    \n",
    "    X=[]\n",
    "    Y=[]\n",
    "    mapping_pos=[] \n",
    "    \n",
    "    for i in range(len(WT)):\n",
    "        for j in range(20):\n",
    "            if j!=(alphabetAA_L_D[WT[i]]-1):\n",
    "                temp_x=[]\n",
    "                temp_y=[]\n",
    "                cond=True\n",
    "\n",
    "                for elem in list_features_x:\n",
    "                    if elem.ndim==1:\n",
    "                        if np.isnan(elem[i])==True:\n",
    "                            cond=False\n",
    "                    else:\n",
    "                        if np.isnan(elem[i,j])==True:\n",
    "                            cond=False    \n",
    "                \n",
    "                for elem in list_output_y:\n",
    "                    if elem.ndim==1:\n",
    "                        if np.isnan(elem[i])==True:\n",
    "                            cond=False\n",
    "                    else:\n",
    "                        if np.isnan(elem[i,j])==True:\n",
    "                            cond=False \n",
    "\n",
    "                if cond==True:\n",
    "                    \n",
    "                    for elem in list_features_x:\n",
    "                        if elem.ndim==1:\n",
    "                            temp_x.append(elem[i])\n",
    "                        else:\n",
    "                            temp_x.append(elem[i,j])\n",
    "\n",
    "                    for elem in list_output_y:\n",
    "                        if elem.ndim==1:\n",
    "                            temp_y.append(elem[i])\n",
    "                        else:\n",
    "                            temp_y.append(elem[i,j])\n",
    "                    \n",
    "                if len(temp_x)>0:\n",
    "                    X.append(temp_x)\n",
    "                    Y.append(temp_y)\n",
    "                    mapping_pos.append([i,j])\n",
    "        \n",
    "    return np.array(X),Y,mapping_pos        "
   ]
  },
  {
   "cell_type": "code",
   "execution_count": 77,
   "metadata": {},
   "outputs": [],
   "source": [
    "def features_validation(list_features_x,WT):\n",
    "    \n",
    "    X=[]\n",
    "    mapping_pos=[] \n",
    "    \n",
    "    for i in range(len(WT)):\n",
    "        for j in range(20):\n",
    "            if j!=(alphabetAA_L_D[WT[i]]-1):\n",
    "                temp_x=[]\n",
    "                temp_y=[]\n",
    "                cond=True\n",
    "\n",
    "                for elem in list_features_x:\n",
    "                    if elem.ndim==1:\n",
    "                        if np.isnan(elem[i])==True:\n",
    "                            cond=False\n",
    "                    else:\n",
    "                        if np.isnan(elem[i,j])==True:\n",
    "                            cond=False    \n",
    "            \n",
    "\n",
    "                if cond==True:\n",
    "                    \n",
    "                    for elem in list_features_x:\n",
    "                        if elem.ndim==1:\n",
    "                            temp_x.append(elem[i])\n",
    "                        else:\n",
    "                            temp_x.append(elem[i,j])\n",
    "                    \n",
    "                if len(temp_x)>0:\n",
    "                    X.append(temp_x)\n",
    "                    mapping_pos.append([i,j])\n",
    "        \n",
    "    return np.array(X),mapping_pos        "
   ]
  },
  {
   "cell_type": "code",
   "execution_count": 78,
   "metadata": {},
   "outputs": [],
   "source": [
    "def binary_threshold(data_x,data_y,t_x,t_y):\n",
    "    labels=np.copy(data_x)\n",
    "    labels[:]=np.nan\n",
    "    \n",
    "    for i in range(data_x.shape[0]):\n",
    "        for j in range(data_x.shape[1]):\n",
    "            if np.isnan(data_x[i,j])!= True and np.isnan(data_y[i,j])!=True:\n",
    "                if data_x[i,j] > t_x and data_y[i,j]<t_y:\n",
    "                    labels[i,j]=1\n",
    "                else:\n",
    "                    labels[i,j]=0\n",
    "    \n",
    "    return labels"
   ]
  },
  {
   "cell_type": "code",
   "execution_count": 79,
   "metadata": {},
   "outputs": [],
   "source": [
    "def multiclass_threshold(data_x,data_y,t_x,t_y):\n",
    "    labels=np.copy(data_x)\n",
    "    labels[:]=np.nan\n",
    "    \n",
    "    for i in range(data_x.shape[0]):\n",
    "        for j in range(data_x.shape[1]):\n",
    "            if np.isnan(data_x[i,j])!= True and np.isnan(data_y[i,j])!=True:\n",
    "                if data_x[i,j] > t_x and data_y[i,j]<t_y:\n",
    "                    labels[i,j]=1\n",
    "                elif data_x[i,j] < t_x and data_y[i,j]<t_y:\n",
    "                    labels[i,j]=2\n",
    "                elif data_x[i,j] < t_x and data_y[i,j]>t_y:\n",
    "                    labels[i,j]=3\n",
    "                else:\n",
    "                    labels[i,j]=0\n",
    "    \n",
    "    return labels"
   ]
  },
  {
   "cell_type": "code",
   "execution_count": 80,
   "metadata": {},
   "outputs": [],
   "source": [
    "def prob_to_label(probability,thr):\n",
    "    labels=np.zeros(probability.shape[0],dtype=int)\n",
    "    for i in range(probability.shape[0]):\n",
    "        if probability[i][1]>thr:\n",
    "            labels[i]=1\n",
    "            #print(1)\n",
    "        else:\n",
    "            labels[i]=0\n",
    "            #print(0)\n",
    "    return labels"
   ]
  },
  {
   "cell_type": "code",
   "execution_count": 81,
   "metadata": {},
   "outputs": [],
   "source": [
    "def AS_CA_distance(CA_coord,AS_pos,target):\n",
    "    AS_baricenter=np.zeros((3,1),dtype=float)\n",
    "    \n",
    "    for i in AS_pos:\n",
    "        if np.isnan(CA_coord[i-1,:]).any():\n",
    "            print(f'WARNING - no active site coordinates in pdb for position: {i}')\n",
    "        else:\n",
    "            AS_baricenter[0]+=CA_coord[i-1,0]\n",
    "            AS_baricenter[1]+=CA_coord[i-1,1]\n",
    "            AS_baricenter[2]+=CA_coord[i-1,2]\n",
    "        \n",
    "    AS_baricenter=AS_baricenter/len(AS_pos)\n",
    "\n",
    "    dist=0\n",
    "    \n",
    "    if np.isnan(CA_coord[target-1,:]).any():   \n",
    "        print(f'WARNING - no target coordinates in pdb for position: {i}')\n",
    "    else:\n",
    "        dist=sp.sqrt((AS_baricenter[0]-CA_coord[target-1,0])**2+(AS_baricenter[1]-CA_coord[target-1,1])**2+(AS_baricenter[2]-CA_coord[target-1,2])**2)\n",
    "    \n",
    "    return dist[0]"
   ]
  },
  {
   "cell_type": "code",
   "execution_count": 82,
   "metadata": {},
   "outputs": [],
   "source": [
    "def gauss(x,mu,sigma,A):\n",
    "    return A*sp.exp(-(x-mu)**2/2/sigma**2)\n",
    "\n",
    "def bimodal(x,mu1,sigma1,A1,mu2,sigma2,A2,mu3,sigma3,A3):\n",
    "    return gauss(x,mu1,sigma1,A1)+gauss(x,mu2,sigma2,A2)+gauss(x,mu3,sigma3,A3)\n",
    "\n",
    "def modal(x,mu1,sigma1,A1,mu2,sigma2,A2):\n",
    "    return gauss(x,mu1,sigma1,A1)+gauss(x,mu2,sigma2,A2)"
   ]
  },
  {
   "cell_type": "code",
   "execution_count": 83,
   "metadata": {
    "tags": []
   },
   "outputs": [],
   "source": [
    "def distribution_experiments(prediction,variant_map,WT,mave):\n",
    "    scores=np.empty((len(WT),20),dtype=float)\n",
    "    scores[:]=np.nan\n",
    "    \n",
    "    i=0\n",
    "    for cord in variant_map:\n",
    "        scores[cord[0],cord[1]]=prediction[i]\n",
    "        i+=1\n",
    "        \n",
    "    mave_overlap=np.copy(mave)\n",
    "    \n",
    "    for i in range(scores.shape[0]):\n",
    "        for j in range(scores.shape[1]):\n",
    "            if np.isnan(scores[i,j]):\n",
    "                mave_overlap[i,j]=np.nan\n",
    "    return scores,mave_overlap"
   ]
  },
  {
   "cell_type": "code",
   "execution_count": 50,
   "metadata": {},
   "outputs": [],
   "source": [
    "def print_accuracy_exp_predictions(mave_scores,pred_score,threshold,uo_tp, region_ext):\n",
    "    temp=[]\n",
    "    for i in range(mave_scores.shape[0]):\n",
    "        for j in range(mave_scores.shape[1]):\n",
    "            if pred_score[i,j]==region_ext:\n",
    "                temp.append(mave_scores[i,j])\n",
    "    temp=np.array(temp)\n",
    "    TP=0\n",
    "    FP=0\n",
    "\n",
    "    for i,n in enumerate(temp):\n",
    "        if not np.isnan(n):\n",
    "            if uo_tp=='under':\n",
    "                if n < threshold:\n",
    "                    TP+=1\n",
    "                else:\n",
    "                    FP+=1\n",
    "            if uo_tp=='over':\n",
    "                if n>= threshold:\n",
    "                    TP+=1\n",
    "                else:\n",
    "                    FP+=1\n",
    "    if (FP+TP)==0:\n",
    "        acc=np.nan\n",
    "    else:\n",
    "        acc=TP/(TP+FP)\n",
    "    print(region_ext,TP,FP,acc)\n",
    "    return [region_ext,TP,FP,acc]\n",
    "            "
   ]
  },
  {
   "cell_type": "markdown",
   "metadata": {
    "tags": []
   },
   "source": [
    "## Load trained model"
   ]
  },
  {
   "cell_type": "code",
   "execution_count": 30,
   "metadata": {
    "tags": []
   },
   "outputs": [],
   "source": [
    "cat=CatBoostClassifier(iterations=2500, random_strength= 1, depth= 7, l2_leaf_reg= 9, bagging_temperature= 2,verbose=0,class_weights={0:1,1:2,2:1,3:0.1})"
   ]
  },
  {
   "cell_type": "code",
   "execution_count": 31,
   "metadata": {
    "tags": []
   },
   "outputs": [
    {
     "data": {
      "text/plain": [
       "<catboost.core.CatBoostClassifier at 0x7fe930058290>"
      ]
     },
     "execution_count": 31,
     "metadata": {},
     "output_type": "execute_result"
    }
   ],
   "source": [
    "cat.load_model('../catboost_model/cat_trained_24jun22.cbm')"
   ]
  },
  {
   "cell_type": "markdown",
   "metadata": {
    "toc-hr-collapsed": true
   },
   "source": [
    "### P35520 - CBS"
   ]
  },
  {
   "cell_type": "code",
   "execution_count": 32,
   "metadata": {
    "tags": []
   },
   "outputs": [],
   "source": [
    "P35520_WT_sequence=\"MPSETPQAEVGPTGCPHRSGPHSAKGSLEKGSPEDKEAKEPLWIRPDAPSRCTWQLGRPASESPHHHTAPAKSPKILPDILKKIGDTPMVRINKIGKKFGLKCELLAKCEFFNAGGSVKDRISLRMIEDAERDGTLKPGDTIIEPTSGNTGIGLALAAAVRGYRCIIVMPEKMSSEKVDVLRALGAEIVRTPTNARFDSPESHVGVAWRLKNEIPNSHILDQYRNASNPLAHYDTTADEILQQCDGKLDMLVASVGTGGTITGIARKLKEKCPGCRIIGVDPEGSILAEPEELNQTEQTTYEVEGIGYDFIPTVLDRTVVDKWFKSNDEEAFTFARMLIAQEGLLCGGSAGSTVAVAVKAAQELQEGQRCVVILPDSVRNYMTKFLSDRWMLQKGFLKEEDLTEKKPWWWHLRVQELGLSAPLTVLPTITCGHTIEILREKGFDQAPVVDEAGVILGMVTLGNMLSSLLAGKVQPSDQVGKVIYKQFKQIRLTDTLGRLSHILEMDHFALVVHEQIQYHSTGKSSQRQMVFGVVTAIDLLNFVAAQERDQK\"\n",
    "P35520_WT_seq_rose=\"------------------------------------------WIRPDAPSRCTWQLGRPASESPHHHTAPAKSPKILPDILKKIGDTPMVRINKIGKKFGLKCELLAKCEFFNAGGSVKDRISLRMIEDAERDGTLKPGDTIIEPTSGNTGIGLALAAAVRGYRCIIVMPEKMSSEKVDVLRALGAEIVRTPTNARFDSPESHVGVAWRLKNEIPNSHILDQYRNASNPLAHYDTTADEILQQCDGKLDMLVASVGTGGTITGIARKLKEKCPGCRIIGVDPEGSILAEPEELNQTEQTTYEVEGIGYDFIPTVLDRTVVDKWFKSNDEEAFTFARMLIAQEGLLCGGSAGSTVAVAVKAAQELQEGQRCVVILPDSVRNYMTKFLSDRWMLQKGFLKEEDLTEKKPWWWHLRVQELGLSAPLTVLPTITCGHTIEILREKGFDQAPVVDEAGVILGMVTLGNMLSSLLAGKVQPSDQVGKVIYKQFKQIRLTDTLGRLSHILEMDHFALVVHEQ-------------MVFGVVTAIDLLNFVAAQER---\"\n",
    "P35520_WT_seq_mave=\"MPSETPQAEVGPTGCPHRSGPHSAKGSLEKGSPEDKEAKEPLWIRPDAPSRCTWQLGRPASESPHHHTAPAKSPKILPDILKKIGDTPMVRINKIGKKFGLKCELLAKCEFFNAGGSVKDRISLRMIEDAERDGTLKPGDTIIEPTSGNTGIGLALAAAVRGYRCIIVMPEKMSSEKVDVLRALGAEIVRTPTNARFDSPESHVGVAWRLKNEIPNSHILDQYRNASNPLAHYDTTADEILQQCDGKLDMLVASVGTGGTITGIARKLKEKCPGCRIIGVDPEGSILAEPEELNQTEQTTYEVEGIGYDFIPTVLDRTVVDKWFKSNDEEAFTFARMLIAQEGLLCGGSAGSTVAVAVKAAQELQEGQRCVVILPDSVRNYMTKFLSDRWMLQKGFLKEEDLTEKKPWWWHLRVQELGLSAPLTVLPTITCGHTIEILREKGFDQAPVVDEAGVILGMVTLGNMLSSLLAGKVQPSDQVGKVIYKQFKQIRLTDTLGRLSHILEMDHFALVVHEQIQYHSTGKSSQRQMVFGVVTAIDLLNFVAAQERDQK\""
   ]
  },
  {
   "cell_type": "code",
   "execution_count": 33,
   "metadata": {
    "tags": []
   },
   "outputs": [
    {
     "name": "stdout",
     "output_type": "stream",
     "text": [
      "551 0.8947368421052632\n"
     ]
    }
   ],
   "source": [
    "count=0\n",
    "for i in range(len(P35520_WT_sequence)):\n",
    "    if P35520_WT_sequence[i]==P35520_WT_seq_rose[i]:\n",
    "        count+=1\n",
    "print(len(P35520_WT_sequence),count/len(P35520_WT_seq_rose))"
   ]
  },
  {
   "cell_type": "markdown",
   "metadata": {},
   "source": [
    "#### Co-evolution"
   ]
  },
  {
   "cell_type": "code",
   "execution_count": 35,
   "metadata": {
    "tags": []
   },
   "outputs": [],
   "source": [
    "P35520_GEMME=load_data_V2('../scores_GEMME/prism_gemme_P35520.txt',P35520_WT_sequence)\n",
    "P35520_GEMME=remove_WT_score(P35520_GEMME,P35520_WT_sequence)"
   ]
  },
  {
   "cell_type": "code",
   "execution_count": 36,
   "metadata": {
    "tags": []
   },
   "outputs": [],
   "source": [
    "P35520_GEMME_mean=position_mean(P35520_GEMME)"
   ]
  },
  {
   "cell_type": "markdown",
   "metadata": {},
   "source": [
    "####  Rosetta ddG"
   ]
  },
  {
   "cell_type": "code",
   "execution_count": 37,
   "metadata": {
    "tags": []
   },
   "outputs": [],
   "source": [
    "P35520_rosetta_ddg=load_data_V2(\"../scores_rosetta/prism_rosetta_ddg_P35520.txt\",P35520_WT_seq_rose,0)\n",
    "P35520_rosetta_ddg=remove_WT_score(P35520_rosetta_ddg,P35520_WT_seq_rose)"
   ]
  },
  {
   "cell_type": "code",
   "execution_count": 38,
   "metadata": {
    "tags": []
   },
   "outputs": [],
   "source": [
    "P35520_rosetta_ddg_norm=normalize_cutoff(P35520_rosetta_ddg,0.0,5.0)"
   ]
  },
  {
   "cell_type": "code",
   "execution_count": 39,
   "metadata": {
    "tags": []
   },
   "outputs": [],
   "source": [
    "P35520_rosetta_ddg_mean=position_mean(P35520_rosetta_ddg_norm)"
   ]
  },
  {
   "cell_type": "code",
   "execution_count": 40,
   "metadata": {
    "tags": []
   },
   "outputs": [],
   "source": [
    "P35520_rosetta_ddg_mean_non=position_mean(P35520_rosetta_ddg)"
   ]
  },
  {
   "cell_type": "markdown",
   "metadata": {},
   "source": [
    "#### Hydrophobicity"
   ]
  },
  {
   "cell_type": "code",
   "execution_count": 41,
   "metadata": {
    "tags": []
   },
   "outputs": [],
   "source": [
    "P35520_hydrophobicity_mut=np.empty((len(P35520_WT_sequence),20),dtype=float)\n",
    "P35520_hydrophobicity_mut[:]=np.nan"
   ]
  },
  {
   "cell_type": "code",
   "execution_count": 42,
   "metadata": {
    "tags": []
   },
   "outputs": [],
   "source": [
    "for i in range(len(P35520_WT_sequence)):\n",
    "    for j in range(20):\n",
    "        P35520_hydrophobicity_mut[i,j]=AA_to_hydrophobicity_scores[alphabetAA_D_L[j+1]]"
   ]
  },
  {
   "cell_type": "markdown",
   "metadata": {},
   "source": [
    "#### WCN"
   ]
  },
  {
   "cell_type": "code",
   "execution_count": 44,
   "metadata": {
    "tags": []
   },
   "outputs": [],
   "source": [
    "P35520_wcn=WCN('../pdbs/P35520_4coo.pdb','ca',P35520_WT_sequence)"
   ]
  },
  {
   "cell_type": "markdown",
   "metadata": {},
   "source": [
    "#### Neighbor sequences scores:"
   ]
  },
  {
   "cell_type": "code",
   "execution_count": 84,
   "metadata": {
    "tags": []
   },
   "outputs": [],
   "source": [
    "P35520_rosetta_neigbor_scores=neighbor_scores(P35520_rosetta_ddg_mean,1)\n",
    "\n",
    "P35520_GEMME_neigbor_scores=neighbor_scores(P35520_GEMME_mean,1)"
   ]
  },
  {
   "cell_type": "markdown",
   "metadata": {},
   "source": [
    "#### MAVE score"
   ]
  },
  {
   "cell_type": "code",
   "execution_count": 86,
   "metadata": {
    "tags": []
   },
   "outputs": [],
   "source": [
    "P35520_functional_mave=load_data_V2('../score_maves/prism_mave_006_CBS_high_B6_activity.txt',P35520_WT_seq_mave)"
   ]
  },
  {
   "cell_type": "code",
   "execution_count": 87,
   "metadata": {
    "tags": []
   },
   "outputs": [
    {
     "data": {
      "text/plain": [
       "array([0.2629, 0.2677, 0.021 , 0.1446, 0.6003, 0.0021, 0.1432, 0.6866,\n",
       "       0.188 , 0.828 , 0.9791, 0.0834, 0.4233, 0.5084, 0.0314, 0.0125,\n",
       "       0.2323, 0.541 , 0.1653, 0.3472])"
      ]
     },
     "execution_count": 87,
     "metadata": {},
     "output_type": "execute_result"
    }
   ],
   "source": [
    "P35520_functional_mave[100,:]"
   ]
  },
  {
   "cell_type": "code",
   "execution_count": 88,
   "metadata": {
    "tags": []
   },
   "outputs": [
    {
     "name": "stdout",
     "output_type": "stream",
     "text": [
      "Wt-like variants: 10960  ( 1.0 )\n"
     ]
    },
    {
     "data": {
      "image/png": "[encoded data removed]",
      "text/plain": [
       "<Figure size 500x400 with 1 Axes>"
      ]
     },
     "metadata": {},
     "output_type": "display_data"
    }
   ],
   "source": [
    "fig,ax=plt.subplots(1,1,figsize=(5,4))\n",
    "score_histogram(P35520_functional_mave,50,'C0','mave score',True,-7.5)\n",
    "#plt.savefig('./Figures/P35520_CBS_MAVE_threshold_histogram.pdf')"
   ]
  },
  {
   "cell_type": "markdown",
   "metadata": {
    "toc-hr-collapsed": true
   },
   "source": [
    "### P62593 - BETA_ECOLX"
   ]
  },
  {
   "cell_type": "code",
   "execution_count": 89,
   "metadata": {
    "tags": []
   },
   "outputs": [],
   "source": [
    "BETA_WT_sequence=\"MSIQHFRVALIPFFAAFCLPVFAHPETLVKVKDAEDQLGARVGYIELDLNSGKILESFRPEERFPMMSTFKVLLCGAVLSRVDAGQEQLGRRIHYSQNDLVEYSPVTEKHLTDGMTVRELCSAAITMSDNTAANLLLTTIGGPKELTAFLHNMGDHVTRLDRWEPELNEAIPNDERDTTMPAAMATTLRKLLTGELLTLASRQQLIDWMEADKVAGPLLRSALPAGWFIADKSGAGERGSRGIIAALGPDGKPSRIVVIYTTGSQATMDERNRQIAEIGASLIKHW\"\n",
    "BETA_WT_seq_rose=\"-----------------------HPETLVKVKDAEDQLGARVGYIELDLNSGKILESFRPEERFPMMSTFKVLLCGAVLSRIDAGQEQLGRRIHYSQNDLVEYSPVTEKHLTDGMTVRELCSAAITMSDNTAANLLLTTIGGPKELTAFLHNMGDHVTRLDRWEPELNEAIPNDERDTTMPVAMATTLRKLLTGELLTLASRQQLIDWMEADKVAGPLLRSALPAGWFIADKSGAGERGSRGIIAALGPDGKPSRIVVIYTTGSQATMDERNRQIAEIGASLIKHW\"\n",
    "BETA_WT_seq_mave=\"MSIQHFRVALIPFFAAFCLPVFAHPETLVKVKDAEDQLGARVGYIELDLNSGKILESFRPEERFPMMSTFKVLLCGAVLSRVDAGQEQLGRRIHYSQNDLVEYSPVTEKHLTDGMTVRELCSAAITMSDNTAANLLLTTIGGPKELTAFLHNMGDHVTRLDRWEPELNEAIPNDERDTTMPAAMATTLRKLLTGELLTLASRQQLIDWMEADKVAGPLLRSALPAGWFIADKSGAGERGSRGIIAALGPDGKPSRIVVIYTTGSQATMDERNRQIAEIGASLIKHW\""
   ]
  },
  {
   "cell_type": "code",
   "execution_count": 90,
   "metadata": {
    "tags": []
   },
   "outputs": [
    {
     "name": "stdout",
     "output_type": "stream",
     "text": [
      "286 0.9125874125874126\n"
     ]
    }
   ],
   "source": [
    "count=0\n",
    "for i in range(len(BETA_WT_sequence)):\n",
    "    if BETA_WT_sequence[i]==BETA_WT_seq_rose[i]:\n",
    "        count+=1\n",
    "print(len(BETA_WT_sequence),count/len(BETA_WT_seq_rose))"
   ]
  },
  {
   "cell_type": "markdown",
   "metadata": {},
   "source": [
    "#### BETA active site"
   ]
  },
  {
   "cell_type": "code",
   "execution_count": 91,
   "metadata": {
    "tags": []
   },
   "outputs": [],
   "source": [
    "BETA_db_positions=[68,71,128,164,232,235]"
   ]
  },
  {
   "cell_type": "code",
   "execution_count": 92,
   "metadata": {
    "tags": []
   },
   "outputs": [],
   "source": [
    "BETA_db_ligand_positions=[68,128,233,234,242]"
   ]
  },
  {
   "cell_type": "markdown",
   "metadata": {},
   "source": [
    "#### Co-evolution"
   ]
  },
  {
   "cell_type": "code",
   "execution_count": 94,
   "metadata": {
    "tags": []
   },
   "outputs": [],
   "source": [
    "BETA_GEMME=load_data_V2('../scores_GEMME/prism_gemme_P62593.txt',BETA_WT_sequence)\n",
    "BETA_GEMME=remove_WT_score(BETA_GEMME,BETA_WT_sequence)"
   ]
  },
  {
   "cell_type": "code",
   "execution_count": 95,
   "metadata": {
    "tags": []
   },
   "outputs": [],
   "source": [
    "BETA_GEMME_mean=position_mean(BETA_GEMME)"
   ]
  },
  {
   "cell_type": "markdown",
   "metadata": {},
   "source": [
    "####  Rosetta ddG"
   ]
  },
  {
   "cell_type": "code",
   "execution_count": 97,
   "metadata": {
    "tags": []
   },
   "outputs": [],
   "source": [
    "BETA_rosetta_ddg=load_data_V2(\"../scores_rosetta/prism_rosetta_ddg_P62593.txt\",BETA_WT_seq_rose,0)\n",
    "BETA_rosetta_ddg=remove_WT_score(BETA_rosetta_ddg,BETA_WT_seq_rose)"
   ]
  },
  {
   "cell_type": "code",
   "execution_count": 98,
   "metadata": {
    "tags": []
   },
   "outputs": [],
   "source": [
    "BETA_rosetta_ddg_norm=normalize_cutoff(BETA_rosetta_ddg,0.0,5.0)"
   ]
  },
  {
   "cell_type": "code",
   "execution_count": 99,
   "metadata": {
    "tags": []
   },
   "outputs": [],
   "source": [
    "BETA_rosetta_ddg_mean=position_mean(BETA_rosetta_ddg_norm)"
   ]
  },
  {
   "cell_type": "markdown",
   "metadata": {},
   "source": [
    "#### Hydrophobicity"
   ]
  },
  {
   "cell_type": "code",
   "execution_count": 100,
   "metadata": {
    "tags": []
   },
   "outputs": [],
   "source": [
    "BETA_hydrophobicity_mut=np.empty((len(BETA_WT_sequence),20),dtype=float)\n",
    "BETA_hydrophobicity_mut[:]=np.nan"
   ]
  },
  {
   "cell_type": "code",
   "execution_count": 103,
   "metadata": {
    "tags": []
   },
   "outputs": [],
   "source": [
    "for i in range(len(BETA_WT_sequence)):\n",
    "    for j in range(20):\n",
    "        BETA_hydrophobicity_mut[i,j]=AA_to_hydrophobicity_scores[alphabetAA_D_L[j+1]]"
   ]
  },
  {
   "cell_type": "markdown",
   "metadata": {},
   "source": [
    "#### WCN"
   ]
  },
  {
   "cell_type": "code",
   "execution_count": 104,
   "metadata": {
    "tags": []
   },
   "outputs": [],
   "source": [
    "BETA_wcn=WCN('../pdbs/P62593_1btl.pdb','ca',BETA_WT_sequence)"
   ]
  },
  {
   "cell_type": "markdown",
   "metadata": {},
   "source": [
    "#### Neighbor sequences scores:"
   ]
  },
  {
   "cell_type": "code",
   "execution_count": 105,
   "metadata": {
    "tags": []
   },
   "outputs": [],
   "source": [
    "BETA_rosetta_neigbor_scores=neighbor_scores(BETA_rosetta_ddg_mean,1)\n",
    "\n",
    "BETA_GEMME_neigbor_scores=neighbor_scores(BETA_GEMME_mean,1)"
   ]
  },
  {
   "cell_type": "markdown",
   "metadata": {},
   "source": [
    "#### MAVE score"
   ]
  },
  {
   "cell_type": "code",
   "execution_count": 107,
   "metadata": {
    "tags": []
   },
   "outputs": [],
   "source": [
    "BETA_functional_mave=load_data_V2('../score_maves/prism_mave_999_bla_DMS_d.txt',BETA_WT_seq_mave)"
   ]
  },
  {
   "cell_type": "code",
   "execution_count": 108,
   "metadata": {
    "tags": []
   },
   "outputs": [],
   "source": [
    "y,x,_=plt.hist(BETA_functional_mave[~np.isnan(BETA_functional_mave)],50,alpha=.3,label='data')\n",
    "\n",
    "x=(x[1:]+x[:-1])/2 # for len(x)==len(y)\n",
    "\n",
    "expected=(-6,0.2,600,-5,1,100,-1,2,300)\n",
    "params,cov=curve_fit(bimodal,x,y,p0=expected)\n",
    "sigma=sp.sqrt(sp.diag(cov))\n",
    "plt.close()"
   ]
  },
  {
   "cell_type": "code",
   "execution_count": 109,
   "metadata": {
    "tags": []
   },
   "outputs": [
    {
     "name": "stdout",
     "output_type": "stream",
     "text": [
      "             params         sigma\n",
      "mu1       -6.012733  3.910306e+02\n",
      "sigma1     0.053966  4.034390e+02\n",
      "A1      1477.469385  2.916395e+07\n",
      "mu2       -5.747106  5.002071e-01\n",
      "sigma2     0.940753  2.895695e-01\n",
      "A2       209.188951  4.102286e+01\n",
      "mu3       -1.132100  1.010380e-01\n",
      "sigma3     1.289492  1.100315e-01\n",
      "A3       133.909786  8.666923e+00\n"
     ]
    }
   ],
   "source": [
    "gaus_fit_params=pd.DataFrame(data={'params':params,'sigma':sigma},index=bimodal.__code__.co_varnames[1:])\n",
    "print(gaus_fit_params)"
   ]
  },
  {
   "cell_type": "code",
   "execution_count": 111,
   "metadata": {
    "tags": []
   },
   "outputs": [
    {
     "data": {
      "text/plain": [
       "<matplotlib.legend.Legend at 0x7fe9281454d0>"
      ]
     },
     "execution_count": 111,
     "metadata": {},
     "output_type": "execute_result"
    },
    {
     "data": {
      "image/png": "[encoded data removed]",
      "text/plain": [
       "<Figure size 500x400 with 1 Axes>"
      ]
     },
     "metadata": {},
     "output_type": "display_data"
    }
   ],
   "source": [
    "fig,ax=plt.subplots(1,1,figsize=(5,4),tight_layout=True)\n",
    "ax.hist(BETA_functional_mave[~np.isnan(BETA_functional_mave)],100,alpha=.1,label='data')\n",
    "\n",
    "ax.plot(x,gauss(x,gaus_fit_params.iloc[3,0],gaus_fit_params.iloc[4,0],gaus_fit_params.iloc[5,0]),color='black',zorder=3,ls='--')\n",
    "ax.fill_between(x,gauss(x,gaus_fit_params.iloc[0,0],gaus_fit_params.iloc[1,0],gaus_fit_params.iloc[2,0]),color='#D55C00',zorder=2)\n",
    "ax.fill_between(x,gauss(x,gaus_fit_params.iloc[6,0],gaus_fit_params.iloc[7,0],gaus_fit_params.iloc[8,0]),color='#009E74',zorder=2)\n",
    "ax.plot(x,bimodal(x,*params),color='black',lw=2.5)\n",
    "y_size=[0,1000]\n",
    "vert_line = np.array( [-4 for i in range(len(y_size))])\n",
    "ax.plot(vert_line,y_size, 'r--', label='regions threshold',color='#cc0000',lw=2)\n",
    "ax.set_xlabel(\"MAVE score [a.u]\")\n",
    "ax.set_ylabel(\"counts\")\n",
    "ax.set_ylim(0,1000)\n",
    "ax.legend()\n",
    "#plt.savefig('./Figures/P62593_BETA_MAVE_threshold_histogram.pdf')"
   ]
  },
  {
   "cell_type": "markdown",
   "metadata": {
    "toc-hr-collapsed": true
   },
   "source": [
    "### P04386 - GAL4"
   ]
  },
  {
   "cell_type": "code",
   "execution_count": 112,
   "metadata": {
    "tags": []
   },
   "outputs": [],
   "source": [
    "P04386_WT_sequence=\"MKLLSSIEQACDICRLKKLKCSKEKPKCAKCLKNNWECRYSPKTKRSPLTRAHLTEVESRLERLEQLFLLIFPREDLDMILKMDSLQDIKALLTGL\"\n",
    "P04386_WT_seq_rose=\"-------EQACDICRLKKLKCSKEKPKCAKCLKNNWECRYSPKTKRSPLTRAHLTEVESRLERLEQLFLLIFPREDLDMILKMDSLQDIKALLTGL\"\n",
    "P04386_WT_seq_mave=\"-KLLSSIEQACDICRLKKLKCSKEKPKCAKCLKNNWECRYSPKTKRSPLTRAHLTEVESRLERLE-------------------------------\""
   ]
  },
  {
   "cell_type": "code",
   "execution_count": 113,
   "metadata": {
    "tags": []
   },
   "outputs": [
    {
     "name": "stdout",
     "output_type": "stream",
     "text": [
      "96 0.9270833333333334\n"
     ]
    }
   ],
   "source": [
    "count=0\n",
    "for i in range(len(P04386_WT_sequence)):\n",
    "    if P04386_WT_sequence[i]==P04386_WT_seq_rose[i]:\n",
    "        count+=1\n",
    "print(len(P04386_WT_sequence),count/len(P04386_WT_seq_rose))"
   ]
  },
  {
   "cell_type": "markdown",
   "metadata": {},
   "source": [
    "#### Co-evolution"
   ]
  },
  {
   "cell_type": "code",
   "execution_count": 115,
   "metadata": {
    "tags": []
   },
   "outputs": [],
   "source": [
    "P04386_GEMME=load_data_V2('../scores_GEMME/prism_gemme_P04386.txt',P04386_WT_sequence)\n",
    "P04386_GEMME=remove_WT_score(P04386_GEMME,P04386_WT_sequence)"
   ]
  },
  {
   "cell_type": "code",
   "execution_count": 116,
   "metadata": {
    "tags": []
   },
   "outputs": [],
   "source": [
    "P04386_GEMME_mean=position_mean(P04386_GEMME)"
   ]
  },
  {
   "cell_type": "markdown",
   "metadata": {},
   "source": [
    "####  Rosetta ddG"
   ]
  },
  {
   "cell_type": "code",
   "execution_count": 118,
   "metadata": {
    "tags": []
   },
   "outputs": [],
   "source": [
    "P04386_rosetta_ddg=load_data_V2(\"../scores_rosetta/prism_rosetta_ddg_P04386.txt\",P04386_WT_seq_rose,0)\n",
    "P04386_rosetta_ddg=remove_WT_score(P04386_rosetta_ddg,P04386_WT_seq_rose)"
   ]
  },
  {
   "cell_type": "code",
   "execution_count": 119,
   "metadata": {
    "tags": []
   },
   "outputs": [],
   "source": [
    "P04386_rosetta_ddg_norm=normalize_cutoff(P04386_rosetta_ddg,0.0,5.0)"
   ]
  },
  {
   "cell_type": "code",
   "execution_count": 120,
   "metadata": {
    "tags": []
   },
   "outputs": [],
   "source": [
    "P04386_rosetta_ddg_mean=position_mean(P04386_rosetta_ddg_norm)"
   ]
  },
  {
   "cell_type": "code",
   "execution_count": 121,
   "metadata": {
    "tags": []
   },
   "outputs": [],
   "source": [
    "P04386_rosetta_ddg_mean_non=position_mean(P04386_rosetta_ddg)"
   ]
  },
  {
   "cell_type": "markdown",
   "metadata": {},
   "source": [
    "#### Hydrophobicity"
   ]
  },
  {
   "cell_type": "code",
   "execution_count": 122,
   "metadata": {
    "tags": []
   },
   "outputs": [],
   "source": [
    "P04386_hydrophobicity_mut=np.empty((len(P04386_WT_sequence),20),dtype=float)\n",
    "P04386_hydrophobicity_mut[:]=np.nan"
   ]
  },
  {
   "cell_type": "code",
   "execution_count": 123,
   "metadata": {
    "tags": []
   },
   "outputs": [],
   "source": [
    "for i in range(len(P04386_WT_sequence)):\n",
    "    for j in range(20):\n",
    "        P04386_hydrophobicity_mut[i,j]=AA_to_hydrophobicity_scores[alphabetAA_D_L[j+1]]"
   ]
  },
  {
   "cell_type": "markdown",
   "metadata": {},
   "source": [
    "#### WCN"
   ]
  },
  {
   "cell_type": "code",
   "execution_count": 125,
   "metadata": {
    "tags": []
   },
   "outputs": [],
   "source": [
    "P04386_wcn=WCN('../pdbs/P04386_3coq.pdb','ca',P04386_WT_sequence)"
   ]
  },
  {
   "cell_type": "markdown",
   "metadata": {},
   "source": [
    "#### Neighbor sequences scores:"
   ]
  },
  {
   "cell_type": "code",
   "execution_count": 126,
   "metadata": {
    "tags": []
   },
   "outputs": [],
   "source": [
    "P04386_rosetta_neigbor_scores=neighbor_scores(P04386_rosetta_ddg_mean,1)\n",
    "\n",
    "P04386_GEMME_neigbor_scores=neighbor_scores(P04386_GEMME_mean,1)"
   ]
  },
  {
   "cell_type": "markdown",
   "metadata": {},
   "source": [
    "#### MAVE score"
   ]
  },
  {
   "cell_type": "code",
   "execution_count": 135,
   "metadata": {
    "tags": []
   },
   "outputs": [],
   "source": [
    "P04386_functional_mave=load_data_V2('../score_maves/prism_mave_017_GAL4_histidinefree_growth_3_sel_a_40h.txt',P04386_WT_seq_mave)"
   ]
  },
  {
   "cell_type": "code",
   "execution_count": 136,
   "metadata": {
    "tags": []
   },
   "outputs": [],
   "source": [
    "y,x,_=plt.hist(P04386_functional_mave[~np.isnan(P04386_functional_mave)],100,alpha=.3,label='data')\n",
    "\n",
    "x=(x[1:]+x[:-1])/2 # for len(x)==len(y)\n",
    "\n",
    "expected=(-12,1,20,-5,2,30,0,1,50)\n",
    "params,cov=curve_fit(bimodal,x,y,p0=expected)\n",
    "sigma=sp.sqrt(sp.diag(cov))\n",
    "plt.close()"
   ]
  },
  {
   "cell_type": "code",
   "execution_count": 137,
   "metadata": {
    "tags": []
   },
   "outputs": [
    {
     "name": "stdout",
     "output_type": "stream",
     "text": [
      "           params     sigma\n",
      "mu1    -11.813266  0.135634\n",
      "sigma1   1.151446  0.141683\n",
      "A1      13.693963  1.381671\n",
      "mu2     -3.629838  0.305086\n",
      "sigma2   2.329207  0.307624\n",
      "A2      15.508334  1.000889\n",
      "mu3     -0.066542  0.039705\n",
      "sigma3   0.713193  0.054216\n",
      "A3      38.528404  2.511162\n"
     ]
    }
   ],
   "source": [
    "gaus_fit_params=pd.DataFrame(data={'params':params,'sigma':sigma},index=bimodal.__code__.co_varnames[1:])\n",
    "print(gaus_fit_params)"
   ]
  },
  {
   "cell_type": "code",
   "execution_count": 139,
   "metadata": {
    "tags": []
   },
   "outputs": [
    {
     "data": {
      "text/plain": [
       "<matplotlib.legend.Legend at 0x7fe971a9c450>"
      ]
     },
     "execution_count": 139,
     "metadata": {},
     "output_type": "execute_result"
    },
    {
     "data": {
      "image/png": "[encoded data removed]",
      "text/plain": [
       "<Figure size 500x400 with 1 Axes>"
      ]
     },
     "metadata": {},
     "output_type": "display_data"
    }
   ],
   "source": [
    "fig,ax=plt.subplots(1,1,figsize=(5,4),tight_layout=True)\n",
    "ax.hist(P04386_functional_mave[~np.isnan(P04386_functional_mave)],100,alpha=.1,label='data')\n",
    "\n",
    "ax.plot(x,gauss(x,gaus_fit_params.iloc[3,0],gaus_fit_params.iloc[4,0],gaus_fit_params.iloc[5,0]),color='black',zorder=3,ls='--')\n",
    "ax.fill_between(x,gauss(x,gaus_fit_params.iloc[0,0],gaus_fit_params.iloc[1,0],gaus_fit_params.iloc[2,0]),color='#D55C00',zorder=2)\n",
    "ax.fill_between(x,gauss(x,gaus_fit_params.iloc[6,0],gaus_fit_params.iloc[7,0],gaus_fit_params.iloc[8,0]),color='#009E74',zorder=2)\n",
    "ax.plot(x,bimodal(x,*params),color='black',lw=2.5)\n",
    "\n",
    "y_size=[0,70]\n",
    "vert_line = np.array( [-4 for i in range(len(y_size))])\n",
    "ax.plot(vert_line,y_size, 'r--', label='regions threshold',color='#cc0000',lw=2)\n",
    "ax.set_xlabel(\"MAVE score [a.u]\")\n",
    "ax.set_ylabel(\"counts\")\n",
    "ax.set_ylim(0,70)\n",
    "ax.legend()\n",
    "#plt.savefig('./Figures/P04386_GAL4_MAVE_threshold_histogram.pdf')"
   ]
  },
  {
   "cell_type": "markdown",
   "metadata": {
    "toc-hr-collapsed": true
   },
   "source": [
    "### P63165 - SUMO1"
   ]
  },
  {
   "cell_type": "code",
   "execution_count": 141,
   "metadata": {
    "tags": []
   },
   "outputs": [],
   "source": [
    "P63165_WT_sequence=\"MSDQEAKPSTEDLGDKKEGEYIKLKVIGQDSSEIHFKVKMTTHLKKLKESYCQRQGVPMNSLRFLFEGQRIADNHTPKELGMEEEDVIEVYQEQTGGHSTV\"\n",
    "P63165_WT_seq_rose=\"------------------GEYIKLKVIGQDSSEIHFKVKMTTHLKKLKESYCQRQGVPMNSLRFLFEGQRIADNHTPKELGMEEEDVIEVYQEQTGG----\"\n",
    "P63165_WT_seq_mave=\"MSDQEAKPSTEDLGDKKEGEYIKLKVIGQDSSEIHFKVKMTTHLKKLKESYCQRQGVPMNSLRFLFEGQRIADNHTPKELGMEEEDVIEVYQEQTGGHSTV\""
   ]
  },
  {
   "cell_type": "code",
   "execution_count": 142,
   "metadata": {
    "tags": []
   },
   "outputs": [
    {
     "name": "stdout",
     "output_type": "stream",
     "text": [
      "101 0.7821782178217822\n"
     ]
    }
   ],
   "source": [
    "count=0\n",
    "for i in range(len(P63165_WT_sequence)):\n",
    "    if P63165_WT_sequence[i]==P63165_WT_seq_rose[i]:\n",
    "        count+=1\n",
    "print(len(P63165_WT_sequence),count/len(P63165_WT_seq_rose))"
   ]
  },
  {
   "cell_type": "markdown",
   "metadata": {},
   "source": [
    "#### Co-evolution"
   ]
  },
  {
   "cell_type": "code",
   "execution_count": 144,
   "metadata": {
    "tags": []
   },
   "outputs": [],
   "source": [
    "P63165_GEMME=load_data_V2('../scores_GEMME/prism_gemme_P63165.txt',P63165_WT_sequence)\n",
    "P63165_GEMME=remove_WT_score(P63165_GEMME,P63165_WT_sequence)"
   ]
  },
  {
   "cell_type": "code",
   "execution_count": 145,
   "metadata": {
    "tags": []
   },
   "outputs": [],
   "source": [
    "P63165_GEMME_mean=position_mean(P63165_GEMME)"
   ]
  },
  {
   "cell_type": "markdown",
   "metadata": {},
   "source": [
    "####  Rosetta ddG"
   ]
  },
  {
   "cell_type": "code",
   "execution_count": 146,
   "metadata": {
    "tags": []
   },
   "outputs": [],
   "source": [
    "P63165_rosetta_ddg=load_data_V2(\"../scores_rosetta/prism_rosetta_ddg_P63165.txt\",P63165_WT_seq_rose,0)\n",
    "P63165_rosetta_ddg=remove_WT_score(P63165_rosetta_ddg,P63165_WT_seq_rose)"
   ]
  },
  {
   "cell_type": "code",
   "execution_count": 148,
   "metadata": {
    "tags": []
   },
   "outputs": [],
   "source": [
    "P63165_rosetta_ddg_norm=normalize_cutoff(P63165_rosetta_ddg,0.0,5.0)"
   ]
  },
  {
   "cell_type": "code",
   "execution_count": 149,
   "metadata": {
    "tags": []
   },
   "outputs": [],
   "source": [
    "P63165_rosetta_ddg_mean=position_mean(P63165_rosetta_ddg_norm)"
   ]
  },
  {
   "cell_type": "code",
   "execution_count": 150,
   "metadata": {
    "tags": []
   },
   "outputs": [],
   "source": [
    "P63165_rosetta_ddg_mean_non=position_mean(P63165_rosetta_ddg)"
   ]
  },
  {
   "cell_type": "markdown",
   "metadata": {},
   "source": [
    "#### Hydrophobicity"
   ]
  },
  {
   "cell_type": "code",
   "execution_count": 151,
   "metadata": {
    "tags": []
   },
   "outputs": [],
   "source": [
    "P63165_hydrophobicity_mut=np.empty((len(P63165_WT_sequence),20),dtype=float)\n",
    "P63165_hydrophobicity_mut[:]=np.nan"
   ]
  },
  {
   "cell_type": "code",
   "execution_count": 152,
   "metadata": {
    "tags": []
   },
   "outputs": [],
   "source": [
    "for i in range(len(P63165_WT_sequence)):\n",
    "    for j in range(20):\n",
    "        P63165_hydrophobicity_mut[i,j]=AA_to_hydrophobicity_scores[alphabetAA_D_L[j+1]]"
   ]
  },
  {
   "cell_type": "markdown",
   "metadata": {},
   "source": [
    "#### WCN"
   ]
  },
  {
   "cell_type": "code",
   "execution_count": 154,
   "metadata": {
    "tags": []
   },
   "outputs": [],
   "source": [
    "P63165_wcn=WCN('../pdbs/P63165_1wyw.pdb','ca',P63165_WT_sequence)"
   ]
  },
  {
   "cell_type": "markdown",
   "metadata": {},
   "source": [
    "#### Neighbor sequences scores:"
   ]
  },
  {
   "cell_type": "code",
   "execution_count": 155,
   "metadata": {
    "tags": []
   },
   "outputs": [],
   "source": [
    "P63165_rosetta_neigbor_scores=neighbor_scores(P63165_rosetta_ddg_mean,1)\n",
    "\n",
    "P63165_GEMME_neigbor_scores=neighbor_scores(P63165_GEMME_mean,1)"
   ]
  },
  {
   "cell_type": "markdown",
   "metadata": {},
   "source": [
    "#### MAVE score"
   ]
  },
  {
   "cell_type": "code",
   "execution_count": 156,
   "metadata": {
    "tags": []
   },
   "outputs": [],
   "source": [
    "P63165_functional_mave=load_data_V2('../score_maves/prism_mave_009_SUMO1_growth_abundance.txt',P63165_WT_seq_mave)"
   ]
  },
  {
   "cell_type": "code",
   "execution_count": 158,
   "metadata": {
    "tags": []
   },
   "outputs": [
    {
     "name": "stdout",
     "output_type": "stream",
     "text": [
      "Wt-like variants: 1801  ( 1.0 )\n"
     ]
    },
    {
     "data": {
      "image/png": "[encoded data removed]",
      "text/plain": [
       "<Figure size 500x400 with 1 Axes>"
      ]
     },
     "metadata": {},
     "output_type": "display_data"
    }
   ],
   "source": [
    "fig,ax=plt.subplots(1,1,figsize=(5,4))\n",
    "score_histogram(P63165_functional_mave,50,'C0','mave score',True,-7.5)\n",
    "#plt.savefig('./Figures/P35520_CBS_MAVE_threshold_histogram.pdf')"
   ]
  },
  {
   "cell_type": "code",
   "execution_count": 159,
   "metadata": {
    "tags": []
   },
   "outputs": [],
   "source": [
    "y,x,_=plt.hist(P63165_functional_mave[~np.isnan(P63165_functional_mave)],100,alpha=.3,label='data')\n",
    "\n",
    "x=(x[1:]+x[:-1])/2 # for len(x)==len(y)\n",
    "\n",
    "expected=(0.0,0.2,60,0.7,0.2,100,1.0,0.05,60)\n",
    "params,cov=curve_fit(bimodal,x,y,p0=expected)\n",
    "sigma=sp.sqrt(sp.diag(cov))\n",
    "plt.close()"
   ]
  },
  {
   "cell_type": "code",
   "execution_count": 160,
   "metadata": {
    "tags": []
   },
   "outputs": [
    {
     "name": "stdout",
     "output_type": "stream",
     "text": [
      "            params         sigma\n",
      "mu1       0.030635  7.205831e-03\n",
      "sigma1    0.138724  7.284104e-03\n",
      "A1       39.353446  1.517557e+00\n",
      "mu2       0.651066  7.965585e-03\n",
      "sigma2    0.219651  9.304924e-03\n",
      "A2       44.535523  1.251221e+00\n",
      "mu3       0.989664  2.508318e+01\n",
      "sigma3    0.005441  2.059856e+01\n",
      "A3      307.599684  4.672256e+06\n"
     ]
    }
   ],
   "source": [
    "gaus_fit_params=pd.DataFrame(data={'params':params,'sigma':sigma},index=bimodal.__code__.co_varnames[1:])\n",
    "print(gaus_fit_params)"
   ]
  },
  {
   "cell_type": "code",
   "execution_count": 161,
   "metadata": {
    "tags": []
   },
   "outputs": [
    {
     "data": {
      "text/plain": [
       "<matplotlib.legend.Legend at 0x7fe961403fd0>"
      ]
     },
     "execution_count": 161,
     "metadata": {},
     "output_type": "execute_result"
    },
    {
     "data": {
      "image/png": "[encoded data removed]",
      "text/plain": [
       "<Figure size 500x400 with 1 Axes>"
      ]
     },
     "metadata": {},
     "output_type": "display_data"
    }
   ],
   "source": [
    "fig,ax=plt.subplots(1,1,figsize=(5,4),tight_layout=True)\n",
    "ax.hist(P63165_functional_mave[~np.isnan(P63165_functional_mave)],100,alpha=.1,label='data')\n",
    "\n",
    "ax.plot(x,gauss(x,gaus_fit_params.iloc[3,0],gaus_fit_params.iloc[4,0],gaus_fit_params.iloc[5,0]),color='black',zorder=3,ls='--')\n",
    "ax.fill_between(x,gauss(x,gaus_fit_params.iloc[0,0],gaus_fit_params.iloc[1,0],gaus_fit_params.iloc[2,0]),color='#D55C00',zorder=2)\n",
    "ax.fill_between(x,gauss(x,gaus_fit_params.iloc[6,0],gaus_fit_params.iloc[7,0],gaus_fit_params.iloc[8,0]),color='#009E74',zorder=2)\n",
    "ax.plot(x,bimodal(x,*params),color='black',lw=2.5)\n",
    "\n",
    "y_size=[0,175]\n",
    "vert_line = np.array( [0.55 for i in range(len(y_size))])\n",
    "ax.plot(vert_line,y_size, 'r--', label='regions threshold',color='#cc0000',lw=2)\n",
    "ax.set_xlabel(\"MAVE score [a.u]\")\n",
    "ax.set_ylabel(\"counts\")\n",
    "ax.set_ylim(0,175)\n",
    "ax.legend()\n",
    "#plt.savefig('./Figures/P63165_SUMO1_MAVE_threshold_histogram.pdf')"
   ]
  },
  {
   "cell_type": "markdown",
   "metadata": {
    "toc-hr-collapsed": true
   },
   "source": [
    "### P51580 - TPMT"
   ]
  },
  {
   "cell_type": "code",
   "execution_count": 162,
   "metadata": {
    "tags": []
   },
   "outputs": [],
   "source": [
    "P51580_WT_sequence=\"MDGTRTSLDIEEYSDTEVQKNQVLTLEEWQDKWVNGKTAFHQEQGHQLLKKHLDTFLKGKSGLRVFFPLCGKAVEMKWFADRGHSVVGVEISELGIQEFFTEQNLSYSEEPITEIPGTKVFKSSSGNISLYCCSIFDLPRTNIGKFDMIWDRGALVAINPGDRKCYADTMFSLLGKKFQYLLCVLSYDPTKHPGPPFYVPHAEIERLFGKICNIRCLEKVDAFEERHKSWGIDCLFEKLYLLTEK\"\n",
    "P51580_WT_seq_rose=\"----------------EVQKNQVLTLEEWQDKWVNGKTAFHQEQGHQLLKKHLDTFLKGKSGLRVFFPLCGKAVEMKWFADRGHSVVGVEISELGIQEFFTEQNLSYSEEPITEIPGTKVFKSSSGNISLYCCSIFDLPRTNIGKFDMIWDRGALVAINPGDRKCYADTMFSLLGKKFQYLLCVLSYDPTKHPGPPFYVPHAEIERLFGKICNIRCLEKVDAFEERHKSWGIDCLFEKLYLLTEK\"\n",
    "P51580_WT_seq_mave=\"MDGTRTSLDIEEYSDTEVQKNQVLTLEEWQDKWVNGKTAFHQEQGHQLLKKHLDTFLKGKSGLRVFFPLCGKAVEMKWFADRGHSVVGVEISELGIQEFFTEQNLSYSEEPITEIPGTKVFKSSSGNISLYCCSIFDLPRTNIGKFDMIWDRGALVAINPGDRKCYADTMFSLLGKKFQYLLCVLSYDPTKHPGPPFYVPHAEIERLFGKICNIRCLEKVDAFEERHKSWGIDCLFEKLYLLTEK\""
   ]
  },
  {
   "cell_type": "code",
   "execution_count": 163,
   "metadata": {
    "tags": []
   },
   "outputs": [
    {
     "name": "stdout",
     "output_type": "stream",
     "text": [
      "245 0.9346938775510204\n"
     ]
    }
   ],
   "source": [
    "count=0\n",
    "for i in range(len(P51580_WT_sequence)):\n",
    "    if P51580_WT_sequence[i]==P51580_WT_seq_rose[i]:\n",
    "        count+=1\n",
    "print(len(P51580_WT_sequence),count/len(P51580_WT_seq_rose))"
   ]
  },
  {
   "cell_type": "markdown",
   "metadata": {},
   "source": [
    "#### Co-evolution"
   ]
  },
  {
   "cell_type": "code",
   "execution_count": 167,
   "metadata": {
    "tags": []
   },
   "outputs": [],
   "source": [
    "P51580_GEMME=load_data_V2('../scores_GEMME/prism_gemme_P51580.txt',P51580_WT_sequence)\n",
    "P51580_GEMME=remove_WT_score(P51580_GEMME,P51580_WT_sequence)"
   ]
  },
  {
   "cell_type": "code",
   "execution_count": 168,
   "metadata": {
    "tags": []
   },
   "outputs": [],
   "source": [
    "P51580_GEMME_mean=position_mean(P51580_GEMME)"
   ]
  },
  {
   "cell_type": "markdown",
   "metadata": {},
   "source": [
    "####  Rosetta ddG"
   ]
  },
  {
   "cell_type": "code",
   "execution_count": 169,
   "metadata": {
    "tags": []
   },
   "outputs": [],
   "source": [
    "P51580_rosetta_ddg=load_data_V2(\"../scores_rosetta/prism_rosetta_ddg_P51580.txt\",P51580_WT_seq_rose,0)\n",
    "P51580_rosetta_ddg=remove_WT_score(P51580_rosetta_ddg,P51580_WT_seq_rose)"
   ]
  },
  {
   "cell_type": "code",
   "execution_count": 170,
   "metadata": {
    "tags": []
   },
   "outputs": [],
   "source": [
    "P51580_rosetta_ddg_norm=normalize_cutoff(P51580_rosetta_ddg,0.0,5.0)"
   ]
  },
  {
   "cell_type": "code",
   "execution_count": 171,
   "metadata": {
    "tags": []
   },
   "outputs": [],
   "source": [
    "P51580_rosetta_ddg_mean=position_mean(P51580_rosetta_ddg_norm)"
   ]
  },
  {
   "cell_type": "code",
   "execution_count": 172,
   "metadata": {
    "tags": []
   },
   "outputs": [],
   "source": [
    "P51580_rosetta_ddg_mean_non=position_mean(P51580_rosetta_ddg)"
   ]
  },
  {
   "cell_type": "markdown",
   "metadata": {},
   "source": [
    "#### Hydrophobicity"
   ]
  },
  {
   "cell_type": "code",
   "execution_count": 173,
   "metadata": {
    "tags": []
   },
   "outputs": [],
   "source": [
    "P51580_hydrophobicity_mut=np.empty((len(P51580_WT_sequence),20),dtype=float)\n",
    "P51580_hydrophobicity_mut[:]=np.nan"
   ]
  },
  {
   "cell_type": "code",
   "execution_count": 174,
   "metadata": {
    "tags": []
   },
   "outputs": [],
   "source": [
    "for i in range(len(P51580_WT_sequence)):\n",
    "    for j in range(20):\n",
    "        P51580_hydrophobicity_mut[i,j]=AA_to_hydrophobicity_scores[alphabetAA_D_L[j+1]]"
   ]
  },
  {
   "cell_type": "markdown",
   "metadata": {},
   "source": [
    "#### WCN"
   ]
  },
  {
   "cell_type": "code",
   "execution_count": 175,
   "metadata": {
    "tags": []
   },
   "outputs": [],
   "source": [
    "P51580_wcn=WCN('../pdbs/P51580_2h11.pdb','ca',P51580_WT_sequence)"
   ]
  },
  {
   "cell_type": "markdown",
   "metadata": {
    "tags": []
   },
   "source": [
    "#### Neighbor sequences scores:"
   ]
  },
  {
   "cell_type": "code",
   "execution_count": 176,
   "metadata": {
    "tags": []
   },
   "outputs": [],
   "source": [
    "P51580_rosetta_neigbor_scores=neighbor_scores(P51580_rosetta_ddg_mean,1)\n",
    "\n",
    "P51580_GEMME_neigbor_scores=neighbor_scores(P51580_GEMME_mean,1)"
   ]
  },
  {
   "cell_type": "markdown",
   "metadata": {},
   "source": [
    "#### MAVE score"
   ]
  },
  {
   "cell_type": "code",
   "execution_count": 178,
   "metadata": {
    "tags": []
   },
   "outputs": [],
   "source": [
    "P51580_functional_mave=load_data_V2('../score_maves/prism_mave_014_TPMT_abundance.txt',P51580_WT_seq_mave)"
   ]
  },
  {
   "cell_type": "code",
   "execution_count": 180,
   "metadata": {
    "tags": []
   },
   "outputs": [
    {
     "name": "stdout",
     "output_type": "stream",
     "text": [
      "Wt-like variants: 3828  ( 1.0 )\n"
     ]
    },
    {
     "data": {
      "image/png": "[encoded data removed]",
      "text/plain": [
       "<Figure size 500x400 with 1 Axes>"
      ]
     },
     "metadata": {},
     "output_type": "display_data"
    }
   ],
   "source": [
    "fig,ax=plt.subplots(1,1,figsize=(5,4))\n",
    "score_histogram(P51580_functional_mave,50,'C0','mave score',True,-7.5)\n",
    "#plt.savefig('./Figures/P35520_CBS_MAVE_threshold_histogram.pdf')"
   ]
  },
  {
   "cell_type": "code",
   "execution_count": 181,
   "metadata": {
    "tags": []
   },
   "outputs": [],
   "source": [
    "y,x,_=plt.hist(P51580_functional_mave[~np.isnan(P51580_functional_mave)],100,alpha=.3,label='data')\n",
    "\n",
    "x=(x[1:]+x[:-1])/2 # for len(x)==len(y)\n",
    "\n",
    "expected=(0.0,0.25,50,0.6,0.1,150,1.0,0.2,30)\n",
    "params,cov=curve_fit(bimodal,x,y)#,p0=expected)\n",
    "sigma=sp.sqrt(sp.diag(cov))\n",
    "plt.close()"
   ]
  },
  {
   "cell_type": "code",
   "execution_count": 182,
   "metadata": {
    "tags": []
   },
   "outputs": [
    {
     "name": "stdout",
     "output_type": "stream",
     "text": [
      "            params     sigma\n",
      "mu1       0.555333  0.053534\n",
      "sigma1   -0.483136  0.033796\n",
      "A1       35.183501  3.996710\n",
      "mu2       0.649285  0.026304\n",
      "sigma2   -0.107230  0.020831\n",
      "A2       39.502907  9.492621\n",
      "mu3       0.954000  0.014512\n",
      "sigma3   -0.163029  0.012951\n",
      "A3      120.255542  5.292845\n"
     ]
    }
   ],
   "source": [
    "gaus_fit_params=pd.DataFrame(data={'params':params,'sigma':sigma},index=bimodal.__code__.co_varnames[1:])\n",
    "print(gaus_fit_params)"
   ]
  },
  {
   "cell_type": "code",
   "execution_count": 183,
   "metadata": {
    "tags": []
   },
   "outputs": [
    {
     "data": {
      "text/plain": [
       "<matplotlib.legend.Legend at 0x7fe910b26710>"
      ]
     },
     "execution_count": 183,
     "metadata": {},
     "output_type": "execute_result"
    },
    {
     "data": {
      "image/png": "[encoded data removed]",
      "text/plain": [
       "<Figure size 500x400 with 1 Axes>"
      ]
     },
     "metadata": {},
     "output_type": "display_data"
    }
   ],
   "source": [
    "fig,ax=plt.subplots(1,1,figsize=(5,4),tight_layout=True)\n",
    "ax.hist(P51580_functional_mave[~np.isnan(P51580_functional_mave)],100,alpha=.1,label='data')\n",
    "\n",
    "ax.plot(x,gauss(x,gaus_fit_params.iloc[3,0],gaus_fit_params.iloc[4,0],gaus_fit_params.iloc[5,0]),color='black',zorder=3,ls='--')\n",
    "ax.fill_between(x,gauss(x,gaus_fit_params.iloc[0,0],gaus_fit_params.iloc[1,0],gaus_fit_params.iloc[2,0]),color='#D55C00',zorder=2)\n",
    "ax.fill_between(x,gauss(x,gaus_fit_params.iloc[6,0],gaus_fit_params.iloc[7,0],gaus_fit_params.iloc[8,0]),color='#009E74',zorder=2)\n",
    "ax.plot(x,bimodal(x,*params),color='black',lw=2.5)\n",
    "\n",
    "y_size=[0,175]\n",
    "vert_line = np.array( [0.7 for i in range(len(y_size))])\n",
    "ax.plot(vert_line,y_size, 'r--', label='regions threshold',color='#cc0000',lw=2)\n",
    "ax.set_xlabel(\"MAVE score [a.u]\")\n",
    "ax.set_ylabel(\"counts\")\n",
    "ax.set_ylim(0,175)\n",
    "ax.legend()\n",
    "#plt.savefig('./Figures/P51580_TPMT_MAVE_threshold_histogram.pdf')"
   ]
  },
  {
   "cell_type": "code",
   "execution_count": 190,
   "metadata": {
    "tags": []
   },
   "outputs": [],
   "source": [
    "count_SBI_model7=[0,0,0]"
   ]
  },
  {
   "cell_type": "code",
   "execution_count": 191,
   "metadata": {
    "tags": []
   },
   "outputs": [],
   "source": [
    "count_SBI_perc_2x=[]"
   ]
  },
  {
   "cell_type": "code",
   "execution_count": 192,
   "metadata": {
    "tags": []
   },
   "outputs": [],
   "source": [
    "asa_SBI_data=[]"
   ]
  },
  {
   "cell_type": "code",
   "execution_count": 193,
   "metadata": {
    "tags": []
   },
   "outputs": [],
   "source": [
    "ss_SBI_data=[]"
   ]
  },
  {
   "cell_type": "code",
   "execution_count": 194,
   "metadata": {
    "tags": []
   },
   "outputs": [],
   "source": [
    "AA_SBI_data=[]"
   ]
  },
  {
   "cell_type": "code",
   "execution_count": 195,
   "metadata": {
    "tags": []
   },
   "outputs": [],
   "source": [
    "SBI_accuracy=[]\n",
    "overall_accuracy=[]"
   ]
  },
  {
   "cell_type": "code",
   "execution_count": 196,
   "metadata": {
    "tags": []
   },
   "outputs": [],
   "source": [
    "count_neg_SBI_cat_levels=[]"
   ]
  },
  {
   "cell_type": "markdown",
   "metadata": {
    "toc-hr-collapsed": false
   },
   "source": [
    "## Predictions"
   ]
  },
  {
   "cell_type": "markdown",
   "metadata": {
    "tags": []
   },
   "source": [
    "#### P35520 Prediction"
   ]
  },
  {
   "cell_type": "code",
   "execution_count": 197,
   "metadata": {
    "tags": []
   },
   "outputs": [],
   "source": [
    "P35520_X,P35520_map=features_validation([P35520_GEMME, P35520_rosetta_ddg_norm,P35520_GEMME_mean,P35520_rosetta_ddg_mean,P35520_hydrophobicity_mut,P35520_GEMME_neigbor_scores,P35520_rosetta_neigbor_scores,P35520_wcn],P35520_WT_sequence)"
   ]
  },
  {
   "cell_type": "code",
   "execution_count": 198,
   "metadata": {
    "tags": []
   },
   "outputs": [],
   "source": [
    "prediction=cat.predict(P35520_X)"
   ]
  },
  {
   "cell_type": "code",
   "execution_count": 199,
   "metadata": {
    "tags": []
   },
   "outputs": [],
   "source": [
    "P35520_3mode_prediction,percentage=retrieve_residue_label_pred(prediction,P35520_map,P35520_WT_sequence,0.50)"
   ]
  },
  {
   "cell_type": "code",
   "execution_count": 200,
   "metadata": {
    "tags": []
   },
   "outputs": [],
   "source": [
    "pred_score,mave_filtered=distribution_experiments(prediction,P35520_map,P35520_WT_seq_mave,P35520_functional_mave)"
   ]
  },
  {
   "cell_type": "code",
   "execution_count": 202,
   "metadata": {
    "tags": []
   },
   "outputs": [
    {
     "name": "stdout",
     "output_type": "stream",
     "text": [
      " SBI variants: 2515 out of 8145 (30.88%) \n",
      " SBI residues: 124 out of 493 (25.15%) \n"
     ]
    }
   ],
   "source": [
    "count_SBI_perc_2x.append(print_percentage_prediction(prediction,P35520_3mode_prediction,P35520_WT_sequence,P35520_WT_seq_rose))"
   ]
  },
  {
   "cell_type": "code",
   "execution_count": 203,
   "metadata": {
    "tags": []
   },
   "outputs": [
    {
     "name": "stdout",
     "output_type": "stream",
     "text": [
      "(551, 20)\n",
      "(551, 20)\n"
     ]
    }
   ],
   "source": [
    "print(mave_filtered.shape)\n",
    "print(pred_score.shape)"
   ]
  },
  {
   "cell_type": "code",
   "execution_count": 387,
   "metadata": {},
   "outputs": [
    {
     "data": {
      "image/png": "[encoded data removed]",
      "text/plain": [
       "<Figure size 360x288 with 1 Axes>"
      ]
     },
     "metadata": {
      "needs_background": "light"
     },
     "output_type": "display_data"
    }
   ],
   "source": [
    "classification_histogram_shadowed(P35520_functional_mave,pred_score,20,0.1,.8,'#56b4e9',\"MAVE score\",1)\n",
    "y_size=[0,1.2]\n",
    "vert_line = np.array( [0.6 for i in range(len(y_size))])\n",
    "plt.plot(vert_line,y_size, 'r--', label='regions threshold',color='#cc0000')\n",
    "plt.ylim(0,1.1)\n",
    "plt.savefig('./Figures/P35520_SBI_MAVE_variant_distribution.pdf')"
   ]
  },
  {
   "cell_type": "code",
   "execution_count": 388,
   "metadata": {},
   "outputs": [
    {
     "data": {
      "image/png": "[encoded data removed]",
      "text/plain": [
       "<Figure size 360x288 with 1 Axes>"
      ]
     },
     "metadata": {
      "needs_background": "light"
     },
     "output_type": "display_data"
    }
   ],
   "source": [
    "classification_histogram_shadowed2(P35520_functional_mave,pred_score,20,0.1,.8,['#56b4e9','#d55c00'],\"MAVE score\",[1,2])\n",
    "y_size=[0,1.2]\n",
    "vert_line = np.array( [0.6 for i in range(len(y_size))])\n",
    "plt.plot(vert_line,y_size, 'r--', label='regions threshold',color='#cc0000')\n",
    "plt.ylim(0,1.1)\n",
    "plt.savefig('./Figures/P35520_SBI_blue_red_MAVE_variant_distribution.pdf')"
   ]
  },
  {
   "cell_type": "code",
   "execution_count": 389,
   "metadata": {},
   "outputs": [
    {
     "data": {
      "image/png": "[encoded data removed]",
      "text/plain": [
       "<Figure size 360x288 with 1 Axes>"
      ]
     },
     "metadata": {
      "needs_background": "light"
     },
     "output_type": "display_data"
    }
   ],
   "source": [
    "classification_histogram_shadowed2(P35520_functional_mave,pred_score,20,0.1,.8,['#009e74','#f0e442'],\"MAVE score\",[0,3])\n",
    "y_size=[0,1.2]\n",
    "vert_line = np.array( [0.6 for i in range(len(y_size))])\n",
    "plt.plot(vert_line,y_size, 'r--', label='regions threshold',color='#cc0000')\n",
    "plt.ylim(0,1.1)\n",
    "plt.savefig('./Figures/P35520_SBI_green_yellow_MAVE_variant_distribution.pdf')"
   ]
  },
  {
   "cell_type": "code",
   "execution_count": 390,
   "metadata": {},
   "outputs": [],
   "source": [
    "P35520_SBI_mave_score=[]\n",
    "for i in range(len(P35520_3mode_prediction)):\n",
    "    if P35520_3mode_prediction[i]==1:\n",
    "        P35520_SBI_mave_score.append(np.nanmean(P35520_functional_mave[i,:]))\n",
    "P35520_SBI_mave_score=np.array(P35520_SBI_mave_score)"
   ]
  },
  {
   "cell_type": "code",
   "execution_count": 391,
   "metadata": {},
   "outputs": [
    {
     "name": "stdout",
     "output_type": "stream",
     "text": [
      "2 2220 347 0.8648227502921698\n",
      "1 1754 571 0.7544086021505376\n",
      "3 0 0 nan\n",
      "0 2387 2069 0.5356822262118492\n"
     ]
    }
   ],
   "source": [
    "for i in 2,1:\n",
    "    overall_accuracy.append(print_accuracy_exp_predictions(P35520_functional_mave,pred_score,0.6,'under',i))\n",
    "for i in 3,0:\n",
    "    overall_accuracy.append(print_accuracy_exp_predictions(P35520_functional_mave,pred_score,0.6,'over',i))"
   ]
  },
  {
   "cell_type": "markdown",
   "metadata": {},
   "source": [
    "#### P62593 Prediction"
   ]
  },
  {
   "cell_type": "code",
   "execution_count": 392,
   "metadata": {},
   "outputs": [],
   "source": [
    "BETA_X,BETA_map=features_validation([BETA_GEMME, BETA_rosetta_ddg_norm,BETA_GEMME_mean,BETA_rosetta_ddg_mean,BETA_hydrophobicity_mut,BETA_GEMME_neigbor_scores,BETA_rosetta_neigbor_scores,BETA_wcn],BETA_WT_sequence)"
   ]
  },
  {
   "cell_type": "code",
   "execution_count": 393,
   "metadata": {},
   "outputs": [],
   "source": [
    "prediction=cat.predict(BETA_X)"
   ]
  },
  {
   "cell_type": "code",
   "execution_count": 394,
   "metadata": {},
   "outputs": [],
   "source": [
    "BETA_3mode_prediction,percentage=retrieve_residue_label_pred(prediction,BETA_map,BETA_WT_sequence,0.50)"
   ]
  },
  {
   "cell_type": "code",
   "execution_count": 396,
   "metadata": {},
   "outputs": [],
   "source": [
    "pred_score,mave_filtered=distribution_experiments(prediction,BETA_map,BETA_WT_seq_mave,BETA_functional_mave)"
   ]
  },
  {
   "cell_type": "code",
   "execution_count": 397,
   "metadata": {},
   "outputs": [
    {
     "name": "stdout",
     "output_type": "stream",
     "text": [
      " SBI variants: 632 out of 4995 (12.65%) \n",
      " SBI residues: 23 out of 261 (8.81%) \n"
     ]
    }
   ],
   "source": [
    "count_SBI_perc_2x.append(print_percentage_prediction(prediction,BETA_3mode_prediction,BETA_WT_sequence,BETA_WT_seq_rose))"
   ]
  },
  {
   "cell_type": "code",
   "execution_count": 398,
   "metadata": {},
   "outputs": [
    {
     "data": {
      "image/png": "[encoded data removed]",
      "text/plain": [
       "<Figure size 360x288 with 1 Axes>"
      ]
     },
     "metadata": {
      "needs_background": "light"
     },
     "output_type": "display_data"
    }
   ],
   "source": [
    "classification_histogram_shadowed(BETA_functional_mave,pred_score,20,-5,-0.1,'#56b4e9',\"MAVE score\",1)\n",
    "y_size=[0,1.2]\n",
    "vert_line = np.array( [-4 for i in range(len(y_size))])\n",
    "plt.plot(vert_line,y_size, 'r--', label='regions threshold',color='#cc0000')\n",
    "plt.ylim(0,1.1)\n",
    "plt.savefig('./Figures/P62593_SBI_MAVE_variant_distribution.pdf')"
   ]
  },
  {
   "cell_type": "code",
   "execution_count": 399,
   "metadata": {},
   "outputs": [
    {
     "data": {
      "image/png": "[encoded data removed]",
      "text/plain": [
       "<Figure size 360x288 with 1 Axes>"
      ]
     },
     "metadata": {
      "needs_background": "light"
     },
     "output_type": "display_data"
    }
   ],
   "source": [
    "classification_histogram_shadowed2(BETA_functional_mave,pred_score,20,-5,-0.1,['#56b4e9','#d55c00'],\"MAVE score\",[1,2])\n",
    "y_size=[0,1.2]\n",
    "vert_line = np.array( [-4 for i in range(len(y_size))])\n",
    "plt.plot(vert_line,y_size, 'r--', label='regions threshold',color='#cc0000')\n",
    "plt.ylim(0,1.1)\n",
    "plt.savefig('./Figures/P62593_SBI_blue_red_MAVE_variant_distribution.pdf')"
   ]
  },
  {
   "cell_type": "code",
   "execution_count": 400,
   "metadata": {},
   "outputs": [
    {
     "data": {
      "image/png": "[encoded data removed]",
      "text/plain": [
       "<Figure size 360x288 with 1 Axes>"
      ]
     },
     "metadata": {
      "needs_background": "light"
     },
     "output_type": "display_data"
    }
   ],
   "source": [
    "classification_histogram_shadowed2(BETA_functional_mave,pred_score,20,-5,-0.1,['#009e74','#f0e422'],\"MAVE score\",[0,3])\n",
    "y_size=[0,1.2]\n",
    "vert_line = np.array( [-4 for i in range(len(y_size))])\n",
    "plt.plot(vert_line,y_size, 'r--', label='regions threshold',color='#cc0000')\n",
    "plt.ylim(0,1.1)\n",
    "plt.savefig('./Figures/P62593_SBI_green_yellow_MAVE_variant_distribution.pdf')"
   ]
  },
  {
   "cell_type": "code",
   "execution_count": 401,
   "metadata": {},
   "outputs": [],
   "source": [
    "BETA_SBI_mave_score=[]\n",
    "for i in range(len(BETA_3mode_prediction)):\n",
    "    if BETA_3mode_prediction[i]==1:\n",
    "        BETA_SBI_mave_score.append(np.nanmean(BETA_functional_mave[i,:]))\n",
    "BETA_SBI_mave_score=np.array(BETA_SBI_mave_score)"
   ]
  },
  {
   "cell_type": "code",
   "execution_count": 402,
   "metadata": {},
   "outputs": [
    {
     "name": "stdout",
     "output_type": "stream",
     "text": [
      "2 1134 232 0.8301610541727672\n",
      "1 481 151 0.7610759493670886\n",
      "3 0 0 nan\n",
      "0 1985 1012 0.662328995662329\n"
     ]
    }
   ],
   "source": [
    "for i in 2,1:\n",
    "    overall_accuracy.append(print_accuracy_exp_predictions(BETA_functional_mave,pred_score,-4,'under',i))\n",
    "for i in 3,0:\n",
    "    overall_accuracy.append(print_accuracy_exp_predictions(BETA_functional_mave,pred_score,-4,'over',i))"
   ]
  },
  {
   "cell_type": "markdown",
   "metadata": {},
   "source": [
    "#### P04386 Prediction"
   ]
  },
  {
   "cell_type": "code",
   "execution_count": 403,
   "metadata": {},
   "outputs": [],
   "source": [
    "P04386_X,P04386_map=features_validation([P04386_GEMME, P04386_rosetta_ddg_norm,P04386_GEMME_mean,P04386_rosetta_ddg_mean,P04386_hydrophobicity_mut,P04386_GEMME_neigbor_scores,P04386_rosetta_neigbor_scores,P04386_wcn],P04386_WT_sequence)"
   ]
  },
  {
   "cell_type": "code",
   "execution_count": 404,
   "metadata": {},
   "outputs": [],
   "source": [
    "prediction=cat.predict(P04386_X)"
   ]
  },
  {
   "cell_type": "code",
   "execution_count": 405,
   "metadata": {},
   "outputs": [],
   "source": [
    "P04386_3mode_prediction,percentage=retrieve_residue_label_pred(prediction,P04386_map,P04386_WT_sequence,0.50)"
   ]
  },
  {
   "cell_type": "code",
   "execution_count": 407,
   "metadata": {},
   "outputs": [
    {
     "name": "stdout",
     "output_type": "stream",
     "text": [
      " SBI variants: 363 out of 1691 (21.47%) \n",
      " SBI residues: 18 out of 89 (20.22%) \n"
     ]
    }
   ],
   "source": [
    "count_SBI_perc_2x.append(print_percentage_prediction(prediction,P04386_3mode_prediction,P04386_WT_sequence,P04386_WT_seq_rose))"
   ]
  },
  {
   "cell_type": "code",
   "execution_count": 408,
   "metadata": {},
   "outputs": [],
   "source": [
    "pred_score,mave_filtered=distribution_experiments(prediction,P04386_map,P04386_WT_seq_mave,P04386_functional_mave)"
   ]
  },
  {
   "cell_type": "code",
   "execution_count": 409,
   "metadata": {},
   "outputs": [
    {
     "data": {
      "image/png": "[encoded data removed]",
      "text/plain": [
       "<Figure size 360x288 with 1 Axes>"
      ]
     },
     "metadata": {
      "needs_background": "light"
     },
     "output_type": "display_data"
    }
   ],
   "source": [
    "classification_histogram_shadowed(P04386_functional_mave,pred_score,20,-9.5,-0.1,'#56b4e9',\"MAVE score\",1)\n",
    "y_size=[0,1.2]\n",
    "vert_line = np.array( [-4 for i in range(len(y_size))])\n",
    "plt.plot(vert_line,y_size, 'r--', label='regions threshold',color='#cc0000')\n",
    "plt.ylim(0,1.1)\n",
    "plt.savefig('./Figures/P04386_SBI_MAVE_variant_distribution.pdf')"
   ]
  },
  {
   "cell_type": "code",
   "execution_count": 410,
   "metadata": {},
   "outputs": [
    {
     "data": {
      "image/png": "[encoded data removed]",
      "text/plain": [
       "<Figure size 360x288 with 1 Axes>"
      ]
     },
     "metadata": {
      "needs_background": "light"
     },
     "output_type": "display_data"
    }
   ],
   "source": [
    "classification_histogram_shadowed2(P04386_functional_mave,pred_score,20,-9.5,-0.1,['#56b4e9','#d55c00'],\"MAVE score\",[1,2])\n",
    "y_size=[0,1.2]\n",
    "vert_line = np.array( [-4 for i in range(len(y_size))])\n",
    "plt.plot(vert_line,y_size, 'r--', label='regions threshold',color='#cc0000')\n",
    "plt.ylim(0,1.1)\n",
    "plt.savefig('./Figures/P04386_SBI_blue_red_MAVE_variant_distribution.pdf')"
   ]
  },
  {
   "cell_type": "code",
   "execution_count": 411,
   "metadata": {},
   "outputs": [
    {
     "data": {
      "image/png": "[encoded data removed]",
      "text/plain": [
       "<Figure size 360x288 with 1 Axes>"
      ]
     },
     "metadata": {
      "needs_background": "light"
     },
     "output_type": "display_data"
    }
   ],
   "source": [
    "classification_histogram_shadowed2(P04386_functional_mave,pred_score,20,-9.5,-0.1,['#009e74','#f0e442'],\"MAVE score\",[0,3])\n",
    "y_size=[0,1.2]\n",
    "vert_line = np.array( [-4 for i in range(len(y_size))])\n",
    "plt.plot(vert_line,y_size, 'r--', label='regions threshold',color='#cc0000')\n",
    "plt.ylim(0,1.1)\n",
    "plt.savefig('./Figures/P04386_SBI_green_yellow_MAVE_variant_distribution.pdf')"
   ]
  },
  {
   "cell_type": "code",
   "execution_count": 412,
   "metadata": {},
   "outputs": [],
   "source": [
    "P04386_SBI_mave_score=[]\n",
    "for i in range(len(P04386_3mode_prediction)):\n",
    "    if P04386_3mode_prediction[i]==1:\n",
    "        P04386_SBI_mave_score.append(np.nanmean(P04386_functional_mave[i,:]))\n",
    "P04386_SBI_mave_score=np.array(P04386_SBI_mave_score)"
   ]
  },
  {
   "cell_type": "code",
   "execution_count": 413,
   "metadata": {},
   "outputs": [
    {
     "name": "stdout",
     "output_type": "stream",
     "text": [
      "2 78 22 0.78\n",
      "1 225 103 0.6859756097560976\n",
      "3 0 0 nan\n",
      "0 481 175 0.7332317073170732\n"
     ]
    }
   ],
   "source": [
    "for i in 2,1:\n",
    "    overall_accuracy.append(print_accuracy_exp_predictions(P04386_functional_mave,pred_score,-4,'under',i))\n",
    "for i in 3,0:\n",
    "    overall_accuracy.append(print_accuracy_exp_predictions(P04386_functional_mave,pred_score,-4,'over',i))"
   ]
  },
  {
   "cell_type": "markdown",
   "metadata": {},
   "source": [
    "#### P63165 Prediction"
   ]
  },
  {
   "cell_type": "code",
   "execution_count": 424,
   "metadata": {},
   "outputs": [],
   "source": [
    "P63165_X,P63165_map=features_validation([P63165_GEMME, P63165_rosetta_ddg_norm,P63165_GEMME_mean,P63165_rosetta_ddg_mean,P63165_hydrophobicity_mut,P63165_GEMME_neigbor_scores,P63165_rosetta_neigbor_scores,P63165_wcn],P63165_WT_sequence)"
   ]
  },
  {
   "cell_type": "code",
   "execution_count": 425,
   "metadata": {},
   "outputs": [],
   "source": [
    "prediction=cat.predict(P63165_X)"
   ]
  },
  {
   "cell_type": "code",
   "execution_count": 426,
   "metadata": {},
   "outputs": [],
   "source": [
    "P63165_3mode_prediction,percentage=retrieve_residue_label_pred(prediction,P63165_map,P63165_WT_sequence,0.50)"
   ]
  },
  {
   "cell_type": "code",
   "execution_count": 428,
   "metadata": {},
   "outputs": [],
   "source": [
    "pred_score,mave_filtered=distribution_experiments(prediction,P63165_map,P63165_WT_seq_mave,P63165_functional_mave)"
   ]
  },
  {
   "cell_type": "code",
   "execution_count": 429,
   "metadata": {},
   "outputs": [
    {
     "name": "stdout",
     "output_type": "stream",
     "text": [
      " SBI variants: 355 out of 1501 (23.65%) \n",
      " SBI residues: 17 out of 79 (21.52%) \n"
     ]
    }
   ],
   "source": [
    "count_SBI_perc_2x.append(print_percentage_prediction(prediction,P63165_3mode_prediction,P63165_WT_sequence,P63165_WT_seq_rose))"
   ]
  },
  {
   "cell_type": "code",
   "execution_count": 430,
   "metadata": {},
   "outputs": [
    {
     "data": {
      "image/png": "[encoded data removed]",
      "text/plain": [
       "<Figure size 360x288 with 1 Axes>"
      ]
     },
     "metadata": {
      "needs_background": "light"
     },
     "output_type": "display_data"
    }
   ],
   "source": [
    "classification_histogram_shadowed(P63165_functional_mave,pred_score,20,0.1,1,'#56b4e9',\"MAVE score\",1)\n",
    "y_size=[0,1.2]\n",
    "vert_line = np.array( [0.55 for i in range(len(y_size))])\n",
    "plt.plot(vert_line,y_size, 'r--', label='regions threshold',color='#cc0000')\n",
    "plt.ylim(0,1.1)\n",
    "plt.savefig('./Figures/P63165_SBI_MAVE_variant_distribution.pdf')"
   ]
  },
  {
   "cell_type": "code",
   "execution_count": 431,
   "metadata": {},
   "outputs": [
    {
     "data": {
      "image/png": "[encoded data removed]",
      "text/plain": [
       "<Figure size 360x288 with 1 Axes>"
      ]
     },
     "metadata": {
      "needs_background": "light"
     },
     "output_type": "display_data"
    }
   ],
   "source": [
    "classification_histogram_shadowed2(P63165_functional_mave,pred_score,20,0.1,1,['#56b4e9','#d55c00'],\"MAVE score\",[1,2])\n",
    "y_size=[0,1.2]\n",
    "vert_line = np.array( [0.55 for i in range(len(y_size))])\n",
    "plt.plot(vert_line,y_size, 'r--', label='regions threshold',color='#cc0000')\n",
    "plt.ylim(0,1.1)\n",
    "plt.savefig('./Figures/P63165_blue_red_SBI_MAVE_variant_distribution.pdf')"
   ]
  },
  {
   "cell_type": "code",
   "execution_count": 432,
   "metadata": {},
   "outputs": [
    {
     "data": {
      "image/png": "[encoded data removed]",
      "text/plain": [
       "<Figure size 360x288 with 1 Axes>"
      ]
     },
     "metadata": {
      "needs_background": "light"
     },
     "output_type": "display_data"
    }
   ],
   "source": [
    "classification_histogram_shadowed2(P63165_functional_mave,pred_score,20,0.1,1,['#009e74','#f0e442'],\"MAVE score\",[0,3])\n",
    "y_size=[0,1.2]\n",
    "vert_line = np.array( [0.55 for i in range(len(y_size))])\n",
    "plt.plot(vert_line,y_size, 'r--', label='regions threshold',color='#cc0000')\n",
    "plt.ylim(0,1.1)\n",
    "plt.savefig('./Figures/P63165_SBI_green_yellow_MAVE_variant_distribution.pdf')"
   ]
  },
  {
   "cell_type": "code",
   "execution_count": 433,
   "metadata": {},
   "outputs": [
    {
     "data": {
      "text/plain": [
       "(101, 20)"
      ]
     },
     "execution_count": 433,
     "metadata": {},
     "output_type": "execute_result"
    }
   ],
   "source": [
    "P63165_functional_mave.shape"
   ]
  },
  {
   "cell_type": "code",
   "execution_count": 434,
   "metadata": {},
   "outputs": [],
   "source": [
    "P63165_SBI_mave_score=[]\n",
    "for i in range(len(P63165_3mode_prediction)):\n",
    "    if P63165_3mode_prediction[i]==1:\n",
    "        P63165_SBI_mave_score.append(np.nanmean(P63165_functional_mave[i,:]))\n",
    "P63165_SBI_mave_score=np.array(P63165_SBI_mave_score)"
   ]
  },
  {
   "cell_type": "code",
   "execution_count": 435,
   "metadata": {},
   "outputs": [
    {
     "name": "stdout",
     "output_type": "stream",
     "text": [
      "2 194 13 0.9371980676328503\n",
      "1 236 80 0.7468354430379747\n",
      "3 0 0 nan\n",
      "0 416 445 0.4831591173054588\n"
     ]
    }
   ],
   "source": [
    "for i in 2,1:\n",
    "    overall_accuracy.append(print_accuracy_exp_predictions(P63165_functional_mave,pred_score,0.55,'under',i))\n",
    "for i in 3,0:\n",
    "    overall_accuracy.append(print_accuracy_exp_predictions(P63165_functional_mave,pred_score,0.55,'over',i))"
   ]
  },
  {
   "cell_type": "markdown",
   "metadata": {},
   "source": [
    "#### P51580 Prediction"
   ]
  },
  {
   "cell_type": "code",
   "execution_count": 436,
   "metadata": {},
   "outputs": [],
   "source": [
    "P51580_X,P51580_map=features_validation([P51580_GEMME, P51580_rosetta_ddg_norm,P51580_GEMME_mean,P51580_rosetta_ddg_mean,P51580_hydrophobicity_mut,P51580_GEMME_neigbor_scores,P51580_rosetta_neigbor_scores,P51580_wcn],P51580_WT_sequence)"
   ]
  },
  {
   "cell_type": "code",
   "execution_count": 437,
   "metadata": {},
   "outputs": [],
   "source": [
    "prediction=cat.predict(P51580_X)"
   ]
  },
  {
   "cell_type": "code",
   "execution_count": 438,
   "metadata": {},
   "outputs": [],
   "source": [
    "P51580_3mode_prediction,percentage=retrieve_residue_label_pred(prediction,P51580_map,P51580_WT_sequence,0.50)"
   ]
  },
  {
   "cell_type": "code",
   "execution_count": 440,
   "metadata": {},
   "outputs": [],
   "source": [
    "pred_score,mave_filtered=distribution_experiments(prediction,P51580_map,P51580_WT_seq_mave,P51580_functional_mave)"
   ]
  },
  {
   "cell_type": "code",
   "execution_count": 441,
   "metadata": {},
   "outputs": [
    {
     "name": "stdout",
     "output_type": "stream",
     "text": [
      " SBI variants: 505 out of 4351 (11.61%) \n",
      " SBI residues: 15 out of 229 (6.55%) \n"
     ]
    }
   ],
   "source": [
    "count_SBI_perc_2x.append(print_percentage_prediction(prediction,P51580_3mode_prediction,P51580_WT_sequence,P51580_WT_seq_rose))"
   ]
  },
  {
   "cell_type": "code",
   "execution_count": 442,
   "metadata": {},
   "outputs": [
    {
     "data": {
      "image/png": "[encoded data removed]",
      "text/plain": [
       "<Figure size 360x288 with 1 Axes>"
      ]
     },
     "metadata": {
      "needs_background": "light"
     },
     "output_type": "display_data"
    }
   ],
   "source": [
    "classification_histogram_shadowed(P51580_functional_mave,pred_score,30,0.1,1,'#56b4e9',\"MAVE score\",1)\n",
    "y_size=[0,1.2]\n",
    "vert_line = np.array( [0.7 for i in range(len(y_size))])\n",
    "plt.plot(vert_line,y_size, 'r--', label='regions threshold',color='#cc0000')\n",
    "plt.ylim(0,1.1)\n",
    "plt.savefig('./Figures/P51580_SBI_MAVE_variant_distribution.pdf')"
   ]
  },
  {
   "cell_type": "code",
   "execution_count": 443,
   "metadata": {},
   "outputs": [
    {
     "data": {
      "image/png": "[encoded data removed]",
      "text/plain": [
       "<Figure size 360x288 with 1 Axes>"
      ]
     },
     "metadata": {
      "needs_background": "light"
     },
     "output_type": "display_data"
    }
   ],
   "source": [
    "classification_histogram_shadowed2(P51580_functional_mave,pred_score,30,0.1,1,['#d55c00','#f0e442'],\"MAVE score\",[2,3])\n",
    "y_size=[0,1.2]\n",
    "vert_line = np.array( [0.7 for i in range(len(y_size))])\n",
    "plt.plot(vert_line,y_size, 'r--', label='regions threshold',color='#cc0000')\n",
    "plt.ylim(0,1.1)\n",
    "plt.savefig('./Figures/P51580_blue_red_SBI_MAVE_variant_distribution.pdf')"
   ]
  },
  {
   "cell_type": "code",
   "execution_count": 444,
   "metadata": {},
   "outputs": [
    {
     "data": {
      "image/png": "[encoded data removed]",
      "text/plain": [
       "<Figure size 360x288 with 1 Axes>"
      ]
     },
     "metadata": {
      "needs_background": "light"
     },
     "output_type": "display_data"
    }
   ],
   "source": [
    "classification_histogram_shadowed2(P51580_functional_mave,pred_score,30,0.1,1,['#009e74','#56b4e9'],\"MAVE score\",[0,1])\n",
    "y_size=[0,1.2]\n",
    "vert_line = np.array( [0.7 for i in range(len(y_size))])\n",
    "plt.plot(vert_line,y_size, 'r--', label='regions threshold',color='#cc0000')\n",
    "plt.ylim(0,1.1)\n",
    "plt.savefig('./Figures/P51580_SBI_green_yellow_MAVE_variant_distribution.pdf')"
   ]
  },
  {
   "cell_type": "code",
   "execution_count": 445,
   "metadata": {},
   "outputs": [
    {
     "data": {
      "text/plain": [
       "(245, 20)"
      ]
     },
     "execution_count": 445,
     "metadata": {},
     "output_type": "execute_result"
    }
   ],
   "source": [
    "P51580_functional_mave.shape"
   ]
  },
  {
   "cell_type": "code",
   "execution_count": 446,
   "metadata": {},
   "outputs": [],
   "source": [
    "P51580_SBI_mave_score=[]\n",
    "for i in range(len(P51580_3mode_prediction)):\n",
    "    if P51580_3mode_prediction[i]==1:\n",
    "        P51580_SBI_mave_score.append(np.nanmean(P51580_functional_mave[i,:]))\n",
    "P51580_SBI_mave_score=np.array(P51580_SBI_mave_score)"
   ]
  },
  {
   "cell_type": "code",
   "execution_count": 447,
   "metadata": {},
   "outputs": [
    {
     "name": "stdout",
     "output_type": "stream",
     "text": [
      "1 213 184 0.5365239294710328\n"
     ]
    }
   ],
   "source": [
    "SBI_accuracy.append(print_accuracy_exp_predictions(P51580_functional_mave,pred_score,0.7,'under',1))"
   ]
  },
  {
   "cell_type": "code",
   "execution_count": 448,
   "metadata": {},
   "outputs": [
    {
     "name": "stdout",
     "output_type": "stream",
     "text": [
      "3 0 0 nan\n",
      "2 673 219 0.7544843049327354\n",
      "1 184 213 0.4634760705289673\n",
      "0 1716 422 0.8026192703461179\n"
     ]
    }
   ],
   "source": [
    "for i in 3,2:\n",
    "    overall_accuracy.append(print_accuracy_exp_predictions(P51580_functional_mave,pred_score,0.7,'under',i))\n",
    "for i in 1,0:\n",
    "    overall_accuracy.append(print_accuracy_exp_predictions(P51580_functional_mave,pred_score,0.7,'over',i))"
   ]
  },
  {
   "cell_type": "markdown",
   "metadata": {},
   "source": [
    "### Results"
   ]
  },
  {
   "cell_type": "code",
   "execution_count": 460,
   "metadata": {},
   "outputs": [],
   "source": [
    "overall_accuracy=np.array(overall_accuracy)"
   ]
  },
  {
   "cell_type": "code",
   "execution_count": 461,
   "metadata": {},
   "outputs": [
    {
     "data": {
      "text/plain": [
       "0.7196972779142679"
      ]
     },
     "execution_count": 461,
     "metadata": {},
     "output_type": "execute_result"
    }
   ],
   "source": [
    "np.nanmean(overall_accuracy[:,3])"
   ]
  },
  {
   "cell_type": "code",
   "execution_count": 462,
   "metadata": {},
   "outputs": [
    {
     "name": "stdout",
     "output_type": "stream",
     "text": [
      "0.6434042633685657\n",
      "0.6823543349681331\n",
      "0.8333332354061046\n",
      "nan\n"
     ]
    }
   ],
   "source": [
    "for i in range(0,4):\n",
    "    temp=[]\n",
    "    for j in range(overall_accuracy.shape[0]):\n",
    "        if overall_accuracy[j,0]==i:\n",
    "            temp.append(overall_accuracy[j,3])\n",
    "    temp=np.array(temp)\n",
    "    print(np.mean(temp))"
   ]
  }
 ],
 "metadata": {
  "kernelspec": {
   "display_name": "Python 3 (ipykernel)",
   "language": "python",
   "name": "python3"
  },
  "language_info": {
   "codemirror_mode": {
    "name": "ipython",
    "version": 3
   },
   "file_extension": ".py",
   "mimetype": "text/x-python",
   "name": "python",
   "nbconvert_exporter": "python",
   "pygments_lexer": "ipython3",
   "version": "3.7.16"
  }
 },
 "nbformat": 4,
 "nbformat_minor": 4
}
