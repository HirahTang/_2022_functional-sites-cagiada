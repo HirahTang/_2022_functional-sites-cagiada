{
 "cells": [
  {
   "cell_type": "markdown",
   "metadata": {
    "tags": []
   },
   "source": [
    "# MCSA analysis (notebook 2 of 2)"
   ]
  },
  {
   "cell_type": "markdown",
   "metadata": {
    "toc-hr-collapsed": true
   },
   "source": [
    "## Libraries, functions and dictionaries"
   ]
  },
  {
   "cell_type": "code",
   "execution_count": 67,
   "metadata": {
    "tags": []
   },
   "outputs": [],
   "source": [
    "import sys, os\n",
    "\n",
    "import pandas as pd\n",
    "import numpy as np\n",
    "import scipy as sp\n",
    "import matplotlib as mpl\n",
    "import matplotlib.pyplot as plt\n",
    "import mdtraj as md\n",
    "import random\n",
    "import seaborn as sns\n",
    "import re\n",
    "\n",
    "from sklearn.model_selection import RandomizedSearchCV\n",
    "from sklearn.model_selection import RepeatedStratifiedKFold\n",
    "from sklearn.model_selection import cross_val_score\n",
    "\n",
    "from sklearn.cluster import KMeans\n",
    "\n",
    "from sklearn.ensemble import RandomForestClassifier\n",
    "from catboost import CatBoostClassifier, Pool\n",
    "from catboost.datasets import titanic\n",
    "from graphviz import Digraph\n",
    "\n",
    "import warnings\n",
    "warnings.filterwarnings('ignore')"
   ]
  },
  {
   "cell_type": "code",
   "execution_count": 68,
   "metadata": {},
   "outputs": [],
   "source": [
    "alphabetAA_L_D={'-':0,'_' :0,'A':1,'C':2,'D':3,'E':4,'F':5,'G':6,'H':7,'I':8,'K':9,'L':10,'M':11,'N':12,'P':13,'Q':14,'R':15,'S':16,'T':17,'V':18,'W':19,'Y':20}\n",
    "alphabetAA_D_L={v: k for k, v in alphabetAA_L_D.items()}\n",
    "               \n",
    "alphabetAA_3L_1L={\"Ter\":'*',\"Gap\":'-',\"Ala\":'A',\"Cys\":'C',\"Asp\":'D',\"Glu\":'E',\"Phe\":'F',\"Gly\":'G',\"His\":'H',\"Ile\":'I',\"Lys\":'K',\"Leu\":'L',\"Met\":'M',\"Asn\":'N',\"Pro\":'P',\"Gln\":'Q',\"Arg\":'R',\"Ser\":'S',\"Thr\":'T',\"Val\" :'V',\"Trp\":'W',\"Tyr\":'Y'}\n",
    "alphabetAA_1L_3L={v: k for k,v in alphabetAA_3L_1L.items()}\n",
    "\n",
    "alphabetAA_3L_1LC={\"Ter\":'*',\"Gap\":'-',\"ALA\":'A',\"CYS\":'C',\"ASP\":'D',\"GLU\":'E',\"PHE\":'F',\"GLY\":'G',\"HIS\":'H',\"ILE\":'I',\"LYS\":'K',\"LEU\":'L',\"MET\":'M',\"ASN\":'N',\"PRO\":'P',\"GLN\":'Q',\"ARG\":'R',\"SER\":'S',\"THR\":'T',\"VAL\" :'V',\"TRP\":'W',\"TYR\":'Y'}\n",
    "\n",
    "alphabetAA_to_classes={'A':1,'C':2,'D':3,'E':3,'F':1,'G':4,'H':3,'I':1,'K':3,'L':1,'M':1,'N':2,'P':4,'Q':2,'R':3,'S':2,'T':2,'V':1,'W':1,'Y':1}\n",
    "alphabetclasses_to_AA={v: k for k,v in alphabetAA_to_classes.items()}\n",
    "\n",
    "AA_ddsp_number={'H' :0,'B' : 1,'E' : 2,'G' : 3,'I' : 4,'T' : 5,'S' : 6,' ' : 7}\n",
    "AA_number_ddsp={v: k for k,v in AA_ddsp_number.items()}\n",
    "\n",
    "AA_ddsp_number_simp={'H' :0,'E' : 1,'C' : 2}\n",
    "AA_number_ddsp_simp={v: k for k,v in AA_ddsp_number.items()}\n",
    "\n",
    "AA_to_hydrophobicity_scores={'A':44,'C':50,'D':-37,'E':-12,'F':96,'G':0,'H':-16,'I':100,'K':-30,'L':99,'M':74,'N':-35,'P':-46,'Q':-14,'R':-20,'S':-6,'T':13,'V':78,'W':90,'Y':57}"
   ]
  },
  {
   "cell_type": "markdown",
   "metadata": {},
   "source": [
    "### Load functions"
   ]
  },
  {
   "cell_type": "code",
   "execution_count": 69,
   "metadata": {},
   "outputs": [],
   "source": [
    "def remove_WT_score(score,WT_seq):\n",
    "    for i in range(len(WT_seq)):\n",
    "        score[i,alphabetAA_L_D[WT_seq[i]]-1]=np.nan\n",
    "    return score"
   ]
  },
  {
   "cell_type": "code",
   "execution_count": 125,
   "metadata": {
    "tags": []
   },
   "outputs": [],
   "source": [
    "def load_data_V2(data,wt_seq,start_gap=0,column_score=1):\n",
    "    df=pd.read_csv(data, delim_whitespace=True, comment='#')\n",
    "    mutation_load=np.array(df.iloc[:,0])\n",
    "    score_load=np.array(df.iloc[:,column_score])\n",
    "    scores=np.empty((len(wt_seq),20),dtype=float)\n",
    "    scores[:]=np.nan\n",
    "    for i in range(len(mutation_load)):\n",
    "        if  mutation_load[i][len(mutation_load[i])-1]!= '=' and mutation_load[i][len(mutation_load[i])-1]!= '*' :\n",
    "            scores[int(mutation_load[i][1:len(mutation_load[i])-1])-1+start_gap, alphabetAA_L_D[mutation_load[i][len(mutation_load[i])-1]]-1]= float(score_load[i])\n",
    "    return scores"
   ]
  },
  {
   "cell_type": "markdown",
   "metadata": {},
   "source": [
    "### General functions"
   ]
  },
  {
   "cell_type": "code",
   "execution_count": 71,
   "metadata": {},
   "outputs": [],
   "source": [
    "def normalize_score(scores):\n",
    "    normalized_scores=np.copy(scores)\n",
    "    c_min_act=np.percentile(scores[~np.isnan(scores)],5)\n",
    "    c_max_act=np.percentile(scores[~np.isnan(scores)],95)\n",
    "    for i in range(scores.shape[0]):\n",
    "        for j in range(scores.shape[1]):\n",
    "            normalized_scores[i,j]=(scores[i,j]-c_min_act)/(c_max_act-c_min_act)\n",
    "                                  \n",
    "    return normalized_scores"
   ]
  },
  {
   "cell_type": "code",
   "execution_count": 72,
   "metadata": {},
   "outputs": [],
   "source": [
    "def normalize_minmax(scores):\n",
    "    normalized_scores=np.copy(scores)\n",
    "    c_min_act=np.amin(scores[~np.isnan(scores)])\n",
    "    c_max_act=np.amax(scores[~np.isnan(scores)])\n",
    "    for i in range(scores.shape[0]):\n",
    "        for j in range(scores.shape[1]):\n",
    "            normalized_scores[i,j]=(scores[i,j]-c_min_act)/(c_max_act-c_min_act)\n",
    "                                  \n",
    "    return normalized_scores"
   ]
  },
  {
   "cell_type": "code",
   "execution_count": 73,
   "metadata": {},
   "outputs": [],
   "source": [
    "def normalize_fermi(scores):\n",
    "    normalized_scores=np.copy(scores)\n",
    "    for i in range(scores.shape[0]):\n",
    "        for j in range(scores.shape[1]):\n",
    "            normalized_scores[i,j]=1/(sp.exp(scores[i,j]-2)+1)                 \n",
    "    return normalized_scores"
   ]
  },
  {
   "cell_type": "code",
   "execution_count": 74,
   "metadata": {},
   "outputs": [],
   "source": [
    "def normalize_cutoff(scores,lowcut,highcut):\n",
    "    normalized_scores=np.copy(scores)\n",
    "    for i in range(scores.shape[0]):\n",
    "        for j in range(scores.shape[1]):\n",
    "            if scores[i,j] < lowcut:\n",
    "                normalized_scores[i,j]=lowcut\n",
    "            elif scores[i,j] > highcut:\n",
    "                normalized_scores[i,j]=highcut\n",
    "            else:\n",
    "                normalized_scores[i,j]=scores[i,j]\n",
    "    return normalized_scores"
   ]
  },
  {
   "cell_type": "code",
   "execution_count": 75,
   "metadata": {},
   "outputs": [],
   "source": [
    "def position_mean(score):\n",
    "    score_mean=np.zeros(score.shape[0],dtype=float)\n",
    "    for i in range(score.shape[0]):\n",
    "        count=0\n",
    "        flag_nan=True\n",
    "        for j in range(score.shape[1]):\n",
    "            if np.isnan(score[i,j])==False:\n",
    "                flag_nan=False\n",
    "                score_mean[i]+=score[i,j]\n",
    "                count+=1\n",
    "            else:\n",
    "                pass\n",
    "        if flag_nan==True:\n",
    "            score_mean[i]=np.nan\n",
    "        score_mean[i]/=count\n",
    "        \n",
    "    return score_mean"
   ]
  },
  {
   "cell_type": "code",
   "execution_count": 76,
   "metadata": {},
   "outputs": [],
   "source": [
    "def score_histogram(score,nbin,color,label_x,norm_bool,thr):\n",
    "\n",
    "    counts, bins = np.histogram(score[~np.isnan(score)],bins=nbin)\n",
    "    if norm_bool=='Density':\n",
    "        n, bins, patches = plt.hist(score[~np.isnan(score)], bins=nbin, facecolor=color, alpha=0.7,edgecolor=\"black\",density=True)\n",
    "        plt.ylabel('Normalized counts',fontsize=20)\n",
    "    elif norm_bool=='True':\n",
    "        \n",
    "        norm= counts / np.linalg.norm(counts)\n",
    "        plt.hist(bins[:-1], bins, weights=norm, facecolor=color, alpha=0.7,edgecolor=\"black\")\n",
    "        plt.ylabel('Normalized counts',fontsize=20)\n",
    "    else:\n",
    "        n, bins, patches = plt.hist(score[~np.isnan(score)], bins=nbin, facecolor=color,edgecolor=\"black\")\n",
    "        plt.ylabel('Counts',fontsize=20)\n",
    "\n",
    "    plt.xlabel(label_x,fontsize=20)\n",
    "    plt.xticks(fontsize=18)\n",
    "    plt.grid(axis=\"y\",alpha=0.4,linestyle='--')\n",
    "    sum_unstable=0\n",
    "    for i in range(len(bins)-1):\n",
    "        if bins[i+1] < thr:\n",
    "            sum_unstable+=counts[i]\n",
    "    print('Wt-like variants:',np.sum(counts)-sum_unstable, ' (', (np.sum(counts)-sum_unstable)/np.sum(counts) ,')')\n",
    "    \n",
    "    #plt.show()"
   ]
  },
  {
   "cell_type": "code",
   "execution_count": 77,
   "metadata": {},
   "outputs": [],
   "source": [
    "def heatmap_IBS(prediction,variant_map,WT):\n",
    "    scores=np.empty((len(WT),20),dtype=float)\n",
    "    scores[:]=np.nan\n",
    "    \n",
    "    i=0\n",
    "    for cord in variant_map:\n",
    "        scores[cord[0],cord[1]]=prediction[i]\n",
    "        i+=1\n",
    "\n",
    "    fig, ax = plt.subplots(figsize=(16,6))\n",
    "    ylabels=[ alphabetAA_D_L[i] for i in range(1,21)]\n",
    "    \n",
    "    ax.imshow(np.transpose(scores), aspect = 'auto', cmap=mpl.colors.ListedColormap([\"white\",\"#56b4e9\"]))\n",
    "\n",
    "    ax.set_yticks([i for i in range(0,20)])\n",
    "    ax.set_yticklabels(ylabels,fontsize=15)\n",
    "    ax.tick_params(axis='x', which='major', labelsize=15)\n",
    "        \n",
    "    tmp=np.empty((len(WT),20),dtype=float)\n",
    "    tmp[:]=np.inf\n",
    "    for i in range(0,len(WT)):\n",
    "        tmp[i,alphabetAA_L_D[WT[i]]-1]=1\n",
    "    plt.imshow(tmp.T, cmap='Accent', aspect = 'auto')\n",
    "    \n",
    "    plt.grid(axis='both',which='both',alpha=0.4)\n",
    "    plt.ylabel(\"mutation\",fontsize=16)\n",
    "    plt.xlabel(\"residue\",fontsize=16)\n",
    "\n",
    "    plt.ylim(-0.5,19.5)"
   ]
  },
  {
   "cell_type": "code",
   "execution_count": 78,
   "metadata": {},
   "outputs": [],
   "source": [
    "def ratio_variants(mave_funct,mave_abd):\n",
    "    ratio=np.copy(mave_funct)\n",
    "    ratio[:]=np.nan\n",
    "    for i in range(ratio.shape[0]):\n",
    "        for j in range(ratio.shape[1]):\n",
    "            if np.isnan(mave_funct[i,j]) or np.isnan(mave_abd[i,j]):\n",
    "                pass\n",
    "            else:\n",
    "                if mave_abd[i,j]==0.0:\n",
    "                    ratio[i,j]=mave_funct[i,j]/0.0000001\n",
    "                else:\n",
    "                    ratio[i,j]=mave_funct[i,j]/mave_abd[i,j]\n",
    "    sig_ratio=np.copy(ratio)\n",
    "    sig_ratio[:]=np.nan\n",
    "    for i in range(ratio.shape[0]):\n",
    "        for j in range(ratio.shape[1]):\n",
    "            if np.isnan(ratio[i,j])!=True:\n",
    "                sig_ratio[i,j]=1/(1+np.exp(-(ratio[i,j]-1)))\n",
    "\n",
    "    return sig_ratio"
   ]
  },
  {
   "cell_type": "code",
   "execution_count": 79,
   "metadata": {},
   "outputs": [],
   "source": [
    "def MCC_test_subset(prediction,test):\n",
    "    TP=0\n",
    "    FP=0\n",
    "    total=0\n",
    "    for i in range(len(prediction)):\n",
    "        if np.isnan(prediction[i])!= True and np.isnan(test[i])!=True:\n",
    "            if prediction[i]==1:\n",
    "                if int(prediction[i])==int(test[i]):\n",
    "                    TP+=1\n",
    "                else:\n",
    "                    FP+=1\n",
    "            if int(test[i])==1:\n",
    "                total+=1\n",
    "    precision=TP/(TP+FP)\n",
    "    recall=TP/total\n",
    "    mcc=np.sqrt(abs(precision*recall))\n",
    "    \n",
    "    return precision,recall,mcc                 "
   ]
  },
  {
   "cell_type": "code",
   "execution_count": 80,
   "metadata": {},
   "outputs": [],
   "source": [
    "def AUC_subset(prediction,test):\n",
    "    TP=0\n",
    "    FP=0\n",
    "    FN=0\n",
    "    TN=0\n",
    "    \n",
    "    for i in range(len(prediction)):\n",
    "        if np.isnan(prediction[i])!= True and np.isnan(test[i])!=True:\n",
    "            if prediction[i]==1:\n",
    "                if int(prediction[i])==int(test[i]):\n",
    "                    TP+=1\n",
    "                else:\n",
    "                    FP+=1\n",
    "            if prediction[i]==0:\n",
    "                if int(prediction[i])==int(test[i]):\n",
    "                    TN+=1\n",
    "                else:\n",
    "                    FN+=1 \n",
    "                    \n",
    "    TPR=TP/(TP+FN)\n",
    "    FPR=FP/(FP+TN)\n",
    "    \n",
    "    return [TPR,FPR]"
   ]
  },
  {
   "cell_type": "code",
   "execution_count": 81,
   "metadata": {},
   "outputs": [],
   "source": [
    "def retrieve_residue_label_pred_training(prediction,variant_map,WT,percentage_threshold):\n",
    "    scores=np.empty((len(WT),20),dtype=float)\n",
    "    scores[:]=np.nan\n",
    "    \n",
    "    i=0\n",
    "    for cord in variant_map:\n",
    "        scores[cord[0],cord[1]]=prediction[i]\n",
    "        i+=1\n",
    "    pseudomode_value_class=np.empty(len(WT),dtype=float)\n",
    "    pseudomode_value_class[:]=np.nan\n",
    "    percentage_mode=np.zeros((len(WT),2),dtype=float)\n",
    "    \n",
    "    for i in range(len(pseudomode_value_class)):\n",
    "        count=0\n",
    "        for j in range(scores.shape[1]):\n",
    "            if np.isnan(scores[i,j])!=True:\n",
    "                count+=1\n",
    "        if count>0:\n",
    "            count_1=0\n",
    "            for j in range(scores.shape[1]):\n",
    "                if scores[i,j]==1:\n",
    "                    count_1+=1\n",
    "            percentage=count_1/count\n",
    "            \n",
    "            if percentage > percentage_threshold:\n",
    "                pseudomode_value_class[i]=1\n",
    "            else:\n",
    "                pseudomode_value_class[i]=0\n",
    "            \n",
    "            percentage_mode[i,0]=percentage\n",
    "            percentage_mode[i,1]=count\n",
    "    \n",
    "    #mode_value_class, counts_mode=sp.stats.mode(scores,axis=1,nan_policy='omit')\n",
    "    \n",
    "    return pseudomode_value_class,percentage_mode"
   ]
  },
  {
   "cell_type": "code",
   "execution_count": 82,
   "metadata": {},
   "outputs": [],
   "source": [
    "def retrieve_residue_label_pred(prediction,variant_map,WT,percentage_threshold):\n",
    "    scores=np.empty((len(WT),20),dtype=float)\n",
    "    scores[:]=np.nan\n",
    "    \n",
    "    i=0\n",
    "    for cord in variant_map:\n",
    "        scores[cord[0],cord[1]]=prediction[i]\n",
    "        i+=1\n",
    "    \n",
    "    count_pos=np.zeros((len(WT),4),dtype=float)\n",
    "    \n",
    "    pseudomode_value_class=np.empty(len(WT),dtype=float)\n",
    "    pseudomode_value_class[:]=np.nan\n",
    "    percentage=np.zeros((len(WT),2),dtype=float)\n",
    "        \n",
    "    for i in range(len(pseudomode_value_class)):\n",
    "        count=0\n",
    "        for j in range(scores.shape[1]):\n",
    "            if np.isnan(scores[i,j])!=True:\n",
    "                count+=1\n",
    "        if count>0:\n",
    "            for j in range(scores.shape[1]):\n",
    "                    if np.isnan(scores[i,j])!=True:\n",
    "                        count_pos[i,int(scores[i,j])]+=1\n",
    "            count_pos=count_pos/count\n",
    "            if np.any(count_pos[i,:]>=0.50):\n",
    "                pseudomode_value_class[i]=np.argmax(count_pos[i,:])\n",
    "                percentage[i,0]=count_pos[i,1]\n",
    "                #print(i, count_pos[i,:],np.max(count_pos[i,:]),np.argmax(count_pos[i,:]),pseudomode_value_class[i])\n",
    "\n",
    "\n",
    "            else:                \n",
    "                pseudomode_value_class[i]=5\n",
    "                percentage[i,0]=count_pos[i,1]\n",
    "                #print(i, count_pos[i,:],np.max(count_pos[i,:]),np.argmax(count_pos[i,:]),'else',pseudomode_value_class[i])\n",
    "                ## 5 indicates mixed signal with no predominat mutation class\n",
    "            \n",
    "            percentage[i,1]=count\n",
    "    \n",
    "    #mode_value_class, counts_mode=sp.stats.mode(scores,axis=1,nan_policy='omit')\n",
    "    \n",
    "    return pseudomode_value_class,percentage"
   ]
  },
  {
   "cell_type": "code",
   "execution_count": 83,
   "metadata": {},
   "outputs": [],
   "source": [
    "def pairplot_features(list_feature,name_features,namefile):\n",
    "    df=pd.DataFrame(list_feature,columns=name_features)\n",
    "    sns_plot=sns.pairplot(df)\n",
    "    sns_plot.savefig(namefile)"
   ]
  },
  {
   "cell_type": "code",
   "execution_count": 84,
   "metadata": {},
   "outputs": [],
   "source": [
    "def print_chimera_x_attribute_file(attribute_check,attribute,file):\n",
    "    file=open(file,\"w+\")\n",
    "    file.write('%s\\n%s\\n%s\\n%s\\n' % ('#','#  Use this file to assign the attribute in Chimera with the','#  Define Attribute tool or the command defattr','#'))\n",
    "    file.write('%s\\n%s\\n%s\\n' % ( 'attribute: cbyvalue','match mode: 1-to-1', 'recipient: residues') )\n",
    "    for i in range(len(attribute_check)):\n",
    "        if np.isnan(attribute_check[i])==True:\n",
    "            pass\n",
    "        else:\n",
    "            file.write(\"\\t%s%d\\t%f\\n\" % ('/A:',i+1,attribute[i]))\n",
    "    file.close()"
   ]
  },
  {
   "cell_type": "code",
   "execution_count": 85,
   "metadata": {},
   "outputs": [],
   "source": [
    "def print_chimera_x_attribute_file_SBI(attribute_check,attribute,file):\n",
    "    file=open(file,\"w+\")\n",
    "    file.write('%s\\n%s\\n%s\\n%s\\n' % ('#','#  Use this file to assign the attribute in Chimera with the','#  Define Attribute tool or the command defattr','#'))\n",
    "    file.write('%s\\n%s\\n%s\\n' % ( 'attribute: cbyvalue','match mode: 1-to-1', 'recipient: residues') )\n",
    "    for i in range(len(attribute_check)):\n",
    "        if np.isnan(attribute_check[i])==True:\n",
    "            pass\n",
    "        else:\n",
    "            if attribute_check[i]==1.0:\n",
    "                file.write(\"\\t%s%d\\t%f\\n\" % ('/A:',i+1,1))\n",
    "            else:\n",
    "                file.write(\"\\t%s%d\\t%f\\n\" % ('/A:',i+1,0))\n",
    "    file.close()"
   ]
  },
  {
   "cell_type": "code",
   "execution_count": 86,
   "metadata": {},
   "outputs": [],
   "source": [
    "def plot_attributes(pos,pred,variant_map,gemme,rosetta,wcn,gemme_n,rosetta_n):\n",
    "    \n",
    "    label_position=np.empty(20,dtype=float)\n",
    "    label_position[:]=np.nan\n",
    "    \n",
    "    i=0\n",
    "    for cord in variant_map:\n",
    "        if cord[0]==pos:\n",
    "            label_position[cord[1]]=prediction[i]\n",
    "        i+=1\n",
    "    \n",
    "    fig,(ax1,ax2,ax3,ax4,ax5,ax6)=plt.subplots(1,6,figsize=(9,4),gridspec_kw={\"width_ratios\" : [7,1,1,1,1,1], \"wspace\" : 0.4})\n",
    "    cdict = {1: 'blue', 0: 'red'}\n",
    "    glabel={1.0:'SBI',0.0:'non-SBI'}\n",
    "    for g in np.unique(label_position):\n",
    "        if np.isnan(g)!=True:\n",
    "            ix = np.where(label_position == g)\n",
    "            ax1.scatter(rosetta[pos,ix],gemme[pos,ix],c=cdict[g], label=[glabel[g]])\n",
    "    \n",
    "    ax2.bar(x=0.5,height=wcn[pos])\n",
    "    ax3.bar(x=0.5,height=np.mean(gemme[pos,:][~np.isnan(gemme[pos,:])]))\n",
    "    ax4.bar(x=0.5,height=np.mean(rosetta[pos,:][~np.isnan(rosetta[pos,:])]))   \n",
    "    ax5.bar(x=0.5,height=gemme_n[pos])\n",
    "    ax6.bar(x=0.5,height=rosetta_n[pos])\n",
    "    \n",
    "    \n",
    "    ax1.set_title('variants classification')\n",
    "    ax2.set_title('WCN')\n",
    "    ax3.set_title(r'$\\bar{G}$')\n",
    "    ax4.set_title(r'$\\bar{r}$')\n",
    "    ax5.set_title(r'G_n')\n",
    "    ax6.set_title(r'r_n')\n",
    "    \n",
    "    ax1.set_xlabel('rosetta_score',fontsize=13)\n",
    "    ax1.set_ylabel('GEMME score',fontsize=13)\n",
    "    ax1.set_xlim(6,-1)\n",
    "    ax1.set_ylim(-7,1)\n",
    "    ax2.set_ylim(0,15)\n",
    "    ax3.set_ylim(0,-8)\n",
    "    ax4.set_ylim(0,6)\n",
    "    ax5.set_ylim(0,-8)\n",
    "    ax6.set_ylim(0,6)\n",
    "    \n",
    "    \n",
    "    ax2.set_xticks([],[])\n",
    "    ax3.set_xticks([],[])\n",
    "    ax4.set_xticks([],[])\n",
    "    ax5.set_xticks([],[])\n",
    "    ax6.set_xticks([],[])\n",
    "    ax2.set_xlim(0.1,0.9)\n",
    "    \n",
    "    \n",
    "    \n",
    "    ax1.legend()"
   ]
  },
  {
   "cell_type": "code",
   "execution_count": 87,
   "metadata": {},
   "outputs": [],
   "source": [
    "def results_plot(MCC,AUC,name_models):\n",
    "    \n",
    "    fig,(ax1,ax2,ax3)=plt.subplots(1,3,figsize=(14,4))\n",
    "    \n",
    "    cdict = {1: '#355070', 2: '#6D597A',2:'#B56576',3 :'#a4d600',4:'#a47f4b',5:'#EAAC8B',6:'#4a944f',7:\"#F95738\"}\n",
    "    for g in range(0,7):\n",
    "        ax1.scatter(AUC[g,1],AUC[g,0],c=cdict[g+1])\n",
    "    ax1.plot([0, 1], [0, 1], transform=ax1.transAxes,ls=':')\n",
    "    ax1.set_xlabel('FPR',fontsize=13)\n",
    "    ax1.set_ylabel('TPR',fontsize=13)\n",
    "    \n",
    "    for g in range(0,7):\n",
    "        ax2.scatter(MCC[g,0],MCC[g,1],c=cdict[g+1], label=g+1)\n",
    "    #ax2.scatter(MCC[:,0],MCC[:,1],c=color_class)\n",
    "    \n",
    "    ax2.set_xlabel('Precision',fontsize=13)\n",
    "    ax2.set_ylabel('Recall',fontsize=13)\n",
    "    ax2.legend(loc='lower right')\n",
    "    \n",
    "    cbar=[cdict[i] for i in range(1,8)]\n",
    "    ax3.bar(name_models,MCC[:,2],color=cbar)\n",
    "    ax3.set_ylabel('MCC',fontsize=13)\n"
   ]
  },
  {
   "cell_type": "code",
   "execution_count": 88,
   "metadata": {},
   "outputs": [],
   "source": [
    "def print_percentage_prediction(pred,mode_pred,WT,WT_ros):\n",
    "    effective_pos=0\n",
    "    for i in range(len(WT)):\n",
    "        if WT[i]==WT_ros[i]:\n",
    "            effective_pos+=1\n",
    "    count_SBI=0\n",
    "    for i in pred:\n",
    "        if i ==1:\n",
    "            count_SBI+=1\n",
    "    \n",
    "    print(f' SBI variants: {count_SBI} out of {len(pred)} ({count_SBI/len(pred)*100:.2f}%) ')\n",
    "    \n",
    "    perc_variants=count_SBI/len(pred)*100\n",
    "    \n",
    "    count_SBI=0\n",
    "    for i in mode_pred:\n",
    "        if i==1:\n",
    "            count_SBI+=1\n",
    "    print(f' SBI residues: {count_SBI} out of {effective_pos} ({count_SBI/effective_pos*100:.2f}%) ')\n",
    "    \n",
    "    return [perc_variants, count_SBI/effective_pos*100]"
   ]
  },
  {
   "cell_type": "code",
   "execution_count": 89,
   "metadata": {},
   "outputs": [],
   "source": [
    "def print_numbers_prediction(pred,mode_pred,WT,WT_ros):\n",
    "    effective_pos=0\n",
    "    for i in range(len(WT)):\n",
    "        if WT[i]==WT_ros[i]:\n",
    "            effective_pos+=1\n",
    "    count_SBI=0\n",
    "    for i in pred:\n",
    "        if i ==1:\n",
    "            count_SBI+=1\n",
    "    \n",
    "    variants=count_SBI\n",
    "    \n",
    "    count_SBI=0\n",
    "    for i in mode_pred:\n",
    "        if i==1:\n",
    "            count_SBI+=1\n",
    "    \n",
    "    return [variants, count_SBI]"
   ]
  },
  {
   "cell_type": "code",
   "execution_count": 90,
   "metadata": {},
   "outputs": [],
   "source": [
    "def print_numbers_classification(pred,mode_pred):\n",
    "\n",
    "    count_SBI=[0,0,0,0]\n",
    "    for i in pred:\n",
    "            count_SBI[int(i)]+=1\n",
    "    \n",
    "    variants=count_SBI\n",
    "    \n",
    "    count_SBI=[0,0,0,0,0]\n",
    "    for i in mode_pred:\n",
    "        if np.isnan(i)!=True:\n",
    "            if i==5:\n",
    "                count_SBI[4]+=1\n",
    "            else:\n",
    "                count_SBI[int(i)]+=1\n",
    "    \n",
    "    return [variants, count_SBI]"
   ]
  },
  {
   "cell_type": "code",
   "execution_count": 91,
   "metadata": {},
   "outputs": [],
   "source": [
    "def print_catalytic_classification(mode_pred,cat_positions):\n",
    "    cat_pos=[x - 1 for x in cat_positions]\n",
    "    cat_pos=np.array(cat_pos)\n",
    "    count_SBI=[0,0,0,0,0]\n",
    "\n",
    "    for i,n in enumerate(mode_pred):\n",
    "        if np.count_nonzero(cat_pos == i)==1:\n",
    "            if np.isnan(i)!=True:\n",
    "                if int(n)==5:\n",
    "                    count_SBI[4]+=1\n",
    "                else:\n",
    "                    count_SBI[int(n)]+=1\n",
    "    \n",
    "    return  count_SBI"
   ]
  },
  {
   "cell_type": "markdown",
   "metadata": {},
   "source": [
    "### setup ML functions"
   ]
  },
  {
   "cell_type": "code",
   "execution_count": 92,
   "metadata": {},
   "outputs": [],
   "source": [
    "def blosum62_score(WT,scores):\n",
    "    blosum_prot=np.empty((len(WT),20),dtype=float)\n",
    "    \n",
    "    for i in range(len(WT)):\n",
    "        for j in range(20):\n",
    "            blosum_prot[i,j]=scores[alphabetAA_L_D[WT[i]]-1,j]\n",
    "            \n",
    "    return blosum_prot"
   ]
  },
  {
   "cell_type": "code",
   "execution_count": 93,
   "metadata": {},
   "outputs": [],
   "source": [
    "def secondary_structure_cat(pdb_loc,WT):\n",
    "    pdb=md.load(pdb_loc)\n",
    "    topology = pdb.topology\n",
    "    chainA = topology.select('chainid 0  and protein')\n",
    "    pdb_chainA= pdb.atom_slice(chainA)\n",
    "    \n",
    "    chainA_top=pdb_chainA.topology\n",
    "    \n",
    "    ss_labels=md.compute_dssp(pdb_chainA,simplified=False)\n",
    "\n",
    "    ss_ret_labels=np.empty(len(WT),dtype=float)\n",
    "    ss_ret_labels[:]=np.nan\n",
    "    \n",
    "    for i in range(len(ss_labels[0,:])):\n",
    "        ss_ret_labels[int(str(chainA_top.residue(i))[3:])-1]=AA_ddsp_number[ss_labels[0,i]]\n",
    "    \n",
    "    return ss_ret_labels\n",
    "    "
   ]
  },
  {
   "cell_type": "code",
   "execution_count": 94,
   "metadata": {},
   "outputs": [],
   "source": [
    "def secondary_structure_cat_simp(pdb_loc,WT):\n",
    "    pdb=md.load(pdb_loc)\n",
    "    topology = pdb.topology\n",
    "    chainA = topology.select('chainid 0  and protein')\n",
    "    pdb_chainA= pdb.atom_slice(chainA)\n",
    "    \n",
    "    chainA_top=pdb_chainA.topology\n",
    "    \n",
    "    ss_labels=md.compute_dssp(pdb_chainA,simplified=True)\n",
    "\n",
    "    ss_ret_labels=np.empty(len(WT),dtype=float)\n",
    "    ss_ret_labels[:]=np.nan\n",
    "    count=1\n",
    "    for j in range(len(WT)):\n",
    "        if WT[j]!='-':\n",
    "            for i in range(len(ss_labels[0,:])):\n",
    "                if count==int(str(chainA_top.residue(i))[3:]):\n",
    "                    ss_ret_labels[j]=AA_ddsp_number_simp[ss_labels[0,i]]\n",
    "            count+=1\n",
    "    return ss_ret_labels\n",
    "    "
   ]
  },
  {
   "cell_type": "code",
   "execution_count": 95,
   "metadata": {},
   "outputs": [],
   "source": [
    "def WCN(pdb_loc,scheme_e,WT):\n",
    "    r0=7.0\n",
    "    pdb=md.load(pdb_loc)\n",
    "    topology=pdb.topology\n",
    "    chainA=topology.select('chainid 0 and protein')\n",
    "    pdb_chain0=pdb.atom_slice(chainA)\n",
    "    pdb_dist,pdb_rp=md.compute_contacts(pdb_chain0,scheme=scheme_e,periodic=False)\n",
    "    \n",
    "    cm= md.geometry.squareform(pdb_dist,pdb_rp)[0]\n",
    "    wcn=np.zeros((len(WT)),dtype=float)\n",
    "    \n",
    "    cm_adj=np.empty((len(WT),len(WT)),dtype=float)\n",
    "    cm_adj[:]=np.nan\n",
    "    chainA_top=pdb_chain0.topology\n",
    "    \n",
    "    for i in range(cm.shape[0]):\n",
    "        for j in range(cm.shape[1]):\n",
    "            if i==0 and j==0:\n",
    "                print(str(chainA_top.residue(i)))\n",
    "            cm_adj[int(str(chainA_top.residue(i))[3:])-1,int(str(chainA_top.residue(j))[3:])-1]=cm[i,j]\n",
    "    for i in range(len(WT)):\n",
    "        nan_flag=True\n",
    "        for j in range(len(WT)):\n",
    "            if np.isnan(cm_adj[i,j])!=True and cm_adj[i,j]!=0.0:\n",
    "                nan_flag=False\n",
    "                wcn[i]+=(1-(cm_adj[i,j]*10/r0)**6)/(1-(cm_adj[i,j]*10/r0)**12)\n",
    "        if nan_flag==True:\n",
    "            wcn[i]=np.nan\n",
    "    return wcn"
   ]
  },
  {
   "cell_type": "code",
   "execution_count": 96,
   "metadata": {},
   "outputs": [],
   "source": [
    "def neighbor_scores(score,ext_range):\n",
    "    score_neighborhood=np.zeros(len(score),dtype=float)\n",
    "    for i in range(len(score)):\n",
    "        if np.isnan(score[i])!=True:\n",
    "            count_nan=0\n",
    "            if i==0:\n",
    "                for j in range(1,ext_range+1):\n",
    "                    if np.isnan(score[j])==False:\n",
    "                        score_neighborhood[i]+=score[j]\n",
    "                    else:\n",
    "                        count_nan+=1\n",
    "                if count_nan!=ext_range:    \n",
    "                    score_neighborhood[i]/=(ext_range)\n",
    "                else:\n",
    "                    score_neighborhood[i]=np.nan\n",
    "\n",
    "            elif i==(len(score)-1):\n",
    "                for j in range(len(score)-1-ext_range,len(score)-1):\n",
    "                    if np.isnan(score[j])==False:\n",
    "                        score_neighborhood[i]+=score[j]\n",
    "                    else:\n",
    "                        count_nan+=1\n",
    "                if count_nan!=ext_range: \n",
    "                    score_neighborhood[i]/=ext_range\n",
    "                else:\n",
    "                    score_neighborhood[i]=np.nan                \n",
    "            elif i<ext_range:\n",
    "                for j in range(0,i+ext_range+1):\n",
    "                    if j!=i:\n",
    "                        if np.isnan(score[j])==False:\n",
    "                            score_neighborhood[i]+=score[j]\n",
    "                        else:\n",
    "                            count_nan+=1\n",
    "                if count_nan!=(i+ext_range):    \n",
    "                    score_neighborhood[i]/=(i+ext_range)\n",
    "                else:\n",
    "                    score_neighborhood[i]=np.nan                        \n",
    "\n",
    "            elif i>(len(score)-1-ext_range):\n",
    "                for j in range(i-ext_range,len(score)):\n",
    "                    if j!=i:\n",
    "                        if np.isnan(score[j])==False:\n",
    "                            score_neighborhood[i]+=score[j]\n",
    "                        else:\n",
    "                            count_nan+=1\n",
    "                if count_nan!=(len(score)-i+ext_range):                     \n",
    "                    score_neighborhood[i]/=(len(score)-i+ext_range)\n",
    "                else:\n",
    "                    score_neighborhood[i]=np.nan  \n",
    "            else:\n",
    "                for j in range(i-ext_range,i+ext_range+1):\n",
    "                    if j!=i:\n",
    "                        if np.isnan(score[j])==False:\n",
    "                            score_neighborhood[i]+=score[j]\n",
    "                        else:\n",
    "                            count_nan+=1\n",
    "                if count_nan!=(2*ext_range):  \n",
    "                    score_neighborhood[i]/=(2*ext_range)\n",
    "                else:\n",
    "                    score_neighborhood[i]=np.nan             \n",
    "        else:\n",
    "            score_neighborhood[i]=np.nan\n",
    "    return score_neighborhood"
   ]
  },
  {
   "cell_type": "code",
   "execution_count": 97,
   "metadata": {},
   "outputs": [],
   "source": [
    "def label_category(output,threshold):\n",
    "    labels=[]\n",
    "    if output.ndim==1:\n",
    "        labels=np.copy(output)\n",
    "        labels[:]=np.nan\n",
    "        for i in range(len(output)):\n",
    "            if output[i]<threshold:\n",
    "                labels[i]=0\n",
    "            else:\n",
    "                labels[i]=1\n",
    "    else:\n",
    "        labels=np.copy(output)\n",
    "        labels[:]=np.nan\n",
    "        for i in range(output.shape[0]):\n",
    "            for j in range(output.shape[1]):\n",
    "                if output[i,j]<threshold:\n",
    "                    labels[i,j]=1\n",
    "                else:\n",
    "                    labels[i,j]=0\n",
    "    return labels"
   ]
  },
  {
   "cell_type": "code",
   "execution_count": 98,
   "metadata": {},
   "outputs": [],
   "source": [
    "def features_classification(list_features_x,list_output_y,WT):\n",
    "    \n",
    "    X=[]\n",
    "    Y=[]\n",
    "    mapping_pos=[] \n",
    "    \n",
    "    for i in range(len(WT)):\n",
    "        for j in range(20):\n",
    "            if j!=(alphabetAA_L_D[WT[i]]-1):\n",
    "                temp_x=[]\n",
    "                temp_y=[]\n",
    "                cond=True\n",
    "\n",
    "                for elem in list_features_x:\n",
    "                    if elem.ndim==1:\n",
    "                        if np.isnan(elem[i])==True:\n",
    "                            cond=False\n",
    "                    else:\n",
    "                        if np.isnan(elem[i,j])==True:\n",
    "                            cond=False    \n",
    "                \n",
    "                for elem in list_output_y:\n",
    "                    if elem.ndim==1:\n",
    "                        if np.isnan(elem[i])==True:\n",
    "                            cond=False\n",
    "                    else:\n",
    "                        if np.isnan(elem[i,j])==True:\n",
    "                            cond=False \n",
    "\n",
    "                if cond==True:\n",
    "                    \n",
    "                    for elem in list_features_x:\n",
    "                        if elem.ndim==1:\n",
    "                            temp_x.append(elem[i])\n",
    "                        else:\n",
    "                            temp_x.append(elem[i,j])\n",
    "\n",
    "                    for elem in list_output_y:\n",
    "                        if elem.ndim==1:\n",
    "                            temp_y.append(elem[i])\n",
    "                        else:\n",
    "                            temp_y.append(elem[i,j])\n",
    "                    \n",
    "                if len(temp_x)>0:\n",
    "                    X.append(temp_x)\n",
    "                    Y.append(temp_y)\n",
    "                    mapping_pos.append([i,j])\n",
    "        \n",
    "    return np.array(X),Y,mapping_pos        "
   ]
  },
  {
   "cell_type": "code",
   "execution_count": 99,
   "metadata": {},
   "outputs": [],
   "source": [
    "def features_classification(list_features_x,list_output_y,WT):\n",
    "    \n",
    "    X=[]\n",
    "    Y=[]\n",
    "    mapping_pos=[] \n",
    "    \n",
    "    for i in range(len(WT)):\n",
    "        for j in range(20):\n",
    "            if j!=(alphabetAA_L_D[WT[i]]-1):\n",
    "                temp_x=[]\n",
    "                temp_y=[]\n",
    "                cond=True\n",
    "\n",
    "                for elem in list_features_x:\n",
    "                    if elem.ndim==1:\n",
    "                        if np.isnan(elem[i])==True:\n",
    "                            cond=False\n",
    "                    else:\n",
    "                        if np.isnan(elem[i,j])==True:\n",
    "                            cond=False    \n",
    "                \n",
    "                for elem in list_output_y:\n",
    "                    if elem.ndim==1:\n",
    "                        if np.isnan(elem[i])==True:\n",
    "                            cond=False\n",
    "                    else:\n",
    "                        if np.isnan(elem[i,j])==True:\n",
    "                            cond=False \n",
    "\n",
    "                if cond==True:\n",
    "                    \n",
    "                    for elem in list_features_x:\n",
    "                        if elem.ndim==1:\n",
    "                            temp_x.append(elem[i])\n",
    "                        else:\n",
    "                            temp_x.append(elem[i,j])\n",
    "\n",
    "                    for elem in list_output_y:\n",
    "                        if elem.ndim==1:\n",
    "                            temp_y.append(elem[i])\n",
    "                        else:\n",
    "                            temp_y.append(elem[i,j])\n",
    "                    \n",
    "                if len(temp_x)>0:\n",
    "                    X.append(temp_x)\n",
    "                    Y.append(temp_y)\n",
    "                    mapping_pos.append([i,j])\n",
    "        \n",
    "    return np.array(X),Y,mapping_pos        "
   ]
  },
  {
   "cell_type": "code",
   "execution_count": 100,
   "metadata": {},
   "outputs": [],
   "source": [
    "def features_validation(list_features_x,WT):\n",
    "    \n",
    "    X=[]\n",
    "    mapping_pos=[] \n",
    "    \n",
    "    for i in range(len(WT)):\n",
    "        for j in range(20):\n",
    "            if j!=(alphabetAA_L_D[WT[i]]-1):\n",
    "                temp_x=[]\n",
    "                temp_y=[]\n",
    "                cond=True\n",
    "\n",
    "                for elem in list_features_x:\n",
    "                    if elem.ndim==1:\n",
    "                        if np.isnan(elem[i])==True:\n",
    "                            cond=False\n",
    "                    else:\n",
    "                        if np.isnan(elem[i,j])==True:\n",
    "                            cond=False    \n",
    "            \n",
    "\n",
    "                if cond==True:\n",
    "                    \n",
    "                    for elem in list_features_x:\n",
    "                        if elem.ndim==1:\n",
    "                            temp_x.append(elem[i])\n",
    "                        else:\n",
    "                            temp_x.append(elem[i,j])\n",
    "                    \n",
    "                if len(temp_x)>0:\n",
    "                    X.append(temp_x)\n",
    "                    mapping_pos.append([i,j])\n",
    "        \n",
    "    return np.array(X),mapping_pos        "
   ]
  },
  {
   "cell_type": "code",
   "execution_count": 101,
   "metadata": {},
   "outputs": [],
   "source": [
    "def binary_threshold(data_x,data_y,t_x,t_y):\n",
    "    labels=np.copy(data_x)\n",
    "    labels[:]=np.nan\n",
    "    \n",
    "    for i in range(data_x.shape[0]):\n",
    "        for j in range(data_x.shape[1]):\n",
    "            if np.isnan(data_x[i,j])!= True and np.isnan(data_y[i,j])!=True:\n",
    "                if data_x[i,j] > t_x and data_y[i,j]<t_y:\n",
    "                    labels[i,j]=1\n",
    "                else:\n",
    "                    labels[i,j]=0\n",
    "    \n",
    "    return labels"
   ]
  },
  {
   "cell_type": "code",
   "execution_count": 102,
   "metadata": {},
   "outputs": [],
   "source": [
    "def multiclass_threshold(data_x,data_y,t_x,t_y):\n",
    "    labels=np.copy(data_x)\n",
    "    labels[:]=np.nan\n",
    "    \n",
    "    for i in range(data_x.shape[0]):\n",
    "        for j in range(data_x.shape[1]):\n",
    "            if np.isnan(data_x[i,j])!= True and np.isnan(data_y[i,j])!=True:\n",
    "                if data_x[i,j] > t_x and data_y[i,j]<t_y:\n",
    "                    labels[i,j]=1\n",
    "                elif data_x[i,j] < t_x and data_y[i,j]<t_y:\n",
    "                    labels[i,j]=2\n",
    "                elif data_x[i,j] < t_x and data_y[i,j]>t_y:\n",
    "                    labels[i,j]=3\n",
    "                else:\n",
    "                    labels[i,j]=0\n",
    "    \n",
    "    return labels"
   ]
  },
  {
   "cell_type": "code",
   "execution_count": 103,
   "metadata": {},
   "outputs": [],
   "source": [
    "def prob_to_label(probability,thr):\n",
    "    labels=np.zeros(probability.shape[0],dtype=int)\n",
    "    for i in range(probability.shape[0]):\n",
    "        if probability[i][1]>thr:\n",
    "            labels[i]=1\n",
    "            #print(1)\n",
    "        else:\n",
    "            labels[i]=0\n",
    "            #print(0)\n",
    "    return labels"
   ]
  },
  {
   "cell_type": "code",
   "execution_count": 104,
   "metadata": {},
   "outputs": [],
   "source": [
    "def pairplot_features_class(list_feature,name_features,namefile,class_coloured):\n",
    "    df=pd.DataFrame(list_feature,columns=name_features)\n",
    "    if class_coloured==1:\n",
    "        sns_plot=sns.pairplot(df,vars=name_features[:-1],hue='Y',palette={0:'w',1:'b'})\n",
    "    elif class_coloured==0:\n",
    "        sns_plot=sns.pairplot(df,vars=name_features[:-1],hue='Y',palette={-1:'w',0:'r'}) \n",
    "    else:\n",
    "        sns_plot=sns.pairplot(df,vars=name_features[:-1],hue='Y')         \n",
    "    sns_plot.savefig(namefile)"
   ]
  },
  {
   "cell_type": "code",
   "execution_count": 105,
   "metadata": {},
   "outputs": [],
   "source": [
    "def gemme_prediction(X,X_map,WT,thr,file):\n",
    "    prediction=np.zeros(len(X),dtype=int)\n",
    "    for i in range(len(X)):\n",
    "        if X[i] < thr:\n",
    "            prediction[i]=1\n",
    "            \n",
    "    mode_prediction,percentage=retrieve_residue_label_pred(prediction,X_map,WT,0.50)\n",
    "    file=open(file,\"w+\")\n",
    "    file.write('%s\\n%s\\n%s\\n%s\\n' % ('#','#  Use this file to assign the attribute in Chimera with the','#  Define Attribute tool or the command defattr','#'))\n",
    "    file.write('%s\\n%s\\n%s\\n' % ( 'attribute: cbyvalue','match mode: 1-to-1', 'recipient: residues') )\n",
    "    \n",
    "    for i in range(len(mode_prediction)):\n",
    "        if np.isnan(mode_prediction[i])==True:\n",
    "            file.write(\"\\t%s%d%s\\t%f\\n\" % (':',i+1,'.A',-1))\n",
    "        else:\n",
    "            file.write(\"\\t%s%d%s\\t%f\\n\" % (':',i+1,'.A',percentage[i,0]))\n",
    "    file.close()"
   ]
  },
  {
   "cell_type": "code",
   "execution_count": 106,
   "metadata": {},
   "outputs": [],
   "source": [
    "def count_positive_SBI(prediction,perc,sites):\n",
    "    count_pos=[0,0,0]\n",
    "    for i in range(len(prediction)):\n",
    "        if np.isnan(prediction[i])!=True:\n",
    "            if i+1 in sites:\n",
    "                if perc[i]>0.5:\n",
    "                    count_pos[0]+=1\n",
    "                if perc[i]>0.2 and perc[i]<=0.5:\n",
    "                    count_pos[1]+=1\n",
    "                count_pos[2]+=1\n",
    "                \n",
    "    \n",
    "    return count_pos"
   ]
  },
  {
   "cell_type": "code",
   "execution_count": 107,
   "metadata": {},
   "outputs": [],
   "source": [
    "def index_positive_SBI(prediction,perc,sites):\n",
    "    index_pos=[]\n",
    "    index_dpos=[]\n",
    "    for i in range(len(prediction)):\n",
    "        if np.isnan(prediction[i])!=True:\n",
    "            if i+1 in sites:\n",
    "                if perc[i]>0.5:\n",
    "                    index_pos.append(i)\n",
    "                if perc[i]>0.2 and perc[i]<=0.5:\n",
    "                    index_dpos.append(i)\n",
    "    \n",
    "    return index_pos,index_dpos"
   ]
  },
  {
   "cell_type": "code",
   "execution_count": 108,
   "metadata": {},
   "outputs": [],
   "source": [
    "def index_SBI_db(prediction,sites):\n",
    "    index_pos=[]\n",
    "    for i in range(len(prediction)):\n",
    "        if np.isnan(prediction[i])!=True:\n",
    "            if i+1 in sites:\n",
    "                if prediction[i]==1:\n",
    "                    index_pos.append(i)\n",
    "    \n",
    "    return index_pos"
   ]
  },
  {
   "cell_type": "code",
   "execution_count": 109,
   "metadata": {},
   "outputs": [],
   "source": [
    "def asa_SBI(prediction,asa):\n",
    "    asa_collect=[]\n",
    "    for i,n in enumerate(prediction):\n",
    "        if n==1:\n",
    "            asa_collect.append(asa[i])\n",
    "    return asa_collect"
   ]
  },
  {
   "cell_type": "code",
   "execution_count": 110,
   "metadata": {},
   "outputs": [],
   "source": [
    "def struc_coordinates(pdb_loc,WT,chain='A'):\n",
    "    alphabetAA_3L_1LC={\"Ter\":'*',\"Gap\":'-',\"ALA\":'A',\"CYS\":'C',\"ASP\":'D',\"GLU\":'E',\"PHE\":'F',\"GLY\":'G',\"HIS\":'H',\"ILE\":'I',\"LYS\":'K',\"LEU\":'L',\"MET\":'M',\"ASN\":'N',\"PRO\":'P',\"GLN\":'Q',\"ARG\":'R',\"SER\":'S',\"THR\":'T',\"VAL\" :'V',\"TRP\":'W',\"TYR\":'Y'}\n",
    "\n",
    "    coordinates=np.empty((len(WT),3),dtype=float)\n",
    "    coordinates[:]=np.nan\n",
    "    \n",
    "    fr = open(pdb_loc, 'r')\n",
    "\n",
    "    for record in fr:\n",
    "        if(re.search(r'^ATOM\\s+\\d+\\s+CA\\s+', record)):\n",
    "            if chain==(record[21:22]):\n",
    "                pos=int(record[23:26])\n",
    "                if alphabetAA_3L_1LC[record[17:20]]!=WT[pos-1]:\n",
    "                    print(f\"WARNING: in pos {pos}, WT sequence AA doesn't match pbd AA\")\n",
    "                    \n",
    "                coordinates[pos-1,0]=float(record[31:38])\n",
    "                coordinates[pos-1,1]=float(record[39:46])\n",
    "                coordinates[pos-1,2]=float(record[47:54])\n",
    "    \n",
    "    fr.close()\n",
    "    \n",
    "    return coordinates"
   ]
  },
  {
   "cell_type": "code",
   "execution_count": 111,
   "metadata": {},
   "outputs": [],
   "source": [
    "def AS_CA_distance(CA_coord,AS_pos,target):\n",
    "    AS_baricenter=np.zeros((3,1),dtype=float)\n",
    "    \n",
    "    for i in AS_pos:\n",
    "        if np.isnan(CA_coord[i-1,:]).any():\n",
    "            print(f'WARNING - no active site coordinates in pdb for position: {i}')\n",
    "        else:\n",
    "            AS_baricenter[0]+=CA_coord[i-1,0]\n",
    "            AS_baricenter[1]+=CA_coord[i-1,1]\n",
    "            AS_baricenter[2]+=CA_coord[i-1,2]\n",
    "        \n",
    "    AS_baricenter=AS_baricenter/len(AS_pos)\n",
    "\n",
    "    dist=[-1.0]\n",
    "    \n",
    "    if np.isnan(CA_coord[target-1,:]).any():\n",
    "        pass\n",
    "        ##print(f'WARNING - no target coordinates in pdb for position: {target}')\n",
    "    else:\n",
    "        dist=sp.sqrt((AS_baricenter[0]-CA_coord[target-1,0])**2+(AS_baricenter[1]-CA_coord[target-1,1])**2+(AS_baricenter[2]-CA_coord[target-1,2])**2)\n",
    "    \n",
    "    return dist[0]"
   ]
  },
  {
   "cell_type": "code",
   "execution_count": 112,
   "metadata": {},
   "outputs": [],
   "source": [
    "def SBI_contact_map(CA_coord,SBI_list):\n",
    "    SBI_CA=[]\n",
    "    \n",
    "    for i,n in enumerate(SBI_list):\n",
    "        if np.count_nonzero(np.isnan(CA_coord[i,:])==True):\n",
    "            pass\n",
    "        else:\n",
    "            SBI_CA.append([n, list(CA_coord[i,:])])\n",
    "        \n",
    "    print(len(np.array(SBI_CA)))\n",
    "    \n",
    "    SBI_CM=np.empty((len(SBI_CA),len(SBI_CA)),dtype=float)\n",
    "    SBI_CM[:]=np.nan\n",
    "    for i in range(len(SBI_CA)):\n",
    "        for j in range(i,len(SBI_CA)):\n",
    "                SBI_CM[i,j]=sp.sqrt((SBI_CA[i][1][0]-SBI_CA[j][1][0])**2+(SBI_CA[i][1][1]-SBI_CA[j][1][1])**2+(SBI_CA[i][1][2]-SBI_CA[j][1][2])**2)\n",
    "                SBI_CM[j,i]=SBI_CM[i,j]\n",
    "    \n",
    "    fig,(ax)=plt.subplots(1,2,figsize=(12,6))\n",
    "    pos=ax[0].imshow(SBI_CM)\n",
    "    from mpl_toolkits.axes_grid1 import make_axes_locatable\n",
    "    divider = make_axes_locatable(ax[0])\n",
    "    cax = divider.append_axes(\"right\", size=\"5%\", pad=0.05)\n",
    "    cbar=fig.colorbar(pos,ax=ax[0],cax=cax)\n",
    "    cbar.ax.tick_params(labelsize=14) \n",
    "    \n",
    "    ax[0].set_yticks([i for i in range(0,len(SBI_CA))])\n",
    "    ax[0].set_yticklabels([str(SBI_CA[i][0]) for i in range(0,len(SBI_CA))],fontsize=14)\n",
    "    \n",
    "    ax[0].set_xticks([i for i in range(0,len(SBI_CA))])\n",
    "    ax[0].set_xticklabels([str(SBI_CA[i][0]) for i in range(0,len(SBI_CA))],rotation='vertical',fontsize=14)\n",
    "    \n",
    "    ax[0].set_xlabel('SBI residue',fontsize=16)\n",
    "    ax[0].set_ylabel('SBI residue',fontsize=16)\n",
    "    \n",
    "    pca=sb.stats.ordination.pcoa(SBI_CM,number_of_dimensions=2)\n",
    "    df=pca.samples\n",
    "    \n",
    "    \n",
    "    \n",
    "    from sklearn.cluster import KMeans\n",
    "    from sklearn.metrics import silhouette_score\n",
    "\n",
    "    sil = []\n",
    "    kmax = 10\n",
    "\n",
    "    # dissimilarity would not be defined for a single cluster, thus, minimum number of clusters should be 2\n",
    "    for k in range(2, kmax+1):\n",
    "       # kmeans = KMeans(n_clusters = k,precompute_distances=True).fit(SBI_CM)\n",
    "        kmeans = KMeans(n_clusters = k).fit(SBI_CM)\n",
    "\n",
    "        labels = kmeans.labels_\n",
    "        sil.append(silhouette_score(SBI_CM, labels, metric = 'euclidean'))\n",
    "        \n",
    "    \n",
    "    \n",
    "    print(np.argmax(sil)+2, sil[np.argmax(sil)])\n",
    "        \n",
    "    #kmeans = KMeans(n_clusters=np.argmax(sil)+2,precompute_distances=True).fit(SBI_CM)\n",
    "    kmeans = KMeans(n_clusters=np.argmax(sil)+2).fit(SBI_CM)\n",
    "\n",
    "    \n",
    "    ax[1].scatter(df.iloc[:,0],df.iloc[:,1],c=kmeans.labels_)\n",
    "    ax[1].set_xlabel('PCA 1',fontsize=16)\n",
    "    ax[1].set_ylabel('PCA 2',fontsize=16)\n",
    "    ax[1].tick_params(axis='both', which='major', labelsize=14)\n",
    "    idx=0\n",
    "    for label, x, y in zip(SBI_list, df.iloc[:,0],df.iloc[:,1]):\n",
    "        ax[1].annotate(label, (x+0.1,y+0.1), fontsize=14)\n",
    "        idx+=1"
   ]
  },
  {
   "cell_type": "code",
   "execution_count": 113,
   "metadata": {},
   "outputs": [],
   "source": [
    "def variants_statistic(prediction,variant_map,WT,rosetta_score,ros_thr):\n",
    "    alphabetAA_L_D={'-':0,'_' :0,'A':1,'C':2,'D':3,'E':4,'F':5,'G':6,'H':7,'I':8,'K':9,'L':10,'M':11,'N':12,'P':13,'Q':14,'R':15,'S':16,'T':17,'V':18,'W':19,'Y':20}\n",
    "\n",
    "    alphabetAA_L_D_reordered={'H':0,'K':1,'R':2,'D':3,'E':4,'C':5,'M':6,'N':7,'Q':8,'S':9,'T':10,'A':11,'G':12,'I':13,'L':14,'P':15,'V':16,'F':17,'W':18,'Y':19}\n",
    "    AA_reordered={6:0,8:1,14:2,2:3,3:4,1:5,10:6,11:7,13:8,15:9,16:10,0:11,5:12,7:13,9:14,12:15,17:16,4:17,18:18,19:19}\n",
    "\n",
    "    \n",
    "    scores=np.empty((len(WT),20),dtype=float)\n",
    "    scores[:]=np.nan\n",
    "    \n",
    "    i=0\n",
    "    for cord in variant_map:\n",
    "        scores[cord[0],cord[1]]=prediction[i]\n",
    "        i+=1\n",
    "\n",
    "    SBI_statistic_m=np.zeros((20,20),dtype=float)\n",
    "    NO_SBI_statistic_m_over2=np.zeros((20,20),dtype=float)\n",
    "    NO_SBI_statistic_m_under2=np.zeros((20,20),dtype=float)\n",
    "    \n",
    "    i=0\n",
    "    \n",
    "    for cord in variant_map:\n",
    "        if prediction[i]==1:\n",
    "            if WT[cord[0]]!='-' and np.count_nonzero(scores[cord[0],:] == 1) >9:\n",
    "                SBI_statistic_m[alphabetAA_L_D_reordered[WT[cord[0]]],AA_reordered[cord[1]]]+=1\n",
    "        else:\n",
    "            if WT[cord[0]]!='-' and np.count_nonzero(scores[cord[0],:] == 1) >9:\n",
    "                if rosetta_score[cord[0],cord[1]]>ros_thr:\n",
    "                    NO_SBI_statistic_m_over2[alphabetAA_L_D_reordered[WT[cord[0]]],AA_reordered[cord[1]]]+=1\n",
    "                else:\n",
    "                    NO_SBI_statistic_m_under2[alphabetAA_L_D_reordered[WT[cord[0]]],AA_reordered[cord[1]]]+=1\n",
    "        i+=1\n",
    "\n",
    "    return [SBI_statistic_m, NO_SBI_statistic_m_under2,NO_SBI_statistic_m_over2]"
   ]
  },
  {
   "cell_type": "code",
   "execution_count": 114,
   "metadata": {},
   "outputs": [],
   "source": [
    "def variants_statistic(prediction,variant_map,WT):\n",
    "    alphabetAA_L_D={'-':0,'_' :0,'A':1,'C':2,'D':3,'E':4,'F':5,'G':6,'H':7,'I':8,'K':9,'L':10,'M':11,'N':12,'P':13,'Q':14,'R':15,'S':16,'T':17,'V':18,'W':19,'Y':20}\n",
    "\n",
    "    alphabetAA_L_D_reordered={'H':0,'K':1,'R':2,'D':3,'E':4,'C':5,'M':6,'N':7,'Q':8,'S':9,'T':10,'A':11,'G':12,'I':13,'L':14,'P':15,'V':16,'F':17,'W':18,'Y':19}\n",
    "    AA_reordered={6:0,8:1,14:2,2:3,3:4,1:5,10:6,11:7,13:8,15:9,16:10,0:11,5:12,7:13,9:14,12:15,17:16,4:17,18:18,19:19}\n",
    "\n",
    "    \n",
    "    scores=np.empty((len(WT),20),dtype=float)\n",
    "    scores[:]=np.nan\n",
    "    \n",
    "    i=0\n",
    "    for cord in variant_map:\n",
    "        scores[cord[0],cord[1]]=prediction[i]\n",
    "        i+=1\n",
    "\n",
    "    SBI_statistic_m=np.zeros((20,20),dtype=float)\n",
    "    NO_SBI_statistic_m_over2=np.zeros((20,20),dtype=float)\n",
    "    NO_SBI_statistic_m_under2=np.zeros((20,20),dtype=float)\n",
    "    \n",
    "    i=0\n",
    "    \n",
    "    for cord in variant_map:\n",
    "        if prediction[i]==1:\n",
    "            if WT[cord[0]]!='-' and np.count_nonzero(scores[cord[0],:] == 1) >9:\n",
    "                SBI_statistic_m[alphabetAA_L_D_reordered[WT[cord[0]]],AA_reordered[cord[1]]]+=1\n",
    "        else:\n",
    "            if WT[cord[0]]!='-' and np.count_nonzero(scores[cord[0],:] == 1) >9:\n",
    "                if prediction[i]==2:\n",
    "                    NO_SBI_statistic_m_over2[alphabetAA_L_D_reordered[WT[cord[0]]],AA_reordered[cord[1]]]+=1\n",
    "                if prediction[i]==0:\n",
    "                    NO_SBI_statistic_m_under2[alphabetAA_L_D_reordered[WT[cord[0]]],AA_reordered[cord[1]]]+=1\n",
    "        i+=1\n",
    "\n",
    "    return [SBI_statistic_m, NO_SBI_statistic_m_under2,NO_SBI_statistic_m_over2]"
   ]
  },
  {
   "cell_type": "code",
   "execution_count": 115,
   "metadata": {},
   "outputs": [],
   "source": [
    "def variants_statistic_slice(prediction,variant_map,WT,slice_thr):\n",
    "    alphabetAA_L_D={'-':0,'_' :0,'A':1,'C':2,'D':3,'E':4,'F':5,'G':6,'H':7,'I':8,'K':9,'L':10,'M':11,'N':12,'P':13,'Q':14,'R':15,'S':16,'T':17,'V':18,'W':19,'Y':20}\n",
    "\n",
    "    alphabetAA_L_D_reordered={'H':0,'K':1,'R':2,'D':3,'E':4,'C':5,'M':6,'N':7,'Q':8,'S':9,'T':10,'A':11,'G':12,'I':13,'L':14,'P':15,'V':16,'F':17,'W':18,'Y':19}\n",
    "    AA_reordered={6:0,8:1,14:2,2:3,3:4,1:5,10:6,11:7,13:8,15:9,16:10,0:11,5:12,7:13,9:14,12:15,17:16,4:17,18:18,19:19}\n",
    "    \n",
    "    scores=np.empty((len(WT),20),dtype=float)\n",
    "    scores[:]=np.nan\n",
    "    \n",
    "    i=0\n",
    "    for cord in variant_map:\n",
    "        scores[cord[0],cord[1]]=prediction[i]\n",
    "        i+=1\n",
    "\n",
    "    SBI_statistic_m=np.zeros((20,20),dtype=float)\n",
    "    NO_SBI_statistic_m_over2=np.zeros((20,20),dtype=float)\n",
    "    NO_SBI_statistic_m_under2=np.zeros((20,20),dtype=float)\n",
    "    \n",
    "    i=0\n",
    "    \n",
    "    for cord in variant_map:\n",
    "        if prediction[i]==1:\n",
    "            if WT[cord[0]]!='-' and slice_thr[0] < np.count_nonzero(scores[cord[0],:] == 1)  < slice_thr[1] :\n",
    "                SBI_statistic_m[alphabetAA_L_D_reordered[WT[cord[0]]],AA_reordered[cord[1]]]+=1\n",
    "        else:\n",
    "            if WT[cord[0]]!='-' and slice_thr[0] < np.count_nonzero(scores[cord[0],:] == 1)  < slice_thr[1]:\n",
    "                if prediction[i]==0:\n",
    "                    NO_SBI_statistic_m_over2[alphabetAA_L_D_reordered[WT[cord[0]]],AA_reordered[cord[1]]]+=1\n",
    "                if prediction[i]==2:\n",
    "                    NO_SBI_statistic_m_under2[alphabetAA_L_D_reordered[WT[cord[0]]],AA_reordered[cord[1]]]+=1\n",
    "        i+=1\n",
    "\n",
    "    return [SBI_statistic_m, NO_SBI_statistic_m_under2,NO_SBI_statistic_m_over2]"
   ]
  },
  {
   "cell_type": "code",
   "execution_count": 116,
   "metadata": {},
   "outputs": [],
   "source": [
    "def variants_extract(prediction,variant_map,pos):\n",
    "    \n",
    "    scores=np.empty(20,dtype=float)\n",
    "    scores[:]=np.nan\n",
    "    \n",
    "    i=0\n",
    "    for cord in variant_map:\n",
    "        if cord[0]==pos:\n",
    "            scores[cord[1]]=prediction[i]\n",
    "        i+=1\n",
    "            \n",
    "    return scores"
   ]
  },
  {
   "cell_type": "markdown",
   "metadata": {
    "tags": [],
    "toc-hr-collapsed": true
   },
   "source": [
    "## Load trained model"
   ]
  },
  {
   "cell_type": "code",
   "execution_count": 117,
   "metadata": {
    "tags": []
   },
   "outputs": [],
   "source": [
    "cat=CatBoostClassifier(iterations=2500, random_strength= 1, depth= 7, l2_leaf_reg= 9, bagging_temperature= 2,verbose=0,class_weights={0:1,1:2,2:1,3:0.1})"
   ]
  },
  {
   "cell_type": "code",
   "execution_count": 118,
   "metadata": {
    "tags": []
   },
   "outputs": [
    {
     "data": {
      "text/plain": [
       "<catboost.core.CatBoostClassifier at 0x7f832838e250>"
      ]
     },
     "execution_count": 118,
     "metadata": {},
     "output_type": "execute_result"
    }
   ],
   "source": [
    "cat.load_model('../catboost_model/cat_trained_24jun22.cbm')"
   ]
  },
  {
   "cell_type": "markdown",
   "metadata": {
    "tags": [],
    "toc-hr-collapsed": false
   },
   "source": [
    "## Load MCSA dataset (1/2)"
   ]
  },
  {
   "cell_type": "markdown",
   "metadata": {
    "toc-hr-collapsed": true
   },
   "source": [
    "### P00469"
   ]
  },
  {
   "cell_type": "code",
   "execution_count": 119,
   "metadata": {
    "tags": []
   },
   "outputs": [],
   "source": [
    "P00469_WT_sequence=\"MLEQPYLDLAKKVLDEGHFKPDRTHTGTYSIFGHQMRFDLSKGFPLLTTKKVPFGLIKSELLWFLHGDTNIRFLLQHRNHIWDEWAFEKWVKSDEYHGPDMTDFGHRSQKDPEFAAVYHEEMAKFDDRVLHDDAFAAKYGDLGLVYGSQWRAWHTSKGDTIDQLGDVIEQIKTHPYSRRLIVSAWNPEDVPTMALPPCHTLYQFYVNDGKLSLQLYQRSADIFLGVPFNIASYALLTHLVAHECGLEVGEFIHTFGDAHLYVNHLDQIKEQLSRTPRPAPTLQLNPDKHDIFDFDMKDIKLLNYDPYPAIKAPVAV\"\n",
    "P00469_WT_seq_rose=\"MLEQPYLDLAKKVLDEGHFKPDRTHTGTYSIFGHQMRFDLSKGFPLLTTKKVPFGLIKSELLWFLHGDTNIRFLLQHRNHIWDEWAFEKWVKSDEYHGPDMTDFGHRSQKDPEFAAVYHEEMAKFDDRVLHDDAFAAKYGDLGLVYGSQWRAWHTSKGDTIDQLGDVIEQIKTHPYSRRLIVSAWNPEDVPTMALPPCHTLYQFYVNDGKLSLQLYQRSADIFLGVPFNIASYALLTHLVAHECGLEVGEFIHTFGDAHLYVNHLDQIKEQLSRTPRPAPTLQLNPDKHDIFDFDMKDIKLLNYDPYPAIKAPVAV\""
   ]
  },
  {
   "cell_type": "code",
   "execution_count": 120,
   "metadata": {
    "tags": []
   },
   "outputs": [
    {
     "name": "stdout",
     "output_type": "stream",
     "text": [
      "316 1.0\n"
     ]
    }
   ],
   "source": [
    "count=0\n",
    "for i in range(len(P00469_WT_sequence)):\n",
    "    if P00469_WT_sequence[i]==P00469_WT_seq_rose[i]:\n",
    "        count+=1\n",
    "print(len(P00469_WT_sequence),count/len(P00469_WT_seq_rose))"
   ]
  },
  {
   "cell_type": "markdown",
   "metadata": {},
   "source": [
    "#### P00469 active site"
   ]
  },
  {
   "cell_type": "code",
   "execution_count": 121,
   "metadata": {
    "tags": []
   },
   "outputs": [],
   "source": [
    "P00469_db_positions=[82,198,60,218,221,146]"
   ]
  },
  {
   "cell_type": "code",
   "execution_count": 122,
   "metadata": {
    "tags": []
   },
   "outputs": [],
   "source": [
    "P00469_db_ligand_positions=[195,198,199,218,219,229,259,261]"
   ]
  },
  {
   "cell_type": "markdown",
   "metadata": {},
   "source": [
    "#### Co-evolution"
   ]
  },
  {
   "cell_type": "code",
   "execution_count": 126,
   "metadata": {
    "tags": []
   },
   "outputs": [],
   "source": [
    "P00469_GEMME=load_data_V2('../scores_GEMME/prism_gemme_P00469.txt',P00469_WT_sequence)\n",
    "P00469_GEMME=remove_WT_score(P00469_GEMME,P00469_WT_sequence)"
   ]
  },
  {
   "cell_type": "code",
   "execution_count": 127,
   "metadata": {
    "tags": []
   },
   "outputs": [],
   "source": [
    "P00469_GEMME_mean=position_mean(P00469_GEMME)"
   ]
  },
  {
   "cell_type": "markdown",
   "metadata": {},
   "source": [
    "####  Rosetta ddG"
   ]
  },
  {
   "cell_type": "code",
   "execution_count": 128,
   "metadata": {
    "tags": []
   },
   "outputs": [],
   "source": [
    "P00469_rosetta_ddg=load_data_V2(\"../scores_rosetta/prism_rosetta_ddg_P00469.txt\",P00469_WT_seq_rose,0)\n",
    "P00469_rosetta_ddg=remove_WT_score(P00469_rosetta_ddg,P00469_WT_seq_rose)"
   ]
  },
  {
   "cell_type": "code",
   "execution_count": 129,
   "metadata": {
    "tags": []
   },
   "outputs": [],
   "source": [
    "P00469_rosetta_ddg_norm=normalize_cutoff(P00469_rosetta_ddg,0.0,5.0)"
   ]
  },
  {
   "cell_type": "code",
   "execution_count": 130,
   "metadata": {
    "tags": []
   },
   "outputs": [],
   "source": [
    "P00469_rosetta_ddg_mean=position_mean(P00469_rosetta_ddg_norm)"
   ]
  },
  {
   "cell_type": "code",
   "execution_count": 131,
   "metadata": {
    "tags": []
   },
   "outputs": [],
   "source": [
    "P00469_rosetta_ddg_mean_non=position_mean(P00469_rosetta_ddg)"
   ]
  },
  {
   "cell_type": "markdown",
   "metadata": {},
   "source": [
    "#### Hydrophobicity"
   ]
  },
  {
   "cell_type": "code",
   "execution_count": 132,
   "metadata": {
    "tags": []
   },
   "outputs": [],
   "source": [
    "P00469_hydrophobicity_mut=np.empty((len(P00469_WT_sequence),20),dtype=float)\n",
    "P00469_hydrophobicity_mut[:]=np.nan"
   ]
  },
  {
   "cell_type": "code",
   "execution_count": 133,
   "metadata": {
    "tags": []
   },
   "outputs": [],
   "source": [
    "for i in range(len(P00469_WT_sequence)):\n",
    "    for j in range(20):\n",
    "        P00469_hydrophobicity_mut[i,j]=AA_to_hydrophobicity_scores[alphabetAA_D_L[j+1]]"
   ]
  },
  {
   "cell_type": "markdown",
   "metadata": {},
   "source": [
    "#### WCN"
   ]
  },
  {
   "cell_type": "code",
   "execution_count": 134,
   "metadata": {
    "tags": []
   },
   "outputs": [
    {
     "name": "stdout",
     "output_type": "stream",
     "text": [
      "MET1\n"
     ]
    }
   ],
   "source": [
    "P00469_wcn=WCN('../pdbs/P00469_1lcb.pdb','ca',P00469_WT_sequence)"
   ]
  },
  {
   "cell_type": "markdown",
   "metadata": {},
   "source": [
    "#### Neighbor sequences scores:"
   ]
  },
  {
   "cell_type": "code",
   "execution_count": 135,
   "metadata": {
    "tags": []
   },
   "outputs": [],
   "source": [
    "P00469_rosetta_neigbor_scores=neighbor_scores(P00469_rosetta_ddg_mean,1)\n",
    "\n",
    "P00469_GEMME_neigbor_scores=neighbor_scores(P00469_GEMME_mean,1)"
   ]
  },
  {
   "cell_type": "markdown",
   "metadata": {},
   "source": [
    "#### CA distance"
   ]
  },
  {
   "cell_type": "code",
   "execution_count": 136,
   "metadata": {
    "tags": []
   },
   "outputs": [],
   "source": [
    "P00469_Ca_coord=struc_coordinates('../pdbs/P00469_1lcb.pdb',P00469_WT_sequence)"
   ]
  },
  {
   "cell_type": "markdown",
   "metadata": {
    "toc-hr-collapsed": true
   },
   "source": [
    "### P00491"
   ]
  },
  {
   "cell_type": "code",
   "execution_count": 137,
   "metadata": {
    "tags": []
   },
   "outputs": [],
   "source": [
    "P00491_WT_sequence=\"MENGYTYEDYKNTAEWLLSHTKHRPQVAIICGSGLGGLTDKLTQAQIFDYGEIPNFPRSTVPGHAGRLVFGFLNGRACVMMQGRFHMYEGYPLWKVTFPVRVFHLLGVDTLVVTNAAGGLNPKFEVGDIMLIRDHINLPGFSGQNPLRGPNDERFGDRFPAMSDAYDRTMRQRALSTWKQMGEQRELQEGTYVMVAGPSFETVAECRVLQKLGADAVGMSTVPEVIVARHCGLRVFGFSLITNKVIMDYESLEKANHEEVLAAGKQAAQKLEQFVSILMASIPLPDKAS\"\n",
    "P00491_WT_seq_rose=\"--NGYTYEDYKNTAEWLLSHTKHRPQVAIICGSGLGGLTDKLTQAQIFDYSEIPNFPRSTVPGHAGRLVFGFLNGRACVMMQGRFHMYEGYPLWKVTFPVRVFHLLGVDTLVVTNAAGGLNPKFEVGDIMLIRDHINLPGFSGQNPLRGPNDERFGDRFPAMSDAYDRTMRQRALSTWKQMGEQRELQEGTYVMVAGPSFETVAECRVLQKLGADAVGMSTVPEVIVARHCGLRVFGFSLITNKVIMDYESLEKANHEEVLAAGKQAAQKLEQFVSILMASIPL-----\""
   ]
  },
  {
   "cell_type": "code",
   "execution_count": 138,
   "metadata": {
    "tags": []
   },
   "outputs": [
    {
     "name": "stdout",
     "output_type": "stream",
     "text": [
      "289 0.972318339100346\n"
     ]
    }
   ],
   "source": [
    "count=0\n",
    "for i in range(len(P00491_WT_sequence)):\n",
    "    if P00491_WT_sequence[i]==P00491_WT_seq_rose[i]:\n",
    "        count+=1\n",
    "print(len(P00491_WT_sequence),count/len(P00491_WT_seq_rose))"
   ]
  },
  {
   "cell_type": "markdown",
   "metadata": {},
   "source": [
    "#### P00491 active site"
   ]
  },
  {
   "cell_type": "code",
   "execution_count": 139,
   "metadata": {
    "tags": []
   },
   "outputs": [],
   "source": [
    "P00491_db_positions=[220,116,33,88,257,219,64,86,243]"
   ]
  },
  {
   "cell_type": "markdown",
   "metadata": {},
   "source": [
    "#### Co-evolution"
   ]
  },
  {
   "cell_type": "code",
   "execution_count": 140,
   "metadata": {
    "tags": []
   },
   "outputs": [],
   "source": [
    "P00491_GEMME=load_data_V2('../scores_GEMME/prism_gemme_P00491.txt',P00491_WT_sequence)\n",
    "P00491_GEMME=remove_WT_score(P00491_GEMME,P00491_WT_sequence)"
   ]
  },
  {
   "cell_type": "code",
   "execution_count": 141,
   "metadata": {
    "tags": []
   },
   "outputs": [],
   "source": [
    "P00491_GEMME_mean=position_mean(P00491_GEMME)"
   ]
  },
  {
   "cell_type": "markdown",
   "metadata": {},
   "source": [
    "####  Rosetta ddG"
   ]
  },
  {
   "cell_type": "code",
   "execution_count": 142,
   "metadata": {
    "tags": []
   },
   "outputs": [],
   "source": [
    "P00491_rosetta_ddg=load_data_V2(\"../scores_rosetta/prism_rosetta_ddg_P00491.txt\",P00491_WT_seq_rose,0)\n",
    "P00491_rosetta_ddg=remove_WT_score(P00491_rosetta_ddg,P00491_WT_seq_rose)"
   ]
  },
  {
   "cell_type": "code",
   "execution_count": 143,
   "metadata": {
    "tags": []
   },
   "outputs": [],
   "source": [
    "P00491_rosetta_ddg_norm=normalize_cutoff(P00491_rosetta_ddg,0.0,5.0)"
   ]
  },
  {
   "cell_type": "code",
   "execution_count": 144,
   "metadata": {
    "tags": []
   },
   "outputs": [],
   "source": [
    "P00491_rosetta_ddg_mean=position_mean(P00491_rosetta_ddg_norm)"
   ]
  },
  {
   "cell_type": "markdown",
   "metadata": {},
   "source": [
    "#### Hydrophobicity"
   ]
  },
  {
   "cell_type": "code",
   "execution_count": 145,
   "metadata": {
    "tags": []
   },
   "outputs": [],
   "source": [
    "P00491_hydrophobicity_mut=np.empty((len(P00491_WT_sequence),20),dtype=float)\n",
    "P00491_hydrophobicity_mut[:]=np.nan"
   ]
  },
  {
   "cell_type": "code",
   "execution_count": 146,
   "metadata": {
    "tags": []
   },
   "outputs": [],
   "source": [
    "for i in range(len(P00491_WT_sequence)):\n",
    "    for j in range(20):\n",
    "        P00491_hydrophobicity_mut[i,j]=AA_to_hydrophobicity_scores[alphabetAA_D_L[j+1]]"
   ]
  },
  {
   "cell_type": "markdown",
   "metadata": {},
   "source": [
    "#### WCN"
   ]
  },
  {
   "cell_type": "code",
   "execution_count": 147,
   "metadata": {
    "tags": []
   },
   "outputs": [
    {
     "name": "stdout",
     "output_type": "stream",
     "text": [
      "ASN3\n"
     ]
    }
   ],
   "source": [
    "P00491_wcn=WCN('../pdbs/P00491_1rr6.pdb','ca',P00491_WT_sequence)"
   ]
  },
  {
   "cell_type": "markdown",
   "metadata": {},
   "source": [
    "#### Neighbor sequences scores:"
   ]
  },
  {
   "cell_type": "code",
   "execution_count": 148,
   "metadata": {
    "tags": []
   },
   "outputs": [],
   "source": [
    "P00491_rosetta_neigbor_scores=neighbor_scores(P00491_rosetta_ddg_mean,1)\n",
    "\n",
    "P00491_GEMME_neigbor_scores=neighbor_scores(P00491_GEMME_mean,1)"
   ]
  },
  {
   "cell_type": "markdown",
   "metadata": {},
   "source": [
    "#### CA distance"
   ]
  },
  {
   "cell_type": "code",
   "execution_count": 149,
   "metadata": {
    "tags": []
   },
   "outputs": [
    {
     "name": "stdout",
     "output_type": "stream",
     "text": [
      "WARNING: in pos 51, WT sequence AA doesn't match pbd AA\n"
     ]
    }
   ],
   "source": [
    "P00491_Ca_coord=struc_coordinates('../pdbs/P00491_1rr6.pdb',P00491_WT_sequence)"
   ]
  },
  {
   "cell_type": "markdown",
   "metadata": {
    "toc-hr-collapsed": true
   },
   "source": [
    "### Q06241"
   ]
  },
  {
   "cell_type": "code",
   "execution_count": 150,
   "metadata": {
    "tags": []
   },
   "outputs": [],
   "source": [
    "Q06241_WT_sequence=\"MEIGFTFLDEIVHGVRWDAKYATWDNFTGKPVDGYEVNRIVGTYELAESLLKAKELAATQGYGLLLWDGYRPKRAVNCFMQWAAQPENNLTKESYYPNIDRTEMISKGYVASKSSHSRGSAIDLTLYRLDTGELVPMGSRFDFMDERSHHAANGISCNEAQNRRRLRSIMENSGFEAYSLEWWHYVLRDEPYPNSYFDFPVK\"\n",
    "Q06241_WT_seq_rose=\"MEIGFTFLDEIVHGVRWDAKYATWDNFTGKPVDGYEVNRIVGTYELAESLLKAKELAATQGYGLLLWDGYRPKRAVNCFMQWAAQPENNLTKESYYPNIDRTEMISKGYVASKSSHSRGSAIDLTLYRLDTGELVPMGSRFDFMDERSHHAANGISCNEAQNRRRLRSIMENSGFEAYSLEWWHYVLRDEPYPNSYFDFPVK\""
   ]
  },
  {
   "cell_type": "code",
   "execution_count": 151,
   "metadata": {
    "tags": []
   },
   "outputs": [
    {
     "name": "stdout",
     "output_type": "stream",
     "text": [
      "202 1.0\n"
     ]
    }
   ],
   "source": [
    "count=0\n",
    "for i in range(len(Q06241_WT_sequence)):\n",
    "    if Q06241_WT_sequence[i]==Q06241_WT_seq_rose[i]:\n",
    "        count+=1\n",
    "print(len(Q06241_WT_sequence),count/len(Q06241_WT_seq_rose))"
   ]
  },
  {
   "cell_type": "markdown",
   "metadata": {},
   "source": [
    "#### Q06241 active site"
   ]
  },
  {
   "cell_type": "code",
   "execution_count": 152,
   "metadata": {
    "tags": []
   },
   "outputs": [],
   "source": [
    "Q06241_db_positions=[71,116,123,184,181]"
   ]
  },
  {
   "cell_type": "markdown",
   "metadata": {},
   "source": [
    "#### Co-evolution"
   ]
  },
  {
   "cell_type": "code",
   "execution_count": 153,
   "metadata": {
    "tags": []
   },
   "outputs": [],
   "source": [
    "Q06241_GEMME=load_data_V2('../scores_GEMME/prism_gemme_Q06241.txt',Q06241_WT_sequence)\n",
    "Q06241_GEMME=remove_WT_score(Q06241_GEMME,Q06241_WT_sequence)"
   ]
  },
  {
   "cell_type": "code",
   "execution_count": 154,
   "metadata": {
    "tags": []
   },
   "outputs": [],
   "source": [
    "Q06241_GEMME_mean=position_mean(Q06241_GEMME)"
   ]
  },
  {
   "cell_type": "markdown",
   "metadata": {},
   "source": [
    "####  Rosetta ddG"
   ]
  },
  {
   "cell_type": "code",
   "execution_count": 155,
   "metadata": {
    "tags": []
   },
   "outputs": [],
   "source": [
    "Q06241_rosetta_ddg=load_data_V2(\"../scores_rosetta/prism_rosetta_ddg_Q06241.txt\",Q06241_WT_seq_rose,0)\n",
    "Q06241_rosetta_ddg=remove_WT_score(Q06241_rosetta_ddg,Q06241_WT_seq_rose)"
   ]
  },
  {
   "cell_type": "code",
   "execution_count": 156,
   "metadata": {
    "tags": []
   },
   "outputs": [],
   "source": [
    "Q06241_rosetta_ddg_norm=normalize_cutoff(Q06241_rosetta_ddg,0.0,5.0)"
   ]
  },
  {
   "cell_type": "code",
   "execution_count": 157,
   "metadata": {
    "tags": []
   },
   "outputs": [],
   "source": [
    "Q06241_rosetta_ddg_mean=position_mean(Q06241_rosetta_ddg_norm)"
   ]
  },
  {
   "cell_type": "markdown",
   "metadata": {},
   "source": [
    "#### Hydrophobicity"
   ]
  },
  {
   "cell_type": "code",
   "execution_count": 158,
   "metadata": {
    "tags": []
   },
   "outputs": [],
   "source": [
    "Q06241_hydrophobicity_mut=np.empty((len(Q06241_WT_sequence),20),dtype=float)\n",
    "Q06241_hydrophobicity_mut[:]=np.nan"
   ]
  },
  {
   "cell_type": "code",
   "execution_count": 159,
   "metadata": {
    "tags": []
   },
   "outputs": [],
   "source": [
    "for i in range(len(Q06241_WT_sequence)):\n",
    "    for j in range(20):\n",
    "        Q06241_hydrophobicity_mut[i,j]=AA_to_hydrophobicity_scores[alphabetAA_D_L[j+1]]"
   ]
  },
  {
   "cell_type": "markdown",
   "metadata": {},
   "source": [
    "#### WCN"
   ]
  },
  {
   "cell_type": "code",
   "execution_count": 160,
   "metadata": {
    "tags": []
   },
   "outputs": [
    {
     "name": "stdout",
     "output_type": "stream",
     "text": [
      "MET1\n"
     ]
    }
   ],
   "source": [
    "Q06241_wcn=WCN('../pdbs/Q06241_1r44.pdb','ca',Q06241_WT_sequence)"
   ]
  },
  {
   "cell_type": "markdown",
   "metadata": {},
   "source": [
    "#### Neighbor sequences scores:"
   ]
  },
  {
   "cell_type": "code",
   "execution_count": 164,
   "metadata": {
    "tags": []
   },
   "outputs": [],
   "source": [
    "Q06241_rosetta_neigbor_scores=neighbor_scores(Q06241_rosetta_ddg_mean,1)\n",
    "\n",
    "Q06241_GEMME_neigbor_scores=neighbor_scores(Q06241_GEMME_mean,1)"
   ]
  },
  {
   "cell_type": "markdown",
   "metadata": {},
   "source": [
    "#### CA distance"
   ]
  },
  {
   "cell_type": "code",
   "execution_count": 166,
   "metadata": {
    "tags": []
   },
   "outputs": [],
   "source": [
    "Q06241_Ca_coord=struc_coordinates('../pdbs/Q06241_1r44.pdb',Q06241_WT_sequence)"
   ]
  },
  {
   "cell_type": "markdown",
   "metadata": {
    "toc-hr-collapsed": true
   },
   "source": [
    "### P04036"
   ]
  },
  {
   "cell_type": "code",
   "execution_count": 167,
   "metadata": {
    "tags": []
   },
   "outputs": [],
   "source": [
    "P04036_WT_sequence=\"MHDANIRVAIAGAGGRMGRQLIQAALALEGVQLGAALEREGSSLLGSDAGELAGAGKTGVTVQSSLDAVKDDFDVFIDFTRPEGTLNHLAFCRQHGKGMVIGTTGFDEAGKQAIRDAAADIAIVFAANFSVGVNVMLKLLEKAAKVMGDYTDIEIIEAHHRHKVDAPSGTALAMGEAIAHALDKDLKDCAVYSREGHTGERVPGTIGFATVRAGDIVGEHTAMFADIGERLEITHKASSRMTFANGAVRSALWLSGKESGLFDMRDVLDLNNL\"\n",
    "P04036_WT_seq_rose=\"---ANIRVAIAGAGGRMGRQLIQAALALEGVQLGAALEREGSSLLGSDAGELAGAGKTGVTVQSSLDAVKDDFDVFIDFTRPEGTLNHLAFCRQHGKGMVIGTTGFDEAGKQAIRDAAADIAIVFAANFSVGVNVMLKLLEKAAKVMGDYTDIEIIEAHHRHKVDAPSGTALAMGEAIAHALDKDLKDCAVYSREGHTGERVPGTIGFATVRAGDIVGEHTAMFADIGERLEITHKASSRMTFANGAVRSALWLSGKESGLFDMRDVLDLNNL\""
   ]
  },
  {
   "cell_type": "code",
   "execution_count": 168,
   "metadata": {
    "tags": []
   },
   "outputs": [
    {
     "name": "stdout",
     "output_type": "stream",
     "text": [
      "273 0.989010989010989\n"
     ]
    }
   ],
   "source": [
    "count=0\n",
    "for i in range(len(P04036_WT_sequence)):\n",
    "    if P04036_WT_sequence[i]==P04036_WT_seq_rose[i]:\n",
    "        count+=1\n",
    "print(len(P04036_WT_sequence),count/len(P04036_WT_seq_rose))"
   ]
  },
  {
   "cell_type": "markdown",
   "metadata": {},
   "source": [
    "#### P04036 active site"
   ]
  },
  {
   "cell_type": "code",
   "execution_count": 169,
   "metadata": {
    "tags": []
   },
   "outputs": [],
   "source": [
    "P04036_db_positions=[159,163]"
   ]
  },
  {
   "cell_type": "markdown",
   "metadata": {},
   "source": [
    "#### Co-evolution"
   ]
  },
  {
   "cell_type": "code",
   "execution_count": 170,
   "metadata": {
    "tags": []
   },
   "outputs": [],
   "source": [
    "P04036_GEMME=load_data_V2('../scores_GEMME/prism_gemme_P04036.txt',P04036_WT_sequence)\n",
    "P04036_GEMME=remove_WT_score(P04036_GEMME,P04036_WT_sequence)"
   ]
  },
  {
   "cell_type": "code",
   "execution_count": 171,
   "metadata": {
    "tags": []
   },
   "outputs": [],
   "source": [
    "P04036_GEMME_mean=position_mean(P04036_GEMME)"
   ]
  },
  {
   "cell_type": "markdown",
   "metadata": {},
   "source": [
    "####  Rosetta ddG"
   ]
  },
  {
   "cell_type": "code",
   "execution_count": 172,
   "metadata": {
    "tags": []
   },
   "outputs": [],
   "source": [
    "P04036_rosetta_ddg=load_data_V2(\"../scores_rosetta/prism_rosetta_ddg_P04036.txt\",P04036_WT_seq_rose,0)\n",
    "P04036_rosetta_ddg=remove_WT_score(P04036_rosetta_ddg,P04036_WT_seq_rose)"
   ]
  },
  {
   "cell_type": "code",
   "execution_count": 173,
   "metadata": {
    "tags": []
   },
   "outputs": [],
   "source": [
    "P04036_rosetta_ddg_norm=normalize_cutoff(P04036_rosetta_ddg,0.0,5.0)"
   ]
  },
  {
   "cell_type": "code",
   "execution_count": 174,
   "metadata": {
    "tags": []
   },
   "outputs": [],
   "source": [
    "P04036_rosetta_ddg_mean=position_mean(P04036_rosetta_ddg_norm)"
   ]
  },
  {
   "cell_type": "markdown",
   "metadata": {},
   "source": [
    "#### Hydrophobicity"
   ]
  },
  {
   "cell_type": "code",
   "execution_count": 175,
   "metadata": {
    "tags": []
   },
   "outputs": [],
   "source": [
    "P04036_hydrophobicity_mut=np.empty((len(P04036_WT_sequence),20),dtype=float)\n",
    "P04036_hydrophobicity_mut[:]=np.nan"
   ]
  },
  {
   "cell_type": "code",
   "execution_count": 176,
   "metadata": {
    "tags": []
   },
   "outputs": [],
   "source": [
    "for i in range(len(P04036_WT_sequence)):\n",
    "    for j in range(20):\n",
    "        P04036_hydrophobicity_mut[i,j]=AA_to_hydrophobicity_scores[alphabetAA_D_L[j+1]]"
   ]
  },
  {
   "cell_type": "markdown",
   "metadata": {},
   "source": [
    "#### WCN"
   ]
  },
  {
   "cell_type": "code",
   "execution_count": 177,
   "metadata": {
    "tags": []
   },
   "outputs": [
    {
     "name": "stdout",
     "output_type": "stream",
     "text": [
      "ALA4\n"
     ]
    }
   ],
   "source": [
    "P04036_wcn=WCN('../pdbs/P04036_1arz.pdb','ca',P04036_WT_sequence)"
   ]
  },
  {
   "cell_type": "markdown",
   "metadata": {},
   "source": [
    "#### Neighbor sequences scores:"
   ]
  },
  {
   "cell_type": "code",
   "execution_count": 178,
   "metadata": {
    "tags": []
   },
   "outputs": [],
   "source": [
    "P04036_rosetta_neigbor_scores=neighbor_scores(P04036_rosetta_ddg_mean,1)\n",
    "\n",
    "P04036_GEMME_neigbor_scores=neighbor_scores(P04036_GEMME_mean,1)"
   ]
  },
  {
   "cell_type": "markdown",
   "metadata": {},
   "source": [
    "#### CA distance"
   ]
  },
  {
   "cell_type": "code",
   "execution_count": 179,
   "metadata": {
    "tags": []
   },
   "outputs": [],
   "source": [
    "P04036_Ca_coord=struc_coordinates('../pdbs/P04036_1arz.pdb',P04036_WT_sequence)"
   ]
  },
  {
   "cell_type": "markdown",
   "metadata": {
    "toc-hr-collapsed": true
   },
   "source": [
    "### P0A6L0"
   ]
  },
  {
   "cell_type": "code",
   "execution_count": 180,
   "metadata": {
    "tags": []
   },
   "outputs": [],
   "source": [
    "P0A6L0_WT_sequence=\"MTDLKASSLRALKLMDLTTLNDDDTDEKVIALCHQAKTPVGNTAAICIYPRFIPIARKTLKEQGTPEIRIATVTNFPHGNDDIDIALAETRAAIAYGADEVDVVFPYRALMAGNEQVGFDLVKACKEACAAANVLLKVIIETGELKDEALIRKASEISIKAGADFIKTSTGKVAVNATPESARIMMEVIRDMGVEKTVGFKPAGGVRTAEDAQKYLAIADELFGADWADARHYRFGASSLLASLLKALGHGDGKSASSY\"\n",
    "P0A6L0_WT_seq_rose=\"MTDLKASSLRALKLMDLTTLNDDDTDEKVIALCHQAKTPVGNTAAICIYPRFIPIARKTLKEQGTPEIRIATVTNFPHGNDDIDIALAETRAAIAYGADEVDVVFPYRALMAGNEQVGFDLVKACKEACAAANVLLKVIIETGELKDEALIRKASEISIKAGADFIKTSTGKVAVNATPESARIMMEVIRDMGVEKTVGFKPAGGVRTAEDAQKYLAIADELFGADWADARHYRFGASSLLASLLKALGH---------\""
   ]
  },
  {
   "cell_type": "code",
   "execution_count": 181,
   "metadata": {
    "tags": []
   },
   "outputs": [
    {
     "name": "stdout",
     "output_type": "stream",
     "text": [
      "259 0.9652509652509652\n"
     ]
    }
   ],
   "source": [
    "count=0\n",
    "for i in range(len(P0A6L0_WT_sequence)):\n",
    "    if P0A6L0_WT_sequence[i]==P0A6L0_WT_seq_rose[i]:\n",
    "        count+=1\n",
    "print(len(P0A6L0_WT_sequence),count/len(P0A6L0_WT_seq_rose))"
   ]
  },
  {
   "cell_type": "markdown",
   "metadata": {},
   "source": [
    "#### P0A6L0 active site"
   ]
  },
  {
   "cell_type": "code",
   "execution_count": 182,
   "metadata": {
    "tags": []
   },
   "outputs": [],
   "source": [
    "P0A6L0_db_positions=[102,167,201]"
   ]
  },
  {
   "cell_type": "markdown",
   "metadata": {},
   "source": [
    "#### Co-evolution"
   ]
  },
  {
   "cell_type": "code",
   "execution_count": 183,
   "metadata": {
    "tags": []
   },
   "outputs": [],
   "source": [
    "P0A6L0_GEMME=load_data_V2('../scores_GEMME/prism_gemme_P0A6L0.txt',P0A6L0_WT_sequence)\n",
    "P0A6L0_GEMME=remove_WT_score(P0A6L0_GEMME,P0A6L0_WT_sequence)"
   ]
  },
  {
   "cell_type": "code",
   "execution_count": 184,
   "metadata": {
    "tags": []
   },
   "outputs": [],
   "source": [
    "P0A6L0_GEMME_mean=position_mean(P0A6L0_GEMME)"
   ]
  },
  {
   "cell_type": "markdown",
   "metadata": {},
   "source": [
    "####  Rosetta ddG"
   ]
  },
  {
   "cell_type": "code",
   "execution_count": 186,
   "metadata": {
    "tags": []
   },
   "outputs": [],
   "source": [
    "P0A6L0_rosetta_ddg=load_data_V2(\"../scores_rosetta/prism_rosetta_ddg_P0A6L0.txt\",P0A6L0_WT_seq_rose,0)\n",
    "P0A6L0_rosetta_ddg=remove_WT_score(P0A6L0_rosetta_ddg,P0A6L0_WT_seq_rose)"
   ]
  },
  {
   "cell_type": "code",
   "execution_count": 187,
   "metadata": {
    "tags": []
   },
   "outputs": [],
   "source": [
    "P0A6L0_rosetta_ddg_norm=normalize_cutoff(P0A6L0_rosetta_ddg,0.0,5.0)"
   ]
  },
  {
   "cell_type": "code",
   "execution_count": 188,
   "metadata": {
    "tags": []
   },
   "outputs": [],
   "source": [
    "P0A6L0_rosetta_ddg_mean=position_mean(P0A6L0_rosetta_ddg_norm)"
   ]
  },
  {
   "cell_type": "markdown",
   "metadata": {},
   "source": [
    "#### Hydrophobicity"
   ]
  },
  {
   "cell_type": "code",
   "execution_count": 189,
   "metadata": {
    "tags": []
   },
   "outputs": [],
   "source": [
    "P0A6L0_hydrophobicity_mut=np.empty((len(P0A6L0_WT_sequence),20),dtype=float)\n",
    "P0A6L0_hydrophobicity_mut[:]=np.nan"
   ]
  },
  {
   "cell_type": "code",
   "execution_count": 190,
   "metadata": {
    "tags": []
   },
   "outputs": [],
   "source": [
    "for i in range(len(P0A6L0_WT_sequence)):\n",
    "    for j in range(20):\n",
    "        P0A6L0_hydrophobicity_mut[i,j]=AA_to_hydrophobicity_scores[alphabetAA_D_L[j+1]]"
   ]
  },
  {
   "cell_type": "markdown",
   "metadata": {},
   "source": [
    "#### WCN"
   ]
  },
  {
   "cell_type": "code",
   "execution_count": 191,
   "metadata": {
    "tags": []
   },
   "outputs": [
    {
     "name": "stdout",
     "output_type": "stream",
     "text": [
      "MET1\n"
     ]
    }
   ],
   "source": [
    "P0A6L0_wcn=WCN('../pdbs/p0A6L0_1p1x.pdb','ca',P0A6L0_WT_sequence)"
   ]
  },
  {
   "cell_type": "markdown",
   "metadata": {},
   "source": [
    "#### Neighbor sequences scores:"
   ]
  },
  {
   "cell_type": "code",
   "execution_count": 192,
   "metadata": {
    "tags": []
   },
   "outputs": [],
   "source": [
    "P0A6L0_rosetta_neigbor_scores=neighbor_scores(P0A6L0_rosetta_ddg_mean,1)\n",
    "\n",
    "P0A6L0_GEMME_neigbor_scores=neighbor_scores(P0A6L0_GEMME_mean,1)"
   ]
  },
  {
   "cell_type": "markdown",
   "metadata": {},
   "source": [
    "#### CA distance"
   ]
  },
  {
   "cell_type": "code",
   "execution_count": 193,
   "metadata": {
    "tags": []
   },
   "outputs": [],
   "source": [
    "P0A6L0_Ca_coord=struc_coordinates('../pdbs/P0A6L0_1p1x.pdb',P0A6L0_WT_sequence)"
   ]
  },
  {
   "cell_type": "markdown",
   "metadata": {
    "toc-hr-collapsed": true
   },
   "source": [
    "### P19120"
   ]
  },
  {
   "cell_type": "code",
   "execution_count": 194,
   "metadata": {
    "tags": []
   },
   "outputs": [],
   "source": [
    "P19120_WT_sequence=\"MSKGPAVGIDLGTTYSCVGVFQHGKVEIIANDQGNRTTPSYVAFTDTERLIGDAAKNQVAMNPTNTVFDAKRLIGRRFDDAVVQSDMKHWPFMVVNDAGRPKVQVEYKGETKSFYPEEVSSMVLTKMKEIAEAYLGKTVTNAVVTVPAYFNDSQRQATKDAGTIAGLNVLRIINEPTAAAIAYGLDKKVGAERNVLIFDLGGGTFDVSILTIEDGIFEVKSTAGDTHLGGEDFDNRMVNHFIAEFKRKHKKDISENKRAVRRLRTACERAKRTLSSSTQASIEIDSLYEGIDFYTSITRARFEELNADLFRGTLDPVEKALRDAKLDKSQIHDIVLVGGSTRIPKIQKLLQDFFNGKELNKSINPDEAVAYGAAVQAAILSGDKSENVQDLLLLDVTPLSLGIETAGGVMTVLIKRNTTIPTKQTQTFTTYSDNQPGVLIQVYEGERAMTKDNNLLGKFELTGIPPAPRGVPQIEVTFDIDANGILNVSAVDKSTGKENKITITNDKGRLSKEDIERMVQEAEKYKAEDEKQRDKVSSKNSLESYAFNMKATVEDEKLQGKINDEDKQKILDKCNEIINWLDKNQTAEKEEFEHQQKELEKVCNPIITKLYQSAGGMPGGMPGGMPGGFPGGGAPPSGGASSGPTIEEVD\"\n",
    "P19120_WT_seq_rose=\"---GPAVGIDLGTTYSCVGVFQHGKVEIIANDQGNRTTPSYVAFTDTERLIGDAAKNQVAMNPTNTVFDAERLIGRRFDDAVVQSDMKHWPFMVVNDAGRPKVQVEYKGETKSFYPEEVSSMVLTKMKEIAEAYLGKTVTNAVVTVPAYFNDSQRQATKDAGTIAGLNVLRIINEPTAAAIAYGLDKKVGAERNVLIFDLGGGTFDVSILTIEDGIFEVKSTAGDTHLGGEDFDNRMVNHFIAEFKRKHKKDISENKRAVRRLRTACERAKRTLSSSTQASIEIDSLYEGIDFYTSITRARFEELNADLFRGTLDPVEKALRDAKLDKSQIHDIVLVGGSTRIPKIQKLLQDFFNGKELNKSINPDEAVAYGAAVQAAILS-----------------------------------------------------------------------------------------------------------------------------------------------------------------------------------------------------------------------------------------------------------------------------\""
   ]
  },
  {
   "cell_type": "code",
   "execution_count": 195,
   "metadata": {
    "tags": []
   },
   "outputs": [
    {
     "name": "stdout",
     "output_type": "stream",
     "text": [
      "650 0.58\n"
     ]
    }
   ],
   "source": [
    "count=0\n",
    "for i in range(len(P19120_WT_sequence)):\n",
    "    if P19120_WT_sequence[i]==P19120_WT_seq_rose[i]:\n",
    "        count+=1\n",
    "print(len(P19120_WT_sequence),count/len(P19120_WT_seq_rose))"
   ]
  },
  {
   "cell_type": "markdown",
   "metadata": {},
   "source": [
    "#### P19120 active site"
   ]
  },
  {
   "cell_type": "code",
   "execution_count": 196,
   "metadata": {
    "tags": []
   },
   "outputs": [],
   "source": [
    "P19120_db_positions=[10,199,175,71]"
   ]
  },
  {
   "cell_type": "markdown",
   "metadata": {},
   "source": [
    "#### Co-evolution"
   ]
  },
  {
   "cell_type": "code",
   "execution_count": 197,
   "metadata": {
    "tags": []
   },
   "outputs": [],
   "source": [
    "P19120_GEMME=load_data_V2('../scores_GEMME/prism_gemme_P19120.txt',P19120_WT_sequence)\n",
    "P19120_GEMME=remove_WT_score(P19120_GEMME,P19120_WT_sequence)"
   ]
  },
  {
   "cell_type": "code",
   "execution_count": 198,
   "metadata": {
    "tags": []
   },
   "outputs": [],
   "source": [
    "P19120_GEMME_mean=position_mean(P19120_GEMME)"
   ]
  },
  {
   "cell_type": "markdown",
   "metadata": {},
   "source": [
    "####  Rosetta ddG"
   ]
  },
  {
   "cell_type": "code",
   "execution_count": 199,
   "metadata": {
    "tags": []
   },
   "outputs": [],
   "source": [
    "P19120_rosetta_ddg=load_data_V2(\"../scores_rosetta/prism_rosetta_ddg_P19120.txt\",P19120_WT_seq_rose,0)\n",
    "P19120_rosetta_ddg=remove_WT_score(P19120_rosetta_ddg,P19120_WT_seq_rose)"
   ]
  },
  {
   "cell_type": "code",
   "execution_count": 200,
   "metadata": {
    "tags": []
   },
   "outputs": [],
   "source": [
    "P19120_rosetta_ddg_norm=normalize_cutoff(P19120_rosetta_ddg,0.0,5.0)"
   ]
  },
  {
   "cell_type": "code",
   "execution_count": 201,
   "metadata": {
    "tags": []
   },
   "outputs": [],
   "source": [
    "P19120_rosetta_ddg_mean=position_mean(P19120_rosetta_ddg_norm)"
   ]
  },
  {
   "cell_type": "markdown",
   "metadata": {},
   "source": [
    "#### Hydrophobicity"
   ]
  },
  {
   "cell_type": "code",
   "execution_count": 202,
   "metadata": {
    "tags": []
   },
   "outputs": [],
   "source": [
    "P19120_hydrophobicity_mut=np.empty((len(P19120_WT_sequence),20),dtype=float)\n",
    "P19120_hydrophobicity_mut[:]=np.nan"
   ]
  },
  {
   "cell_type": "code",
   "execution_count": 203,
   "metadata": {
    "tags": []
   },
   "outputs": [],
   "source": [
    "for i in range(len(P19120_WT_sequence)):\n",
    "    for j in range(20):\n",
    "        P19120_hydrophobicity_mut[i,j]=AA_to_hydrophobicity_scores[alphabetAA_D_L[j+1]]"
   ]
  },
  {
   "cell_type": "markdown",
   "metadata": {},
   "source": [
    "#### WCN"
   ]
  },
  {
   "cell_type": "code",
   "execution_count": 204,
   "metadata": {
    "tags": []
   },
   "outputs": [
    {
     "name": "stdout",
     "output_type": "stream",
     "text": [
      "GLY4\n"
     ]
    }
   ],
   "source": [
    "P19120_wcn=WCN('../pdbs/P19120_1kaz.pdb','ca',P19120_WT_sequence)"
   ]
  },
  {
   "cell_type": "markdown",
   "metadata": {},
   "source": [
    "#### Neighbor sequences scores:"
   ]
  },
  {
   "cell_type": "code",
   "execution_count": 205,
   "metadata": {
    "tags": []
   },
   "outputs": [],
   "source": [
    "P19120_rosetta_neigbor_scores=neighbor_scores(P19120_rosetta_ddg_mean,1)\n",
    "\n",
    "P19120_GEMME_neigbor_scores=neighbor_scores(P19120_GEMME_mean,1)"
   ]
  },
  {
   "cell_type": "markdown",
   "metadata": {},
   "source": [
    "#### CA distance"
   ]
  },
  {
   "cell_type": "code",
   "execution_count": 206,
   "metadata": {
    "tags": []
   },
   "outputs": [
    {
     "name": "stdout",
     "output_type": "stream",
     "text": [
      "WARNING: in pos 71, WT sequence AA doesn't match pbd AA\n"
     ]
    }
   ],
   "source": [
    "P19120_Ca_coord=struc_coordinates('../pdbs/P19120_1kaz.pdb',P19120_WT_sequence)"
   ]
  },
  {
   "cell_type": "markdown",
   "metadata": {
    "toc-hr-collapsed": true
   },
   "source": [
    "### P77836"
   ]
  },
  {
   "cell_type": "code",
   "execution_count": 207,
   "metadata": {
    "tags": []
   },
   "outputs": [],
   "source": [
    "P77836_WT_sequence=\"MRMVDLIEKKRDGHALTKEEIQFIIEGYTKGDIPDYQMSALAMAIFFRGMNEEETAELTMAMVHSGDTIDLSRIEGIKVDKHSTGGVGDTTTLVLGPLVASVGVPVAKMSGRGLGHTGGTIDKLESVPGFHVEITNDEFIDLVNKNKIAVVGQSGNLTPADKKLYALRDVTATVNSIPLIASSIMSKKIAAGADAIVLDVKTGVGAFMKDLNDAKALAKAMVDIGNRVGRKTMAIISDMSQPLGYAIGNALEVKEAIDTLKGEGPEDFQELCLVLGSHMVYLAEKASSLEEARHMLEKAMKDGSALQTFKTFLAAQGGDASVVDDPSKLPQAKYIIELEAKEDGYVSEIVADAVGTAAMWLGAGRATKESTIDLAVGLVLRKKVGDAVKKGESLVTIYSNREQVDDVKQKLYENIRISATPVQAPTLIYDKIS\"\n",
    "P77836_WT_seq_rose=\"MRMVDLIAKKRDGKALTKEEIEWIVRGYTNGDIPDYQMSALAMAIYFRGMTEEETAALTMAMVQSGEMLDLSSIRGVKVDKHSTGGVGDTTTLVLGPLVASVGVPVAKMSGRGLGHTGGTIDKLESVPGFHVEISKDEFIRLVNENGIAIIGQTGDLTPADKKLYALRDVTATVNSIPLIASSIMSKKIAAGADAIVLDVKTGAGAFMKKLDEARRLARVMVDIGKRVGRRTMAVISDMSQPLGYAVGNALEVKEAIETLKGNGPHDLTELCLTLGSHMVYLAEKAPSLDEARRLLEEAIRSGAAIAAFKTFLAAQGGDASVVDDLDKLPKAAYTSTVTAAADGYVAEMAADDIGTAAMWLGAGRAKKEDVIDLAVGIVLHKKIGDRVQKGEALATIHSNRPDVLDVKEKIEAAIRLSPQPVARPPLIYETIV\""
   ]
  },
  {
   "cell_type": "code",
   "execution_count": 208,
   "metadata": {
    "tags": []
   },
   "outputs": [
    {
     "name": "stdout",
     "output_type": "stream",
     "text": [
      "433 0.76905311778291\n"
     ]
    }
   ],
   "source": [
    "count=0\n",
    "for i in range(len(P77836_WT_sequence)):\n",
    "    if P77836_WT_sequence[i]==P77836_WT_seq_rose[i]:\n",
    "        count+=1\n",
    "print(len(P77836_WT_sequence),count/len(P77836_WT_seq_rose))"
   ]
  },
  {
   "cell_type": "markdown",
   "metadata": {},
   "source": [
    "#### P77836 active site"
   ]
  },
  {
   "cell_type": "code",
   "execution_count": 209,
   "metadata": {
    "tags": []
   },
   "outputs": [],
   "source": [
    "P77836_db_positions=[161,82,168,183,187]"
   ]
  },
  {
   "cell_type": "markdown",
   "metadata": {},
   "source": [
    "#### Co-evolution"
   ]
  },
  {
   "cell_type": "code",
   "execution_count": 210,
   "metadata": {
    "tags": []
   },
   "outputs": [],
   "source": [
    "P77836_GEMME=load_data_V2('../scores_GEMME/prism_gemme_P77836.txt',P77836_WT_sequence)\n",
    "P77836_GEMME=remove_WT_score(P77836_GEMME,P77836_WT_sequence)"
   ]
  },
  {
   "cell_type": "code",
   "execution_count": 211,
   "metadata": {
    "tags": []
   },
   "outputs": [],
   "source": [
    "P77836_GEMME_mean=position_mean(P77836_GEMME)"
   ]
  },
  {
   "cell_type": "markdown",
   "metadata": {},
   "source": [
    "####  Rosetta ddG"
   ]
  },
  {
   "cell_type": "code",
   "execution_count": 212,
   "metadata": {
    "tags": []
   },
   "outputs": [],
   "source": [
    "P77836_rosetta_ddg=load_data_V2(\"../scores_rosetta/prism_rosetta_ddg_P77836.txt\",P77836_WT_seq_rose,0)\n",
    "P77836_rosetta_ddg=remove_WT_score(P77836_rosetta_ddg,P77836_WT_seq_rose)"
   ]
  },
  {
   "cell_type": "code",
   "execution_count": 213,
   "metadata": {
    "tags": []
   },
   "outputs": [],
   "source": [
    "P77836_rosetta_ddg_norm=normalize_cutoff(P77836_rosetta_ddg,0.0,5.0)"
   ]
  },
  {
   "cell_type": "code",
   "execution_count": 214,
   "metadata": {
    "tags": []
   },
   "outputs": [],
   "source": [
    "P77836_rosetta_ddg_mean=position_mean(P77836_rosetta_ddg_norm)"
   ]
  },
  {
   "cell_type": "markdown",
   "metadata": {},
   "source": [
    "#### Hydrophobicity"
   ]
  },
  {
   "cell_type": "code",
   "execution_count": 215,
   "metadata": {
    "tags": []
   },
   "outputs": [],
   "source": [
    "P77836_hydrophobicity_mut=np.empty((len(P77836_WT_sequence),20),dtype=float)\n",
    "P77836_hydrophobicity_mut[:]=np.nan"
   ]
  },
  {
   "cell_type": "code",
   "execution_count": 216,
   "metadata": {
    "tags": []
   },
   "outputs": [],
   "source": [
    "for i in range(len(P77836_WT_sequence)):\n",
    "    for j in range(20):\n",
    "        P77836_hydrophobicity_mut[i,j]=AA_to_hydrophobicity_scores[alphabetAA_D_L[j+1]]"
   ]
  },
  {
   "cell_type": "markdown",
   "metadata": {},
   "source": [
    "#### WCN"
   ]
  },
  {
   "cell_type": "code",
   "execution_count": 217,
   "metadata": {
    "tags": []
   },
   "outputs": [
    {
     "name": "stdout",
     "output_type": "stream",
     "text": [
      "MET1\n"
     ]
    }
   ],
   "source": [
    "P77836_wcn=WCN('../pdbs/P77836_1brw.pdb','ca',P77836_WT_sequence)"
   ]
  },
  {
   "cell_type": "markdown",
   "metadata": {},
   "source": [
    "#### Neighbor sequences scores:"
   ]
  },
  {
   "cell_type": "code",
   "execution_count": 218,
   "metadata": {
    "tags": []
   },
   "outputs": [],
   "source": [
    "P77836_rosetta_neigbor_scores=neighbor_scores(P77836_rosetta_ddg_mean,1)\n",
    "\n",
    "P77836_GEMME_neigbor_scores=neighbor_scores(P77836_GEMME_mean,1)"
   ]
  },
  {
   "cell_type": "markdown",
   "metadata": {},
   "source": [
    "#### CA distance"
   ]
  },
  {
   "cell_type": "code",
   "execution_count": 219,
   "metadata": {
    "tags": []
   },
   "outputs": [
    {
     "name": "stdout",
     "output_type": "stream",
     "text": [
      "WARNING: in pos 8, WT sequence AA doesn't match pbd AA\n",
      "WARNING: in pos 14, WT sequence AA doesn't match pbd AA\n",
      "WARNING: in pos 22, WT sequence AA doesn't match pbd AA\n",
      "WARNING: in pos 23, WT sequence AA doesn't match pbd AA\n",
      "WARNING: in pos 25, WT sequence AA doesn't match pbd AA\n",
      "WARNING: in pos 26, WT sequence AA doesn't match pbd AA\n",
      "WARNING: in pos 30, WT sequence AA doesn't match pbd AA\n",
      "WARNING: in pos 46, WT sequence AA doesn't match pbd AA\n",
      "WARNING: in pos 51, WT sequence AA doesn't match pbd AA\n",
      "WARNING: in pos 57, WT sequence AA doesn't match pbd AA\n",
      "WARNING: in pos 64, WT sequence AA doesn't match pbd AA\n",
      "WARNING: in pos 67, WT sequence AA doesn't match pbd AA\n",
      "WARNING: in pos 68, WT sequence AA doesn't match pbd AA\n",
      "WARNING: in pos 69, WT sequence AA doesn't match pbd AA\n",
      "WARNING: in pos 73, WT sequence AA doesn't match pbd AA\n",
      "WARNING: in pos 75, WT sequence AA doesn't match pbd AA\n",
      "WARNING: in pos 77, WT sequence AA doesn't match pbd AA\n",
      "WARNING: in pos 135, WT sequence AA doesn't match pbd AA\n",
      "WARNING: in pos 136, WT sequence AA doesn't match pbd AA\n",
      "WARNING: in pos 141, WT sequence AA doesn't match pbd AA\n",
      "WARNING: in pos 145, WT sequence AA doesn't match pbd AA\n",
      "WARNING: in pos 147, WT sequence AA doesn't match pbd AA\n",
      "WARNING: in pos 150, WT sequence AA doesn't match pbd AA\n",
      "WARNING: in pos 151, WT sequence AA doesn't match pbd AA\n",
      "WARNING: in pos 154, WT sequence AA doesn't match pbd AA\n",
      "WARNING: in pos 156, WT sequence AA doesn't match pbd AA\n",
      "WARNING: in pos 204, WT sequence AA doesn't match pbd AA\n",
      "WARNING: in pos 210, WT sequence AA doesn't match pbd AA\n",
      "WARNING: in pos 212, WT sequence AA doesn't match pbd AA\n",
      "WARNING: in pos 213, WT sequence AA doesn't match pbd AA\n",
      "WARNING: in pos 215, WT sequence AA doesn't match pbd AA\n",
      "WARNING: in pos 216, WT sequence AA doesn't match pbd AA\n",
      "WARNING: in pos 219, WT sequence AA doesn't match pbd AA\n",
      "WARNING: in pos 220, WT sequence AA doesn't match pbd AA\n",
      "WARNING: in pos 226, WT sequence AA doesn't match pbd AA\n",
      "WARNING: in pos 231, WT sequence AA doesn't match pbd AA\n",
      "WARNING: in pos 235, WT sequence AA doesn't match pbd AA\n",
      "WARNING: in pos 247, WT sequence AA doesn't match pbd AA\n",
      "WARNING: in pos 258, WT sequence AA doesn't match pbd AA\n",
      "WARNING: in pos 263, WT sequence AA doesn't match pbd AA\n",
      "WARNING: in pos 266, WT sequence AA doesn't match pbd AA\n",
      "WARNING: in pos 268, WT sequence AA doesn't match pbd AA\n",
      "WARNING: in pos 269, WT sequence AA doesn't match pbd AA\n",
      "WARNING: in pos 274, WT sequence AA doesn't match pbd AA\n",
      "WARNING: in pos 287, WT sequence AA doesn't match pbd AA\n",
      "WARNING: in pos 290, WT sequence AA doesn't match pbd AA\n",
      "WARNING: in pos 294, WT sequence AA doesn't match pbd AA\n",
      "WARNING: in pos 295, WT sequence AA doesn't match pbd AA\n",
      "WARNING: in pos 298, WT sequence AA doesn't match pbd AA\n",
      "WARNING: in pos 300, WT sequence AA doesn't match pbd AA\n",
      "WARNING: in pos 301, WT sequence AA doesn't match pbd AA\n",
      "WARNING: in pos 302, WT sequence AA doesn't match pbd AA\n",
      "WARNING: in pos 304, WT sequence AA doesn't match pbd AA\n",
      "WARNING: in pos 306, WT sequence AA doesn't match pbd AA\n",
      "WARNING: in pos 307, WT sequence AA doesn't match pbd AA\n",
      "WARNING: in pos 308, WT sequence AA doesn't match pbd AA\n",
      "WARNING: in pos 326, WT sequence AA doesn't match pbd AA\n",
      "WARNING: in pos 327, WT sequence AA doesn't match pbd AA\n",
      "WARNING: in pos 331, WT sequence AA doesn't match pbd AA\n",
      "WARNING: in pos 333, WT sequence AA doesn't match pbd AA\n",
      "WARNING: in pos 335, WT sequence AA doesn't match pbd AA\n",
      "WARNING: in pos 336, WT sequence AA doesn't match pbd AA\n",
      "WARNING: in pos 337, WT sequence AA doesn't match pbd AA\n",
      "WARNING: in pos 338, WT sequence AA doesn't match pbd AA\n",
      "WARNING: in pos 339, WT sequence AA doesn't match pbd AA\n",
      "WARNING: in pos 341, WT sequence AA doesn't match pbd AA\n",
      "WARNING: in pos 342, WT sequence AA doesn't match pbd AA\n",
      "WARNING: in pos 347, WT sequence AA doesn't match pbd AA\n",
      "WARNING: in pos 349, WT sequence AA doesn't match pbd AA\n",
      "WARNING: in pos 350, WT sequence AA doesn't match pbd AA\n",
      "WARNING: in pos 353, WT sequence AA doesn't match pbd AA\n",
      "WARNING: in pos 354, WT sequence AA doesn't match pbd AA\n",
      "WARNING: in pos 367, WT sequence AA doesn't match pbd AA\n",
      "WARNING: in pos 370, WT sequence AA doesn't match pbd AA\n",
      "WARNING: in pos 371, WT sequence AA doesn't match pbd AA\n",
      "WARNING: in pos 378, WT sequence AA doesn't match pbd AA\n",
      "WARNING: in pos 381, WT sequence AA doesn't match pbd AA\n",
      "WARNING: in pos 384, WT sequence AA doesn't match pbd AA\n",
      "WARNING: in pos 387, WT sequence AA doesn't match pbd AA\n",
      "WARNING: in pos 389, WT sequence AA doesn't match pbd AA\n",
      "WARNING: in pos 393, WT sequence AA doesn't match pbd AA\n",
      "WARNING: in pos 395, WT sequence AA doesn't match pbd AA\n",
      "WARNING: in pos 398, WT sequence AA doesn't match pbd AA\n",
      "WARNING: in pos 402, WT sequence AA doesn't match pbd AA\n",
      "WARNING: in pos 403, WT sequence AA doesn't match pbd AA\n",
      "WARNING: in pos 405, WT sequence AA doesn't match pbd AA\n",
      "WARNING: in pos 409, WT sequence AA doesn't match pbd AA\n",
      "WARNING: in pos 411, WT sequence AA doesn't match pbd AA\n",
      "WARNING: in pos 412, WT sequence AA doesn't match pbd AA\n",
      "WARNING: in pos 413, WT sequence AA doesn't match pbd AA\n",
      "WARNING: in pos 414, WT sequence AA doesn't match pbd AA\n",
      "WARNING: in pos 417, WT sequence AA doesn't match pbd AA\n",
      "WARNING: in pos 419, WT sequence AA doesn't match pbd AA\n",
      "WARNING: in pos 420, WT sequence AA doesn't match pbd AA\n",
      "WARNING: in pos 423, WT sequence AA doesn't match pbd AA\n",
      "WARNING: in pos 424, WT sequence AA doesn't match pbd AA\n",
      "WARNING: in pos 426, WT sequence AA doesn't match pbd AA\n",
      "WARNING: in pos 430, WT sequence AA doesn't match pbd AA\n",
      "WARNING: in pos 431, WT sequence AA doesn't match pbd AA\n",
      "WARNING: in pos 433, WT sequence AA doesn't match pbd AA\n"
     ]
    }
   ],
   "source": [
    "P77836_Ca_coord=struc_coordinates('../pdbs/P77836_1brw.pdb',P77836_WT_sequence)"
   ]
  },
  {
   "cell_type": "markdown",
   "metadata": {
    "toc-hr-collapsed": true
   },
   "source": [
    "### Q16854"
   ]
  },
  {
   "cell_type": "code",
   "execution_count": 220,
   "metadata": {
    "tags": []
   },
   "outputs": [],
   "source": [
    "Q16854_WT_sequence=\"MAAGRLFLSRLRAPFSSMAKSPLEGVSSSRGLHAGRGPRRLSIEGNIAVGKSTFVKLLTKTYPEWHVATEPVATWQNIQAAGTQKACTAQSLGNLLDMMYREPARWSYTFQTFSFLSRLKVQLEPFPEKLLQARKPVQIFERSVYSDRYIFAKNLFENGSLSDIEWHIYQDWHSFLLWEFASRITLHGFIYLQASPQVCLKRLYQRAREEEKGIELAYLEQLHGQHEAWLIHKTTKLHFEALMNIPVLVLDVNDDFSEEVTKQEDLMREVNTFVKNL\"\n",
    "Q16854_WT_seq_rose=\"------------------------------------GPRRLSIEGNIAVGKSTFVKLLTKTYPEWHVATEPVATWQNIQ------------LGNLLDMMYREPARWSYTFQTFSFLSRLKVQLEPFPEKLLQARKPVQIFERSVYSDRYIFAKNLFENGSLSDIEWHIYQDWHSFLLWEFASRITLHGFIYLQASPQVCLKRLYQRAREEEKGIELAYLEQLHGQHEAWLIHKTTKLHFEALMNIPVLVLDVNDDFSEEVTKQEDLMREVNTFVKNL\""
   ]
  },
  {
   "cell_type": "code",
   "execution_count": 221,
   "metadata": {
    "tags": []
   },
   "outputs": [
    {
     "name": "stdout",
     "output_type": "stream",
     "text": [
      "277 0.8267148014440433\n"
     ]
    }
   ],
   "source": [
    "count=0\n",
    "for i in range(len(Q16854_WT_sequence)):\n",
    "    if Q16854_WT_sequence[i]==Q16854_WT_seq_rose[i]:\n",
    "        count+=1\n",
    "print(len(Q16854_WT_sequence),count/len(Q16854_WT_seq_rose))"
   ]
  },
  {
   "cell_type": "markdown",
   "metadata": {},
   "source": [
    "#### Q16854 active site"
   ]
  },
  {
   "cell_type": "code",
   "execution_count": 222,
   "metadata": {
    "tags": []
   },
   "outputs": [],
   "source": [
    "Q16854_db_positions=[70,142]"
   ]
  },
  {
   "cell_type": "markdown",
   "metadata": {},
   "source": [
    "#### Co-evolution"
   ]
  },
  {
   "cell_type": "code",
   "execution_count": 223,
   "metadata": {
    "tags": []
   },
   "outputs": [],
   "source": [
    "Q16854_GEMME=load_data_V2('../scores_GEMME/prism_gemme_Q16854.txt',Q16854_WT_sequence)\n",
    "Q16854_GEMME=remove_WT_score(Q16854_GEMME,Q16854_WT_sequence)"
   ]
  },
  {
   "cell_type": "code",
   "execution_count": 224,
   "metadata": {
    "tags": []
   },
   "outputs": [],
   "source": [
    "Q16854_GEMME_mean=position_mean(Q16854_GEMME)"
   ]
  },
  {
   "cell_type": "markdown",
   "metadata": {},
   "source": [
    "####  Rosetta ddG"
   ]
  },
  {
   "cell_type": "code",
   "execution_count": 225,
   "metadata": {
    "tags": []
   },
   "outputs": [],
   "source": [
    "Q16854_rosetta_ddg=load_data_V2(\"../scores_rosetta/prism_rosetta_ddg_Q16854.txt\",Q16854_WT_seq_rose,0)\n",
    "Q16854_rosetta_ddg=remove_WT_score(Q16854_rosetta_ddg,Q16854_WT_seq_rose)"
   ]
  },
  {
   "cell_type": "code",
   "execution_count": 226,
   "metadata": {
    "tags": []
   },
   "outputs": [],
   "source": [
    "Q16854_rosetta_ddg_norm=normalize_cutoff(Q16854_rosetta_ddg,0.0,5.0)"
   ]
  },
  {
   "cell_type": "code",
   "execution_count": 227,
   "metadata": {
    "tags": []
   },
   "outputs": [],
   "source": [
    "Q16854_rosetta_ddg_mean=position_mean(Q16854_rosetta_ddg_norm)"
   ]
  },
  {
   "cell_type": "markdown",
   "metadata": {},
   "source": [
    "#### Hydrophobicity"
   ]
  },
  {
   "cell_type": "code",
   "execution_count": 228,
   "metadata": {
    "tags": []
   },
   "outputs": [],
   "source": [
    "Q16854_hydrophobicity_mut=np.empty((len(Q16854_WT_sequence),20),dtype=float)\n",
    "Q16854_hydrophobicity_mut[:]=np.nan"
   ]
  },
  {
   "cell_type": "code",
   "execution_count": 229,
   "metadata": {
    "tags": []
   },
   "outputs": [],
   "source": [
    "for i in range(len(Q16854_WT_sequence)):\n",
    "    for j in range(20):\n",
    "        Q16854_hydrophobicity_mut[i,j]=AA_to_hydrophobicity_scores[alphabetAA_D_L[j+1]]"
   ]
  },
  {
   "cell_type": "markdown",
   "metadata": {},
   "source": [
    "#### WCN"
   ]
  },
  {
   "cell_type": "code",
   "execution_count": 231,
   "metadata": {
    "tags": []
   },
   "outputs": [
    {
     "name": "stdout",
     "output_type": "stream",
     "text": [
      "GLY37\n"
     ]
    }
   ],
   "source": [
    "Q16854_wcn=WCN('../pdbs/Q16854_2ocp.pdb','ca',Q16854_WT_sequence)"
   ]
  },
  {
   "cell_type": "markdown",
   "metadata": {},
   "source": [
    "#### Neighbor sequences scores:"
   ]
  },
  {
   "cell_type": "code",
   "execution_count": 232,
   "metadata": {
    "tags": []
   },
   "outputs": [],
   "source": [
    "Q16854_rosetta_neigbor_scores=neighbor_scores(Q16854_rosetta_ddg_mean,1)\n",
    "\n",
    "Q16854_GEMME_neigbor_scores=neighbor_scores(Q16854_GEMME_mean,1)"
   ]
  },
  {
   "cell_type": "markdown",
   "metadata": {},
   "source": [
    "#### CA distance"
   ]
  },
  {
   "cell_type": "code",
   "execution_count": 233,
   "metadata": {
    "tags": []
   },
   "outputs": [],
   "source": [
    "Q16854_Ca_coord=struc_coordinates('../pdbs/Q16854_2ocp.pdb',Q16854_WT_sequence)"
   ]
  },
  {
   "cell_type": "markdown",
   "metadata": {
    "toc-hr-collapsed": true
   },
   "source": [
    "### Q53547"
   ]
  },
  {
   "cell_type": "code",
   "execution_count": 234,
   "metadata": {
    "tags": []
   },
   "outputs": [],
   "source": [
    "Q53547_WT_sequence=\"MTEPLILQPAKPADACVIWLHGLGADRYDFMPVAEALQESLLTTRFVLPQAPTRPVTINGGYEMPSWYDIKAMSPARSISLEELEVSAKMVTDLIEAQKRTGIDASRIFLAGFSQGGAVVFHTAFINWQGPLGGVIALSTYAPTFGDELELSASQQRIPALCLHGQYDDVVQNAMGRSAFEHLKSRGVTVTWQEYPMGHEVLPQEIHDIGAWLAARLGD\"\n",
    "Q53547_WT_seq_rose=\"MTEPLILQPAKPADACVIWLHGLGADRYDFMPVAEALQESLLTTRFVLPQAPTRPVTINGGYEMPSWYDIKAMSPARSISLEELEVSAKMVTDLIEAQKRTGIDASRIFLAGFSQGGAVVFHTAFINWQGPLGGVIALSTYAPTFGDELELSASQQRIPALCLHGQYDDVVQNAMGRSAFEHLKSRGVTVTWQEYPMGHEVLPQEIHDIGAWLAARLG-\""
   ]
  },
  {
   "cell_type": "code",
   "execution_count": 235,
   "metadata": {
    "tags": []
   },
   "outputs": [
    {
     "name": "stdout",
     "output_type": "stream",
     "text": [
      "219 0.9954337899543378\n"
     ]
    }
   ],
   "source": [
    "count=0\n",
    "for i in range(len(Q53547_WT_sequence)):\n",
    "    if Q53547_WT_seq_rose[i]==Q53547_WT_sequence[i]:\n",
    "        count+=1\n",
    "print(len(Q53547_WT_sequence),count/len(Q53547_WT_sequence))"
   ]
  },
  {
   "cell_type": "markdown",
   "metadata": {},
   "source": [
    "#### Q53547 active site"
   ]
  },
  {
   "cell_type": "code",
   "execution_count": 236,
   "metadata": {
    "tags": []
   },
   "outputs": [],
   "source": [
    "Q53547_db_positions=[114,168,199,115,23]"
   ]
  },
  {
   "cell_type": "markdown",
   "metadata": {},
   "source": [
    "#### Co-evolution"
   ]
  },
  {
   "cell_type": "code",
   "execution_count": 237,
   "metadata": {
    "tags": []
   },
   "outputs": [],
   "source": [
    "Q53547_GEMME=load_data_V2('../scores_GEMME/prism_gemme_Q53547.txt',Q53547_WT_sequence)\n",
    "Q53547_GEMME=remove_WT_score(Q53547_GEMME,Q53547_WT_sequence)"
   ]
  },
  {
   "cell_type": "code",
   "execution_count": 238,
   "metadata": {
    "tags": []
   },
   "outputs": [],
   "source": [
    "Q53547_GEMME_mean=position_mean(Q53547_GEMME)"
   ]
  },
  {
   "cell_type": "markdown",
   "metadata": {},
   "source": [
    "####  Rosetta ddG"
   ]
  },
  {
   "cell_type": "code",
   "execution_count": 239,
   "metadata": {
    "tags": []
   },
   "outputs": [],
   "source": [
    "Q53547_rosetta_ddg=load_data_V2(\"../scores_rosetta/prism_rosetta_ddg_Q53547.txt\",Q53547_WT_seq_rose,0)\n",
    "Q53547_rosetta_ddg=remove_WT_score(Q53547_rosetta_ddg,Q53547_WT_seq_rose)"
   ]
  },
  {
   "cell_type": "code",
   "execution_count": 240,
   "metadata": {
    "tags": []
   },
   "outputs": [],
   "source": [
    "Q53547_rosetta_ddg_norm=normalize_cutoff(Q53547_rosetta_ddg,0.0,5.0)"
   ]
  },
  {
   "cell_type": "code",
   "execution_count": 241,
   "metadata": {
    "tags": []
   },
   "outputs": [],
   "source": [
    "Q53547_rosetta_ddg_mean=position_mean(Q53547_rosetta_ddg_norm)"
   ]
  },
  {
   "cell_type": "markdown",
   "metadata": {},
   "source": [
    "#### Hydrophobicity"
   ]
  },
  {
   "cell_type": "code",
   "execution_count": 242,
   "metadata": {
    "tags": []
   },
   "outputs": [],
   "source": [
    "Q53547_hydrophobicity_mut=np.empty((len(Q53547_WT_sequence),20),dtype=float)\n",
    "Q53547_hydrophobicity_mut[:]=np.nan"
   ]
  },
  {
   "cell_type": "code",
   "execution_count": 243,
   "metadata": {
    "tags": []
   },
   "outputs": [],
   "source": [
    "for i in range(len(Q53547_WT_sequence)):\n",
    "    for j in range(20):\n",
    "        Q53547_hydrophobicity_mut[i,j]=AA_to_hydrophobicity_scores[alphabetAA_D_L[j+1]]"
   ]
  },
  {
   "cell_type": "markdown",
   "metadata": {},
   "source": [
    "#### WCN"
   ]
  },
  {
   "cell_type": "code",
   "execution_count": 246,
   "metadata": {
    "tags": []
   },
   "outputs": [
    {
     "name": "stdout",
     "output_type": "stream",
     "text": [
      "MET1\n"
     ]
    }
   ],
   "source": [
    "Q53547_wcn=WCN('../pdbs/Q53547_1auo.pdb','ca',Q53547_WT_sequence)"
   ]
  },
  {
   "cell_type": "markdown",
   "metadata": {
    "toc-hr-collapsed": true
   },
   "source": [
    "#### Neigbor scores"
   ]
  },
  {
   "cell_type": "code",
   "execution_count": 248,
   "metadata": {
    "tags": []
   },
   "outputs": [],
   "source": [
    "Q53547_rosetta_neigbor_scores=neighbor_scores(Q53547_rosetta_ddg_mean,1)\n",
    "\n",
    "Q53547_GEMME_neigbor_scores=neighbor_scores(Q53547_GEMME_mean,1)"
   ]
  },
  {
   "cell_type": "markdown",
   "metadata": {},
   "source": [
    "#### CA distance"
   ]
  },
  {
   "cell_type": "code",
   "execution_count": 249,
   "metadata": {
    "tags": []
   },
   "outputs": [],
   "source": [
    "Q53547_Ca_coord=struc_coordinates('../pdbs/Q53547_1auo.pdb',Q53547_WT_sequence)"
   ]
  },
  {
   "cell_type": "markdown",
   "metadata": {
    "toc-hr-collapsed": true
   },
   "source": [
    "### Q55012"
   ]
  },
  {
   "cell_type": "code",
   "execution_count": 250,
   "metadata": {
    "tags": []
   },
   "outputs": [],
   "source": [
    "Q55012_WT_sequence=\"MPQDVDFHIPLPGRQSPDHARAEAEQLAWPRSLGLIRSDAAAERHLRGGYADLASRFYPHATGADLDLGVDLMSWFFLFDDLFDGPRGENPEDTKQLTDQVAAALDGPLPDTAPPIAHGFADIWRRTCEGMTPAWCARSARHWRNYFDGYVDEAESRFWNAPCDSAAQYLAMRRHTIGVQPTVDLAERAGRFEVPHRVFDSAVMSAMLQIAVDVNLLLNDIASLEKEEARGEQNNMVMILRREHGWSKSRSVSHMQNEVRARLEQYLLLESCLPKVGEIYQLDTAEREALERYRTDAVRTVIRGSYDWHRSSGRYDAEFALAAGAQGYLEELGSSAH\"\n",
    "Q55012_WT_seq_rose=\"--QDVDFHIPLPGRQSPDHARAEAEQLAWPRSLGLIRSDAAAERHLRGGYADLASRFYPHATGADLDLGVDLMSWFFLFDDLFDGPRGENPEDTKQLTDQVAAALDGPLPDTAPPIAHGFADIWRRTCEGMTPAWCARSARHWRNYFDGYVDEAESR-------SAAQYLAMRRHTIGVQPTVDLAERAGRFEVPHRVFDSAVMSAMLQIAVDVNLLLNDIASLEKEEARGEQNNMVMILRREHGWSKSRSVSHMQNEVRARLEQYLLLESCLPKVGEIYQLDTAEREALERYRTDAVRTVIRGSYDWHRSSG------------------------\""
   ]
  },
  {
   "cell_type": "code",
   "execution_count": 251,
   "metadata": {
    "tags": []
   },
   "outputs": [
    {
     "name": "stdout",
     "output_type": "stream",
     "text": [
      "337 0.9020771513353115\n"
     ]
    }
   ],
   "source": [
    "count=0\n",
    "for i in range(len(Q55012_WT_sequence)):\n",
    "    if Q55012_WT_seq_rose[i]==Q55012_WT_sequence[i]:\n",
    "        count+=1\n",
    "print(len(Q55012_WT_sequence),count/len(Q55012_WT_sequence))"
   ]
  },
  {
   "cell_type": "markdown",
   "metadata": {},
   "source": [
    "#### Q55012 active site"
   ]
  },
  {
   "cell_type": "code",
   "execution_count": 252,
   "metadata": {
    "tags": []
   },
   "outputs": [],
   "source": [
    "Q55012_db_positions=[223,227,219,308,309,76,77,230,157,173,226,84,80]"
   ]
  },
  {
   "cell_type": "markdown",
   "metadata": {},
   "source": [
    "#### Co-evolution"
   ]
  },
  {
   "cell_type": "code",
   "execution_count": 253,
   "metadata": {
    "tags": []
   },
   "outputs": [],
   "source": [
    "Q55012_GEMME=load_data_V2('../scores_GEMME/prism_gemme_Q55012.txt',Q55012_WT_sequence)\n",
    "Q55012_GEMME=remove_WT_score(Q55012_GEMME,Q55012_WT_sequence)"
   ]
  },
  {
   "cell_type": "code",
   "execution_count": 254,
   "metadata": {
    "tags": []
   },
   "outputs": [],
   "source": [
    "Q55012_GEMME_mean=position_mean(Q55012_GEMME)"
   ]
  },
  {
   "cell_type": "markdown",
   "metadata": {},
   "source": [
    "####  Rosetta ddG"
   ]
  },
  {
   "cell_type": "code",
   "execution_count": 256,
   "metadata": {
    "tags": []
   },
   "outputs": [],
   "source": [
    "Q55012_rosetta_ddg=load_data_V2(\"../scores_rosetta/prism_rosetta_ddg_Q55012.txt\",Q55012_WT_seq_rose,0)\n",
    "Q55012_rosetta_ddg=remove_WT_score(Q55012_rosetta_ddg,Q55012_WT_seq_rose)"
   ]
  },
  {
   "cell_type": "code",
   "execution_count": 257,
   "metadata": {
    "tags": []
   },
   "outputs": [],
   "source": [
    "Q55012_rosetta_ddg_norm=normalize_cutoff(Q55012_rosetta_ddg,0.0,5.0)"
   ]
  },
  {
   "cell_type": "code",
   "execution_count": 258,
   "metadata": {
    "tags": []
   },
   "outputs": [],
   "source": [
    "Q55012_rosetta_ddg_mean=position_mean(Q55012_rosetta_ddg_norm)"
   ]
  },
  {
   "cell_type": "markdown",
   "metadata": {},
   "source": [
    "#### Hydrophobicity"
   ]
  },
  {
   "cell_type": "code",
   "execution_count": 260,
   "metadata": {
    "tags": []
   },
   "outputs": [],
   "source": [
    "Q55012_hydrophobicity_mut=np.empty((len(Q55012_WT_sequence),20),dtype=float)\n",
    "Q55012_hydrophobicity_mut[:]=np.nan"
   ]
  },
  {
   "cell_type": "code",
   "execution_count": 261,
   "metadata": {
    "tags": []
   },
   "outputs": [],
   "source": [
    "for i in range(len(Q55012_WT_sequence)):\n",
    "    for j in range(20):\n",
    "        Q55012_hydrophobicity_mut[i,j]=AA_to_hydrophobicity_scores[alphabetAA_D_L[j+1]]"
   ]
  },
  {
   "cell_type": "markdown",
   "metadata": {},
   "source": [
    "#### WCN"
   ]
  },
  {
   "cell_type": "code",
   "execution_count": 259,
   "metadata": {
    "tags": []
   },
   "outputs": [
    {
     "name": "stdout",
     "output_type": "stream",
     "text": [
      "GLN3\n"
     ]
    }
   ],
   "source": [
    "Q55012_wcn=WCN('../pdbs/Q55012_1ps1.pdb','ca',Q55012_WT_sequence)"
   ]
  },
  {
   "cell_type": "markdown",
   "metadata": {},
   "source": [
    "#### Neigbor scores"
   ]
  },
  {
   "cell_type": "code",
   "execution_count": 264,
   "metadata": {
    "tags": []
   },
   "outputs": [],
   "source": [
    "Q55012_rosetta_neigbor_scores=neighbor_scores(Q55012_rosetta_ddg_mean,1)\n",
    "\n",
    "Q55012_GEMME_neigbor_scores=neighbor_scores(Q55012_GEMME_mean,1)"
   ]
  },
  {
   "cell_type": "markdown",
   "metadata": {},
   "source": [
    "#### CA distance"
   ]
  },
  {
   "cell_type": "code",
   "execution_count": 263,
   "metadata": {
    "tags": []
   },
   "outputs": [],
   "source": [
    "Q55012_Ca_coord=struc_coordinates('../pdbs/Q55012_1ps1.pdb',Q55012_WT_sequence)"
   ]
  },
  {
   "cell_type": "markdown",
   "metadata": {
    "toc-hr-collapsed": true
   },
   "source": [
    "### Q8VQN0"
   ]
  },
  {
   "cell_type": "code",
   "execution_count": 265,
   "metadata": {
    "tags": []
   },
   "outputs": [],
   "source": [
    "Q8VQN0_WT_sequence=\"MSNEDLFICIDHVAYACPDADEASKYYQETFGWHELHREENPEQGVVEIMMAPAAKLTEHMTQVQVMAPLNDESTVAKWLAKHNGRAGLHHMAWRVDDIDAVSATLRERGVQLLYDEPKLGTGGNRINFMHPKSGKGVLIELTQYPKN\"\n",
    "Q8VQN0_WT_seq_rose=\"--NEDLFICIDHVAYACPDADEASKYYQETFGWHELHREENPEQGVVEIMMAPAAKLTEHMTQVQVMAPLNDESTVAKWLAKHNGRAGLHHMAWRVDDIDAVSATLRERGVQLLYDEPKLGTGGNRINFMHPKSGKGVLIELTQYPK-\""
   ]
  },
  {
   "cell_type": "code",
   "execution_count": 266,
   "metadata": {
    "tags": []
   },
   "outputs": [
    {
     "name": "stdout",
     "output_type": "stream",
     "text": [
      "148 0.9797297297297297\n"
     ]
    }
   ],
   "source": [
    "count=0\n",
    "for i in range(len(Q8VQN0_WT_sequence)):\n",
    "    if Q8VQN0_WT_seq_rose[i]==Q8VQN0_WT_sequence[i]:\n",
    "        count+=1\n",
    "print(len(Q8VQN0_WT_sequence),count/len(Q8VQN0_WT_sequence))"
   ]
  },
  {
   "cell_type": "markdown",
   "metadata": {},
   "source": [
    "#### Q8VQN0 active site"
   ]
  },
  {
   "cell_type": "code",
   "execution_count": 267,
   "metadata": {
    "tags": []
   },
   "outputs": [],
   "source": [
    "Q8VQN0_db_positions=[48,141,12,65,91]"
   ]
  },
  {
   "cell_type": "markdown",
   "metadata": {},
   "source": [
    "#### Co-evolution"
   ]
  },
  {
   "cell_type": "code",
   "execution_count": 269,
   "metadata": {
    "tags": []
   },
   "outputs": [],
   "source": [
    "Q8VQN0_GEMME=load_data_V2('../scores_GEMME/prism_gemme_Q8VQN0.txt',Q8VQN0_WT_sequence)\n",
    "Q8VQN0_GEMME=remove_WT_score(Q8VQN0_GEMME,Q8VQN0_WT_sequence)"
   ]
  },
  {
   "cell_type": "code",
   "execution_count": 270,
   "metadata": {
    "tags": []
   },
   "outputs": [],
   "source": [
    "Q8VQN0_GEMME_mean=position_mean(Q8VQN0_GEMME)"
   ]
  },
  {
   "cell_type": "markdown",
   "metadata": {},
   "source": [
    "####  Rosetta ddG"
   ]
  },
  {
   "cell_type": "code",
   "execution_count": 271,
   "metadata": {
    "tags": []
   },
   "outputs": [],
   "source": [
    "Q8VQN0_rosetta_ddg=load_data_V2(\"../scores_rosetta/prism_rosetta_ddg_Q8VQN0.txt\",Q8VQN0_WT_seq_rose,0)\n",
    "Q8VQN0_rosetta_ddg=remove_WT_score(Q8VQN0_rosetta_ddg,Q8VQN0_WT_seq_rose)"
   ]
  },
  {
   "cell_type": "code",
   "execution_count": 272,
   "metadata": {
    "tags": []
   },
   "outputs": [],
   "source": [
    "Q8VQN0_rosetta_ddg_norm=normalize_cutoff(Q8VQN0_rosetta_ddg,0.0,5.0)"
   ]
  },
  {
   "cell_type": "code",
   "execution_count": 273,
   "metadata": {
    "tags": []
   },
   "outputs": [],
   "source": [
    "Q8VQN0_rosetta_ddg_mean=position_mean(Q8VQN0_rosetta_ddg_norm)"
   ]
  },
  {
   "cell_type": "markdown",
   "metadata": {},
   "source": [
    "#### Hydrophobicity"
   ]
  },
  {
   "cell_type": "code",
   "execution_count": 274,
   "metadata": {
    "tags": []
   },
   "outputs": [],
   "source": [
    "Q8VQN0_hydrophobicity_mut=np.empty((len(Q8VQN0_WT_sequence),20),dtype=float)\n",
    "Q8VQN0_hydrophobicity_mut[:]=np.nan"
   ]
  },
  {
   "cell_type": "code",
   "execution_count": 275,
   "metadata": {
    "tags": []
   },
   "outputs": [],
   "source": [
    "for i in range(len(Q8VQN0_WT_sequence)):\n",
    "    for j in range(20):\n",
    "        Q8VQN0_hydrophobicity_mut[i,j]=AA_to_hydrophobicity_scores[alphabetAA_D_L[j+1]]"
   ]
  },
  {
   "cell_type": "markdown",
   "metadata": {},
   "source": [
    "#### WCN"
   ]
  },
  {
   "cell_type": "code",
   "execution_count": 276,
   "metadata": {
    "tags": []
   },
   "outputs": [
    {
     "name": "stdout",
     "output_type": "stream",
     "text": [
      "ASN3\n"
     ]
    }
   ],
   "source": [
    "Q8VQN0_wcn=WCN('../pdbs/Q8VQN0_1jc5.pdb','ca',Q8VQN0_WT_sequence)"
   ]
  },
  {
   "cell_type": "markdown",
   "metadata": {},
   "source": [
    "#### Neigbor scores"
   ]
  },
  {
   "cell_type": "code",
   "execution_count": 277,
   "metadata": {
    "tags": []
   },
   "outputs": [],
   "source": [
    "Q8VQN0_rosetta_neigbor_scores=neighbor_scores(Q8VQN0_rosetta_ddg_mean,1)\n",
    "\n",
    "Q8VQN0_GEMME_neigbor_scores=neighbor_scores(Q8VQN0_GEMME_mean,1)"
   ]
  },
  {
   "cell_type": "markdown",
   "metadata": {},
   "source": [
    "#### CA distance"
   ]
  },
  {
   "cell_type": "code",
   "execution_count": 278,
   "metadata": {
    "tags": []
   },
   "outputs": [],
   "source": [
    "Q8VQN0_Ca_coord=struc_coordinates('../pdbs/Q8VQN0_1jc5.pdb',Q8VQN0_WT_sequence)"
   ]
  },
  {
   "cell_type": "markdown",
   "metadata": {
    "toc-hr-collapsed": false
   },
   "source": [
    "## Predictions"
   ]
  },
  {
   "cell_type": "code",
   "execution_count": 279,
   "metadata": {
    "tags": []
   },
   "outputs": [],
   "source": [
    "count_SBI_model7=[0,0,0]"
   ]
  },
  {
   "cell_type": "code",
   "execution_count": 280,
   "metadata": {
    "tags": []
   },
   "outputs": [],
   "source": [
    "count_SBI_perc_2x=[]"
   ]
  },
  {
   "cell_type": "code",
   "execution_count": 281,
   "metadata": {
    "tags": []
   },
   "outputs": [],
   "source": [
    "asa_SBI_data=[]"
   ]
  },
  {
   "cell_type": "code",
   "execution_count": 282,
   "metadata": {
    "tags": []
   },
   "outputs": [],
   "source": [
    "ss_SBI_data=[]"
   ]
  },
  {
   "cell_type": "code",
   "execution_count": 283,
   "metadata": {
    "tags": []
   },
   "outputs": [],
   "source": [
    "AA_SBI_data=[]"
   ]
  },
  {
   "cell_type": "code",
   "execution_count": 284,
   "metadata": {
    "tags": []
   },
   "outputs": [],
   "source": [
    "count_neg_SBI_cat_levels=[]"
   ]
  },
  {
   "cell_type": "code",
   "execution_count": 285,
   "metadata": {
    "tags": []
   },
   "outputs": [],
   "source": [
    "act_site_distance_SBI=[]"
   ]
  },
  {
   "cell_type": "code",
   "execution_count": 286,
   "metadata": {
    "tags": []
   },
   "outputs": [],
   "source": [
    "act_site_distance_total=[]"
   ]
  },
  {
   "cell_type": "code",
   "execution_count": 287,
   "metadata": {
    "tags": []
   },
   "outputs": [],
   "source": [
    "SBI_statistic_matrix=np.zeros((20,20),dtype=float)"
   ]
  },
  {
   "cell_type": "code",
   "execution_count": 288,
   "metadata": {
    "tags": []
   },
   "outputs": [],
   "source": [
    "NO_SBI_statistic_matrix_over2=np.zeros((20,20),dtype=float)"
   ]
  },
  {
   "cell_type": "code",
   "execution_count": 289,
   "metadata": {
    "tags": []
   },
   "outputs": [],
   "source": [
    "NO_SBI_statistic_matrix_under2=np.zeros((20,20),dtype=float)"
   ]
  },
  {
   "cell_type": "code",
   "execution_count": 290,
   "metadata": {
    "tags": []
   },
   "outputs": [],
   "source": [
    "sbi_percentage=[]"
   ]
  },
  {
   "cell_type": "code",
   "execution_count": 291,
   "metadata": {
    "tags": []
   },
   "outputs": [],
   "source": [
    "SBI_statistic_matrix=np.zeros((20,20),dtype=float)"
   ]
  },
  {
   "cell_type": "code",
   "execution_count": 292,
   "metadata": {
    "tags": []
   },
   "outputs": [],
   "source": [
    "NO_SBI_statistic_matrix_over2=np.zeros((20,20),dtype=float)"
   ]
  },
  {
   "cell_type": "code",
   "execution_count": 293,
   "metadata": {
    "tags": []
   },
   "outputs": [],
   "source": [
    "NO_SBI_statistic_matrix_under2=np.zeros((20,20),dtype=float)"
   ]
  },
  {
   "cell_type": "code",
   "execution_count": 294,
   "metadata": {
    "tags": []
   },
   "outputs": [],
   "source": [
    "SBI_statistic_matrix_slice=np.zeros((20,20),dtype=float)"
   ]
  },
  {
   "cell_type": "code",
   "execution_count": 295,
   "metadata": {
    "tags": []
   },
   "outputs": [],
   "source": [
    "NO_SBI_statistic_matrix_over2_slice=np.zeros((20,20),dtype=float)"
   ]
  },
  {
   "cell_type": "code",
   "execution_count": 296,
   "metadata": {
    "tags": []
   },
   "outputs": [],
   "source": [
    "NO_SBI_statistic_matrix_under2_slice=np.zeros((20,20),dtype=float)"
   ]
  },
  {
   "cell_type": "code",
   "execution_count": 297,
   "metadata": {
    "tags": []
   },
   "outputs": [],
   "source": [
    "slice_variants=[0,4]"
   ]
  },
  {
   "cell_type": "code",
   "execution_count": 298,
   "metadata": {
    "tags": []
   },
   "outputs": [],
   "source": [
    "count_MCSA_matched_over_threshold=0"
   ]
  },
  {
   "cell_type": "code",
   "execution_count": 299,
   "metadata": {
    "tags": []
   },
   "outputs": [],
   "source": [
    "count_total_SBI_predicted=[0,0]"
   ]
  },
  {
   "cell_type": "code",
   "execution_count": 300,
   "metadata": {
    "tags": []
   },
   "outputs": [],
   "source": [
    "sbi_perc_thr=0.5"
   ]
  },
  {
   "cell_type": "code",
   "execution_count": 301,
   "metadata": {
    "tags": []
   },
   "outputs": [],
   "source": [
    "proline_analysis=[]"
   ]
  },
  {
   "cell_type": "code",
   "execution_count": 302,
   "metadata": {
    "tags": []
   },
   "outputs": [],
   "source": [
    "count_total_variant=np.zeros(4,dtype=int)\n",
    "count_total_residues=np.zeros(5,dtype=int)\n",
    "count_catalytic_residues=np.zeros(5,dtype=int)"
   ]
  },
  {
   "cell_type": "markdown",
   "metadata": {
    "toc-hr-collapsed": false
   },
   "source": [
    "### Validation"
   ]
  },
  {
   "cell_type": "markdown",
   "metadata": {},
   "source": [
    "#### P00469 Validation"
   ]
  },
  {
   "cell_type": "code",
   "execution_count": 303,
   "metadata": {
    "tags": []
   },
   "outputs": [],
   "source": [
    "P00469_X,P00469_map=features_validation([P00469_GEMME, P00469_rosetta_ddg_norm,P00469_GEMME_mean,P00469_rosetta_ddg_mean,P00469_hydrophobicity_mut,P00469_GEMME_neigbor_scores,P00469_rosetta_neigbor_scores,P00469_wcn],P00469_WT_sequence)"
   ]
  },
  {
   "cell_type": "code",
   "execution_count": 304,
   "metadata": {
    "tags": []
   },
   "outputs": [],
   "source": [
    "prediction=cat.predict(P00469_X)"
   ]
  },
  {
   "cell_type": "code",
   "execution_count": 305,
   "metadata": {
    "tags": []
   },
   "outputs": [],
   "source": [
    "P00469_3mode_prediction,percentage=retrieve_residue_label_pred(prediction,P00469_map,P00469_WT_sequence,sbi_perc_thr)"
   ]
  },
  {
   "cell_type": "code",
   "execution_count": 306,
   "metadata": {
    "tags": []
   },
   "outputs": [],
   "source": [
    "sbi_percentage.append([i for i in percentage[:,0] if i>0.0])"
   ]
  },
  {
   "cell_type": "code",
   "execution_count": 307,
   "metadata": {
    "tags": []
   },
   "outputs": [
    {
     "name": "stdout",
     "output_type": "stream",
     "text": [
      " SBI variants: 989 out of 6004 (16.47%) \n",
      " SBI residues: 39 out of 316 (12.34%) \n"
     ]
    }
   ],
   "source": [
    "count_SBI_perc_2x.append(print_percentage_prediction(prediction,P00469_3mode_prediction,P00469_WT_sequence,P00469_WT_seq_rose))"
   ]
  },
  {
   "cell_type": "code",
   "execution_count": 688,
   "metadata": {},
   "outputs": [],
   "source": [
    "print_chimera_x_attribute_file(P00469_3mode_prediction,P00469_3mode_prediction,\"./outputs/IBS_P00469_chimera_list_model_2x.txt\")"
   ]
  },
  {
   "cell_type": "code",
   "execution_count": 371,
   "metadata": {},
   "outputs": [],
   "source": [
    "print_chimera_x_attribute_file(P00469_3mode_prediction,P00469_GEMME_mean,\"./outputs/P00492_gemme_mean.defattr\")"
   ]
  },
  {
   "cell_type": "code",
   "execution_count": 689,
   "metadata": {},
   "outputs": [],
   "source": [
    "print_chimera_x_attribute_file(P00469_3mode_prediction,percentage[:,0],\"./outputs/IBS_P00469_chimera_percentage_model_2x.txt\")"
   ]
  },
  {
   "cell_type": "code",
   "execution_count": 690,
   "metadata": {},
   "outputs": [
    {
     "name": "stdout",
     "output_type": "stream",
     "text": [
      "3.A, 23.A, 24.A, 28.A, 30.A, 33.A, 50.A, 60.A, 70.A, 72.A, 87.A, 120.A, 129.A, 143.A, 149.A, 162.A, 163.A, 175.A, 177.A, 178.A, 179.A, 186.A, 187.A, 195.A, 197.A, 198.A, 199.A, 203.A, 212.A, 219.A, 224.A, 225.A, 229.A, 238.A, 257.A, 259.A, 261.A, 271.A, 296.A, 298.A, 306.A, "
     ]
    }
   ],
   "source": [
    "for i in range(len(P00469_3mode_prediction)):\n",
    "    if (P00469_3mode_prediction[i]==1):\n",
    "        print(i+1,'.A, ',sep='',end='')"
   ]
  },
  {
   "cell_type": "code",
   "execution_count": 691,
   "metadata": {},
   "outputs": [],
   "source": [
    "count_SBI_model7[0]+= count_positive_SBI(P00469_3mode_prediction,percentage[:,0],P00469_db_positions)[0]\n",
    "count_SBI_model7[1]+= count_positive_SBI(P00469_3mode_prediction,percentage[:,0],P00469_db_positions)[1]\n",
    "count_SBI_model7[2]+= count_positive_SBI(P00469_3mode_prediction,percentage[:,0],P00469_db_positions)[2]"
   ]
  },
  {
   "cell_type": "code",
   "execution_count": 692,
   "metadata": {},
   "outputs": [
    {
     "name": "stdout",
     "output_type": "stream",
     "text": [
      "([59, 197], [145, 217]) [82, 198, 60, 218, 221, 146]\n"
     ]
    }
   ],
   "source": [
    "print(index_positive_SBI(P00469_3mode_prediction,percentage[:,0],P00469_db_positions),P00469_db_positions)"
   ]
  },
  {
   "cell_type": "code",
   "execution_count": 693,
   "metadata": {},
   "outputs": [],
   "source": [
    "for i,n in enumerate(P00469_3mode_prediction):\n",
    "    if n ==1:\n",
    "        proline_analysis.append([variants_extract(prediction,P00469_map,i)[int(alphabetAA_L_D['P'])-1],P00469_rosetta_ddg[i,int(alphabetAA_L_D['P'])-1],P00469_rosetta_ddg_mean[i],P00469_GEMME_mean[i],P00469_wcn[i]])"
   ]
  },
  {
   "cell_type": "code",
   "execution_count": 694,
   "metadata": {},
   "outputs": [],
   "source": [
    "count_total_variant+=np.array(print_numbers_classification(prediction,P00469_3mode_prediction)[0])\n",
    "count_total_residues+=np.array(print_numbers_classification(prediction,P00469_3mode_prediction)[1])"
   ]
  },
  {
   "cell_type": "code",
   "execution_count": 695,
   "metadata": {},
   "outputs": [],
   "source": [
    "count_catalytic_residues+=np.array(print_catalytic_classification(P00469_3mode_prediction,P00469_db_positions))"
   ]
  },
  {
   "cell_type": "code",
   "execution_count": 696,
   "metadata": {},
   "outputs": [],
   "source": [
    "count_MCSA_matched_over_threshold+=len(index_SBI_db(P00469_3mode_prediction,P00469_db_positions))"
   ]
  },
  {
   "cell_type": "code",
   "execution_count": 697,
   "metadata": {},
   "outputs": [],
   "source": [
    "for i in 0,1:\n",
    "    count_total_SBI_predicted[i]+=print_numbers_prediction(prediction,P00469_3mode_prediction,P00469_WT_sequence,P00469_WT_seq_rose)[i]"
   ]
  },
  {
   "cell_type": "code",
   "execution_count": 698,
   "metadata": {},
   "outputs": [],
   "source": [
    "asa_SBI_data.append(asa_SBI(P00469_3mode_prediction,P00469_rsa))"
   ]
  },
  {
   "cell_type": "code",
   "execution_count": 699,
   "metadata": {},
   "outputs": [],
   "source": [
    "ss_SBI_data.append(asa_SBI(P00469_3mode_prediction,P00469_ss))"
   ]
  },
  {
   "cell_type": "code",
   "execution_count": 700,
   "metadata": {},
   "outputs": [],
   "source": [
    "AA_SBI_data.append(asa_SBI(P00469_3mode_prediction,P00469_WT_sequence))"
   ]
  },
  {
   "cell_type": "code",
   "execution_count": 701,
   "metadata": {},
   "outputs": [],
   "source": [
    "P00469_blue_pred_distribution=[]\n",
    "for i,n in enumerate(P00469_3mode_prediction):\n",
    "    if n==1.0:\n",
    "        temp=[]\n",
    "        for j in P00469_db_positions:\n",
    "            temp.append(AS_CA_distance(P00469_Ca_coord,[j],i+1))\n",
    "        P00469_blue_pred_distribution.append(np.min(temp))\n",
    "        act_site_distance_SBI.append(np.min(temp))"
   ]
  },
  {
   "cell_type": "code",
   "execution_count": 702,
   "metadata": {},
   "outputs": [],
   "source": [
    "temp_total_pred_distribution=[]\n",
    "for i,n in enumerate(P00469_3mode_prediction):\n",
    "        temp=[]\n",
    "        for j in P00469_db_positions:\n",
    "            temp.append(AS_CA_distance(P00469_Ca_coord,[j],i+1))\n",
    "        temp_total_pred_distribution.append(np.min(temp))\n",
    "\n",
    "act_site_distance_total.append(['P00469',np.max(temp_total_pred_distribution),np.median([i for i in temp_total_pred_distribution if i!=-1])])"
   ]
  },
  {
   "cell_type": "code",
   "execution_count": 703,
   "metadata": {},
   "outputs": [],
   "source": [
    "temp=variants_statistic(prediction,P00469_map,P00469_WT_sequence)\n",
    "SBI_statistic_matrix+=temp[0]\n",
    "NO_SBI_statistic_matrix_under2+=temp[1]\n",
    "NO_SBI_statistic_matrix_over2+=temp[2]"
   ]
  },
  {
   "cell_type": "code",
   "execution_count": 704,
   "metadata": {},
   "outputs": [],
   "source": [
    "temp=variants_statistic_slice(prediction,P00469_map,P00469_WT_sequence,slice_variants)\n",
    "SBI_statistic_matrix_slice+=temp[0]\n",
    "NO_SBI_statistic_matrix_under2_slice+=temp[1]\n",
    "NO_SBI_statistic_matrix_over2_slice+=temp[2]"
   ]
  },
  {
   "cell_type": "markdown",
   "metadata": {},
   "source": [
    "#### P00491 Validation"
   ]
  },
  {
   "cell_type": "code",
   "execution_count": 705,
   "metadata": {},
   "outputs": [],
   "source": [
    "P00491_X,P00491_map=features_validation([P00491_GEMME, P00491_rosetta_ddg_norm,P00491_GEMME_mean,P00491_rosetta_ddg_mean,P00491_hydrophobicity_mut,P00491_GEMME_neigbor_scores,P00491_rosetta_neigbor_scores,P00491_wcn],P00491_WT_sequence)"
   ]
  },
  {
   "cell_type": "code",
   "execution_count": 706,
   "metadata": {},
   "outputs": [],
   "source": [
    "prediction=cat.predict(P00491_X)"
   ]
  },
  {
   "cell_type": "code",
   "execution_count": 707,
   "metadata": {},
   "outputs": [],
   "source": [
    "P00491_3mode_prediction,percentage=retrieve_residue_label_pred(prediction,P00491_map,P00491_WT_sequence,sbi_perc_thr)"
   ]
  },
  {
   "cell_type": "code",
   "execution_count": 708,
   "metadata": {},
   "outputs": [],
   "source": [
    "sbi_percentage.append([i for i in percentage[:,0] if i>0.0])"
   ]
  },
  {
   "cell_type": "code",
   "execution_count": 709,
   "metadata": {},
   "outputs": [
    {
     "name": "stdout",
     "output_type": "stream",
     "text": [
      " SBI variants: 722 out of 5357 (13.48%) \n",
      " SBI residues: 26 out of 281 (9.25%) \n"
     ]
    }
   ],
   "source": [
    "count_SBI_perc_2x.append(print_percentage_prediction(prediction,P00491_3mode_prediction,P00491_WT_sequence,P00491_WT_seq_rose))"
   ]
  },
  {
   "cell_type": "code",
   "execution_count": 710,
   "metadata": {},
   "outputs": [],
   "source": [
    "print_chimera_x_attribute_file(P00491_3mode_prediction,percentage[:,0],\"./outputs/IBS_P00491_chimera_list_model7.txt\")"
   ]
  },
  {
   "cell_type": "code",
   "execution_count": 711,
   "metadata": {},
   "outputs": [],
   "source": [
    "count_SBI_model7[0]+= count_positive_SBI(P00491_3mode_prediction,percentage[:,0],P00491_db_positions)[0]\n",
    "count_SBI_model7[1]+= count_positive_SBI(P00491_3mode_prediction,percentage[:,0],P00491_db_positions)[1]\n",
    "count_SBI_model7[2]+= count_positive_SBI(P00491_3mode_prediction,percentage[:,0],P00491_db_positions)[2]"
   ]
  },
  {
   "cell_type": "code",
   "execution_count": 712,
   "metadata": {},
   "outputs": [
    {
     "name": "stdout",
     "output_type": "stream",
     "text": [
      "([32, 85, 115, 219, 242], [218]) [220, 116, 33, 88, 257, 219, 64, 86, 243]\n"
     ]
    }
   ],
   "source": [
    "print(index_positive_SBI(P00491_3mode_prediction,percentage[:,0],P00491_db_positions),P00491_db_positions)"
   ]
  },
  {
   "cell_type": "code",
   "execution_count": 713,
   "metadata": {},
   "outputs": [],
   "source": [
    "for i,n in enumerate(P00491_3mode_prediction):\n",
    "    if n ==1:\n",
    "        proline_analysis.append([variants_extract(prediction,P00491_map,i)[int(alphabetAA_L_D['P'])-1],P00491_rosetta_ddg[i,int(alphabetAA_L_D['P'])-1],P00491_rosetta_ddg_mean[i],P00491_GEMME_mean[i],P00491_wcn[i]])"
   ]
  },
  {
   "cell_type": "code",
   "execution_count": 714,
   "metadata": {},
   "outputs": [],
   "source": [
    "count_total_variant+=np.array(print_numbers_classification(prediction,P00491_3mode_prediction)[0])\n",
    "count_total_residues+=np.array(print_numbers_classification(prediction,P00491_3mode_prediction)[1])"
   ]
  },
  {
   "cell_type": "code",
   "execution_count": 715,
   "metadata": {},
   "outputs": [],
   "source": [
    "count_catalytic_residues+=np.array(print_catalytic_classification(P00491_3mode_prediction,P00491_db_positions))"
   ]
  },
  {
   "cell_type": "code",
   "execution_count": 716,
   "metadata": {},
   "outputs": [],
   "source": [
    "count_MCSA_matched_over_threshold+=len(index_SBI_db(P00491_3mode_prediction,P00491_db_positions))"
   ]
  },
  {
   "cell_type": "code",
   "execution_count": 717,
   "metadata": {},
   "outputs": [],
   "source": [
    "for i in 0,1:\n",
    "    count_total_SBI_predicted[i]+=print_numbers_prediction(prediction,P00491_3mode_prediction,P00491_WT_sequence,P00491_WT_seq_rose)[i]"
   ]
  },
  {
   "cell_type": "code",
   "execution_count": 718,
   "metadata": {},
   "outputs": [],
   "source": [
    "asa_SBI_data.append(asa_SBI(P00491_3mode_prediction,P00491_rsa))"
   ]
  },
  {
   "cell_type": "code",
   "execution_count": 719,
   "metadata": {},
   "outputs": [],
   "source": [
    "ss_SBI_data.append(asa_SBI(P00491_3mode_prediction,P00491_ss))"
   ]
  },
  {
   "cell_type": "code",
   "execution_count": 720,
   "metadata": {},
   "outputs": [],
   "source": [
    "AA_SBI_data.append(asa_SBI(P00491_3mode_prediction,P00491_WT_sequence))"
   ]
  },
  {
   "cell_type": "code",
   "execution_count": 721,
   "metadata": {},
   "outputs": [],
   "source": [
    "P00491_blue_pred_distribution=[]\n",
    "for i,n in enumerate(P00491_3mode_prediction):\n",
    "    if n==1.0:\n",
    "        temp=[]\n",
    "        for j in P00491_db_positions:\n",
    "            temp.append(AS_CA_distance(P00491_Ca_coord,[j],i+1))\n",
    "        P00491_blue_pred_distribution.append(np.min(temp))\n",
    "        act_site_distance_SBI.append(np.min(temp))"
   ]
  },
  {
   "cell_type": "code",
   "execution_count": 722,
   "metadata": {},
   "outputs": [],
   "source": [
    "temp_total_pred_distribution=[]\n",
    "for i,n in enumerate(P00491_3mode_prediction):\n",
    "        temp=[]\n",
    "        for j in P00491_db_positions:\n",
    "            temp.append(AS_CA_distance(P00491_Ca_coord,[j],i+1))\n",
    "        temp_total_pred_distribution.append(np.min(temp))\n",
    "\n",
    "act_site_distance_total.append(['P00491',np.max(temp_total_pred_distribution),np.median([i for i in temp_total_pred_distribution if i!=-1])])"
   ]
  },
  {
   "cell_type": "code",
   "execution_count": 723,
   "metadata": {},
   "outputs": [],
   "source": [
    "temp=variants_statistic(prediction,P00491_map,P00491_WT_sequence)\n",
    "SBI_statistic_matrix+=temp[0]\n",
    "NO_SBI_statistic_matrix_under2+=temp[1]\n",
    "NO_SBI_statistic_matrix_over2+=temp[2]"
   ]
  },
  {
   "cell_type": "code",
   "execution_count": 724,
   "metadata": {},
   "outputs": [],
   "source": [
    "temp=variants_statistic_slice(prediction,P00491_map,P00491_WT_sequence,slice_variants)\n",
    "SBI_statistic_matrix_slice+=temp[0]\n",
    "NO_SBI_statistic_matrix_under2_slice+=temp[1]\n",
    "NO_SBI_statistic_matrix_over2_slice+=temp[2]"
   ]
  },
  {
   "cell_type": "markdown",
   "metadata": {},
   "source": [
    "#### Q06241 Validation"
   ]
  },
  {
   "cell_type": "code",
   "execution_count": 725,
   "metadata": {},
   "outputs": [],
   "source": [
    "Q06241_X,Q06241_map=features_validation([Q06241_GEMME, Q06241_rosetta_ddg_norm,Q06241_GEMME_mean,Q06241_rosetta_ddg_mean,Q06241_hydrophobicity_mut,Q06241_GEMME_neigbor_scores,Q06241_rosetta_neigbor_scores,Q06241_wcn],Q06241_WT_sequence)"
   ]
  },
  {
   "cell_type": "code",
   "execution_count": 726,
   "metadata": {},
   "outputs": [],
   "source": [
    "prediction=cat.predict(Q06241_X)"
   ]
  },
  {
   "cell_type": "code",
   "execution_count": 727,
   "metadata": {},
   "outputs": [],
   "source": [
    "Q06241_3mode_prediction,percentage=retrieve_residue_label_pred(prediction,Q06241_map,Q06241_WT_sequence,sbi_perc_thr)"
   ]
  },
  {
   "cell_type": "code",
   "execution_count": 728,
   "metadata": {},
   "outputs": [],
   "source": [
    "sbi_percentage.append([i for i in percentage[:,0] if i>0.0])"
   ]
  },
  {
   "cell_type": "code",
   "execution_count": 729,
   "metadata": {},
   "outputs": [
    {
     "name": "stdout",
     "output_type": "stream",
     "text": [
      " SBI variants: 579 out of 3838 (15.09%) \n",
      " SBI residues: 20 out of 202 (9.90%) \n"
     ]
    }
   ],
   "source": [
    "count_SBI_perc_2x.append(print_percentage_prediction(prediction,Q06241_3mode_prediction,Q06241_WT_sequence,Q06241_WT_seq_rose))"
   ]
  },
  {
   "cell_type": "code",
   "execution_count": 730,
   "metadata": {},
   "outputs": [],
   "source": [
    "print_chimera_x_attribute_file(Q06241_3mode_prediction,percentage[:,0],\"./outputs/IBS_Q06241_chimera_list_model7.txt\")"
   ]
  },
  {
   "cell_type": "code",
   "execution_count": 731,
   "metadata": {},
   "outputs": [],
   "source": [
    "count_SBI_model7[0]+= count_positive_SBI(Q06241_3mode_prediction,percentage[:,0],Q06241_db_positions)[0]\n",
    "count_SBI_model7[1]+= count_positive_SBI(Q06241_3mode_prediction,percentage[:,0],Q06241_db_positions)[1]\n",
    "count_SBI_model7[2]+= count_positive_SBI(Q06241_3mode_prediction,percentage[:,0],Q06241_db_positions)[2]"
   ]
  },
  {
   "cell_type": "code",
   "execution_count": 732,
   "metadata": {},
   "outputs": [
    {
     "name": "stdout",
     "output_type": "stream",
     "text": [
      "([70, 122, 180, 183], [115]) [71, 116, 123, 184, 181]\n"
     ]
    }
   ],
   "source": [
    "print(index_positive_SBI(Q06241_3mode_prediction,percentage[:,0],Q06241_db_positions),Q06241_db_positions)"
   ]
  },
  {
   "cell_type": "code",
   "execution_count": 733,
   "metadata": {},
   "outputs": [],
   "source": [
    "for i,n in enumerate(Q06241_3mode_prediction):\n",
    "    if n ==1:\n",
    "        proline_analysis.append([variants_extract(prediction,Q06241_map,i)[int(alphabetAA_L_D['P'])-1],Q06241_rosetta_ddg[i,int(alphabetAA_L_D['P'])-1],Q06241_rosetta_ddg_mean[i],Q06241_GEMME_mean[i],Q06241_wcn[i]])"
   ]
  },
  {
   "cell_type": "code",
   "execution_count": 734,
   "metadata": {},
   "outputs": [],
   "source": [
    "count_total_variant+=np.array(print_numbers_classification(prediction,Q06241_3mode_prediction)[0])\n",
    "count_total_residues+=np.array(print_numbers_classification(prediction,Q06241_3mode_prediction)[1])"
   ]
  },
  {
   "cell_type": "code",
   "execution_count": 735,
   "metadata": {},
   "outputs": [],
   "source": [
    "count_catalytic_residues+=np.array(print_catalytic_classification(Q06241_3mode_prediction,Q06241_db_positions))"
   ]
  },
  {
   "cell_type": "code",
   "execution_count": 736,
   "metadata": {},
   "outputs": [],
   "source": [
    "count_MCSA_matched_over_threshold+=len(index_SBI_db(Q06241_3mode_prediction,Q06241_db_positions))"
   ]
  },
  {
   "cell_type": "code",
   "execution_count": 737,
   "metadata": {},
   "outputs": [],
   "source": [
    "for i in 0,1:\n",
    "    count_total_SBI_predicted[i]+=print_numbers_prediction(prediction,Q06241_3mode_prediction,Q06241_WT_sequence,Q06241_WT_seq_rose)[i]"
   ]
  },
  {
   "cell_type": "code",
   "execution_count": 738,
   "metadata": {},
   "outputs": [],
   "source": [
    "asa_SBI_data.append(asa_SBI(Q06241_3mode_prediction,Q06241_rsa))"
   ]
  },
  {
   "cell_type": "code",
   "execution_count": 739,
   "metadata": {},
   "outputs": [],
   "source": [
    "ss_SBI_data.append(asa_SBI(Q06241_3mode_prediction,Q06241_ss))"
   ]
  },
  {
   "cell_type": "code",
   "execution_count": 740,
   "metadata": {},
   "outputs": [],
   "source": [
    "AA_SBI_data.append(asa_SBI(Q06241_3mode_prediction,Q06241_WT_sequence))"
   ]
  },
  {
   "cell_type": "code",
   "execution_count": 741,
   "metadata": {},
   "outputs": [],
   "source": [
    "Q06241_blue_pred_distribution=[]\n",
    "for i,n in enumerate(Q06241_3mode_prediction):\n",
    "    if n==1.0:\n",
    "        temp=[]\n",
    "        for j in Q06241_db_positions:\n",
    "            temp.append(AS_CA_distance(Q06241_Ca_coord,[j],i+1))\n",
    "        Q06241_blue_pred_distribution.append(np.min(temp))\n",
    "        act_site_distance_SBI.append(np.min(temp))"
   ]
  },
  {
   "cell_type": "code",
   "execution_count": 742,
   "metadata": {},
   "outputs": [],
   "source": [
    "temp_total_pred_distribution=[]\n",
    "for i,n in enumerate(Q06241_3mode_prediction):\n",
    "        temp=[]\n",
    "        for j in Q06241_db_positions:\n",
    "            temp.append(AS_CA_distance(Q06241_Ca_coord,[j],i+1))\n",
    "        temp_total_pred_distribution.append(np.min(temp))\n",
    "\n",
    "act_site_distance_total.append(['Q06241',np.max(temp_total_pred_distribution),np.median([i for i in temp_total_pred_distribution if i!=-1])])"
   ]
  },
  {
   "cell_type": "code",
   "execution_count": 743,
   "metadata": {},
   "outputs": [],
   "source": [
    "temp=variants_statistic(prediction,Q06241_map,Q06241_WT_sequence)\n",
    "SBI_statistic_matrix+=temp[0]\n",
    "NO_SBI_statistic_matrix_under2+=temp[1]\n",
    "NO_SBI_statistic_matrix_over2+=temp[2]"
   ]
  },
  {
   "cell_type": "code",
   "execution_count": 744,
   "metadata": {},
   "outputs": [],
   "source": [
    "temp=variants_statistic_slice(prediction,Q06241_map,Q06241_WT_sequence,slice_variants)\n",
    "SBI_statistic_matrix_slice+=temp[0]\n",
    "NO_SBI_statistic_matrix_under2_slice+=temp[1]\n",
    "NO_SBI_statistic_matrix_over2_slice+=temp[2]"
   ]
  },
  {
   "cell_type": "markdown",
   "metadata": {},
   "source": [
    "#### P04036 Validation"
   ]
  },
  {
   "cell_type": "code",
   "execution_count": 745,
   "metadata": {},
   "outputs": [],
   "source": [
    "P04036_X,P04036_map=features_validation([P04036_GEMME,P04036_rosetta_ddg_norm, P04036_GEMME_mean, P04036_rosetta_ddg_mean, P04036_hydrophobicity_mut,P04036_GEMME_neigbor_scores,P04036_rosetta_neigbor_scores,P04036_wcn],P04036_WT_sequence)"
   ]
  },
  {
   "cell_type": "code",
   "execution_count": 746,
   "metadata": {},
   "outputs": [],
   "source": [
    "np.save('./outputs/P04036_GEMME.npy',P04036_GEMME)\n",
    "np.save('./outputs/P04036_GEMME_mean.npy',P04036_GEMME_mean)\n",
    "np.save('./outputs/P04036_rosetta.npy',P04036_rosetta_ddg)"
   ]
  },
  {
   "cell_type": "code",
   "execution_count": 747,
   "metadata": {},
   "outputs": [],
   "source": [
    "prediction=cat.predict(P04036_X)"
   ]
  },
  {
   "cell_type": "code",
   "execution_count": 748,
   "metadata": {},
   "outputs": [],
   "source": [
    "P04036_3mode_prediction,percentage=retrieve_residue_label_pred(prediction,P04036_map,P04036_WT_sequence,sbi_perc_thr)"
   ]
  },
  {
   "cell_type": "code",
   "execution_count": 749,
   "metadata": {},
   "outputs": [],
   "source": [
    "sbi_percentage.append([i for i in percentage[:,0] if i>0.0])"
   ]
  },
  {
   "cell_type": "code",
   "execution_count": 750,
   "metadata": {},
   "outputs": [
    {
     "name": "stdout",
     "output_type": "stream",
     "text": [
      " SBI variants: 850 out of 5130 (16.57%) \n",
      " SBI residues: 36 out of 270 (13.33%) \n"
     ]
    }
   ],
   "source": [
    "count_SBI_perc_2x.append(print_percentage_prediction(prediction,P04036_3mode_prediction,P04036_WT_sequence,P04036_WT_seq_rose))"
   ]
  },
  {
   "cell_type": "code",
   "execution_count": 751,
   "metadata": {},
   "outputs": [],
   "source": [
    "print_chimera_x_attribute_file(P04036_3mode_prediction,percentage[:,0],\"./outputs/IBS_P04036_chimera_list_model7.txt\")"
   ]
  },
  {
   "cell_type": "code",
   "execution_count": 752,
   "metadata": {},
   "outputs": [],
   "source": [
    "count_SBI_model7[0]+= count_positive_SBI(P04036_3mode_prediction,percentage[:,0],P04036_db_positions)[0]\n",
    "count_SBI_model7[1]+= count_positive_SBI(P04036_3mode_prediction,percentage[:,0],P04036_db_positions)[1]\n",
    "count_SBI_model7[2]+= count_positive_SBI(P04036_3mode_prediction,percentage[:,0],P04036_db_positions)[2]"
   ]
  },
  {
   "cell_type": "code",
   "execution_count": 753,
   "metadata": {},
   "outputs": [
    {
     "name": "stdout",
     "output_type": "stream",
     "text": [
      "([158, 162], []) [159, 163]\n"
     ]
    }
   ],
   "source": [
    "print(index_positive_SBI(P04036_3mode_prediction,percentage[:,0],P04036_db_positions),P04036_db_positions)"
   ]
  },
  {
   "cell_type": "code",
   "execution_count": 754,
   "metadata": {},
   "outputs": [],
   "source": [
    "for i,n in enumerate(P04036_3mode_prediction):\n",
    "    if n ==1:\n",
    "        proline_analysis.append([variants_extract(prediction,P04036_map,i)[int(alphabetAA_L_D['P'])-1],P04036_rosetta_ddg[i,int(alphabetAA_L_D['P'])-1],P04036_rosetta_ddg_mean[i],P04036_GEMME_mean[i],P04036_wcn[i]])"
   ]
  },
  {
   "cell_type": "code",
   "execution_count": 755,
   "metadata": {},
   "outputs": [],
   "source": [
    "count_total_variant+=np.array(print_numbers_classification(prediction,P04036_3mode_prediction)[0])\n",
    "count_total_residues+=np.array(print_numbers_classification(prediction,P04036_3mode_prediction)[1])"
   ]
  },
  {
   "cell_type": "code",
   "execution_count": 756,
   "metadata": {},
   "outputs": [],
   "source": [
    "count_catalytic_residues+=np.array(print_catalytic_classification(P04036_3mode_prediction,P04036_db_positions))"
   ]
  },
  {
   "cell_type": "code",
   "execution_count": 757,
   "metadata": {},
   "outputs": [],
   "source": [
    "count_MCSA_matched_over_threshold+=len(index_SBI_db(P04036_3mode_prediction,P04036_db_positions))"
   ]
  },
  {
   "cell_type": "code",
   "execution_count": 758,
   "metadata": {},
   "outputs": [],
   "source": [
    "for i in 0,1:\n",
    "    count_total_SBI_predicted[i]+=print_numbers_prediction(prediction,P04036_3mode_prediction,P04036_WT_sequence,P04036_WT_seq_rose)[i]"
   ]
  },
  {
   "cell_type": "code",
   "execution_count": 759,
   "metadata": {},
   "outputs": [],
   "source": [
    "asa_SBI_data.append(asa_SBI(P04036_3mode_prediction,P04036_rsa))"
   ]
  },
  {
   "cell_type": "code",
   "execution_count": 760,
   "metadata": {},
   "outputs": [],
   "source": [
    "ss_SBI_data.append(asa_SBI(P04036_3mode_prediction,P04036_ss))"
   ]
  },
  {
   "cell_type": "code",
   "execution_count": 761,
   "metadata": {},
   "outputs": [],
   "source": [
    "AA_SBI_data.append(asa_SBI(P04036_3mode_prediction,P04036_WT_sequence))"
   ]
  },
  {
   "cell_type": "code",
   "execution_count": 762,
   "metadata": {},
   "outputs": [],
   "source": [
    "P04036_blue_pred_distribution=[]\n",
    "for i,n in enumerate(P04036_3mode_prediction):\n",
    "    if n==1.0:\n",
    "        temp=[]\n",
    "        for j in P04036_db_positions:\n",
    "            temp.append(AS_CA_distance(P04036_Ca_coord,[j],i+1))\n",
    "        P04036_blue_pred_distribution.append(np.min(temp))\n",
    "        act_site_distance_SBI.append(np.min(temp))"
   ]
  },
  {
   "cell_type": "code",
   "execution_count": 763,
   "metadata": {},
   "outputs": [],
   "source": [
    "temp_total_pred_distribution=[]\n",
    "for i,n in enumerate(P04036_3mode_prediction):\n",
    "        temp=[]\n",
    "        for j in P04036_db_positions:\n",
    "            temp.append(AS_CA_distance(P04036_Ca_coord,[j],i+1))\n",
    "        temp_total_pred_distribution.append(np.min(temp))\n",
    "\n",
    "act_site_distance_total.append(['P00469',np.max(temp_total_pred_distribution),np.median([i for i in temp_total_pred_distribution if i!=-1])])"
   ]
  },
  {
   "cell_type": "code",
   "execution_count": 764,
   "metadata": {},
   "outputs": [],
   "source": [
    "temp=variants_statistic(prediction,P04036_map,P04036_WT_sequence)\n",
    "SBI_statistic_matrix+=temp[0]\n",
    "NO_SBI_statistic_matrix_under2+=temp[1]\n",
    "NO_SBI_statistic_matrix_over2+=temp[2]"
   ]
  },
  {
   "cell_type": "code",
   "execution_count": 765,
   "metadata": {},
   "outputs": [],
   "source": [
    "temp=variants_statistic_slice(prediction,P04036_map,P04036_WT_sequence,slice_variants)\n",
    "SBI_statistic_matrix_slice+=temp[0]\n",
    "NO_SBI_statistic_matrix_under2_slice+=temp[1]\n",
    "NO_SBI_statistic_matrix_over2_slice+=temp[2]"
   ]
  },
  {
   "cell_type": "markdown",
   "metadata": {},
   "source": [
    "#### P0A6L0 Validation"
   ]
  },
  {
   "cell_type": "code",
   "execution_count": 766,
   "metadata": {},
   "outputs": [],
   "source": [
    "P0A6L0_X,P0A6L0_map=features_validation([P0A6L0_GEMME,P0A6L0_rosetta_ddg_norm, P0A6L0_GEMME_mean, P0A6L0_rosetta_ddg_mean, P0A6L0_hydrophobicity_mut,P0A6L0_GEMME_neigbor_scores,P0A6L0_rosetta_neigbor_scores,P0A6L0_wcn],P0A6L0_WT_sequence)"
   ]
  },
  {
   "cell_type": "code",
   "execution_count": 767,
   "metadata": {},
   "outputs": [],
   "source": [
    "prediction=cat.predict(P0A6L0_X)"
   ]
  },
  {
   "cell_type": "code",
   "execution_count": 768,
   "metadata": {},
   "outputs": [],
   "source": [
    "P0A6L0_3mode_prediction,percentage=retrieve_residue_label_pred(prediction,P0A6L0_map,P0A6L0_WT_sequence,sbi_perc_thr)"
   ]
  },
  {
   "cell_type": "code",
   "execution_count": 769,
   "metadata": {},
   "outputs": [],
   "source": [
    "sbi_percentage.append([i for i in percentage[:,0] if i>0.0])"
   ]
  },
  {
   "cell_type": "code",
   "execution_count": 770,
   "metadata": {},
   "outputs": [
    {
     "name": "stdout",
     "output_type": "stream",
     "text": [
      " SBI variants: 688 out of 4750 (14.48%) \n",
      " SBI residues: 26 out of 250 (10.40%) \n"
     ]
    }
   ],
   "source": [
    "count_SBI_perc_2x.append(print_percentage_prediction(prediction,P0A6L0_3mode_prediction,P0A6L0_WT_sequence,P0A6L0_WT_seq_rose))"
   ]
  },
  {
   "cell_type": "code",
   "execution_count": 771,
   "metadata": {},
   "outputs": [],
   "source": [
    "print_chimera_x_attribute_file(P0A6L0_3mode_prediction,P0A6L0_3mode_prediction,\"./outputs/SBIr_P0A6L0_chimera_list_model_2x.txt\")"
   ]
  },
  {
   "cell_type": "code",
   "execution_count": 772,
   "metadata": {},
   "outputs": [],
   "source": [
    "print_chimera_x_attribute_file(P0A6L0_3mode_prediction,P0A6L0_GEMME_mean,\"./outputs/SBIr_P0A6L0_chimera_GEMME_model_2x.txt\")"
   ]
  },
  {
   "cell_type": "code",
   "execution_count": 773,
   "metadata": {},
   "outputs": [],
   "source": [
    "print_chimera_x_attribute_file(P0A6L0_3mode_prediction,P0A6L0_rosetta_ddg_mean,\"./outputs/SBIr_P0A6L0_chimera_rosetta_model_2x.txt\")"
   ]
  },
  {
   "cell_type": "code",
   "execution_count": 774,
   "metadata": {},
   "outputs": [],
   "source": [
    "count_SBI_model7[0]+= count_positive_SBI(P0A6L0_3mode_prediction,percentage[:,0],P0A6L0_db_positions)[0]\n",
    "count_SBI_model7[1]+= count_positive_SBI(P0A6L0_3mode_prediction,percentage[:,0],P0A6L0_db_positions)[1]\n",
    "count_SBI_model7[2]+= count_positive_SBI(P0A6L0_3mode_prediction,percentage[:,0],P0A6L0_db_positions)[2]"
   ]
  },
  {
   "cell_type": "code",
   "execution_count": 775,
   "metadata": {},
   "outputs": [
    {
     "name": "stdout",
     "output_type": "stream",
     "text": [
      "([101, 166, 200], []) [102, 167, 201]\n"
     ]
    }
   ],
   "source": [
    "print(index_positive_SBI(P0A6L0_3mode_prediction,percentage[:,0],P0A6L0_db_positions),P0A6L0_db_positions)"
   ]
  },
  {
   "cell_type": "code",
   "execution_count": 776,
   "metadata": {},
   "outputs": [],
   "source": [
    "for i,n in enumerate(P0A6L0_3mode_prediction):\n",
    "    if n ==1:\n",
    "        proline_analysis.append([variants_extract(prediction,P0A6L0_map,i)[int(alphabetAA_L_D['P'])-1],P0A6L0_rosetta_ddg[i,int(alphabetAA_L_D['P'])-1],P0A6L0_rosetta_ddg_mean[i],P0A6L0_GEMME_mean[i],P0A6L0_wcn[i]])"
   ]
  },
  {
   "cell_type": "code",
   "execution_count": 777,
   "metadata": {},
   "outputs": [],
   "source": [
    "count_total_variant+=np.array(print_numbers_classification(prediction,P0A6L0_3mode_prediction)[0])\n",
    "count_total_residues+=np.array(print_numbers_classification(prediction,P0A6L0_3mode_prediction)[1])"
   ]
  },
  {
   "cell_type": "code",
   "execution_count": 778,
   "metadata": {},
   "outputs": [],
   "source": [
    "count_catalytic_residues+=np.array(print_catalytic_classification(P0A6L0_3mode_prediction,P0A6L0_db_positions))"
   ]
  },
  {
   "cell_type": "code",
   "execution_count": 779,
   "metadata": {},
   "outputs": [],
   "source": [
    "count_MCSA_matched_over_threshold+=len(index_SBI_db(P0A6L0_3mode_prediction,P0A6L0_db_positions))"
   ]
  },
  {
   "cell_type": "code",
   "execution_count": 780,
   "metadata": {},
   "outputs": [],
   "source": [
    "for i in 0,1:\n",
    "    count_total_SBI_predicted[i]+=print_numbers_prediction(prediction,P0A6L0_3mode_prediction,P0A6L0_WT_sequence,P0A6L0_WT_seq_rose)[i]"
   ]
  },
  {
   "cell_type": "code",
   "execution_count": 781,
   "metadata": {},
   "outputs": [],
   "source": [
    "asa_SBI_data.append(asa_SBI(P0A6L0_3mode_prediction,P0A6L0_rsa))"
   ]
  },
  {
   "cell_type": "code",
   "execution_count": 782,
   "metadata": {},
   "outputs": [],
   "source": [
    "ss_SBI_data.append(asa_SBI(P0A6L0_3mode_prediction,P0A6L0_ss))"
   ]
  },
  {
   "cell_type": "code",
   "execution_count": 783,
   "metadata": {},
   "outputs": [],
   "source": [
    "AA_SBI_data.append(asa_SBI(P0A6L0_3mode_prediction,P0A6L0_WT_sequence))"
   ]
  },
  {
   "cell_type": "code",
   "execution_count": 784,
   "metadata": {},
   "outputs": [],
   "source": [
    "P0A6L0_blue_pred_distribution=[]\n",
    "for i,n in enumerate(P0A6L0_3mode_prediction):\n",
    "    if n==1.0:\n",
    "        temp=[]\n",
    "        for j in P0A6L0_db_positions:\n",
    "            temp.append(AS_CA_distance(P0A6L0_Ca_coord,[j],i+1))\n",
    "        P0A6L0_blue_pred_distribution.append(np.min(temp))\n",
    "        act_site_distance_SBI.append(np.min(temp))"
   ]
  },
  {
   "cell_type": "code",
   "execution_count": 785,
   "metadata": {},
   "outputs": [],
   "source": [
    "temp_total_pred_distribution=[]\n",
    "for i,n in enumerate(P0A6L0_3mode_prediction):\n",
    "        temp=[]\n",
    "        for j in P0A6L0_db_positions:\n",
    "            temp.append(AS_CA_distance(P0A6L0_Ca_coord,[j],i+1))\n",
    "        temp_total_pred_distribution.append(np.min(temp))\n",
    "\n",
    "act_site_distance_total.append(['P0A6L0',np.max(temp_total_pred_distribution),np.median([i for i in temp_total_pred_distribution if i!=-1])])"
   ]
  },
  {
   "cell_type": "code",
   "execution_count": 786,
   "metadata": {},
   "outputs": [],
   "source": [
    "temp=variants_statistic(prediction,P0A6L0_map,P0A6L0_WT_sequence)\n",
    "SBI_statistic_matrix+=temp[0]\n",
    "NO_SBI_statistic_matrix_under2+=temp[1]\n",
    "NO_SBI_statistic_matrix_over2+=temp[2]"
   ]
  },
  {
   "cell_type": "code",
   "execution_count": 787,
   "metadata": {},
   "outputs": [],
   "source": [
    "temp=variants_statistic_slice(prediction,P0A6L0_map,P0A6L0_WT_sequence,slice_variants)\n",
    "SBI_statistic_matrix_slice+=temp[0]\n",
    "NO_SBI_statistic_matrix_under2_slice+=temp[1]\n",
    "NO_SBI_statistic_matrix_over2_slice+=temp[2]"
   ]
  },
  {
   "cell_type": "markdown",
   "metadata": {},
   "source": [
    "#### P19120 Validation"
   ]
  },
  {
   "cell_type": "code",
   "execution_count": 788,
   "metadata": {},
   "outputs": [],
   "source": [
    "P19120_X,P19120_map=features_validation([P19120_GEMME,P19120_rosetta_ddg_norm, P19120_GEMME_mean, P19120_rosetta_ddg_mean, P19120_hydrophobicity_mut,P19120_GEMME_neigbor_scores,P19120_rosetta_neigbor_scores,P19120_wcn],P19120_WT_sequence)"
   ]
  },
  {
   "cell_type": "code",
   "execution_count": 789,
   "metadata": {},
   "outputs": [],
   "source": [
    "prediction=cat.predict(P19120_X)"
   ]
  },
  {
   "cell_type": "code",
   "execution_count": 790,
   "metadata": {},
   "outputs": [],
   "source": [
    "P19120_3mode_prediction,percentage=retrieve_residue_label_pred(prediction,P19120_map,P19120_WT_sequence,sbi_perc_thr)"
   ]
  },
  {
   "cell_type": "code",
   "execution_count": 791,
   "metadata": {},
   "outputs": [],
   "source": [
    "sbi_percentage.append([i for i in percentage[:,0] if i>0.0])"
   ]
  },
  {
   "cell_type": "code",
   "execution_count": 792,
   "metadata": {},
   "outputs": [
    {
     "name": "stdout",
     "output_type": "stream",
     "text": [
      " SBI variants: 972 out of 7181 (13.54%) \n",
      " SBI residues: 32 out of 377 (8.49%) \n"
     ]
    }
   ],
   "source": [
    "count_SBI_perc_2x.append(print_percentage_prediction(prediction,P19120_3mode_prediction,P19120_WT_sequence,P19120_WT_seq_rose))"
   ]
  },
  {
   "cell_type": "code",
   "execution_count": 793,
   "metadata": {},
   "outputs": [],
   "source": [
    "count_SBI_model7[0]+= count_positive_SBI(P19120_3mode_prediction,percentage[:,0],P19120_db_positions)[0]\n",
    "count_SBI_model7[1]+= count_positive_SBI(P19120_3mode_prediction,percentage[:,0],P19120_db_positions)[1]\n",
    "count_SBI_model7[2]+= count_positive_SBI(P19120_3mode_prediction,percentage[:,0],P19120_db_positions)[2]"
   ]
  },
  {
   "cell_type": "code",
   "execution_count": 794,
   "metadata": {},
   "outputs": [
    {
     "name": "stdout",
     "output_type": "stream",
     "text": [
      "([9, 70, 174, 198], []) [10, 199, 175, 71]\n"
     ]
    }
   ],
   "source": [
    "print(index_positive_SBI(P19120_3mode_prediction,percentage[:,0],P19120_db_positions),P19120_db_positions)"
   ]
  },
  {
   "cell_type": "code",
   "execution_count": 795,
   "metadata": {},
   "outputs": [],
   "source": [
    "for i,n in enumerate(P19120_3mode_prediction):\n",
    "    if n ==1:\n",
    "        proline_analysis.append([variants_extract(prediction,P19120_map,i)[int(alphabetAA_L_D['P'])-1],P19120_rosetta_ddg[i,int(alphabetAA_L_D['P'])-1],P19120_rosetta_ddg_mean[i],P19120_GEMME_mean[i],P19120_wcn[i]])"
   ]
  },
  {
   "cell_type": "code",
   "execution_count": 796,
   "metadata": {},
   "outputs": [],
   "source": [
    "count_total_variant+=np.array(print_numbers_classification(prediction,P19120_3mode_prediction)[0])\n",
    "count_total_residues+=np.array(print_numbers_classification(prediction,P19120_3mode_prediction)[1])"
   ]
  },
  {
   "cell_type": "code",
   "execution_count": 797,
   "metadata": {},
   "outputs": [],
   "source": [
    "count_catalytic_residues+=np.array(print_catalytic_classification(P19120_3mode_prediction,P19120_db_positions))"
   ]
  },
  {
   "cell_type": "code",
   "execution_count": 798,
   "metadata": {},
   "outputs": [],
   "source": [
    "count_MCSA_matched_over_threshold+=len(index_SBI_db(P19120_3mode_prediction,P19120_db_positions))"
   ]
  },
  {
   "cell_type": "code",
   "execution_count": 799,
   "metadata": {},
   "outputs": [],
   "source": [
    "for i in 0,1:\n",
    "    count_total_SBI_predicted[i]+=print_numbers_prediction(prediction,P19120_3mode_prediction,P19120_WT_sequence,P19120_WT_seq_rose)[i]"
   ]
  },
  {
   "cell_type": "code",
   "execution_count": 800,
   "metadata": {},
   "outputs": [],
   "source": [
    "asa_SBI_data.append(asa_SBI(P19120_3mode_prediction,P19120_rsa))"
   ]
  },
  {
   "cell_type": "code",
   "execution_count": 801,
   "metadata": {},
   "outputs": [],
   "source": [
    "ss_SBI_data.append(asa_SBI(P19120_3mode_prediction,P19120_ss))"
   ]
  },
  {
   "cell_type": "code",
   "execution_count": 802,
   "metadata": {},
   "outputs": [],
   "source": [
    "AA_SBI_data.append(asa_SBI(P19120_3mode_prediction,P19120_WT_sequence))"
   ]
  },
  {
   "cell_type": "code",
   "execution_count": 803,
   "metadata": {},
   "outputs": [],
   "source": [
    "P19120_blue_pred_distribution=[]\n",
    "for i,n in enumerate(P19120_3mode_prediction):\n",
    "    if n==1.0:\n",
    "        temp=[]\n",
    "        for j in P19120_db_positions:\n",
    "            temp.append(AS_CA_distance(P19120_Ca_coord,[j],i+1))\n",
    "        P19120_blue_pred_distribution.append(np.min(temp))\n",
    "        act_site_distance_SBI.append(np.min(temp))"
   ]
  },
  {
   "cell_type": "code",
   "execution_count": 804,
   "metadata": {},
   "outputs": [],
   "source": [
    "temp_total_pred_distribution=[]\n",
    "for i,n in enumerate(P19120_3mode_prediction):\n",
    "        temp=[]\n",
    "        for j in P19120_db_positions:\n",
    "            temp.append(AS_CA_distance(P19120_Ca_coord,[j],i+1))\n",
    "        temp_total_pred_distribution.append(np.min(temp))\n",
    "\n",
    "act_site_distance_total.append(['P19120',np.max(temp_total_pred_distribution),np.median([i for i in temp_total_pred_distribution if i!=-1])])"
   ]
  },
  {
   "cell_type": "code",
   "execution_count": 805,
   "metadata": {},
   "outputs": [],
   "source": [
    "temp=variants_statistic(prediction,P19120_map,P19120_WT_sequence)\n",
    "SBI_statistic_matrix+=temp[0]\n",
    "NO_SBI_statistic_matrix_under2+=temp[1]\n",
    "NO_SBI_statistic_matrix_over2+=temp[2]"
   ]
  },
  {
   "cell_type": "code",
   "execution_count": 806,
   "metadata": {},
   "outputs": [],
   "source": [
    "temp=variants_statistic_slice(prediction,P19120_map,P19120_WT_sequence,slice_variants)\n",
    "SBI_statistic_matrix_slice+=temp[0]\n",
    "NO_SBI_statistic_matrix_under2_slice+=temp[1]\n",
    "NO_SBI_statistic_matrix_over2_slice+=temp[2]"
   ]
  },
  {
   "cell_type": "markdown",
   "metadata": {},
   "source": [
    "#### P77836 Validation"
   ]
  },
  {
   "cell_type": "code",
   "execution_count": 807,
   "metadata": {},
   "outputs": [],
   "source": [
    "P77836_X,P77836_map=features_validation([P77836_GEMME,P77836_rosetta_ddg_norm, P77836_GEMME_mean, P77836_rosetta_ddg_mean, P77836_hydrophobicity_mut,P77836_GEMME_neigbor_scores,P77836_rosetta_neigbor_scores,P77836_wcn],P77836_WT_sequence)"
   ]
  },
  {
   "cell_type": "code",
   "execution_count": 808,
   "metadata": {},
   "outputs": [],
   "source": [
    "prediction=cat.predict(P77836_X)"
   ]
  },
  {
   "cell_type": "code",
   "execution_count": 809,
   "metadata": {},
   "outputs": [],
   "source": [
    "P77836_3mode_prediction,percentage=retrieve_residue_label_pred(prediction,P77836_map,P77836_WT_sequence,sbi_perc_thr)"
   ]
  },
  {
   "cell_type": "code",
   "execution_count": 810,
   "metadata": {},
   "outputs": [],
   "source": [
    "sbi_percentage.append([i for i in percentage[:,0] if i>0.0])"
   ]
  },
  {
   "cell_type": "code",
   "execution_count": 811,
   "metadata": {},
   "outputs": [
    {
     "name": "stdout",
     "output_type": "stream",
     "text": [
      " SBI variants: 1479 out of 8126 (18.20%) \n",
      " SBI residues: 60 out of 333 (18.02%) \n"
     ]
    }
   ],
   "source": [
    "count_SBI_perc_2x.append(print_percentage_prediction(prediction,P77836_3mode_prediction,P77836_WT_sequence,P77836_WT_seq_rose))"
   ]
  },
  {
   "cell_type": "code",
   "execution_count": 812,
   "metadata": {},
   "outputs": [
    {
     "name": "stdout",
     "output_type": "stream",
     "text": [
      "10.A, 11.A, 35.A, 37.A, 39.A, 40.A, 43.A, 50.A, 65.A, 66.A, 80.A, 81.A, 82.A, 97.A, 108.A, 110.A, 111.A, 112.A, 115.A, 117.A, 118.A, 119.A, 120.A, 122.A, 123.A, 132.A, 147.A, 152.A, 153.A, 159.A, 161.A, 162.A, 165.A, 167.A, 168.A, 169.A, 171.A, 173.A, 174.A, 183.A, 187.A, 188.A, 199.A, 201.A, 203.A, 207.A, 237.A, 239.A, 242.A, 246.A, 249.A, 252.A, 277.A, 303.A, 308.A, 332.A, 350.A, 364.A, 375.A, 379.A, "
     ]
    }
   ],
   "source": [
    "for i in range(len(P77836_3mode_prediction)):\n",
    "    if (P77836_3mode_prediction[i]==1):\n",
    "        print(i+1,'.A, ',sep='',end='')"
   ]
  },
  {
   "cell_type": "code",
   "execution_count": 813,
   "metadata": {},
   "outputs": [
    {
     "name": "stdout",
     "output_type": "stream",
     "text": [
      "1010.B, 1011.B, 1035.B, 1037.B, 1039.B, 1040.B, 1043.B, 1050.B, 1065.B, 1066.B, 1080.B, 1081.B, 1082.B, 1097.B, 1108.B, 1110.B, 1111.B, 1112.B, 1115.B, 1117.B, 1118.B, 1119.B, 1120.B, 1122.B, 1123.B, 1132.B, 1147.B, 1152.B, 1153.B, 1159.B, 1161.B, 1162.B, 1165.B, 1167.B, 1168.B, 1169.B, 1171.B, 1173.B, 1174.B, 1183.B, 1187.B, 1188.B, 1199.B, 1201.B, 1203.B, 1207.B, 1237.B, 1239.B, 1242.B, 1246.B, 1249.B, 1252.B, 1277.B, 1303.B, 1308.B, 1332.B, 1350.B, 1364.B, 1375.B, 1379.B, "
     ]
    }
   ],
   "source": [
    "for i in range(len(P77836_3mode_prediction)):\n",
    "    if (P77836_3mode_prediction[i]==1):\n",
    "        print(i+1+1000,'.B, ',sep='',end='')"
   ]
  },
  {
   "cell_type": "code",
   "execution_count": 814,
   "metadata": {},
   "outputs": [
    {
     "name": "stdout",
     "output_type": "stream",
     "text": [
      "1161.B, 1082.B, 1168.B, 1183.B, 1187.B, "
     ]
    }
   ],
   "source": [
    "for i in range(len(P77836_db_positions)):\n",
    "    print(P77836_db_positions[i]+1000,\".B, \",sep=\"\",end=\"\")"
   ]
  },
  {
   "cell_type": "code",
   "execution_count": 815,
   "metadata": {},
   "outputs": [],
   "source": [
    "count_SBI_model7[0]+= count_positive_SBI(P77836_3mode_prediction,percentage[:,0],P77836_db_positions)[0]\n",
    "count_SBI_model7[1]+= count_positive_SBI(P77836_3mode_prediction,percentage[:,0],P77836_db_positions)[1]\n",
    "count_SBI_model7[2]+= count_positive_SBI(P77836_3mode_prediction,percentage[:,0],P77836_db_positions)[2]"
   ]
  },
  {
   "cell_type": "code",
   "execution_count": 816,
   "metadata": {},
   "outputs": [
    {
     "name": "stdout",
     "output_type": "stream",
     "text": [
      "([81, 160, 167, 182, 186], []) [161, 82, 168, 183, 187]\n"
     ]
    }
   ],
   "source": [
    "print(index_positive_SBI(P77836_3mode_prediction,percentage[:,0],P77836_db_positions),P77836_db_positions)"
   ]
  },
  {
   "cell_type": "code",
   "execution_count": 817,
   "metadata": {},
   "outputs": [],
   "source": [
    "for i,n in enumerate(P77836_3mode_prediction):\n",
    "    if n ==1:\n",
    "        proline_analysis.append([variants_extract(prediction,P77836_map,i)[int(alphabetAA_L_D['P'])-1],P77836_rosetta_ddg[i,int(alphabetAA_L_D['P'])-1],P77836_rosetta_ddg_mean[i],P77836_GEMME_mean[i],P77836_wcn[i]])"
   ]
  },
  {
   "cell_type": "code",
   "execution_count": 818,
   "metadata": {
    "tags": []
   },
   "outputs": [],
   "source": [
    "count_total_variant+=np.array(print_numbers_classification(prediction,P77836_3mode_prediction)[0])\n",
    "count_total_residues+=np.array(print_numbers_classification(prediction,P77836_3mode_prediction)[1])"
   ]
  },
  {
   "cell_type": "code",
   "execution_count": 819,
   "metadata": {},
   "outputs": [],
   "source": [
    "count_catalytic_residues+=np.array(print_catalytic_classification(P77836_3mode_prediction,P77836_db_positions))"
   ]
  },
  {
   "cell_type": "code",
   "execution_count": 820,
   "metadata": {},
   "outputs": [],
   "source": [
    "count_MCSA_matched_over_threshold+=len(index_SBI_db(P77836_3mode_prediction,P77836_db_positions))"
   ]
  },
  {
   "cell_type": "code",
   "execution_count": 821,
   "metadata": {},
   "outputs": [],
   "source": [
    "for i in 0,1:\n",
    "    count_total_SBI_predicted[i]+=print_numbers_prediction(prediction,P77836_3mode_prediction,P77836_WT_sequence,P77836_WT_seq_rose)[i]"
   ]
  },
  {
   "cell_type": "code",
   "execution_count": 822,
   "metadata": {},
   "outputs": [],
   "source": [
    "asa_SBI_data.append(asa_SBI(P77836_3mode_prediction,P77836_rsa))"
   ]
  },
  {
   "cell_type": "code",
   "execution_count": 823,
   "metadata": {},
   "outputs": [],
   "source": [
    "ss_SBI_data.append(asa_SBI(P77836_3mode_prediction,P77836_ss))"
   ]
  },
  {
   "cell_type": "code",
   "execution_count": 824,
   "metadata": {},
   "outputs": [],
   "source": [
    "AA_SBI_data.append(asa_SBI(P77836_3mode_prediction,P77836_WT_sequence))"
   ]
  },
  {
   "cell_type": "code",
   "execution_count": 825,
   "metadata": {},
   "outputs": [],
   "source": [
    "P77836_blue_pred_distribution=[]\n",
    "for i,n in enumerate(P77836_3mode_prediction):\n",
    "    if n==1.0:\n",
    "        temp=[]\n",
    "        for j in P77836_db_positions:\n",
    "            temp.append(AS_CA_distance(P77836_Ca_coord,[j],i+1))\n",
    "        P77836_blue_pred_distribution.append(np.min(temp))\n",
    "        act_site_distance_SBI.append(np.min(temp))"
   ]
  },
  {
   "cell_type": "code",
   "execution_count": 826,
   "metadata": {},
   "outputs": [],
   "source": [
    "temp_total_pred_distribution=[]\n",
    "for i,n in enumerate(P77836_3mode_prediction):\n",
    "        temp=[]\n",
    "        for j in P77836_db_positions:\n",
    "            temp.append(AS_CA_distance(P77836_Ca_coord,[j],i+1))\n",
    "        temp_total_pred_distribution.append(np.min(temp))\n",
    "\n",
    "act_site_distance_total.append(['P77836',np.max(temp_total_pred_distribution),np.median([i for i in temp_total_pred_distribution if i!=-1])])"
   ]
  },
  {
   "cell_type": "code",
   "execution_count": 827,
   "metadata": {},
   "outputs": [],
   "source": [
    "temp=variants_statistic_slice(prediction,P77836_map,P77836_WT_sequence,slice_variants)\n",
    "SBI_statistic_matrix_slice+=temp[0]\n",
    "NO_SBI_statistic_matrix_under2_slice+=temp[1]\n",
    "NO_SBI_statistic_matrix_over2_slice+=temp[2]"
   ]
  },
  {
   "cell_type": "code",
   "execution_count": 828,
   "metadata": {},
   "outputs": [],
   "source": [
    "temp=variants_statistic_slice(prediction,P77836_map,P77836_WT_sequence,slice_variants)\n",
    "SBI_statistic_matrix_slice+=temp[0]\n",
    "NO_SBI_statistic_matrix_under2_slice+=temp[1]\n",
    "NO_SBI_statistic_matrix_over2_slice+=temp[2]"
   ]
  },
  {
   "cell_type": "markdown",
   "metadata": {},
   "source": [
    "#### Q16854 Validation"
   ]
  },
  {
   "cell_type": "code",
   "execution_count": 360,
   "metadata": {},
   "outputs": [],
   "source": [
    "Q16854_X,Q16854_map=features_validation([Q16854_GEMME,Q16854_rosetta_ddg_norm, Q16854_GEMME_mean, Q16854_rosetta_ddg_mean, Q16854_hydrophobicity_mut,Q16854_GEMME_neigbor_scores,Q16854_rosetta_neigbor_scores,Q16854_wcn],Q16854_WT_sequence)"
   ]
  },
  {
   "cell_type": "code",
   "execution_count": 361,
   "metadata": {},
   "outputs": [],
   "source": [
    "prediction=cat.predict(Q16854_X)"
   ]
  },
  {
   "cell_type": "code",
   "execution_count": 362,
   "metadata": {},
   "outputs": [],
   "source": [
    "Q16854_3mode_prediction,percentage=retrieve_residue_label_pred(prediction,Q16854_map,Q16854_WT_sequence,sbi_perc_thr)"
   ]
  },
  {
   "cell_type": "code",
   "execution_count": 363,
   "metadata": {},
   "outputs": [],
   "source": [
    "sbi_percentage.append([i for i in percentage[:,0] if i>0.0])"
   ]
  },
  {
   "cell_type": "code",
   "execution_count": 365,
   "metadata": {},
   "outputs": [],
   "source": [
    "print_chimera_x_attribute_file(Q16854_3mode_prediction,Q16854_3mode_prediction,\"./outputs/Q16854_monomer_chimera_attr.defattr\")"
   ]
  },
  {
   "cell_type": "code",
   "execution_count": 833,
   "metadata": {},
   "outputs": [
    {
     "name": "stdout",
     "output_type": "stream",
     "text": [
      " SBI variants: 621 out of 4351 (14.27%) \n",
      " SBI residues: 22 out of 229 (9.61%) \n"
     ]
    }
   ],
   "source": [
    "count_SBI_perc_2x.append(print_percentage_prediction(prediction,Q16854_3mode_prediction,Q16854_WT_sequence,Q16854_WT_seq_rose))"
   ]
  },
  {
   "cell_type": "code",
   "execution_count": 834,
   "metadata": {},
   "outputs": [
    {
     "name": "stdout",
     "output_type": "stream",
     "text": [
      "45.A, 51.A, 52.A, 53.A, 71.A, 79.A, 102.A, 103.A, 105.A, 111.A, 112.A, 117.A, 118.A, 138.A, 141.A, 142.A, 196.A, 206.A, 208.A, 211.A, 223.A, 227.A, "
     ]
    }
   ],
   "source": [
    "for i in range(len(Q16854_3mode_prediction)):\n",
    "    if (Q16854_3mode_prediction[i]==1):\n",
    "        print(i+1,'.A, ',sep='',end='')"
   ]
  },
  {
   "cell_type": "code",
   "execution_count": 835,
   "metadata": {},
   "outputs": [],
   "source": [
    "count_SBI_model7[0]+= count_positive_SBI(Q16854_3mode_prediction,percentage[:,0],Q16854_db_positions)[0]\n",
    "count_SBI_model7[1]+= count_positive_SBI(Q16854_3mode_prediction,percentage[:,0],Q16854_db_positions)[1]\n",
    "count_SBI_model7[2]+= count_positive_SBI(Q16854_3mode_prediction,percentage[:,0],Q16854_db_positions)[2]"
   ]
  },
  {
   "cell_type": "code",
   "execution_count": 836,
   "metadata": {},
   "outputs": [
    {
     "name": "stdout",
     "output_type": "stream",
     "text": [
      "([141], [69]) [70, 142]\n"
     ]
    }
   ],
   "source": [
    "print(index_positive_SBI(Q16854_3mode_prediction,percentage[:,0],Q16854_db_positions),Q16854_db_positions)"
   ]
  },
  {
   "cell_type": "code",
   "execution_count": 837,
   "metadata": {},
   "outputs": [],
   "source": [
    "for i,n in enumerate(Q16854_3mode_prediction):\n",
    "    if n ==1:\n",
    "        proline_analysis.append([variants_extract(prediction,Q16854_map,i)[int(alphabetAA_L_D['P'])-1],Q16854_rosetta_ddg[i,int(alphabetAA_L_D['P'])-1],Q16854_rosetta_ddg_mean[i],Q16854_GEMME_mean[i],Q16854_wcn[i]])"
   ]
  },
  {
   "cell_type": "code",
   "execution_count": 838,
   "metadata": {
    "tags": []
   },
   "outputs": [],
   "source": [
    "count_total_variant+=np.array(print_numbers_classification(prediction,Q16854_3mode_prediction)[0])\n",
    "count_total_residues+=np.array(print_numbers_classification(prediction,Q16854_3mode_prediction)[1])"
   ]
  },
  {
   "cell_type": "code",
   "execution_count": 839,
   "metadata": {},
   "outputs": [],
   "source": [
    "count_catalytic_residues+=np.array(print_catalytic_classification(Q16854_3mode_prediction,Q16854_db_positions))"
   ]
  },
  {
   "cell_type": "code",
   "execution_count": 840,
   "metadata": {},
   "outputs": [],
   "source": [
    "count_MCSA_matched_over_threshold+=len(index_SBI_db(Q16854_3mode_prediction,Q16854_db_positions))"
   ]
  },
  {
   "cell_type": "code",
   "execution_count": 841,
   "metadata": {},
   "outputs": [],
   "source": [
    "for i in 0,1:\n",
    "    count_total_SBI_predicted[i]+=print_numbers_prediction(prediction,Q16854_3mode_prediction,Q16854_WT_sequence,Q16854_WT_seq_rose)[i]"
   ]
  },
  {
   "cell_type": "code",
   "execution_count": 842,
   "metadata": {},
   "outputs": [],
   "source": [
    "asa_SBI_data.append(asa_SBI(Q16854_3mode_prediction,Q16854_rsa))"
   ]
  },
  {
   "cell_type": "code",
   "execution_count": 843,
   "metadata": {},
   "outputs": [],
   "source": [
    "ss_SBI_data.append(asa_SBI(Q16854_3mode_prediction,Q16854_ss))"
   ]
  },
  {
   "cell_type": "code",
   "execution_count": 844,
   "metadata": {},
   "outputs": [],
   "source": [
    "AA_SBI_data.append(asa_SBI(Q16854_3mode_prediction,Q16854_WT_sequence))"
   ]
  },
  {
   "cell_type": "code",
   "execution_count": 845,
   "metadata": {},
   "outputs": [],
   "source": [
    "Q16854_blue_pred_distribution=[]\n",
    "for i,n in enumerate(Q16854_3mode_prediction):\n",
    "    if n==1.0:\n",
    "        temp=[]\n",
    "        for j in Q16854_db_positions:\n",
    "            temp.append(AS_CA_distance(Q16854_Ca_coord,[j],i+1))\n",
    "        Q16854_blue_pred_distribution.append(np.min(temp))\n",
    "        act_site_distance_SBI.append(np.min(temp))"
   ]
  },
  {
   "cell_type": "code",
   "execution_count": 846,
   "metadata": {},
   "outputs": [],
   "source": [
    "temp_total_pred_distribution=[]\n",
    "for i,n in enumerate(Q16854_3mode_prediction):\n",
    "        temp=[]\n",
    "        for j in Q16854_db_positions:\n",
    "            temp.append(AS_CA_distance(Q16854_Ca_coord,[j],i+1))\n",
    "        temp_total_pred_distribution.append(np.min(temp))\n",
    "\n",
    "act_site_distance_total.append(['Q16854',np.max(temp_total_pred_distribution),np.median([i for i in temp_total_pred_distribution if i!=-1])])"
   ]
  },
  {
   "cell_type": "code",
   "execution_count": 847,
   "metadata": {},
   "outputs": [],
   "source": [
    "temp=variants_statistic(prediction,Q16854_map,Q16854_WT_sequence)\n",
    "SBI_statistic_matrix+=temp[0]\n",
    "NO_SBI_statistic_matrix_under2+=temp[1]\n",
    "NO_SBI_statistic_matrix_over2+=temp[2]"
   ]
  },
  {
   "cell_type": "code",
   "execution_count": 848,
   "metadata": {},
   "outputs": [],
   "source": [
    "temp=variants_statistic_slice(prediction,Q16854_map,Q16854_WT_sequence,slice_variants)\n",
    "SBI_statistic_matrix_slice+=temp[0]\n",
    "NO_SBI_statistic_matrix_under2_slice+=temp[1]\n",
    "NO_SBI_statistic_matrix_over2_slice+=temp[2]"
   ]
  },
  {
   "cell_type": "markdown",
   "metadata": {},
   "source": [
    "#### Q53547 Validation"
   ]
  },
  {
   "cell_type": "code",
   "execution_count": 849,
   "metadata": {},
   "outputs": [],
   "source": [
    "Q53547_X,Q53547_map=features_validation([Q53547_GEMME,Q53547_rosetta_ddg_norm, Q53547_GEMME_mean, Q53547_rosetta_ddg_mean, Q53547_hydrophobicity_mut,Q53547_GEMME_neigbor_scores,Q53547_rosetta_neigbor_scores,Q53547_wcn],Q53547_WT_sequence)"
   ]
  },
  {
   "cell_type": "code",
   "execution_count": 850,
   "metadata": {},
   "outputs": [],
   "source": [
    "prediction=cat.predict(Q53547_X)"
   ]
  },
  {
   "cell_type": "code",
   "execution_count": 851,
   "metadata": {},
   "outputs": [],
   "source": [
    "Q53547_3mode_prediction,percentage=retrieve_residue_label_pred(prediction,Q53547_map,Q53547_WT_sequence,sbi_perc_thr)"
   ]
  },
  {
   "cell_type": "code",
   "execution_count": 852,
   "metadata": {},
   "outputs": [],
   "source": [
    "sbi_percentage.append([i for i in percentage[:,0] if i>0.0])"
   ]
  },
  {
   "cell_type": "code",
   "execution_count": 853,
   "metadata": {},
   "outputs": [
    {
     "name": "stdout",
     "output_type": "stream",
     "text": [
      " SBI variants: 547 out of 4142 (13.21%) \n",
      " SBI residues: 16 out of 218 (7.34%) \n"
     ]
    }
   ],
   "source": [
    "count_SBI_perc_2x.append(print_percentage_prediction(prediction,Q53547_3mode_prediction,Q53547_WT_sequence,Q53547_WT_seq_rose))"
   ]
  },
  {
   "cell_type": "code",
   "execution_count": 854,
   "metadata": {},
   "outputs": [],
   "source": [
    "count_SBI_model7[0]+= count_positive_SBI(Q53547_3mode_prediction,percentage[:,0],Q53547_db_positions)[0]\n",
    "count_SBI_model7[1]+= count_positive_SBI(Q53547_3mode_prediction,percentage[:,0],Q53547_db_positions)[1]\n",
    "count_SBI_model7[2]+= count_positive_SBI(Q53547_3mode_prediction,percentage[:,0],Q53547_db_positions)[2]"
   ]
  },
  {
   "cell_type": "code",
   "execution_count": 855,
   "metadata": {},
   "outputs": [
    {
     "name": "stdout",
     "output_type": "stream",
     "text": [
      "([113, 114], []) [114, 168, 199, 115, 23]\n"
     ]
    }
   ],
   "source": [
    "print(index_positive_SBI(Q53547_3mode_prediction,percentage[:,0],Q53547_db_positions),Q53547_db_positions)"
   ]
  },
  {
   "cell_type": "code",
   "execution_count": 856,
   "metadata": {},
   "outputs": [],
   "source": [
    "for i,n in enumerate(Q53547_3mode_prediction):\n",
    "    if n ==1:\n",
    "        proline_analysis.append([variants_extract(prediction,Q53547_map,i)[int(alphabetAA_L_D['P'])-1],Q53547_rosetta_ddg[i,int(alphabetAA_L_D['P'])-1],Q53547_rosetta_ddg_mean[i],Q53547_GEMME_mean[i],Q53547_wcn[i]])"
   ]
  },
  {
   "cell_type": "code",
   "execution_count": 857,
   "metadata": {},
   "outputs": [],
   "source": [
    "count_total_variant+=np.array(print_numbers_classification(prediction,Q53547_3mode_prediction)[0])\n",
    "count_total_residues+=np.array(print_numbers_classification(prediction,Q53547_3mode_prediction)[1])"
   ]
  },
  {
   "cell_type": "code",
   "execution_count": 858,
   "metadata": {},
   "outputs": [],
   "source": [
    "count_catalytic_residues+=np.array(print_catalytic_classification(Q53547_3mode_prediction,Q53547_db_positions))"
   ]
  },
  {
   "cell_type": "code",
   "execution_count": 859,
   "metadata": {},
   "outputs": [],
   "source": [
    "count_MCSA_matched_over_threshold+=len(index_SBI_db(Q53547_3mode_prediction,Q53547_db_positions))"
   ]
  },
  {
   "cell_type": "code",
   "execution_count": 860,
   "metadata": {},
   "outputs": [],
   "source": [
    "for i in 0,1:\n",
    "    count_total_SBI_predicted[i]+=print_numbers_prediction(prediction,Q53547_3mode_prediction,Q53547_WT_sequence,Q53547_WT_seq_rose)[i]"
   ]
  },
  {
   "cell_type": "code",
   "execution_count": 861,
   "metadata": {},
   "outputs": [],
   "source": [
    "asa_SBI_data.append(asa_SBI(Q53547_3mode_prediction,Q53547_rsa))"
   ]
  },
  {
   "cell_type": "code",
   "execution_count": 862,
   "metadata": {},
   "outputs": [],
   "source": [
    "ss_SBI_data.append(asa_SBI(Q53547_3mode_prediction,Q53547_ss))"
   ]
  },
  {
   "cell_type": "code",
   "execution_count": 863,
   "metadata": {},
   "outputs": [],
   "source": [
    "AA_SBI_data.append(asa_SBI(Q53547_3mode_prediction,Q53547_WT_sequence))"
   ]
  },
  {
   "cell_type": "code",
   "execution_count": 864,
   "metadata": {},
   "outputs": [],
   "source": [
    "Q53547_blue_pred_distribution=[]\n",
    "for i,n in enumerate(Q53547_3mode_prediction):\n",
    "    if n==1.0:\n",
    "        temp=[]\n",
    "        for j in Q53547_db_positions:\n",
    "            temp.append(AS_CA_distance(Q53547_Ca_coord,[j],i+1))\n",
    "        Q53547_blue_pred_distribution.append(np.min(temp))\n",
    "        act_site_distance_SBI.append(np.min(temp))"
   ]
  },
  {
   "cell_type": "code",
   "execution_count": 865,
   "metadata": {},
   "outputs": [],
   "source": [
    "temp_total_pred_distribution=[]\n",
    "for i,n in enumerate(Q53547_3mode_prediction):\n",
    "        temp=[]\n",
    "        for j in Q53547_db_positions:\n",
    "            temp.append(AS_CA_distance(Q53547_Ca_coord,[j],i+1))\n",
    "        temp_total_pred_distribution.append(np.min(temp))\n",
    "\n",
    "act_site_distance_total.append(['Q53547',np.max(temp_total_pred_distribution),np.median([i for i in temp_total_pred_distribution if i!=-1])])"
   ]
  },
  {
   "cell_type": "code",
   "execution_count": 866,
   "metadata": {},
   "outputs": [],
   "source": [
    "temp=variants_statistic(prediction,Q53547_map,Q53547_WT_sequence)\n",
    "SBI_statistic_matrix+=temp[0]\n",
    "NO_SBI_statistic_matrix_under2+=temp[1]\n",
    "NO_SBI_statistic_matrix_over2+=temp[2]"
   ]
  },
  {
   "cell_type": "code",
   "execution_count": 867,
   "metadata": {},
   "outputs": [],
   "source": [
    "temp=variants_statistic_slice(prediction,Q53547_map,Q53547_WT_sequence,slice_variants)\n",
    "SBI_statistic_matrix_slice+=temp[0]\n",
    "NO_SBI_statistic_matrix_under2_slice+=temp[1]\n",
    "NO_SBI_statistic_matrix_over2_slice+=temp[2]"
   ]
  },
  {
   "cell_type": "markdown",
   "metadata": {},
   "source": [
    "#### Q55012 Validation"
   ]
  },
  {
   "cell_type": "code",
   "execution_count": 868,
   "metadata": {},
   "outputs": [],
   "source": [
    "Q55012_X,Q55012_map=features_validation([Q55012_GEMME,Q55012_rosetta_ddg_norm, Q55012_GEMME_mean, Q55012_rosetta_ddg_mean, Q55012_hydrophobicity_mut,Q55012_GEMME_neigbor_scores,Q55012_rosetta_neigbor_scores,Q55012_wcn],Q55012_WT_sequence)"
   ]
  },
  {
   "cell_type": "code",
   "execution_count": 869,
   "metadata": {},
   "outputs": [],
   "source": [
    "prediction=cat.predict(Q55012_X)"
   ]
  },
  {
   "cell_type": "code",
   "execution_count": 870,
   "metadata": {},
   "outputs": [],
   "source": [
    "Q55012_3mode_prediction,percentage=retrieve_residue_label_pred(prediction,Q55012_map,Q55012_WT_sequence,sbi_perc_thr)"
   ]
  },
  {
   "cell_type": "code",
   "execution_count": 871,
   "metadata": {},
   "outputs": [],
   "source": [
    "sbi_percentage.append([i for i in percentage[:,0] if i>0.0])"
   ]
  },
  {
   "cell_type": "code",
   "execution_count": 872,
   "metadata": {},
   "outputs": [
    {
     "name": "stdout",
     "output_type": "stream",
     "text": [
      " SBI variants: 640 out of 5774 (11.08%) \n",
      " SBI residues: 16 out of 304 (5.26%) \n"
     ]
    }
   ],
   "source": [
    "count_SBI_perc_2x.append(print_percentage_prediction(prediction,Q55012_3mode_prediction,Q55012_WT_sequence,Q55012_WT_seq_rose))"
   ]
  },
  {
   "cell_type": "code",
   "execution_count": 873,
   "metadata": {},
   "outputs": [],
   "source": [
    "count_SBI_model7[0]+= count_positive_SBI(Q55012_3mode_prediction,percentage[:,0],Q55012_db_positions)[0]\n",
    "count_SBI_model7[1]+= count_positive_SBI(Q55012_3mode_prediction,percentage[:,0],Q55012_db_positions)[1]\n",
    "count_SBI_model7[2]+= count_positive_SBI(Q55012_3mode_prediction,percentage[:,0],Q55012_db_positions)[2]"
   ]
  },
  {
   "cell_type": "code",
   "execution_count": 874,
   "metadata": {},
   "outputs": [
    {
     "name": "stdout",
     "output_type": "stream",
     "text": [
      "([79, 172, 218, 222, 226], [156]) [223, 227, 219, 308, 309, 76, 77, 230, 157, 173, 226, 84, 80]\n"
     ]
    }
   ],
   "source": [
    "print(index_positive_SBI(Q55012_3mode_prediction,percentage[:,0],Q55012_db_positions),Q55012_db_positions)"
   ]
  },
  {
   "cell_type": "code",
   "execution_count": 875,
   "metadata": {},
   "outputs": [],
   "source": [
    "for i,n in enumerate(Q55012_3mode_prediction):\n",
    "    if n ==1:\n",
    "        proline_analysis.append([variants_extract(prediction,Q55012_map,i)[int(alphabetAA_L_D['P'])-1],Q55012_rosetta_ddg[i,int(alphabetAA_L_D['P'])-1],Q55012_rosetta_ddg_mean[i],Q55012_GEMME_mean[i],Q55012_wcn[i]])"
   ]
  },
  {
   "cell_type": "code",
   "execution_count": 876,
   "metadata": {},
   "outputs": [],
   "source": [
    "count_total_variant+=np.array(print_numbers_classification(prediction,Q55012_3mode_prediction)[0])\n",
    "count_total_residues+=np.array(print_numbers_classification(prediction,Q55012_3mode_prediction)[1])"
   ]
  },
  {
   "cell_type": "code",
   "execution_count": 877,
   "metadata": {},
   "outputs": [],
   "source": [
    "count_catalytic_residues+=np.array(print_catalytic_classification(Q55012_3mode_prediction,Q55012_db_positions))"
   ]
  },
  {
   "cell_type": "code",
   "execution_count": 878,
   "metadata": {},
   "outputs": [],
   "source": [
    "count_MCSA_matched_over_threshold+=len(index_SBI_db(Q55012_3mode_prediction,Q55012_db_positions))"
   ]
  },
  {
   "cell_type": "code",
   "execution_count": 879,
   "metadata": {},
   "outputs": [],
   "source": [
    "for i in 0,1:\n",
    "    count_total_SBI_predicted[i]+=print_numbers_prediction(prediction,Q55012_3mode_prediction,Q55012_WT_sequence,Q55012_WT_seq_rose)[i]"
   ]
  },
  {
   "cell_type": "code",
   "execution_count": 880,
   "metadata": {},
   "outputs": [],
   "source": [
    "asa_SBI_data.append(asa_SBI(Q55012_3mode_prediction,Q55012_rsa))"
   ]
  },
  {
   "cell_type": "code",
   "execution_count": 881,
   "metadata": {},
   "outputs": [],
   "source": [
    "ss_SBI_data.append(asa_SBI(Q55012_3mode_prediction,Q55012_ss))"
   ]
  },
  {
   "cell_type": "code",
   "execution_count": 882,
   "metadata": {},
   "outputs": [],
   "source": [
    "AA_SBI_data.append(asa_SBI(Q55012_3mode_prediction,Q55012_WT_sequence))"
   ]
  },
  {
   "cell_type": "code",
   "execution_count": 883,
   "metadata": {},
   "outputs": [],
   "source": [
    "print_chimera_x_attribute_file(Q55012_3mode_prediction,percentage[:,0],'outputs/Q55012_SBI_chimera_2x_prediction.txt')"
   ]
  },
  {
   "cell_type": "code",
   "execution_count": 884,
   "metadata": {},
   "outputs": [],
   "source": [
    "Q55012_blue_pred_distribution=[]\n",
    "for i,n in enumerate(Q55012_3mode_prediction):\n",
    "    if n==1.0:\n",
    "        temp=[]\n",
    "        for j in Q55012_db_positions:\n",
    "            temp.append(AS_CA_distance(Q55012_Ca_coord,[j],i+1))\n",
    "        Q55012_blue_pred_distribution.append(np.min(temp))\n",
    "        act_site_distance_SBI.append(np.min(temp))"
   ]
  },
  {
   "cell_type": "code",
   "execution_count": 885,
   "metadata": {},
   "outputs": [],
   "source": [
    "temp_total_pred_distribution=[]\n",
    "for i,n in enumerate(Q55012_3mode_prediction):\n",
    "        temp=[]\n",
    "        for j in Q55012_db_positions:\n",
    "            temp.append(AS_CA_distance(Q55012_Ca_coord,[j],i+1))\n",
    "        temp_total_pred_distribution.append(np.min(temp))\n",
    "\n",
    "act_site_distance_total.append(['Q55012',np.max(temp_total_pred_distribution),np.median([i for i in temp_total_pred_distribution if i!=-1])])"
   ]
  },
  {
   "cell_type": "code",
   "execution_count": 886,
   "metadata": {},
   "outputs": [],
   "source": [
    "temp=variants_statistic(prediction,Q55012_map,Q55012_WT_sequence)\n",
    "SBI_statistic_matrix+=temp[0]\n",
    "NO_SBI_statistic_matrix_under2+=temp[1]\n",
    "NO_SBI_statistic_matrix_over2+=temp[2]"
   ]
  },
  {
   "cell_type": "code",
   "execution_count": 887,
   "metadata": {},
   "outputs": [],
   "source": [
    "temp=variants_statistic_slice(prediction,Q55012_map,Q55012_WT_sequence,slice_variants)\n",
    "SBI_statistic_matrix_slice+=temp[0]\n",
    "NO_SBI_statistic_matrix_under2_slice+=temp[1]\n",
    "NO_SBI_statistic_matrix_over2_slice+=temp[2]"
   ]
  },
  {
   "cell_type": "markdown",
   "metadata": {},
   "source": [
    "#### Q8VQN0 Validation"
   ]
  },
  {
   "cell_type": "code",
   "execution_count": 888,
   "metadata": {},
   "outputs": [],
   "source": [
    "Q8VQN0_X,Q8VQN0_map=features_validation([Q8VQN0_GEMME,Q8VQN0_rosetta_ddg_norm, Q8VQN0_GEMME_mean, Q8VQN0_rosetta_ddg_mean, Q8VQN0_hydrophobicity_mut,Q8VQN0_GEMME_neigbor_scores,Q8VQN0_rosetta_neigbor_scores,Q8VQN0_wcn],Q8VQN0_WT_sequence)"
   ]
  },
  {
   "cell_type": "code",
   "execution_count": 889,
   "metadata": {},
   "outputs": [],
   "source": [
    "prediction=cat.predict(Q8VQN0_X)"
   ]
  },
  {
   "cell_type": "code",
   "execution_count": 890,
   "metadata": {},
   "outputs": [],
   "source": [
    "Q8VQN0_3mode_prediction,percentage=retrieve_residue_label_pred(prediction,Q8VQN0_map,Q8VQN0_WT_sequence,sbi_perc_thr)"
   ]
  },
  {
   "cell_type": "code",
   "execution_count": 891,
   "metadata": {},
   "outputs": [],
   "source": [
    "sbi_percentage.append([i for i in percentage[:,0] if i>0.0])"
   ]
  },
  {
   "cell_type": "code",
   "execution_count": 892,
   "metadata": {},
   "outputs": [
    {
     "name": "stdout",
     "output_type": "stream",
     "text": [
      " SBI variants: 439 out of 2755 (15.93%) \n",
      " SBI residues: 16 out of 145 (11.03%) \n"
     ]
    }
   ],
   "source": [
    "count_SBI_perc_2x.append(print_percentage_prediction(prediction,Q8VQN0_3mode_prediction,Q8VQN0_WT_sequence,Q8VQN0_WT_seq_rose))"
   ]
  },
  {
   "cell_type": "code",
   "execution_count": 893,
   "metadata": {},
   "outputs": [],
   "source": [
    "count_SBI_model7[0]+= count_positive_SBI(Q8VQN0_3mode_prediction,percentage[:,0],Q8VQN0_db_positions)[0]\n",
    "count_SBI_model7[1]+= count_positive_SBI(Q8VQN0_3mode_prediction,percentage[:,0],Q8VQN0_db_positions)[1]\n",
    "count_SBI_model7[2]+= count_positive_SBI(Q8VQN0_3mode_prediction,percentage[:,0],Q8VQN0_db_positions)[2]"
   ]
  },
  {
   "cell_type": "code",
   "execution_count": 894,
   "metadata": {},
   "outputs": [
    {
     "name": "stdout",
     "output_type": "stream",
     "text": [
      "([11, 47, 64, 140], [90]) [48, 141, 12, 65, 91]\n"
     ]
    }
   ],
   "source": [
    "print(index_positive_SBI(Q8VQN0_3mode_prediction,percentage[:,0],Q8VQN0_db_positions),Q8VQN0_db_positions)"
   ]
  },
  {
   "cell_type": "code",
   "execution_count": 895,
   "metadata": {},
   "outputs": [],
   "source": [
    "for i,n in enumerate(Q8VQN0_3mode_prediction):\n",
    "    if n ==1:\n",
    "        proline_analysis.append([variants_extract(prediction,Q8VQN0_map,i)[int(alphabetAA_L_D['P'])-1],Q8VQN0_rosetta_ddg[i,int(alphabetAA_L_D['P'])-1],Q8VQN0_rosetta_ddg_mean[i],Q8VQN0_GEMME_mean[i],Q8VQN0_wcn[i]])"
   ]
  },
  {
   "cell_type": "code",
   "execution_count": 896,
   "metadata": {},
   "outputs": [],
   "source": [
    "count_total_variant+=np.array(print_numbers_classification(prediction,Q8VQN0_3mode_prediction)[0])\n",
    "count_total_residues+=np.array(print_numbers_classification(prediction,Q8VQN0_3mode_prediction)[1])"
   ]
  },
  {
   "cell_type": "code",
   "execution_count": 897,
   "metadata": {},
   "outputs": [],
   "source": [
    "count_catalytic_residues+=np.array(print_catalytic_classification(Q8VQN0_3mode_prediction,Q8VQN0_db_positions))"
   ]
  },
  {
   "cell_type": "code",
   "execution_count": 898,
   "metadata": {},
   "outputs": [],
   "source": [
    "count_MCSA_matched_over_threshold+=len(index_SBI_db(Q8VQN0_3mode_prediction,Q8VQN0_db_positions))"
   ]
  },
  {
   "cell_type": "code",
   "execution_count": 899,
   "metadata": {},
   "outputs": [],
   "source": [
    "for i in 0,1:\n",
    "    count_total_SBI_predicted[i]+=print_numbers_prediction(prediction,Q8VQN0_3mode_prediction,Q8VQN0_WT_sequence,Q8VQN0_WT_seq_rose)[i]"
   ]
  },
  {
   "cell_type": "code",
   "execution_count": 900,
   "metadata": {},
   "outputs": [],
   "source": [
    "asa_SBI_data.append(asa_SBI(Q8VQN0_3mode_prediction,Q8VQN0_rsa))"
   ]
  },
  {
   "cell_type": "code",
   "execution_count": 901,
   "metadata": {},
   "outputs": [],
   "source": [
    "ss_SBI_data.append(asa_SBI(Q8VQN0_3mode_prediction,Q8VQN0_ss))"
   ]
  },
  {
   "cell_type": "code",
   "execution_count": 902,
   "metadata": {},
   "outputs": [],
   "source": [
    "AA_SBI_data.append(asa_SBI(Q8VQN0_3mode_prediction,Q8VQN0_WT_sequence))"
   ]
  },
  {
   "cell_type": "code",
   "execution_count": 903,
   "metadata": {},
   "outputs": [],
   "source": [
    "Q8VQN0_blue_pred_distribution=[]\n",
    "for i,n in enumerate(Q8VQN0_3mode_prediction):\n",
    "    if n==1.0:\n",
    "        temp=[]\n",
    "        for j in Q8VQN0_db_positions:\n",
    "            temp.append(AS_CA_distance(Q8VQN0_Ca_coord,[j],i+1))\n",
    "        Q8VQN0_blue_pred_distribution.append(np.min(temp))\n",
    "        act_site_distance_SBI.append(np.min(temp))"
   ]
  },
  {
   "cell_type": "code",
   "execution_count": 904,
   "metadata": {},
   "outputs": [],
   "source": [
    "temp_total_pred_distribution=[]\n",
    "for i,n in enumerate(Q8VQN0_3mode_prediction):\n",
    "        temp=[]\n",
    "        for j in Q8VQN0_db_positions:\n",
    "            temp.append(AS_CA_distance(Q8VQN0_Ca_coord,[j],i+1))\n",
    "        temp_total_pred_distribution.append(np.min(temp))\n",
    "\n",
    "act_site_distance_total.append(['Q8VQN0',np.max(temp_total_pred_distribution),np.median([i for i in temp_total_pred_distribution if i!=-1])])"
   ]
  },
  {
   "cell_type": "code",
   "execution_count": 905,
   "metadata": {},
   "outputs": [],
   "source": [
    "temp=variants_statistic(prediction,Q8VQN0_map,Q8VQN0_WT_sequence)\n",
    "SBI_statistic_matrix+=temp[0]\n",
    "NO_SBI_statistic_matrix_under2+=temp[1]\n",
    "NO_SBI_statistic_matrix_over2+=temp[2]"
   ]
  },
  {
   "cell_type": "code",
   "execution_count": 906,
   "metadata": {},
   "outputs": [],
   "source": [
    "temp=variants_statistic_slice(prediction,Q8VQN0_map,Q8VQN0_WT_sequence,slice_variants)\n",
    "SBI_statistic_matrix_slice+=temp[0]\n",
    "NO_SBI_statistic_matrix_under2_slice+=temp[1]\n",
    "NO_SBI_statistic_matrix_over2_slice+=temp[2]"
   ]
  },
  {
   "cell_type": "markdown",
   "metadata": {},
   "source": [
    "# Results:"
   ]
  },
  {
   "cell_type": "code",
   "execution_count": 907,
   "metadata": {},
   "outputs": [
    {
     "name": "stdout",
     "output_type": "stream",
     "text": [
      "[37, 7, 59]\n"
     ]
    }
   ],
   "source": [
    "print(count_SBI_model7)"
   ]
  },
  {
   "cell_type": "code",
   "execution_count": 908,
   "metadata": {},
   "outputs": [],
   "source": [
    "count_SBI_perc_2x=np.array(count_SBI_perc_2x)"
   ]
  },
  {
   "cell_type": "code",
   "execution_count": 909,
   "metadata": {},
   "outputs": [
    {
     "name": "stdout",
     "output_type": "stream",
     "text": [
      "percentages - variants: 14.80,residues: 10.51\n"
     ]
    }
   ],
   "source": [
    "print(f'percentages - variants: {np.mean(count_SBI_perc_2x[:,0]):.2f},residues: {np.mean(count_SBI_perc_2x[:,1]):.2f}')"
   ]
  },
  {
   "cell_type": "code",
   "execution_count": 910,
   "metadata": {},
   "outputs": [
    {
     "data": {
      "text/plain": [
       "(array([16.92205197, 13.47769274, 15.08598228, 16.56920078, 14.48421053,\n",
       "        13.53571926, 18.20083682, 14.27258102, 13.20618059, 11.08417042,\n",
       "        15.93466425]),\n",
       " 14.797571876585534)"
      ]
     },
     "execution_count": 910,
     "metadata": {},
     "output_type": "execute_result"
    }
   ],
   "source": [
    "count_SBI_perc_2x[:,0],np.mean(count_SBI_perc_2x[:,0])"
   ]
  },
  {
   "cell_type": "code",
   "execution_count": 911,
   "metadata": {},
   "outputs": [
    {
     "data": {
      "text/plain": [
       "(array([12.97468354,  9.25266904,  9.9009901 , 13.33333333, 10.4       ,\n",
       "         8.48806366, 18.01801802,  9.6069869 ,  7.33944954,  5.26315789,\n",
       "        11.03448276]),\n",
       " 10.51016679895397)"
      ]
     },
     "execution_count": 911,
     "metadata": {},
     "output_type": "execute_result"
    }
   ],
   "source": [
    "count_SBI_perc_2x[:,1],np.mean(count_SBI_perc_2x[:,1])"
   ]
  },
  {
   "cell_type": "code",
   "execution_count": 912,
   "metadata": {},
   "outputs": [],
   "source": [
    "asa_SBI_data_v=asa_SBI_data[0]\n",
    "for i in range(1,11):\n",
    "    temp=asa_SBI_data[i]\n",
    "    asa_SBI_data_v=asa_SBI_data_v+temp"
   ]
  },
  {
   "cell_type": "code",
   "execution_count": 913,
   "metadata": {},
   "outputs": [],
   "source": [
    "ss_SBI_data_v=ss_SBI_data[0]\n",
    "for i in range(1,11):\n",
    "    temp=ss_SBI_data[i]\n",
    "    ss_SBI_data_v=ss_SBI_data_v+temp\n",
    "#asa_SBI_data_v=asa_SBI_data_v.reshape(-1)\n",
    "ss_SBI_count=[0,0,0]\n",
    "for item in ss_SBI_data_v:\n",
    "    ss_SBI_count[int(item)]+=1"
   ]
  },
  {
   "cell_type": "code",
   "execution_count": 914,
   "metadata": {},
   "outputs": [],
   "source": [
    "AA_SBI_data_v=AA_SBI_data[0]\n",
    "for i in range(1,11):\n",
    "    temp=AA_SBI_data[i]\n",
    "    AA_SBI_data_v=AA_SBI_data_v+temp\n",
    "#asa_SBI_data_v=asa_SBI_data_v.reshape(-1)\n",
    "AA_SBI_count=[0,0,0,0,0,0,0,0,0,0,0,0,0,0,0,0,0,0,0,0]\n",
    "for item in AA_SBI_data_v:\n",
    "    AA_SBI_count[int(alphabetAA_L_D[item])-1]+=1"
   ]
  },
  {
   "cell_type": "code",
   "execution_count": 915,
   "metadata": {},
   "outputs": [],
   "source": [
    "AA_count=[0,0,0,0,0,0,0,0,0,0,0,0,0,0,0,0,0,0,0,0]\n",
    "\n",
    "for i in [P00469_WT_seq_rose,P00491_WT_seq_rose,Q06241_WT_seq_rose,P04036_WT_seq_rose,P0A6L0_WT_seq_rose,\n",
    "              P19120_WT_seq_rose,P77836_WT_seq_rose,Q16854_WT_seq_rose,Q53547_WT_seq_rose,Q55012_WT_seq_rose,Q8VQN0_WT_seq_rose]:\n",
    "    for item in i:\n",
    "        if item !='-':\n",
    "            AA_count[int(alphabetAA_L_D[item])-1]+=1"
   ]
  },
  {
   "cell_type": "code",
   "execution_count": 916,
   "metadata": {},
   "outputs": [
    {
     "name": "stdout",
     "output_type": "stream",
     "text": [
      "[313, 25, 203, 200, 121, 230, 91, 168, 156, 280, 85, 94, 123, 102, 174, 154, 167, 207, 43, 91]\n"
     ]
    }
   ],
   "source": [
    "print(AA_count)"
   ]
  },
  {
   "cell_type": "code",
   "execution_count": 917,
   "metadata": {},
   "outputs": [
    {
     "name": "stdout",
     "output_type": "stream",
     "text": [
      "[13, 3, 29, 25, 4, 46, 14, 2, 19, 7, 7, 10, 22, 15, 30, 24, 23, 16, 0, 2]\n"
     ]
    }
   ],
   "source": [
    "print(AA_SBI_count)"
   ]
  },
  {
   "cell_type": "code",
   "execution_count": 918,
   "metadata": {},
   "outputs": [
    {
     "name": "stdout",
     "output_type": "stream",
     "text": [
      "57408\n"
     ]
    }
   ],
   "source": [
    "tested_variants=0\n",
    "\n",
    "for i in [P00469_X,P00491_X,Q06241_X,P04036_X,P0A6L0_X,\n",
    "              P19120_X,P77836_X,Q16854_X,Q53547_X,Q55012_X,Q8VQN0_X]:\n",
    "    for item in i:\n",
    "        tested_variants+=1\n",
    "print(tested_variants)"
   ]
  },
  {
   "cell_type": "code",
   "execution_count": 919,
   "metadata": {},
   "outputs": [
    {
     "name": "stdout",
     "output_type": "stream",
     "text": [
      "[100, 73, 138]\n"
     ]
    }
   ],
   "source": [
    "print(ss_SBI_count)"
   ]
  },
  {
   "cell_type": "code",
   "execution_count": null,
   "metadata": {
    "tags": []
   },
   "outputs": [],
   "source": [
    "print(Q8VQN0_blue_pred_distribution) ## to export"
   ]
  },
  {
   "cell_type": "markdown",
   "metadata": {},
   "source": [
    "### ACTIVE SITE distance"
   ]
  },
  {
   "cell_type": "code",
   "execution_count": 921,
   "metadata": {},
   "outputs": [
    {
     "data": {
      "image/png": "[encoded data removed]",
      "text/plain": [
       "<Figure size 576x288 with 1 Axes>"
      ]
     },
     "metadata": {
      "needs_background": "light"
     },
     "output_type": "display_data"
    }
   ],
   "source": [
    "dy=P00469_blue_pred_distribution +P00491_blue_pred_distribution+Q06241_blue_pred_distribution+P04036_blue_pred_distribution+\\\n",
    "P0A6L0_blue_pred_distribution +P19120_blue_pred_distribution+P77836_blue_pred_distribution+Q16854_blue_pred_distribution+Q53547_blue_pred_distribution+\\\n",
    "Q55012_blue_pred_distribution\n",
    "dx=['P00469' for i in range(len(P00469_blue_pred_distribution))]+['P00491' for i in range(len(P00491_blue_pred_distribution))]+['Q06241' for i in range(len(Q06241_blue_pred_distribution))]+\\\n",
    "['P04036' for i in range(len(P04036_blue_pred_distribution))]+['P0A6L0' for i in range(len(P0A6L0_blue_pred_distribution))]+['P19120' for i in range(len(P19120_blue_pred_distribution))]+\\\n",
    "['P77836' for i in range(len(P77836_blue_pred_distribution))]+['Q16854' for i in range(len(Q16854_blue_pred_distribution))]+['Q53547' for i in range(len(Q53547_blue_pred_distribution))]+\\\n",
    "['Q55012' for i in range(len(Q55012_blue_pred_distribution))]\n",
    "\n",
    "f, ax = plt.subplots(figsize=(8, 4))\n",
    "\n",
    "\n",
    "\n",
    "ort = \"h\"; color = \"green\"; sigma = .2\n",
    "sns.boxplot(y = dy,\n",
    "             x = dx,\n",
    "             width = .5, ax = ax,color=\"#56B4E9\")\n",
    "\n",
    "ax.set_ylabel('Active site distance (A)',fontsize=14)\n",
    "\n",
    "ax.tick_params(axis=\"y\", labelsize=14)\n",
    "ax.set_ylim(-2,50)\n",
    "\n",
    "dx_labels=['P00469','P00491','Q06241','P04036','P0A6L0','P19120','P77836','Q16854','Q53547','Q55012']\n",
    "ax.set_xticklabels(dx_labels,rotation=45,fontsize=14)\n",
    "\n",
    "plt.savefig('./Figures/SBIR_bar_distance_from_active_site_MCSA_2.pdf')"
   ]
  },
  {
   "cell_type": "code",
   "execution_count": 922,
   "metadata": {},
   "outputs": [
    {
     "name": "stdout",
     "output_type": "stream",
     "text": [
      "144 295\n"
     ]
    }
   ],
   "source": [
    "total_dist=0\n",
    "count_close=0\n",
    "for i in dy:\n",
    "    total_dist+=1\n",
    "    if i <10:\n",
    "        count_close+=1\n",
    "        \n",
    "print(count_close,total_dist)"
   ]
  },
  {
   "cell_type": "code",
   "execution_count": 923,
   "metadata": {},
   "outputs": [
    {
     "data": {
      "image/png": "[encoded data removed]",
      "text/plain": [
       "<Figure size 576x288 with 1 Axes>"
      ]
     },
     "metadata": {
      "needs_background": "light"
     },
     "output_type": "display_data"
    }
   ],
   "source": [
    "dy=P00469_blue_pred_distribution +P00491_blue_pred_distribution+Q06241_blue_pred_distribution+P04036_blue_pred_distribution+\\\n",
    "P0A6L0_blue_pred_distribution +P19120_blue_pred_distribution+P77836_blue_pred_distribution+Q16854_blue_pred_distribution+Q53547_blue_pred_distribution+\\\n",
    "Q55012_blue_pred_distribution\n",
    "dx=['P00469' for i in range(len(P00469_blue_pred_distribution))]+['P00491' for i in range(len(P00491_blue_pred_distribution))]+['Q06241' for i in range(len(Q06241_blue_pred_distribution))]+\\\n",
    "['P04036' for i in range(len(P04036_blue_pred_distribution))]+['P0A6L0' for i in range(len(P0A6L0_blue_pred_distribution))]+['P19120' for i in range(len(P19120_blue_pred_distribution))]+\\\n",
    "['P77836' for i in range(len(P77836_blue_pred_distribution))]+['Q16854' for i in range(len(Q16854_blue_pred_distribution))]+['Q53547' for i in range(len(Q53547_blue_pred_distribution))]+\\\n",
    "['Q55012' for i in range(len(Q55012_blue_pred_distribution))]\n",
    "f, ax = plt.subplots(figsize=(8, 4))\n",
    "\n",
    "\n",
    "\n",
    "\n",
    "ort = \"h\"; pal = \"Set2\"; sigma = .2\n",
    "pt.RainCloud(y = dy,\n",
    "             x = dx,\n",
    "             bw = .3, width_viol = .5, ax = ax,palette=pal)\n",
    "\n",
    "ax.set_ylabel('Active site distance (A)',fontsize=14)\n",
    "\n",
    "ax.tick_params(axis=\"y\", labelsize=14)\n",
    "ax.set_ylim(-2,45)\n",
    "\n",
    "dx_labels=['P00469','P00491','Q06241','P04036','P0A6L0','P19120','P77836','Q16854','Q53547','Q55012']\n",
    "ax.set_xticklabels(dx_labels,rotation=45,fontsize=14)\n",
    "\n",
    "ax.set_ylim(-2,45)\n",
    "plt.savefig('./Figures/SBIR_distance_from_active_site_MCSA_2.pdf')"
   ]
  },
  {
   "cell_type": "code",
   "execution_count": 924,
   "metadata": {},
   "outputs": [
    {
     "name": "stdout",
     "output_type": "stream",
     "text": [
      "['P00469', 28.316444285962177, 13.669476187831691]\n",
      "['P00491', 27.69836661249179, 14.063708361115568]\n",
      "['Q06241', 24.657742861016292, 11.763781816668704]\n",
      "['P00469', 39.8972497423068, 25.411435485061943]\n",
      "['P0A6L0', 26.164396075583323, 13.431083793172064]\n",
      "['P19120', 39.77136903602892, 14.487919405700042]\n",
      "['P77836', 39.616878637772565, 17.15465796802722]\n",
      "['Q16854', 25.81617589806826, 16.71832458711099]\n",
      "['Q53547', 30.27855387894211, 14.487761740895888]\n",
      "['Q55012', 35.97835346427071, 13.292885234726999]\n",
      "['Q8VQN0', 21.14368681190676, 10.935640539081376]\n"
     ]
    }
   ],
   "source": [
    "for i in act_site_distance_total:\n",
    "    print(i)"
   ]
  },
  {
   "cell_type": "markdown",
   "metadata": {},
   "source": [
    "### Statistics\n",
    "to data imported in other notebook (1/2)"
   ]
  },
  {
   "cell_type": "code",
   "execution_count": 929,
   "metadata": {},
   "outputs": [
    {
     "name": "stdout",
     "output_type": "stream",
     "text": [
      "37\n"
     ]
    }
   ],
   "source": [
    "print(count_MCSA_matched_over_threshold)"
   ]
  },
  {
   "cell_type": "code",
   "execution_count": 930,
   "metadata": {},
   "outputs": [
    {
     "name": "stdout",
     "output_type": "stream",
     "text": [
      "[8553, 311]\n"
     ]
    }
   ],
   "source": [
    "print(count_total_SBI_predicted)"
   ]
  },
  {
   "cell_type": "code",
   "execution_count": 931,
   "metadata": {},
   "outputs": [],
   "source": [
    "statistic_threshold_SBI_MCSA=[[0.9,7,50],[0.8,15,88],[0.7,23,120],[0.5,35,184],[0.4,35,234],[0.3,36,277],[0.2,38,355],[0.01,44,711]]"
   ]
  },
  {
   "cell_type": "code",
   "execution_count": 932,
   "metadata": {},
   "outputs": [
    {
     "name": "stdout",
     "output_type": "stream",
     "text": [
      "[10 37 11  0  1]\n"
     ]
    }
   ],
   "source": [
    "count_catalytic_residues=np.array(count_catalytic_residues)\n",
    "print(count_catalytic_residues)\n",
    "np.save('./outputs/count_catalytic_residues_array_2.npy', count_catalytic_residues)"
   ]
  },
  {
   "cell_type": "code",
   "execution_count": 933,
   "metadata": {},
   "outputs": [
    {
     "name": "stdout",
     "output_type": "stream",
     "text": [
      "[33722  8553 15133     0]\n"
     ]
    }
   ],
   "source": [
    "print(count_total_variant)\n",
    "count_total_variant=np.array(count_total_variant)\n",
    "np.save('./outputs/count_total_variant_array_2.npy', count_total_variant)"
   ]
  },
  {
   "cell_type": "code",
   "execution_count": 934,
   "metadata": {},
   "outputs": [
    {
     "name": "stdout",
     "output_type": "stream",
     "text": [
      "[1691  311  876    0  149]\n"
     ]
    }
   ],
   "source": [
    "print(count_total_residues)\n",
    "count_total_residues=np.array(count_total_residues)\n",
    "np.save('./outputs/count_total_residues_array_2.npy', count_total_residues)"
   ]
  },
  {
   "cell_type": "code",
   "execution_count": null,
   "metadata": {},
   "outputs": [],
   "source": []
  },
  {
   "cell_type": "markdown",
   "metadata": {},
   "source": [
    "calculator statistic\n",
    "\n",
    "total funct residues"
   ]
  },
  {
   "cell_type": "code",
   "execution_count": 936,
   "metadata": {},
   "outputs": [
    {
     "data": {
      "text/plain": [
       "0.11613438407299875"
      ]
     },
     "execution_count": 936,
     "metadata": {},
     "output_type": "execute_result"
    }
   ],
   "source": [
    "560/(2704+560+1331+227)"
   ]
  },
  {
   "cell_type": "markdown",
   "metadata": {},
   "source": [
    "total loss catalytic\n",
    "\n",
    "17 out of 24"
   ]
  }
 ],
 "metadata": {
  "kernelspec": {
   "display_name": "Python 3 (ipykernel)",
   "language": "python",
   "name": "python3"
  },
  "language_info": {
   "codemirror_mode": {
    "name": "ipython",
    "version": 3
   },
   "file_extension": ".py",
   "mimetype": "text/x-python",
   "name": "python",
   "nbconvert_exporter": "python",
   "pygments_lexer": "ipython3",
   "version": "3.7.16"
  }
 },
 "nbformat": 4,
 "nbformat_minor": 4
}
