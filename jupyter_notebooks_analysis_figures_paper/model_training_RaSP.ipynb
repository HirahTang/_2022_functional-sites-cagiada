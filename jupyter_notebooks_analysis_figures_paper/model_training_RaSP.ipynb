{
 "cells": [
  {
   "cell_type": "markdown",
   "metadata": {},
   "source": [
    "# CATBOOST 4-class model training\n"
   ]
  },
  {
   "cell_type": "markdown",
   "metadata": {
    "toc-hr-collapsed": false
   },
   "source": [
    "## Libraries, functions and dictionaries"
   ]
  },
  {
   "cell_type": "code",
   "execution_count": 47,
   "metadata": {
    "tags": []
   },
   "outputs": [],
   "source": [
    "import sys, os\n",
    "\n",
    "import pandas as pd\n",
    "import numpy as np\n",
    "import scipy as sp\n",
    "import matplotlib as mpl\n",
    "import matplotlib.pyplot as plt\n",
    "import mdtraj as md\n",
    "import random\n",
    "import seaborn as sns\n",
    "import re\n",
    "\n",
    "from sklearn.model_selection import RandomizedSearchCV\n",
    "from sklearn.model_selection import RepeatedStratifiedKFold\n",
    "from sklearn.model_selection import cross_val_score\n",
    "\n",
    "\n",
    "from sklearn.ensemble import RandomForestClassifier\n",
    "from catboost import CatBoostClassifier, Pool,cv\n",
    "from catboost.datasets import titanic\n",
    "\n",
    "import warnings\n",
    "warnings.filterwarnings('ignore')"
   ]
  },
  {
   "cell_type": "code",
   "execution_count": 48,
   "metadata": {
    "tags": []
   },
   "outputs": [],
   "source": [
    "alphabetAA_L_D={'-':0,'_' :0,'A':1,'C':2,'D':3,'E':4,'F':5,'G':6,'H':7,'I':8,'K':9,'L':10,'M':11,'N':12,'P':13,'Q':14,'R':15,'S':16,'T':17,'V':18,'W':19,'Y':20}\n",
    "alphabetAA_D_L={v: k for k, v in alphabetAA_L_D.items()}\n",
    "               \n",
    "alphabetAA_3L_1L={\"Ter\":'*',\"Gap\":'-',\"Ala\":'A',\"Cys\":'C',\"Asp\":'D',\"Glu\":'E',\"Phe\":'F',\"Gly\":'G',\"His\":'H',\"Ile\":'I',\"Lys\":'K',\"Leu\":'L',\"Met\":'M',\"Asn\":'N',\"Pro\":'P',\"Gln\":'Q',\"Arg\":'R',\"Ser\":'S',\"Thr\":'T',\"Val\" :'V',\"Trp\":'W',\"Tyr\":'Y'}\n",
    "alphabetAA_1L_3L={v: k for k,v in alphabetAA_3L_1L.items()}\n",
    "\n",
    "alphabetAA_3L_1LC={\"Ter\":'*',\"Gap\":'-',\"ALA\":'A',\"CYS\":'C',\"ASP\":'D',\"GLU\":'E',\"PHE\":'F',\"GLY\":'G',\"HIS\":'H',\"ILE\":'I',\"LYS\":'K',\"LEU\":'L',\"MET\":'M',\"ASN\":'N',\"PRO\":'P',\"GLN\":'Q',\"ARG\":'R',\"SER\":'S',\"THR\":'T',\"VAL\" :'V',\"TRP\":'W',\"TYR\":'Y'}\n",
    "\n",
    "alphabetAA_to_classes={'A':1,'C':2,'D':3,'E':3,'F':1,'G':4,'H':3,'I':1,'K':3,'L':1,'M':1,'N':2,'P':4,'Q':2,'R':3,'S':2,'T':2,'V':1,'W':1,'Y':1}\n",
    "alphabetclasses_to_AA={v: k for k,v in alphabetAA_to_classes.items()}\n",
    "\n",
    "AA_ddsp_number={'H' :0,'B' : 1,'E' : 2,'G' : 3,'I' : 4,'T' : 5,'S' : 6,' ' : 7}\n",
    "AA_number_ddsp={v: k for k,v in AA_ddsp_number.items()}\n",
    "\n",
    "AA_ddsp_number_simp={'H' :0,'E' : 1,'C' : 2}\n",
    "AA_number_ddsp_simp={v: k for k,v in AA_ddsp_number.items()}\n",
    "\n",
    "AA_to_hydrophobicity_scores={'A':44,'C':50,'D':-37,'E':-12,'F':96,'G':0,'H':-16,'I':100,'K':-30,'L':99,'M':74,'N':-35,'P':-46,'Q':-14,'R':-20,'S':-6,'T':13,'V':78,'W':90,'Y':57}"
   ]
  },
  {
   "cell_type": "markdown",
   "metadata": {},
   "source": [
    "### Load functions"
   ]
  },
  {
   "cell_type": "code",
   "execution_count": 49,
   "metadata": {},
   "outputs": [],
   "source": [
    "def remove_WT_score(score,WT_seq):\n",
    "    for i in range(len(WT_seq)):\n",
    "        score[i,alphabetAA_L_D[WT_seq[i]]-1]=np.nan\n",
    "    return score"
   ]
  },
  {
   "cell_type": "code",
   "execution_count": 50,
   "metadata": {},
   "outputs": [],
   "source": [
    "def load_data_V2(data,wt_seq,start_gap=0,column_score=1):\n",
    "    df=pd.read_csv(data, delim_whitespace=True, comment='#')\n",
    "    mutation_load=np.array(df.iloc[:,0])\n",
    "    score_load=np.array(df.iloc[:,column_score])\n",
    "    scores=np.empty((len(wt_seq),20),dtype=float)\n",
    "    scores[:]=np.nan\n",
    "    for i in range(len(mutation_load)):\n",
    "        if  mutation_load[i][len(mutation_load[i])-1]!= '=':\n",
    "            scores[int(mutation_load[i][1:len(mutation_load[i])-1])-1+start_gap, alphabetAA_L_D[mutation_load[i][len(mutation_load[i])-1]]-1]= float(score_load[i])\n",
    "    return scores"
   ]
  },
  {
   "cell_type": "markdown",
   "metadata": {},
   "source": [
    "### General functions"
   ]
  },
  {
   "cell_type": "code",
   "execution_count": 51,
   "metadata": {},
   "outputs": [],
   "source": [
    "def normalize_score(scores):\n",
    "    normalized_scores=np.copy(scores)\n",
    "    c_min_act=np.percentile(scores[~np.isnan(scores)],5)\n",
    "    c_max_act=np.percentile(scores[~np.isnan(scores)],95)\n",
    "    for i in range(scores.shape[0]):\n",
    "        for j in range(scores.shape[1]):\n",
    "            normalized_scores[i,j]=(scores[i,j]-c_min_act)/(c_max_act-c_min_act)\n",
    "                                  \n",
    "    return normalized_scores"
   ]
  },
  {
   "cell_type": "code",
   "execution_count": 52,
   "metadata": {},
   "outputs": [],
   "source": [
    "def normalize_minmax(scores):\n",
    "    normalized_scores=np.copy(scores)\n",
    "    c_min_act=np.amin(scores[~np.isnan(scores)])\n",
    "    c_max_act=np.amax(scores[~np.isnan(scores)])\n",
    "    for i in range(scores.shape[0]):\n",
    "        for j in range(scores.shape[1]):\n",
    "            normalized_scores[i,j]=(scores[i,j]-c_min_act)/(c_max_act-c_min_act)\n",
    "                                  \n",
    "    return normalized_scores"
   ]
  },
  {
   "cell_type": "code",
   "execution_count": 53,
   "metadata": {},
   "outputs": [],
   "source": [
    "def normalize_fermi(scores):\n",
    "    normalized_scores=np.copy(scores)\n",
    "    for i in range(scores.shape[0]):\n",
    "        for j in range(scores.shape[1]):\n",
    "            normalized_scores[i,j]=1/(sp.exp(scores[i,j]-2)+1)                 \n",
    "    return normalized_scores"
   ]
  },
  {
   "cell_type": "code",
   "execution_count": 54,
   "metadata": {},
   "outputs": [],
   "source": [
    "def normalize_cutoff(scores,lowcut,highcut):\n",
    "    normalized_scores=np.copy(scores)\n",
    "    for i in range(scores.shape[0]):\n",
    "        for j in range(scores.shape[1]):\n",
    "            if scores[i,j] < lowcut:\n",
    "                normalized_scores[i,j]=lowcut\n",
    "            elif scores[i,j] > highcut:\n",
    "                normalized_scores[i,j]=highcut\n",
    "            else:\n",
    "                normalized_scores[i,j]=scores[i,j]\n",
    "    return normalized_scores"
   ]
  },
  {
   "cell_type": "code",
   "execution_count": 55,
   "metadata": {},
   "outputs": [],
   "source": [
    "def position_mean(score):\n",
    "    score_mean=np.zeros(score.shape[0],dtype=float)\n",
    "    for i in range(score.shape[0]):\n",
    "        count=0\n",
    "        flag_nan=True\n",
    "        for j in range(score.shape[1]):\n",
    "            if np.isnan(score[i,j])==False:\n",
    "                flag_nan=False\n",
    "                score_mean[i]+=score[i,j]\n",
    "                count+=1\n",
    "            else:\n",
    "                pass\n",
    "        if flag_nan==True:\n",
    "            score_mean[i]=np.nan\n",
    "        score_mean[i]/=count\n",
    "        \n",
    "    return score_mean"
   ]
  },
  {
   "cell_type": "code",
   "execution_count": 56,
   "metadata": {},
   "outputs": [],
   "source": [
    "def position_mean(score):\n",
    "    score_mean=np.zeros(score.shape[0],dtype=float)\n",
    "    for i in range(score.shape[0]):\n",
    "        score_mean[i]=np.nanmean(score[i,:])\n",
    "        \n",
    "    return score_mean"
   ]
  },
  {
   "cell_type": "code",
   "execution_count": 57,
   "metadata": {},
   "outputs": [],
   "source": [
    "def position_median(score):\n",
    "    score_mean=np.zeros(score.shape[0],dtype=float)\n",
    "    for i in range(score.shape[0]):\n",
    "        count=0\n",
    "        \n",
    "        score_mean[i]=np.nanmedian(score[i,:])\n",
    "        \n",
    "    return score_mean"
   ]
  },
  {
   "cell_type": "code",
   "execution_count": 58,
   "metadata": {},
   "outputs": [],
   "source": [
    "def score_histogram(score,nbin,color,label_x,norm_bool,thr):\n",
    "\n",
    "    counts, bins = np.histogram(score[~np.isnan(score)],bins=nbin)\n",
    "    if norm_bool=='Density':\n",
    "        n, bins, patches = plt.hist(score[~np.isnan(score)], bins=nbin, facecolor=color, alpha=0.7,edgecolor=\"black\",density=True)\n",
    "        plt.ylabel('Normalized counts',fontsize=20)\n",
    "    elif norm_bool=='True':\n",
    "        \n",
    "        norm= counts / np.linalg.norm(counts)\n",
    "        plt.hist(bins[:-1], bins, weights=norm, facecolor=color, alpha=0.7,edgecolor=\"black\")\n",
    "        plt.ylabel('Normalized counts',fontsize=20)\n",
    "    else:\n",
    "        n, bins, patches = plt.hist(score[~np.isnan(score)], bins=nbin, facecolor=color,edgecolor=\"black\")\n",
    "        plt.ylabel('Counts',fontsize=20)\n",
    "\n",
    "    plt.xlabel(label_x,fontsize=20)\n",
    "    plt.xticks(fontsize=18)\n",
    "    plt.grid(axis=\"y\",alpha=0.4,linestyle='--')\n",
    "    sum_unstable=0\n",
    "    for i in range(len(bins)-1):\n",
    "        if bins[i+1] < thr:\n",
    "            sum_unstable+=counts[i]\n",
    "    print('Wt-like variants:',np.sum(counts)-sum_unstable, ' (', (np.sum(counts)-sum_unstable)/np.sum(counts) ,')')\n",
    "    \n",
    "    #plt.show()"
   ]
  },
  {
   "cell_type": "code",
   "execution_count": 59,
   "metadata": {},
   "outputs": [],
   "source": [
    "def heatmap_IBS(prediction,variant_map,WT):\n",
    "    scores=np.empty((len(WT),20),dtype=float)\n",
    "    scores[:]=np.nan\n",
    "    \n",
    "    i=0\n",
    "    for cord in variant_map:\n",
    "        scores[cord[0],cord[1]]=prediction[i]\n",
    "        i+=1\n",
    "\n",
    "    fig, ax = plt.subplots(figsize=(16,6))\n",
    "    ylabels=[ alphabetAA_D_L[i] for i in range(1,21)]\n",
    "    \n",
    "    ax.imshow(np.transpose(scores), aspect = 'auto', cmap=mpl.colors.ListedColormap([\"white\",\"#56b4e9\"]))\n",
    "\n",
    "    ax.set_yticks([i for i in range(0,20)])\n",
    "    ax.set_yticklabels(ylabels,fontsize=15)\n",
    "    ax.tick_params(axis='x', which='major', labelsize=15)\n",
    "        \n",
    "    tmp=np.empty((len(WT),20),dtype=float)\n",
    "    tmp[:]=np.inf\n",
    "    for i in range(0,len(WT)):\n",
    "        tmp[i,alphabetAA_L_D[WT[i]]-1]=1\n",
    "    plt.imshow(tmp.T, cmap='Accent', aspect = 'auto')\n",
    "    \n",
    "    plt.grid(axis='both',which='both',alpha=0.4)\n",
    "    plt.ylabel(\"mutation\",fontsize=16)\n",
    "    plt.xlabel(\"residue\",fontsize=16)\n",
    "\n",
    "    plt.ylim(-0.5,19.5)"
   ]
  },
  {
   "cell_type": "code",
   "execution_count": 60,
   "metadata": {},
   "outputs": [],
   "source": [
    "def ratio_variants(mave_funct,mave_abd):\n",
    "    ratio=np.copy(mave_funct)\n",
    "    ratio[:]=np.nan\n",
    "    for i in range(ratio.shape[0]):\n",
    "        for j in range(ratio.shape[1]):\n",
    "            if np.isnan(mave_funct[i,j]) or np.isnan(mave_abd[i,j]):\n",
    "                pass\n",
    "            else:\n",
    "                if mave_abd[i,j]==0.0:\n",
    "                    ratio[i,j]=mave_funct[i,j]/0.0000001\n",
    "                else:\n",
    "                    ratio[i,j]=mave_funct[i,j]/mave_abd[i,j]\n",
    "    sig_ratio=np.copy(ratio)\n",
    "    sig_ratio[:]=np.nan\n",
    "    for i in range(ratio.shape[0]):\n",
    "        for j in range(ratio.shape[1]):\n",
    "            if np.isnan(ratio[i,j])!=True:\n",
    "                sig_ratio[i,j]=1/(1+np.exp(-(ratio[i,j]-1)))\n",
    "\n",
    "    return sig_ratio"
   ]
  },
  {
   "cell_type": "code",
   "execution_count": 61,
   "metadata": {},
   "outputs": [],
   "source": [
    "def MCC_test_subset(prediction,test):\n",
    "    TP=0\n",
    "    FP=0\n",
    "    total=0\n",
    "    for i in range(len(prediction)):\n",
    "        if np.isnan(prediction[i])!= True and np.isnan(test[i])!=True:\n",
    "            if prediction[i]==1:\n",
    "                if int(prediction[i])==int(test[i]):\n",
    "                    TP+=1\n",
    "                else:\n",
    "                    FP+=1\n",
    "            if int(test[i])==1:\n",
    "                total+=1\n",
    "    precision=TP/(TP+FP)\n",
    "    recall=TP/total\n",
    "    mcc=np.sqrt(abs(precision*recall))\n",
    "    \n",
    "    return precision,recall,mcc                 "
   ]
  },
  {
   "cell_type": "code",
   "execution_count": 62,
   "metadata": {},
   "outputs": [],
   "source": [
    "def MCC_test_subset(prediction,test):\n",
    "    TP=0\n",
    "    FP=0\n",
    "    total=0\n",
    "    for i in range(len(prediction)):\n",
    "        if np.isnan(prediction[i])!= True and np.isnan(test[i])!=True:\n",
    "            if prediction[i]==1:\n",
    "                if int(prediction[i])==int(test[i]):\n",
    "                    TP+=1\n",
    "                else:\n",
    "                    FP+=1\n",
    "            if int(test[i])==1:\n",
    "                total+=1\n",
    "    precision=TP/(TP+FP)\n",
    "    recall=TP/total\n",
    "    mcc=np.sqrt(abs(precision*recall))\n",
    "    F1 = 2 * (precision*recall)/(precision+recall)\n",
    "    \n",
    "    return precision,recall,mcc  ,F1               "
   ]
  },
  {
   "cell_type": "code",
   "execution_count": 63,
   "metadata": {},
   "outputs": [],
   "source": [
    "def MCC_test_multi(prediction,test):\n",
    "    mcc=[]\n",
    "    temp=[]\n",
    "    for v in range(3):\n",
    "        TP=0\n",
    "        FP=0\n",
    "        total=0\n",
    "        mcc=[]\n",
    "        for i in range(len(prediction)):\n",
    "            if np.isnan(prediction[i])!= True and np.isnan(test[i])!=True:\n",
    "                if prediction[i]==v:\n",
    "                    if int(prediction[i])==int(test[i]):\n",
    "                        TP+=1\n",
    "                    else:\n",
    "                        FP+=1\n",
    "                if int(test[i])==v:\n",
    "                    total+=1\n",
    "        if (FP+TP)==0:\n",
    "            precision=0\n",
    "        else:\n",
    "            precision=TP/(TP+FP)\n",
    "        if total ==0:\n",
    "            recall =0\n",
    "        else:\n",
    "            recall=TP/total\n",
    "        temp.append(np.sqrt(abs(precision*recall)))\n",
    "    mcc=[i for i in temp]\n",
    "    \n",
    "    return mcc"
   ]
  },
  {
   "cell_type": "code",
   "execution_count": 64,
   "metadata": {},
   "outputs": [],
   "source": [
    "def AUC_subset(prediction,test):\n",
    "    TP=0\n",
    "    FP=0\n",
    "    FN=0\n",
    "    TN=0\n",
    "    \n",
    "    for i in range(len(prediction)):\n",
    "        if np.isnan(prediction[i])!= True and np.isnan(test[i])!=True:\n",
    "            if prediction[i]==1:\n",
    "                if int(prediction[i])==int(test[i]):\n",
    "                    TP+=1\n",
    "                else:\n",
    "                    FP+=1\n",
    "            if prediction[i]!=1:\n",
    "                if int(prediction[i])==int(test[i]):\n",
    "                    TN+=1\n",
    "                else:\n",
    "                    FN+=1 \n",
    "                    \n",
    "    TPR=TP/(TP+FN)\n",
    "    FPR=FP/(FP+TN)\n",
    "    \n",
    "    return [TPR,FPR]"
   ]
  },
  {
   "cell_type": "code",
   "execution_count": 65,
   "metadata": {},
   "outputs": [],
   "source": [
    "def retrieve_residue_label_pred_training(prediction,variant_map,WT,percentage_threshold):\n",
    "    scores=np.empty((len(WT),20),dtype=float)\n",
    "    scores[:]=np.nan\n",
    "    \n",
    "    i=0\n",
    "    for cord in variant_map:\n",
    "        scores[cord[0],cord[1]]=prediction[i]\n",
    "        i+=1\n",
    "    pseudomode_value_class=np.empty(len(WT),dtype=float)\n",
    "    pseudomode_value_class[:]=np.nan\n",
    "    percentage_mode=np.zeros((len(WT),2),dtype=float)\n",
    "    \n",
    "    for i in range(len(pseudomode_value_class)):\n",
    "        count=0\n",
    "        for j in range(scores.shape[1]):\n",
    "            if np.isnan(scores[i,j])!=True:\n",
    "                count+=1\n",
    "        if count>0:\n",
    "            count_1=0\n",
    "            for j in range(scores.shape[1]):\n",
    "                if scores[i,j]==1:\n",
    "                    count_1+=1\n",
    "            percentage=count_1/count\n",
    "            \n",
    "            if percentage > percentage_threshold:\n",
    "                pseudomode_value_class[i]=1\n",
    "            else:\n",
    "                pseudomode_value_class[i]=0\n",
    "            \n",
    "            percentage_mode[i,0]=percentage\n",
    "            percentage_mode[i,1]=count\n",
    "    \n",
    "    #mode_value_class, counts_mode=sp.stats.mode(scores,axis=1,nan_policy='omit')\n",
    "    \n",
    "    return pseudomode_value_class,percentage_mode"
   ]
  },
  {
   "cell_type": "code",
   "execution_count": 66,
   "metadata": {},
   "outputs": [],
   "source": [
    "def retrieve_residue_label_pred(prediction,variant_map,WT,percentage_threshold):\n",
    "    scores=np.empty((len(WT),20),dtype=float)\n",
    "    scores[:]=np.nan\n",
    "    \n",
    "    i=0\n",
    "    for cord in variant_map:\n",
    "        scores[cord[0],cord[1]]=prediction[i]\n",
    "        i+=1\n",
    "    \n",
    "    count_pos=np.zeros((len(WT),4),dtype=float)\n",
    "    \n",
    "    pseudomode_value_class=np.empty(len(WT),dtype=float)\n",
    "    pseudomode_value_class[:]=np.nan\n",
    "    percentage=np.zeros((len(WT),2),dtype=float)\n",
    "        \n",
    "    for i in range(len(pseudomode_value_class)):\n",
    "        count=0\n",
    "        for j in range(scores.shape[1]):\n",
    "            if np.isnan(scores[i,j])!=True:\n",
    "                count+=1\n",
    "        if count>0:\n",
    "            for j in range(scores.shape[1]):\n",
    "                    if np.isnan(scores[i,j])!=True:\n",
    "                        count_pos[i,int(scores[i,j])]+=1\n",
    "            count_pos=count_pos/count\n",
    "            if np.any(count_pos[i,:]>=0.50):\n",
    "                pseudomode_value_class[i]=np.argmax(count_pos[i,:])\n",
    "                percentage[i,0]=count_pos[i,1]\n",
    "                #print(i, count_pos[i,:],np.max(count_pos[i,:]),np.argmax(count_pos[i,:]),pseudomode_value_class[i])\n",
    "\n",
    "\n",
    "            else:                \n",
    "                pseudomode_value_class[i]=5\n",
    "                percentage[i,0]=count_pos[i,1]\n",
    "                #print(i, count_pos[i,:],np.max(count_pos[i,:]),np.argmax(count_pos[i,:]),'else',pseudomode_value_class[i])\n",
    "                ## 5 indicates mixed signal with no predominat mutation class\n",
    "            \n",
    "            percentage[i,1]=count\n",
    "    \n",
    "    #mode_value_class, counts_mode=sp.stats.mode(scores,axis=1,nan_policy='omit')\n",
    "    \n",
    "    return pseudomode_value_class,percentage"
   ]
  },
  {
   "cell_type": "code",
   "execution_count": 67,
   "metadata": {},
   "outputs": [],
   "source": [
    "def pairplot_features(list_feature,name_features,namefile):\n",
    "    df=pd.DataFrame(list_feature,columns=name_features)\n",
    "    sns_plot=sns.pairplot(df)\n",
    "    sns_plot.savefig(namefile)"
   ]
  },
  {
   "cell_type": "code",
   "execution_count": 68,
   "metadata": {},
   "outputs": [],
   "source": [
    "def print_chimera_attribute_file(attribute_check,attribute,file):\n",
    "    file=open(file,\"w+\")\n",
    "    file.write('%s\\n%s\\n%s\\n%s\\n' % ('#','#  Use this file to assign the attribute in Chimera with the','#  Define Attribute tool or the command defattr','#'))\n",
    "    file.write('%s\\n%s\\n%s\\n' % ( 'attribute: cbyvalue','match mode: 1-to-1', 'recipient: residues') )\n",
    "    for i in range(len(attribute_check)):\n",
    "        if np.isnan(attribute_check[i])==True:\n",
    "            file.write(\"\\t%s%d%s\\t%f\\n\" % (':',i+1,'.A',-1))\n",
    "        else:\n",
    "            file.write(\"\\t%s%d%s\\t%f\\n\" % (':',i+1,'.A',attribute[i]))\n",
    "    file.close()"
   ]
  },
  {
   "cell_type": "code",
   "execution_count": 69,
   "metadata": {
    "tags": []
   },
   "outputs": [],
   "source": [
    "def print_chimera_x_attribute_file(attribute_check,attribute,file):\n",
    "    file=open(file,\"w+\")\n",
    "    file.write('%s\\n%s\\n%s\\n%s\\n' % ('#','#  Use this file to assign the attribute in Chimera with the','#  Define Attribute tool or the command defattr','#'))\n",
    "    file.write('%s\\n%s\\n%s\\n' % ( 'attribute: cbyvalue','match mode: 1-to-1', 'recipient: residues') )\n",
    "    for i in range(len(attribute_check)):\n",
    "        if np.isnan(attribute_check[i])==True:\n",
    "            pass\n",
    "        else:\n",
    "            file.write(\"\\t%s%d\\t%f\\n\" % ('/A:',i+1,attribute[i]))\n",
    "    file.close()"
   ]
  },
  {
   "cell_type": "code",
   "execution_count": 70,
   "metadata": {},
   "outputs": [],
   "source": [
    "def plot_attributes(pos,pred,variant_map,gemme,rosetta,wcn,gemme_n,rosetta_n):\n",
    "    \n",
    "    label_position=np.empty(20,dtype=float)\n",
    "    label_position[:]=np.nan\n",
    "    \n",
    "    i=0\n",
    "    for cord in variant_map:\n",
    "        if cord[0]==pos:\n",
    "            label_position[cord[1]]=prediction[i]\n",
    "        i+=1\n",
    "    \n",
    "    fig,(ax1,ax2,ax3,ax4,ax5,ax6)=plt.subplots(1,6,figsize=(9,4),gridspec_kw={\"width_ratios\" : [7,1,1,1,1,1], \"wspace\" : 0.4})\n",
    "    cdict = {1: 'blue', 0: 'red'}\n",
    "    glabel={1.0:'SBI',0.0:'non-SBI'}\n",
    "    for g in np.unique(label_position):\n",
    "        if np.isnan(g)!=True:\n",
    "            ix = np.where(label_position == g)\n",
    "            ax1.scatter(rosetta[pos,ix],gemme[pos,ix],c=cdict[g], label=[glabel[g]])\n",
    "    \n",
    "    ax2.bar(x=0.5,height=wcn[pos])\n",
    "    ax3.bar(x=0.5,height=np.mean(gemme[pos,:][~np.isnan(gemme[pos,:])]))\n",
    "    ax4.bar(x=0.5,height=np.mean(rosetta[pos,:][~np.isnan(rosetta[pos,:])]))   \n",
    "    ax5.bar(x=0.5,height=gemme_n[pos])\n",
    "    ax6.bar(x=0.5,height=rosetta_n[pos])\n",
    "    \n",
    "    \n",
    "    ax1.set_title('variants classification')\n",
    "    ax2.set_title('WCN')\n",
    "    ax3.set_title(r'$\\bar{G}$')\n",
    "    ax4.set_title(r'$\\bar{r}$')\n",
    "    ax5.set_title(r'G_n')\n",
    "    ax6.set_title(r'r_n')\n",
    "    \n",
    "    ax1.set_xlabel('rosetta_score',fontsize=13)\n",
    "    ax1.set_ylabel('GEMME score',fontsize=13)\n",
    "    ax1.set_xlim(6,-1)\n",
    "    ax1.set_ylim(-7,1)\n",
    "    ax2.set_ylim(0,15)\n",
    "    ax3.set_ylim(0,-8)\n",
    "    ax4.set_ylim(0,6)\n",
    "    ax5.set_ylim(0,-8)\n",
    "    ax6.set_ylim(0,6)\n",
    "    \n",
    "    \n",
    "    ax2.set_xticks([],[])\n",
    "    ax3.set_xticks([],[])\n",
    "    ax4.set_xticks([],[])\n",
    "    ax5.set_xticks([],[])\n",
    "    ax6.set_xticks([],[])\n",
    "    ax2.set_xlim(0.1,0.9)\n",
    "    \n",
    "    \n",
    "    \n",
    "    ax1.legend()"
   ]
  },
  {
   "cell_type": "code",
   "execution_count": 71,
   "metadata": {},
   "outputs": [],
   "source": [
    "def results_plot(MCC,AUC,name_models):\n",
    "    \n",
    "    fig,(ax1,ax2,ax3)=plt.subplots(1,3,figsize=(14,4))\n",
    "    \n",
    "    cdict = {1: '#355070', 2: '#6D597A',2:'#B56576',3 :'#a4d600',4:'#a47f4b',5:'#EAAC8B',6:'#4a944f',7:\"#F95738\"}\n",
    "    for g in range(0,7):\n",
    "        ax1.scatter(AUC[g,1],AUC[g,0],c=cdict[g+1])\n",
    "    ax1.plot([0, 1], [0, 1], transform=ax1.transAxes,ls=':')\n",
    "    ax1.set_xlabel('FPR',fontsize=13)\n",
    "    ax1.set_ylabel('TPR',fontsize=13)\n",
    "    \n",
    "    for g in range(0,7):\n",
    "        ax2.scatter(MCC[g,0],MCC[g,1],c=cdict[g+1], label=g+1)\n",
    "    #ax2.scatter(MCC[:,0],MCC[:,1],c=color_class)\n",
    "    \n",
    "    ax2.set_xlabel('Precision',fontsize=13)\n",
    "    ax2.set_ylabel('Recall',fontsize=13)\n",
    "    ax2.legend(loc='lower right')\n",
    "    \n",
    "    cbar=[cdict[i] for i in range(1,8)]\n",
    "    ax3.bar(name_models,MCC[:,2],color=cbar)\n",
    "    ax3.set_ylabel('MCC',fontsize=13)\n"
   ]
  },
  {
   "cell_type": "code",
   "execution_count": 72,
   "metadata": {},
   "outputs": [],
   "source": [
    "def print_percentage_prediction(pred,mode_pred,WT,WT_ros):\n",
    "    effective_pos=0\n",
    "    for i in range(len(WT)):\n",
    "        if WT[i]==WT_ros[i]:\n",
    "            effective_pos+=1\n",
    "    count_SBI=0\n",
    "    for i in pred:\n",
    "        if i ==1:\n",
    "            count_SBI+=1\n",
    "    \n",
    "    print(f' SBI variants: {count_SBI} out of {len(pred)} ({count_SBI/len(pred)*100:.2f}%) ')\n",
    "    \n",
    "    perc_variants=count_SBI/len(pred)*100\n",
    "    \n",
    "    count_SBI=0\n",
    "    for i in mode_pred:\n",
    "        if i==1:\n",
    "            count_SBI+=1\n",
    "    print(f' SBI residues: {count_SBI} out of {effective_pos} ({count_SBI/effective_pos*100:.2f}%) ')\n",
    "    \n",
    "    return [perc_variants, count_SBI/effective_pos*100]"
   ]
  },
  {
   "cell_type": "code",
   "execution_count": 73,
   "metadata": {},
   "outputs": [],
   "source": [
    "def print_numbers_prediction(pred,mode_pred,WT,WT_ros):\n",
    "    effective_pos=0\n",
    "    for i in range(len(WT)):\n",
    "        if WT[i]==WT_ros[i]:\n",
    "            effective_pos+=1\n",
    "    count_SBI=0\n",
    "    for i in pred:\n",
    "        if i ==1:\n",
    "            count_SBI+=1\n",
    "    \n",
    "    variants=count_SBI\n",
    "    \n",
    "    count_SBI=0\n",
    "    for i in mode_pred:\n",
    "        if i==1:\n",
    "            count_SBI+=1\n",
    "    \n",
    "    return [variants, count_SBI]"
   ]
  },
  {
   "cell_type": "code",
   "execution_count": 74,
   "metadata": {},
   "outputs": [],
   "source": [
    "def yellow_model_prediction(prediction,variant_map,experimental_label):\n",
    "    new_score_region=[0,0,0,0]\n",
    "    i=0\n",
    "    for cord in variant_map:\n",
    "        if experimental_label[cord[0]][0]==3:\n",
    "            #print(experimental_label[cord[0]][0],prediction[i])\n",
    "            new_score_region[int(prediction[i][0])]+=1\n",
    "        else:\n",
    "            pass\n",
    "        i+=1\n",
    "    print(new_score_region)\n",
    "    return new_score_region/np.sum(new_score_region) "
   ]
  },
  {
   "cell_type": "markdown",
   "metadata": {},
   "source": [
    "### setup ML functions"
   ]
  },
  {
   "cell_type": "code",
   "execution_count": 75,
   "metadata": {},
   "outputs": [],
   "source": [
    "def secondary_structure_cat(pdb_loc,WT):\n",
    "    pdb=md.load(pdb_loc)\n",
    "    topology = pdb.topology\n",
    "    chainA = topology.select('chainid 0  and protein')\n",
    "    pdb_chainA= pdb.atom_slice(chainA)\n",
    "    \n",
    "    chainA_top=pdb_chainA.topology\n",
    "    \n",
    "    ss_labels=md.compute_dssp(pdb_chainA,simplified=False)\n",
    "\n",
    "    ss_ret_labels=np.empty(len(WT),dtype=float)\n",
    "    ss_ret_labels[:]=np.nan\n",
    "    \n",
    "    for i in range(len(ss_labels[0,:])):\n",
    "        ss_ret_labels[int(str(chainA_top.residue(i))[3:])-1]=AA_ddsp_number[ss_labels[0,i]]\n",
    "    \n",
    "    return ss_ret_labels\n",
    "    "
   ]
  },
  {
   "cell_type": "code",
   "execution_count": 76,
   "metadata": {},
   "outputs": [],
   "source": [
    "def secondary_structure_cat_simp(pdb_loc,WT):\n",
    "    pdb=md.load(pdb_loc)\n",
    "    topology = pdb.topology\n",
    "    chainA = topology.select('chainid 0  and protein')\n",
    "    pdb_chainA= pdb.atom_slice(chainA)\n",
    "    \n",
    "    chainA_top=pdb_chainA.topology\n",
    "    \n",
    "    ss_labels=md.compute_dssp(pdb_chainA,simplified=True)\n",
    "\n",
    "    ss_ret_labels=np.empty(len(WT),dtype=float)\n",
    "    ss_ret_labels[:]=np.nan\n",
    "    count=1\n",
    "    for j in range(len(WT)):\n",
    "        if WT[j]!='-':\n",
    "            for i in range(len(ss_labels[0,:])):\n",
    "                if count==int(str(chainA_top.residue(i))[3:]):\n",
    "                    ss_ret_labels[j]=AA_ddsp_number_simp[ss_labels[0,i]]\n",
    "            count+=1\n",
    "    return ss_ret_labels\n",
    "    "
   ]
  },
  {
   "cell_type": "code",
   "execution_count": 77,
   "metadata": {},
   "outputs": [],
   "source": [
    "def WCN(pdb_loc,scheme_e,WT):\n",
    "    r0=7.0\n",
    "    pdb=md.load(pdb_loc)\n",
    "    topology=pdb.topology\n",
    "    chainA=topology.select('chainid 0 and protein')\n",
    "    pdb_chain0=pdb.atom_slice(chainA)\n",
    "    pdb_dist,pdb_rp=md.compute_contacts(pdb_chain0,scheme=scheme_e,periodic=False)\n",
    "    \n",
    "    cm= md.geometry.squareform(pdb_dist,pdb_rp)[0]\n",
    "    wcn=np.zeros((len(WT)),dtype=float)\n",
    "    \n",
    "    cm_adj=np.empty((len(WT),len(WT)),dtype=float)\n",
    "    cm_adj[:]=np.nan\n",
    "    chainA_top=pdb_chain0.topology\n",
    "    \n",
    "    for i in range(cm.shape[0]):\n",
    "        for j in range(cm.shape[1]):\n",
    "            if i==0 and j==0:\n",
    "                print(str(chainA_top.residue(i)))\n",
    "            cm_adj[int(str(chainA_top.residue(i))[3:])-1,int(str(chainA_top.residue(j))[3:])-1]=cm[i,j]\n",
    "    for i in range(len(WT)):\n",
    "        nan_flag=True\n",
    "        for j in range(len(WT)):\n",
    "            if np.isnan(cm_adj[i,j])!=True and cm_adj[i,j]!=0.0:\n",
    "                nan_flag=False\n",
    "                wcn[i]+=(1-(cm_adj[i,j]*10/r0)**6)/(1-(cm_adj[i,j]*10/r0)**12)\n",
    "        if nan_flag==True:\n",
    "            wcn[i]=np.nan\n",
    "    return wcn"
   ]
  },
  {
   "cell_type": "code",
   "execution_count": 78,
   "metadata": {},
   "outputs": [],
   "source": [
    "def neighbor_scores(score,ext_range):\n",
    "    score_neighborhood=np.zeros(len(score),dtype=float)\n",
    "    for i in range(len(score)):\n",
    "        if np.isnan(score[i])!=True:\n",
    "            count_nan=0\n",
    "            if i==0:\n",
    "                for j in range(1,ext_range+1):\n",
    "                    if np.isnan(score[j])==False:\n",
    "                        score_neighborhood[i]+=score[j]\n",
    "                    else:\n",
    "                        count_nan+=1\n",
    "                if count_nan!=ext_range:    \n",
    "                    score_neighborhood[i]/=(ext_range)\n",
    "                else:\n",
    "                    score_neighborhood[i]=np.nan\n",
    "\n",
    "            elif i==(len(score)-1):\n",
    "                for j in range(len(score)-1-ext_range,len(score)-1):\n",
    "                    if np.isnan(score[j])==False:\n",
    "                        score_neighborhood[i]+=score[j]\n",
    "                    else:\n",
    "                        count_nan+=1\n",
    "                if count_nan!=ext_range: \n",
    "                    score_neighborhood[i]/=ext_range\n",
    "                else:\n",
    "                    score_neighborhood[i]=np.nan                \n",
    "            elif i<ext_range:\n",
    "                for j in range(0,i+ext_range+1):\n",
    "                    if j!=i:\n",
    "                        if np.isnan(score[j])==False:\n",
    "                            score_neighborhood[i]+=score[j]\n",
    "                        else:\n",
    "                            count_nan+=1\n",
    "                if count_nan!=(i+ext_range):    \n",
    "                    score_neighborhood[i]/=(i+ext_range)\n",
    "                else:\n",
    "                    score_neighborhood[i]=np.nan                        \n",
    "\n",
    "            elif i>(len(score)-1-ext_range):\n",
    "                for j in range(i-ext_range,len(score)):\n",
    "                    if j!=i:\n",
    "                        if np.isnan(score[j])==False:\n",
    "                            score_neighborhood[i]+=score[j]\n",
    "                        else:\n",
    "                            count_nan+=1\n",
    "                if count_nan!=(len(score)-i+ext_range):                     \n",
    "                    score_neighborhood[i]/=(len(score)-i+ext_range)\n",
    "                else:\n",
    "                    score_neighborhood[i]=np.nan  \n",
    "            else:\n",
    "                for j in range(i-ext_range,i+ext_range+1):\n",
    "                    if j!=i:\n",
    "                        if np.isnan(score[j])==False:\n",
    "                            score_neighborhood[i]+=score[j]\n",
    "                        else:\n",
    "                            count_nan+=1\n",
    "                if count_nan!=(2*ext_range):  \n",
    "                    score_neighborhood[i]/=(2*ext_range)\n",
    "                else:\n",
    "                    score_neighborhood[i]=np.nan             \n",
    "        else:\n",
    "            score_neighborhood[i]=np.nan\n",
    "    return score_neighborhood"
   ]
  },
  {
   "cell_type": "code",
   "execution_count": 79,
   "metadata": {},
   "outputs": [],
   "source": [
    "def label_category(output,threshold):\n",
    "    labels=[]\n",
    "    if output.ndim==1:\n",
    "        labels=np.copy(output)\n",
    "        labels[:]=np.nan\n",
    "        for i in range(len(output)):\n",
    "            if output[i]<threshold:\n",
    "                labels[i]=0\n",
    "            else:\n",
    "                labels[i]=1\n",
    "    else:\n",
    "        labels=np.copy(output)\n",
    "        labels[:]=np.nan\n",
    "        for i in range(output.shape[0]):\n",
    "            for j in range(output.shape[1]):\n",
    "                if output[i,j]<threshold:\n",
    "                    labels[i,j]=1\n",
    "                else:\n",
    "                    labels[i,j]=0\n",
    "    return labels"
   ]
  },
  {
   "cell_type": "code",
   "execution_count": 80,
   "metadata": {},
   "outputs": [],
   "source": [
    "def features_classification(list_features_x,list_output_y,WT):\n",
    "    \n",
    "    X=[]\n",
    "    Y=[]\n",
    "    mapping_pos=[] \n",
    "    \n",
    "    for i in range(len(WT)):\n",
    "        for j in range(20):\n",
    "            if j!=(alphabetAA_L_D[WT[i]]-1):\n",
    "                temp_x=[]\n",
    "                temp_y=[]\n",
    "                cond=True\n",
    "\n",
    "                for elem in list_features_x:\n",
    "                    if elem.ndim==1:\n",
    "                        if np.isnan(elem[i])==True:\n",
    "                            cond=False\n",
    "                    else:\n",
    "                        if np.isnan(elem[i,j])==True:\n",
    "                            cond=False    \n",
    "                \n",
    "                for elem in list_output_y:\n",
    "                    if elem.ndim==1:\n",
    "                        if np.isnan(elem[i])==True:\n",
    "                            cond=False\n",
    "                    else:\n",
    "                        if np.isnan(elem[i,j])==True:\n",
    "                            cond=False \n",
    "\n",
    "                if cond==True:\n",
    "                    \n",
    "                    for elem in list_features_x:\n",
    "                        if elem.ndim==1:\n",
    "                            temp_x.append(elem[i])\n",
    "                        else:\n",
    "                            temp_x.append(elem[i,j])\n",
    "\n",
    "                    for elem in list_output_y:\n",
    "                        if elem.ndim==1:\n",
    "                            temp_y.append(elem[i])\n",
    "                        else:\n",
    "                            temp_y.append(elem[i,j])\n",
    "                    \n",
    "                if len(temp_x)>0:\n",
    "                    X.append(temp_x)\n",
    "                    Y.append(temp_y)\n",
    "                    mapping_pos.append([i,j])\n",
    "        \n",
    "    return np.array(X),Y,mapping_pos        "
   ]
  },
  {
   "cell_type": "code",
   "execution_count": 81,
   "metadata": {},
   "outputs": [],
   "source": [
    "def features_classification(list_features_x,list_output_y,WT):\n",
    "    \n",
    "    X=[]\n",
    "    Y=[]\n",
    "    mapping_pos=[] \n",
    "    \n",
    "    for i in range(len(WT)):\n",
    "        for j in range(20):\n",
    "            if j!=(alphabetAA_L_D[WT[i]]-1):\n",
    "                temp_x=[]\n",
    "                temp_y=[]\n",
    "                cond=True\n",
    "\n",
    "                for elem in list_features_x:\n",
    "                    if elem.ndim==1:\n",
    "                        if np.isnan(elem[i])==True:\n",
    "                            cond=False\n",
    "                    else:\n",
    "                        if np.isnan(elem[i,j])==True:\n",
    "                            cond=False    \n",
    "                \n",
    "                for elem in list_output_y:\n",
    "                    if elem.ndim==1:\n",
    "                        if np.isnan(elem[i])==True:\n",
    "                            cond=False\n",
    "                    else:\n",
    "                        if np.isnan(elem[i,j])==True:\n",
    "                            cond=False \n",
    "\n",
    "                if cond==True:\n",
    "                    \n",
    "                    for elem in list_features_x:\n",
    "                        if elem.ndim==1:\n",
    "                            temp_x.append(elem[i])\n",
    "                        else:\n",
    "                            temp_x.append(elem[i,j])\n",
    "\n",
    "                    for elem in list_output_y:\n",
    "                        if elem.ndim==1:\n",
    "                            temp_y.append(elem[i])\n",
    "                        else:\n",
    "                            temp_y.append(elem[i,j])\n",
    "                    \n",
    "                if len(temp_x)>0:\n",
    "                    X.append(temp_x)\n",
    "                    Y.append(temp_y)\n",
    "                    mapping_pos.append([i,j])\n",
    "        \n",
    "    return np.array(X),Y,mapping_pos        "
   ]
  },
  {
   "cell_type": "code",
   "execution_count": 82,
   "metadata": {},
   "outputs": [],
   "source": [
    "def features_validation(list_features_x,WT):\n",
    "    \n",
    "    X=[]\n",
    "    mapping_pos=[] \n",
    "    \n",
    "    for i in range(len(WT)):\n",
    "        for j in range(20):\n",
    "            if j!=(alphabetAA_L_D[WT[i]]-1):\n",
    "                temp_x=[]\n",
    "                temp_y=[]\n",
    "                cond=True\n",
    "\n",
    "                for elem in list_features_x:\n",
    "                    if elem.ndim==1:\n",
    "                        if np.isnan(elem[i])==True:\n",
    "                            cond=False\n",
    "                    else:\n",
    "                        if np.isnan(elem[i,j])==True:\n",
    "                            cond=False    \n",
    "            \n",
    "\n",
    "                if cond==True:\n",
    "                    \n",
    "                    for elem in list_features_x:\n",
    "                        if elem.ndim==1:\n",
    "                            temp_x.append(elem[i])\n",
    "                        else:\n",
    "                            temp_x.append(elem[i,j])\n",
    "                    \n",
    "                if len(temp_x)>0:\n",
    "                    X.append(temp_x)\n",
    "                    mapping_pos.append([i,j])\n",
    "        \n",
    "    return np.array(X),mapping_pos        "
   ]
  },
  {
   "cell_type": "code",
   "execution_count": 83,
   "metadata": {},
   "outputs": [],
   "source": [
    "def binary_threshold(data_x,data_y,t_x,t_y):\n",
    "    labels=np.copy(data_x)\n",
    "    labels[:]=np.nan\n",
    "    \n",
    "    for i in range(data_x.shape[0]):\n",
    "        for j in range(data_x.shape[1]):\n",
    "            if np.isnan(data_x[i,j])!= True and np.isnan(data_y[i,j])!=True:\n",
    "                if data_x[i,j] > t_x and data_y[i,j]<t_y:\n",
    "                    labels[i,j]=1\n",
    "                else:\n",
    "                    labels[i,j]=0\n",
    "    \n",
    "    return labels"
   ]
  },
  {
   "cell_type": "code",
   "execution_count": 84,
   "metadata": {},
   "outputs": [],
   "source": [
    "def multiclass_threshold(data_x,data_y,t_x,t_y):\n",
    "    labels=np.copy(data_x)\n",
    "    labels[:]=np.nan\n",
    "    \n",
    "    for i in range(data_x.shape[0]):\n",
    "        for j in range(data_x.shape[1]):\n",
    "            if np.isnan(data_x[i,j])!= True and np.isnan(data_y[i,j])!=True:\n",
    "                if data_x[i,j] > t_x and data_y[i,j]<t_y:\n",
    "                    labels[i,j]=1\n",
    "                elif data_x[i,j] < t_x and data_y[i,j]<t_y:\n",
    "                    labels[i,j]=2\n",
    "                elif data_x[i,j] < t_x and data_y[i,j]>t_y:\n",
    "                    labels[i,j]=3\n",
    "                else:\n",
    "                    labels[i,j]=0\n",
    "    \n",
    "    return labels"
   ]
  },
  {
   "cell_type": "code",
   "execution_count": 85,
   "metadata": {},
   "outputs": [],
   "source": [
    "def prob_to_label(probability,thr):\n",
    "    labels=np.zeros(probability.shape[0],dtype=int)\n",
    "    for i in range(probability.shape[0]):\n",
    "        if probability[i][1]>thr:\n",
    "            labels[i]=1\n",
    "            #print(1)\n",
    "        else:\n",
    "            labels[i]=0\n",
    "            #print(0)\n",
    "    return labels"
   ]
  },
  {
   "cell_type": "code",
   "execution_count": 86,
   "metadata": {},
   "outputs": [],
   "source": [
    "def pairplot_features_class(list_feature,name_features,namefile,class_coloured):\n",
    "    df=pd.DataFrame(list_feature,columns=name_features)\n",
    "    if class_coloured==1:\n",
    "        sns_plot=sns.pairplot(df,vars=name_features[:-1],hue='Y',palette={0:'w',1:'b'})\n",
    "    elif class_coloured==0:\n",
    "        sns_plot=sns.pairplot(df,vars=name_features[:-1],hue='Y',palette={-1:'w',0:'r'}) \n",
    "    else:\n",
    "        sns_plot=sns.pairplot(df,vars=name_features[:-1],hue='Y')         \n",
    "    sns_plot.savefig(namefile)"
   ]
  },
  {
   "cell_type": "code",
   "execution_count": 87,
   "metadata": {},
   "outputs": [],
   "source": [
    "def AS_CA_distance(CA_coord,AS_pos,target):\n",
    "    AS_baricenter=np.zeros((3,1),dtype=float)\n",
    "    \n",
    "    for i in AS_pos:\n",
    "        if np.isnan(CA_coord[i-1,:]).any():\n",
    "            print(f'WARNING - no active site coordinates in pdb for position: {i}')\n",
    "        else:\n",
    "            AS_baricenter[0]+=CA_coord[i-1,0]\n",
    "            AS_baricenter[1]+=CA_coord[i-1,1]\n",
    "            AS_baricenter[2]+=CA_coord[i-1,2]\n",
    "        \n",
    "    AS_baricenter=AS_baricenter/len(AS_pos)\n",
    "\n",
    "    dist=[-1.0]\n",
    "    \n",
    "    if np.isnan(CA_coord[target-1,:]).any():   \n",
    "        print(f'WARNING - no target coordinates in pdb for position: {target}')\n",
    "    else:\n",
    "        dist=sp.sqrt((AS_baricenter[0]-CA_coord[target-1,0])**2+(AS_baricenter[1]-CA_coord[target-1,1])**2+(AS_baricenter[2]-CA_coord[target-1,2])**2)\n",
    "    \n",
    "    return dist[0]"
   ]
  },
  {
   "cell_type": "markdown",
   "metadata": {
    "toc-hr-collapsed": false
   },
   "source": [
    "## Load training dataset"
   ]
  },
  {
   "cell_type": "markdown",
   "metadata": {},
   "source": [
    "#### Sequences"
   ]
  },
  {
   "cell_type": "code",
   "execution_count": 88,
   "metadata": {
    "tags": []
   },
   "outputs": [],
   "source": [
    "CYP2C9_WT_sequence=\"MDSLVVLVLCLSCLLLLSLWRQSSGRGKLPPGPTPLPVIGNILQIGIKDISKSLTNLSKVYGPVFTLYFGLKPIVVLHGYEAVKEALIDLGEEFSGRGIFPLAERANRGFGIVFSNGKKWKEIRRFSLMTLRNFGMGKRSIEDRVQEEARCLVEELRKTKASPCDPTFILGCAPCNVICSIIFHKRFDYKDQQFLNLMEKLNENIKILSSPWIQICNNFSPIIDYFPGTHNKLLKNVAFMKSYILEKVKEHQESMDMNNPQDFIDCFLMKMEKEKHNQPSEFTIESLENTAVDLFGAGTETTSTTLRYALLLLLKHPEVTAKVQEEIERVIGRNRSPCMQDRSHMPYTDAVVHEVQRYIDLLPTSLPHAVTCDIKFRNYLIPKGTTILISLTSVLHDNKEFPNPEMFDPHHFLDEGGNFKKSKYFMPFSAGKRICVGEALAGMELFLFLTSILQNFNLKSLVDPKNLDTTPVVNGFASVPPFYQLCFIPV\""
   ]
  },
  {
   "cell_type": "code",
   "execution_count": 89,
   "metadata": {
    "tags": []
   },
   "outputs": [],
   "source": [
    "CYP2C9_WT_seq_rose=\"-----------------------------PPGPTPLPVIGNILQIGIKDISKSLTNLSKVYGPVFTLYFGLKPIVVLHGYEAVKEALIDLGEEFSGRGIFPLAERANRGFGIVFSNGKKWKEIRRFSLMTLRNFGMGKRSIEDRVQEEARCLVEELRKTKASPCDPTFILGCAPCNVICSIIFHKRFDYKDQQFLNLMEKLNENIEILSSPWIQVYNNFPALLDYFPGTHNKLLKNVAFMKSYILEKVKEHQESMDMNNPQDFIDCFLMKMEKEKHNQPSEFTIESLENTAVDLFGAGTETTSTTLRYALLLLLKHPEVTAKVQEEIERVIGRNRSPCMQDRSHMPYTDAVVHEVQRYIDLLPTSLPHAVTCDIKFRNYLIPKGTTILISLTSVLHDNKEFPNPEMFDPHHFLDEGGNFKKSKYFMPFSAGKRICVGEALAGMELFLFLTSILQNFNLKSLVDPKNLDTTPVVNGFASVPPFYQLCFIPV\""
   ]
  },
  {
   "cell_type": "code",
   "execution_count": 90,
   "metadata": {
    "tags": []
   },
   "outputs": [],
   "source": [
    "NUDT15_WT_sequence=\"MTASAQPRGRRPGVGVGVVVTSCKHPRCVLLGKRKGSVGAGSFQLPGGHLEFGETWEECAQRETWEEAALHLKNVHFASVVNSFIEKENYHYVTILMKGEVDVTHDSEPKNVEPEKNESWEWVPWEELPPLDQLFWGLRCLKEQGYDPFKEDLNHLVGYKGNHL\""
   ]
  },
  {
   "cell_type": "code",
   "execution_count": 91,
   "metadata": {
    "tags": []
   },
   "outputs": [],
   "source": [
    "PTEN_WT_sequence=\"MTAIIKEIVSRNKRRYQEDGFDLDLTYIYPNIIAMGFPAERLEGVYRNNIDDVVRFLDSKHKNHYKIYNLCAERHYDTAKFNCRVAQYPFEDHNPPQLELIKPFCEDLDQWLSEDDNHVAAIHCKAGKGRTGVMICAYLLHRGKFLKAQEALDFYGEVRTRDKKGVTIPSQRRYVYYYSYLLKNHLDYRPVALLFHKMMFETIPMFSGGTCNPQFVVCQLKVKIYSSNSGPTRREDKFMYFEFPQPLPVCGDIKVEFFHKQNKMLKKDKMFHFWVNTFFIPGPEETSEKVENGSLCDQEIDSICSIERADNDKEYLVLTLTKNDLDKANKDKANRYFSPNFKVKLYFTKTVEEPSNPEASSSTSVTPDVSDNEPDHYRYSDTTDSDPENEPFDEDQHTQITKV\""
   ]
  },
  {
   "cell_type": "markdown",
   "metadata": {
    "toc-hr-collapsed": true
   },
   "source": [
    "### MAVE datasets:"
   ]
  },
  {
   "cell_type": "markdown",
   "metadata": {},
   "source": [
    "#### CYP2C9"
   ]
  },
  {
   "cell_type": "code",
   "execution_count": 92,
   "metadata": {
    "tags": []
   },
   "outputs": [],
   "source": [
    "df=pd.read_csv('../score_maves/CYP2C9_data.csv',sep=',')\n",
    "mutation_load=np.array(df.iloc[:,0])\n",
    "score_funct=np.array(df.iloc[:,6])\n",
    "score_abund=np.array(df.iloc[:,17])"
   ]
  },
  {
   "cell_type": "markdown",
   "metadata": {},
   "source": [
    "- Functional scores"
   ]
  },
  {
   "cell_type": "code",
   "execution_count": 93,
   "metadata": {
    "tags": []
   },
   "outputs": [],
   "source": [
    "CYP2C9_function=np.empty((len(CYP2C9_WT_sequence),20),dtype=float)\n",
    "CYP2C9_function[:]=np.nan"
   ]
  },
  {
   "cell_type": "code",
   "execution_count": 94,
   "metadata": {
    "tags": []
   },
   "outputs": [],
   "source": [
    "for i in range(len(mutation_load)):\n",
    "    if score_funct[i] != 'NaN' and (mutation_load[i][-1:])!='~' and mutation_load[i][-1:]!='*' and mutation_load[i][-1:]!='X' and mutation_load[i] !=\"WT\":\n",
    "        CYP2C9_function[int(mutation_load[i][1:-1])-1, alphabetAA_L_D[mutation_load[i][-1:]]-1]=float(score_funct[i])"
   ]
  },
  {
   "cell_type": "markdown",
   "metadata": {},
   "source": [
    "- VAMP-seq scores"
   ]
  },
  {
   "cell_type": "code",
   "execution_count": 95,
   "metadata": {
    "tags": []
   },
   "outputs": [],
   "source": [
    "CYP2C9_abundance=np.empty((len(CYP2C9_WT_sequence),20),dtype=float)\n",
    "CYP2C9_abundance[:]=np.nan"
   ]
  },
  {
   "cell_type": "code",
   "execution_count": 96,
   "metadata": {
    "tags": []
   },
   "outputs": [],
   "source": [
    "for i in range(len(mutation_load)):\n",
    "    if score_abund[i] != 'NaN' and (mutation_load[i][-1:])!='~' and mutation_load[i][-1:]!='*' and mutation_load[i][-1:]!='X' and mutation_load[i] !=\"WT\":\n",
    "        CYP2C9_abundance[int(mutation_load[i][1:-1])-1, alphabetAA_L_D[mutation_load[i][-1:]]-1]=float(score_abund[i])"
   ]
  },
  {
   "cell_type": "markdown",
   "metadata": {},
   "source": [
    "#### NUDT15"
   ]
  },
  {
   "cell_type": "markdown",
   "metadata": {},
   "source": [
    "- Functional scores:"
   ]
  },
  {
   "cell_type": "code",
   "execution_count": 97,
   "metadata": {
    "tags": []
   },
   "outputs": [],
   "source": [
    "df=pd.read_excel('../score_maves/NUDT15_scores_pnas.xlsx', index_col=0,header=2)\n",
    "mutation_load=np.array(df.iloc[:,2])\n",
    "mutation_position=np.array(df.iloc[:,3])\n",
    "score_funct=np.array(df.iloc[:,7])\n",
    "score_abund=np.array(df.iloc[:,5])"
   ]
  },
  {
   "cell_type": "code",
   "execution_count": 98,
   "metadata": {
    "tags": []
   },
   "outputs": [],
   "source": [
    "NUDT15_function=np.empty((len(NUDT15_WT_sequence),20),dtype=float)\n",
    "NUDT15_function[:]=np.nan"
   ]
  },
  {
   "cell_type": "code",
   "execution_count": 99,
   "metadata": {
    "tags": []
   },
   "outputs": [],
   "source": [
    "for i in range(len(mutation_load)):\n",
    "    if score_funct[i] != ' NA':\n",
    "        NUDT15_function[int(mutation_position[i])-1, alphabetAA_L_D[mutation_load[i][len(mutation_load[i])-1]]-1]=float(score_funct[i])"
   ]
  },
  {
   "cell_type": "code",
   "execution_count": 100,
   "metadata": {
    "tags": []
   },
   "outputs": [],
   "source": [
    "NUDT15_function_norm=normalize_minmax(NUDT15_function)"
   ]
  },
  {
   "cell_type": "markdown",
   "metadata": {},
   "source": [
    "- VAMP-seq scores"
   ]
  },
  {
   "cell_type": "code",
   "execution_count": 101,
   "metadata": {
    "tags": []
   },
   "outputs": [],
   "source": [
    "NUDT15_abundance=np.empty((len(NUDT15_WT_sequence),20),dtype=float)\n",
    "NUDT15_abundance[:]=np.nan"
   ]
  },
  {
   "cell_type": "code",
   "execution_count": 102,
   "metadata": {
    "tags": []
   },
   "outputs": [],
   "source": [
    "for i in range(len(mutation_load)):\n",
    "    if score_abund[i] != ' NA':\n",
    "        NUDT15_abundance[int(mutation_position[i])-1, alphabetAA_L_D[mutation_load[i][len(mutation_load[i])-1]]-1]=float(score_abund[i])"
   ]
  },
  {
   "cell_type": "code",
   "execution_count": 103,
   "metadata": {
    "tags": []
   },
   "outputs": [],
   "source": [
    "NUDT15_abundance_norm=normalize_minmax(NUDT15_abundance)"
   ]
  },
  {
   "cell_type": "markdown",
   "metadata": {},
   "source": [
    "#### PTEN"
   ]
  },
  {
   "cell_type": "markdown",
   "metadata": {},
   "source": [
    "- Functional scores:"
   ]
  },
  {
   "cell_type": "code",
   "execution_count": 104,
   "metadata": {
    "tags": []
   },
   "outputs": [],
   "source": [
    "df = pd.read_excel (r'../score_maves/PTEN_MAVE_act.xlsx', sheet_name='scores',header=1)\n",
    "mutation_load=np.array(df.iloc[:,0])\n",
    "score_funct=np.array(df.iloc[:,6])"
   ]
  },
  {
   "cell_type": "code",
   "execution_count": 105,
   "metadata": {
    "tags": []
   },
   "outputs": [],
   "source": [
    "PTEN_function=np.empty((len(PTEN_WT_sequence),20),dtype=float)\n",
    "PTEN_function[:]=np.nan"
   ]
  },
  {
   "cell_type": "code",
   "execution_count": 106,
   "metadata": {
    "tags": []
   },
   "outputs": [],
   "source": [
    "for i in range(len(mutation_load)):\n",
    "    if score_funct[i] != 'NaN' and (mutation_load[i][-1:])!='~' and mutation_load[i][-1:]!='*':\n",
    "        PTEN_function[int(mutation_load[i][1:-1])-1, alphabetAA_L_D[mutation_load[i][-1:]]-1]=float(score_funct[i])"
   ]
  },
  {
   "cell_type": "code",
   "execution_count": 107,
   "metadata": {
    "tags": []
   },
   "outputs": [],
   "source": [
    "PTEN_function_norm=normalize_minmax(PTEN_function)"
   ]
  },
  {
   "cell_type": "markdown",
   "metadata": {},
   "source": [
    "- VAMP-seq scores"
   ]
  },
  {
   "cell_type": "code",
   "execution_count": 108,
   "metadata": {
    "tags": []
   },
   "outputs": [],
   "source": [
    "df=pd.read_csv('../score_maves/PTEN_VAMP_seq.csv',sep=',')\n",
    "mutation_load=np.array(df.iloc[:,2],dtype=str)\n",
    "score_abund=np.array(df.iloc[:,3])"
   ]
  },
  {
   "cell_type": "code",
   "execution_count": 109,
   "metadata": {
    "tags": []
   },
   "outputs": [],
   "source": [
    "PTEN_abundance=np.empty((len(PTEN_WT_sequence),20),dtype=float)\n",
    "PTEN_abundance[:]=np.nan"
   ]
  },
  {
   "cell_type": "code",
   "execution_count": 110,
   "metadata": {
    "tags": []
   },
   "outputs": [],
   "source": [
    "for i in range(len(mutation_load)):\n",
    "    if score_abund[i] != 'NaN' and mutation_load[i][-1:]!='=' and alphabetAA_3L_1L[mutation_load[i][-3:]]!='*':  \n",
    "        PTEN_abundance[int(mutation_load[i][5:-3])-1, alphabetAA_L_D[alphabetAA_3L_1L[mutation_load[i][-3:]]]-1]=float(score_abund[i])"
   ]
  },
  {
   "cell_type": "code",
   "execution_count": 111,
   "metadata": {
    "tags": []
   },
   "outputs": [],
   "source": [
    "PTEN_abundance_norm=normalize_minmax(PTEN_abundance)"
   ]
  },
  {
   "cell_type": "markdown",
   "metadata": {
    "toc-hr-collapsed": false
   },
   "source": [
    "### COMPUTATIONAL datasets:"
   ]
  },
  {
   "cell_type": "markdown",
   "metadata": {},
   "source": [
    "#### NUDT15"
   ]
  },
  {
   "cell_type": "markdown",
   "metadata": {},
   "source": [
    "- GEMME"
   ]
  },
  {
   "cell_type": "code",
   "execution_count": 113,
   "metadata": {
    "tags": []
   },
   "outputs": [],
   "source": [
    "NUDT15_GEMME=load_data_V2('../scores_GEMME/prism_gemme_Q9NV35.txt',NUDT15_WT_sequence)\n",
    "NUDT15_GEMME=remove_WT_score(NUDT15_GEMME,NUDT15_WT_sequence)"
   ]
  },
  {
   "cell_type": "code",
   "execution_count": 114,
   "metadata": {
    "tags": []
   },
   "outputs": [],
   "source": [
    "NUDT15_GEMME_mean=position_mean(NUDT15_GEMME)"
   ]
  },
  {
   "cell_type": "markdown",
   "metadata": {},
   "source": [
    "- Rosetta ddG"
   ]
  },
  {
   "cell_type": "code",
   "execution_count": 116,
   "metadata": {
    "tags": []
   },
   "outputs": [],
   "source": [
    "NUDT15_rosetta_ddg=load_data_V2('../scores_rosetta/prism_rosetta_ddg_Q9NV35.txt',NUDT15_WT_sequence)\n",
    "NUDT15_rosetta_ddg=NUDT15_rosetta_ddg/2.9\n",
    "NUDT15_rosetta_ddg=remove_WT_score(NUDT15_rosetta_ddg,NUDT15_WT_sequence)"
   ]
  },
  {
   "cell_type": "code",
   "execution_count": 117,
   "metadata": {
    "tags": []
   },
   "outputs": [],
   "source": [
    "NUDT15_rosetta_ddg_norm=normalize_cutoff(NUDT15_rosetta_ddg,0.0,5.0)"
   ]
  },
  {
   "cell_type": "code",
   "execution_count": 118,
   "metadata": {
    "tags": []
   },
   "outputs": [],
   "source": [
    "NUDT15_rosetta_ddg_mean=position_mean(NUDT15_rosetta_ddg_norm)"
   ]
  },
  {
   "cell_type": "code",
   "execution_count": 120,
   "metadata": {
    "tags": []
   },
   "outputs": [
    {
     "name": "stdout",
     "output_type": "stream",
     "text": [
      "Wt-like variants: 1243  ( 0.44031172511512573 )\n"
     ]
    },
    {
     "data": {
      "image/png": "[encoded data removed]",
      "text/plain": [
       "<Figure size 640x480 with 1 Axes>"
      ]
     },
     "metadata": {},
     "output_type": "display_data"
    }
   ],
   "source": [
    "score_histogram(NUDT15_rosetta_ddg,25,'#d55c00','\\u0394\\u0394G [kcal/mol]',True,0.5)\n",
    "plt.tight_layout()\n",
    "#plt.savefig('./Figures/NUDT15_rosetta_pre_norm.pdf')"
   ]
  },
  {
   "cell_type": "code",
   "execution_count": 121,
   "metadata": {
    "tags": []
   },
   "outputs": [
    {
     "name": "stdout",
     "output_type": "stream",
     "text": [
      "Wt-like variants: 1318  ( 0.4668792065178888 )\n"
     ]
    },
    {
     "data": {
      "image/png": "[encoded data removed]",
      "text/plain": [
       "<Figure size 640x480 with 1 Axes>"
      ]
     },
     "metadata": {},
     "output_type": "display_data"
    }
   ],
   "source": [
    "score_histogram(NUDT15_rosetta_ddg_norm,25,'#d55c00','\\u0394\\u0394G [kcal/mol]',True,0.5)\n",
    "plt.tight_layout()\n",
    "#plt.savefig('./Figures/NUDT15_rosetta_post_norm.pdf')"
   ]
  },
  {
   "cell_type": "markdown",
   "metadata": {},
   "source": [
    "#### PTEN"
   ]
  },
  {
   "cell_type": "code",
   "execution_count": 123,
   "metadata": {
    "tags": []
   },
   "outputs": [],
   "source": [
    "PTEN_GEMME=load_data_V2('../scores_GEMME/prism_gemme_P60484.txt',PTEN_WT_sequence)\n",
    "PTEN_GEMME=remove_WT_score(PTEN_GEMME,PTEN_WT_sequence)"
   ]
  },
  {
   "cell_type": "code",
   "execution_count": 124,
   "metadata": {
    "tags": []
   },
   "outputs": [],
   "source": [
    "PTEN_GEMME_mean=position_mean(PTEN_GEMME)"
   ]
  },
  {
   "cell_type": "markdown",
   "metadata": {},
   "source": [
    "- Rosetta ddG"
   ]
  },
  {
   "cell_type": "code",
   "execution_count": 125,
   "metadata": {
    "tags": []
   },
   "outputs": [],
   "source": [
    "PTEN_rosetta_ddg=load_data_V2('../scores_rosetta/prism_rosetta_ddg_P60484.txt',PTEN_WT_sequence)\n",
    "PTEN_rosetta_ddg=PTEN_rosetta_ddg\n",
    "PTEN_rosetta_ddg=remove_WT_score(PTEN_rosetta_ddg,PTEN_WT_sequence)"
   ]
  },
  {
   "cell_type": "code",
   "execution_count": 126,
   "metadata": {
    "tags": []
   },
   "outputs": [],
   "source": [
    "PTEN_rosetta_ddg_norm=normalize_cutoff(PTEN_rosetta_ddg,0.0,5.0)"
   ]
  },
  {
   "cell_type": "code",
   "execution_count": 127,
   "metadata": {
    "tags": []
   },
   "outputs": [],
   "source": [
    "PTEN_rosetta_ddg_mean=position_mean(PTEN_rosetta_ddg_norm)"
   ]
  },
  {
   "cell_type": "code",
   "execution_count": 128,
   "metadata": {
    "tags": []
   },
   "outputs": [
    {
     "name": "stdout",
     "output_type": "stream",
     "text": [
      "Wt-like variants: 4178  ( 0.7538794658967881 )\n"
     ]
    },
    {
     "data": {
      "image/png": "[encoded data removed]",
      "text/plain": [
       "<Figure size 640x480 with 1 Axes>"
      ]
     },
     "metadata": {},
     "output_type": "display_data"
    }
   ],
   "source": [
    "score_histogram(PTEN_rosetta_ddg,25,'#d55c00','\\u0394\\u0394G [kcal/mol]',True,0.5)\n",
    "plt.tight_layout()\n",
    "#plt.savefig('./Figures/PTEN_rosetta_pre_norm.pdf')"
   ]
  },
  {
   "cell_type": "code",
   "execution_count": 129,
   "metadata": {
    "tags": []
   },
   "outputs": [
    {
     "name": "stdout",
     "output_type": "stream",
     "text": [
      "Wt-like variants: 3735  ( 0.673944424395525 )\n"
     ]
    },
    {
     "data": {
      "image/png": "[encoded data removed]",
      "text/plain": [
       "<Figure size 640x480 with 1 Axes>"
      ]
     },
     "metadata": {},
     "output_type": "display_data"
    }
   ],
   "source": [
    "score_histogram(PTEN_rosetta_ddg_norm,25,'#d55c00','\\u0394\\u0394G [kcal/mol]',True,0.5)\n",
    "plt.tight_layout()\n",
    "#plt.savefig('./Figures/PTEN_rosetta_post_norm.pdf')"
   ]
  },
  {
   "cell_type": "markdown",
   "metadata": {},
   "source": [
    "#### CYP2C9"
   ]
  },
  {
   "cell_type": "markdown",
   "metadata": {},
   "source": [
    "- Co-evolution"
   ]
  },
  {
   "cell_type": "code",
   "execution_count": 131,
   "metadata": {
    "tags": []
   },
   "outputs": [],
   "source": [
    "CYP2C9_GEMME=load_data_V2('../scores_GEMME/prism_gemme_P11712.txt',CYP2C9_WT_sequence)\n",
    "CYP2C9_GEMME=remove_WT_score(CYP2C9_GEMME,CYP2C9_WT_sequence)"
   ]
  },
  {
   "cell_type": "code",
   "execution_count": 132,
   "metadata": {
    "tags": []
   },
   "outputs": [],
   "source": [
    "CYP2C9_GEMME_mean=position_mean(CYP2C9_GEMME)"
   ]
  },
  {
   "cell_type": "markdown",
   "metadata": {},
   "source": [
    "-  Rosetta ddG"
   ]
  },
  {
   "cell_type": "code",
   "execution_count": 133,
   "metadata": {
    "tags": []
   },
   "outputs": [],
   "source": [
    "CYP2C9_rosetta_ddg=load_data_V2(\"../scores_rosetta/prism_rosetta_ddg_P11712.txt\",CYP2C9_WT_seq_rose,29)\n",
    "CYP2C9_rosetta_ddg=remove_WT_score(CYP2C9_rosetta_ddg,CYP2C9_WT_seq_rose)"
   ]
  },
  {
   "cell_type": "code",
   "execution_count": 134,
   "metadata": {
    "tags": []
   },
   "outputs": [],
   "source": [
    "CYP2C9_rosetta_ddg_norm=normalize_cutoff(CYP2C9_rosetta_ddg,0,5)"
   ]
  },
  {
   "cell_type": "code",
   "execution_count": 135,
   "metadata": {
    "tags": []
   },
   "outputs": [],
   "source": [
    "CYP2C9_rosetta_ddg_mean=position_mean(CYP2C9_rosetta_ddg_norm)"
   ]
  },
  {
   "cell_type": "code",
   "execution_count": 136,
   "metadata": {
    "tags": []
   },
   "outputs": [
    {
     "name": "stdout",
     "output_type": "stream",
     "text": [
      "Wt-like variants: 6821  ( 0.7787418655097614 )\n"
     ]
    },
    {
     "data": {
      "image/png": "[encoded data removed]",
      "text/plain": [
       "<Figure size 640x480 with 1 Axes>"
      ]
     },
     "metadata": {},
     "output_type": "display_data"
    }
   ],
   "source": [
    "score_histogram(CYP2C9_rosetta_ddg,25,'#d55c00','\\u0394\\u0394G [kcal/mol]',True,0.5)"
   ]
  },
  {
   "cell_type": "code",
   "execution_count": 137,
   "metadata": {
    "tags": []
   },
   "outputs": [
    {
     "name": "stdout",
     "output_type": "stream",
     "text": [
      "Wt-like variants: 5937  ( 0.6778171024089508 )\n"
     ]
    },
    {
     "data": {
      "image/png": "[encoded data removed]",
      "text/plain": [
       "<Figure size 640x480 with 1 Axes>"
      ]
     },
     "metadata": {},
     "output_type": "display_data"
    }
   ],
   "source": [
    "score_histogram(CYP2C9_rosetta_ddg_norm,25,'#d55c00','\\u0394\\u0394G [kcal/mol]',True,0.5)"
   ]
  },
  {
   "cell_type": "markdown",
   "metadata": {
    "tags": []
   },
   "source": [
    "### CAVITY"
   ]
  },
  {
   "cell_type": "code",
   "execution_count": 138,
   "metadata": {
    "tags": []
   },
   "outputs": [],
   "source": [
    "NUDT15_cavity_ddg=load_data_V2('../score_RaSP/prism_cavity_Q9NV35_5lpgA.txt',NUDT15_WT_sequence,column_score=2)"
   ]
  },
  {
   "cell_type": "code",
   "execution_count": 139,
   "metadata": {
    "tags": []
   },
   "outputs": [],
   "source": [
    "NUDT15_cavity_ddg_norm=normalize_cutoff(NUDT15_cavity_ddg,0.0,5.0)"
   ]
  },
  {
   "cell_type": "code",
   "execution_count": 140,
   "metadata": {
    "tags": []
   },
   "outputs": [],
   "source": [
    "NUDT15_cavity_ddg_mean=position_mean(NUDT15_cavity_ddg_norm)"
   ]
  },
  {
   "cell_type": "code",
   "execution_count": 141,
   "metadata": {
    "tags": []
   },
   "outputs": [
    {
     "data": {
      "text/plain": [
       "(164, 20)"
      ]
     },
     "execution_count": 141,
     "metadata": {},
     "output_type": "execute_result"
    }
   ],
   "source": [
    "NUDT15_cavity_ddg.shape"
   ]
  },
  {
   "cell_type": "code",
   "execution_count": 142,
   "metadata": {
    "tags": []
   },
   "outputs": [
    {
     "name": "stdout",
     "output_type": "stream",
     "text": [
      "Wt-like variants: 2483  ( 0.8377192982456141 )\n"
     ]
    },
    {
     "data": {
      "image/png": "[encoded data removed]",
      "text/plain": [
       "<Figure size 640x480 with 1 Axes>"
      ]
     },
     "metadata": {},
     "output_type": "display_data"
    }
   ],
   "source": [
    "score_histogram(NUDT15_cavity_ddg,25,'#d55c00','\\u0394\\u0394G [kcal/mol]',True,0.5)"
   ]
  },
  {
   "cell_type": "code",
   "execution_count": 143,
   "metadata": {
    "tags": []
   },
   "outputs": [],
   "source": [
    "PTEN_cavity_ddg=load_data_V2('../score_RaSP/prism_cavity_P60484_1d5rA.txt',PTEN_WT_sequence,column_score=2)"
   ]
  },
  {
   "cell_type": "code",
   "execution_count": 144,
   "metadata": {
    "tags": []
   },
   "outputs": [],
   "source": [
    "PTEN_cavity_ddg_norm=normalize_cutoff(PTEN_cavity_ddg,0.0,5.0)"
   ]
  },
  {
   "cell_type": "code",
   "execution_count": 145,
   "metadata": {
    "tags": []
   },
   "outputs": [],
   "source": [
    "PTEN_cavity_ddg_mean=position_mean(PTEN_cavity_ddg_norm)"
   ]
  },
  {
   "cell_type": "code",
   "execution_count": 146,
   "metadata": {
    "tags": []
   },
   "outputs": [
    {
     "data": {
      "text/plain": [
       "(403,)"
      ]
     },
     "execution_count": 146,
     "metadata": {},
     "output_type": "execute_result"
    }
   ],
   "source": [
    "PTEN_cavity_ddg_mean.shape"
   ]
  },
  {
   "cell_type": "code",
   "execution_count": 147,
   "metadata": {
    "tags": []
   },
   "outputs": [
    {
     "name": "stdout",
     "output_type": "stream",
     "text": [
      "Wt-like variants: 4621  ( 0.7922166980970341 )\n"
     ]
    },
    {
     "data": {
      "image/png": "[encoded data removed]",
      "text/plain": [
       "<Figure size 640x480 with 1 Axes>"
      ]
     },
     "metadata": {},
     "output_type": "display_data"
    }
   ],
   "source": [
    "score_histogram(PTEN_cavity_ddg,25,'#d55c00','\\u0394\\u0394G [kcal/mol]',True,0.5)"
   ]
  },
  {
   "cell_type": "code",
   "execution_count": 148,
   "metadata": {
    "tags": []
   },
   "outputs": [],
   "source": [
    "CYP2C9_cavity_ddg=load_data_V2('../score_RaSP/prism_cavity_P11712_1og5A.txt',CYP2C9_WT_sequence,column_score=2)"
   ]
  },
  {
   "cell_type": "code",
   "execution_count": 149,
   "metadata": {
    "tags": []
   },
   "outputs": [],
   "source": [
    "CYP2C9_cavity_ddg_norm=normalize_cutoff(CYP2C9_cavity_ddg,0.0,5.0)"
   ]
  },
  {
   "cell_type": "code",
   "execution_count": 150,
   "metadata": {
    "tags": []
   },
   "outputs": [],
   "source": [
    "CYP2C9_cavity_ddg_mean=position_mean(CYP2C9_cavity_ddg_norm)"
   ]
  },
  {
   "cell_type": "code",
   "execution_count": 151,
   "metadata": {
    "tags": []
   },
   "outputs": [
    {
     "data": {
      "text/plain": [
       "(490,)"
      ]
     },
     "execution_count": 151,
     "metadata": {},
     "output_type": "execute_result"
    }
   ],
   "source": [
    "CYP2C9_cavity_ddg_mean.shape"
   ]
  },
  {
   "cell_type": "code",
   "execution_count": 152,
   "metadata": {
    "tags": []
   },
   "outputs": [
    {
     "name": "stdout",
     "output_type": "stream",
     "text": [
      "Wt-like variants: 7068  ( 0.806941431670282 )\n"
     ]
    },
    {
     "data": {
      "image/png": "[encoded data removed]",
      "text/plain": [
       "<Figure size 640x480 with 1 Axes>"
      ]
     },
     "metadata": {},
     "output_type": "display_data"
    }
   ],
   "source": [
    "score_histogram(CYP2C9_cavity_ddg,25,'#d55c00','\\u0394\\u0394G [kcal/mol]',True,0.5)"
   ]
  },
  {
   "cell_type": "markdown",
   "metadata": {
    "toc-hr-collapsed": true
   },
   "source": [
    "### Hydrophobicity"
   ]
  },
  {
   "cell_type": "markdown",
   "metadata": {},
   "source": [
    "#### NUDT15"
   ]
  },
  {
   "cell_type": "code",
   "execution_count": 153,
   "metadata": {
    "tags": []
   },
   "outputs": [],
   "source": [
    "NUDT15_hydrophobicity_mut=np.empty((len(NUDT15_WT_sequence),20),dtype=float)\n",
    "NUDT15_hydrophobicity_mut[:]=np.nan"
   ]
  },
  {
   "cell_type": "code",
   "execution_count": 154,
   "metadata": {
    "tags": []
   },
   "outputs": [],
   "source": [
    "for i in range(len(NUDT15_WT_sequence)):\n",
    "    for j in range(20):\n",
    "        NUDT15_hydrophobicity_mut[i,j]=AA_to_hydrophobicity_scores[alphabetAA_D_L[j+1]]"
   ]
  },
  {
   "cell_type": "markdown",
   "metadata": {},
   "source": [
    "#### PTEN"
   ]
  },
  {
   "cell_type": "code",
   "execution_count": 155,
   "metadata": {
    "tags": []
   },
   "outputs": [],
   "source": [
    "PTEN_hydrophobicity_mut=np.empty((len(PTEN_WT_sequence),20),dtype=float)\n",
    "PTEN_hydrophobicity_mut[:]=np.nan"
   ]
  },
  {
   "cell_type": "code",
   "execution_count": 156,
   "metadata": {
    "tags": []
   },
   "outputs": [],
   "source": [
    "for i in range(len(PTEN_WT_sequence)):\n",
    "    for j in range(20):\n",
    "        PTEN_hydrophobicity_mut[i,j]=AA_to_hydrophobicity_scores[alphabetAA_D_L[j+1]]"
   ]
  },
  {
   "cell_type": "markdown",
   "metadata": {},
   "source": [
    "#### CYP2C9"
   ]
  },
  {
   "cell_type": "code",
   "execution_count": 157,
   "metadata": {
    "tags": []
   },
   "outputs": [],
   "source": [
    "CYP2C9_hydrophobicity_mut=np.empty((len(CYP2C9_WT_sequence),20),dtype=float)\n",
    "CYP2C9_hydrophobicity_mut[:]=np.nan"
   ]
  },
  {
   "cell_type": "code",
   "execution_count": 158,
   "metadata": {
    "tags": []
   },
   "outputs": [],
   "source": [
    "for i in range(len(CYP2C9_WT_sequence)):\n",
    "    for j in range(20):\n",
    "        CYP2C9_hydrophobicity_mut[i,j]=AA_to_hydrophobicity_scores[alphabetAA_D_L[j+1]]"
   ]
  },
  {
   "cell_type": "markdown",
   "metadata": {},
   "source": [
    "### WCN"
   ]
  },
  {
   "cell_type": "code",
   "execution_count": 160,
   "metadata": {
    "tags": []
   },
   "outputs": [
    {
     "name": "stdout",
     "output_type": "stream",
     "text": [
      "GLY9\n"
     ]
    }
   ],
   "source": [
    "NUDT15_wcn=WCN('../pdbs/Q9NV35_5lpg.pdb','ca',NUDT15_WT_sequence)"
   ]
  },
  {
   "cell_type": "code",
   "execution_count": 161,
   "metadata": {
    "tags": []
   },
   "outputs": [
    {
     "name": "stdout",
     "output_type": "stream",
     "text": [
      "ARG14\n"
     ]
    }
   ],
   "source": [
    "PTEN_wcn=WCN('../pdbs/P60484_1d5r.pdb','ca',PTEN_WT_sequence)"
   ]
  },
  {
   "cell_type": "code",
   "execution_count": 162,
   "metadata": {
    "tags": []
   },
   "outputs": [
    {
     "name": "stdout",
     "output_type": "stream",
     "text": [
      "PRO30\n"
     ]
    }
   ],
   "source": [
    "CYP2C9_wcn=WCN('../pdbs/P11712_1og5.pdb','ca',CYP2C9_WT_sequence)"
   ]
  },
  {
   "cell_type": "markdown",
   "metadata": {},
   "source": [
    "### Neighbor sequences scores:\n"
   ]
  },
  {
   "cell_type": "code",
   "execution_count": 163,
   "metadata": {
    "tags": []
   },
   "outputs": [],
   "source": [
    "NUDT15_rosetta_neigbor_scores=neighbor_scores(NUDT15_rosetta_ddg_mean,1)\n",
    "\n",
    "NUDT15_GEMME_neigbor_scores=neighbor_scores(NUDT15_GEMME_mean,1)\n",
    "\n",
    "PTEN_rosetta_neigbor_scores=neighbor_scores(PTEN_rosetta_ddg_mean,1)\n",
    "\n",
    "PTEN_GEMME_neigbor_scores=neighbor_scores(PTEN_GEMME_mean,1)\n",
    "\n",
    "CYP2C9_rosetta_neigbor_scores=neighbor_scores(CYP2C9_rosetta_ddg_mean,1)\n",
    "\n",
    "CYP2C9_GEMME_neigbor_scores=neighbor_scores(CYP2C9_GEMME_mean,1)"
   ]
  },
  {
   "cell_type": "code",
   "execution_count": 164,
   "metadata": {
    "tags": []
   },
   "outputs": [],
   "source": [
    "NUDT15_cavity_neigbor_scores=neighbor_scores(NUDT15_cavity_ddg_mean,1)\n",
    "\n",
    "CYP2C9_cavity_neigbor_scores=neighbor_scores(CYP2C9_cavity_ddg_mean,1)\n",
    "\n",
    "PTEN_cavity_neigbor_scores=neighbor_scores(PTEN_cavity_ddg_mean,1)"
   ]
  },
  {
   "cell_type": "markdown",
   "metadata": {},
   "source": [
    "### Threshold definition (classification): "
   ]
  },
  {
   "cell_type": "code",
   "execution_count": 165,
   "metadata": {
    "tags": []
   },
   "outputs": [],
   "source": [
    "NUDT15_labels=multiclass_threshold(NUDT15_abundance,NUDT15_function,0.38,0.51)\n",
    "PTEN_labels=multiclass_threshold(PTEN_abundance,PTEN_function,0.54,-0.9)\n",
    "CYP2C9_labels=multiclass_threshold(CYP2C9_abundance,CYP2C9_function,0.38,0.40)"
   ]
  },
  {
   "cell_type": "code",
   "execution_count": 166,
   "metadata": {
    "tags": []
   },
   "outputs": [
    {
     "name": "stdout",
     "output_type": "stream",
     "text": [
      "11335 1981 0.17476841640935156\n"
     ]
    }
   ],
   "source": [
    "count_nonan=0\n",
    "count_sbi=0\n",
    "for vec in [NUDT15_labels,PTEN_labels,CYP2C9_labels]:\n",
    "    for i in range(vec.shape[0]):\n",
    "        for j in range(vec.shape[1]):\n",
    "            if np.isnan(vec[i,j])!=True:\n",
    "                count_nonan+=1\n",
    "                if vec[i,j]==1.:\n",
    "                    count_sbi+=1\n",
    "\n",
    "print(count_nonan,count_sbi, count_sbi/count_nonan)"
   ]
  },
  {
   "cell_type": "code",
   "execution_count": 167,
   "metadata": {
    "tags": []
   },
   "outputs": [],
   "source": [
    "NUDT15_labels_mode,NUDT15_counts=sp.stats.mode(NUDT15_labels,axis=1)\n",
    "PTEN_labels_mode,PTEN_counts=sp.stats.mode(PTEN_labels,axis=1)\n",
    "CYP2C9_labels_mode,CYP2C9_counts=sp.stats.mode(CYP2C9_labels,axis=1)"
   ]
  },
  {
   "cell_type": "markdown",
   "metadata": {
    "tags": []
   },
   "source": [
    "### Training"
   ]
  },
  {
   "cell_type": "code",
   "execution_count": 175,
   "metadata": {
    "tags": []
   },
   "outputs": [],
   "source": [
    "NUDT15_Xcav,NUDT15_Ycav,NUDT15_mapcav=features_classification([NUDT15_GEMME, NUDT15_cavity_ddg_norm,NUDT15_GEMME_mean,NUDT15_cavity_ddg_mean,NUDT15_hydrophobicity_mut,NUDT15_GEMME_neigbor_scores,NUDT15_cavity_neigbor_scores,NUDT15_wcn],[NUDT15_labels],NUDT15_WT_sequence)"
   ]
  },
  {
   "cell_type": "code",
   "execution_count": 176,
   "metadata": {
    "tags": []
   },
   "outputs": [],
   "source": [
    "PTEN_Xcav,PTEN_Ycav,PTEN_mapcav=features_classification([PTEN_GEMME, PTEN_cavity_ddg_norm,PTEN_GEMME_mean,PTEN_cavity_ddg_mean,PTEN_hydrophobicity_mut,PTEN_GEMME_neigbor_scores,PTEN_cavity_neigbor_scores,PTEN_wcn],[PTEN_labels],PTEN_WT_sequence)"
   ]
  },
  {
   "cell_type": "code",
   "execution_count": 177,
   "metadata": {
    "tags": []
   },
   "outputs": [],
   "source": [
    "CYP2C9_Xcav,CYP2C9_Ycav,CYP2C9_mapcav=features_classification([CYP2C9_GEMME, CYP2C9_cavity_ddg_norm,CYP2C9_GEMME_mean,CYP2C9_cavity_ddg_mean,CYP2C9_hydrophobicity_mut,CYP2C9_GEMME_neigbor_scores,CYP2C9_cavity_neigbor_scores,CYP2C9_wcn],[CYP2C9_labels],CYP2C9_WT_sequence)"
   ]
  },
  {
   "cell_type": "code",
   "execution_count": 178,
   "metadata": {
    "tags": []
   },
   "outputs": [
    {
     "name": "stdout",
     "output_type": "stream",
     "text": [
      "9964\n",
      "9964\n"
     ]
    }
   ],
   "source": [
    "X_cav=np.concatenate((NUDT15_Xcav,PTEN_Xcav,CYP2C9_Xcav))\n",
    "print(len(X_cav))\n",
    "Y_cav=np.concatenate((NUDT15_Ycav,PTEN_Ycav,CYP2C9_Ycav))\n",
    "print(len(Y_cav))"
   ]
  },
  {
   "cell_type": "code",
   "execution_count": 179,
   "metadata": {
    "tags": []
   },
   "outputs": [],
   "source": [
    "cat_cav=CatBoostClassifier(iterations=1000, random_strength= 1, depth= 7, l2_leaf_reg= 9, bagging_temperature= 2,verbose=0,class_weights={0:1,1:2,2:1,3:0.1},random_seed=np.random.randint(0,1000))"
   ]
  },
  {
   "cell_type": "code",
   "execution_count": 180,
   "metadata": {
    "tags": []
   },
   "outputs": [
    {
     "data": {
      "text/plain": [
       "<catboost.core.CatBoostClassifier at 0x7f85d20e4e10>"
      ]
     },
     "execution_count": 180,
     "metadata": {},
     "output_type": "execute_result"
    }
   ],
   "source": [
    "cat_cav.fit(X_cav,Y_cav)"
   ]
  },
  {
   "cell_type": "code",
   "execution_count": 190,
   "metadata": {
    "tags": []
   },
   "outputs": [
    {
     "name": "stdout",
     "output_type": "stream",
     "text": [
      "MCC:  0.5195680786671614 0.5742038264765537 0.5460044061144308 0.5451252409280288\n"
     ]
    }
   ],
   "source": [
    "MCC=[0,0,0,0]\n",
    "MCC_multi=[]\n",
    "count=0\n",
    "for train_index, test_index in kfold.split(X_cav, Y_cav):\n",
    "    X_train, X_test = X_cav[train_index], X_cav[test_index]\n",
    "    Y_train, Y_test = Y_cav[train_index], Y_cav[test_index]\n",
    "    \n",
    "    cat_cav.fit(X_train,Y_train)\n",
    "    prediction=cat_cav.predict(X_test)\n",
    "\n",
    "    MCC[0]+=MCC_test_subset(prediction,Y_test)[0]\n",
    "    MCC[1]+=MCC_test_subset(prediction,Y_test)[1]\n",
    "    MCC[2]+=MCC_test_subset(prediction,Y_test)[2] \n",
    "    MCC[3]+=MCC_test_subset(prediction,Y_test)[3]\n",
    "    MCC_multi.append(MCC_test_multi(prediction,Y_test))\n",
    "    \n",
    "    count+=1\n",
    "    \n",
    "print(\"MCC: \",MCC[0]/count,MCC[1]/count,MCC[2]/count,MCC[3]/count)\n"
   ]
  },
  {
   "cell_type": "code",
   "execution_count": 184,
   "metadata": {
    "tags": []
   },
   "outputs": [],
   "source": [
    "#cat_cav.save_model('../notebooks/outputs/cat_gemme_af_cavity_***date***',format='cbm')"
   ]
  },
  {
   "cell_type": "code",
   "execution_count": 181,
   "metadata": {
    "tags": []
   },
   "outputs": [],
   "source": [
    "prediction=cat_cav.predict(PTEN_Xcav)"
   ]
  },
  {
   "cell_type": "code",
   "execution_count": 182,
   "metadata": {
    "tags": []
   },
   "outputs": [],
   "source": [
    "PTEN_MCC_compare.append(['variant_cavity_trained',MCC_test_multi(prediction,np.array(PTEN_Ycav))])"
   ]
  },
  {
   "cell_type": "code",
   "execution_count": 183,
   "metadata": {
    "tags": []
   },
   "outputs": [],
   "source": [
    "mode_prediction,percentage=retrieve_residue_label_pred(prediction,PTEN_mapcav,PTEN_WT_sequence,0.50)"
   ]
  },
  {
   "cell_type": "code",
   "execution_count": 743,
   "metadata": {},
   "outputs": [
    {
     "name": "stdout",
     "output_type": "stream",
     "text": [
      "[125, 33, 75, 0]\n"
     ]
    }
   ],
   "source": [
    "PTEN_y_pred=yellow_model_prediction(prediction,PTEN_mapcav,PTEN_Ycav)"
   ]
  },
  {
   "cell_type": "code",
   "execution_count": 179,
   "metadata": {
    "tags": []
   },
   "outputs": [
    {
     "name": "stdout",
     "output_type": "stream",
     "text": [
      "[1700, 660, 737, 0]\n",
      "[0.54891831 0.21310946 0.23797223 0.        ]\n"
     ]
    }
   ],
   "source": [
    "sum_class=[0,0,0,0]\n",
    "for i,n in enumerate(prediction):\n",
    "    sum_class[int(n)]+=1\n",
    "print(sum_class)\n",
    "print(sum_class/np.sum(sum_class))"
   ]
  },
  {
   "cell_type": "code",
   "execution_count": 745,
   "metadata": {},
   "outputs": [],
   "source": [
    "PTEN_MCC_compare.append(['position_cavity',MCC_test_multi(mode_prediction,PTEN_labels_mode)])"
   ]
  },
  {
   "cell_type": "code",
   "execution_count": 746,
   "metadata": {},
   "outputs": [
    {
     "name": "stdout",
     "output_type": "stream",
     "text": [
      "/A:28 /A:35 /A:53 /A:56 /A:57 /A:61 /A:65 /A:67 /A:68 /A:88 /A:95 /A:96 /A:98 /A:100 /A:104 /A:105 /A:107 /A:108 /A:111 /A:112 /A:118 /A:119 /A:120 /A:122 /A:133 /A:135 /A:137 /A:138 /A:139 /A:140 /A:141 /A:148 /A:151 /A:152 /A:154 /A:155 /A:170 /A:174 /A:175 /A:177 /A:178 /A:179 /A:182 /A:188 /A:193 /A:195 /A:204 /A:215 /A:217 /A:239 /A:241 /A:243 /A:247 /A:252 /A:253 /A:255 /A:257 /A:270 /A:271 /A:274 /A:275 /A:276 /A:277 /A:278 /A:279 /A:280 /A:320 /A:325 /A:337 /A:343 /A:345 /A:347 "
     ]
    }
   ],
   "source": [
    "for i,n in enumerate(mode_prediction):\n",
    "    if n==2:\n",
    "        print(\"/A:\",i+1,\" \",sep=\"\",end=\"\")"
   ]
  },
  {
   "cell_type": "code",
   "execution_count": 747,
   "metadata": {},
   "outputs": [],
   "source": [
    "prediction=cat_cav.predict(NUDT15_Xcav)"
   ]
  },
  {
   "cell_type": "code",
   "execution_count": 748,
   "metadata": {},
   "outputs": [],
   "source": [
    "NUDT15_MCC_compare.append(['variant_cavity',MCC_test_multi(prediction,np.array(NUDT15_Ycav))])"
   ]
  },
  {
   "cell_type": "code",
   "execution_count": 749,
   "metadata": {},
   "outputs": [
    {
     "name": "stdout",
     "output_type": "stream",
     "text": [
      "[296, 42, 71, 2]\n"
     ]
    }
   ],
   "source": [
    "NUDT15_y_pred=yellow_model_prediction(prediction,NUDT15_mapcav,NUDT15_Ycav)"
   ]
  },
  {
   "cell_type": "code",
   "execution_count": 750,
   "metadata": {},
   "outputs": [
    {
     "name": "stdout",
     "output_type": "stream",
     "text": [
      "[1824, 314, 556, 9]\n",
      "[0.67480577 0.11616722 0.20569737 0.00332963]\n"
     ]
    }
   ],
   "source": [
    "sum_class=[0,0,0,0]\n",
    "for i,n in enumerate(prediction):\n",
    "    sum_class[int(n)]+=1\n",
    "print(sum_class)\n",
    "print(sum_class/np.sum(sum_class))"
   ]
  },
  {
   "cell_type": "code",
   "execution_count": 751,
   "metadata": {},
   "outputs": [],
   "source": [
    "mode_prediction,percentage=retrieve_residue_label_pred(prediction,NUDT15_mapcav,NUDT15_WT_sequence,0.50)"
   ]
  },
  {
   "cell_type": "code",
   "execution_count": 752,
   "metadata": {},
   "outputs": [],
   "source": [
    "NUDT15_MCC_compare.append(['position_cavity',MCC_test_multi(mode_prediction,NUDT15_labels_mode)])"
   ]
  },
  {
   "cell_type": "code",
   "execution_count": 753,
   "metadata": {},
   "outputs": [
    {
     "name": "stdout",
     "output_type": "stream",
     "text": [
      "/A:15 /A:17 /A:32 /A:34 /A:44 /A:47 /A:51 /A:63 /A:66 /A:67 /A:101 /A:111 /A:113 /A:116 /A:117 /A:137 "
     ]
    }
   ],
   "source": [
    "for i,n in enumerate(mode_prediction):\n",
    "    if n==1:\n",
    "        print(\"/A:\",i+1,\" \",sep=\"\",end=\"\")\n",
    "    "
   ]
  },
  {
   "cell_type": "code",
   "execution_count": 754,
   "metadata": {},
   "outputs": [],
   "source": [
    "prediction=cat_cav.predict(CYP2C9_Xcav)"
   ]
  },
  {
   "cell_type": "code",
   "execution_count": 755,
   "metadata": {},
   "outputs": [],
   "source": [
    "CYP2C9_MCC_compare.append(['variant_cavity',MCC_test_multi(prediction,np.array(CYP2C9_Ycav))])"
   ]
  },
  {
   "cell_type": "code",
   "execution_count": 756,
   "metadata": {},
   "outputs": [
    {
     "name": "stdout",
     "output_type": "stream",
     "text": [
      "[17, 2, 0, 0]\n"
     ]
    }
   ],
   "source": [
    "CYP2C9_y_pred=yellow_model_prediction(prediction,CYP2C9_mapcav,CYP2C9_Ycav)"
   ]
  },
  {
   "cell_type": "code",
   "execution_count": 757,
   "metadata": {},
   "outputs": [
    {
     "name": "stdout",
     "output_type": "stream",
     "text": [
      "[2394, 1128, 642, 0]\n",
      "[0.57492795 0.27089337 0.15417867 0.        ]\n"
     ]
    }
   ],
   "source": [
    "sum_class=[0,0,0,0]\n",
    "for i,n in enumerate(prediction):\n",
    "    sum_class[int(n)]+=1\n",
    "print(sum_class)\n",
    "print(sum_class/np.sum(sum_class))"
   ]
  },
  {
   "cell_type": "code",
   "execution_count": 758,
   "metadata": {},
   "outputs": [],
   "source": [
    "mode_prediction,percentage=retrieve_residue_label_pred(prediction,CYP2C9_mapcav,CYP2C9_WT_sequence,0.50)"
   ]
  },
  {
   "cell_type": "code",
   "execution_count": 759,
   "metadata": {},
   "outputs": [],
   "source": [
    "CYP2C9_MCC_compare.append(['position_cavity',MCC_test_multi(mode_prediction.reshape(-1,1),CYP2C9_labels_mode)])"
   ]
  },
  {
   "cell_type": "code",
   "execution_count": 760,
   "metadata": {},
   "outputs": [
    {
     "name": "stdout",
     "output_type": "stream",
     "text": [
      "/A:32 /A:37 /A:66 /A:68 /A:69 /A:70 /A:73 /A:74 /A:75 /A:91 /A:94 /A:97 /A:109 /A:111 /A:124 /A:131 /A:132 /A:141 /A:142 /A:148 /A:152 /A:153 /A:156 /A:159 /A:163 /A:169 /A:172 /A:174 /A:183 /A:184 /A:185 /A:188 /A:189 /A:191 /A:201 /A:203 /A:204 /A:207 /A:226 /A:233 /A:235 /A:236 /A:240 /A:241 /A:263 /A:264 /A:265 /A:267 /A:268 /A:282 /A:284 /A:285 /A:292 /A:297 /A:298 /A:299 /A:301 /A:303 /A:305 /A:307 /A:308 /A:309 /A:316 /A:320 /A:324 /A:331 /A:332 /A:346 /A:361 /A:362 /A:363 /A:365 /A:366 /A:368 /A:370 /A:373 /A:379 /A:383 /A:384 /A:393 /A:394 /A:396 /A:397 /A:401 /A:408 /A:409 /A:417 /A:419 /A:425 /A:427 /A:428 /A:429 /A:431 /A:433 /A:435 /A:437 /A:443 /A:447 /A:453 /A:454 /A:455 /A:463 /A:464 /A:467 /A:471 /A:480 /A:481 /A:484 /A:486 "
     ]
    }
   ],
   "source": [
    "for i,n in enumerate(mode_prediction):\n",
    "    if n==1:\n",
    "        print(\"/A:\",i+1,\" \",sep=\"\",end=\"\")    "
   ]
  },
  {
   "cell_type": "markdown",
   "metadata": {},
   "source": [
    "### plot"
   ]
  },
  {
   "cell_type": "code",
   "execution_count": 764,
   "metadata": {},
   "outputs": [
    {
     "data": {
      "image/png": "[encoded data removed]",
      "text/plain": [
       "<Figure size 792x288 with 2 Axes>"
      ]
     },
     "metadata": {
      "needs_background": "light"
     },
     "output_type": "display_data"
    }
   ],
   "source": [
    "fig,(ax1,ax2)=plt.subplots(1,2,figsize=(11,4))\n",
    "X = np.arange(3)\n",
    "\n",
    "ax1.bar(X + -0.25, CYP2C9_MCC_compare[0][1], color = '#009e74', width = 0.25,edgecolor='k')\n",
    "ax1.bar(X + 0.0, CYP2C9_MCC_compare[2][1], color = '#56b4e9', width = 0.25,edgecolor='k')\n",
    "ax1.bar(X + 0.25, CYP2C9_MCC_compare[4][1], color = '#f0e442', width = 0.25,edgecolor='k')\n",
    "\n",
    "ax2.bar(X + -0.25, CYP2C9_MCC_compare[1][1], color = '#009e74', width = 0.25,label='rosetta',edgecolor='k')\n",
    "ax2.bar(X + 0.0, CYP2C9_MCC_compare[3][1], color = '#56b4e9', width = 0.25,label='cavity_on_rosetta',edgecolor='k')\n",
    "ax2.bar(X + 0.25, CYP2C9_MCC_compare[5][1], color = '#f0e442', width = 0.25,label='cavity_on_cavity',edgecolor='k')\n",
    "\n",
    "ax1.set_xticks(X)\n",
    "ax1.set_xticklabels(['WT-like','functional','total-loss'],fontsize=14)\n",
    "ax2.set_xticks(X)\n",
    "ax2.set_xticklabels(['WT-like','functional','total-loss'],fontsize=14)\n",
    "ax1.set_ylabel('MCC',fontsize=13)\n",
    "ax2.legend(fontsize=14)\n",
    "ax1.set_ylim(0,1.6)\n",
    "ax2.set_ylim(0,1.6)\n",
    "plt.savefig('./Figures/CYP2C9_cavity_rosetta_comparison.pdf')"
   ]
  },
  {
   "cell_type": "code",
   "execution_count": 765,
   "metadata": {},
   "outputs": [
    {
     "data": {
      "image/png": "[encoded data removed]",
      "text/plain": [
       "<Figure size 792x288 with 2 Axes>"
      ]
     },
     "metadata": {
      "needs_background": "light"
     },
     "output_type": "display_data"
    }
   ],
   "source": [
    "fig,(ax1,ax2)=plt.subplots(1,2,figsize=(11,4))\n",
    "X = np.arange(3)\n",
    "\n",
    "ax1.bar(X + -0.25, NUDT15_MCC_compare[0][1], color = '#009e74', width = 0.25,edgecolor='k')\n",
    "ax1.bar(X + 0.0, NUDT15_MCC_compare[2][1], color = '#56b4e9', width = 0.25,edgecolor='k')\n",
    "ax1.bar(X + 0.25, NUDT15_MCC_compare[4][1], color = '#f0e442', width = 0.25,edgecolor='k')\n",
    "\n",
    "ax2.bar(X + -0.25, NUDT15_MCC_compare[1][1], color = '#009e74', width = 0.25,label='rosetta',edgecolor='k')\n",
    "ax2.bar(X + 0.0, NUDT15_MCC_compare[3][1], color = '#56b4e9', width = 0.25,label='cavity_on_rosetta',edgecolor='k')\n",
    "ax2.bar(X + 0.25, NUDT15_MCC_compare[5][1], color = '#f0e442', width = 0.25,label='cavity_on_cavity',edgecolor='k')\n",
    "\n",
    "ax1.set_xticks(X)\n",
    "ax1.set_xticklabels(['WT-like','functional','total-loss'],fontsize=14)\n",
    "ax2.set_xticks(X)\n",
    "ax2.set_xticklabels(['WT-like','functional','total-loss'],fontsize=14)\n",
    "ax1.set_ylabel('MCC',fontsize=13)\n",
    "ax2.legend(fontsize=14)\n",
    "ax1.set_ylim(0,1.6)\n",
    "ax2.set_ylim(0,1.6)\n",
    "plt.savefig('./Figures/NUDT15_cavity_rosetta_comparison.pdf')"
   ]
  },
  {
   "cell_type": "code",
   "execution_count": 766,
   "metadata": {},
   "outputs": [
    {
     "data": {
      "image/png": "[encoded data removed]",
      "text/plain": [
       "<Figure size 792x288 with 2 Axes>"
      ]
     },
     "metadata": {
      "needs_background": "light"
     },
     "output_type": "display_data"
    }
   ],
   "source": [
    "fig,(ax1,ax2)=plt.subplots(1,2,figsize=(11,4))\n",
    "X = np.arange(3)\n",
    "\n",
    "ax1.bar(X + -0.25, PTEN_MCC_compare[0][1], color = '#009e74', width = 0.25,edgecolor='k')\n",
    "ax1.bar(X + 0.0, PTEN_MCC_compare[2][1], color = '#56b4e9', width = 0.25,edgecolor='k')\n",
    "ax1.bar(X + 0.25, PTEN_MCC_compare[4][1], color = '#f0e442', width = 0.25,edgecolor='k')\n",
    "\n",
    "ax2.bar(X + -0.25, PTEN_MCC_compare[1][1], color = '#009e74', width = 0.25,label='rosetta',edgecolor='k')\n",
    "ax2.bar(X + 0.0, PTEN_MCC_compare[3][1], color = '#56b4e9', width = 0.25,label='cavity_on_rosetta',edgecolor='k')\n",
    "ax2.bar(X + 0.25, PTEN_MCC_compare[5][1], color = '#f0e442', width = 0.25,label='cavity_on_cavity',edgecolor='k')\n",
    "\n",
    "ax1.set_xticks(X)\n",
    "ax1.set_xticklabels(['WT-like','functional','total-loss'],fontsize=14)\n",
    "ax2.set_xticks(X)\n",
    "ax2.set_xticklabels(['WT-like','functional','total-loss'],fontsize=14)\n",
    "ax1.set_ylabel('MCC',fontsize=13)\n",
    "ax2.legend(fontsize=14)\n",
    "ax1.set_ylim(0,1.6)\n",
    "ax2.set_ylim(0,1.6)\n",
    "plt.savefig('./Figures/PTEN_cavity_rosetta_comparison.pdf')"
   ]
  },
  {
   "cell_type": "code",
   "execution_count": 189,
   "metadata": {},
   "outputs": [],
   "source": [
    "model_name=['FM-rosetta','RaSP on FM-rosetta']\n",
    "kcross_F1=[0.56,0.44]\n",
    "precision_SH3_func=[0.500,0.3]\n",
    "recall_SH3_func=[0.8,0.400]\n",
    "F1_SH3_func=[0.714,0.350]\n",
    "precision_SH3=[0.844,0.733]\n",
    "recall_SH3=[0.750,0.680]\n",
    "F1_SH3=[0.757,0.680]"
   ]
  },
  {
   "cell_type": "code",
   "execution_count": 190,
   "metadata": {},
   "outputs": [],
   "source": [
    "FM_rosetta_pd_stats=pd.DataFrame({'kcross':kcross_F1,'precision_funct':precision_SH3_func,'recall_funct':recall_SH3_func,'F1_funct':F1_SH3_func,'precision':precision_SH3,'recall':recall_SH3,'F1':F1_SH3},index=model_name)"
   ]
  },
  {
   "cell_type": "code",
   "execution_count": 191,
   "metadata": {},
   "outputs": [],
   "source": [
    "FM_rosetta_pd_stats_T=FM_rosetta_pd_stats.T"
   ]
  },
  {
   "cell_type": "code",
   "execution_count": 192,
   "metadata": {},
   "outputs": [
    {
     "data": {
      "image/png": "[encoded data removed]",
      "text/plain": [
       "<Figure size 864x360 with 1 Axes>"
      ]
     },
     "metadata": {
      "needs_background": "light"
     },
     "output_type": "display_data"
    }
   ],
   "source": [
    "fig,ax1=plt.subplots(1,figsize=(12,5))\n",
    "FM_rosetta_pd_stats_T.plot.bar(rot=0,ax=ax1)\n",
    "plt.savefig('./Figures/RaSP_onFMrosetta__comparison_SH3.pdf')"
   ]
  },
  {
   "cell_type": "code",
   "execution_count": null,
   "metadata": {},
   "outputs": [],
   "source": []
  }
 ],
 "metadata": {
  "kernelspec": {
   "display_name": "Python 3 (ipykernel)",
   "language": "python",
   "name": "python3"
  },
  "language_info": {
   "codemirror_mode": {
    "name": "ipython",
    "version": 3
   },
   "file_extension": ".py",
   "mimetype": "text/x-python",
   "name": "python",
   "nbconvert_exporter": "python",
   "pygments_lexer": "ipython3",
   "version": "3.7.16"
  },
  "toc-autonumbering": true
 },
 "nbformat": 4,
 "nbformat_minor": 4
}
