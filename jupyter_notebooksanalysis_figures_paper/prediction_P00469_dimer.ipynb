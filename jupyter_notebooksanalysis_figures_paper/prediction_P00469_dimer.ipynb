{
 "cells": [
  {
   "cell_type": "markdown",
   "id": "7ae42303-b2be-4f43-ba01-20e429c25b5d",
   "metadata": {},
   "source": [
    "# Catboosting SBI classification"
   ]
  },
  {
   "cell_type": "markdown",
   "id": "4329d710-afd6-484e-9bdd-d2507c8206cd",
   "metadata": {
    "toc-hr-collapsed": true
   },
   "source": [
    "## Libraries, functions and dictionaries"
   ]
  },
  {
   "cell_type": "code",
   "execution_count": 5,
   "id": "974f65f2-8def-4ff7-874e-485061644e17",
   "metadata": {},
   "outputs": [],
   "source": [
    "import sys, os\n",
    "\n",
    "import pandas as pd\n",
    "import numpy as np\n",
    "import scipy as sp\n",
    "import matplotlib as mpl\n",
    "import matplotlib.pyplot as plt\n",
    "import mdtraj as md\n",
    "import random\n",
    "import seaborn as sns\n",
    "import re\n",
    "from sklearn.model_selection import RandomizedSearchCV\n",
    "from sklearn.model_selection import RepeatedStratifiedKFold\n",
    "from sklearn.model_selection import cross_val_score\n",
    "\n",
    "from sklearn.ensemble import RandomForestClassifier\n",
    "from catboost import CatBoostClassifier, Pool\n",
    "from Bio.PDB.DSSP import make_dssp_dict\n",
    "\n",
    "import warnings\n",
    "warnings.filterwarnings('ignore')"
   ]
  },
  {
   "cell_type": "code",
   "execution_count": 6,
   "id": "bfbdf1d4-a751-410d-9c5e-9219def82486",
   "metadata": {},
   "outputs": [],
   "source": [
    "alphabetAA_L_D={'-':0,'_' :0,'A':1,'C':2,'D':3,'E':4,'F':5,'G':6,'H':7,'I':8,'K':9,'L':10,'M':11,'N':12,'P':13,'Q':14,'R':15,'S':16,'T':17,'V':18,'W':19,'Y':20}\n",
    "alphabetAA_D_L={v: k for k, v in alphabetAA_L_D.items()}\n",
    "               \n",
    "alphabetAA_3L_1L={\"Ter\":'*',\"Gap\":'-',\"Ala\":'A',\"Cys\":'C',\"Asp\":'D',\"Glu\":'E',\"Phe\":'F',\"Gly\":'G',\"His\":'H',\"Ile\":'I',\"Lys\":'K',\"Leu\":'L',\"Met\":'M',\"Asn\":'N',\"Pro\":'P',\"Gln\":'Q',\"Arg\":'R',\"Ser\":'S',\"Thr\":'T',\"Val\" :'V',\"Trp\":'W',\"Tyr\":'Y'}\n",
    "alphabetAA_1L_3L={v: k for k,v in alphabetAA_3L_1L.items()}\n",
    "\n",
    "alphabetAA_3L_1LC={\"Ter\":'*',\"Gap\":'-',\"ALA\":'A',\"CYS\":'C',\"ASP\":'D',\"GLU\":'E',\"PHE\":'F',\"GLY\":'G',\"HIS\":'H',\"ILE\":'I',\"LYS\":'K',\"LEU\":'L',\"MET\":'M',\"ASN\":'N',\"PRO\":'P',\"GLN\":'Q',\"ARG\":'R',\"SER\":'S',\"THR\":'T',\"VAL\" :'V',\"TRP\":'W',\"TYR\":'Y'}\n",
    "\n",
    "alphabetAA_to_classes={'A':1,'C':2,'D':3,'E':3,'F':1,'G':4,'H':3,'I':1,'K':3,'L':1,'M':1,'N':2,'P':4,'Q':2,'R':3,'S':2,'T':2,'V':1,'W':1,'Y':1}\n",
    "alphabetclasses_to_AA={v: k for k,v in alphabetAA_to_classes.items()}\n",
    "\n",
    "AA_ddsp_number={'H' :0,'B' : 1,'E' : 2,'G' : 3,'I' : 4,'T' : 5,'S' : 6,' ' : 7}\n",
    "AA_number_ddsp={v: k for k,v in AA_ddsp_number.items()}\n",
    "\n",
    "AA_ddsp_number_simp={'H' :0,'E' : 1,'C' : 2}\n",
    "AA_number_ddsp_simp={v: k for k,v in AA_ddsp_number.items()}\n",
    "\n",
    "AA_to_hydrophobicity_scores={'A':44,'C':50,'D':-37,'E':-12,'F':96,'G':0,'H':-16,'I':100,'K':-30,'L':99,'M':74,'N':-35,'P':-46,'Q':-14,'R':-20,'S':-6,'T':13,'V':78,'W':90,'Y':57}"
   ]
  },
  {
   "cell_type": "markdown",
   "id": "72c3778f-ca98-4ae1-aec0-056b034f1f60",
   "metadata": {},
   "source": [
    "### Load functions"
   ]
  },
  {
   "cell_type": "code",
   "execution_count": 7,
   "id": "3f8e0bcb-60fe-47f3-b8e9-7770fc3f99b7",
   "metadata": {},
   "outputs": [],
   "source": [
    "def remove_WT_score(score,WT_seq):\n",
    "    for i in range(len(WT_seq)):\n",
    "        score[i,alphabetAA_L_D[WT_seq[i]]-1]=np.nan\n",
    "    return score"
   ]
  },
  {
   "cell_type": "code",
   "execution_count": 8,
   "id": "e386e84c-edf2-47de-8a0a-3a7e74978fd2",
   "metadata": {
    "tags": []
   },
   "outputs": [],
   "source": [
    "def load_data_V2(data,wt_seq,start_gap=0,column_score=1):\n",
    "    df=pd.read_csv(data, delim_whitespace=True, comment='#')\n",
    "    mutation_load=np.array(df.iloc[:,0])\n",
    "    score_load=np.array(df.iloc[:,column_score])\n",
    "    scores=np.empty((len(wt_seq),20),dtype=float)\n",
    "    scores[:]=np.nan\n",
    "    for i in range(len(mutation_load)):\n",
    "        if  mutation_load[i][len(mutation_load[i])-1]!= '=' and mutation_load[i][len(mutation_load[i])-1]!= '*' :\n",
    "            scores[int(mutation_load[i][1:len(mutation_load[i])-1])-1+start_gap, alphabetAA_L_D[mutation_load[i][len(mutation_load[i])-1]]-1]= float(score_load[i])\n",
    "    return scores"
   ]
  },
  {
   "cell_type": "markdown",
   "id": "e0e69582-de21-4574-92d5-437a2564c09a",
   "metadata": {},
   "source": [
    "### General functions"
   ]
  },
  {
   "cell_type": "code",
   "execution_count": 9,
   "id": "594b13d9-5287-4e67-947f-ea2cc3b82b1c",
   "metadata": {},
   "outputs": [],
   "source": [
    "def normalize_score(scores):\n",
    "    normalized_scores=np.copy(scores)\n",
    "    c_min_act=np.percentile(scores[~np.isnan(scores)],5)\n",
    "    c_max_act=np.percentile(scores[~np.isnan(scores)],95)\n",
    "    for i in range(scores.shape[0]):\n",
    "        for j in range(scores.shape[1]):\n",
    "            normalized_scores[i,j]=(scores[i,j]-c_min_act)/(c_max_act-c_min_act)\n",
    "                                  \n",
    "    return normalized_scores"
   ]
  },
  {
   "cell_type": "code",
   "execution_count": 10,
   "id": "4d598715-27d4-43df-984a-69391e4f9615",
   "metadata": {},
   "outputs": [],
   "source": [
    "def normalize_minmax(scores):\n",
    "    normalized_scores=np.copy(scores)\n",
    "    c_min_act=np.amin(scores[~np.isnan(scores)])\n",
    "    c_max_act=np.amax(scores[~np.isnan(scores)])\n",
    "    for i in range(scores.shape[0]):\n",
    "        for j in range(scores.shape[1]):\n",
    "            normalized_scores[i,j]=(scores[i,j]-c_min_act)/(c_max_act-c_min_act)\n",
    "                                  \n",
    "    return normalized_scores"
   ]
  },
  {
   "cell_type": "code",
   "execution_count": 11,
   "id": "b877389e-5464-493d-b9af-5a8cc538d3ac",
   "metadata": {},
   "outputs": [],
   "source": [
    "def normalize_fermi(scores):\n",
    "    normalized_scores=np.copy(scores)\n",
    "    for i in range(scores.shape[0]):\n",
    "        for j in range(scores.shape[1]):\n",
    "            normalized_scores[i,j]=1/(sp.exp(scores[i,j]-2)+1)                 \n",
    "    return normalized_scores"
   ]
  },
  {
   "cell_type": "code",
   "execution_count": 12,
   "id": "3518dd6b-5d61-4c80-9bb4-48361ed50bcc",
   "metadata": {},
   "outputs": [],
   "source": [
    "def normalize_cutoff(scores,lowcut,highcut):\n",
    "    normalized_scores=np.copy(scores)\n",
    "    for i in range(scores.shape[0]):\n",
    "        for j in range(scores.shape[1]):\n",
    "            if scores[i,j] < lowcut:\n",
    "                normalized_scores[i,j]=lowcut\n",
    "            elif scores[i,j] > highcut:\n",
    "                normalized_scores[i,j]=highcut\n",
    "            else:\n",
    "                normalized_scores[i,j]=scores[i,j]\n",
    "    return normalized_scores"
   ]
  },
  {
   "cell_type": "code",
   "execution_count": 13,
   "id": "66ce91b1-bf12-4736-b1dd-76ed09b7e970",
   "metadata": {},
   "outputs": [],
   "source": [
    "def position_mean(score):\n",
    "    score_mean=np.zeros(score.shape[0],dtype=float)\n",
    "    for i in range(score.shape[0]):\n",
    "        count=0\n",
    "        flag_nan=True\n",
    "        for j in range(score.shape[1]):\n",
    "            if np.isnan(score[i,j])==False:\n",
    "                flag_nan=False\n",
    "                score_mean[i]+=score[i,j]\n",
    "                count+=1\n",
    "            else:\n",
    "                pass\n",
    "        if flag_nan==True:\n",
    "            score_mean[i]=np.nan\n",
    "        score_mean[i]/=count\n",
    "        \n",
    "    return score_mean"
   ]
  },
  {
   "cell_type": "code",
   "execution_count": 14,
   "id": "42dc5626-3eb2-4620-97f5-a5eb75a92a8a",
   "metadata": {},
   "outputs": [],
   "source": [
    "def score_histogram(score,nbin,color,label_x,norm_bool,thr):\n",
    "\n",
    "    counts, bins = np.histogram(score[~np.isnan(score)],bins=nbin)\n",
    "    if norm_bool=='Density':\n",
    "        n, bins, patches = plt.hist(score[~np.isnan(score)], bins=nbin, facecolor=color, alpha=0.7,edgecolor=\"black\",density=True)\n",
    "        plt.ylabel('Normalized counts',fontsize=20)\n",
    "    elif norm_bool=='True':\n",
    "        \n",
    "        norm= counts / np.linalg.norm(counts)\n",
    "        plt.hist(bins[:-1], bins, weights=norm, facecolor=color, alpha=0.7,edgecolor=\"black\")\n",
    "        plt.ylabel('Normalized counts',fontsize=20)\n",
    "    else:\n",
    "        n, bins, patches = plt.hist(score[~np.isnan(score)], bins=nbin, facecolor=color,edgecolor=\"black\")\n",
    "        plt.ylabel('Counts',fontsize=20)\n",
    "\n",
    "    plt.xlabel(label_x,fontsize=20)\n",
    "    plt.xticks(fontsize=18)\n",
    "    plt.grid(axis=\"y\",alpha=0.4,linestyle='--')\n",
    "    sum_unstable=0\n",
    "    for i in range(len(bins)-1):\n",
    "        if bins[i+1] < thr:\n",
    "            sum_unstable+=counts[i]\n",
    "    print('Wt-like variants:',np.sum(counts)-sum_unstable, ' (', (np.sum(counts)-sum_unstable)/np.sum(counts) ,')')\n",
    "    \n",
    "    #plt.show()"
   ]
  },
  {
   "cell_type": "code",
   "execution_count": 15,
   "id": "fa4f01d8-232d-4336-95b7-28ce75dfce1d",
   "metadata": {},
   "outputs": [],
   "source": [
    "def heatmap_IBS(prediction,variant_map,WT):\n",
    "    scores=np.empty((len(WT),20),dtype=float)\n",
    "    scores[:]=np.nan\n",
    "    \n",
    "    i=0\n",
    "    for cord in variant_map:\n",
    "        scores[cord[0],cord[1]]=prediction[i]\n",
    "        i+=1\n",
    "\n",
    "    fig, ax = plt.subplots(figsize=(16,6))\n",
    "    ylabels=[ alphabetAA_D_L[i] for i in range(1,21)]\n",
    "    \n",
    "    ax.imshow(np.transpose(scores), aspect = 'auto', cmap=mpl.colors.ListedColormap([\"white\",\"#56b4e9\"]))\n",
    "\n",
    "    ax.set_yticks([i for i in range(0,20)])\n",
    "    ax.set_yticklabels(ylabels,fontsize=15)\n",
    "    ax.tick_params(axis='x', which='major', labelsize=15)\n",
    "        \n",
    "    tmp=np.empty((len(WT),20),dtype=float)\n",
    "    tmp[:]=np.inf\n",
    "    for i in range(0,len(WT)):\n",
    "        tmp[i,alphabetAA_L_D[WT[i]]-1]=1\n",
    "    plt.imshow(tmp.T, cmap='Accent', aspect = 'auto')\n",
    "    \n",
    "    plt.grid(axis='both',which='both',alpha=0.4)\n",
    "    plt.ylabel(\"mutation\",fontsize=16)\n",
    "    plt.xlabel(\"residue\",fontsize=16)\n",
    "\n",
    "    plt.ylim(-0.5,19.5)"
   ]
  },
  {
   "cell_type": "code",
   "execution_count": 16,
   "id": "e922ad57-c5f9-4496-b5a0-c885a3ddf3cd",
   "metadata": {},
   "outputs": [],
   "source": [
    "def ratio_variants(mave_funct,mave_abd):\n",
    "    ratio=np.copy(mave_funct)\n",
    "    ratio[:]=np.nan\n",
    "    for i in range(ratio.shape[0]):\n",
    "        for j in range(ratio.shape[1]):\n",
    "            if np.isnan(mave_funct[i,j]) or np.isnan(mave_abd[i,j]):\n",
    "                pass\n",
    "            else:\n",
    "                if mave_abd[i,j]==0.0:\n",
    "                    ratio[i,j]=mave_funct[i,j]/0.0000001\n",
    "                else:\n",
    "                    ratio[i,j]=mave_funct[i,j]/mave_abd[i,j]\n",
    "    sig_ratio=np.copy(ratio)\n",
    "    sig_ratio[:]=np.nan\n",
    "    for i in range(ratio.shape[0]):\n",
    "        for j in range(ratio.shape[1]):\n",
    "            if np.isnan(ratio[i,j])!=True:\n",
    "                sig_ratio[i,j]=1/(1+np.exp(-(ratio[i,j]-1)))\n",
    "\n",
    "    return sig_ratio"
   ]
  },
  {
   "cell_type": "code",
   "execution_count": 17,
   "id": "1d76abe0-f5d6-4f53-a723-8adef29ab1ad",
   "metadata": {},
   "outputs": [],
   "source": [
    "def MCC_test_subset(prediction,test):\n",
    "    TP=0\n",
    "    FP=0\n",
    "    total=0\n",
    "    for i in range(len(prediction)):\n",
    "        if np.isnan(prediction[i])!= True and np.isnan(test[i])!=True:\n",
    "            if prediction[i]==1:\n",
    "                if int(prediction[i])==int(test[i]):\n",
    "                    TP+=1\n",
    "                else:\n",
    "                    FP+=1\n",
    "            if int(test[i])==1:\n",
    "                total+=1\n",
    "    precision=TP/(TP+FP)\n",
    "    recall=TP/total\n",
    "    mcc=np.sqrt(abs(precision*recall))\n",
    "    \n",
    "    return precision,recall,mcc                 "
   ]
  },
  {
   "cell_type": "code",
   "execution_count": 18,
   "id": "1b13635e-bccc-4a01-b270-927125b28952",
   "metadata": {},
   "outputs": [],
   "source": [
    "def AUC_subset(prediction,test):\n",
    "    TP=0\n",
    "    FP=0\n",
    "    FN=0\n",
    "    TN=0\n",
    "    \n",
    "    for i in range(len(prediction)):\n",
    "        if np.isnan(prediction[i])!= True and np.isnan(test[i])!=True:\n",
    "            if prediction[i]==1:\n",
    "                if int(prediction[i])==int(test[i]):\n",
    "                    TP+=1\n",
    "                else:\n",
    "                    FP+=1\n",
    "            if prediction[i]==0:\n",
    "                if int(prediction[i])==int(test[i]):\n",
    "                    TN+=1\n",
    "                else:\n",
    "                    FN+=1 \n",
    "                    \n",
    "    TPR=TP/(TP+FN)\n",
    "    FPR=FP/(FP+TN)\n",
    "    \n",
    "    return [TPR,FPR]"
   ]
  },
  {
   "cell_type": "code",
   "execution_count": 19,
   "id": "f22d6293-e9ce-4ca9-971c-addb3157c8c2",
   "metadata": {},
   "outputs": [],
   "source": [
    "def retrieve_residue_label_pred_training(prediction,variant_map,WT,percentage_threshold):\n",
    "    scores=np.empty((len(WT),20),dtype=float)\n",
    "    scores[:]=np.nan\n",
    "    \n",
    "    i=0\n",
    "    for cord in variant_map:\n",
    "        scores[cord[0],cord[1]]=prediction[i]\n",
    "        i+=1\n",
    "    pseudomode_value_class=np.empty(len(WT),dtype=float)\n",
    "    pseudomode_value_class[:]=np.nan\n",
    "    percentage_mode=np.zeros((len(WT),2),dtype=float)\n",
    "    \n",
    "    for i in range(len(pseudomode_value_class)):\n",
    "        count=0\n",
    "        for j in range(scores.shape[1]):\n",
    "            if np.isnan(scores[i,j])!=True:\n",
    "                count+=1\n",
    "        if count>0:\n",
    "            count_1=0\n",
    "            for j in range(scores.shape[1]):\n",
    "                if scores[i,j]==1:\n",
    "                    count_1+=1\n",
    "            percentage=count_1/count\n",
    "            \n",
    "            if percentage > percentage_threshold:\n",
    "                pseudomode_value_class[i]=1\n",
    "            else:\n",
    "                pseudomode_value_class[i]=0\n",
    "            \n",
    "            percentage_mode[i,0]=percentage\n",
    "            percentage_mode[i,1]=count\n",
    "    \n",
    "    #mode_value_class, counts_mode=sp.stats.mode(scores,axis=1,nan_policy='omit')\n",
    "    \n",
    "    return pseudomode_value_class,percentage_mode"
   ]
  },
  {
   "cell_type": "code",
   "execution_count": 20,
   "id": "439b1463-8b9a-4a86-aa57-5d10179524a2",
   "metadata": {},
   "outputs": [],
   "source": [
    "def retrieve_residue_label_pred(prediction,variant_map,WT,percentage_threshold):\n",
    "    scores=np.empty((len(WT),20),dtype=float)\n",
    "    scores[:]=np.nan\n",
    "    \n",
    "    i=0\n",
    "    for cord in variant_map:\n",
    "        scores[cord[0],cord[1]]=prediction[i]\n",
    "        i+=1\n",
    "    \n",
    "    count_pos=np.zeros((len(WT),4),dtype=float)\n",
    "    \n",
    "    pseudomode_value_class=np.empty(len(WT),dtype=float)\n",
    "    pseudomode_value_class[:]=np.nan\n",
    "    percentage=np.zeros((len(WT),2),dtype=float)\n",
    "        \n",
    "    for i in range(len(pseudomode_value_class)):\n",
    "        count=0\n",
    "        for j in range(scores.shape[1]):\n",
    "            if np.isnan(scores[i,j])!=True:\n",
    "                count+=1\n",
    "        if count>0:\n",
    "            for j in range(scores.shape[1]):\n",
    "                    if np.isnan(scores[i,j])!=True:\n",
    "                        count_pos[i,int(scores[i,j])]+=1\n",
    "            count_pos=count_pos/count\n",
    "            if np.any(count_pos[i,:]>=0.50):\n",
    "                pseudomode_value_class[i]=np.argmax(count_pos[i,:])\n",
    "                percentage[i,0]=count_pos[i,1]\n",
    "                #print(i, count_pos[i,:],np.max(count_pos[i,:]),np.argmax(count_pos[i,:]),pseudomode_value_class[i])\n",
    "\n",
    "\n",
    "            else:                \n",
    "                pseudomode_value_class[i]=5\n",
    "                percentage[i,0]=count_pos[i,1]\n",
    "                #print(i, count_pos[i,:],np.max(count_pos[i,:]),np.argmax(count_pos[i,:]),'else',pseudomode_value_class[i])\n",
    "                ## 5 indicates mixed signal with no predominat mutation class\n",
    "            \n",
    "            percentage[i,1]=count\n",
    "    \n",
    "    #mode_value_class, counts_mode=sp.stats.mode(scores,axis=1,nan_policy='omit')\n",
    "    \n",
    "    return pseudomode_value_class,percentage"
   ]
  },
  {
   "cell_type": "code",
   "execution_count": 21,
   "id": "4d4cb04a-6e99-46b9-873c-12211b8b7658",
   "metadata": {},
   "outputs": [],
   "source": [
    "def print_chimera_x_attribute_file(attribute_check,attribute,file,model_id='#1',chain_id='/A',argument='cbyvalue'):\n",
    "    file=open(file,\"w+\")\n",
    "    file.write('%s\\n%s\\n%s\\n%s\\n' % ('#','#  Use this file to assign the attribute in Chimera with the','#  Define Attribute tool or the command defattr','#'))\n",
    "    file.write('%s%s\\n%s\\n%s\\n' % ( 'attribute: ',argument,'match mode: 1-to-1', 'recipient: residues') )\n",
    "    for i in range(len(attribute_check)):\n",
    "        if np.isnan(attribute_check[i])==True or attribute_check[i]==-99999:\n",
    "            pass\n",
    "        else:\n",
    "            file.write(\"\\t%s%s%s%d\\t%f\\n\" % (str(model_id),str(chain_id),':',i+1,attribute[i]))\n",
    "    file.close()"
   ]
  },
  {
   "cell_type": "code",
   "execution_count": 22,
   "id": "7136aa9e-2441-484e-adae-8326a0542acd",
   "metadata": {},
   "outputs": [],
   "source": [
    "def plot_attributes(pos,pred,variant_map,gemme,rosetta,wcn,gemme_n,rosetta_n):\n",
    "    \n",
    "    label_position=np.empty(20,dtype=float)\n",
    "    label_position[:]=np.nan\n",
    "    \n",
    "    i=0\n",
    "    for cord in variant_map:\n",
    "        if cord[0]==pos:\n",
    "            label_position[cord[1]]=prediction[i]\n",
    "        i+=1\n",
    "    \n",
    "    fig,(ax1,ax2,ax3,ax4,ax5,ax6)=plt.subplots(1,6,figsize=(9,4),gridspec_kw={\"width_ratios\" : [7,1,1,1,1,1], \"wspace\" : 0.4})\n",
    "    cdict = {1: 'blue', 0: 'red'}\n",
    "    glabel={1.0:'SBI',0.0:'non-SBI'}\n",
    "    for g in np.unique(label_position):\n",
    "        if np.isnan(g)!=True:\n",
    "            ix = np.where(label_position == g)\n",
    "            ax1.scatter(rosetta[pos,ix],gemme[pos,ix],c=cdict[g], label=[glabel[g]])\n",
    "    \n",
    "    ax2.bar(x=0.5,height=wcn[pos])\n",
    "    ax3.bar(x=0.5,height=np.mean(gemme[pos,:][~np.isnan(gemme[pos,:])]))\n",
    "    ax4.bar(x=0.5,height=np.mean(rosetta[pos,:][~np.isnan(rosetta[pos,:])]))   \n",
    "    ax5.bar(x=0.5,height=gemme_n[pos])\n",
    "    ax6.bar(x=0.5,height=rosetta_n[pos])\n",
    "    \n",
    "    \n",
    "    ax1.set_title('variants classification')\n",
    "    ax2.set_title('WCN')\n",
    "    ax3.set_title(r'$\\bar{G}$')\n",
    "    ax4.set_title(r'$\\bar{r}$')\n",
    "    ax5.set_title(r'G_n')\n",
    "    ax6.set_title(r'r_n')\n",
    "    \n",
    "    ax1.set_xlabel('rosetta_score',fontsize=13)\n",
    "    ax1.set_ylabel('GEMME score',fontsize=13)\n",
    "    ax1.set_xlim(6,-1)\n",
    "    ax1.set_ylim(-7,1)\n",
    "    ax2.set_ylim(0,15)\n",
    "    ax3.set_ylim(0,-8)\n",
    "    ax4.set_ylim(0,6)\n",
    "    ax5.set_ylim(0,-8)\n",
    "    ax6.set_ylim(0,6)\n",
    "    \n",
    "    \n",
    "    ax2.set_xticks([],[])\n",
    "    ax3.set_xticks([],[])\n",
    "    ax4.set_xticks([],[])\n",
    "    ax5.set_xticks([],[])\n",
    "    ax6.set_xticks([],[])\n",
    "    ax2.set_xlim(0.1,0.9)\n",
    "    \n",
    "    \n",
    "    \n",
    "    ax1.legend()"
   ]
  },
  {
   "cell_type": "code",
   "execution_count": 23,
   "id": "9516f99f-6958-402b-9fd8-2fa5a668cc57",
   "metadata": {},
   "outputs": [],
   "source": [
    "def results_plot(MCC,AUC,name_models):\n",
    "    \n",
    "    fig,(ax1,ax2,ax3)=plt.subplots(1,3,figsize=(14,4))\n",
    "    \n",
    "    cdict = {1: '#355070', 2: '#6D597A',2:'#B56576',3 :'#a4d600',4:'#a47f4b',5:'#EAAC8B',6:'#4a944f',7:\"#F95738\"}\n",
    "    for g in range(0,7):\n",
    "        ax1.scatter(AUC[g,1],AUC[g,0],c=cdict[g+1])\n",
    "    ax1.plot([0, 1], [0, 1], transform=ax1.transAxes,ls=':')\n",
    "    ax1.set_xlabel('FPR',fontsize=13)\n",
    "    ax1.set_ylabel('TPR',fontsize=13)\n",
    "    \n",
    "    for g in range(0,7):\n",
    "        ax2.scatter(MCC[g,0],MCC[g,1],c=cdict[g+1], label=g+1)\n",
    "    #ax2.scatter(MCC[:,0],MCC[:,1],c=color_class)\n",
    "    \n",
    "    ax2.set_xlabel('Precision',fontsize=13)\n",
    "    ax2.set_ylabel('Recall',fontsize=13)\n",
    "    ax2.legend(loc='lower right')\n",
    "    \n",
    "    cbar=[cdict[i] for i in range(1,8)]\n",
    "    ax3.bar(name_models,MCC[:,2],color=cbar)\n",
    "    ax3.set_ylabel('MCC',fontsize=13)\n"
   ]
  },
  {
   "cell_type": "code",
   "execution_count": 24,
   "id": "d39183f2-0d5d-4012-a672-ed7d0dfd4b98",
   "metadata": {},
   "outputs": [],
   "source": [
    "def print_percentage_prediction(pred,mode_pred,WT,WT_ros):\n",
    "    effective_pos=0\n",
    "    for i in range(len(WT)):\n",
    "        if WT[i]==WT_ros[i]:\n",
    "            effective_pos+=1\n",
    "    count_SBI=0\n",
    "    for i in pred:\n",
    "        if i ==1:\n",
    "            count_SBI+=1\n",
    "    \n",
    "    print(f' SBI variants: {count_SBI} out of {len(pred)} ({count_SBI/len(pred)*100:.2f}%) ')\n",
    "    \n",
    "    perc_variants=count_SBI/len(pred)*100\n",
    "    \n",
    "    count_SBI=0\n",
    "    for i in mode_pred:\n",
    "        if i==1:\n",
    "            count_SBI+=1\n",
    "    print(f' SBI residues: {count_SBI} out of {effective_pos} ({count_SBI/effective_pos*100:.2f}%) ')\n",
    "    \n",
    "    return [perc_variants, count_SBI/effective_pos*100]"
   ]
  },
  {
   "cell_type": "code",
   "execution_count": 25,
   "id": "788c5e08-5d2b-4d34-ae31-4970a78e999f",
   "metadata": {},
   "outputs": [],
   "source": [
    "def print_numbers_prediction(pred,mode_pred,WT,WT_ros):\n",
    "    effective_pos=0\n",
    "    for i in range(len(WT)):\n",
    "        if WT[i]==WT_ros[i]:\n",
    "            effective_pos+=1\n",
    "    count_SBI=0\n",
    "    for i in pred:\n",
    "        if i ==1:\n",
    "            count_SBI+=1\n",
    "    \n",
    "    variants=count_SBI\n",
    "    \n",
    "    count_SBI=0\n",
    "    for i in mode_pred:\n",
    "        if i==1:\n",
    "            count_SBI+=1\n",
    "    \n",
    "    return [variants, count_SBI]"
   ]
  },
  {
   "cell_type": "code",
   "execution_count": 26,
   "id": "88d6d77e-289d-42f0-8a97-79a9bf39acc5",
   "metadata": {},
   "outputs": [],
   "source": [
    "def print_numbers_classification(pred,mode_pred):\n",
    "\n",
    "    count_SBI=[0,0,0,0]\n",
    "    for i in pred:\n",
    "            count_SBI[int(i)]+=1\n",
    "    \n",
    "    variants=count_SBI\n",
    "    \n",
    "    count_SBI=[0,0,0,0,0]\n",
    "    for i in mode_pred:\n",
    "        if np.isnan(i)!=True:\n",
    "            if i==5:\n",
    "                count_SBI[4]+=1\n",
    "            else:\n",
    "                count_SBI[int(i)]+=1\n",
    "    \n",
    "    return [variants, count_SBI]"
   ]
  },
  {
   "cell_type": "code",
   "execution_count": 27,
   "id": "52674883-3500-4ea2-ab1f-24f4e065421c",
   "metadata": {},
   "outputs": [],
   "source": [
    "def print_catalytic_classification(mode_pred,cat_positions):\n",
    "    cat_pos=[x - 1 for x in cat_positions]\n",
    "    cat_pos=np.array(cat_pos)\n",
    "    count_SBI=[0,0,0,0,0]\n",
    "\n",
    "    for i,n in enumerate(mode_pred):\n",
    "        if np.count_nonzero(cat_pos == i)==1:\n",
    "            if np.isnan(i)!=True:\n",
    "                if int(n)==5:\n",
    "                    count_SBI[4]+=1\n",
    "                else:\n",
    "                    count_SBI[int(n)]+=1\n",
    "    \n",
    "    return  count_SBI"
   ]
  },
  {
   "cell_type": "markdown",
   "id": "c9a10968-7f4e-4bfe-b120-35c9d9753548",
   "metadata": {},
   "source": [
    "### setup ML functions"
   ]
  },
  {
   "cell_type": "code",
   "execution_count": 28,
   "id": "f9adab2e-d308-401c-b277-fa9b342f0eb9",
   "metadata": {},
   "outputs": [],
   "source": [
    "def WCN(pdb_loc,scheme_e,WT):\n",
    "    r0=7.0\n",
    "    pdb=md.load(pdb_loc)\n",
    "    topology=pdb.topology\n",
    "    chainA=topology.select('chainid 0 and protein')\n",
    "    pdb_chain0=pdb.atom_slice(chainA)\n",
    "    pdb_dist,pdb_rp=md.compute_contacts(pdb_chain0,scheme=scheme_e,periodic=False)\n",
    "    \n",
    "    cm= md.geometry.squareform(pdb_dist,pdb_rp)[0]\n",
    "    wcn=np.zeros((len(WT)),dtype=float)\n",
    "    \n",
    "    cm_adj=np.empty((len(WT),len(WT)),dtype=float)\n",
    "    cm_adj[:]=np.nan\n",
    "    chainA_top=pdb_chain0.topology\n",
    "    \n",
    "    for i in range(cm.shape[0]):\n",
    "        for j in range(cm.shape[1]):\n",
    "            if i==0 and j==0:\n",
    "                print(str(chainA_top.residue(i)))\n",
    "            cm_adj[int(str(chainA_top.residue(i))[3:])-1,int(str(chainA_top.residue(j))[3:])-1]=cm[i,j]\n",
    "    for i in range(len(WT)):\n",
    "        nan_flag=True\n",
    "        for j in range(len(WT)):\n",
    "            if np.isnan(cm_adj[i,j])!=True and cm_adj[i,j]!=0.0:\n",
    "                nan_flag=False\n",
    "                wcn[i]+=(1-(cm_adj[i,j]*10/r0)**6)/(1-(cm_adj[i,j]*10/r0)**12)\n",
    "        if nan_flag==True:\n",
    "            wcn[i]=np.nan\n",
    "    return wcn"
   ]
  },
  {
   "cell_type": "code",
   "execution_count": 29,
   "id": "c7bae799-299d-4a66-9585-b7d55327e7b0",
   "metadata": {},
   "outputs": [],
   "source": [
    "def neighbor_scores(score,ext_range):\n",
    "    score_neighborhood=np.zeros(len(score),dtype=float)\n",
    "    for i in range(len(score)):\n",
    "        if np.isnan(score[i])!=True:\n",
    "            count_nan=0\n",
    "            if i==0:\n",
    "                for j in range(1,ext_range+1):\n",
    "                    if np.isnan(score[j])==False:\n",
    "                        score_neighborhood[i]+=score[j]\n",
    "                    else:\n",
    "                        count_nan+=1\n",
    "                if count_nan!=ext_range:    \n",
    "                    score_neighborhood[i]/=(ext_range)\n",
    "                else:\n",
    "                    score_neighborhood[i]=np.nan\n",
    "\n",
    "            elif i==(len(score)-1):\n",
    "                for j in range(len(score)-1-ext_range,len(score)-1):\n",
    "                    if np.isnan(score[j])==False:\n",
    "                        score_neighborhood[i]+=score[j]\n",
    "                    else:\n",
    "                        count_nan+=1\n",
    "                if count_nan!=ext_range: \n",
    "                    score_neighborhood[i]/=ext_range\n",
    "                else:\n",
    "                    score_neighborhood[i]=np.nan                \n",
    "            elif i<ext_range:\n",
    "                for j in range(0,i+ext_range+1):\n",
    "                    if j!=i:\n",
    "                        if np.isnan(score[j])==False:\n",
    "                            score_neighborhood[i]+=score[j]\n",
    "                        else:\n",
    "                            count_nan+=1\n",
    "                if count_nan!=(i+ext_range):    \n",
    "                    score_neighborhood[i]/=(i+ext_range)\n",
    "                else:\n",
    "                    score_neighborhood[i]=np.nan                        \n",
    "\n",
    "            elif i>(len(score)-1-ext_range):\n",
    "                for j in range(i-ext_range,len(score)):\n",
    "                    if j!=i:\n",
    "                        if np.isnan(score[j])==False:\n",
    "                            score_neighborhood[i]+=score[j]\n",
    "                        else:\n",
    "                            count_nan+=1\n",
    "                if count_nan!=(len(score)-i+ext_range):                     \n",
    "                    score_neighborhood[i]/=(len(score)-i+ext_range)\n",
    "                else:\n",
    "                    score_neighborhood[i]=np.nan  \n",
    "            else:\n",
    "                for j in range(i-ext_range,i+ext_range+1):\n",
    "                    if j!=i:\n",
    "                        if np.isnan(score[j])==False:\n",
    "                            score_neighborhood[i]+=score[j]\n",
    "                        else:\n",
    "                            count_nan+=1\n",
    "                if count_nan!=(2*ext_range):  \n",
    "                    score_neighborhood[i]/=(2*ext_range)\n",
    "                else:\n",
    "                    score_neighborhood[i]=np.nan             \n",
    "        else:\n",
    "            score_neighborhood[i]=np.nan\n",
    "    return score_neighborhood"
   ]
  },
  {
   "cell_type": "code",
   "execution_count": 30,
   "id": "3957e93a-8ecb-46f0-a865-12aeeb2eae09",
   "metadata": {},
   "outputs": [],
   "source": [
    "def label_category(output,threshold):\n",
    "    labels=[]\n",
    "    if output.ndim==1:\n",
    "        labels=np.copy(output)\n",
    "        labels[:]=np.nan\n",
    "        for i in range(len(output)):\n",
    "            if output[i]<threshold:\n",
    "                labels[i]=0\n",
    "            else:\n",
    "                labels[i]=1\n",
    "    else:\n",
    "        labels=np.copy(output)\n",
    "        labels[:]=np.nan\n",
    "        for i in range(output.shape[0]):\n",
    "            for j in range(output.shape[1]):\n",
    "                if output[i,j]<threshold:\n",
    "                    labels[i,j]=1\n",
    "                else:\n",
    "                    labels[i,j]=0\n",
    "    return labels"
   ]
  },
  {
   "cell_type": "code",
   "execution_count": 31,
   "id": "1b357e91-9a23-4779-b2db-63f994dc43a9",
   "metadata": {},
   "outputs": [],
   "source": [
    "def features_classification(list_features_x,list_output_y,WT):\n",
    "    \n",
    "    X=[]\n",
    "    Y=[]\n",
    "    mapping_pos=[] \n",
    "    \n",
    "    for i in range(len(WT)):\n",
    "        for j in range(20):\n",
    "            if j!=(alphabetAA_L_D[WT[i]]-1):\n",
    "                temp_x=[]\n",
    "                temp_y=[]\n",
    "                cond=True\n",
    "\n",
    "                for elem in list_features_x:\n",
    "                    if elem.ndim==1:\n",
    "                        if np.isnan(elem[i])==True:\n",
    "                            cond=False\n",
    "                    else:\n",
    "                        if np.isnan(elem[i,j])==True:\n",
    "                            cond=False    \n",
    "                \n",
    "                for elem in list_output_y:\n",
    "                    if elem.ndim==1:\n",
    "                        if np.isnan(elem[i])==True:\n",
    "                            cond=False\n",
    "                    else:\n",
    "                        if np.isnan(elem[i,j])==True:\n",
    "                            cond=False \n",
    "\n",
    "                if cond==True:\n",
    "                    \n",
    "                    for elem in list_features_x:\n",
    "                        if elem.ndim==1:\n",
    "                            temp_x.append(elem[i])\n",
    "                        else:\n",
    "                            temp_x.append(elem[i,j])\n",
    "\n",
    "                    for elem in list_output_y:\n",
    "                        if elem.ndim==1:\n",
    "                            temp_y.append(elem[i])\n",
    "                        else:\n",
    "                            temp_y.append(elem[i,j])\n",
    "                    \n",
    "                if len(temp_x)>0:\n",
    "                    X.append(temp_x)\n",
    "                    Y.append(temp_y)\n",
    "                    mapping_pos.append([i,j])\n",
    "        \n",
    "    return np.array(X),Y,mapping_pos        "
   ]
  },
  {
   "cell_type": "code",
   "execution_count": 32,
   "id": "fe8075b2-ae5f-4a3b-aa50-3b64bd8010fe",
   "metadata": {},
   "outputs": [],
   "source": [
    "def features_classification(list_features_x,list_output_y,WT):\n",
    "    \n",
    "    X=[]\n",
    "    Y=[]\n",
    "    mapping_pos=[] \n",
    "    \n",
    "    for i in range(len(WT)):\n",
    "        for j in range(20):\n",
    "            if j!=(alphabetAA_L_D[WT[i]]-1):\n",
    "                temp_x=[]\n",
    "                temp_y=[]\n",
    "                cond=True\n",
    "\n",
    "                for elem in list_features_x:\n",
    "                    if elem.ndim==1:\n",
    "                        if np.isnan(elem[i])==True:\n",
    "                            cond=False\n",
    "                    else:\n",
    "                        if np.isnan(elem[i,j])==True:\n",
    "                            cond=False    \n",
    "                \n",
    "                for elem in list_output_y:\n",
    "                    if elem.ndim==1:\n",
    "                        if np.isnan(elem[i])==True:\n",
    "                            cond=False\n",
    "                    else:\n",
    "                        if np.isnan(elem[i,j])==True:\n",
    "                            cond=False \n",
    "\n",
    "                if cond==True:\n",
    "                    \n",
    "                    for elem in list_features_x:\n",
    "                        if elem.ndim==1:\n",
    "                            temp_x.append(elem[i])\n",
    "                        else:\n",
    "                            temp_x.append(elem[i,j])\n",
    "\n",
    "                    for elem in list_output_y:\n",
    "                        if elem.ndim==1:\n",
    "                            temp_y.append(elem[i])\n",
    "                        else:\n",
    "                            temp_y.append(elem[i,j])\n",
    "                    \n",
    "                if len(temp_x)>0:\n",
    "                    X.append(temp_x)\n",
    "                    Y.append(temp_y)\n",
    "                    mapping_pos.append([i,j])\n",
    "        \n",
    "    return np.array(X),Y,mapping_pos        "
   ]
  },
  {
   "cell_type": "code",
   "execution_count": 33,
   "id": "18abc118-88eb-48da-a127-2abfe6ae2cd0",
   "metadata": {},
   "outputs": [],
   "source": [
    "def features_validation(list_features_x,WT):\n",
    "    \n",
    "    X=[]\n",
    "    mapping_pos=[] \n",
    "    \n",
    "    for i in range(len(WT)):\n",
    "        for j in range(20):\n",
    "            if j!=(alphabetAA_L_D[WT[i]]-1):\n",
    "                temp_x=[]\n",
    "                temp_y=[]\n",
    "                cond=True\n",
    "\n",
    "                for elem in list_features_x:\n",
    "                    if elem.ndim==1:\n",
    "                        if np.isnan(elem[i])==True:\n",
    "                            cond=False\n",
    "                    else:\n",
    "                        if np.isnan(elem[i,j])==True:\n",
    "                            cond=False    \n",
    "            \n",
    "\n",
    "                if cond==True:\n",
    "                    \n",
    "                    for elem in list_features_x:\n",
    "                        if elem.ndim==1:\n",
    "                            temp_x.append(elem[i])\n",
    "                        else:\n",
    "                            temp_x.append(elem[i,j])\n",
    "                    \n",
    "                if len(temp_x)>0:\n",
    "                    X.append(temp_x)\n",
    "                    mapping_pos.append([i,j])\n",
    "        \n",
    "    return np.array(X),mapping_pos        "
   ]
  },
  {
   "cell_type": "code",
   "execution_count": 34,
   "id": "66ad4b53-6a23-43c8-9f8f-808d7610a2ec",
   "metadata": {},
   "outputs": [],
   "source": [
    "def binary_threshold(data_x,data_y,t_x,t_y):\n",
    "    labels=np.copy(data_x)\n",
    "    labels[:]=np.nan\n",
    "    \n",
    "    for i in range(data_x.shape[0]):\n",
    "        for j in range(data_x.shape[1]):\n",
    "            if np.isnan(data_x[i,j])!= True and np.isnan(data_y[i,j])!=True:\n",
    "                if data_x[i,j] > t_x and data_y[i,j]<t_y:\n",
    "                    labels[i,j]=1\n",
    "                else:\n",
    "                    labels[i,j]=0\n",
    "    \n",
    "    return labels"
   ]
  },
  {
   "cell_type": "code",
   "execution_count": 35,
   "id": "cf9e7ee6-c3e3-46df-9a78-704c782a8f89",
   "metadata": {},
   "outputs": [],
   "source": [
    "def multiclass_threshold(data_x,data_y,t_x,t_y):\n",
    "    labels=np.copy(data_x)\n",
    "    labels[:]=np.nan\n",
    "    \n",
    "    for i in range(data_x.shape[0]):\n",
    "        for j in range(data_x.shape[1]):\n",
    "            if np.isnan(data_x[i,j])!= True and np.isnan(data_y[i,j])!=True:\n",
    "                if data_x[i,j] > t_x and data_y[i,j]<t_y:\n",
    "                    labels[i,j]=1\n",
    "                elif data_x[i,j] < t_x and data_y[i,j]<t_y:\n",
    "                    labels[i,j]=2\n",
    "                elif data_x[i,j] < t_x and data_y[i,j]>t_y:\n",
    "                    labels[i,j]=3\n",
    "                else:\n",
    "                    labels[i,j]=0\n",
    "    \n",
    "    return labels"
   ]
  },
  {
   "cell_type": "code",
   "execution_count": 36,
   "id": "684aa1e5-b57e-4a27-ada1-da6c7d2166ab",
   "metadata": {
    "tags": []
   },
   "outputs": [],
   "source": [
    "def prob_to_label(probability,thr):\n",
    "    labels=np.zeros(probability.shape[0],dtype=int)\n",
    "    for i in range(probability.shape[0]):\n",
    "        if probability[i][1]>thr:\n",
    "            labels[i]=1\n",
    "            #print(1)\n",
    "        else:\n",
    "            labels[i]=0\n",
    "            #print(0)\n",
    "    return labels"
   ]
  },
  {
   "cell_type": "code",
   "execution_count": 54,
   "id": "e2c2d84a-f670-47f1-9e5b-20d153867ab2",
   "metadata": {
    "tags": []
   },
   "outputs": [],
   "source": [
    "def modify_dssp(protein,dssp_data,sequence,pdb_chain='A'):\n",
    "\n",
    "    \"\"\"\n",
    "    Read the dictionary output from Biopython function Bio.PDB.DSSP.make_dssp_dict,\n",
    "    and put relevant DSSP data (i.e. the secondary structure and  ASA) into a DataFrame.\n",
    "    Remove data for residues that do not occur in the UniProt sequences of the proteins (e.g.\n",
    "    residues added or mutated for experimental/purification reasons).\n",
    "    \"\"\"\n",
    "\n",
    "    # get relevant data from make_dssp_dict dictionary\n",
    "    dssp_dict = {}\n",
    "    for res in list(dssp_data[0].keys()):\n",
    "        if res[0] == pdb_chain: # select only from specified chain\n",
    "            dssp_dict[res[1][1]] = list(dssp_data[0][res][0:3]) # extract only SS and ASA\n",
    "\n",
    "    # create DataFrame with the selected DSSP output\n",
    "    df_dssp_raw = pd.DataFrame.from_dict(dssp_dict,orient='index',columns=['PDB_res','ss','ASA',])\n",
    "\n",
    "    # create DataFrame with UniProt sequence data\n",
    "    uniprot_seq = dict(zip(range(1,len(sequence)+1),sequence))\n",
    "    df_seq = pd.DataFrame.from_dict(uniprot_seq,orient='index',columns=['Sequence'])\n",
    "\n",
    "    # remove data for residues (residue indices) not present in UniProt sequences\n",
    "    for i in np.array(df_dssp_raw.index):\n",
    "        if i not in np.array(df_seq.index):\n",
    "            print(str(i)+str(df_dssp_raw.loc[i][0])+' will be removed')\n",
    "            df_dssp_raw.drop([i],inplace=True)\n",
    "\n",
    "    # remove data for residues not matching the residues in the UniProt sequence (within the sequence)\n",
    "    if np.all(df_dssp_raw['PDB_res'] == df_seq['Sequence'].loc[df_dssp_raw['PDB_res'].index]):\n",
    "        df_dssp_final = pd.concat([df_seq,df_dssp_raw],axis=1)\n",
    "    else:\n",
    "        mismatch = list(df_dssp_raw['PDB_res'][df_dssp_raw['PDB_res'] !=\n",
    "                                               df_seq['Sequence'].loc[df_dssp_raw['PDB_res'].index]].index)\n",
    "        print(mismatch)\n",
    "        print('Sequences do not match, residue(s) {} will be removed'.format(str(mismatch)))\n",
    "        df_dssp_raw.drop(mismatch,inplace=True)\n",
    "        df_dssp_final = pd.concat([df_seq,df_dssp_raw],axis=1)\n",
    "\n",
    "    # add relative ASA to final DataFrame\n",
    "\n",
    "    # maxASA from doi:10.1371/journal.pone.0080635\n",
    "    maxASA = {'A':129.0, 'R':274.0, 'N':195.0, 'D':193.0, 'C':167.0, 'E':223.0, 'Q':225.0, 'G':104.0,\n",
    "              'H':224.0, 'I':197.0, 'L':201.0, 'K':236.0, 'M':224.0, 'F':240.0, 'P':159.0, 'S':155.0,\n",
    "              'T':172.0, 'W':285.0, 'Y':263.0, 'V':174.0}\n",
    "\n",
    "    # calculate and add rASAs to df_dssp_final\n",
    "    rASA_list = []\n",
    "    for i in df_dssp_final.index:\n",
    "        res_type = df_dssp_final['Sequence'].loc[i]\n",
    "        rASA = (df_dssp_final['ASA'].loc[i])/(maxASA[res_type])\n",
    "        rASA_list.append(rASA)\n",
    "    df_dssp_final['rASA'] = rASA_list\n",
    "\n",
    "    return df_dssp_final\n",
    "            "
   ]
  },
  {
   "cell_type": "markdown",
   "id": "09bd6f1d-ede3-4c1f-ab96-712a8225f40d",
   "metadata": {
    "tags": [],
    "toc-hr-collapsed": true
   },
   "source": [
    "## Load trained model"
   ]
  },
  {
   "cell_type": "code",
   "execution_count": 37,
   "id": "567522c5-ac84-4c73-8800-ba56cb491a23",
   "metadata": {
    "tags": []
   },
   "outputs": [],
   "source": [
    "cat=CatBoostClassifier(iterations=2500, random_strength= 1, depth= 7, l2_leaf_reg= 9, bagging_temperature= 2,verbose=0,class_weights={0:1,1:2,2:1,3:0.1})"
   ]
  },
  {
   "cell_type": "code",
   "execution_count": 38,
   "id": "48d96fe4-176b-4150-8976-c8cbe0ccca7a",
   "metadata": {
    "tags": []
   },
   "outputs": [
    {
     "data": {
      "text/plain": [
       "<catboost.core.CatBoostClassifier at 0x7fd1f034af50>"
      ]
     },
     "execution_count": 38,
     "metadata": {},
     "output_type": "execute_result"
    }
   ],
   "source": [
    "cat.load_model('../catboost_model/cat_trained_24jun22.cbm')"
   ]
  },
  {
   "cell_type": "markdown",
   "id": "2204d932-8009-4553-aa7c-3e3a9fdf820d",
   "metadata": {
    "toc-hr-collapsed": true
   },
   "source": [
    "### P00469 data"
   ]
  },
  {
   "cell_type": "code",
   "execution_count": 37,
   "id": "4a843f8a-66d8-42fc-82a5-829a891e85e9",
   "metadata": {
    "tags": []
   },
   "outputs": [],
   "source": [
    "P00469_WT_sequence=\"MLEQPYLDLAKKVLDEGHFKPDRTHTGTYSIFGHQMRFDLSKGFPLLTTKKVPFGLIKSELLWFLHGDTNIRFLLQHRNHIWDEWAFEKWVKSDEYHGPDMTDFGHRSQKDPEFAAVYHEEMAKFDDRVLHDDAFAAKYGDLGLVYGSQWRAWHTSKGDTIDQLGDVIEQIKTHPYSRRLIVSAWNPEDVPTMALPPCHTLYQFYVNDGKLSLQLYQRSADIFLGVPFNIASYALLTHLVAHECGLEVGEFIHTFGDAHLYVNHLDQIKEQLSRTPRPAPTLQLNPDKHDIFDFDMKDIKLLNYDPYPAIKAPVAV\"\n",
    "P00469_WT_seq_rose=\"MLEQPYLDLAKKVLDEGHFKPDRTHTGTYSIFGHQMRFDLSKGFPLLTTKKVPFGLIKSELLWFLHGDTNIRFLLQHRNHIWDEWAFEKWVKSDEYHGPDMTDFGHRSQKDPEFAAVYHEEMAKFDDRVLHDDAFAAKYGDLGLVYGSQWRAWHTSKGDTIDQLGDVIEQIKTHPYSRRLIVSAWNPEDVPTMALPPCHTLYQFYVNDGKLSLQLYQRSADIFLGVPFNIASYALLTHLVAHECGLEVGEFIHTFGDAHLYVNHLDQIKEQLSRTPRPAPTLQLNPDKHDIFDFDMKDIKLLNYDPYPAIKAPVAV\""
   ]
  },
  {
   "cell_type": "code",
   "execution_count": 38,
   "id": "f5817358-2e37-4191-8247-a2d7f144c2b3",
   "metadata": {
    "tags": []
   },
   "outputs": [
    {
     "name": "stdout",
     "output_type": "stream",
     "text": [
      "316 1.0\n"
     ]
    }
   ],
   "source": [
    "count=0\n",
    "for i in range(len(P00469_WT_sequence)):\n",
    "    if P00469_WT_sequence[i]==P00469_WT_seq_rose[i]:\n",
    "        count+=1\n",
    "print(len(P00469_WT_sequence),count/len(P00469_WT_seq_rose))"
   ]
  },
  {
   "cell_type": "markdown",
   "id": "14400ff3-9124-44a6-ae86-4229a5282f83",
   "metadata": {},
   "source": [
    "#### P00469 active site"
   ]
  },
  {
   "cell_type": "code",
   "execution_count": 39,
   "id": "be663cf1-faf9-431d-80bd-92c3fd1414e8",
   "metadata": {
    "tags": []
   },
   "outputs": [],
   "source": [
    "P00469_db_positions=[82,198,60,218,221,146]"
   ]
  },
  {
   "cell_type": "code",
   "execution_count": 40,
   "id": "e32c80eb-2305-45b7-9eba-8cdf7a6f8b4e",
   "metadata": {
    "tags": []
   },
   "outputs": [],
   "source": [
    "P00469_db_ligand_positions=[195,198,199,218,219,229,259,261]"
   ]
  },
  {
   "cell_type": "markdown",
   "id": "4e41f73a-f16f-4310-b026-e3443e7d1364",
   "metadata": {},
   "source": [
    "#### Co-evolution"
   ]
  },
  {
   "cell_type": "code",
   "execution_count": 43,
   "id": "1b854465-01d0-4031-beae-c53ba7a3f8ea",
   "metadata": {
    "tags": []
   },
   "outputs": [],
   "source": [
    "P00469_GEMME=load_data_V2('../scores_GEMME/prism_gemme_P00469.txt',P00469_WT_sequence)\n",
    "P00469_GEMME=remove_WT_score(P00469_GEMME,P00469_WT_sequence)"
   ]
  },
  {
   "cell_type": "code",
   "execution_count": 44,
   "id": "ff3c8e7b-e37f-439b-b280-b8e00d1e0c08",
   "metadata": {
    "tags": []
   },
   "outputs": [],
   "source": [
    "P00469_GEMME_mean=position_mean(P00469_GEMME)"
   ]
  },
  {
   "cell_type": "markdown",
   "id": "3af410b3-f78a-43c5-a14c-1227b0ebbe4f",
   "metadata": {},
   "source": [
    "####  Rosetta ddG"
   ]
  },
  {
   "cell_type": "code",
   "execution_count": 45,
   "id": "36079e5c-c6ad-4bef-904c-d2eec5225d0b",
   "metadata": {
    "tags": []
   },
   "outputs": [],
   "source": [
    "P00469_rosetta_ddg=load_data_V2(\"../scores_rosetta/prism_rosetta_ddg_P00469.txt\",P00469_WT_seq_rose,0)\n",
    "P00469_rosetta_ddg=remove_WT_score(P00469_rosetta_ddg,P00469_WT_seq_rose)"
   ]
  },
  {
   "cell_type": "code",
   "execution_count": 46,
   "id": "a38100bc-68fa-4f25-a29c-7a2a0f7b5f4f",
   "metadata": {
    "tags": []
   },
   "outputs": [],
   "source": [
    "P00469_rosetta_ddg_norm=normalize_cutoff(P00469_rosetta_ddg,0.0,5.0)"
   ]
  },
  {
   "cell_type": "code",
   "execution_count": 47,
   "id": "eee87ca9-9356-47c0-bee6-bc4e5339806b",
   "metadata": {
    "tags": []
   },
   "outputs": [],
   "source": [
    "P00469_rosetta_ddg_mean=position_mean(P00469_rosetta_ddg_norm)"
   ]
  },
  {
   "cell_type": "code",
   "execution_count": 48,
   "id": "950ab6a1-00ac-44cf-8040-8fc7980e5f4c",
   "metadata": {
    "tags": []
   },
   "outputs": [],
   "source": [
    "P00469_rosetta_ddg_mean_non=position_mean(P00469_rosetta_ddg)"
   ]
  },
  {
   "cell_type": "code",
   "execution_count": 49,
   "id": "fa5ab404-cc2d-4906-85f3-109fb042a16e",
   "metadata": {
    "tags": []
   },
   "outputs": [],
   "source": [
    "P00469_rosetta_dimer_ddg=load_data_V2(\"../scores_rosetta/prism_rosetta_ddg_P00469_dimer.txt\",P00469_WT_seq_rose,0)\n",
    "P00469_rosetta_dimer_ddg=remove_WT_score(P00469_rosetta_dimer_ddg,P00469_WT_seq_rose)\n",
    "P00469_rosetta_dimer_ddg/=2"
   ]
  },
  {
   "cell_type": "code",
   "execution_count": 50,
   "id": "488f487e-a9a3-4bdd-a8b8-eeaf08061d5c",
   "metadata": {
    "tags": []
   },
   "outputs": [],
   "source": [
    "P00469_rosetta_dimer_ddg_norm=normalize_cutoff(P00469_rosetta_dimer_ddg,0.0,5.0)"
   ]
  },
  {
   "cell_type": "code",
   "execution_count": 51,
   "id": "201be04c-55c4-41d0-bebb-6864a534f432",
   "metadata": {
    "tags": []
   },
   "outputs": [],
   "source": [
    "P00469_rosetta_dimer_ddg_mean=position_mean(P00469_rosetta_dimer_ddg_norm)"
   ]
  },
  {
   "cell_type": "code",
   "execution_count": 52,
   "id": "fc681dd7-b461-42b9-8aff-83ebfc877819",
   "metadata": {
    "tags": []
   },
   "outputs": [],
   "source": [
    "P00469_rosetta_dimer_ddg_mean_non=position_mean(P00469_rosetta_dimer_ddg)"
   ]
  },
  {
   "cell_type": "markdown",
   "id": "09ad29f7-b619-4275-af50-2fb76cb04c65",
   "metadata": {},
   "source": [
    "#### Hydrophobicity"
   ]
  },
  {
   "cell_type": "code",
   "execution_count": 141,
   "id": "86b3c536-7694-466a-96b1-27490dc99358",
   "metadata": {},
   "outputs": [],
   "source": [
    "P00469_hydrophobicity_mut=np.empty((len(P00469_WT_sequence),20),dtype=float)\n",
    "P00469_hydrophobicity_mut[:]=np.nan"
   ]
  },
  {
   "cell_type": "code",
   "execution_count": 142,
   "id": "52ac10b8-5f64-49ee-bb08-13fb8733bb1e",
   "metadata": {},
   "outputs": [],
   "source": [
    "for i in range(len(P00469_WT_sequence)):\n",
    "    for j in range(20):\n",
    "        P00469_hydrophobicity_mut[i,j]=AA_to_hydrophobicity_scores[alphabetAA_D_L[j+1]]"
   ]
  },
  {
   "cell_type": "markdown",
   "id": "f06084ff-ea5a-4f12-a812-b33eb61f79de",
   "metadata": {},
   "source": [
    "#### WCN"
   ]
  },
  {
   "cell_type": "code",
   "execution_count": 146,
   "id": "eb955387-c7cb-4c39-bb94-2e1b5e1984de",
   "metadata": {},
   "outputs": [
    {
     "name": "stdout",
     "output_type": "stream",
     "text": [
      "MET1\n"
     ]
    }
   ],
   "source": [
    "P00469_wcn=WCN('../pdb/P00469_1lcb.pdb','ca',P00469_WT_sequence)"
   ]
  },
  {
   "cell_type": "code",
   "execution_count": 147,
   "id": "37e90e90-75a4-433a-b504-13f5b69a2a73",
   "metadata": {},
   "outputs": [
    {
     "name": "stdout",
     "output_type": "stream",
     "text": [
      "MET1\n"
     ]
    }
   ],
   "source": [
    "P00469_wcn_dimer_double=WCN('../pdb/P00469_1lcb_dimer_singlechain.pdb','ca',P00469_WT_sequence+P00469_WT_sequence)"
   ]
  },
  {
   "cell_type": "code",
   "execution_count": 148,
   "id": "e1e89e67-ca6b-4e7e-abdc-b4ee4717e938",
   "metadata": {},
   "outputs": [],
   "source": [
    "P00469_wcn_dimer=P00469_wcn_dimer_double[0:len(P00469_WT_sequence)]"
   ]
  },
  {
   "cell_type": "markdown",
   "id": "99ed6dc0-3b1c-4126-bd11-53f821fd5a01",
   "metadata": {},
   "source": [
    "#### Secondary structure"
   ]
  },
  {
   "cell_type": "code",
   "execution_count": 149,
   "id": "21a7fdb1-dfa6-41e6-b0ef-d1998d255fcd",
   "metadata": {},
   "outputs": [],
   "source": [
    "P00469_ss=secondary_structure_cat_simp('../pdb/P00469_1lcb.pdb',P00469_WT_sequence)"
   ]
  },
  {
   "cell_type": "markdown",
   "id": "ce514088-75c0-496f-91ff-3ac4f379ed11",
   "metadata": {},
   "source": [
    "#### Neighbor sequences scores:"
   ]
  },
  {
   "cell_type": "code",
   "execution_count": 150,
   "id": "f7e99f52-5fef-4ec6-abf9-6e596465fbbd",
   "metadata": {},
   "outputs": [],
   "source": [
    "P00469_rosetta_neigbor_scores=neighbor_scores(P00469_rosetta_ddg_mean,1)\n",
    "\n",
    "P00469_GEMME_neigbor_scores=neighbor_scores(P00469_GEMME_mean,1)"
   ]
  },
  {
   "cell_type": "code",
   "execution_count": 151,
   "id": "44b6336c-4c3e-4a53-9051-9bd6c11ab393",
   "metadata": {},
   "outputs": [],
   "source": [
    "P00469_rosetta_dimer_neigbor_scores=neighbor_scores(P00469_rosetta_dimer_ddg_mean,1)"
   ]
  },
  {
   "cell_type": "markdown",
   "id": "def13f0f-4877-4e85-b07e-ef318a57e5e4",
   "metadata": {},
   "source": [
    "#### CA distance"
   ]
  },
  {
   "cell_type": "code",
   "execution_count": 152,
   "id": "c107e6cc-e4a1-49e2-929c-802885c8246e",
   "metadata": {},
   "outputs": [],
   "source": [
    "P00469_Ca_coord=struc_coordinates('../pdb/P00469_1lcb.pdb',P00469_WT_sequence)"
   ]
  },
  {
   "cell_type": "markdown",
   "id": "b222d87b-3dac-4783-b9ee-8aafd419b90a",
   "metadata": {
    "toc-hr-collapsed": false
   },
   "source": [
    "## MODEL_7: TRAINING and VALIDATION: 3 proteins - 2x"
   ]
  },
  {
   "cell_type": "code",
   "execution_count": 153,
   "id": "5e9ef908-ded2-4721-a553-775b3976b416",
   "metadata": {},
   "outputs": [],
   "source": [
    "count_SBI_model7=[0,0,0]"
   ]
  },
  {
   "cell_type": "code",
   "execution_count": 154,
   "id": "f67d9637-4025-4456-a48e-af0aa378c975",
   "metadata": {},
   "outputs": [],
   "source": [
    "count_SBI_perc_2x=[]"
   ]
  },
  {
   "cell_type": "code",
   "execution_count": 155,
   "id": "63ef6eae-b18e-4547-bb05-10a2ea420808",
   "metadata": {},
   "outputs": [],
   "source": [
    "asa_SBI_data=[]"
   ]
  },
  {
   "cell_type": "code",
   "execution_count": 156,
   "id": "e530e2c9-8a70-44a0-add8-52ad18f2e077",
   "metadata": {},
   "outputs": [],
   "source": [
    "ss_SBI_data=[]"
   ]
  },
  {
   "cell_type": "code",
   "execution_count": 157,
   "id": "a5b6fe64-99bc-4e74-b768-76e70476f153",
   "metadata": {},
   "outputs": [],
   "source": [
    "AA_SBI_data=[]"
   ]
  },
  {
   "cell_type": "code",
   "execution_count": 158,
   "id": "2319946a-496f-4fa7-9781-34d4c9d6d724",
   "metadata": {},
   "outputs": [],
   "source": [
    "act_site_distance_SBI=[]"
   ]
  },
  {
   "cell_type": "code",
   "execution_count": 159,
   "id": "e76cf170-fc5c-4e19-bad8-5b794da01215",
   "metadata": {},
   "outputs": [],
   "source": [
    "act_site_distance_total=[]"
   ]
  },
  {
   "cell_type": "code",
   "execution_count": 160,
   "id": "b1b96ce5-b84f-4bca-a765-f018eec9cd0b",
   "metadata": {},
   "outputs": [],
   "source": [
    "SBI_statistic_matrix=np.zeros((20,20),dtype=float)"
   ]
  },
  {
   "cell_type": "code",
   "execution_count": 161,
   "id": "29679537-8fa2-488b-a6ab-91f06bb5fa03",
   "metadata": {},
   "outputs": [],
   "source": [
    "SBI_statistic_matrix_slice=np.zeros((20,20),dtype=float)"
   ]
  },
  {
   "cell_type": "code",
   "execution_count": 162,
   "id": "bbc51126-0e17-4f67-bc7c-555fb4a31801",
   "metadata": {},
   "outputs": [],
   "source": [
    "NO_SBI_statistic_matrix_over2=np.zeros((20,20),dtype=float)"
   ]
  },
  {
   "cell_type": "code",
   "execution_count": 163,
   "id": "87a6aa4b-cf0f-4f8b-b345-023cf6fc297c",
   "metadata": {},
   "outputs": [],
   "source": [
    "NO_SBI_statistic_matrix_under2=np.zeros((20,20),dtype=float)"
   ]
  },
  {
   "cell_type": "code",
   "execution_count": 164,
   "id": "db70f5db-149b-4e48-a521-e1a955c3e47f",
   "metadata": {},
   "outputs": [],
   "source": [
    "SBI_statistic_matrix_slice=np.zeros((20,20),dtype=float)"
   ]
  },
  {
   "cell_type": "code",
   "execution_count": 165,
   "id": "106f32f2-75cd-459f-851f-ab4b32e6e990",
   "metadata": {},
   "outputs": [],
   "source": [
    "NO_SBI_statistic_matrix_over2_slice=np.zeros((20,20),dtype=float)"
   ]
  },
  {
   "cell_type": "code",
   "execution_count": 166,
   "id": "b8b4e5d5-326b-4d7b-92dd-3ef2a2f6968e",
   "metadata": {},
   "outputs": [],
   "source": [
    "NO_SBI_statistic_matrix_under2_slice=np.zeros((20,20),dtype=float)"
   ]
  },
  {
   "cell_type": "code",
   "execution_count": 167,
   "id": "f9bcaddd-a022-4b36-93f8-07c3b40d6b94",
   "metadata": {},
   "outputs": [],
   "source": [
    "slice_variants=[0,4]"
   ]
  },
  {
   "cell_type": "code",
   "execution_count": 168,
   "id": "6af59d57-30b0-4e93-b710-cdb2add954b5",
   "metadata": {},
   "outputs": [],
   "source": [
    "sbi_percentage=[]"
   ]
  },
  {
   "cell_type": "code",
   "execution_count": 169,
   "id": "fea57a38-bd59-4fe9-ae82-6aa6e957eb81",
   "metadata": {},
   "outputs": [],
   "source": [
    "count_MCSA_matched_over_threshold=0"
   ]
  },
  {
   "cell_type": "code",
   "execution_count": 170,
   "id": "21485a62-1ee3-47ac-9cf8-db2bd33f9b6a",
   "metadata": {},
   "outputs": [],
   "source": [
    "count_total_SBI_predicted=[0,0]"
   ]
  },
  {
   "cell_type": "code",
   "execution_count": 171,
   "id": "82ab866d-a46b-41b8-840b-daf9c9f3bc53",
   "metadata": {},
   "outputs": [],
   "source": [
    "sbi_perc_thr=0.5"
   ]
  },
  {
   "cell_type": "code",
   "execution_count": 172,
   "id": "4a048f87-0e93-455c-b4a1-4f5a3cc6dc5e",
   "metadata": {},
   "outputs": [],
   "source": [
    "proline_analysis=[]"
   ]
  },
  {
   "cell_type": "code",
   "execution_count": 173,
   "id": "875d9bc4-bea2-456e-8fb9-d5e8447a781d",
   "metadata": {},
   "outputs": [],
   "source": [
    "count_total_variant=np.zeros(4,dtype=int)\n",
    "count_total_residues=np.zeros(5,dtype=int)\n",
    "count_catalytic_residues=np.zeros(5,dtype=int)"
   ]
  },
  {
   "cell_type": "markdown",
   "id": "73523535-6e40-412b-8a4d-d862f1131dd3",
   "metadata": {
    "tags": []
   },
   "source": [
    "## Classification"
   ]
  },
  {
   "cell_type": "code",
   "execution_count": 256,
   "id": "68f4c4f9-b6c7-43d7-9670-24cea0ebac29",
   "metadata": {},
   "outputs": [],
   "source": [
    "cat=CatBoostClassifier(iterations=2000, random_strength= 1, depth= 7, l2_leaf_reg= 9, bagging_temperature= 2,verbose=0,class_weights={0:1,1:2,2:1,3:0.1})"
   ]
  },
  {
   "cell_type": "markdown",
   "id": "923f4896-2790-4ea0-9802-01a276da4555",
   "metadata": {
    "tags": []
   },
   "source": [
    "### Training"
   ]
  },
  {
   "cell_type": "code",
   "execution_count": 257,
   "id": "02c444e9-d9f4-422c-a2bd-ee57ad8015e8",
   "metadata": {},
   "outputs": [],
   "source": [
    "NUDT15_X,NUDT15_Y,NUDT15_map=features_classification([NUDT15_GEMME, NUDT15_rosetta_ddg_norm,NUDT15_GEMME_mean,NUDT15_rosetta_ddg_mean,NUDT15_hydrophobicity_mut,NUDT15_GEMME_neigbor_scores,NUDT15_rosetta_neigbor_scores,NUDT15_wcn],[NUDT15_labels],NUDT15_WT_sequence)"
   ]
  },
  {
   "cell_type": "code",
   "execution_count": 258,
   "id": "29d66330-40a7-4a91-b04b-30df715b73b3",
   "metadata": {},
   "outputs": [],
   "source": [
    "PTEN_X,PTEN_Y,PTEN_map=features_classification([PTEN_GEMME, PTEN_rosetta_ddg_norm,PTEN_GEMME_mean,PTEN_rosetta_ddg_mean,PTEN_hydrophobicity_mut,PTEN_GEMME_neigbor_scores,PTEN_rosetta_neigbor_scores,PTEN_wcn],[PTEN_labels],PTEN_WT_sequence)"
   ]
  },
  {
   "cell_type": "code",
   "execution_count": 259,
   "id": "c5bfce23-669c-4176-bbb9-2a4e7a2f8e1c",
   "metadata": {},
   "outputs": [],
   "source": [
    "CYP2C9_X,CYP2C9_Y,CYP2C9_map=features_classification([CYP2C9_GEMME, CYP2C9_rosetta_ddg_norm,CYP2C9_GEMME_mean,CYP2C9_rosetta_ddg_mean,CYP2C9_hydrophobicity_mut,CYP2C9_GEMME_neigbor_scores,CYP2C9_rosetta_neigbor_scores,CYP2C9_wcn],[CYP2C9_labels],CYP2C9_WT_sequence)"
   ]
  },
  {
   "cell_type": "code",
   "execution_count": 260,
   "id": "03a70376-d18d-4e4b-a874-0501e90124b1",
   "metadata": {},
   "outputs": [
    {
     "name": "stdout",
     "output_type": "stream",
     "text": [
      "9945\n",
      "9945\n"
     ]
    }
   ],
   "source": [
    "X=np.concatenate((NUDT15_X,PTEN_X,CYP2C9_X))\n",
    "print(len(X))\n",
    "Y=np.concatenate((NUDT15_Y,PTEN_Y,CYP2C9_Y))\n",
    "print(len(Y))"
   ]
  },
  {
   "cell_type": "code",
   "execution_count": 261,
   "id": "af61ad29-0c45-4b18-a376-c37b44a8f351",
   "metadata": {},
   "outputs": [
    {
     "data": {
      "text/plain": [
       "<catboost.core.CatBoostClassifier at 0x7f9d26d0a250>"
      ]
     },
     "execution_count": 261,
     "metadata": {},
     "output_type": "execute_result"
    }
   ],
   "source": [
    "cat.fit(X,Y)"
   ]
  },
  {
   "cell_type": "markdown",
   "id": "c9955f7d-9537-4240-bd53-2acfaf0a36b0",
   "metadata": {
    "toc-hr-collapsed": false
   },
   "source": [
    "## Validation"
   ]
  },
  {
   "cell_type": "markdown",
   "id": "f351f923-ef9f-440c-8723-eb3efae37f60",
   "metadata": {},
   "source": [
    "### P00469 Validation"
   ]
  },
  {
   "cell_type": "markdown",
   "id": "540e2ef7-72b1-4040-bcc8-22cd8aa343fc",
   "metadata": {},
   "source": [
    "#### monomer"
   ]
  },
  {
   "cell_type": "code",
   "execution_count": 262,
   "id": "0daca4d1-d266-4512-8089-f5580432c94a",
   "metadata": {},
   "outputs": [],
   "source": [
    "P00469_X,P00469_map=features_validation([P00469_GEMME, P00469_rosetta_ddg_norm,P00469_GEMME_mean,P00469_rosetta_ddg_mean,P00469_hydrophobicity_mut,P00469_GEMME_neigbor_scores,P00469_rosetta_neigbor_scores,P00469_wcn],P00469_WT_sequence)"
   ]
  },
  {
   "cell_type": "code",
   "execution_count": 263,
   "id": "919ba205-c199-4e1a-9c96-4b6e94b4cc2a",
   "metadata": {},
   "outputs": [],
   "source": [
    "prediction=cat.predict(P00469_X)"
   ]
  },
  {
   "cell_type": "code",
   "execution_count": 264,
   "id": "c9aac209-a28d-43ff-8fb1-40ce5cb9203a",
   "metadata": {},
   "outputs": [],
   "source": [
    "P00469_variant_pred=np.empty((len(P00469_WT_sequence),20),dtype=float)\n",
    "P00469_variant_pred[:]=np.nan\n",
    "\n",
    "for i,(n,m) in enumerate(zip(P00469_map,prediction)):\n",
    "    P00469_variant_pred[n[0],n[1]]=m"
   ]
  },
  {
   "cell_type": "code",
   "execution_count": 265,
   "id": "6896df01-3bee-4f3e-bbf8-840c719a80b2",
   "metadata": {},
   "outputs": [],
   "source": [
    "P00469_3mode_prediction,percentage=retrieve_residue_label_pred(prediction,P00469_map,P00469_WT_sequence,0.5)"
   ]
  },
  {
   "cell_type": "code",
   "execution_count": 266,
   "id": "ae8ada77-8bfd-4de8-8866-a862655a4d38",
   "metadata": {},
   "outputs": [],
   "source": [
    "print_chimera_x_attribute_file(P00469_3mode_prediction,P00469_3mode_prediction,'./outputs/P00469_chimerax_monomer_fm_predictions.defattr',model_id='#1',chain_id='/B',argument='monomer_classes')"
   ]
  },
  {
   "cell_type": "markdown",
   "id": "3c9f0a12-78dc-47fb-9762-0767ede71497",
   "metadata": {},
   "source": [
    "#### dimer"
   ]
  },
  {
   "cell_type": "code",
   "execution_count": 267,
   "id": "899662d2-5824-424a-aa92-330a26ebce76",
   "metadata": {},
   "outputs": [],
   "source": [
    "P00469_X,P00469_map=features_validation([P00469_GEMME, P00469_rosetta_dimer_ddg_norm,P00469_GEMME_mean,P00469_rosetta_dimer_ddg_mean,P00469_hydrophobicity_mut,P00469_GEMME_neigbor_scores,P00469_rosetta_dimer_neigbor_scores,P00469_wcn_dimer],P00469_WT_sequence)"
   ]
  },
  {
   "cell_type": "code",
   "execution_count": 268,
   "id": "74b4cb31-db16-46d4-8715-69c4af25a94c",
   "metadata": {},
   "outputs": [],
   "source": [
    "prediction=cat.predict(P00469_X)"
   ]
  },
  {
   "cell_type": "code",
   "execution_count": 269,
   "id": "efe30c08-ec55-4475-be4b-b0c2f26fa22d",
   "metadata": {},
   "outputs": [],
   "source": [
    "P00469_variant_dimer_pred=np.empty((len(P00469_WT_sequence),20),dtype=float)\n",
    "P00469_variant_dimer_pred[:]=np.nan\n",
    "\n",
    "for i,(n,m) in enumerate(zip(P00469_map,prediction)):\n",
    "    P00469_variant_dimer_pred[n[0],n[1]]=m"
   ]
  },
  {
   "cell_type": "code",
   "execution_count": 270,
   "id": "b5404b67-a564-439b-89d7-438a91c5ace7",
   "metadata": {},
   "outputs": [],
   "source": [
    "P00469_3mode_dimer_prediction,percentage=retrieve_residue_label_pred(prediction,P00469_map,P00469_WT_sequence,0.5)"
   ]
  },
  {
   "cell_type": "code",
   "execution_count": 271,
   "id": "554072d1-cab7-4595-92a3-650d15cdb617",
   "metadata": {},
   "outputs": [],
   "source": [
    "print_chimera_x_attribute_file(P00469_3mode_dimer_prediction,P00469_3mode_dimer_prediction,'./outputs/P00469_chimerax_dimer_fm_predictions.defattr',model_id='#1',chain_id='/B',argument='dimer_classes')"
   ]
  },
  {
   "cell_type": "markdown",
   "id": "80b7e109-b4fe-47f7-b4d8-c5cdb4ac62d0",
   "metadata": {
    "tags": []
   },
   "source": [
    "## DSSP"
   ]
  },
  {
   "cell_type": "code",
   "execution_count": 56,
   "id": "54ca0ad7-f10e-466f-99a4-45ea0e3c3c92",
   "metadata": {
    "tags": []
   },
   "outputs": [],
   "source": [
    "monomer_dssp_dict=make_dssp_dict('../scores_dssp//P00469_monomer.dssp')"
   ]
  },
  {
   "cell_type": "code",
   "execution_count": 55,
   "id": "6e8ac2ac-e00c-46bf-bc00-7fb67bf72ad6",
   "metadata": {
    "tags": []
   },
   "outputs": [],
   "source": [
    "dimer_dssp_dict=make_dssp_dict('../scores_dssp//P00469_dimer.dssp')"
   ]
  },
  {
   "cell_type": "code",
   "execution_count": 58,
   "id": "2bfc84e7-7121-4369-937c-d5798a28ef37",
   "metadata": {
    "tags": []
   },
   "outputs": [],
   "source": [
    "P00469_monomer_dssp=modify_dssp('P00469',monomer_dssp_dict,P00469_WT_sequence)"
   ]
  },
  {
   "cell_type": "code",
   "execution_count": 59,
   "id": "0d830820-f569-4d72-ad2a-582dc5ea007a",
   "metadata": {
    "tags": []
   },
   "outputs": [
    {
     "data": {
      "text/html": [
       "<div>\n",
       "<style scoped>\n",
       "    .dataframe tbody tr th:only-of-type {\n",
       "        vertical-align: middle;\n",
       "    }\n",
       "\n",
       "    .dataframe tbody tr th {\n",
       "        vertical-align: top;\n",
       "    }\n",
       "\n",
       "    .dataframe thead th {\n",
       "        text-align: right;\n",
       "    }\n",
       "</style>\n",
       "<table border=\"1\" class=\"dataframe\">\n",
       "  <thead>\n",
       "    <tr style=\"text-align: right;\">\n",
       "      <th></th>\n",
       "      <th>Sequence</th>\n",
       "      <th>PDB_res</th>\n",
       "      <th>ss</th>\n",
       "      <th>ASA</th>\n",
       "      <th>rASA</th>\n",
       "    </tr>\n",
       "  </thead>\n",
       "  <tbody>\n",
       "    <tr>\n",
       "      <th>1</th>\n",
       "      <td>M</td>\n",
       "      <td>M</td>\n",
       "      <td>-</td>\n",
       "      <td>124</td>\n",
       "      <td>0.553571</td>\n",
       "    </tr>\n",
       "    <tr>\n",
       "      <th>2</th>\n",
       "      <td>L</td>\n",
       "      <td>L</td>\n",
       "      <td>T</td>\n",
       "      <td>23</td>\n",
       "      <td>0.114428</td>\n",
       "    </tr>\n",
       "    <tr>\n",
       "      <th>3</th>\n",
       "      <td>E</td>\n",
       "      <td>E</td>\n",
       "      <td>T</td>\n",
       "      <td>4</td>\n",
       "      <td>0.017937</td>\n",
       "    </tr>\n",
       "    <tr>\n",
       "      <th>4</th>\n",
       "      <td>Q</td>\n",
       "      <td>Q</td>\n",
       "      <td>H</td>\n",
       "      <td>68</td>\n",
       "      <td>0.302222</td>\n",
       "    </tr>\n",
       "    <tr>\n",
       "      <th>5</th>\n",
       "      <td>P</td>\n",
       "      <td>P</td>\n",
       "      <td>H</td>\n",
       "      <td>36</td>\n",
       "      <td>0.226415</td>\n",
       "    </tr>\n",
       "    <tr>\n",
       "      <th>...</th>\n",
       "      <td>...</td>\n",
       "      <td>...</td>\n",
       "      <td>...</td>\n",
       "      <td>...</td>\n",
       "      <td>...</td>\n",
       "    </tr>\n",
       "    <tr>\n",
       "      <th>312</th>\n",
       "      <td>A</td>\n",
       "      <td>A</td>\n",
       "      <td>-</td>\n",
       "      <td>47</td>\n",
       "      <td>0.364341</td>\n",
       "    </tr>\n",
       "    <tr>\n",
       "      <th>313</th>\n",
       "      <td>P</td>\n",
       "      <td>P</td>\n",
       "      <td>-</td>\n",
       "      <td>65</td>\n",
       "      <td>0.408805</td>\n",
       "    </tr>\n",
       "    <tr>\n",
       "      <th>314</th>\n",
       "      <td>V</td>\n",
       "      <td>V</td>\n",
       "      <td>-</td>\n",
       "      <td>40</td>\n",
       "      <td>0.229885</td>\n",
       "    </tr>\n",
       "    <tr>\n",
       "      <th>315</th>\n",
       "      <td>A</td>\n",
       "      <td>A</td>\n",
       "      <td>-</td>\n",
       "      <td>57</td>\n",
       "      <td>0.441860</td>\n",
       "    </tr>\n",
       "    <tr>\n",
       "      <th>316</th>\n",
       "      <td>V</td>\n",
       "      <td>V</td>\n",
       "      <td>-</td>\n",
       "      <td>70</td>\n",
       "      <td>0.402299</td>\n",
       "    </tr>\n",
       "  </tbody>\n",
       "</table>\n",
       "<p>316 rows × 5 columns</p>\n",
       "</div>"
      ],
      "text/plain": [
       "    Sequence PDB_res ss  ASA      rASA\n",
       "1          M       M  -  124  0.553571\n",
       "2          L       L  T   23  0.114428\n",
       "3          E       E  T    4  0.017937\n",
       "4          Q       Q  H   68  0.302222\n",
       "5          P       P  H   36  0.226415\n",
       "..       ...     ... ..  ...       ...\n",
       "312        A       A  -   47  0.364341\n",
       "313        P       P  -   65  0.408805\n",
       "314        V       V  -   40  0.229885\n",
       "315        A       A  -   57  0.441860\n",
       "316        V       V  -   70  0.402299\n",
       "\n",
       "[316 rows x 5 columns]"
      ]
     },
     "execution_count": 59,
     "metadata": {},
     "output_type": "execute_result"
    }
   ],
   "source": [
    "P00469_monomer_dssp"
   ]
  },
  {
   "cell_type": "code",
   "execution_count": 60,
   "id": "2ae96e07-88ac-475b-8d31-6cc4381dd422",
   "metadata": {
    "tags": []
   },
   "outputs": [],
   "source": [
    "P00469_dimer_dssp=modify_dssp('P00469',dimer_dssp_dict,P00469_WT_sequence)"
   ]
  },
  {
   "cell_type": "code",
   "execution_count": 61,
   "id": "5cae6231-f1ac-44c1-94fb-fdb3a5c6a1d3",
   "metadata": {
    "tags": []
   },
   "outputs": [
    {
     "data": {
      "text/html": [
       "<div>\n",
       "<style scoped>\n",
       "    .dataframe tbody tr th:only-of-type {\n",
       "        vertical-align: middle;\n",
       "    }\n",
       "\n",
       "    .dataframe tbody tr th {\n",
       "        vertical-align: top;\n",
       "    }\n",
       "\n",
       "    .dataframe thead th {\n",
       "        text-align: right;\n",
       "    }\n",
       "</style>\n",
       "<table border=\"1\" class=\"dataframe\">\n",
       "  <thead>\n",
       "    <tr style=\"text-align: right;\">\n",
       "      <th></th>\n",
       "      <th>Sequence</th>\n",
       "      <th>PDB_res</th>\n",
       "      <th>ss</th>\n",
       "      <th>ASA</th>\n",
       "      <th>rASA</th>\n",
       "    </tr>\n",
       "  </thead>\n",
       "  <tbody>\n",
       "    <tr>\n",
       "      <th>1</th>\n",
       "      <td>M</td>\n",
       "      <td>M</td>\n",
       "      <td>-</td>\n",
       "      <td>124</td>\n",
       "      <td>0.553571</td>\n",
       "    </tr>\n",
       "    <tr>\n",
       "      <th>2</th>\n",
       "      <td>L</td>\n",
       "      <td>L</td>\n",
       "      <td>T</td>\n",
       "      <td>23</td>\n",
       "      <td>0.114428</td>\n",
       "    </tr>\n",
       "    <tr>\n",
       "      <th>3</th>\n",
       "      <td>E</td>\n",
       "      <td>E</td>\n",
       "      <td>T</td>\n",
       "      <td>4</td>\n",
       "      <td>0.017937</td>\n",
       "    </tr>\n",
       "    <tr>\n",
       "      <th>4</th>\n",
       "      <td>Q</td>\n",
       "      <td>Q</td>\n",
       "      <td>H</td>\n",
       "      <td>68</td>\n",
       "      <td>0.302222</td>\n",
       "    </tr>\n",
       "    <tr>\n",
       "      <th>5</th>\n",
       "      <td>P</td>\n",
       "      <td>P</td>\n",
       "      <td>H</td>\n",
       "      <td>36</td>\n",
       "      <td>0.226415</td>\n",
       "    </tr>\n",
       "    <tr>\n",
       "      <th>...</th>\n",
       "      <td>...</td>\n",
       "      <td>...</td>\n",
       "      <td>...</td>\n",
       "      <td>...</td>\n",
       "      <td>...</td>\n",
       "    </tr>\n",
       "    <tr>\n",
       "      <th>312</th>\n",
       "      <td>A</td>\n",
       "      <td>A</td>\n",
       "      <td>-</td>\n",
       "      <td>47</td>\n",
       "      <td>0.364341</td>\n",
       "    </tr>\n",
       "    <tr>\n",
       "      <th>313</th>\n",
       "      <td>P</td>\n",
       "      <td>P</td>\n",
       "      <td>-</td>\n",
       "      <td>65</td>\n",
       "      <td>0.408805</td>\n",
       "    </tr>\n",
       "    <tr>\n",
       "      <th>314</th>\n",
       "      <td>V</td>\n",
       "      <td>V</td>\n",
       "      <td>-</td>\n",
       "      <td>40</td>\n",
       "      <td>0.229885</td>\n",
       "    </tr>\n",
       "    <tr>\n",
       "      <th>315</th>\n",
       "      <td>A</td>\n",
       "      <td>A</td>\n",
       "      <td>-</td>\n",
       "      <td>57</td>\n",
       "      <td>0.441860</td>\n",
       "    </tr>\n",
       "    <tr>\n",
       "      <th>316</th>\n",
       "      <td>V</td>\n",
       "      <td>V</td>\n",
       "      <td>-</td>\n",
       "      <td>70</td>\n",
       "      <td>0.402299</td>\n",
       "    </tr>\n",
       "  </tbody>\n",
       "</table>\n",
       "<p>316 rows × 5 columns</p>\n",
       "</div>"
      ],
      "text/plain": [
       "    Sequence PDB_res ss  ASA      rASA\n",
       "1          M       M  -  124  0.553571\n",
       "2          L       L  T   23  0.114428\n",
       "3          E       E  T    4  0.017937\n",
       "4          Q       Q  H   68  0.302222\n",
       "5          P       P  H   36  0.226415\n",
       "..       ...     ... ..  ...       ...\n",
       "312        A       A  -   47  0.364341\n",
       "313        P       P  -   65  0.408805\n",
       "314        V       V  -   40  0.229885\n",
       "315        A       A  -   57  0.441860\n",
       "316        V       V  -   70  0.402299\n",
       "\n",
       "[316 rows x 5 columns]"
      ]
     },
     "execution_count": 61,
     "metadata": {},
     "output_type": "execute_result"
    }
   ],
   "source": [
    "P00469_dimer_dssp"
   ]
  },
  {
   "cell_type": "code",
   "execution_count": 62,
   "id": "bb01cb4c-cf00-472e-9ece-737205f70365",
   "metadata": {
    "tags": []
   },
   "outputs": [
    {
     "data": {
      "text/plain": [
       "<BarContainer object of 316 artists>"
      ]
     },
     "execution_count": 62,
     "metadata": {},
     "output_type": "execute_result"
    },
    {
     "data": {
      "image/png": "[encoded data removed]",
      "text/plain": [
       "<Figure size 640x480 with 1 Axes>"
      ]
     },
     "metadata": {},
     "output_type": "display_data"
    }
   ],
   "source": [
    "plt.bar(np.arange(0,len(P00469_dimer_dssp['rASA'].to_numpy().flatten()),1), P00469_dimer_dssp['rASA'].to_numpy().flatten()-P00469_monomer_dssp['rASA'].to_numpy().flatten())"
   ]
  },
  {
   "cell_type": "code",
   "execution_count": 281,
   "id": "b1c095a0-7039-4f8f-af11-548a84693a9a",
   "metadata": {},
   "outputs": [
    {
     "name": "stdout",
     "output_type": "stream",
     "text": [
      "18, 20, 21, 32, 33, 35, 156, 176, 178, 179, 181, 183, 185, 187, 188, 201, 203, 205, 214, 216, 218, 257, "
     ]
    }
   ],
   "source": [
    "P00469_residue_at_interface=[]\n",
    "P00469_residue_at_interface_str=''\n",
    "for i,n in enumerate(P00469_dimer_dssp['rASA'].to_numpy().flatten()-P00469_monomer_dssp['rASA'].to_numpy().flatten()):\n",
    "    if np.abs(n) >0.2:\n",
    "        print(str(i+1)+', ',end='')\n",
    "        P00469_residue_at_interface.append(i)\n",
    "        P00469_residue_at_interface_str+=(str(i)+' ')"
   ]
  },
  {
   "cell_type": "code",
   "execution_count": 282,
   "id": "21badff6-97b8-4ca4-80b9-a3ce19617c28",
   "metadata": {},
   "outputs": [],
   "source": [
    "P00469_residue_at_interface_binary=np.zeros(len(P00469_WT_sequence),dtype=int)\n",
    "for i in P00469_residue_at_interface:\n",
    "    P00469_residue_at_interface_binary[i]=1"
   ]
  },
  {
   "cell_type": "code",
   "execution_count": 283,
   "id": "325a71c8-184a-4287-a21c-df8b2c034a34",
   "metadata": {},
   "outputs": [
    {
     "data": {
      "text/plain": [
       "'17 19 20 31 32 34 155 175 177 178 180 182 184 186 187 200 202 204 213 215 217 256 '"
      ]
     },
     "execution_count": 283,
     "metadata": {},
     "output_type": "execute_result"
    }
   ],
   "source": [
    "P00469_residue_at_interface_str"
   ]
  },
  {
   "cell_type": "code",
   "execution_count": 284,
   "id": "281faf05-d17d-4b74-9954-2d2ff7f6da1b",
   "metadata": {},
   "outputs": [
    {
     "data": {
      "image/png": "[encoded data removed]",
      "text/plain": [
       "<Figure size 1440x216 with 3 Axes>"
      ]
     },
     "metadata": {
      "needs_background": "light"
     },
     "output_type": "display_data"
    }
   ],
   "source": [
    "# Comparison with experimental MAVE residue colour classification\n",
    "fig, ((ax1),(ax2),(ax3)) = plt.subplots(3,1,figsize=(20,3))\n",
    "\n",
    "ax1.imshow(np.transpose(P00469_residue_at_interface_binary.reshape(-1,1)),aspect= 'auto', cmap=mpl.colors.ListedColormap([\"white\", \"black\"]))\n",
    "ax1.set_yticks([])\n",
    "ax1.set_xticks([])\n",
    "plt.xlim(0-0.5,len(P00469_WT_sequence)-0.5)\n",
    "\n",
    "ax2.imshow(np.transpose(P00469_3mode_prediction.reshape(-1,1)),aspect= 'auto', cmap=mpl.colors.ListedColormap([\"#009e74\", \"#56b4e9\",\"#d55c00\",'gray','gray']))\n",
    "ax2.set_yticks([])\n",
    "ax2.set_xticks([])\n",
    "plt.xlim(0-0.5,len(P00469_WT_sequence)-0.5)\n",
    "\n",
    "ax3.imshow(np.transpose(P00469_3mode_dimer_prediction.reshape(-1,1)),aspect= 'auto', cmap=mpl.colors.ListedColormap([\"#009e74\", \"#56b4e9\",\"#d55c00\",'gray','gray']))\n",
    "ax3.set_yticks([])\n",
    "ax3.xaxis.set_ticks(np.arange(0, len(P00469_WT_sequence), 20))\n",
    "ax3.set_xticklabels(np.arange(0, len(P00469_WT_sequence), 20),fontsize=20)\n",
    "plt.xlim(0-0.5,len(P00469_WT_sequence)-0.5)\n",
    "\n",
    "#plt.grid(axis='x',which='both',color='gray', linestyle='-')\n",
    "plt.savefig('./Figures/P00469_comparison_monomer_dimer.pdf')"
   ]
  }
 ],
 "metadata": {
  "kernelspec": {
   "display_name": "Python 3 (ipykernel)",
   "language": "python",
   "name": "python3"
  },
  "language_info": {
   "codemirror_mode": {
    "name": "ipython",
    "version": 3
   },
   "file_extension": ".py",
   "mimetype": "text/x-python",
   "name": "python",
   "nbconvert_exporter": "python",
   "pygments_lexer": "ipython3",
   "version": "3.7.16"
  }
 },
 "nbformat": 4,
 "nbformat_minor": 5
}
