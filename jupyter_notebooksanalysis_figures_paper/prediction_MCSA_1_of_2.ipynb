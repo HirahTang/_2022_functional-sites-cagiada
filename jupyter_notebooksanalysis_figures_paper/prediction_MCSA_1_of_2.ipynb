{
 "cells": [
  {
   "cell_type": "markdown",
   "metadata": {
    "tags": []
   },
   "source": [
    "# MCSA analysis (notebook 1 of 2)"
   ]
  },
  {
   "cell_type": "markdown",
   "metadata": {
    "toc-hr-collapsed": true
   },
   "source": [
    "## Libraries, functions and dictionaries"
   ]
  },
  {
   "cell_type": "code",
   "execution_count": 3,
   "metadata": {
    "tags": []
   },
   "outputs": [],
   "source": [
    "import sys, os\n",
    "\n",
    "import pandas as pd\n",
    "import numpy as np\n",
    "import scipy as sp\n",
    "import matplotlib as mpl\n",
    "import matplotlib.pyplot as plt\n",
    "import mdtraj as md\n",
    "import random\n",
    "import seaborn as sns\n",
    "import re\n",
    "\n",
    "from sklearn.model_selection import RandomizedSearchCV\n",
    "from sklearn.model_selection import RepeatedStratifiedKFold\n",
    "from sklearn.model_selection import cross_val_score\n",
    "\n",
    "from sklearn.cluster import KMeans\n",
    "\n",
    "from sklearn.ensemble import RandomForestClassifier\n",
    "from catboost import CatBoostClassifier, Pool\n",
    "from catboost.datasets import titanic\n",
    "from graphviz import Digraph\n",
    "\n",
    "import warnings\n",
    "warnings.filterwarnings('ignore')"
   ]
  },
  {
   "cell_type": "code",
   "execution_count": 4,
   "metadata": {},
   "outputs": [],
   "source": [
    "alphabetAA_L_D={'-':0,'_' :0,'A':1,'C':2,'D':3,'E':4,'F':5,'G':6,'H':7,'I':8,'K':9,'L':10,'M':11,'N':12,'P':13,'Q':14,'R':15,'S':16,'T':17,'V':18,'W':19,'Y':20}\n",
    "alphabetAA_D_L={v: k for k, v in alphabetAA_L_D.items()}\n",
    "               \n",
    "alphabetAA_3L_1L={\"Ter\":'*',\"Gap\":'-',\"Ala\":'A',\"Cys\":'C',\"Asp\":'D',\"Glu\":'E',\"Phe\":'F',\"Gly\":'G',\"His\":'H',\"Ile\":'I',\"Lys\":'K',\"Leu\":'L',\"Met\":'M',\"Asn\":'N',\"Pro\":'P',\"Gln\":'Q',\"Arg\":'R',\"Ser\":'S',\"Thr\":'T',\"Val\" :'V',\"Trp\":'W',\"Tyr\":'Y'}\n",
    "alphabetAA_1L_3L={v: k for k,v in alphabetAA_3L_1L.items()}\n",
    "\n",
    "alphabetAA_3L_1LC={\"Ter\":'*',\"Gap\":'-',\"ALA\":'A',\"CYS\":'C',\"ASP\":'D',\"GLU\":'E',\"PHE\":'F',\"GLY\":'G',\"HIS\":'H',\"ILE\":'I',\"LYS\":'K',\"LEU\":'L',\"MET\":'M',\"ASN\":'N',\"PRO\":'P',\"GLN\":'Q',\"ARG\":'R',\"SER\":'S',\"THR\":'T',\"VAL\" :'V',\"TRP\":'W',\"TYR\":'Y'}\n",
    "\n",
    "alphabetAA_to_classes={'A':1,'C':2,'D':3,'E':3,'F':1,'G':4,'H':3,'I':1,'K':3,'L':1,'M':1,'N':2,'P':4,'Q':2,'R':3,'S':2,'T':2,'V':1,'W':1,'Y':1}\n",
    "alphabetclasses_to_AA={v: k for k,v in alphabetAA_to_classes.items()}\n",
    "\n",
    "AA_ddsp_number={'H' :0,'B' : 1,'E' : 2,'G' : 3,'I' : 4,'T' : 5,'S' : 6,' ' : 7}\n",
    "AA_number_ddsp={v: k for k,v in AA_ddsp_number.items()}\n",
    "\n",
    "AA_ddsp_number_simp={'H' :0,'E' : 1,'C' : 2}\n",
    "AA_number_ddsp_simp={v: k for k,v in AA_ddsp_number.items()}\n",
    "\n",
    "AA_to_hydrophobicity_scores={'A':44,'C':50,'D':-37,'E':-12,'F':96,'G':0,'H':-16,'I':100,'K':-30,'L':99,'M':74,'N':-35,'P':-46,'Q':-14,'R':-20,'S':-6,'T':13,'V':78,'W':90,'Y':57}"
   ]
  },
  {
   "cell_type": "markdown",
   "metadata": {},
   "source": [
    "### Load functions"
   ]
  },
  {
   "cell_type": "code",
   "execution_count": 5,
   "metadata": {},
   "outputs": [],
   "source": [
    "def remove_WT_score(score,WT_seq):\n",
    "    for i in range(len(WT_seq)):\n",
    "        score[i,alphabetAA_L_D[WT_seq[i]]-1]=np.nan\n",
    "    return score"
   ]
  },
  {
   "cell_type": "code",
   "execution_count": 6,
   "metadata": {
    "tags": []
   },
   "outputs": [],
   "source": [
    "def load_data_V2_V2(data,wt_seq,start_gap=0,column_score=1):\n",
    "    df=pd.read_csv(data, delim_whitespace=True, comment='#')\n",
    "    mutation_load=np.array(df.iloc[:,0])\n",
    "    score_load=np.array(df.iloc[:,column_score])\n",
    "    scores=np.empty((len(wt_seq),20),dtype=float)\n",
    "    scores[:]=np.nan\n",
    "    for i in range(len(mutation_load)):\n",
    "        if  mutation_load[i][len(mutation_load[i])-1]!= '=' and mutation_load[i][len(mutation_load[i])-1]!= '*' :\n",
    "            scores[int(mutation_load[i][1:len(mutation_load[i])-1])-1+start_gap, alphabetAA_L_D[mutation_load[i][len(mutation_load[i])-1]]-1]= float(score_load[i])\n",
    "    return scores"
   ]
  },
  {
   "cell_type": "markdown",
   "metadata": {},
   "source": [
    "### General functions"
   ]
  },
  {
   "cell_type": "code",
   "execution_count": 7,
   "metadata": {},
   "outputs": [],
   "source": [
    "def normalize_score(scores):\n",
    "    normalized_scores=np.copy(scores)\n",
    "    c_min_act=np.percentile(scores[~np.isnan(scores)],5)\n",
    "    c_max_act=np.percentile(scores[~np.isnan(scores)],95)\n",
    "    for i in range(scores.shape[0]):\n",
    "        for j in range(scores.shape[1]):\n",
    "            normalized_scores[i,j]=(scores[i,j]-c_min_act)/(c_max_act-c_min_act)\n",
    "                                  \n",
    "    return normalized_scores"
   ]
  },
  {
   "cell_type": "code",
   "execution_count": 8,
   "metadata": {},
   "outputs": [],
   "source": [
    "def normalize_minmax(scores):\n",
    "    normalized_scores=np.copy(scores)\n",
    "    c_min_act=np.amin(scores[~np.isnan(scores)])\n",
    "    c_max_act=np.amax(scores[~np.isnan(scores)])\n",
    "    for i in range(scores.shape[0]):\n",
    "        for j in range(scores.shape[1]):\n",
    "            normalized_scores[i,j]=(scores[i,j]-c_min_act)/(c_max_act-c_min_act)\n",
    "                                  \n",
    "    return normalized_scores"
   ]
  },
  {
   "cell_type": "code",
   "execution_count": 9,
   "metadata": {},
   "outputs": [],
   "source": [
    "def normalize_fermi(scores):\n",
    "    normalized_scores=np.copy(scores)\n",
    "    for i in range(scores.shape[0]):\n",
    "        for j in range(scores.shape[1]):\n",
    "            normalized_scores[i,j]=1/(sp.exp(scores[i,j]-2)+1)                 \n",
    "    return normalized_scores"
   ]
  },
  {
   "cell_type": "code",
   "execution_count": 10,
   "metadata": {},
   "outputs": [],
   "source": [
    "def normalize_cutoff(scores,lowcut,highcut):\n",
    "    normalized_scores=np.copy(scores)\n",
    "    for i in range(scores.shape[0]):\n",
    "        for j in range(scores.shape[1]):\n",
    "            if scores[i,j] < lowcut:\n",
    "                normalized_scores[i,j]=lowcut\n",
    "            elif scores[i,j] > highcut:\n",
    "                normalized_scores[i,j]=highcut\n",
    "            else:\n",
    "                normalized_scores[i,j]=scores[i,j]\n",
    "    return normalized_scores"
   ]
  },
  {
   "cell_type": "code",
   "execution_count": 11,
   "metadata": {},
   "outputs": [],
   "source": [
    "def position_mean(score):\n",
    "    score_mean=np.zeros(score.shape[0],dtype=float)\n",
    "    for i in range(score.shape[0]):\n",
    "        count=0\n",
    "        flag_nan=True\n",
    "        for j in range(score.shape[1]):\n",
    "            if np.isnan(score[i,j])==False:\n",
    "                flag_nan=False\n",
    "                score_mean[i]+=score[i,j]\n",
    "                count+=1\n",
    "            else:\n",
    "                pass\n",
    "        if flag_nan==True:\n",
    "            score_mean[i]=np.nan\n",
    "        score_mean[i]/=count\n",
    "        \n",
    "    return score_mean"
   ]
  },
  {
   "cell_type": "code",
   "execution_count": 12,
   "metadata": {},
   "outputs": [],
   "source": [
    "def score_histogram(score,nbin,color,label_x,norm_bool,thr):\n",
    "\n",
    "    counts, bins = np.histogram(score[~np.isnan(score)],bins=nbin)\n",
    "    if norm_bool=='Density':\n",
    "        n, bins, patches = plt.hist(score[~np.isnan(score)], bins=nbin, facecolor=color, alpha=0.7,edgecolor=\"black\",density=True)\n",
    "        plt.ylabel('Normalized counts',fontsize=20)\n",
    "    elif norm_bool=='True':\n",
    "        \n",
    "        norm= counts / np.linalg.norm(counts)\n",
    "        plt.hist(bins[:-1], bins, weights=norm, facecolor=color, alpha=0.7,edgecolor=\"black\")\n",
    "        plt.ylabel('Normalized counts',fontsize=20)\n",
    "    else:\n",
    "        n, bins, patches = plt.hist(score[~np.isnan(score)], bins=nbin, facecolor=color,edgecolor=\"black\")\n",
    "        plt.ylabel('Counts',fontsize=20)\n",
    "\n",
    "    plt.xlabel(label_x,fontsize=20)\n",
    "    plt.xticks(fontsize=18)\n",
    "    plt.grid(axis=\"y\",alpha=0.4,linestyle='--')\n",
    "    sum_unstable=0\n",
    "    for i in range(len(bins)-1):\n",
    "        if bins[i+1] < thr:\n",
    "            sum_unstable+=counts[i]\n",
    "    print('Wt-like variants:',np.sum(counts)-sum_unstable, ' (', (np.sum(counts)-sum_unstable)/np.sum(counts) ,')')\n",
    "    \n",
    "    #plt.show()"
   ]
  },
  {
   "cell_type": "code",
   "execution_count": 13,
   "metadata": {},
   "outputs": [],
   "source": [
    "def heatmap_IBS(prediction,variant_map,WT):\n",
    "    scores=np.empty((len(WT),20),dtype=float)\n",
    "    scores[:]=np.nan\n",
    "    \n",
    "    i=0\n",
    "    for cord in variant_map:\n",
    "        scores[cord[0],cord[1]]=prediction[i]\n",
    "        i+=1\n",
    "\n",
    "    fig, ax = plt.subplots(figsize=(16,6))\n",
    "    ylabels=[ alphabetAA_D_L[i] for i in range(1,21)]\n",
    "    \n",
    "    ax.imshow(np.transpose(scores), aspect = 'auto', cmap=mpl.colors.ListedColormap([\"white\",\"#56b4e9\"]))\n",
    "\n",
    "    ax.set_yticks([i for i in range(0,20)])\n",
    "    ax.set_yticklabels(ylabels,fontsize=15)\n",
    "    ax.tick_params(axis='x', which='major', labelsize=15)\n",
    "        \n",
    "    tmp=np.empty((len(WT),20),dtype=float)\n",
    "    tmp[:]=np.inf\n",
    "    for i in range(0,len(WT)):\n",
    "        tmp[i,alphabetAA_L_D[WT[i]]-1]=1\n",
    "    plt.imshow(tmp.T, cmap='Accent', aspect = 'auto')\n",
    "    \n",
    "    plt.grid(axis='both',which='both',alpha=0.4)\n",
    "    plt.ylabel(\"mutation\",fontsize=16)\n",
    "    plt.xlabel(\"residue\",fontsize=16)\n",
    "\n",
    "    plt.ylim(-0.5,19.5)"
   ]
  },
  {
   "cell_type": "code",
   "execution_count": 14,
   "metadata": {},
   "outputs": [],
   "source": [
    "def ratio_variants(mave_funct,mave_abd):\n",
    "    ratio=np.copy(mave_funct)\n",
    "    ratio[:]=np.nan\n",
    "    for i in range(ratio.shape[0]):\n",
    "        for j in range(ratio.shape[1]):\n",
    "            if np.isnan(mave_funct[i,j]) or np.isnan(mave_abd[i,j]):\n",
    "                pass\n",
    "            else:\n",
    "                if mave_abd[i,j]==0.0:\n",
    "                    ratio[i,j]=mave_funct[i,j]/0.0000001\n",
    "                else:\n",
    "                    ratio[i,j]=mave_funct[i,j]/mave_abd[i,j]\n",
    "    sig_ratio=np.copy(ratio)\n",
    "    sig_ratio[:]=np.nan\n",
    "    for i in range(ratio.shape[0]):\n",
    "        for j in range(ratio.shape[1]):\n",
    "            if np.isnan(ratio[i,j])!=True:\n",
    "                sig_ratio[i,j]=1/(1+np.exp(-(ratio[i,j]-1)))\n",
    "\n",
    "    return sig_ratio"
   ]
  },
  {
   "cell_type": "code",
   "execution_count": 15,
   "metadata": {},
   "outputs": [],
   "source": [
    "def MCC_test_subset(prediction,test):\n",
    "    TP=0\n",
    "    FP=0\n",
    "    total=0\n",
    "    for i in range(len(prediction)):\n",
    "        if np.isnan(prediction[i])!= True and np.isnan(test[i])!=True:\n",
    "            if prediction[i]==1:\n",
    "                if int(prediction[i])==int(test[i]):\n",
    "                    TP+=1\n",
    "                else:\n",
    "                    FP+=1\n",
    "            if int(test[i])==1:\n",
    "                total+=1\n",
    "    precision=TP/(TP+FP)\n",
    "    recall=TP/total\n",
    "    mcc=np.sqrt(abs(precision*recall))\n",
    "    \n",
    "    return precision,recall,mcc                 "
   ]
  },
  {
   "cell_type": "code",
   "execution_count": 16,
   "metadata": {},
   "outputs": [],
   "source": [
    "def AUC_subset(prediction,test):\n",
    "    TP=0\n",
    "    FP=0\n",
    "    FN=0\n",
    "    TN=0\n",
    "    \n",
    "    for i in range(len(prediction)):\n",
    "        if np.isnan(prediction[i])!= True and np.isnan(test[i])!=True:\n",
    "            if prediction[i]==1:\n",
    "                if int(prediction[i])==int(test[i]):\n",
    "                    TP+=1\n",
    "                else:\n",
    "                    FP+=1\n",
    "            if prediction[i]==0:\n",
    "                if int(prediction[i])==int(test[i]):\n",
    "                    TN+=1\n",
    "                else:\n",
    "                    FN+=1 \n",
    "                    \n",
    "    TPR=TP/(TP+FN)\n",
    "    FPR=FP/(FP+TN)\n",
    "    \n",
    "    return [TPR,FPR]"
   ]
  },
  {
   "cell_type": "code",
   "execution_count": 17,
   "metadata": {},
   "outputs": [],
   "source": [
    "def retrieve_residue_label_pred_training(prediction,variant_map,WT,percentage_threshold):\n",
    "    scores=np.empty((len(WT),20),dtype=float)\n",
    "    scores[:]=np.nan\n",
    "    \n",
    "    i=0\n",
    "    for cord in variant_map:\n",
    "        scores[cord[0],cord[1]]=prediction[i]\n",
    "        i+=1\n",
    "    pseudomode_value_class=np.empty(len(WT),dtype=float)\n",
    "    pseudomode_value_class[:]=np.nan\n",
    "    percentage_mode=np.zeros((len(WT),2),dtype=float)\n",
    "    \n",
    "    for i in range(len(pseudomode_value_class)):\n",
    "        count=0\n",
    "        for j in range(scores.shape[1]):\n",
    "            if np.isnan(scores[i,j])!=True:\n",
    "                count+=1\n",
    "        if count>0:\n",
    "            count_1=0\n",
    "            for j in range(scores.shape[1]):\n",
    "                if scores[i,j]==1:\n",
    "                    count_1+=1\n",
    "            percentage=count_1/count\n",
    "            \n",
    "            if percentage > percentage_threshold:\n",
    "                pseudomode_value_class[i]=1\n",
    "            else:\n",
    "                pseudomode_value_class[i]=0\n",
    "            \n",
    "            percentage_mode[i,0]=percentage\n",
    "            percentage_mode[i,1]=count\n",
    "    \n",
    "    #mode_value_class, counts_mode=sp.stats.mode(scores,axis=1,nan_policy='omit')\n",
    "    \n",
    "    return pseudomode_value_class,percentage_mode"
   ]
  },
  {
   "cell_type": "code",
   "execution_count": 18,
   "metadata": {},
   "outputs": [],
   "source": [
    "def retrieve_residue_label_pred(prediction,variant_map,WT,percentage_threshold):\n",
    "    scores=np.empty((len(WT),20),dtype=float)\n",
    "    scores[:]=np.nan\n",
    "    \n",
    "    i=0\n",
    "    for cord in variant_map:\n",
    "        scores[cord[0],cord[1]]=prediction[i]\n",
    "        i+=1\n",
    "    \n",
    "    count_pos=np.zeros((len(WT),4),dtype=float)\n",
    "    \n",
    "    pseudomode_value_class=np.empty(len(WT),dtype=float)\n",
    "    pseudomode_value_class[:]=np.nan\n",
    "    percentage=np.zeros((len(WT),2),dtype=float)\n",
    "        \n",
    "    for i in range(len(pseudomode_value_class)):\n",
    "        count=0\n",
    "        for j in range(scores.shape[1]):\n",
    "            if np.isnan(scores[i,j])!=True:\n",
    "                count+=1\n",
    "        if count>0:\n",
    "            for j in range(scores.shape[1]):\n",
    "                    if np.isnan(scores[i,j])!=True:\n",
    "                        count_pos[i,int(scores[i,j])]+=1\n",
    "            count_pos=count_pos/count\n",
    "            if np.any(count_pos[i,:]>=0.50):\n",
    "                pseudomode_value_class[i]=np.argmax(count_pos[i,:])\n",
    "                percentage[i,0]=count_pos[i,1]\n",
    "                #print(i, count_pos[i,:],np.max(count_pos[i,:]),np.argmax(count_pos[i,:]),pseudomode_value_class[i])\n",
    "\n",
    "\n",
    "            else:                \n",
    "                pseudomode_value_class[i]=5\n",
    "                percentage[i,0]=count_pos[i,1]\n",
    "                #print(i, count_pos[i,:],np.max(count_pos[i,:]),np.argmax(count_pos[i,:]),'else',pseudomode_value_class[i])\n",
    "                ## 5 indicates mixed signal with no predominat mutation class\n",
    "            \n",
    "            percentage[i,1]=count\n",
    "    \n",
    "    #mode_value_class, counts_mode=sp.stats.mode(scores,axis=1,nan_policy='omit')\n",
    "    \n",
    "    return pseudomode_value_class,percentage"
   ]
  },
  {
   "cell_type": "code",
   "execution_count": 19,
   "metadata": {},
   "outputs": [],
   "source": [
    "def pairplot_features(list_feature,name_features,namefile):\n",
    "    df=pd.DataFrame(list_feature,columns=name_features)\n",
    "    sns_plot=sns.pairplot(df)\n",
    "    sns_plot.savefig(namefile)"
   ]
  },
  {
   "cell_type": "code",
   "execution_count": 20,
   "metadata": {},
   "outputs": [],
   "source": [
    "def print_chimera_x_attribute_file(attribute_check,attribute,file):\n",
    "    file=open(file,\"w+\")\n",
    "    file.write('%s\\n%s\\n%s\\n%s\\n' % ('#','#  Use this file to assign the attribute in Chimera with the','#  Define Attribute tool or the command defattr','#'))\n",
    "    file.write('%s\\n%s\\n%s\\n' % ( 'attribute: cbyvalue','match mode: 1-to-1', 'recipient: residues') )\n",
    "    for i in range(len(attribute_check)):\n",
    "        if np.isnan(attribute_check[i])==True:\n",
    "            pass\n",
    "        else:\n",
    "            file.write(\"\\t%s%d\\t%f\\n\" % ('/A:',i+1,attribute[i]))\n",
    "    file.close()"
   ]
  },
  {
   "cell_type": "code",
   "execution_count": 21,
   "metadata": {},
   "outputs": [],
   "source": [
    "def print_chimera_x_attribute_file_SBI(attribute_check,attribute,file):\n",
    "    file=open(file,\"w+\")\n",
    "    file.write('%s\\n%s\\n%s\\n%s\\n' % ('#','#  Use this file to assign the attribute in Chimera with the','#  Define Attribute tool or the command defattr','#'))\n",
    "    file.write('%s\\n%s\\n%s\\n' % ( 'attribute: cbyvalue','match mode: 1-to-1', 'recipient: residues') )\n",
    "    for i in range(len(attribute_check)):\n",
    "        if np.isnan(attribute_check[i])==True:\n",
    "            pass\n",
    "        else:\n",
    "            if attribute_check[i]==1.0:\n",
    "                file.write(\"\\t%s%d\\t%f\\n\" % ('/A:',i+1,1))\n",
    "            else:\n",
    "                file.write(\"\\t%s%d\\t%f\\n\" % ('/A:',i+1,0))\n",
    "    file.close()"
   ]
  },
  {
   "cell_type": "code",
   "execution_count": 22,
   "metadata": {},
   "outputs": [],
   "source": [
    "def plot_attributes(pos,pred,variant_map,gemme,rosetta,wcn,gemme_n,rosetta_n):\n",
    "    \n",
    "    label_position=np.empty(20,dtype=float)\n",
    "    label_position[:]=np.nan\n",
    "    \n",
    "    i=0\n",
    "    for cord in variant_map:\n",
    "        if cord[0]==pos:\n",
    "            label_position[cord[1]]=prediction[i]\n",
    "        i+=1\n",
    "    \n",
    "    fig,(ax1,ax2,ax3,ax4,ax5,ax6)=plt.subplots(1,6,figsize=(9,4),gridspec_kw={\"width_ratios\" : [7,1,1,1,1,1], \"wspace\" : 0.4})\n",
    "    cdict = {1: 'blue', 0: 'red'}\n",
    "    glabel={1.0:'SBI',0.0:'non-SBI'}\n",
    "    for g in np.unique(label_position):\n",
    "        if np.isnan(g)!=True:\n",
    "            ix = np.where(label_position == g)\n",
    "            ax1.scatter(rosetta[pos,ix],gemme[pos,ix],c=cdict[g], label=[glabel[g]])\n",
    "    \n",
    "    ax2.bar(x=0.5,height=wcn[pos])\n",
    "    ax3.bar(x=0.5,height=np.mean(gemme[pos,:][~np.isnan(gemme[pos,:])]))\n",
    "    ax4.bar(x=0.5,height=np.mean(rosetta[pos,:][~np.isnan(rosetta[pos,:])]))   \n",
    "    ax5.bar(x=0.5,height=gemme_n[pos])\n",
    "    ax6.bar(x=0.5,height=rosetta_n[pos])\n",
    "    \n",
    "    \n",
    "    ax1.set_title('variants classification')\n",
    "    ax2.set_title('WCN')\n",
    "    ax3.set_title(r'$\\bar{G}$')\n",
    "    ax4.set_title(r'$\\bar{r}$')\n",
    "    ax5.set_title(r'G_n')\n",
    "    ax6.set_title(r'r_n')\n",
    "    \n",
    "    ax1.set_xlabel('rosetta_score',fontsize=13)\n",
    "    ax1.set_ylabel('GEMME score',fontsize=13)\n",
    "    ax1.set_xlim(6,-1)\n",
    "    ax1.set_ylim(-7,1)\n",
    "    ax2.set_ylim(0,15)\n",
    "    ax3.set_ylim(0,-8)\n",
    "    ax4.set_ylim(0,6)\n",
    "    ax5.set_ylim(0,-8)\n",
    "    ax6.set_ylim(0,6)\n",
    "    \n",
    "    \n",
    "    ax2.set_xticks([],[])\n",
    "    ax3.set_xticks([],[])\n",
    "    ax4.set_xticks([],[])\n",
    "    ax5.set_xticks([],[])\n",
    "    ax6.set_xticks([],[])\n",
    "    ax2.set_xlim(0.1,0.9)\n",
    "    \n",
    "    \n",
    "    \n",
    "    ax1.legend()"
   ]
  },
  {
   "cell_type": "code",
   "execution_count": 23,
   "metadata": {},
   "outputs": [],
   "source": [
    "def results_plot(MCC,AUC,name_models):\n",
    "    \n",
    "    fig,(ax1,ax2,ax3)=plt.subplots(1,3,figsize=(14,4))\n",
    "    \n",
    "    cdict = {1: '#355070', 2: '#6D597A',2:'#B56576',3 :'#a4d600',4:'#a47f4b',5:'#EAAC8B',6:'#4a944f',7:\"#F95738\"}\n",
    "    for g in range(0,7):\n",
    "        ax1.scatter(AUC[g,1],AUC[g,0],c=cdict[g+1])\n",
    "    ax1.plot([0, 1], [0, 1], transform=ax1.transAxes,ls=':')\n",
    "    ax1.set_xlabel('FPR',fontsize=13)\n",
    "    ax1.set_ylabel('TPR',fontsize=13)\n",
    "    \n",
    "    for g in range(0,7):\n",
    "        ax2.scatter(MCC[g,0],MCC[g,1],c=cdict[g+1], label=g+1)\n",
    "    #ax2.scatter(MCC[:,0],MCC[:,1],c=color_class)\n",
    "    \n",
    "    ax2.set_xlabel('Precision',fontsize=13)\n",
    "    ax2.set_ylabel('Recall',fontsize=13)\n",
    "    ax2.legend(loc='lower right')\n",
    "    \n",
    "    cbar=[cdict[i] for i in range(1,8)]\n",
    "    ax3.bar(name_models,MCC[:,2],color=cbar)\n",
    "    ax3.set_ylabel('MCC',fontsize=13)\n"
   ]
  },
  {
   "cell_type": "code",
   "execution_count": 24,
   "metadata": {},
   "outputs": [],
   "source": [
    "def print_percentage_prediction(pred,mode_pred,WT,WT_ros):\n",
    "    effective_pos=0\n",
    "    for i in range(len(WT)):\n",
    "        if WT[i]==WT_ros[i]:\n",
    "            effective_pos+=1\n",
    "    count_SBI=0\n",
    "    for i in pred:\n",
    "        if i ==1:\n",
    "            count_SBI+=1\n",
    "    \n",
    "    print(f' SBI variants: {count_SBI} out of {len(pred)} ({count_SBI/len(pred)*100:.2f}%) ')\n",
    "    \n",
    "    perc_variants=count_SBI/len(pred)*100\n",
    "    \n",
    "    count_SBI=0\n",
    "    for i in mode_pred:\n",
    "        if i==1:\n",
    "            count_SBI+=1\n",
    "    print(f' SBI residues: {count_SBI} out of {effective_pos} ({count_SBI/effective_pos*100:.2f}%) ')\n",
    "    \n",
    "    return [perc_variants, count_SBI/effective_pos*100]"
   ]
  },
  {
   "cell_type": "code",
   "execution_count": 25,
   "metadata": {},
   "outputs": [],
   "source": [
    "def print_numbers_prediction(pred,mode_pred,WT,WT_ros):\n",
    "    effective_pos=0\n",
    "    for i in range(len(WT)):\n",
    "        if WT[i]==WT_ros[i]:\n",
    "            effective_pos+=1\n",
    "    count_SBI=0\n",
    "    for i in pred:\n",
    "        if i ==1:\n",
    "            count_SBI+=1\n",
    "    \n",
    "    variants=count_SBI\n",
    "    \n",
    "    count_SBI=0\n",
    "    for i in mode_pred:\n",
    "        if i==1:\n",
    "            count_SBI+=1\n",
    "    \n",
    "    return [variants, count_SBI]"
   ]
  },
  {
   "cell_type": "code",
   "execution_count": 26,
   "metadata": {},
   "outputs": [],
   "source": [
    "def print_numbers_classification(pred,mode_pred):\n",
    "\n",
    "    count_SBI=[0,0,0,0]\n",
    "    for i in pred:\n",
    "            count_SBI[int(i)]+=1\n",
    "    \n",
    "    variants=count_SBI\n",
    "    \n",
    "    count_SBI=[0,0,0,0,0]\n",
    "    for i in mode_pred:\n",
    "        if np.isnan(i)!=True:\n",
    "            if i==5:\n",
    "                count_SBI[4]+=1\n",
    "            else:\n",
    "                count_SBI[int(i)]+=1\n",
    "    \n",
    "    return [variants, count_SBI]"
   ]
  },
  {
   "cell_type": "code",
   "execution_count": 27,
   "metadata": {},
   "outputs": [],
   "source": [
    "def print_catalytic_classification(mode_pred,cat_positions):\n",
    "    cat_pos=[x - 1 for x in cat_positions]\n",
    "    cat_pos=np.array(cat_pos)\n",
    "    count_SBI=[0,0,0,0,0]\n",
    "\n",
    "    for i,n in enumerate(mode_pred):\n",
    "        if np.count_nonzero(cat_pos == i)==1:\n",
    "            if np.isnan(i)!=True:\n",
    "                if int(n)==5:\n",
    "                    count_SBI[4]+=1\n",
    "                else:\n",
    "                    count_SBI[int(n)]+=1\n",
    "    \n",
    "    return  count_SBI"
   ]
  },
  {
   "cell_type": "markdown",
   "metadata": {},
   "source": [
    "### setup ML functions"
   ]
  },
  {
   "cell_type": "code",
   "execution_count": 28,
   "metadata": {},
   "outputs": [],
   "source": [
    "def blosum62_score(WT,scores):\n",
    "    blosum_prot=np.empty((len(WT),20),dtype=float)\n",
    "    \n",
    "    for i in range(len(WT)):\n",
    "        for j in range(20):\n",
    "            blosum_prot[i,j]=scores[alphabetAA_L_D[WT[i]]-1,j]\n",
    "            \n",
    "    return blosum_prot"
   ]
  },
  {
   "cell_type": "code",
   "execution_count": 29,
   "metadata": {},
   "outputs": [],
   "source": [
    "def secondary_structure_cat(pdb_loc,WT):\n",
    "    pdb=md.load(pdb_loc)\n",
    "    topology = pdb.topology\n",
    "    chainA = topology.select('chainid 0  and protein')\n",
    "    pdb_chainA= pdb.atom_slice(chainA)\n",
    "    \n",
    "    chainA_top=pdb_chainA.topology\n",
    "    \n",
    "    ss_labels=md.compute_dssp(pdb_chainA,simplified=False)\n",
    "\n",
    "    ss_ret_labels=np.empty(len(WT),dtype=float)\n",
    "    ss_ret_labels[:]=np.nan\n",
    "    \n",
    "    for i in range(len(ss_labels[0,:])):\n",
    "        ss_ret_labels[int(str(chainA_top.residue(i))[3:])-1]=AA_ddsp_number[ss_labels[0,i]]\n",
    "    \n",
    "    return ss_ret_labels\n",
    "    "
   ]
  },
  {
   "cell_type": "code",
   "execution_count": 30,
   "metadata": {},
   "outputs": [],
   "source": [
    "def secondary_structure_cat_simp(pdb_loc,WT):\n",
    "    pdb=md.load(pdb_loc)\n",
    "    topology = pdb.topology\n",
    "    chainA = topology.select('chainid 0  and protein')\n",
    "    pdb_chainA= pdb.atom_slice(chainA)\n",
    "    \n",
    "    chainA_top=pdb_chainA.topology\n",
    "    \n",
    "    ss_labels=md.compute_dssp(pdb_chainA,simplified=True)\n",
    "\n",
    "    ss_ret_labels=np.empty(len(WT),dtype=float)\n",
    "    ss_ret_labels[:]=np.nan\n",
    "    count=1\n",
    "    for j in range(len(WT)):\n",
    "        if WT[j]!='-':\n",
    "            for i in range(len(ss_labels[0,:])):\n",
    "                if count==int(str(chainA_top.residue(i))[3:]):\n",
    "                    ss_ret_labels[j]=AA_ddsp_number_simp[ss_labels[0,i]]\n",
    "            count+=1\n",
    "    return ss_ret_labels\n",
    "    "
   ]
  },
  {
   "cell_type": "code",
   "execution_count": 31,
   "metadata": {},
   "outputs": [],
   "source": [
    "def WCN(pdb_loc,scheme_e,WT):\n",
    "    r0=7.0\n",
    "    pdb=md.load(pdb_loc)\n",
    "    topology=pdb.topology\n",
    "    chainA=topology.select('chainid 0 and protein')\n",
    "    pdb_chain0=pdb.atom_slice(chainA)\n",
    "    pdb_dist,pdb_rp=md.compute_contacts(pdb_chain0,scheme=scheme_e,periodic=False)\n",
    "    \n",
    "    cm= md.geometry.squareform(pdb_dist,pdb_rp)[0]\n",
    "    wcn=np.zeros((len(WT)),dtype=float)\n",
    "    \n",
    "    cm_adj=np.empty((len(WT),len(WT)),dtype=float)\n",
    "    cm_adj[:]=np.nan\n",
    "    chainA_top=pdb_chain0.topology\n",
    "    \n",
    "    for i in range(cm.shape[0]):\n",
    "        for j in range(cm.shape[1]):\n",
    "            if i==0 and j==0:\n",
    "                print(str(chainA_top.residue(i)))\n",
    "            cm_adj[int(str(chainA_top.residue(i))[3:])-1,int(str(chainA_top.residue(j))[3:])-1]=cm[i,j]\n",
    "    for i in range(len(WT)):\n",
    "        nan_flag=True\n",
    "        for j in range(len(WT)):\n",
    "            if np.isnan(cm_adj[i,j])!=True and cm_adj[i,j]!=0.0:\n",
    "                nan_flag=False\n",
    "                wcn[i]+=(1-(cm_adj[i,j]*10/r0)**6)/(1-(cm_adj[i,j]*10/r0)**12)\n",
    "        if nan_flag==True:\n",
    "            wcn[i]=np.nan\n",
    "    return wcn"
   ]
  },
  {
   "cell_type": "code",
   "execution_count": 32,
   "metadata": {},
   "outputs": [],
   "source": [
    "def neighbor_scores(score,ext_range):\n",
    "    score_neighborhood=np.zeros(len(score),dtype=float)\n",
    "    for i in range(len(score)):\n",
    "        if np.isnan(score[i])!=True:\n",
    "            count_nan=0\n",
    "            if i==0:\n",
    "                for j in range(1,ext_range+1):\n",
    "                    if np.isnan(score[j])==False:\n",
    "                        score_neighborhood[i]+=score[j]\n",
    "                    else:\n",
    "                        count_nan+=1\n",
    "                if count_nan!=ext_range:    \n",
    "                    score_neighborhood[i]/=(ext_range)\n",
    "                else:\n",
    "                    score_neighborhood[i]=np.nan\n",
    "\n",
    "            elif i==(len(score)-1):\n",
    "                for j in range(len(score)-1-ext_range,len(score)-1):\n",
    "                    if np.isnan(score[j])==False:\n",
    "                        score_neighborhood[i]+=score[j]\n",
    "                    else:\n",
    "                        count_nan+=1\n",
    "                if count_nan!=ext_range: \n",
    "                    score_neighborhood[i]/=ext_range\n",
    "                else:\n",
    "                    score_neighborhood[i]=np.nan                \n",
    "            elif i<ext_range:\n",
    "                for j in range(0,i+ext_range+1):\n",
    "                    if j!=i:\n",
    "                        if np.isnan(score[j])==False:\n",
    "                            score_neighborhood[i]+=score[j]\n",
    "                        else:\n",
    "                            count_nan+=1\n",
    "                if count_nan!=(i+ext_range):    \n",
    "                    score_neighborhood[i]/=(i+ext_range)\n",
    "                else:\n",
    "                    score_neighborhood[i]=np.nan                        \n",
    "\n",
    "            elif i>(len(score)-1-ext_range):\n",
    "                for j in range(i-ext_range,len(score)):\n",
    "                    if j!=i:\n",
    "                        if np.isnan(score[j])==False:\n",
    "                            score_neighborhood[i]+=score[j]\n",
    "                        else:\n",
    "                            count_nan+=1\n",
    "                if count_nan!=(len(score)-i+ext_range):                     \n",
    "                    score_neighborhood[i]/=(len(score)-i+ext_range)\n",
    "                else:\n",
    "                    score_neighborhood[i]=np.nan  \n",
    "            else:\n",
    "                for j in range(i-ext_range,i+ext_range+1):\n",
    "                    if j!=i:\n",
    "                        if np.isnan(score[j])==False:\n",
    "                            score_neighborhood[i]+=score[j]\n",
    "                        else:\n",
    "                            count_nan+=1\n",
    "                if count_nan!=(2*ext_range):  \n",
    "                    score_neighborhood[i]/=(2*ext_range)\n",
    "                else:\n",
    "                    score_neighborhood[i]=np.nan             \n",
    "        else:\n",
    "            score_neighborhood[i]=np.nan\n",
    "    return score_neighborhood"
   ]
  },
  {
   "cell_type": "code",
   "execution_count": 33,
   "metadata": {},
   "outputs": [],
   "source": [
    "def label_category(output,threshold):\n",
    "    labels=[]\n",
    "    if output.ndim==1:\n",
    "        labels=np.copy(output)\n",
    "        labels[:]=np.nan\n",
    "        for i in range(len(output)):\n",
    "            if output[i]<threshold:\n",
    "                labels[i]=0\n",
    "            else:\n",
    "                labels[i]=1\n",
    "    else:\n",
    "        labels=np.copy(output)\n",
    "        labels[:]=np.nan\n",
    "        for i in range(output.shape[0]):\n",
    "            for j in range(output.shape[1]):\n",
    "                if output[i,j]<threshold:\n",
    "                    labels[i,j]=1\n",
    "                else:\n",
    "                    labels[i,j]=0\n",
    "    return labels"
   ]
  },
  {
   "cell_type": "code",
   "execution_count": 34,
   "metadata": {},
   "outputs": [],
   "source": [
    "def features_classification(list_features_x,list_output_y,WT):\n",
    "    \n",
    "    X=[]\n",
    "    Y=[]\n",
    "    mapping_pos=[] \n",
    "    \n",
    "    for i in range(len(WT)):\n",
    "        for j in range(20):\n",
    "            if j!=(alphabetAA_L_D[WT[i]]-1):\n",
    "                temp_x=[]\n",
    "                temp_y=[]\n",
    "                cond=True\n",
    "\n",
    "                for elem in list_features_x:\n",
    "                    if elem.ndim==1:\n",
    "                        if np.isnan(elem[i])==True:\n",
    "                            cond=False\n",
    "                    else:\n",
    "                        if np.isnan(elem[i,j])==True:\n",
    "                            cond=False    \n",
    "                \n",
    "                for elem in list_output_y:\n",
    "                    if elem.ndim==1:\n",
    "                        if np.isnan(elem[i])==True:\n",
    "                            cond=False\n",
    "                    else:\n",
    "                        if np.isnan(elem[i,j])==True:\n",
    "                            cond=False \n",
    "\n",
    "                if cond==True:\n",
    "                    \n",
    "                    for elem in list_features_x:\n",
    "                        if elem.ndim==1:\n",
    "                            temp_x.append(elem[i])\n",
    "                        else:\n",
    "                            temp_x.append(elem[i,j])\n",
    "\n",
    "                    for elem in list_output_y:\n",
    "                        if elem.ndim==1:\n",
    "                            temp_y.append(elem[i])\n",
    "                        else:\n",
    "                            temp_y.append(elem[i,j])\n",
    "                    \n",
    "                if len(temp_x)>0:\n",
    "                    X.append(temp_x)\n",
    "                    Y.append(temp_y)\n",
    "                    mapping_pos.append([i,j])\n",
    "        \n",
    "    return np.array(X),Y,mapping_pos        "
   ]
  },
  {
   "cell_type": "code",
   "execution_count": 35,
   "metadata": {},
   "outputs": [],
   "source": [
    "def features_classification(list_features_x,list_output_y,WT):\n",
    "    \n",
    "    X=[]\n",
    "    Y=[]\n",
    "    mapping_pos=[] \n",
    "    \n",
    "    for i in range(len(WT)):\n",
    "        for j in range(20):\n",
    "            if j!=(alphabetAA_L_D[WT[i]]-1):\n",
    "                temp_x=[]\n",
    "                temp_y=[]\n",
    "                cond=True\n",
    "\n",
    "                for elem in list_features_x:\n",
    "                    if elem.ndim==1:\n",
    "                        if np.isnan(elem[i])==True:\n",
    "                            cond=False\n",
    "                    else:\n",
    "                        if np.isnan(elem[i,j])==True:\n",
    "                            cond=False    \n",
    "                \n",
    "                for elem in list_output_y:\n",
    "                    if elem.ndim==1:\n",
    "                        if np.isnan(elem[i])==True:\n",
    "                            cond=False\n",
    "                    else:\n",
    "                        if np.isnan(elem[i,j])==True:\n",
    "                            cond=False \n",
    "\n",
    "                if cond==True:\n",
    "                    \n",
    "                    for elem in list_features_x:\n",
    "                        if elem.ndim==1:\n",
    "                            temp_x.append(elem[i])\n",
    "                        else:\n",
    "                            temp_x.append(elem[i,j])\n",
    "\n",
    "                    for elem in list_output_y:\n",
    "                        if elem.ndim==1:\n",
    "                            temp_y.append(elem[i])\n",
    "                        else:\n",
    "                            temp_y.append(elem[i,j])\n",
    "                    \n",
    "                if len(temp_x)>0:\n",
    "                    X.append(temp_x)\n",
    "                    Y.append(temp_y)\n",
    "                    mapping_pos.append([i,j])\n",
    "        \n",
    "    return np.array(X),Y,mapping_pos        "
   ]
  },
  {
   "cell_type": "code",
   "execution_count": 36,
   "metadata": {},
   "outputs": [],
   "source": [
    "def features_validation(list_features_x,WT):\n",
    "    \n",
    "    X=[]\n",
    "    mapping_pos=[] \n",
    "    \n",
    "    for i in range(len(WT)):\n",
    "        for j in range(20):\n",
    "            if j!=(alphabetAA_L_D[WT[i]]-1):\n",
    "                temp_x=[]\n",
    "                temp_y=[]\n",
    "                cond=True\n",
    "\n",
    "                for elem in list_features_x:\n",
    "                    if elem.ndim==1:\n",
    "                        if np.isnan(elem[i])==True:\n",
    "                            cond=False\n",
    "                    else:\n",
    "                        if np.isnan(elem[i,j])==True:\n",
    "                            cond=False    \n",
    "            \n",
    "\n",
    "                if cond==True:\n",
    "                    \n",
    "                    for elem in list_features_x:\n",
    "                        if elem.ndim==1:\n",
    "                            temp_x.append(elem[i])\n",
    "                        else:\n",
    "                            temp_x.append(elem[i,j])\n",
    "                    \n",
    "                if len(temp_x)>0:\n",
    "                    X.append(temp_x)\n",
    "                    mapping_pos.append([i,j])\n",
    "        \n",
    "    return np.array(X),mapping_pos        "
   ]
  },
  {
   "cell_type": "code",
   "execution_count": 37,
   "metadata": {},
   "outputs": [],
   "source": [
    "def binary_threshold(data_x,data_y,t_x,t_y):\n",
    "    labels=np.copy(data_x)\n",
    "    labels[:]=np.nan\n",
    "    \n",
    "    for i in range(data_x.shape[0]):\n",
    "        for j in range(data_x.shape[1]):\n",
    "            if np.isnan(data_x[i,j])!= True and np.isnan(data_y[i,j])!=True:\n",
    "                if data_x[i,j] > t_x and data_y[i,j]<t_y:\n",
    "                    labels[i,j]=1\n",
    "                else:\n",
    "                    labels[i,j]=0\n",
    "    \n",
    "    return labels"
   ]
  },
  {
   "cell_type": "code",
   "execution_count": 38,
   "metadata": {},
   "outputs": [],
   "source": [
    "def multiclass_threshold(data_x,data_y,t_x,t_y):\n",
    "    labels=np.copy(data_x)\n",
    "    labels[:]=np.nan\n",
    "    \n",
    "    for i in range(data_x.shape[0]):\n",
    "        for j in range(data_x.shape[1]):\n",
    "            if np.isnan(data_x[i,j])!= True and np.isnan(data_y[i,j])!=True:\n",
    "                if data_x[i,j] > t_x and data_y[i,j]<t_y:\n",
    "                    labels[i,j]=1\n",
    "                elif data_x[i,j] < t_x and data_y[i,j]<t_y:\n",
    "                    labels[i,j]=2\n",
    "                elif data_x[i,j] < t_x and data_y[i,j]>t_y:\n",
    "                    labels[i,j]=3\n",
    "                else:\n",
    "                    labels[i,j]=0\n",
    "    \n",
    "    return labels"
   ]
  },
  {
   "cell_type": "code",
   "execution_count": 39,
   "metadata": {},
   "outputs": [],
   "source": [
    "def prob_to_label(probability,thr):\n",
    "    labels=np.zeros(probability.shape[0],dtype=int)\n",
    "    for i in range(probability.shape[0]):\n",
    "        if probability[i][1]>thr:\n",
    "            labels[i]=1\n",
    "            #print(1)\n",
    "        else:\n",
    "            labels[i]=0\n",
    "            #print(0)\n",
    "    return labels"
   ]
  },
  {
   "cell_type": "code",
   "execution_count": 40,
   "metadata": {},
   "outputs": [],
   "source": [
    "def pairplot_features_class(list_feature,name_features,namefile,class_coloured):\n",
    "    df=pd.DataFrame(list_feature,columns=name_features)\n",
    "    if class_coloured==1:\n",
    "        sns_plot=sns.pairplot(df,vars=name_features[:-1],hue='Y',palette={0:'w',1:'b'})\n",
    "    elif class_coloured==0:\n",
    "        sns_plot=sns.pairplot(df,vars=name_features[:-1],hue='Y',palette={-1:'w',0:'r'}) \n",
    "    else:\n",
    "        sns_plot=sns.pairplot(df,vars=name_features[:-1],hue='Y')         \n",
    "    sns_plot.savefig(namefile)"
   ]
  },
  {
   "cell_type": "code",
   "execution_count": 41,
   "metadata": {},
   "outputs": [],
   "source": [
    "def gemme_prediction(X,X_map,WT,thr,file):\n",
    "    prediction=np.zeros(len(X),dtype=int)\n",
    "    for i in range(len(X)):\n",
    "        if X[i] < thr:\n",
    "            prediction[i]=1\n",
    "            \n",
    "    mode_prediction,percentage=retrieve_residue_label_pred(prediction,X_map,WT,0.50)\n",
    "    file=open(file,\"w+\")\n",
    "    file.write('%s\\n%s\\n%s\\n%s\\n' % ('#','#  Use this file to assign the attribute in Chimera with the','#  Define Attribute tool or the command defattr','#'))\n",
    "    file.write('%s\\n%s\\n%s\\n' % ( 'attribute: cbyvalue','match mode: 1-to-1', 'recipient: residues') )\n",
    "    \n",
    "    for i in range(len(mode_prediction)):\n",
    "        if np.isnan(mode_prediction[i])==True:\n",
    "            file.write(\"\\t%s%d%s\\t%f\\n\" % (':',i+1,'.A',-1))\n",
    "        else:\n",
    "            file.write(\"\\t%s%d%s\\t%f\\n\" % (':',i+1,'.A',percentage[i,0]))\n",
    "    file.close()"
   ]
  },
  {
   "cell_type": "code",
   "execution_count": 42,
   "metadata": {},
   "outputs": [],
   "source": [
    "def count_positive_SBI(prediction,perc,sites):\n",
    "    count_pos=[0,0,0]\n",
    "    for i in range(len(prediction)):\n",
    "        if np.isnan(prediction[i])!=True:\n",
    "            if i+1 in sites:\n",
    "                if perc[i]>0.5:\n",
    "                    count_pos[0]+=1\n",
    "                if perc[i]>0.2 and perc[i]<=0.5:\n",
    "                    count_pos[1]+=1\n",
    "                count_pos[2]+=1\n",
    "                \n",
    "    \n",
    "    return count_pos"
   ]
  },
  {
   "cell_type": "code",
   "execution_count": 43,
   "metadata": {},
   "outputs": [],
   "source": [
    "def index_positive_SBI(prediction,perc,sites):\n",
    "    index_pos=[]\n",
    "    index_dpos=[]\n",
    "    for i in range(len(prediction)):\n",
    "        if np.isnan(prediction[i])!=True:\n",
    "            if i+1 in sites:\n",
    "                if perc[i]>0.5:\n",
    "                    index_pos.append(i)\n",
    "                if perc[i]>0.2 and perc[i]<=0.5:\n",
    "                    index_dpos.append(i)\n",
    "    \n",
    "    return index_pos,index_dpos"
   ]
  },
  {
   "cell_type": "code",
   "execution_count": 44,
   "metadata": {},
   "outputs": [],
   "source": [
    "def index_SBI_db(prediction,sites):\n",
    "    index_pos=[]\n",
    "    for i in range(len(prediction)):\n",
    "        if np.isnan(prediction[i])!=True:\n",
    "            if i+1 in sites:\n",
    "                if prediction[i]==1:\n",
    "                    index_pos.append(i)\n",
    "    \n",
    "    return index_pos"
   ]
  },
  {
   "cell_type": "code",
   "execution_count": 45,
   "metadata": {},
   "outputs": [],
   "source": [
    "def asa_SBI(prediction,asa):\n",
    "    asa_collect=[]\n",
    "    for i,n in enumerate(prediction):\n",
    "        if n==1:\n",
    "            asa_collect.append(asa[i])\n",
    "    return asa_collect"
   ]
  },
  {
   "cell_type": "code",
   "execution_count": 46,
   "metadata": {},
   "outputs": [],
   "source": [
    "def struc_coordinates(pdb_loc,WT,chain='A'):\n",
    "    alphabetAA_3L_1LC={\"Ter\":'*',\"Gap\":'-',\"ALA\":'A',\"CYS\":'C',\"ASP\":'D',\"GLU\":'E',\"PHE\":'F',\"GLY\":'G',\"HIS\":'H',\"ILE\":'I',\"LYS\":'K',\"LEU\":'L',\"MET\":'M',\"ASN\":'N',\"PRO\":'P',\"GLN\":'Q',\"ARG\":'R',\"SER\":'S',\"THR\":'T',\"VAL\" :'V',\"TRP\":'W',\"TYR\":'Y'}\n",
    "\n",
    "    coordinates=np.empty((len(WT),3),dtype=float)\n",
    "    coordinates[:]=np.nan\n",
    "    \n",
    "    fr = open(pdb_loc, 'r')\n",
    "\n",
    "    for record in fr:\n",
    "        if(re.search(r'^ATOM\\s+\\d+\\s+CA\\s+', record)):\n",
    "            if chain==(record[21:22]):\n",
    "                pos=int(record[23:26])\n",
    "                if alphabetAA_3L_1LC[record[17:20]]!=WT[pos-1]:\n",
    "                    print(f\"WARNING: in pos {pos}, WT sequence AA doesn't match pbd AA\")\n",
    "                    \n",
    "                coordinates[pos-1,0]=float(record[31:38])\n",
    "                coordinates[pos-1,1]=float(record[39:46])\n",
    "                coordinates[pos-1,2]=float(record[47:54])\n",
    "    \n",
    "    fr.close()\n",
    "    \n",
    "    return coordinates"
   ]
  },
  {
   "cell_type": "code",
   "execution_count": 47,
   "metadata": {},
   "outputs": [],
   "source": [
    "def AS_CA_distance(CA_coord,AS_pos,target):\n",
    "    AS_baricenter=np.zeros((3,1),dtype=float)\n",
    "    \n",
    "    for i in AS_pos:\n",
    "        if np.isnan(CA_coord[i-1,:]).any():\n",
    "            print(f'WARNING - no active site coordinates in pdb for position: {i}')\n",
    "        else:\n",
    "            AS_baricenter[0]+=CA_coord[i-1,0]\n",
    "            AS_baricenter[1]+=CA_coord[i-1,1]\n",
    "            AS_baricenter[2]+=CA_coord[i-1,2]\n",
    "        \n",
    "    AS_baricenter=AS_baricenter/len(AS_pos)\n",
    "\n",
    "    dist=[-1.0]\n",
    "    \n",
    "    if np.isnan(CA_coord[target-1,:]).any():\n",
    "        pass\n",
    "        ##print(f'WARNING - no target coordinates in pdb for position: {target}')\n",
    "    else:\n",
    "        dist=sp.sqrt((AS_baricenter[0]-CA_coord[target-1,0])**2+(AS_baricenter[1]-CA_coord[target-1,1])**2+(AS_baricenter[2]-CA_coord[target-1,2])**2)\n",
    "    \n",
    "    return dist[0]"
   ]
  },
  {
   "cell_type": "code",
   "execution_count": 48,
   "metadata": {},
   "outputs": [],
   "source": [
    "def SBI_contact_map(CA_coord,SBI_list):\n",
    "    SBI_CA=[]\n",
    "    \n",
    "    for i,n in enumerate(SBI_list):\n",
    "        if np.count_nonzero(np.isnan(CA_coord[i,:])==True):\n",
    "            pass\n",
    "        else:\n",
    "            SBI_CA.append([n, list(CA_coord[i,:])])\n",
    "        \n",
    "    print(len(np.array(SBI_CA)))\n",
    "    \n",
    "    SBI_CM=np.empty((len(SBI_CA),len(SBI_CA)),dtype=float)\n",
    "    SBI_CM[:]=np.nan\n",
    "    for i in range(len(SBI_CA)):\n",
    "        for j in range(i,len(SBI_CA)):\n",
    "                SBI_CM[i,j]=sp.sqrt((SBI_CA[i][1][0]-SBI_CA[j][1][0])**2+(SBI_CA[i][1][1]-SBI_CA[j][1][1])**2+(SBI_CA[i][1][2]-SBI_CA[j][1][2])**2)\n",
    "                SBI_CM[j,i]=SBI_CM[i,j]\n",
    "    \n",
    "    fig,(ax)=plt.subplots(1,2,figsize=(12,6))\n",
    "    pos=ax[0].imshow(SBI_CM)\n",
    "    from mpl_toolkits.axes_grid1 import make_axes_locatable\n",
    "    divider = make_axes_locatable(ax[0])\n",
    "    cax = divider.append_axes(\"right\", size=\"5%\", pad=0.05)\n",
    "    cbar=fig.colorbar(pos,ax=ax[0],cax=cax)\n",
    "    cbar.ax.tick_params(labelsize=14) \n",
    "    \n",
    "    ax[0].set_yticks([i for i in range(0,len(SBI_CA))])\n",
    "    ax[0].set_yticklabels([str(SBI_CA[i][0]) for i in range(0,len(SBI_CA))],fontsize=14)\n",
    "    \n",
    "    ax[0].set_xticks([i for i in range(0,len(SBI_CA))])\n",
    "    ax[0].set_xticklabels([str(SBI_CA[i][0]) for i in range(0,len(SBI_CA))],rotation='vertical',fontsize=14)\n",
    "    \n",
    "    ax[0].set_xlabel('SBI residue',fontsize=16)\n",
    "    ax[0].set_ylabel('SBI residue',fontsize=16)\n",
    "    \n",
    "    pca=sb.stats.ordination.pcoa(SBI_CM,number_of_dimensions=2)\n",
    "    df=pca.samples\n",
    "    \n",
    "    \n",
    "    \n",
    "    from sklearn.cluster import KMeans\n",
    "    from sklearn.metrics import silhouette_score\n",
    "\n",
    "    sil = []\n",
    "    kmax = 10\n",
    "\n",
    "    # dissimilarity would not be defined for a single cluster, thus, minimum number of clusters should be 2\n",
    "    for k in range(2, kmax+1):\n",
    "       # kmeans = KMeans(n_clusters = k,precompute_distances=True).fit(SBI_CM)\n",
    "        kmeans = KMeans(n_clusters = k).fit(SBI_CM)\n",
    "\n",
    "        labels = kmeans.labels_\n",
    "        sil.append(silhouette_score(SBI_CM, labels, metric = 'euclidean'))\n",
    "        \n",
    "    \n",
    "    \n",
    "    print(np.argmax(sil)+2, sil[np.argmax(sil)])\n",
    "        \n",
    "    #kmeans = KMeans(n_clusters=np.argmax(sil)+2,precompute_distances=True).fit(SBI_CM)\n",
    "    kmeans = KMeans(n_clusters=np.argmax(sil)+2).fit(SBI_CM)\n",
    "\n",
    "    \n",
    "    ax[1].scatter(df.iloc[:,0],df.iloc[:,1],c=kmeans.labels_)\n",
    "    ax[1].set_xlabel('PCA 1',fontsize=16)\n",
    "    ax[1].set_ylabel('PCA 2',fontsize=16)\n",
    "    ax[1].tick_params(axis='both', which='major', labelsize=14)\n",
    "    idx=0\n",
    "    for label, x, y in zip(SBI_list, df.iloc[:,0],df.iloc[:,1]):\n",
    "        ax[1].annotate(label, (x+0.1,y+0.1), fontsize=14)\n",
    "        idx+=1"
   ]
  },
  {
   "cell_type": "code",
   "execution_count": 49,
   "metadata": {},
   "outputs": [],
   "source": [
    "def variants_statistic(prediction,variant_map,WT,rosetta_score,ros_thr):\n",
    "    alphabetAA_L_D={'-':0,'_' :0,'A':1,'C':2,'D':3,'E':4,'F':5,'G':6,'H':7,'I':8,'K':9,'L':10,'M':11,'N':12,'P':13,'Q':14,'R':15,'S':16,'T':17,'V':18,'W':19,'Y':20}\n",
    "\n",
    "    alphabetAA_L_D_reordered={'H':0,'K':1,'R':2,'D':3,'E':4,'C':5,'M':6,'N':7,'Q':8,'S':9,'T':10,'A':11,'G':12,'I':13,'L':14,'P':15,'V':16,'F':17,'W':18,'Y':19}\n",
    "    AA_reordered={6:0,8:1,14:2,2:3,3:4,1:5,10:6,11:7,13:8,15:9,16:10,0:11,5:12,7:13,9:14,12:15,17:16,4:17,18:18,19:19}\n",
    "\n",
    "    \n",
    "    scores=np.empty((len(WT),20),dtype=float)\n",
    "    scores[:]=np.nan\n",
    "    \n",
    "    i=0\n",
    "    for cord in variant_map:\n",
    "        scores[cord[0],cord[1]]=prediction[i]\n",
    "        i+=1\n",
    "\n",
    "    SBI_statistic_m=np.zeros((20,20),dtype=float)\n",
    "    NO_SBI_statistic_m_over2=np.zeros((20,20),dtype=float)\n",
    "    NO_SBI_statistic_m_under2=np.zeros((20,20),dtype=float)\n",
    "    \n",
    "    i=0\n",
    "    \n",
    "    for cord in variant_map:\n",
    "        if prediction[i]==1:\n",
    "            if WT[cord[0]]!='-' and np.count_nonzero(scores[cord[0],:] == 1) >9:\n",
    "                SBI_statistic_m[alphabetAA_L_D_reordered[WT[cord[0]]],AA_reordered[cord[1]]]+=1\n",
    "        else:\n",
    "            if WT[cord[0]]!='-' and np.count_nonzero(scores[cord[0],:] == 1) >9:\n",
    "                if rosetta_score[cord[0],cord[1]]>ros_thr:\n",
    "                    NO_SBI_statistic_m_over2[alphabetAA_L_D_reordered[WT[cord[0]]],AA_reordered[cord[1]]]+=1\n",
    "                else:\n",
    "                    NO_SBI_statistic_m_under2[alphabetAA_L_D_reordered[WT[cord[0]]],AA_reordered[cord[1]]]+=1\n",
    "        i+=1\n",
    "\n",
    "    return [SBI_statistic_m, NO_SBI_statistic_m_under2,NO_SBI_statistic_m_over2]"
   ]
  },
  {
   "cell_type": "code",
   "execution_count": 50,
   "metadata": {},
   "outputs": [],
   "source": [
    "def variants_statistic(prediction,variant_map,WT):\n",
    "    alphabetAA_L_D={'-':0,'_' :0,'A':1,'C':2,'D':3,'E':4,'F':5,'G':6,'H':7,'I':8,'K':9,'L':10,'M':11,'N':12,'P':13,'Q':14,'R':15,'S':16,'T':17,'V':18,'W':19,'Y':20}\n",
    "\n",
    "    alphabetAA_L_D_reordered={'H':0,'K':1,'R':2,'D':3,'E':4,'C':5,'M':6,'N':7,'Q':8,'S':9,'T':10,'A':11,'G':12,'I':13,'L':14,'P':15,'V':16,'F':17,'W':18,'Y':19}\n",
    "    AA_reordered={6:0,8:1,14:2,2:3,3:4,1:5,10:6,11:7,13:8,15:9,16:10,0:11,5:12,7:13,9:14,12:15,17:16,4:17,18:18,19:19}\n",
    "\n",
    "    \n",
    "    scores=np.empty((len(WT),20),dtype=float)\n",
    "    scores[:]=np.nan\n",
    "    \n",
    "    i=0\n",
    "    for cord in variant_map:\n",
    "        scores[cord[0],cord[1]]=prediction[i]\n",
    "        i+=1\n",
    "\n",
    "    SBI_statistic_m=np.zeros((20,20),dtype=float)\n",
    "    NO_SBI_statistic_m_over2=np.zeros((20,20),dtype=float)\n",
    "    NO_SBI_statistic_m_under2=np.zeros((20,20),dtype=float)\n",
    "    \n",
    "    i=0\n",
    "    \n",
    "    for cord in variant_map:\n",
    "        if prediction[i]==1:\n",
    "            if WT[cord[0]]!='-' and np.count_nonzero(scores[cord[0],:] == 1) >9:\n",
    "                SBI_statistic_m[alphabetAA_L_D_reordered[WT[cord[0]]],AA_reordered[cord[1]]]+=1\n",
    "        else:\n",
    "            if WT[cord[0]]!='-' and np.count_nonzero(scores[cord[0],:] == 1) >9:\n",
    "                if prediction[i]==2:\n",
    "                    NO_SBI_statistic_m_over2[alphabetAA_L_D_reordered[WT[cord[0]]],AA_reordered[cord[1]]]+=1\n",
    "                if prediction[i]==0:\n",
    "                    NO_SBI_statistic_m_under2[alphabetAA_L_D_reordered[WT[cord[0]]],AA_reordered[cord[1]]]+=1\n",
    "        i+=1\n",
    "\n",
    "    return [SBI_statistic_m, NO_SBI_statistic_m_under2,NO_SBI_statistic_m_over2]"
   ]
  },
  {
   "cell_type": "code",
   "execution_count": 51,
   "metadata": {},
   "outputs": [],
   "source": [
    "def variants_statistic_slice(prediction,variant_map,WT,slice_thr):\n",
    "    alphabetAA_L_D={'-':0,'_' :0,'A':1,'C':2,'D':3,'E':4,'F':5,'G':6,'H':7,'I':8,'K':9,'L':10,'M':11,'N':12,'P':13,'Q':14,'R':15,'S':16,'T':17,'V':18,'W':19,'Y':20}\n",
    "\n",
    "    alphabetAA_L_D_reordered={'H':0,'K':1,'R':2,'D':3,'E':4,'C':5,'M':6,'N':7,'Q':8,'S':9,'T':10,'A':11,'G':12,'I':13,'L':14,'P':15,'V':16,'F':17,'W':18,'Y':19}\n",
    "    AA_reordered={6:0,8:1,14:2,2:3,3:4,1:5,10:6,11:7,13:8,15:9,16:10,0:11,5:12,7:13,9:14,12:15,17:16,4:17,18:18,19:19}\n",
    "    \n",
    "    scores=np.empty((len(WT),20),dtype=float)\n",
    "    scores[:]=np.nan\n",
    "    \n",
    "    i=0\n",
    "    for cord in variant_map:\n",
    "        scores[cord[0],cord[1]]=prediction[i]\n",
    "        i+=1\n",
    "\n",
    "    SBI_statistic_m=np.zeros((20,20),dtype=float)\n",
    "    NO_SBI_statistic_m_over2=np.zeros((20,20),dtype=float)\n",
    "    NO_SBI_statistic_m_under2=np.zeros((20,20),dtype=float)\n",
    "    \n",
    "    i=0\n",
    "    \n",
    "    for cord in variant_map:\n",
    "        if prediction[i]==1:\n",
    "            if WT[cord[0]]!='-' and slice_thr[0] < np.count_nonzero(scores[cord[0],:] == 1)  < slice_thr[1] :\n",
    "                SBI_statistic_m[alphabetAA_L_D_reordered[WT[cord[0]]],AA_reordered[cord[1]]]+=1\n",
    "        else:\n",
    "            if WT[cord[0]]!='-' and slice_thr[0] < np.count_nonzero(scores[cord[0],:] == 1)  < slice_thr[1]:\n",
    "                if prediction[i]==0:\n",
    "                    NO_SBI_statistic_m_over2[alphabetAA_L_D_reordered[WT[cord[0]]],AA_reordered[cord[1]]]+=1\n",
    "                if prediction[i]==2:\n",
    "                    NO_SBI_statistic_m_under2[alphabetAA_L_D_reordered[WT[cord[0]]],AA_reordered[cord[1]]]+=1\n",
    "        i+=1\n",
    "\n",
    "    return [SBI_statistic_m, NO_SBI_statistic_m_under2,NO_SBI_statistic_m_over2]"
   ]
  },
  {
   "cell_type": "code",
   "execution_count": 52,
   "metadata": {},
   "outputs": [],
   "source": [
    "def variants_extract(prediction,variant_map,pos):\n",
    "    \n",
    "    scores=np.empty(20,dtype=float)\n",
    "    scores[:]=np.nan\n",
    "    \n",
    "    i=0\n",
    "    for cord in variant_map:\n",
    "        if cord[0]==pos:\n",
    "            scores[cord[1]]=prediction[i]\n",
    "        i+=1\n",
    "            \n",
    "    return scores"
   ]
  },
  {
   "cell_type": "markdown",
   "metadata": {
    "tags": [],
    "toc-hr-collapsed": true
   },
   "source": [
    "## Load trained model"
   ]
  },
  {
   "cell_type": "code",
   "execution_count": 160,
   "metadata": {
    "tags": []
   },
   "outputs": [],
   "source": [
    "cat=CatBoostClassifier(iterations=2500, random_strength= 1, depth= 7, l2_leaf_reg= 9, bagging_temperature= 2,verbose=0,class_weights={0:1,1:2,2:1,3:0.1})"
   ]
  },
  {
   "cell_type": "code",
   "execution_count": 161,
   "metadata": {
    "tags": []
   },
   "outputs": [
    {
     "data": {
      "text/plain": [
       "<catboost.core.CatBoostClassifier at 0x7fdd4a6678d0>"
      ]
     },
     "execution_count": 161,
     "metadata": {},
     "output_type": "execute_result"
    }
   ],
   "source": [
    "cat.load_model('../catboost_model/cat_trained_24jun22.cbm')"
   ]
  },
  {
   "cell_type": "markdown",
   "metadata": {
    "tags": [],
    "toc-hr-collapsed": false
   },
   "source": [
    "## Load MCSA dataset (1/2)"
   ]
  },
  {
   "cell_type": "markdown",
   "metadata": {
    "toc-hr-collapsed": true
   },
   "source": [
    "### Q9LAK3"
   ]
  },
  {
   "cell_type": "code",
   "execution_count": 53,
   "metadata": {
    "tags": []
   },
   "outputs": [],
   "source": [
    "Q9LAK3_WT_sequence=\"MKKVIIAGNGPSLKEIDYSRLPNDFDVFRCNQFYFEDKYYLGKKCKAVFYNPILFFEQYYTLKHLIQNQEYETELIMCSNYNQAHLENENFVKTFYDYFPDAHLGYDFFKQLKDFNAYFKFHEIYFNQRITSGVYMCAVAIALGYKEIYLSGIDFYQNGSSYAFDTKQKNLLKLAPNFKNDNSHYIGHSKNTDIKALEFLEKTYKIKLYCLCPNSLLANFIELAPNLNSNFIIQEKNNYTKDILIPSSEAYGKFSKNINFKKIKIKENIYYKLIKDLLRLPSDIKHYFKGK\"\n",
    "Q9LAK3_WT_seq_rose=\"-KKVIIAGNGPSLKEIDYSRLPNDFDVFRCNQFYFEDKYYLGKKCKAVFYNPSLFFEQYYTLKHLIQNQEYETELI-CSNYNQAHLENENFVKTFYDYFPDAHLGYDFFKQLKDFNAYFKFHEIYFNQRITSGVY-CAVAIALGYKEIYLSGIDFYQNGSSYAFDTKQKNLLKLAPNFKNDNSHYIGHSKNTDIKALEFLEKTYKIKLYCLCPNSLLANFIELAPNLNSNFIIQEKNNYTKDILIPSSEAYGKFSKNI---------------------------------\""
   ]
  },
  {
   "cell_type": "code",
   "execution_count": 55,
   "metadata": {
    "tags": []
   },
   "outputs": [
    {
     "name": "stdout",
     "output_type": "stream",
     "text": [
      "291 0.872852233676976\n"
     ]
    }
   ],
   "source": [
    "count=0\n",
    "for i in range(len(Q9LAK3_WT_sequence)):\n",
    "    if Q9LAK3_WT_sequence[i]==Q9LAK3_WT_seq_rose[i]:\n",
    "        count+=1\n",
    "print(len(Q9LAK3_WT_sequence),count/len(Q9LAK3_WT_seq_rose))"
   ]
  },
  {
   "cell_type": "markdown",
   "metadata": {},
   "source": [
    "#### Q9LAK3 active site"
   ]
  },
  {
   "cell_type": "code",
   "execution_count": 56,
   "metadata": {
    "tags": []
   },
   "outputs": [],
   "source": [
    "Q9LAK3_db_positions=[129,156,162,188]\n",
    "Q9LAK3_db_positions_array=np.zeros((len(Q9LAK3_WT_sequence)),dtype=int)\n",
    "for i in Q9LAK3_db_positions:\n",
    "    Q9LAK3_db_positions_array[i-1]=1"
   ]
  },
  {
   "cell_type": "code",
   "execution_count": 57,
   "metadata": {
    "tags": []
   },
   "outputs": [],
   "source": [
    "Q9LAK3_db_ligand_positions=[8,9,10,30,31,32,51,54,58,131,132,133,152,153,154,155,156,161,162,177,178,183,188]"
   ]
  },
  {
   "cell_type": "markdown",
   "metadata": {},
   "source": [
    "#### Co-evolution"
   ]
  },
  {
   "cell_type": "code",
   "execution_count": 60,
   "metadata": {
    "tags": []
   },
   "outputs": [],
   "source": [
    "Q9LAK3_GEMME=load_data_V2('../scores_GEMME/prism_gemme_Q9LAK3.txt',Q9LAK3_WT_sequence)\n",
    "Q9LAK3_GEMME=remove_WT_score(Q9LAK3_GEMME,Q9LAK3_WT_sequence)"
   ]
  },
  {
   "cell_type": "code",
   "execution_count": 62,
   "metadata": {
    "tags": []
   },
   "outputs": [],
   "source": [
    "Q9LAK3_GEMME_mean=position_mean(Q9LAK3_GEMME)"
   ]
  },
  {
   "cell_type": "markdown",
   "metadata": {},
   "source": [
    "####  Rosetta ddG"
   ]
  },
  {
   "cell_type": "code",
   "execution_count": 63,
   "metadata": {
    "tags": []
   },
   "outputs": [],
   "source": [
    "Q9LAK3_rosetta_ddg=load_data_V2(\"../scores_rosetta/prism_rosetta_ddg_Q9LAK3.txt\",Q9LAK3_WT_seq_rose,0)\n",
    "Q9LAK3_rosetta_ddg=remove_WT_score(Q9LAK3_rosetta_ddg,Q9LAK3_WT_seq_rose)"
   ]
  },
  {
   "cell_type": "code",
   "execution_count": 64,
   "metadata": {
    "tags": []
   },
   "outputs": [],
   "source": [
    "Q9LAK3_rosetta_ddg_norm=normalize_cutoff(Q9LAK3_rosetta_ddg,0.0,5.0)"
   ]
  },
  {
   "cell_type": "code",
   "execution_count": 65,
   "metadata": {
    "tags": []
   },
   "outputs": [],
   "source": [
    "Q9LAK3_rosetta_ddg_mean=position_mean(Q9LAK3_rosetta_ddg_norm)"
   ]
  },
  {
   "cell_type": "code",
   "execution_count": 66,
   "metadata": {
    "tags": []
   },
   "outputs": [],
   "source": [
    "Q9LAK3_rosetta_ddg_mean_non=position_mean(Q9LAK3_rosetta_ddg)"
   ]
  },
  {
   "cell_type": "markdown",
   "metadata": {
    "toc-hr-collapsed": true
   },
   "source": [
    "#### WT features"
   ]
  },
  {
   "cell_type": "code",
   "execution_count": 67,
   "metadata": {
    "tags": []
   },
   "outputs": [],
   "source": [
    "Q9LAK3_WT_aa=np.empty(len(Q9LAK3_WT_sequence),dtype=float)\n",
    "Q9LAK3_WT_aa[:]=np.nan"
   ]
  },
  {
   "cell_type": "code",
   "execution_count": 68,
   "metadata": {
    "tags": []
   },
   "outputs": [],
   "source": [
    "for i in range(len(Q9LAK3_WT_sequence)):\n",
    "    Q9LAK3_WT_aa[i]=alphabetAA_L_D[Q9LAK3_WT_sequence[i]]"
   ]
  },
  {
   "cell_type": "markdown",
   "metadata": {},
   "source": [
    "#### Hydrophobicity"
   ]
  },
  {
   "cell_type": "code",
   "execution_count": 69,
   "metadata": {
    "tags": []
   },
   "outputs": [],
   "source": [
    "Q9LAK3_hydrophobicity_mut=np.empty((len(Q9LAK3_WT_sequence),20),dtype=float)\n",
    "Q9LAK3_hydrophobicity_mut[:]=np.nan"
   ]
  },
  {
   "cell_type": "code",
   "execution_count": 70,
   "metadata": {
    "tags": []
   },
   "outputs": [],
   "source": [
    "for i in range(len(Q9LAK3_WT_sequence)):\n",
    "    for j in range(20):\n",
    "        Q9LAK3_hydrophobicity_mut[i,j]=AA_to_hydrophobicity_scores[alphabetAA_D_L[j+1]]"
   ]
  },
  {
   "cell_type": "markdown",
   "metadata": {},
   "source": [
    "#### WCN"
   ]
  },
  {
   "cell_type": "code",
   "execution_count": 71,
   "metadata": {
    "tags": []
   },
   "outputs": [
    {
     "name": "stdout",
     "output_type": "stream",
     "text": [
      "MSE1\n"
     ]
    }
   ],
   "source": [
    "Q9LAK3_wcn=WCN('../pdbs/Q9LAK3_1ro7.pdb','ca',Q9LAK3_WT_sequence)"
   ]
  },
  {
   "cell_type": "markdown",
   "metadata": {},
   "source": [
    "#### CA distance"
   ]
  },
  {
   "cell_type": "code",
   "execution_count": 164,
   "metadata": {
    "tags": []
   },
   "outputs": [
    {
     "name": "stdout",
     "output_type": "stream",
     "text": [
      "WARNING: in pos 53, WT sequence AA doesn't match pbd AA\n"
     ]
    }
   ],
   "source": [
    "Q9LAK3_Ca_coord=struc_coordinates('../pdbs/Q9LAK3_1ro7.pdb',Q9LAK3_WT_sequence)"
   ]
  },
  {
   "cell_type": "markdown",
   "metadata": {},
   "source": [
    "#### Neighbor sequences scores:"
   ]
  },
  {
   "cell_type": "code",
   "execution_count": 72,
   "metadata": {
    "tags": []
   },
   "outputs": [],
   "source": [
    "Q9LAK3_rosetta_neigbor_scores=neighbor_scores(Q9LAK3_rosetta_ddg_mean,1)\n",
    "\n",
    "Q9LAK3_GEMME_neigbor_scores=neighbor_scores(Q9LAK3_GEMME_mean,1)"
   ]
  },
  {
   "cell_type": "markdown",
   "metadata": {
    "toc-hr-collapsed": true
   },
   "source": [
    "### SOR P82385"
   ]
  },
  {
   "cell_type": "code",
   "execution_count": 73,
   "metadata": {
    "tags": []
   },
   "outputs": [],
   "source": [
    "SOR_WT_sequence=\"MISETIRSGDWKGEKHVPVIEYEREGELVKVKVQVGKEIPHPNTTEHHIRYIELYFLPEGENFVYQVGRVEFTAHGESVNGPNTSDVYTEPIAYFVLKTKKKGKLYALSYCNIHGLWENEVTLE\"\n",
    "SOR_WT_seq_rose=\"MISETIRSGDWKGEKHVPVIEYEREGELVKVKVQVGKEIPHPNTTEHHIRYIELYFLPEGENFVYQVGRVEFTAHGESVNGPNTSDVYTEPIAYFVLKTKKKGKLYALSYCNIHGLWENEVTLE\""
   ]
  },
  {
   "cell_type": "code",
   "execution_count": 74,
   "metadata": {
    "tags": []
   },
   "outputs": [
    {
     "name": "stdout",
     "output_type": "stream",
     "text": [
      "124 1.0\n"
     ]
    }
   ],
   "source": [
    "count=0\n",
    "for i in range(len(SOR_WT_sequence)):\n",
    "    if SOR_WT_sequence[i]==SOR_WT_seq_rose[i]:\n",
    "        count+=1\n",
    "print(len(SOR_WT_sequence),count/len(SOR_WT_seq_rose))"
   ]
  },
  {
   "cell_type": "markdown",
   "metadata": {},
   "source": [
    "#### SOR active site"
   ]
  },
  {
   "cell_type": "code",
   "execution_count": 75,
   "metadata": {
    "tags": []
   },
   "outputs": [],
   "source": [
    "SOR_db_positions=[14,15]\n",
    "SOR_db_positions_array=np.zeros((len(SOR_WT_sequence)),dtype=int)\n",
    "for i in SOR_db_positions:\n",
    "    SOR_db_positions_array[i-1]=1"
   ]
  },
  {
   "cell_type": "code",
   "execution_count": 76,
   "metadata": {
    "tags": []
   },
   "outputs": [],
   "source": [
    "SOR_db_ligand_positions=[14,16,41,47,111,114]"
   ]
  },
  {
   "cell_type": "markdown",
   "metadata": {},
   "source": [
    "#### Co-evolution"
   ]
  },
  {
   "cell_type": "code",
   "execution_count": 77,
   "metadata": {
    "tags": []
   },
   "outputs": [],
   "source": [
    "SOR_GEMME=load_data_V2('../scores_GEMME/prism_gemme_P82385.txt',SOR_WT_sequence)\n",
    "SOR_GEMME=remove_WT_score(SOR_GEMME,SOR_WT_sequence)"
   ]
  },
  {
   "cell_type": "code",
   "execution_count": 78,
   "metadata": {
    "tags": []
   },
   "outputs": [],
   "source": [
    "SOR_GEMME_mean=position_mean(SOR_GEMME)"
   ]
  },
  {
   "cell_type": "markdown",
   "metadata": {},
   "source": [
    "####  Rosetta ddG"
   ]
  },
  {
   "cell_type": "code",
   "execution_count": 79,
   "metadata": {
    "tags": []
   },
   "outputs": [],
   "source": [
    "SOR_rosetta_ddg=load_data_V2(\"../scores_rosetta/prism_rosetta_ddg_P82385.txt\",SOR_WT_seq_rose,0)\n",
    "SOR_rosetta_ddg=remove_WT_score(SOR_rosetta_ddg,SOR_WT_seq_rose)"
   ]
  },
  {
   "cell_type": "code",
   "execution_count": 80,
   "metadata": {
    "tags": []
   },
   "outputs": [],
   "source": [
    "SOR_rosetta_ddg_norm=normalize_cutoff(SOR_rosetta_ddg,0.0,5.0)"
   ]
  },
  {
   "cell_type": "code",
   "execution_count": 81,
   "metadata": {
    "tags": []
   },
   "outputs": [],
   "source": [
    "SOR_rosetta_ddg_mean=position_mean(SOR_rosetta_ddg_norm)"
   ]
  },
  {
   "cell_type": "markdown",
   "metadata": {},
   "source": [
    "#### Hydrophobicity"
   ]
  },
  {
   "cell_type": "code",
   "execution_count": 82,
   "metadata": {
    "tags": []
   },
   "outputs": [],
   "source": [
    "SOR_hydrophobicity_mut=np.empty((len(SOR_WT_sequence),20),dtype=float)\n",
    "SOR_hydrophobicity_mut[:]=np.nan"
   ]
  },
  {
   "cell_type": "code",
   "execution_count": 83,
   "metadata": {
    "tags": []
   },
   "outputs": [],
   "source": [
    "for i in range(len(SOR_WT_sequence)):\n",
    "    for j in range(20):\n",
    "        SOR_hydrophobicity_mut[i,j]=AA_to_hydrophobicity_scores[alphabetAA_D_L[j+1]]"
   ]
  },
  {
   "cell_type": "markdown",
   "metadata": {},
   "source": [
    "#### WCN"
   ]
  },
  {
   "cell_type": "code",
   "execution_count": 84,
   "metadata": {
    "tags": []
   },
   "outputs": [
    {
     "name": "stdout",
     "output_type": "stream",
     "text": [
      "MET1\n"
     ]
    }
   ],
   "source": [
    "SOR_wcn=WCN('../pdbs/P82385_1do6.pdb','ca',SOR_WT_sequence)"
   ]
  },
  {
   "cell_type": "markdown",
   "metadata": {},
   "source": [
    "#### CA distance"
   ]
  },
  {
   "cell_type": "code",
   "execution_count": 166,
   "metadata": {
    "tags": []
   },
   "outputs": [],
   "source": [
    "SOR_Ca_coord=struc_coordinates('../pdbs/P82385_1do6.pdb',SOR_WT_sequence)"
   ]
  },
  {
   "cell_type": "markdown",
   "metadata": {},
   "source": [
    "#### Neighbor sequences scores:"
   ]
  },
  {
   "cell_type": "code",
   "execution_count": 97,
   "metadata": {
    "tags": []
   },
   "outputs": [],
   "source": [
    "SOR_rosetta_neigbor_scores=neighbor_scores(SOR_rosetta_ddg_mean,1)\n",
    "\n",
    "SOR_GEMME_neigbor_scores=neighbor_scores(SOR_GEMME_mean,1)"
   ]
  },
  {
   "cell_type": "markdown",
   "metadata": {
    "toc-hr-collapsed": true
   },
   "source": [
    "### XYNA P09850"
   ]
  },
  {
   "cell_type": "code",
   "execution_count": 85,
   "metadata": {
    "tags": []
   },
   "outputs": [],
   "source": [
    "XYNA_WT_sequence=\"MFKFKKNFLVGLSAALMSISLFSATASAASTDYWQNWTDGGGIVNAVNGSGGNYSVNWSNTGNFVVGKGWTTGSPFRTINYNAGVWAPNGNGYLTLYGWTRSPLIEYYVVDSWGTYRPTGTYKGTVKSDGGTYDIYTTTRYNAPSIDGDRTTFTQYWSVRQSKRPTGSNATITFTNHVNAWKSHGMNLGSNWAYQVMATEGYQSSGSSNVTVW\"\n",
    "XYNA_WT_seq_rose=\"----------------------------ASTDYWQNWTDGGGIVNAVNGSGGNYSVNWSNTGDFVVGKGWTTGSPFRTINYNAGVWAPNGNGYLTLYGWTRSPLIEYYVVDSWGTYRPTGTYKGTVKSDGGTYDIYTTTRYNAPSIDGDRTTFTQYWSVRQSKRPTGSNATITFTNHVNAWKSHGMNLGSNWAYQVMATEGYQSSGSSNVTVW\""
   ]
  },
  {
   "cell_type": "code",
   "execution_count": 87,
   "metadata": {
    "tags": []
   },
   "outputs": [
    {
     "name": "stdout",
     "output_type": "stream",
     "text": [
      "213 0.863849765258216\n"
     ]
    }
   ],
   "source": [
    "count=0\n",
    "for i in range(len(XYNA_WT_sequence)):\n",
    "    if XYNA_WT_sequence[i]==XYNA_WT_seq_rose[i]:\n",
    "        count+=1\n",
    "print(len(XYNA_WT_sequence),count/len(XYNA_WT_seq_rose))"
   ]
  },
  {
   "cell_type": "markdown",
   "metadata": {},
   "source": [
    "#### XYNA active site"
   ]
  },
  {
   "cell_type": "code",
   "execution_count": 88,
   "metadata": {
    "tags": []
   },
   "outputs": [],
   "source": [
    "XYNA_db_positions=[97,200,108,106,63]\n",
    "XYNA_db_positions_array=np.zeros((len(XYNA_WT_sequence)),dtype=int)\n",
    "for i in XYNA_db_positions:\n",
    "    XYNA_db_positions_array[i-1]=1"
   ]
  },
  {
   "cell_type": "code",
   "execution_count": 89,
   "metadata": {
    "tags": []
   },
   "outputs": [],
   "source": [
    "XYNA_db_ligand_positions=[35,37,97,144,145,194                       ]"
   ]
  },
  {
   "cell_type": "markdown",
   "metadata": {},
   "source": [
    "#### Co-evolution"
   ]
  },
  {
   "cell_type": "code",
   "execution_count": 90,
   "metadata": {
    "tags": []
   },
   "outputs": [],
   "source": [
    "XYNA_GEMME=load_data_V2('../scores_GEMME/prism_gemme_P09850.txt',XYNA_WT_sequence)\n",
    "XYNA_GEMME=remove_WT_score(XYNA_GEMME,XYNA_WT_sequence)"
   ]
  },
  {
   "cell_type": "code",
   "execution_count": 91,
   "metadata": {
    "tags": []
   },
   "outputs": [],
   "source": [
    "XYNA_GEMME_mean=position_mean(XYNA_GEMME)"
   ]
  },
  {
   "cell_type": "markdown",
   "metadata": {},
   "source": [
    "####  Rosetta ddG"
   ]
  },
  {
   "cell_type": "code",
   "execution_count": 93,
   "metadata": {
    "tags": []
   },
   "outputs": [],
   "source": [
    "XYNA_rosetta_ddg=load_data_V2(\"../scores_rosetta/prism_rosetta_ddg_P09850.txt\",XYNA_WT_seq_rose,0)\n",
    "XYNA_rosetta_ddg=remove_WT_score(XYNA_rosetta_ddg,XYNA_WT_seq_rose)"
   ]
  },
  {
   "cell_type": "code",
   "execution_count": 94,
   "metadata": {
    "tags": []
   },
   "outputs": [],
   "source": [
    "XYNA_rosetta_ddg_norm=normalize_cutoff(XYNA_rosetta_ddg,0.0,5.0)"
   ]
  },
  {
   "cell_type": "code",
   "execution_count": 95,
   "metadata": {
    "tags": []
   },
   "outputs": [],
   "source": [
    "XYNA_rosetta_ddg_mean=position_mean(XYNA_rosetta_ddg_norm)"
   ]
  },
  {
   "cell_type": "markdown",
   "metadata": {},
   "source": [
    "#### Hydrophobicity"
   ]
  },
  {
   "cell_type": "code",
   "execution_count": 207,
   "metadata": {},
   "outputs": [],
   "source": [
    "XYNA_hydrophobicity_mut=np.empty((len(XYNA_WT_sequence),20),dtype=float)\n",
    "XYNA_hydrophobicity_mut[:]=np.nan"
   ]
  },
  {
   "cell_type": "code",
   "execution_count": 208,
   "metadata": {},
   "outputs": [],
   "source": [
    "for i in range(len(XYNA_WT_sequence)):\n",
    "    for j in range(20):\n",
    "        XYNA_hydrophobicity_mut[i,j]=AA_to_hydrophobicity_scores[alphabetAA_D_L[j+1]]"
   ]
  },
  {
   "cell_type": "markdown",
   "metadata": {},
   "source": [
    "#### WCN"
   ]
  },
  {
   "cell_type": "code",
   "execution_count": 96,
   "metadata": {
    "tags": []
   },
   "outputs": [
    {
     "name": "stdout",
     "output_type": "stream",
     "text": [
      "ALA29\n"
     ]
    }
   ],
   "source": [
    "XYNA_wcn=WCN('../pdbs/P09850_1c5h.pdb','ca',XYNA_WT_sequence)"
   ]
  },
  {
   "cell_type": "markdown",
   "metadata": {},
   "source": [
    "#### CA distance"
   ]
  },
  {
   "cell_type": "code",
   "execution_count": 167,
   "metadata": {
    "tags": []
   },
   "outputs": [
    {
     "name": "stdout",
     "output_type": "stream",
     "text": [
      "WARNING: in pos 63, WT sequence AA doesn't match pbd AA\n"
     ]
    }
   ],
   "source": [
    "XYNA_Ca_coord=struc_coordinates('../pdbs/P09850_1c5h.pdb',XYNA_WT_sequence)"
   ]
  },
  {
   "cell_type": "markdown",
   "metadata": {},
   "source": [
    "#### Neighbor sequences scores:"
   ]
  },
  {
   "cell_type": "code",
   "execution_count": 98,
   "metadata": {
    "tags": []
   },
   "outputs": [],
   "source": [
    "XYNA_rosetta_neigbor_scores=neighbor_scores(XYNA_rosetta_ddg_mean,1)\n",
    "\n",
    "XYNA_GEMME_neigbor_scores=neighbor_scores(XYNA_GEMME_mean,1)"
   ]
  },
  {
   "cell_type": "markdown",
   "metadata": {
    "toc-hr-collapsed": true
   },
   "source": [
    "### MURL P56868"
   ]
  },
  {
   "cell_type": "code",
   "execution_count": 99,
   "metadata": {
    "tags": []
   },
   "outputs": [],
   "source": [
    "MURL_WT_sequence=\"MKIGIFDSGVGGLTVLKAIRNRYRKVDIVYLGDTARVPYGIRSKDTIIRYSLECAGFLKDKGVDIIVVACNTASAYALERLKKEINVPVFGVIEPGVKEALKKSRNKKIGVIGTPATVKSGAYQRKLEEGGADVFAKACPLFVPLAEEGLLEGEITRKVVEHYLKEFKGKIDTLILGCTHYPLLKKEIKKFLGDVEVVDSSEALSLSLHNFIKDDGSSSLELFFTDLSPNLQFLIKLILGRDYPVKLAEGVFTH\"\n",
    "MURL_WT_seq_rose=\"MKIGIFDSGVGGLTVLKAIRNRYRKVDIVYLGDTARVPYGIRSKDTIIRYSLECAGFLKDKGVDIIVVACNTASAYALERLKKEINVPVFGVIEPGVKEALKKSRNKKIGVIGTPATVKSGAYQRKLEEGGADVFAKACPLFAPLAEEGLLEGEITRKVVEHYLKEFKGKIDTLILGCTHYPLLKKEIKKFLGDAEVVDSSEALSLSLHNFIKDDGSSSLELFFTDLSPNLQFLIKLILGRDYPVKLAEGVF--\""
   ]
  },
  {
   "cell_type": "code",
   "execution_count": 100,
   "metadata": {
    "tags": []
   },
   "outputs": [
    {
     "name": "stdout",
     "output_type": "stream",
     "text": [
      "254 0.984251968503937\n"
     ]
    }
   ],
   "source": [
    "count=0\n",
    "for i in range(len(MURL_WT_sequence)):\n",
    "    if MURL_WT_sequence[i]==MURL_WT_seq_rose[i]:\n",
    "        count+=1\n",
    "print(len(MURL_WT_sequence),count/len(MURL_WT_seq_rose))"
   ]
  },
  {
   "cell_type": "markdown",
   "metadata": {},
   "source": [
    "#### MURL active site"
   ]
  },
  {
   "cell_type": "code",
   "execution_count": 101,
   "metadata": {
    "tags": []
   },
   "outputs": [],
   "source": [
    "MURL_db_positions=[7,8,178,147,70,180]"
   ]
  },
  {
   "cell_type": "code",
   "execution_count": 102,
   "metadata": {
    "tags": []
   },
   "outputs": [],
   "source": [
    "MURL_db_ligand_positions=[69,70,71,177,178]"
   ]
  },
  {
   "cell_type": "markdown",
   "metadata": {},
   "source": [
    "#### Co-evolution"
   ]
  },
  {
   "cell_type": "code",
   "execution_count": 103,
   "metadata": {
    "tags": []
   },
   "outputs": [],
   "source": [
    "MURL_GEMME=load_data_V2('../scores_GEMME/prism_gemme_P56868.txt',MURL_WT_sequence)\n",
    "MURL_GEMME=remove_WT_score(MURL_GEMME,MURL_WT_sequence)"
   ]
  },
  {
   "cell_type": "code",
   "execution_count": 104,
   "metadata": {
    "tags": []
   },
   "outputs": [],
   "source": [
    "MURL_GEMME_mean=position_mean(MURL_GEMME)"
   ]
  },
  {
   "cell_type": "markdown",
   "metadata": {},
   "source": [
    "####  Rosetta ddG"
   ]
  },
  {
   "cell_type": "code",
   "execution_count": 106,
   "metadata": {
    "tags": []
   },
   "outputs": [],
   "source": [
    "MURL_rosetta_ddg=load_data_V2(\"../scores_rosetta/prism_rosetta_ddg_P56868.txt\",MURL_WT_seq_rose,0)\n",
    "MURL_rosetta_ddg=remove_WT_score(MURL_rosetta_ddg,MURL_WT_seq_rose)"
   ]
  },
  {
   "cell_type": "code",
   "execution_count": 107,
   "metadata": {
    "tags": []
   },
   "outputs": [],
   "source": [
    "MURL_rosetta_ddg_norm=normalize_cutoff(MURL_rosetta_ddg,0.0,5.0)"
   ]
  },
  {
   "cell_type": "code",
   "execution_count": 108,
   "metadata": {
    "tags": []
   },
   "outputs": [],
   "source": [
    "MURL_rosetta_ddg_mean=position_mean(MURL_rosetta_ddg_norm)"
   ]
  },
  {
   "cell_type": "markdown",
   "metadata": {},
   "source": [
    "#### Hydrophobicity"
   ]
  },
  {
   "cell_type": "code",
   "execution_count": 235,
   "metadata": {},
   "outputs": [],
   "source": [
    "MURL_hydrophobicity_mut=np.empty((len(MURL_WT_sequence),20),dtype=float)\n",
    "MURL_hydrophobicity_mut[:]=np.nan"
   ]
  },
  {
   "cell_type": "code",
   "execution_count": 236,
   "metadata": {},
   "outputs": [],
   "source": [
    "for i in range(len(MURL_WT_sequence)):\n",
    "    for j in range(20):\n",
    "        MURL_hydrophobicity_mut[i,j]=AA_to_hydrophobicity_scores[alphabetAA_D_L[j+1]]"
   ]
  },
  {
   "cell_type": "markdown",
   "metadata": {},
   "source": [
    "#### WCN"
   ]
  },
  {
   "cell_type": "code",
   "execution_count": 154,
   "metadata": {
    "tags": []
   },
   "outputs": [
    {
     "name": "stdout",
     "output_type": "stream",
     "text": [
      "MET1\n"
     ]
    }
   ],
   "source": [
    "MURL_wcn=WCN('../pdbs/P56868_1b73.pdb','ca',MURL_WT_sequence)"
   ]
  },
  {
   "cell_type": "markdown",
   "metadata": {},
   "source": [
    "#### CA distance"
   ]
  },
  {
   "cell_type": "code",
   "execution_count": 168,
   "metadata": {
    "tags": []
   },
   "outputs": [
    {
     "name": "stdout",
     "output_type": "stream",
     "text": [
      "WARNING: in pos 143, WT sequence AA doesn't match pbd AA\n",
      "WARNING: in pos 195, WT sequence AA doesn't match pbd AA\n"
     ]
    }
   ],
   "source": [
    "MURL_Ca_coord=struc_coordinates('../pdbs/P56868_1b73.pdb',MURL_WT_sequence)"
   ]
  },
  {
   "cell_type": "markdown",
   "metadata": {},
   "source": [
    "#### Neighbor sequences scores:"
   ]
  },
  {
   "cell_type": "code",
   "execution_count": 241,
   "metadata": {},
   "outputs": [],
   "source": [
    "MURL_rosetta_neigbor_scores=neighbor_scores(MURL_rosetta_ddg_mean,1)\n",
    "\n",
    "MURL_GEMME_neigbor_scores=neighbor_scores(MURL_GEMME_mean,1)"
   ]
  },
  {
   "cell_type": "markdown",
   "metadata": {
    "toc-hr-collapsed": true
   },
   "source": [
    "### P0A7E3"
   ]
  },
  {
   "cell_type": "code",
   "execution_count": 109,
   "metadata": {
    "tags": []
   },
   "outputs": [],
   "source": [
    "P0A7E3_WT_sequence=\"MKPYQRQFIEFALSKQVLKFGEFTLKSGRKSPYFFNAGLFNTGRDLALLGRFYAEALVDSGIEFDLLFGPAYKGIPIATTTAVALAEHHDLDLPYCFNRKEAKDHGEGGNLVGSALQGRVMLVDDVITAGTAIRESMEIIQANGATLAGVLISLDRQERGRGEISAIQEVERDYNCKVISIITLKDLIAYLEEKPEMAEHLAAVKAYREEFGV\"\n",
    "P0A7E3_WT_seq_rose=\"MKPYQRQFIEFALSKQVLKFGEFTLKSGRKSPYFFNAGLFNTGRDLALLGRFYAEALVDSGIEFDLLFGPAYKGIPIATTTAVALAEHHDLDLPYCFNRKEAKDHGEGGNLVGSALQGRVMLVDDVITAGTAIRESMEIIQANGATLAGVLISLDRQERGRGEISAIQEVERDYNCKVISIITLKDLIAYLEEKPEMAEHLAAVKAYREEFGV\""
   ]
  },
  {
   "cell_type": "code",
   "execution_count": 110,
   "metadata": {
    "tags": []
   },
   "outputs": [
    {
     "name": "stdout",
     "output_type": "stream",
     "text": [
      "213 1.0\n"
     ]
    }
   ],
   "source": [
    "count=0\n",
    "for i in range(len(P0A7E3_WT_sequence)):\n",
    "    if P0A7E3_WT_sequence[i]==P0A7E3_WT_seq_rose[i]:\n",
    "        count+=1\n",
    "print(len(P0A7E3_WT_sequence),count/len(P0A7E3_WT_seq_rose))"
   ]
  },
  {
   "cell_type": "markdown",
   "metadata": {},
   "source": [
    "#### P0A7E3 active site"
   ]
  },
  {
   "cell_type": "code",
   "execution_count": 111,
   "metadata": {
    "tags": []
   },
   "outputs": [],
   "source": [
    "P0A7E3_db_positions=[103,105]\n",
    "P0A7E3_db_positions_array=np.zeros((len(P0A7E3_WT_sequence)),dtype=int)\n",
    "for i in P0A7E3_db_positions:\n",
    "    P0A7E3_db_positions_array[i-1]=1"
   ]
  },
  {
   "cell_type": "markdown",
   "metadata": {},
   "source": [
    "#### Co-evolution"
   ]
  },
  {
   "cell_type": "code",
   "execution_count": 113,
   "metadata": {
    "tags": []
   },
   "outputs": [],
   "source": [
    "P0A7E3_GEMME=load_data_V2('../scores_GEMME/prism_gemme_P0A7E3.txt',P0A7E3_WT_sequence)\n",
    "P0A7E3_GEMME=remove_WT_score(P0A7E3_GEMME,P0A7E3_WT_sequence)"
   ]
  },
  {
   "cell_type": "code",
   "execution_count": 114,
   "metadata": {
    "tags": []
   },
   "outputs": [],
   "source": [
    "P0A7E3_GEMME_mean=position_mean(P0A7E3_GEMME)"
   ]
  },
  {
   "cell_type": "markdown",
   "metadata": {},
   "source": [
    "####  Rosetta ddG"
   ]
  },
  {
   "cell_type": "code",
   "execution_count": 115,
   "metadata": {
    "tags": []
   },
   "outputs": [],
   "source": [
    "P0A7E3_rosetta_ddg=load_data_V2(\"../scores_rosetta/prism_rosetta_ddg_P0A7E3.txt\",P0A7E3_WT_seq_rose)\n",
    "P0A7E3_rosetta_ddg=remove_WT_score(P0A7E3_rosetta_ddg,P0A7E3_WT_seq_rose)"
   ]
  },
  {
   "cell_type": "code",
   "execution_count": 116,
   "metadata": {
    "tags": []
   },
   "outputs": [],
   "source": [
    "P0A7E3_rosetta_ddg_norm=normalize_cutoff(P0A7E3_rosetta_ddg,0.0,5.0)"
   ]
  },
  {
   "cell_type": "code",
   "execution_count": 117,
   "metadata": {
    "tags": []
   },
   "outputs": [],
   "source": [
    "P0A7E3_rosetta_ddg_mean=position_mean(P0A7E3_rosetta_ddg_norm)"
   ]
  },
  {
   "cell_type": "markdown",
   "metadata": {},
   "source": [
    "#### Hydrophobicity"
   ]
  },
  {
   "cell_type": "code",
   "execution_count": 258,
   "metadata": {},
   "outputs": [],
   "source": [
    "P0A7E3_hydrophobicity_mut=np.empty((len(P0A7E3_WT_sequence),20),dtype=float)\n",
    "P0A7E3_hydrophobicity_mut[:]=np.nan"
   ]
  },
  {
   "cell_type": "code",
   "execution_count": 259,
   "metadata": {},
   "outputs": [],
   "source": [
    "for i in range(len(P0A7E3_WT_sequence)):\n",
    "    for j in range(20):\n",
    "        P0A7E3_hydrophobicity_mut[i,j]=AA_to_hydrophobicity_scores[alphabetAA_D_L[j+1]]"
   ]
  },
  {
   "cell_type": "markdown",
   "metadata": {},
   "source": [
    "#### WCN"
   ]
  },
  {
   "cell_type": "code",
   "execution_count": 155,
   "metadata": {
    "tags": []
   },
   "outputs": [
    {
     "name": "stdout",
     "output_type": "stream",
     "text": [
      "MET1\n"
     ]
    }
   ],
   "source": [
    "P0A7E3_wcn=WCN('../pdbs/P0A7E3_1oro.pdb','ca',P0A7E3_WT_sequence)"
   ]
  },
  {
   "cell_type": "markdown",
   "metadata": {},
   "source": [
    "#### CA distance"
   ]
  },
  {
   "cell_type": "code",
   "execution_count": 171,
   "metadata": {
    "tags": []
   },
   "outputs": [],
   "source": [
    "P0A7E3_Ca_coord=struc_coordinates('../pdbs/P0A7E3_1oro.pdb',P0A7E3_WT_sequence)"
   ]
  },
  {
   "cell_type": "markdown",
   "metadata": {},
   "source": [
    "#### Neighbor sequences scores:"
   ]
  },
  {
   "cell_type": "code",
   "execution_count": 264,
   "metadata": {},
   "outputs": [],
   "source": [
    "P0A7E3_rosetta_neigbor_scores=neighbor_scores(P0A7E3_rosetta_ddg_mean,1)\n",
    "\n",
    "P0A7E3_GEMME_neigbor_scores=neighbor_scores(P0A7E3_GEMME_mean,1)"
   ]
  },
  {
   "cell_type": "markdown",
   "metadata": {
    "toc-hr-collapsed": true
   },
   "source": [
    "### SP2AB O32727"
   ]
  },
  {
   "cell_type": "code",
   "execution_count": 118,
   "metadata": {
    "tags": []
   },
   "outputs": [],
   "source": [
    "SP2AB_WT_sequence=\"MRNEMHLQFSARSENESFARVTVAAFVAQLDPTTDELTEIKTVVSEAVTNAIIHGYNNDPNGIVSISVIIEDGVVHLTVRDEGVGIPDIEEARQPLFTTKPELERSGMGFTIMENFMDEVIVESEVNKGTTVYLKKAYCEKQTLCN\"\n",
    "SP2AB_WT_seq_rose=\"MRNEMHLQFSARSENESFARVTVAAFVAQLDPTMDELTEIKTVVSEAVTNAIIHGYNNDPNGIVSISVIIEDGVVHLTVRDEGVGIPDIEEARQPLFTTKPELERSGMGFTIMENFMDEVIVESEVNKGTTVYLKK----------\""
   ]
  },
  {
   "cell_type": "code",
   "execution_count": 119,
   "metadata": {
    "tags": []
   },
   "outputs": [
    {
     "name": "stdout",
     "output_type": "stream",
     "text": [
      "146 0.9246575342465754\n"
     ]
    }
   ],
   "source": [
    "count=0\n",
    "for i in range(len(SP2AB_WT_sequence)):\n",
    "    if SP2AB_WT_sequence[i]==SP2AB_WT_seq_rose[i]:\n",
    "        count+=1\n",
    "print(len(SP2AB_WT_sequence),count/len(SP2AB_WT_seq_rose))"
   ]
  },
  {
   "cell_type": "markdown",
   "metadata": {},
   "source": [
    "#### SP2AB active site"
   ]
  },
  {
   "cell_type": "code",
   "execution_count": 120,
   "metadata": {
    "tags": []
   },
   "outputs": [],
   "source": [
    "SP2AB_db_positions=[46,50,105]"
   ]
  },
  {
   "cell_type": "code",
   "execution_count": 121,
   "metadata": {
    "tags": []
   },
   "outputs": [],
   "source": [
    "SP2AB_db_ligand_positions=[50,51,54,55,81,86,92,97,98,99,105,106,108,109,110]"
   ]
  },
  {
   "cell_type": "markdown",
   "metadata": {},
   "source": [
    "#### Co-evolution"
   ]
  },
  {
   "cell_type": "code",
   "execution_count": 122,
   "metadata": {
    "tags": []
   },
   "outputs": [],
   "source": [
    "SP2AB_GEMME=load_data_V2('../scores_GEMME/prism_gemme_O32727.txt',SP2AB_WT_sequence)\n",
    "SP2AB_GEMME=remove_WT_score(SP2AB_GEMME,SP2AB_WT_sequence)"
   ]
  },
  {
   "cell_type": "code",
   "execution_count": 123,
   "metadata": {
    "tags": []
   },
   "outputs": [],
   "source": [
    "SP2AB_GEMME_mean=position_mean(SP2AB_GEMME)"
   ]
  },
  {
   "cell_type": "markdown",
   "metadata": {},
   "source": [
    "####  Rosetta ddG"
   ]
  },
  {
   "cell_type": "code",
   "execution_count": 124,
   "metadata": {
    "tags": []
   },
   "outputs": [],
   "source": [
    "SP2AB_rosetta_ddg=load_data_V2(\"../scores_rosetta/prism_rosetta_ddg_O32727.txt\",SP2AB_WT_seq_rose,0)\n",
    "SP2AB_rosetta_ddg=remove_WT_score(SP2AB_rosetta_ddg,SP2AB_WT_seq_rose)"
   ]
  },
  {
   "cell_type": "code",
   "execution_count": 125,
   "metadata": {
    "tags": []
   },
   "outputs": [],
   "source": [
    "SP2AB_rosetta_ddg_norm=normalize_cutoff(SP2AB_rosetta_ddg,0.0,5.0)"
   ]
  },
  {
   "cell_type": "code",
   "execution_count": 126,
   "metadata": {
    "tags": []
   },
   "outputs": [],
   "source": [
    "SP2AB_rosetta_ddg_mean=position_mean(SP2AB_rosetta_ddg_norm)"
   ]
  },
  {
   "cell_type": "markdown",
   "metadata": {},
   "source": [
    "#### Hydrophobicity"
   ]
  },
  {
   "cell_type": "code",
   "execution_count": 285,
   "metadata": {},
   "outputs": [],
   "source": [
    "SP2AB_hydrophobicity_mut=np.empty((len(SP2AB_WT_sequence),20),dtype=float)\n",
    "SP2AB_hydrophobicity_mut[:]=np.nan"
   ]
  },
  {
   "cell_type": "code",
   "execution_count": 286,
   "metadata": {},
   "outputs": [],
   "source": [
    "for i in range(len(SP2AB_WT_sequence)):\n",
    "    for j in range(20):\n",
    "        SP2AB_hydrophobicity_mut[i,j]=AA_to_hydrophobicity_scores[alphabetAA_D_L[j+1]]"
   ]
  },
  {
   "cell_type": "markdown",
   "metadata": {},
   "source": [
    "#### WCN"
   ]
  },
  {
   "cell_type": "code",
   "execution_count": 156,
   "metadata": {
    "tags": []
   },
   "outputs": [
    {
     "name": "stdout",
     "output_type": "stream",
     "text": [
      "MET1\n"
     ]
    }
   ],
   "source": [
    "SP2AB_wcn=WCN('../pdbs/O32727_1l0o.pdb','ca',SP2AB_WT_sequence)"
   ]
  },
  {
   "cell_type": "markdown",
   "metadata": {},
   "source": [
    "#### CA distance"
   ]
  },
  {
   "cell_type": "code",
   "execution_count": 172,
   "metadata": {
    "tags": []
   },
   "outputs": [
    {
     "name": "stdout",
     "output_type": "stream",
     "text": [
      "WARNING: in pos 34, WT sequence AA doesn't match pbd AA\n",
      "WARNING: in pos 137, WT sequence AA doesn't match pbd AA\n",
      "WARNING: in pos 138, WT sequence AA doesn't match pbd AA\n",
      "WARNING: in pos 139, WT sequence AA doesn't match pbd AA\n",
      "WARNING: in pos 140, WT sequence AA doesn't match pbd AA\n",
      "WARNING: in pos 141, WT sequence AA doesn't match pbd AA\n"
     ]
    }
   ],
   "source": [
    "SP2AB_Ca_coord=struc_coordinates('../pdbs/O32727_1l0o.pdb',SP2AB_WT_sequence)"
   ]
  },
  {
   "cell_type": "markdown",
   "metadata": {},
   "source": [
    "#### Neighbor sequences scores:"
   ]
  },
  {
   "cell_type": "code",
   "execution_count": 291,
   "metadata": {},
   "outputs": [],
   "source": [
    "SP2AB_rosetta_neigbor_scores=neighbor_scores(SP2AB_rosetta_ddg_mean,1)\n",
    "\n",
    "SP2AB_GEMME_neigbor_scores=neighbor_scores(SP2AB_GEMME_mean,1)"
   ]
  },
  {
   "cell_type": "markdown",
   "metadata": {
    "toc-hr-collapsed": true
   },
   "source": [
    "### TDG_H Q13569"
   ]
  },
  {
   "cell_type": "code",
   "execution_count": 127,
   "metadata": {
    "tags": []
   },
   "outputs": [],
   "source": [
    "TDG_H_WT_sequence=\"MEAENAGSYSLQQAQAFYTFPFQQLMAEAPNMAVVNEQQMPEEVPAPAPAQEPVQEAPKGRKRKPRTTEPKQPVEPKKPVESKKSGKSAKSKEKQEKITDTFKVKRKVDRFNGVSEAELLTKTLPDILTFNLDIVIIGINPGLMAAYKGHHYPGPGNHFWKCLFMSGLSEVQLNHMDDHTLPGKYGIGFTNMVERTTPGSKDLSSKEFREGGRILVQKLQKYQPRIAVFNGKCIYEIFSKEVFGVKVKNLEFGLQPHKIPDTETLCYVMPSSSARCAQFPRAQDKVHYYIKLKDLRDQLKGIERNMDVQEVQYTFDLQLAQEDAKKMAVKEEKYDPGYEAAYGGAYGENPCSSEPCGFSSNGLIESVELRGESAFSGIPNGQWMTQSFTDQIPSFSNHCGTQEQEEESHA\"\n",
    "TDG_H_WT_seq_rose=\"-----------------------------------------------------------------------------------------------------------------------LTKTLPDILTFNLDIVIIGINPGLMAAYKGHHYPGPGNHFWKCLFMSGLSEVQLNHMDDHTLPGKYGIGFTNMVERTTPGSKDLSSKEFREGGRILVQKLQKYQPRIAVFNGKCIYEIFSKEVFGVKVKNLEFGLQPHKIPDTETLCYVMPSSSARCAQFPRAQDKVHYYIKLKDLRDQLKGIER----------------------------------------------------------------------------------------------------------\""
   ]
  },
  {
   "cell_type": "code",
   "execution_count": 128,
   "metadata": {
    "tags": []
   },
   "outputs": [
    {
     "name": "stdout",
     "output_type": "stream",
     "text": [
      "410 0.45121951219512196\n"
     ]
    }
   ],
   "source": [
    "count=0\n",
    "for i in range(len(TDG_H_WT_sequence)):\n",
    "    if TDG_H_WT_sequence[i]==TDG_H_WT_seq_rose[i]:\n",
    "        count+=1\n",
    "print(len(TDG_H_WT_sequence),count/len(TDG_H_WT_seq_rose))"
   ]
  },
  {
   "cell_type": "markdown",
   "metadata": {},
   "source": [
    "#### TDG_H active site"
   ]
  },
  {
   "cell_type": "code",
   "execution_count": 129,
   "metadata": {
    "tags": []
   },
   "outputs": [],
   "source": [
    "TDG_H_db_positions=[140,151]"
   ]
  },
  {
   "cell_type": "code",
   "execution_count": 297,
   "metadata": {},
   "outputs": [],
   "source": [
    "TDG_H_db_ligand_positions=[138,139,140,142,145,151,152,157,191,198,200,231,232,233,271,273,274,275,276]"
   ]
  },
  {
   "cell_type": "markdown",
   "metadata": {},
   "source": [
    "#### Co-evolution"
   ]
  },
  {
   "cell_type": "code",
   "execution_count": 130,
   "metadata": {
    "tags": []
   },
   "outputs": [],
   "source": [
    "TDG_H_GEMME=load_data_V2('../scores_GEMME/prism_gemme_Q13569.txt',TDG_H_WT_sequence)\n",
    "TDG_H_GEMME=remove_WT_score(TDG_H_GEMME,TDG_H_WT_sequence)"
   ]
  },
  {
   "cell_type": "code",
   "execution_count": 131,
   "metadata": {
    "tags": []
   },
   "outputs": [],
   "source": [
    "TDG_H_GEMME_mean=position_mean(TDG_H_GEMME)"
   ]
  },
  {
   "cell_type": "markdown",
   "metadata": {},
   "source": [
    "####  Rosetta ddG"
   ]
  },
  {
   "cell_type": "code",
   "execution_count": 132,
   "metadata": {
    "tags": []
   },
   "outputs": [],
   "source": [
    "TDG_H_rosetta_ddg=load_data_V2(\"../scores_rosetta/prism_rosetta_ddg_Q13569.txt\",TDG_H_WT_seq_rose,0)\n",
    "TDG_H_rosetta_ddg=remove_WT_score(TDG_H_rosetta_ddg,TDG_H_WT_seq_rose)"
   ]
  },
  {
   "cell_type": "code",
   "execution_count": 133,
   "metadata": {
    "tags": []
   },
   "outputs": [],
   "source": [
    "TDG_H_rosetta_ddg_norm=normalize_cutoff(TDG_H_rosetta_ddg,0.0,5.0)"
   ]
  },
  {
   "cell_type": "code",
   "execution_count": 134,
   "metadata": {
    "tags": []
   },
   "outputs": [],
   "source": [
    "TDG_H_rosetta_ddg_mean=position_mean(TDG_H_rosetta_ddg_norm)"
   ]
  },
  {
   "cell_type": "markdown",
   "metadata": {},
   "source": [
    "#### Hydrophobicity"
   ]
  },
  {
   "cell_type": "code",
   "execution_count": 306,
   "metadata": {},
   "outputs": [],
   "source": [
    "TDG_H_hydrophobicity_mut=np.empty((len(TDG_H_WT_sequence),20),dtype=float)\n",
    "TDG_H_hydrophobicity_mut[:]=np.nan"
   ]
  },
  {
   "cell_type": "code",
   "execution_count": 307,
   "metadata": {},
   "outputs": [],
   "source": [
    "for i in range(len(TDG_H_WT_sequence)):\n",
    "    for j in range(20):\n",
    "        TDG_H_hydrophobicity_mut[i,j]=AA_to_hydrophobicity_scores[alphabetAA_D_L[j+1]]"
   ]
  },
  {
   "cell_type": "markdown",
   "metadata": {},
   "source": [
    "#### WCN"
   ]
  },
  {
   "cell_type": "code",
   "execution_count": 157,
   "metadata": {
    "tags": []
   },
   "outputs": [
    {
     "name": "stdout",
     "output_type": "stream",
     "text": [
      "LEU120\n"
     ]
    }
   ],
   "source": [
    "TDG_H_wcn=WCN('../pdbs/Q13569_3ufj.pdb','ca',TDG_H_WT_sequence)"
   ]
  },
  {
   "cell_type": "markdown",
   "metadata": {},
   "source": [
    "#### CA distance"
   ]
  },
  {
   "cell_type": "code",
   "execution_count": 173,
   "metadata": {
    "tags": []
   },
   "outputs": [],
   "source": [
    "TDG_H_Ca_coord=struc_coordinates('../pdbs/Q13569_3ufj.pdb',TDG_H_WT_sequence)"
   ]
  },
  {
   "cell_type": "markdown",
   "metadata": {},
   "source": [
    "#### Neighbor sequences scores:"
   ]
  },
  {
   "cell_type": "code",
   "execution_count": 312,
   "metadata": {},
   "outputs": [],
   "source": [
    "TDG_H_rosetta_neigbor_scores=neighbor_scores(TDG_H_rosetta_ddg_mean,1)\n",
    "\n",
    "TDG_H_GEMME_neigbor_scores=neighbor_scores(TDG_H_GEMME_mean,1)"
   ]
  },
  {
   "cell_type": "markdown",
   "metadata": {
    "toc-hr-collapsed": true
   },
   "source": [
    "### BETA_ECOLX P62593"
   ]
  },
  {
   "cell_type": "code",
   "execution_count": 135,
   "metadata": {
    "tags": []
   },
   "outputs": [],
   "source": [
    "BETA_WT_sequence=\"MSIQHFRVALIPFFAAFCLPVFAHPETLVKVKDAEDQLGARVGYIELDLNSGKILESFRPEERFPMMSTFKVLLCGAVLSRVDAGQEQLGRRIHYSQNDLVEYSPVTEKHLTDGMTVRELCSAAITMSDNTAANLLLTTIGGPKELTAFLHNMGDHVTRLDRWEPELNEAIPNDERDTTMPAAMATTLRKLLTGELLTLASRQQLIDWMEADKVAGPLLRSALPAGWFIADKSGAGERGSRGIIAALGPDGKPSRIVVIYTTGSQATMDERNRQIAEIGASLIKHW\"\n",
    "BETA_WT_seq_rose=\"-----------------------HPETLVKVKDAEDQLGARVGYIELDLNSGKILESFRPEERFPMMSTFKVLLCGAVLSRIDAGQEQLGRRIHYSQNDLVEYSPVTEKHLTDGMTVRELCSAAITMSDNTAANLLLTTIGGPKELTAFLHNMGDHVTRLDRWEPELNEAIPNDERDTTMPVAMATTLRKLLTGELLTLASRQQLIDWMEADKVAGPLLRSALPAGWFIADKSGAGERGSRGIIAALGPDGKPSRIVVIYTTGSQATMDERNRQIAEIGASLIKHW\""
   ]
  },
  {
   "cell_type": "code",
   "execution_count": 136,
   "metadata": {
    "tags": []
   },
   "outputs": [
    {
     "name": "stdout",
     "output_type": "stream",
     "text": [
      "286 0.9125874125874126\n"
     ]
    }
   ],
   "source": [
    "count=0\n",
    "for i in range(len(BETA_WT_sequence)):\n",
    "    if BETA_WT_sequence[i]==BETA_WT_seq_rose[i]:\n",
    "        count+=1\n",
    "print(len(BETA_WT_sequence),count/len(BETA_WT_seq_rose))"
   ]
  },
  {
   "cell_type": "markdown",
   "metadata": {},
   "source": [
    "#### BETA active site"
   ]
  },
  {
   "cell_type": "code",
   "execution_count": 137,
   "metadata": {
    "tags": []
   },
   "outputs": [],
   "source": [
    "BETA_db_positions=[68,71,128,164,232,235]"
   ]
  },
  {
   "cell_type": "code",
   "execution_count": 138,
   "metadata": {
    "tags": []
   },
   "outputs": [],
   "source": [
    "BETA_db_ligand_positions=[68,128,233,234,242]"
   ]
  },
  {
   "cell_type": "markdown",
   "metadata": {},
   "source": [
    "#### Co-evolution"
   ]
  },
  {
   "cell_type": "code",
   "execution_count": 139,
   "metadata": {
    "tags": []
   },
   "outputs": [],
   "source": [
    "BETA_GEMME=load_data_V2('../scores_GEMME/prism_gemme_P62593.txt',BETA_WT_sequence)\n",
    "BETA_GEMME=remove_WT_score(BETA_GEMME,BETA_WT_sequence)"
   ]
  },
  {
   "cell_type": "code",
   "execution_count": 140,
   "metadata": {
    "tags": []
   },
   "outputs": [],
   "source": [
    "BETA_GEMME_mean=position_mean(BETA_GEMME)"
   ]
  },
  {
   "cell_type": "markdown",
   "metadata": {},
   "source": [
    "####  Rosetta ddG"
   ]
  },
  {
   "cell_type": "code",
   "execution_count": 141,
   "metadata": {
    "tags": []
   },
   "outputs": [],
   "source": [
    "BETA_rosetta_ddg=load_data_V2(\"../scores_rosetta/prism_rosetta_ddg_P62593.txt\",BETA_WT_seq_rose,0)\n",
    "BETA_rosetta_ddg=remove_WT_score(BETA_rosetta_ddg,BETA_WT_seq_rose)"
   ]
  },
  {
   "cell_type": "code",
   "execution_count": 142,
   "metadata": {
    "tags": []
   },
   "outputs": [],
   "source": [
    "BETA_rosetta_ddg_norm=normalize_cutoff(BETA_rosetta_ddg,0.0,5.0)"
   ]
  },
  {
   "cell_type": "code",
   "execution_count": 143,
   "metadata": {
    "tags": []
   },
   "outputs": [],
   "source": [
    "BETA_rosetta_ddg_mean=position_mean(BETA_rosetta_ddg_norm)"
   ]
  },
  {
   "cell_type": "markdown",
   "metadata": {},
   "source": [
    "#### Hydrophobicity"
   ]
  },
  {
   "cell_type": "code",
   "execution_count": 326,
   "metadata": {},
   "outputs": [],
   "source": [
    "BETA_hydrophobicity_mut=np.empty((len(BETA_WT_sequence),20),dtype=float)\n",
    "BETA_hydrophobicity_mut[:]=np.nan"
   ]
  },
  {
   "cell_type": "code",
   "execution_count": 327,
   "metadata": {},
   "outputs": [],
   "source": [
    "for i in range(len(BETA_WT_sequence)):\n",
    "    for j in range(20):\n",
    "        BETA_hydrophobicity_mut[i,j]=AA_to_hydrophobicity_scores[alphabetAA_D_L[j+1]]"
   ]
  },
  {
   "cell_type": "markdown",
   "metadata": {},
   "source": [
    "#### WCN"
   ]
  },
  {
   "cell_type": "code",
   "execution_count": 158,
   "metadata": {
    "tags": []
   },
   "outputs": [
    {
     "name": "stdout",
     "output_type": "stream",
     "text": [
      "HIS24\n"
     ]
    }
   ],
   "source": [
    "BETA_wcn=WCN('../pdbs/P62593_1btl.pdb','ca',BETA_WT_sequence)"
   ]
  },
  {
   "cell_type": "markdown",
   "metadata": {},
   "source": [
    "#### CA distance"
   ]
  },
  {
   "cell_type": "code",
   "execution_count": 174,
   "metadata": {
    "tags": []
   },
   "outputs": [
    {
     "name": "stdout",
     "output_type": "stream",
     "text": [
      "WARNING: in pos 82, WT sequence AA doesn't match pbd AA\n",
      "WARNING: in pos 182, WT sequence AA doesn't match pbd AA\n"
     ]
    }
   ],
   "source": [
    "BETA_Ca_coord=struc_coordinates('../pdbs/P62593_1btl.pdb',BETA_WT_sequence)"
   ]
  },
  {
   "cell_type": "markdown",
   "metadata": {},
   "source": [
    "#### Neighbor sequences scores:"
   ]
  },
  {
   "cell_type": "code",
   "execution_count": 159,
   "metadata": {
    "tags": []
   },
   "outputs": [],
   "source": [
    "BETA_rosetta_neigbor_scores=neighbor_scores(BETA_rosetta_ddg_mean,1)\n",
    "\n",
    "BETA_GEMME_neigbor_scores=neighbor_scores(BETA_GEMME_mean,1)"
   ]
  },
  {
   "cell_type": "markdown",
   "metadata": {
    "toc-hr-collapsed": true
   },
   "source": [
    "### DHFR P00374"
   ]
  },
  {
   "cell_type": "code",
   "execution_count": 144,
   "metadata": {
    "tags": []
   },
   "outputs": [],
   "source": [
    "DHFR_WT_sequence=\"MVGSLNCIVAVSQNMGIGKNGDLPWPPLRNEFRYFQRMTTTSSVEGKQNLVIMGKKTWFSIPEKNRPLKGRINLVLSRELKEPPQGAHFLSRSLDDALKLTEQPELANKVDMVWIVGGSSVYKEAMNHPGHLKLFVTRIMQDFESDTFFPEIDLEKYKLLPEYPGVLSDVQEEKGIKYKFEVYEKND\"\n",
    "DHFR_WT_seq_rose=\"----LNCIVAVSQNMGIGKNGDLPWPPLRNEFRYFQRMTTTSSVEGKQNLVIMGKKTWFSIPEKNRPLKGRINLVLSRELKEPPQGAHFLSRSLDDALKLTEQPELANKVDMVWIVGGSSVYKEAMNHPGHLKLFVTRIMQDFESDTFFPEIDLEKYKLLPEYPGVLSDVQEEKGIKYKFEVYEKN-\""
   ]
  },
  {
   "cell_type": "code",
   "execution_count": 145,
   "metadata": {
    "tags": []
   },
   "outputs": [
    {
     "name": "stdout",
     "output_type": "stream",
     "text": [
      "187 0.9732620320855615\n"
     ]
    }
   ],
   "source": [
    "count=0\n",
    "for i in range(len(DHFR_WT_sequence)):\n",
    "    if DHFR_WT_seq_rose[i]==DHFR_WT_sequence[i]:\n",
    "        count+=1\n",
    "print(len(DHFR_WT_sequence),count/len(DHFR_WT_sequence))"
   ]
  },
  {
   "cell_type": "markdown",
   "metadata": {},
   "source": [
    "#### DHFR active site"
   ]
  },
  {
   "cell_type": "code",
   "execution_count": 146,
   "metadata": {
    "tags": []
   },
   "outputs": [],
   "source": [
    "DHFR_db_positions=[23,31]"
   ]
  },
  {
   "cell_type": "code",
   "execution_count": 147,
   "metadata": {
    "tags": []
   },
   "outputs": [],
   "source": [
    "DHFR_db_ligand_positions=[8,9,10,31,32,33,35,36,57,61,62,64,67,70,115,136]"
   ]
  },
  {
   "cell_type": "markdown",
   "metadata": {},
   "source": [
    "#### Co-evolution"
   ]
  },
  {
   "cell_type": "code",
   "execution_count": 148,
   "metadata": {
    "tags": []
   },
   "outputs": [],
   "source": [
    "DHFR_GEMME=load_data_V2('../scores_GEMME/prism_gemme_P00374.txt',DHFR_WT_sequence)\n",
    "DHFR_GEMME=remove_WT_score(DHFR_GEMME,DHFR_WT_sequence)"
   ]
  },
  {
   "cell_type": "code",
   "execution_count": 149,
   "metadata": {
    "tags": []
   },
   "outputs": [],
   "source": [
    "DHFR_GEMME_mean=position_mean(DHFR_GEMME)"
   ]
  },
  {
   "cell_type": "markdown",
   "metadata": {},
   "source": [
    "####  Rosetta ddG"
   ]
  },
  {
   "cell_type": "code",
   "execution_count": 150,
   "metadata": {
    "tags": []
   },
   "outputs": [],
   "source": [
    "DHFR_rosetta_ddg=load_data_V2(\"../scores_rosetta/prism_rosetta_ddg_P00374.txt\",DHFR_WT_seq_rose,0)\n",
    "DHFR_rosetta_ddg=remove_WT_score(DHFR_rosetta_ddg,DHFR_WT_seq_rose)"
   ]
  },
  {
   "cell_type": "code",
   "execution_count": 151,
   "metadata": {
    "tags": []
   },
   "outputs": [],
   "source": [
    "DHFR_rosetta_ddg_norm=normalize_cutoff(DHFR_rosetta_ddg,0.0,5.0)"
   ]
  },
  {
   "cell_type": "code",
   "execution_count": 152,
   "metadata": {
    "tags": []
   },
   "outputs": [],
   "source": [
    "DHFR_rosetta_ddg_mean=position_mean(DHFR_rosetta_ddg_norm)"
   ]
  },
  {
   "cell_type": "markdown",
   "metadata": {},
   "source": [
    "#### Hydrophobicity"
   ]
  },
  {
   "cell_type": "code",
   "execution_count": 350,
   "metadata": {},
   "outputs": [],
   "source": [
    "DHFR_hydrophobicity_mut=np.empty((len(DHFR_WT_sequence),20),dtype=float)\n",
    "DHFR_hydrophobicity_mut[:]=np.nan"
   ]
  },
  {
   "cell_type": "code",
   "execution_count": 351,
   "metadata": {},
   "outputs": [],
   "source": [
    "for i in range(len(DHFR_WT_sequence)):\n",
    "    for j in range(20):\n",
    "        DHFR_hydrophobicity_mut[i,j]=AA_to_hydrophobicity_scores[alphabetAA_D_L[j+1]]"
   ]
  },
  {
   "cell_type": "markdown",
   "metadata": {},
   "source": [
    "#### WCN"
   ]
  },
  {
   "cell_type": "code",
   "execution_count": 153,
   "metadata": {
    "tags": []
   },
   "outputs": [
    {
     "name": "stdout",
     "output_type": "stream",
     "text": [
      "LEU5\n"
     ]
    }
   ],
   "source": [
    "DHFR_wcn=WCN('../pdbs/P00374_1dhf.pdb','ca',DHFR_WT_sequence)"
   ]
  },
  {
   "cell_type": "markdown",
   "metadata": {},
   "source": [
    "#### CA distance"
   ]
  },
  {
   "cell_type": "code",
   "execution_count": 175,
   "metadata": {
    "tags": []
   },
   "outputs": [],
   "source": [
    "DHFR_Ca_coord=struc_coordinates('../pdbs/P00374_1dhf.pdb',DHFR_WT_sequence)"
   ]
  },
  {
   "cell_type": "markdown",
   "metadata": {},
   "source": [
    "#### Neighbout scores"
   ]
  },
  {
   "cell_type": "code",
   "execution_count": 356,
   "metadata": {},
   "outputs": [],
   "source": [
    "DHFR_rosetta_neigbor_scores=neighbor_scores(DHFR_rosetta_ddg_mean,1)\n",
    "\n",
    "DHFR_GEMME_neigbor_scores=neighbor_scores(DHFR_GEMME_mean,1)"
   ]
  },
  {
   "cell_type": "markdown",
   "metadata": {
    "toc-hr-collapsed": false
   },
   "source": [
    "## Predictions"
   ]
  },
  {
   "cell_type": "code",
   "execution_count": 360,
   "metadata": {},
   "outputs": [],
   "source": [
    "count_SBI_model7=[0,0,0]"
   ]
  },
  {
   "cell_type": "code",
   "execution_count": 361,
   "metadata": {},
   "outputs": [],
   "source": [
    "count_SBI_perc_2x=[]"
   ]
  },
  {
   "cell_type": "code",
   "execution_count": 362,
   "metadata": {},
   "outputs": [],
   "source": [
    "asa_SBI_data=[]"
   ]
  },
  {
   "cell_type": "code",
   "execution_count": 363,
   "metadata": {},
   "outputs": [],
   "source": [
    "ss_SBI_data=[]"
   ]
  },
  {
   "cell_type": "code",
   "execution_count": 364,
   "metadata": {},
   "outputs": [],
   "source": [
    "AA_SBI_data=[]"
   ]
  },
  {
   "cell_type": "code",
   "execution_count": 365,
   "metadata": {},
   "outputs": [],
   "source": [
    "count_neg_SBI_cat_levels=[]"
   ]
  },
  {
   "cell_type": "code",
   "execution_count": 366,
   "metadata": {},
   "outputs": [],
   "source": [
    "act_site_distance_SBI=[]"
   ]
  },
  {
   "cell_type": "code",
   "execution_count": 367,
   "metadata": {},
   "outputs": [],
   "source": [
    "act_site_distance_total=[]"
   ]
  },
  {
   "cell_type": "code",
   "execution_count": 368,
   "metadata": {},
   "outputs": [],
   "source": [
    "SBI_statistic_matrix=np.zeros((20,20),dtype=float)"
   ]
  },
  {
   "cell_type": "code",
   "execution_count": 369,
   "metadata": {},
   "outputs": [],
   "source": [
    "NO_SBI_statistic_matrix_over2=np.zeros((20,20),dtype=float)"
   ]
  },
  {
   "cell_type": "code",
   "execution_count": 370,
   "metadata": {},
   "outputs": [],
   "source": [
    "NO_SBI_statistic_matrix_under2=np.zeros((20,20),dtype=float)"
   ]
  },
  {
   "cell_type": "code",
   "execution_count": 371,
   "metadata": {},
   "outputs": [],
   "source": [
    "sbi_percentage=[]"
   ]
  },
  {
   "cell_type": "code",
   "execution_count": 372,
   "metadata": {},
   "outputs": [],
   "source": [
    "SBI_statistic_matrix=np.zeros((20,20),dtype=float)"
   ]
  },
  {
   "cell_type": "code",
   "execution_count": 373,
   "metadata": {},
   "outputs": [],
   "source": [
    "NO_SBI_statistic_matrix_over2=np.zeros((20,20),dtype=float)"
   ]
  },
  {
   "cell_type": "code",
   "execution_count": 374,
   "metadata": {},
   "outputs": [],
   "source": [
    "NO_SBI_statistic_matrix_under2=np.zeros((20,20),dtype=float)"
   ]
  },
  {
   "cell_type": "code",
   "execution_count": 375,
   "metadata": {},
   "outputs": [],
   "source": [
    "SBI_statistic_matrix_slice=np.zeros((20,20),dtype=float)"
   ]
  },
  {
   "cell_type": "code",
   "execution_count": 376,
   "metadata": {},
   "outputs": [],
   "source": [
    "NO_SBI_statistic_matrix_over2_slice=np.zeros((20,20),dtype=float)"
   ]
  },
  {
   "cell_type": "code",
   "execution_count": 377,
   "metadata": {},
   "outputs": [],
   "source": [
    "NO_SBI_statistic_matrix_under2_slice=np.zeros((20,20),dtype=float)"
   ]
  },
  {
   "cell_type": "code",
   "execution_count": 378,
   "metadata": {},
   "outputs": [],
   "source": [
    "slice_variants=[0,4]"
   ]
  },
  {
   "cell_type": "code",
   "execution_count": 379,
   "metadata": {},
   "outputs": [],
   "source": [
    "count_MCSA_matched_over_threshold=0"
   ]
  },
  {
   "cell_type": "code",
   "execution_count": 380,
   "metadata": {},
   "outputs": [],
   "source": [
    "count_total_SBI_predicted=[0,0]"
   ]
  },
  {
   "cell_type": "code",
   "execution_count": 381,
   "metadata": {},
   "outputs": [],
   "source": [
    "sbi_perc_thr=0.5"
   ]
  },
  {
   "cell_type": "code",
   "execution_count": 382,
   "metadata": {},
   "outputs": [],
   "source": [
    "proline_analysis=[]"
   ]
  },
  {
   "cell_type": "code",
   "execution_count": 383,
   "metadata": {},
   "outputs": [],
   "source": [
    "count_total_variant=np.zeros(4,dtype=int)\n",
    "count_total_residues=np.zeros(5,dtype=int)\n",
    "count_catalytic_residues=np.zeros(5,dtype=int)"
   ]
  },
  {
   "cell_type": "markdown",
   "metadata": {},
   "source": [
    "#### Q9LAK3 predictions"
   ]
  },
  {
   "cell_type": "code",
   "execution_count": 392,
   "metadata": {
    "tags": []
   },
   "outputs": [],
   "source": [
    "Q9LAK3_X,Q9LAK3_map=features_validation([Q9LAK3_GEMME, Q9LAK3_rosetta_ddg_norm,Q9LAK3_GEMME_mean,Q9LAK3_rosetta_ddg_mean,Q9LAK3_hydrophobicity_mut,Q9LAK3_GEMME_neigbor_scores,Q9LAK3_rosetta_neigbor_scores,Q9LAK3_wcn],Q9LAK3_WT_sequence)"
   ]
  },
  {
   "cell_type": "code",
   "execution_count": 393,
   "metadata": {
    "tags": []
   },
   "outputs": [],
   "source": [
    "prediction=cat.predict(Q9LAK3_X)"
   ]
  },
  {
   "cell_type": "code",
   "execution_count": 394,
   "metadata": {
    "tags": []
   },
   "outputs": [],
   "source": [
    "Q9LAK3_3mode_prediction,percentage=retrieve_residue_label_pred(prediction,Q9LAK3_map,Q9LAK3_WT_sequence,sbi_perc_thr)"
   ]
  },
  {
   "cell_type": "code",
   "execution_count": 395,
   "metadata": {
    "tags": []
   },
   "outputs": [],
   "source": [
    "print_chimera_x_attribute_file(Q9LAK3_3mode_prediction,percentage[:,0],\"./outputs/SBI_perc_multi_Q3LAK9_chimera_list_model7.txt\")"
   ]
  },
  {
   "cell_type": "code",
   "execution_count": 396,
   "metadata": {
    "tags": []
   },
   "outputs": [],
   "source": [
    "print_chimera_x_attribute_file_SBI(Q9LAK3_3mode_prediction,percentage[:,0],\"./outputs/SBI_multi_Q3LAK9_chimera_list_model7.txt\")"
   ]
  },
  {
   "cell_type": "code",
   "execution_count": 397,
   "metadata": {
    "tags": []
   },
   "outputs": [],
   "source": [
    "count_SBI_model7[0]+= count_positive_SBI(Q9LAK3_3mode_prediction,percentage[:,0],Q9LAK3_db_positions)[0]\n",
    "count_SBI_model7[1]+= count_positive_SBI(Q9LAK3_3mode_prediction,percentage[:,0],Q9LAK3_db_positions)[1]\n",
    "count_SBI_model7[2]+= count_positive_SBI(Q9LAK3_3mode_prediction,percentage[:,0],Q9LAK3_db_positions)[2]"
   ]
  },
  {
   "cell_type": "code",
   "execution_count": 398,
   "metadata": {
    "tags": []
   },
   "outputs": [
    {
     "name": "stdout",
     "output_type": "stream",
     "text": [
      " SBI variants: 713 out of 4844 (14.72%) \n",
      " SBI residues: 28 out of 254 (11.02%) \n"
     ]
    }
   ],
   "source": [
    "count_SBI_perc_2x.append(print_percentage_prediction(prediction,Q9LAK3_3mode_prediction,Q9LAK3_WT_sequence,Q9LAK3_WT_seq_rose))"
   ]
  },
  {
   "cell_type": "code",
   "execution_count": 399,
   "metadata": {
    "tags": []
   },
   "outputs": [
    {
     "name": "stdout",
     "output_type": "stream",
     "text": [
      "([161, 187], []) [129, 156, 162, 188]\n"
     ]
    }
   ],
   "source": [
    "print(index_positive_SBI(Q9LAK3_3mode_prediction,percentage[:,0],Q9LAK3_db_positions),Q9LAK3_db_positions)"
   ]
  },
  {
   "cell_type": "code",
   "execution_count": 400,
   "metadata": {
    "tags": []
   },
   "outputs": [],
   "source": [
    "count_MCSA_matched_over_threshold+=len(index_SBI_db(Q9LAK3_3mode_prediction,Q9LAK3_db_positions))"
   ]
  },
  {
   "cell_type": "code",
   "execution_count": 413,
   "metadata": {},
   "outputs": [],
   "source": [
    "for i,n in enumerate(Q9LAK3_3mode_prediction):\n",
    "    if n ==1:\n",
    "        proline_analysis.append([variants_extract(prediction,Q9LAK3_map,i)[int(alphabetAA_L_D['P'])-1],Q9LAK3_rosetta_ddg[i,int(alphabetAA_L_D['P'])-1],Q9LAK3_rosetta_ddg_mean[i],Q9LAK3_GEMME_mean[i],Q9LAK3_wcn[i]])"
   ]
  },
  {
   "cell_type": "code",
   "execution_count": 414,
   "metadata": {},
   "outputs": [],
   "source": [
    "count_total_variant+=np.array(print_numbers_classification(prediction,Q9LAK3_3mode_prediction)[0])\n",
    "count_total_residues+=np.array(print_numbers_classification(prediction,Q9LAK3_3mode_prediction)[1])"
   ]
  },
  {
   "cell_type": "code",
   "execution_count": 415,
   "metadata": {},
   "outputs": [],
   "source": [
    "count_catalytic_residues+=np.array(print_catalytic_classification(Q9LAK3_3mode_prediction,Q9LAK3_db_positions))"
   ]
  },
  {
   "cell_type": "code",
   "execution_count": 416,
   "metadata": {},
   "outputs": [],
   "source": [
    "sbi_percentage.append([i for i in percentage[:,0] if i>0.0])"
   ]
  },
  {
   "cell_type": "code",
   "execution_count": 417,
   "metadata": {},
   "outputs": [],
   "source": [
    "asa_SBI_data.append(asa_SBI(Q9LAK3_3mode_prediction,Q9LAK3_rsa))"
   ]
  },
  {
   "cell_type": "code",
   "execution_count": 418,
   "metadata": {},
   "outputs": [],
   "source": [
    "ss_SBI_data.append(asa_SBI(Q9LAK3_3mode_prediction,Q9LAK3_ss))"
   ]
  },
  {
   "cell_type": "code",
   "execution_count": 419,
   "metadata": {},
   "outputs": [],
   "source": [
    "AA_SBI_data.append(asa_SBI(Q9LAK3_3mode_prediction,Q9LAK3_WT_sequence))"
   ]
  },
  {
   "cell_type": "code",
   "execution_count": 420,
   "metadata": {},
   "outputs": [],
   "source": [
    "Q9LAK3_blue_pred_distribution=[]\n",
    "for i,n in enumerate(Q9LAK3_3mode_prediction):\n",
    "    if n==1.0:\n",
    "        temp=[]\n",
    "        for j in Q9LAK3_db_positions:\n",
    "            temp.append(AS_CA_distance(Q9LAK3_Ca_coord,[j],i+1))\n",
    "        Q9LAK3_blue_pred_distribution.append(np.min(temp))\n",
    "        act_site_distance_SBI.append(np.min(temp))"
   ]
  },
  {
   "cell_type": "code",
   "execution_count": 421,
   "metadata": {},
   "outputs": [],
   "source": [
    "temp_total_pred_distribution=[]\n",
    "for i,n in enumerate(Q9LAK3_3mode_prediction):\n",
    "        temp=[]\n",
    "        for j in Q9LAK3_db_positions:\n",
    "            temp.append(AS_CA_distance(Q9LAK3_Ca_coord,[j],i+1))\n",
    "        temp_total_pred_distribution.append(np.min(temp))\n",
    "\n",
    "act_site_distance_total.append(['Q9LAK3',np.max(temp_total_pred_distribution),np.median([i for i in temp_total_pred_distribution if i!=-1])])"
   ]
  },
  {
   "cell_type": "code",
   "execution_count": 423,
   "metadata": {},
   "outputs": [],
   "source": [
    "temp=variants_statistic(prediction,Q9LAK3_map,Q9LAK3_WT_sequence)\n",
    "SBI_statistic_matrix+=temp[0]\n",
    "NO_SBI_statistic_matrix_under2+=temp[1]\n",
    "NO_SBI_statistic_matrix_over2+=temp[2]"
   ]
  },
  {
   "cell_type": "code",
   "execution_count": 424,
   "metadata": {},
   "outputs": [],
   "source": [
    "temp=variants_statistic_slice(prediction,Q9LAK3_map,Q9LAK3_WT_sequence,slice_variants)\n",
    "SBI_statistic_matrix_slice+=temp[0]\n",
    "NO_SBI_statistic_matrix_under2_slice+=temp[1]\n",
    "NO_SBI_statistic_matrix_over2_slice+=temp[2]"
   ]
  },
  {
   "cell_type": "markdown",
   "metadata": {},
   "source": [
    "#### SOR predictions"
   ]
  },
  {
   "cell_type": "code",
   "execution_count": 404,
   "metadata": {},
   "outputs": [],
   "source": [
    "SOR_X,SOR_map=features_validation([SOR_GEMME, SOR_rosetta_ddg_norm,SOR_GEMME_mean,SOR_rosetta_ddg_mean,SOR_hydrophobicity_mut,SOR_GEMME_neigbor_scores,SOR_rosetta_neigbor_scores,SOR_wcn],SOR_WT_sequence)"
   ]
  },
  {
   "cell_type": "code",
   "execution_count": 405,
   "metadata": {},
   "outputs": [],
   "source": [
    "prediction=cat.predict(SOR_X)"
   ]
  },
  {
   "cell_type": "code",
   "execution_count": 406,
   "metadata": {},
   "outputs": [],
   "source": [
    "SOR_3mode_prediction,percentage=retrieve_residue_label_pred(prediction,SOR_map,SOR_WT_sequence,sbi_perc_thr)"
   ]
  },
  {
   "cell_type": "code",
   "execution_count": 407,
   "metadata": {},
   "outputs": [],
   "source": [
    "sbi_percentage.append([i for i in percentage[:,0] if i>0.0])"
   ]
  },
  {
   "cell_type": "code",
   "execution_count": 408,
   "metadata": {},
   "outputs": [
    {
     "name": "stdout",
     "output_type": "stream",
     "text": [
      "[3, 12, 14, 15, 16, 42, 43, 47, 58, 85, 91, 112, 114, 115, 118]\n"
     ]
    }
   ],
   "source": [
    "print([i+1 for i in range(len(SOR_3mode_prediction)) if SOR_3mode_prediction[i]==1])"
   ]
  },
  {
   "cell_type": "code",
   "execution_count": 410,
   "metadata": {},
   "outputs": [],
   "source": [
    "print_chimera_x_attribute_file(SOR_3mode_prediction,SOR_3mode_prediction,\"./outputs/SOR_monomer_chimera_attr.defattr\")"
   ]
  },
  {
   "cell_type": "code",
   "execution_count": 433,
   "metadata": {},
   "outputs": [],
   "source": [
    "print_chimera_x_attribute_file_SBI(SOR_3mode_prediction,percentage[:,0],\"./outputs/SBI_multi_SOR_chimera_list_model7.txt\")"
   ]
  },
  {
   "cell_type": "code",
   "execution_count": 434,
   "metadata": {},
   "outputs": [],
   "source": [
    "count_SBI_model7[0]+= count_positive_SBI(SOR_3mode_prediction,percentage[:,0],SOR_db_positions)[0]\n",
    "count_SBI_model7[1]+= count_positive_SBI(SOR_3mode_prediction,percentage[:,0],SOR_db_positions)[1]\n",
    "count_SBI_model7[2]+= count_positive_SBI(SOR_3mode_prediction,percentage[:,0],SOR_db_positions)[2]"
   ]
  },
  {
   "cell_type": "code",
   "execution_count": 435,
   "metadata": {},
   "outputs": [
    {
     "name": "stdout",
     "output_type": "stream",
     "text": [
      " SBI variants: 438 out of 2356 (18.59%) \n",
      " SBI residues: 15 out of 124 (12.10%) \n"
     ]
    }
   ],
   "source": [
    "count_SBI_perc_2x.append(print_percentage_prediction(prediction,SOR_3mode_prediction,SOR_WT_sequence,SOR_WT_seq_rose))"
   ]
  },
  {
   "cell_type": "code",
   "execution_count": 436,
   "metadata": {},
   "outputs": [
    {
     "name": "stdout",
     "output_type": "stream",
     "text": [
      "([13, 14], []) [14, 15]\n"
     ]
    }
   ],
   "source": [
    "print(index_positive_SBI(SOR_3mode_prediction,percentage[:,0],SOR_db_positions),SOR_db_positions)"
   ]
  },
  {
   "cell_type": "code",
   "execution_count": 437,
   "metadata": {},
   "outputs": [],
   "source": [
    "for i,n in enumerate(SOR_3mode_prediction):\n",
    "    if n ==1:\n",
    "        proline_analysis.append([variants_extract(prediction,SOR_map,i)[int(alphabetAA_L_D['P'])-1],SOR_rosetta_ddg[i,int(alphabetAA_L_D['P'])-1],SOR_rosetta_ddg_mean[i],SOR_GEMME_mean[i],SOR_wcn[i]])"
   ]
  },
  {
   "cell_type": "code",
   "execution_count": 438,
   "metadata": {},
   "outputs": [],
   "source": [
    "count_total_variant+=np.array(print_numbers_classification(prediction,SOR_3mode_prediction)[0])\n",
    "count_total_residues+=np.array(print_numbers_classification(prediction,SOR_3mode_prediction)[1])"
   ]
  },
  {
   "cell_type": "code",
   "execution_count": 439,
   "metadata": {},
   "outputs": [],
   "source": [
    "count_catalytic_residues+=np.array(print_catalytic_classification(SOR_3mode_prediction,SOR_db_positions))"
   ]
  },
  {
   "cell_type": "code",
   "execution_count": 440,
   "metadata": {},
   "outputs": [],
   "source": [
    "count_MCSA_matched_over_threshold+=len(index_SBI_db(SOR_3mode_prediction,SOR_db_positions))"
   ]
  },
  {
   "cell_type": "code",
   "execution_count": 441,
   "metadata": {},
   "outputs": [],
   "source": [
    "for i in 0,1:\n",
    "    count_total_SBI_predicted[i]+=print_numbers_prediction(prediction,SOR_3mode_prediction,SOR_WT_sequence,SOR_WT_seq_rose)[i]"
   ]
  },
  {
   "cell_type": "code",
   "execution_count": 442,
   "metadata": {},
   "outputs": [
    {
     "name": "stdout",
     "output_type": "stream",
     "text": [
      "([13, 15, 46, 113], [40, 110]) [14, 16, 41, 47, 111, 114]\n"
     ]
    }
   ],
   "source": [
    "print(index_positive_SBI(SOR_3mode_prediction,percentage[:,0],SOR_db_ligand_positions),SOR_db_ligand_positions)"
   ]
  },
  {
   "cell_type": "code",
   "execution_count": 443,
   "metadata": {},
   "outputs": [],
   "source": [
    "asa_SBI_data.append(asa_SBI(SOR_3mode_prediction,SOR_rsa))"
   ]
  },
  {
   "cell_type": "code",
   "execution_count": 444,
   "metadata": {},
   "outputs": [],
   "source": [
    "ss_SBI_data.append(asa_SBI(SOR_3mode_prediction,SOR_ss))"
   ]
  },
  {
   "cell_type": "code",
   "execution_count": 445,
   "metadata": {},
   "outputs": [],
   "source": [
    "AA_SBI_data.append(asa_SBI(SOR_3mode_prediction,SOR_WT_sequence))"
   ]
  },
  {
   "cell_type": "code",
   "execution_count": 446,
   "metadata": {},
   "outputs": [],
   "source": [
    "SOR_blue_pred_distribution=[]\n",
    "for i,n in enumerate(SOR_3mode_prediction):\n",
    "    if n==1.0:\n",
    "        temp=[]\n",
    "        for j in SOR_db_positions:\n",
    "            temp.append(AS_CA_distance(SOR_Ca_coord,[j],i+1))\n",
    "        SOR_blue_pred_distribution.append(np.min(temp))\n",
    "        act_site_distance_SBI.append(np.min(temp))"
   ]
  },
  {
   "cell_type": "code",
   "execution_count": 447,
   "metadata": {},
   "outputs": [],
   "source": [
    "temp_total_pred_distribution=[]\n",
    "for i,n in enumerate(SOR_3mode_prediction):\n",
    "        temp=[]\n",
    "        for j in SOR_db_positions:\n",
    "            temp.append(AS_CA_distance(SOR_Ca_coord,[j],i+1))\n",
    "        temp_total_pred_distribution.append(np.min(temp))\n",
    "\n",
    "act_site_distance_total.append(['P82385',np.max(temp_total_pred_distribution),np.median([i for i in temp_total_pred_distribution if i!=-1])])"
   ]
  },
  {
   "cell_type": "markdown",
   "metadata": {},
   "source": [
    "#### XYNA predictions"
   ]
  },
  {
   "cell_type": "code",
   "execution_count": 452,
   "metadata": {},
   "outputs": [],
   "source": [
    "XYNA_X,XYNA_map=features_validation([XYNA_GEMME, XYNA_rosetta_ddg_norm,XYNA_GEMME_mean,XYNA_rosetta_ddg_mean,XYNA_hydrophobicity_mut,XYNA_GEMME_neigbor_scores,XYNA_rosetta_neigbor_scores,XYNA_wcn],XYNA_WT_sequence)"
   ]
  },
  {
   "cell_type": "code",
   "execution_count": 453,
   "metadata": {},
   "outputs": [],
   "source": [
    "prediction=cat.predict(XYNA_X)"
   ]
  },
  {
   "cell_type": "code",
   "execution_count": 454,
   "metadata": {},
   "outputs": [],
   "source": [
    "XYNA_3mode_prediction,percentage=retrieve_residue_label_pred(prediction,XYNA_map,XYNA_WT_sequence,sbi_perc_thr)"
   ]
  },
  {
   "cell_type": "code",
   "execution_count": 455,
   "metadata": {},
   "outputs": [],
   "source": [
    "sbi_percentage.append([i for i in percentage[:,0] if i>0.0])"
   ]
  },
  {
   "cell_type": "code",
   "execution_count": 456,
   "metadata": {},
   "outputs": [],
   "source": [
    "print_chimera_x_attribute_file(XYNA_3mode_prediction,percentage[:,0],\"./outputs/SBI_perc_multi_XYNA_chimera_list_model7.txt\")"
   ]
  },
  {
   "cell_type": "code",
   "execution_count": 457,
   "metadata": {},
   "outputs": [],
   "source": [
    "print_chimera_x_attribute_file_SBI(SOR_3mode_prediction,percentage[:,0],\"./outputs/SBI_multi_SOR_chimera_list_model7.txt\")"
   ]
  },
  {
   "cell_type": "code",
   "execution_count": 458,
   "metadata": {},
   "outputs": [],
   "source": [
    "count_SBI_model7[0]+= count_positive_SBI(XYNA_3mode_prediction,percentage[:,0],XYNA_db_positions)[0]\n",
    "count_SBI_model7[1]+= count_positive_SBI(XYNA_3mode_prediction,percentage[:,0],XYNA_db_positions)[1]\n",
    "count_SBI_model7[2]+= count_positive_SBI(XYNA_3mode_prediction,percentage[:,0],XYNA_db_positions)[2]"
   ]
  },
  {
   "cell_type": "code",
   "execution_count": 459,
   "metadata": {},
   "outputs": [
    {
     "name": "stdout",
     "output_type": "stream",
     "text": [
      " SBI variants: 657 out of 3514 (18.70%) \n",
      " SBI residues: 23 out of 184 (12.50%) \n"
     ]
    }
   ],
   "source": [
    "count_SBI_perc_2x.append(print_percentage_prediction(prediction,XYNA_3mode_prediction,XYNA_WT_sequence,XYNA_WT_seq_rose))"
   ]
  },
  {
   "cell_type": "code",
   "execution_count": 460,
   "metadata": {},
   "outputs": [
    {
     "name": "stdout",
     "output_type": "stream",
     "text": [
      "([105, 107, 199], [62, 96]) [97, 200, 108, 106, 63]\n"
     ]
    }
   ],
   "source": [
    "print(index_positive_SBI(XYNA_3mode_prediction,percentage[:,0],XYNA_db_positions),XYNA_db_positions)"
   ]
  },
  {
   "cell_type": "code",
   "execution_count": 461,
   "metadata": {},
   "outputs": [
    {
     "name": "stdout",
     "output_type": "stream",
     "text": [
      "29,30,31,32,35,36,38,39,40,41,43,44,45,46,47,48,49,50,51,53,55,57,59,60,62,64,71,72,74,75,76,77,78,80,82,84,85,87,89,101,102,112,115,116,117,119,120,121,122,123,125,127,128,130,131,132,134,137,138,139,141,142,143,146,147,149,150,151,152,154,161,162,163,165,166,168,169,170,171,175,176,179,180,182,183,184,185,187,190,191,193,195,203,207,209,213,"
     ]
    }
   ],
   "source": [
    "for i,n in enumerate(XYNA_3mode_prediction):\n",
    "    if n==0:\n",
    "        print(i+1,\",\",sep=\"\",end=\"\")"
   ]
  },
  {
   "cell_type": "code",
   "execution_count": 462,
   "metadata": {},
   "outputs": [
    {
     "name": "stdout",
     "output_type": "stream",
     "text": [
      "2.0\n"
     ]
    }
   ],
   "source": [
    "print(XYNA_3mode_prediction[109])"
   ]
  },
  {
   "cell_type": "code",
   "execution_count": 463,
   "metadata": {},
   "outputs": [],
   "source": [
    "for i,n in enumerate(XYNA_3mode_prediction):\n",
    "    if n ==1:\n",
    "        proline_analysis.append([variants_extract(prediction,XYNA_map,i)[int(alphabetAA_L_D['P'])-1],XYNA_rosetta_ddg[i,int(alphabetAA_L_D['P'])-1],XYNA_rosetta_ddg_mean[i],XYNA_GEMME_mean[i],XYNA_wcn[i]])"
   ]
  },
  {
   "cell_type": "code",
   "execution_count": 464,
   "metadata": {},
   "outputs": [],
   "source": [
    "count_total_variant+=np.array(print_numbers_classification(prediction,XYNA_3mode_prediction)[0])\n",
    "count_total_residues+=np.array(print_numbers_classification(prediction,XYNA_3mode_prediction)[1])"
   ]
  },
  {
   "cell_type": "code",
   "execution_count": 465,
   "metadata": {},
   "outputs": [],
   "source": [
    "count_catalytic_residues+=np.array(print_catalytic_classification(XYNA_3mode_prediction,XYNA_db_positions))"
   ]
  },
  {
   "cell_type": "code",
   "execution_count": 466,
   "metadata": {},
   "outputs": [],
   "source": [
    "count_MCSA_matched_over_threshold+=len(index_SBI_db(XYNA_3mode_prediction,XYNA_db_positions))"
   ]
  },
  {
   "cell_type": "code",
   "execution_count": 467,
   "metadata": {},
   "outputs": [],
   "source": [
    "for i in 0,1:\n",
    "    count_total_SBI_predicted[i]+=print_numbers_prediction(prediction,XYNA_3mode_prediction,XYNA_WT_sequence,XYNA_WT_seq_rose)[i]"
   ]
  },
  {
   "cell_type": "code",
   "execution_count": 468,
   "metadata": {},
   "outputs": [
    {
     "name": "stdout",
     "output_type": "stream",
     "text": [
      "([143, 144], [96, 193]) [35, 37, 97, 144, 145, 194]\n"
     ]
    }
   ],
   "source": [
    "print(index_positive_SBI(XYNA_3mode_prediction,percentage[:,0],XYNA_db_ligand_positions),XYNA_db_ligand_positions)"
   ]
  },
  {
   "cell_type": "code",
   "execution_count": 469,
   "metadata": {},
   "outputs": [],
   "source": [
    "asa_SBI_data.append(asa_SBI(XYNA_3mode_prediction,XYNA_rsa))"
   ]
  },
  {
   "cell_type": "code",
   "execution_count": 470,
   "metadata": {},
   "outputs": [],
   "source": [
    "ss_SBI_data.append(asa_SBI(XYNA_3mode_prediction,XYNA_ss))"
   ]
  },
  {
   "cell_type": "code",
   "execution_count": 471,
   "metadata": {},
   "outputs": [],
   "source": [
    "AA_SBI_data.append(asa_SBI(XYNA_3mode_prediction,XYNA_WT_sequence))"
   ]
  },
  {
   "cell_type": "code",
   "execution_count": 472,
   "metadata": {},
   "outputs": [],
   "source": [
    "XYNA_blue_pred_distribution=[]\n",
    "for i,n in enumerate(XYNA_3mode_prediction):\n",
    "    if n==1.0:\n",
    "        temp=[]\n",
    "        for j in XYNA_db_positions:\n",
    "            temp.append(AS_CA_distance(XYNA_Ca_coord,[j],i+1))\n",
    "        XYNA_blue_pred_distribution.append(np.min(temp))\n",
    "        act_site_distance_SBI.append(np.min(temp))"
   ]
  },
  {
   "cell_type": "code",
   "execution_count": 473,
   "metadata": {},
   "outputs": [],
   "source": [
    "temp_total_pred_distribution=[]\n",
    "for i,n in enumerate(XYNA_3mode_prediction):\n",
    "        temp=[]\n",
    "        for j in XYNA_db_positions:\n",
    "            temp.append(AS_CA_distance(XYNA_Ca_coord,[j],i+1))\n",
    "        temp_total_pred_distribution.append(np.min(temp))\n",
    "\n",
    "act_site_distance_total.append(['P09850',np.max(temp_total_pred_distribution),np.median([i for i in temp_total_pred_distribution if i!=-1])])"
   ]
  },
  {
   "cell_type": "markdown",
   "metadata": {},
   "source": [
    "#### MURL predictions"
   ]
  },
  {
   "cell_type": "code",
   "execution_count": 478,
   "metadata": {},
   "outputs": [],
   "source": [
    "MURL_X,MURL_map=features_validation([MURL_GEMME,MURL_rosetta_ddg_norm, MURL_GEMME_mean, MURL_rosetta_ddg_mean, MURL_hydrophobicity_mut,MURL_GEMME_neigbor_scores,MURL_rosetta_neigbor_scores,MURL_wcn],MURL_WT_sequence)"
   ]
  },
  {
   "cell_type": "code",
   "execution_count": 479,
   "metadata": {},
   "outputs": [],
   "source": [
    "prediction=cat.predict(MURL_X)"
   ]
  },
  {
   "cell_type": "code",
   "execution_count": 480,
   "metadata": {},
   "outputs": [],
   "source": [
    "MURL_3mode_prediction,percentage=retrieve_residue_label_pred(prediction,MURL_map,MURL_WT_sequence,sbi_perc_thr)"
   ]
  },
  {
   "cell_type": "code",
   "execution_count": 481,
   "metadata": {},
   "outputs": [],
   "source": [
    "sbi_percentage.append([i for i in percentage[:,0] if i>0.0])"
   ]
  },
  {
   "cell_type": "code",
   "execution_count": 482,
   "metadata": {},
   "outputs": [
    {
     "name": "stdout",
     "output_type": "stream",
     "text": [
      "[7, 8, 9, 11, 14, 27, 38, 40, 42, 69, 70, 71, 91, 95, 114, 120, 139, 143, 147, 149, 178, 179, 180, 200, 218, 220, 246]\n"
     ]
    }
   ],
   "source": [
    "print([i+1 for i in range(len(MURL_3mode_prediction)) if MURL_3mode_prediction[i]==1])"
   ]
  },
  {
   "cell_type": "code",
   "execution_count": 483,
   "metadata": {},
   "outputs": [],
   "source": [
    "print_chimera_x_attribute_file(MURL_3mode_prediction,percentage[:,0],\"./outputs/SBI_perc_multi_MURL_chimera_list_model7.txt\")"
   ]
  },
  {
   "cell_type": "code",
   "execution_count": 484,
   "metadata": {},
   "outputs": [],
   "source": [
    "print_chimera_x_attribute_file_SBI(MURL_3mode_prediction,percentage[:,0],\"./outputs/SBI_multi_MURL_chimera_list_model7.txt\")"
   ]
  },
  {
   "cell_type": "code",
   "execution_count": 485,
   "metadata": {},
   "outputs": [],
   "source": [
    "count_SBI_model7[0]+= count_positive_SBI(MURL_3mode_prediction,percentage[:,0],MURL_db_positions)[0]\n",
    "count_SBI_model7[1]+= count_positive_SBI(MURL_3mode_prediction,percentage[:,0],MURL_db_positions)[1]\n",
    "count_SBI_model7[2]+= count_positive_SBI(MURL_3mode_prediction,percentage[:,0],MURL_db_positions)[2]"
   ]
  },
  {
   "cell_type": "code",
   "execution_count": 486,
   "metadata": {},
   "outputs": [
    {
     "name": "stdout",
     "output_type": "stream",
     "text": [
      " SBI variants: 758 out of 4786 (15.84%) \n",
      " SBI residues: 27 out of 250 (10.80%) \n"
     ]
    }
   ],
   "source": [
    "count_SBI_perc_2x.append(print_percentage_prediction(prediction,MURL_3mode_prediction,MURL_WT_sequence,MURL_WT_seq_rose))"
   ]
  },
  {
   "cell_type": "code",
   "execution_count": 487,
   "metadata": {},
   "outputs": [
    {
     "name": "stdout",
     "output_type": "stream",
     "text": [
      "([6, 7, 69, 146, 177, 179], []) [7, 8, 178, 147, 70, 180]\n"
     ]
    }
   ],
   "source": [
    "print(index_positive_SBI(MURL_3mode_prediction,percentage[:,0],MURL_db_positions),MURL_db_positions)"
   ]
  },
  {
   "cell_type": "code",
   "execution_count": 488,
   "metadata": {},
   "outputs": [],
   "source": [
    "for i,n in enumerate(MURL_3mode_prediction):\n",
    "    if n ==1:\n",
    "        proline_analysis.append([variants_extract(prediction,MURL_map,i)[int(alphabetAA_L_D['P'])-1],MURL_rosetta_ddg[i,int(alphabetAA_L_D['P'])-1],MURL_rosetta_ddg_mean[i],MURL_GEMME_mean[i],MURL_wcn[i]])"
   ]
  },
  {
   "cell_type": "code",
   "execution_count": 489,
   "metadata": {},
   "outputs": [],
   "source": [
    "count_total_variant+=np.array(print_numbers_classification(prediction,MURL_3mode_prediction)[0])\n",
    "count_total_residues+=np.array(print_numbers_classification(prediction,MURL_3mode_prediction)[1])"
   ]
  },
  {
   "cell_type": "code",
   "execution_count": 490,
   "metadata": {},
   "outputs": [],
   "source": [
    "count_catalytic_residues+=np.array(print_catalytic_classification(MURL_3mode_prediction,MURL_db_positions))"
   ]
  },
  {
   "cell_type": "code",
   "execution_count": 491,
   "metadata": {},
   "outputs": [],
   "source": [
    "count_MCSA_matched_over_threshold+=len(index_SBI_db(MURL_3mode_prediction,MURL_db_positions))"
   ]
  },
  {
   "cell_type": "code",
   "execution_count": 492,
   "metadata": {},
   "outputs": [
    {
     "name": "stdout",
     "output_type": "stream",
     "text": [
      "([68, 69, 70, 177], [176]) [69, 70, 71, 177, 178]\n"
     ]
    }
   ],
   "source": [
    "print(index_positive_SBI(MURL_3mode_prediction,percentage[:,0],MURL_db_ligand_positions),MURL_db_ligand_positions)"
   ]
  },
  {
   "cell_type": "code",
   "execution_count": 493,
   "metadata": {},
   "outputs": [],
   "source": [
    "for i in 0,1:\n",
    "    count_total_SBI_predicted[i]+=print_numbers_prediction(prediction,MURL_3mode_prediction,MURL_WT_sequence,MURL_WT_seq_rose)[i]"
   ]
  },
  {
   "cell_type": "code",
   "execution_count": 494,
   "metadata": {},
   "outputs": [],
   "source": [
    "asa_SBI_data.append(asa_SBI(MURL_3mode_prediction,MURL_rsa))"
   ]
  },
  {
   "cell_type": "code",
   "execution_count": 495,
   "metadata": {},
   "outputs": [],
   "source": [
    "ss_SBI_data.append(asa_SBI(MURL_3mode_prediction,MURL_ss))"
   ]
  },
  {
   "cell_type": "code",
   "execution_count": 496,
   "metadata": {},
   "outputs": [],
   "source": [
    "AA_SBI_data.append(asa_SBI(MURL_3mode_prediction,MURL_WT_sequence))"
   ]
  },
  {
   "cell_type": "code",
   "execution_count": 497,
   "metadata": {},
   "outputs": [
    {
     "name": "stdout",
     "output_type": "stream",
     "text": [
      "[0.0, 0.0, 3.753343176422857, 7.333633001452961, 10.660658047231419, 17.24694572960674, 7.736792164715295, 9.186808477376678, 12.076464134836817, 3.796124734515451, 0.0, 3.857899687653893, 7.395186677833091, 12.753789005624958, 6.113425635435504, 13.370411698971726, 6.5232566253367645, 5.184029417354806, 0.0, 5.273894386504151, 0.0, 3.784679642981689, 0.0, 9.951895899777089, 20.806216883422124, 15.589186316161596, 15.351896397513892]\n"
     ]
    }
   ],
   "source": [
    "MURL_blue_pred_distribution=[]\n",
    "for i,n in enumerate(MURL_3mode_prediction):\n",
    "    if n==1.0:\n",
    "        temp=[]\n",
    "        for j in MURL_db_positions:\n",
    "            temp.append(AS_CA_distance(MURL_Ca_coord,[j],i+1))\n",
    "        MURL_blue_pred_distribution.append(np.min(temp))\n",
    "        act_site_distance_SBI.append(np.min(temp))\n",
    "print(MURL_blue_pred_distribution)"
   ]
  },
  {
   "cell_type": "code",
   "execution_count": 498,
   "metadata": {},
   "outputs": [],
   "source": [
    "temp_total_pred_distribution=[]\n",
    "for i,n in enumerate(MURL_3mode_prediction):\n",
    "        temp=[]\n",
    "        for j in MURL_db_positions:\n",
    "            temp.append(AS_CA_distance(MURL_Ca_coord,[j],i+1))\n",
    "        temp_total_pred_distribution.append(np.min(temp))\n",
    "        \n",
    "\n",
    "\n",
    "act_site_distance_total.append(['P56868',np.max(temp_total_pred_distribution),np.median([i for i in temp_total_pred_distribution if i!=-1])])"
   ]
  },
  {
   "cell_type": "code",
   "execution_count": 500,
   "metadata": {},
   "outputs": [],
   "source": [
    "temp=variants_statistic(prediction,MURL_map,MURL_WT_sequence)\n",
    "SBI_statistic_matrix+=temp[0]\n",
    "NO_SBI_statistic_matrix_under2+=temp[1]\n",
    "NO_SBI_statistic_matrix_over2+=temp[2]"
   ]
  },
  {
   "cell_type": "code",
   "execution_count": 501,
   "metadata": {},
   "outputs": [],
   "source": [
    "temp=variants_statistic_slice(prediction,MURL_map,MURL_WT_sequence,slice_variants)\n",
    "SBI_statistic_matrix_slice+=temp[0]\n",
    "NO_SBI_statistic_matrix_under2_slice+=temp[1]\n",
    "NO_SBI_statistic_matrix_over2_slice+=temp[2]"
   ]
  },
  {
   "cell_type": "markdown",
   "metadata": {
    "toc-hr-collapsed": true
   },
   "source": [
    "#### P0A7E3 predictions"
   ]
  },
  {
   "cell_type": "code",
   "execution_count": 388,
   "metadata": {},
   "outputs": [],
   "source": [
    "P0A7E3_X,P0A7E3_map=features_validation([P0A7E3_GEMME,P0A7E3_rosetta_ddg_norm, P0A7E3_GEMME_mean, P0A7E3_rosetta_ddg_mean, P0A7E3_hydrophobicity_mut,P0A7E3_GEMME_neigbor_scores,P0A7E3_rosetta_neigbor_scores,P0A7E3_wcn],P0A7E3_WT_sequence)"
   ]
  },
  {
   "cell_type": "code",
   "execution_count": 389,
   "metadata": {},
   "outputs": [],
   "source": [
    "prediction=cat.predict(P0A7E3_X)"
   ]
  },
  {
   "cell_type": "code",
   "execution_count": 390,
   "metadata": {},
   "outputs": [],
   "source": [
    "P0A7E3_3mode_prediction,percentage=retrieve_residue_label_pred(prediction,P0A7E3_map,P0A7E3_WT_sequence,sbi_perc_thr)"
   ]
  },
  {
   "cell_type": "code",
   "execution_count": 391,
   "metadata": {},
   "outputs": [],
   "source": [
    "sbi_percentage.append([i for i in percentage[:,0] if i>0.0])"
   ]
  },
  {
   "cell_type": "code",
   "execution_count": 392,
   "metadata": {},
   "outputs": [],
   "source": [
    "count_SBI_model7[0]+= count_positive_SBI(P0A7E3_3mode_prediction,percentage[:,0],P0A7E3_db_positions)[0]\n",
    "count_SBI_model7[1]+= count_positive_SBI(P0A7E3_3mode_prediction,percentage[:,0],P0A7E3_db_positions)[1]\n",
    "count_SBI_model7[2]+= count_positive_SBI(P0A7E3_3mode_prediction,percentage[:,0],P0A7E3_db_positions)[2]"
   ]
  },
  {
   "cell_type": "code",
   "execution_count": 393,
   "metadata": {},
   "outputs": [
    {
     "name": "stdout",
     "output_type": "stream",
     "text": [
      " SBI variants: 682 out of 4047 (16.85%) \n",
      " SBI residues: 30 out of 213 (14.08%) \n"
     ]
    }
   ],
   "source": [
    "count_SBI_perc_2x.append(print_percentage_prediction(prediction,P0A7E3_3mode_prediction,P0A7E3_WT_sequence,P0A7E3_WT_seq_rose))"
   ]
  },
  {
   "cell_type": "code",
   "execution_count": 394,
   "metadata": {},
   "outputs": [
    {
     "name": "stdout",
     "output_type": "stream",
     "text": [
      "([102, 104], []) [103, 105]\n"
     ]
    }
   ],
   "source": [
    "print(index_positive_SBI(P0A7E3_3mode_prediction,percentage[:,0],P0A7E3_db_positions),P0A7E3_db_positions)"
   ]
  },
  {
   "cell_type": "code",
   "execution_count": 395,
   "metadata": {},
   "outputs": [],
   "source": [
    "for i,n in enumerate(P0A7E3_3mode_prediction):\n",
    "    if n ==1:\n",
    "        proline_analysis.append([variants_extract(prediction,P0A7E3_map,i)[int(alphabetAA_L_D['P'])-1],P0A7E3_rosetta_ddg[i,int(alphabetAA_L_D['P'])-1],P0A7E3_rosetta_ddg_mean[i],P0A7E3_GEMME_mean[i],P0A7E3_wcn[i]])"
   ]
  },
  {
   "cell_type": "code",
   "execution_count": 396,
   "metadata": {},
   "outputs": [],
   "source": [
    "count_total_variant+=np.array(print_numbers_classification(prediction,P0A7E3_3mode_prediction)[0])\n",
    "count_total_residues+=np.array(print_numbers_classification(prediction,P0A7E3_3mode_prediction)[1])"
   ]
  },
  {
   "cell_type": "code",
   "execution_count": 397,
   "metadata": {},
   "outputs": [],
   "source": [
    "count_catalytic_residues+=np.array(print_catalytic_classification(P0A7E3_3mode_prediction,P0A7E3_db_positions))"
   ]
  },
  {
   "cell_type": "code",
   "execution_count": 398,
   "metadata": {},
   "outputs": [],
   "source": [
    "count_MCSA_matched_over_threshold+=len(index_SBI_db(P0A7E3_3mode_prediction,P0A7E3_db_positions))"
   ]
  },
  {
   "cell_type": "code",
   "execution_count": 399,
   "metadata": {},
   "outputs": [],
   "source": [
    "for i in 0,1:\n",
    "    count_total_SBI_predicted[i]+=print_numbers_prediction(prediction,P0A7E3_3mode_prediction,P0A7E3_WT_sequence,P0A7E3_WT_seq_rose)[i]"
   ]
  },
  {
   "cell_type": "code",
   "execution_count": 400,
   "metadata": {},
   "outputs": [
    {
     "name": "stdout",
     "output_type": "stream",
     "text": [
      "/B:26 /B:27 /B:28 /B:31 /B:32 /B:43 /B:70 /B:71 /B:72 /B:73 /B:76 /B:99 /B:100 /B:101 /B:103 /B:105 /B:106 /B:109 /B:124 /B:128 /B:129 /B:130 /B:132 /B:156 /B:158 /B:169 /B:170 /B:180 /B:207 /B:212 "
     ]
    }
   ],
   "source": [
    "for i,n in enumerate(P0A7E3_3mode_prediction):\n",
    "    if n==1:\n",
    "        print(\"/B:\",i+1,\" \",sep=\"\",end=\"\")"
   ]
  },
  {
   "cell_type": "code",
   "execution_count": 403,
   "metadata": {},
   "outputs": [],
   "source": [
    "print_chimera_x_attribute_file(P0A7E3_3mode_prediction,P0A7E3_3mode_prediction,\"./outputs/P0A7E3_monomer_chimera_attr.defattr\")"
   ]
  },
  {
   "cell_type": "code",
   "execution_count": 515,
   "metadata": {},
   "outputs": [],
   "source": [
    "asa_SBI_data.append(asa_SBI(P0A7E3_3mode_prediction,P0A7E3_rsa))"
   ]
  },
  {
   "cell_type": "code",
   "execution_count": 516,
   "metadata": {},
   "outputs": [],
   "source": [
    "ss_SBI_data.append(asa_SBI(P0A7E3_3mode_prediction,P0A7E3_ss))"
   ]
  },
  {
   "cell_type": "code",
   "execution_count": 517,
   "metadata": {},
   "outputs": [],
   "source": [
    "AA_SBI_data.append(asa_SBI(P0A7E3_3mode_prediction,P0A7E3_WT_sequence))"
   ]
  },
  {
   "cell_type": "code",
   "execution_count": 518,
   "metadata": {},
   "outputs": [],
   "source": [
    "P0A7E3_blue_pred_distribution=[]\n",
    "for i,n in enumerate(P0A7E3_3mode_prediction):\n",
    "    if n==1.0:\n",
    "        temp=[]\n",
    "        for j in P0A7E3_db_positions:\n",
    "            temp.append(AS_CA_distance(P0A7E3_Ca_coord,[j],i+1))\n",
    "        P0A7E3_blue_pred_distribution.append(np.min(temp))\n",
    "        act_site_distance_SBI.append(np.min(temp))"
   ]
  },
  {
   "cell_type": "code",
   "execution_count": 519,
   "metadata": {},
   "outputs": [],
   "source": [
    "temp_total_pred_distribution=[]\n",
    "for i,n in enumerate(P0A7E3_3mode_prediction):\n",
    "        temp=[]\n",
    "        for j in P0A7E3_db_positions:\n",
    "            temp.append(AS_CA_distance(P0A7E3_Ca_coord,[j],i+1))\n",
    "        temp_total_pred_distribution.append(np.min(temp))\n",
    "\n",
    "act_site_distance_total.append(['P0A7E3',np.max(temp_total_pred_distribution),np.median([i for i in temp_total_pred_distribution if i!=-1])])"
   ]
  },
  {
   "cell_type": "code",
   "execution_count": 522,
   "metadata": {},
   "outputs": [],
   "source": [
    "temp=variants_statistic(prediction,P0A7E3_map,P0A7E3_WT_sequence)\n",
    "SBI_statistic_matrix+=temp[0]\n",
    "NO_SBI_statistic_matrix_under2+=temp[1]\n",
    "NO_SBI_statistic_matrix_over2+=temp[2]"
   ]
  },
  {
   "cell_type": "code",
   "execution_count": 523,
   "metadata": {},
   "outputs": [],
   "source": [
    "temp=variants_statistic_slice(prediction,P0A7E3_map,P0A7E3_WT_sequence,slice_variants)\n",
    "SBI_statistic_matrix_slice+=temp[0]\n",
    "NO_SBI_statistic_matrix_under2_slice+=temp[1]\n",
    "NO_SBI_statistic_matrix_over2_slice+=temp[2]"
   ]
  },
  {
   "cell_type": "markdown",
   "metadata": {},
   "source": [
    "#### SP2AB predictions"
   ]
  },
  {
   "cell_type": "code",
   "execution_count": 525,
   "metadata": {},
   "outputs": [],
   "source": [
    "SP2AB_X,SP2AB_map=features_validation([SP2AB_GEMME,SP2AB_rosetta_ddg_norm, SP2AB_GEMME_mean, SP2AB_rosetta_ddg_mean, SP2AB_hydrophobicity_mut,SP2AB_GEMME_neigbor_scores,SP2AB_rosetta_neigbor_scores,SP2AB_wcn],SP2AB_WT_sequence)"
   ]
  },
  {
   "cell_type": "code",
   "execution_count": 526,
   "metadata": {},
   "outputs": [],
   "source": [
    "prediction=cat.predict(SP2AB_X)"
   ]
  },
  {
   "cell_type": "code",
   "execution_count": 527,
   "metadata": {},
   "outputs": [],
   "source": [
    "SP2AB_3mode_prediction,percentage=retrieve_residue_label_pred(prediction,SP2AB_map,SP2AB_WT_sequence,sbi_perc_thr)"
   ]
  },
  {
   "cell_type": "code",
   "execution_count": 528,
   "metadata": {},
   "outputs": [],
   "source": [
    "sbi_percentage.append([i for i in percentage[:,0] if i>0.0])"
   ]
  },
  {
   "cell_type": "code",
   "execution_count": 533,
   "metadata": {},
   "outputs": [],
   "source": [
    "count_SBI_model7[0]+= count_positive_SBI(SP2AB_3mode_prediction,percentage[:,0],SP2AB_db_positions)[0]\n",
    "count_SBI_model7[1]+= count_positive_SBI(SP2AB_3mode_prediction,percentage[:,0],SP2AB_db_positions)[1]\n",
    "count_SBI_model7[2]+= count_positive_SBI(SP2AB_3mode_prediction,percentage[:,0],SP2AB_db_positions)[2]"
   ]
  },
  {
   "cell_type": "code",
   "execution_count": 534,
   "metadata": {},
   "outputs": [
    {
     "name": "stdout",
     "output_type": "stream",
     "text": [
      "3, 15, 16, 20, 41, 45, 46, 49, 50, 54, 55, 62, 81, 95, 99, 107, 109, 129, 130, 136, "
     ]
    }
   ],
   "source": [
    "for i in range(len(SP2AB_3mode_prediction)):\n",
    "    if SP2AB_3mode_prediction[i]==1:\n",
    "        print(i+1,', ',sep=\"\",end=\"\")"
   ]
  },
  {
   "cell_type": "code",
   "execution_count": 535,
   "metadata": {},
   "outputs": [
    {
     "name": "stdout",
     "output_type": "stream",
     "text": [
      "9, 11, 19, 23, 26, 27, 30, 37, 40, 43, 44, 47, 48, 51, 52, 56, 64, 66, 68, 70, 75, 77, 79, 83, 85, 86, 110, 113, 117, 122, 124, 132, "
     ]
    }
   ],
   "source": [
    "for i in range(len(SP2AB_3mode_prediction)):\n",
    "    if SP2AB_3mode_prediction[i]==2:\n",
    "        print(i+1,', ',sep=\"\",end=\"\")"
   ]
  },
  {
   "cell_type": "code",
   "execution_count": 536,
   "metadata": {},
   "outputs": [
    {
     "name": "stdout",
     "output_type": "stream",
     "text": [
      "1, 2, 4, 5, 6, 7, 8, 10, 12, 13, 14, 17, 18, 21, 22, 24, 25, 28, 29, 31, 33, 34, 35, 36, 38, 39, 42, 53, 57, 58, 59, 60, 61, 63, 65, 67, 69, 71, 72, 73, 74, 76, 78, 80, 82, 84, 87, 88, 89, 90, 91, 92, 94, 96, 97, 98, 100, 101, 102, 103, 104, 105, 106, 108, 111, 112, 114, 115, 116, 119, 121, 123, 125, 126, 127, 128, 131, 133, 135, "
     ]
    }
   ],
   "source": [
    "for i in range(len(SP2AB_3mode_prediction)):\n",
    "    if SP2AB_3mode_prediction[i]==0:\n",
    "        print(i+1,', ',sep=\"\",end=\"\")"
   ]
  },
  {
   "cell_type": "code",
   "execution_count": 537,
   "metadata": {},
   "outputs": [
    {
     "name": "stdout",
     "output_type": "stream",
     "text": [
      "3, 15, 16, 20, 27, 32, 39, 40, 41, 42, 45, 46, 49, 50, 51, 54, 55, 59, 62, 81, 88, 92, 93, 95, 98, 99, 103, 104, 105, 107, 108, 109, 110, 112, 113, 116, 118, 124, 127, 129, 130, 132, 136, "
     ]
    }
   ],
   "source": [
    "for i in range(len(SP2AB_3mode_prediction)):\n",
    "    if percentage[i,0]>0.2:\n",
    "        print(i+1,', ',sep=\"\",end=\"\")"
   ]
  },
  {
   "cell_type": "code",
   "execution_count": 538,
   "metadata": {},
   "outputs": [],
   "source": [
    "print_chimera_x_attribute_file(SP2AB_3mode_prediction,percentage[:,0],\"./outputs/SBI_perc_multi_SP2AB_chimera_list_model7.txt\")"
   ]
  },
  {
   "cell_type": "code",
   "execution_count": 539,
   "metadata": {},
   "outputs": [],
   "source": [
    "print_chimera_x_attribute_file_SBI(SP2AB_3mode_prediction,percentage[:,0],\"./outputs/SBI_perc_SP2AB_chimera_list_model7.txt\")"
   ]
  },
  {
   "cell_type": "code",
   "execution_count": 540,
   "metadata": {},
   "outputs": [
    {
     "name": "stdout",
     "output_type": "stream",
     "text": [
      " SBI variants: 524 out of 2583 (20.29%) \n",
      " SBI residues: 20 out of 135 (14.81%) \n"
     ]
    }
   ],
   "source": [
    "count_SBI_perc_2x.append(print_percentage_prediction(prediction,SP2AB_3mode_prediction,SP2AB_WT_sequence,SP2AB_WT_seq_rose))"
   ]
  },
  {
   "cell_type": "code",
   "execution_count": 541,
   "metadata": {},
   "outputs": [
    {
     "name": "stdout",
     "output_type": "stream",
     "text": [
      "([45, 49], [104]) [46, 50, 105]\n"
     ]
    }
   ],
   "source": [
    "print(index_positive_SBI(SP2AB_3mode_prediction,percentage[:,0],SP2AB_db_positions),SP2AB_db_positions)"
   ]
  },
  {
   "cell_type": "code",
   "execution_count": 542,
   "metadata": {},
   "outputs": [],
   "source": [
    "for i,n in enumerate(SP2AB_3mode_prediction):\n",
    "    if n ==1:\n",
    "        proline_analysis.append([variants_extract(prediction,SP2AB_map,i)[int(alphabetAA_L_D['P'])-1],SP2AB_rosetta_ddg[i,int(alphabetAA_L_D['P'])-1],SP2AB_rosetta_ddg_mean[i],SP2AB_GEMME_mean[i],SP2AB_wcn[i]])"
   ]
  },
  {
   "cell_type": "code",
   "execution_count": 543,
   "metadata": {},
   "outputs": [],
   "source": [
    "count_total_variant+=np.array(print_numbers_classification(prediction,SP2AB_3mode_prediction)[0])\n",
    "count_total_residues+=np.array(print_numbers_classification(prediction,SP2AB_3mode_prediction)[1])"
   ]
  },
  {
   "cell_type": "code",
   "execution_count": 544,
   "metadata": {},
   "outputs": [],
   "source": [
    "count_catalytic_residues+=np.array(print_catalytic_classification(SP2AB_3mode_prediction,SP2AB_db_positions))"
   ]
  },
  {
   "cell_type": "code",
   "execution_count": 545,
   "metadata": {},
   "outputs": [],
   "source": [
    "count_MCSA_matched_over_threshold+=len(index_SBI_db(SP2AB_3mode_prediction,SP2AB_db_positions))"
   ]
  },
  {
   "cell_type": "code",
   "execution_count": 546,
   "metadata": {},
   "outputs": [],
   "source": [
    "for i in 0,1:\n",
    "    count_total_SBI_predicted[i]+=print_numbers_prediction(prediction,SP2AB_3mode_prediction,SP2AB_WT_sequence,SP2AB_WT_seq_rose)[i]"
   ]
  },
  {
   "cell_type": "code",
   "execution_count": 547,
   "metadata": {},
   "outputs": [
    {
     "name": "stdout",
     "output_type": "stream",
     "text": [
      "([49, 53, 54, 80, 98, 108], [50, 91, 97, 104, 107, 109]) [50, 51, 54, 55, 81, 86, 92, 97, 98, 99, 105, 106, 108, 109, 110]\n"
     ]
    }
   ],
   "source": [
    "print(index_positive_SBI(SP2AB_3mode_prediction,percentage[:,0],SP2AB_db_ligand_positions),SP2AB_db_ligand_positions)"
   ]
  },
  {
   "cell_type": "code",
   "execution_count": 548,
   "metadata": {},
   "outputs": [],
   "source": [
    "asa_SBI_data.append(asa_SBI(SP2AB_3mode_prediction,SP2AB_rsa))"
   ]
  },
  {
   "cell_type": "code",
   "execution_count": 549,
   "metadata": {},
   "outputs": [],
   "source": [
    "ss_SBI_data.append(asa_SBI(SP2AB_3mode_prediction,SP2AB_ss))"
   ]
  },
  {
   "cell_type": "code",
   "execution_count": 550,
   "metadata": {},
   "outputs": [],
   "source": [
    "AA_SBI_data.append(asa_SBI(SP2AB_3mode_prediction,SP2AB_WT_sequence))"
   ]
  },
  {
   "cell_type": "code",
   "execution_count": 551,
   "metadata": {},
   "outputs": [],
   "source": [
    "SP2AB_blue_pred_distribution=[]\n",
    "for i,n in enumerate(SP2AB_3mode_prediction):\n",
    "    if n==1.0:\n",
    "        temp=[]\n",
    "        for j in SP2AB_db_positions:\n",
    "            temp.append(AS_CA_distance(SP2AB_Ca_coord,[j],i+1))\n",
    "        SP2AB_blue_pred_distribution.append(np.min(temp))\n",
    "        act_site_distance_SBI.append(np.min(temp))"
   ]
  },
  {
   "cell_type": "code",
   "execution_count": 552,
   "metadata": {},
   "outputs": [],
   "source": [
    "temp_total_pred_distribution=[]\n",
    "for i,n in enumerate(SP2AB_3mode_prediction):\n",
    "        temp=[]\n",
    "        for j in SP2AB_db_positions:\n",
    "            temp.append(AS_CA_distance(SP2AB_Ca_coord,[j],i+1))\n",
    "        temp_total_pred_distribution.append(np.min(temp))\n",
    "\n",
    "act_site_distance_total.append(['032727',np.max(temp_total_pred_distribution),np.median([i for i in temp_total_pred_distribution if i!=-1])])"
   ]
  },
  {
   "cell_type": "code",
   "execution_count": 554,
   "metadata": {},
   "outputs": [],
   "source": [
    "temp=variants_statistic(prediction,SP2AB_map,SP2AB_WT_sequence)\n",
    "SBI_statistic_matrix+=temp[0]\n",
    "NO_SBI_statistic_matrix_under2+=temp[1]\n",
    "NO_SBI_statistic_matrix_over2+=temp[2]"
   ]
  },
  {
   "cell_type": "code",
   "execution_count": 555,
   "metadata": {},
   "outputs": [],
   "source": [
    "temp=variants_statistic_slice(prediction,SP2AB_map,SP2AB_WT_sequence,slice_variants)\n",
    "SBI_statistic_matrix_slice+=temp[0]\n",
    "NO_SBI_statistic_matrix_under2_slice+=temp[1]\n",
    "NO_SBI_statistic_matrix_over2_slice+=temp[2]"
   ]
  },
  {
   "cell_type": "markdown",
   "metadata": {},
   "source": [
    "#### TDG_Hpredictions"
   ]
  },
  {
   "cell_type": "code",
   "execution_count": 556,
   "metadata": {},
   "outputs": [],
   "source": [
    "TDG_H_X,TDG_H_map=features_validation([TDG_H_GEMME,TDG_H_rosetta_ddg_norm, TDG_H_GEMME_mean, TDG_H_rosetta_ddg_mean, TDG_H_hydrophobicity_mut,TDG_H_GEMME_neigbor_scores,TDG_H_rosetta_neigbor_scores,TDG_H_wcn],TDG_H_WT_sequence)"
   ]
  },
  {
   "cell_type": "code",
   "execution_count": 557,
   "metadata": {},
   "outputs": [],
   "source": [
    "prediction=cat.predict(TDG_H_X)"
   ]
  },
  {
   "cell_type": "code",
   "execution_count": 558,
   "metadata": {},
   "outputs": [],
   "source": [
    "TDG_H_3mode_prediction,percentage=retrieve_residue_label_pred(prediction,TDG_H_map,TDG_H_WT_sequence,sbi_perc_thr)"
   ]
  },
  {
   "cell_type": "code",
   "execution_count": 559,
   "metadata": {},
   "outputs": [],
   "source": [
    "sbi_percentage.append([i for i in percentage[:,0] if i>0.0])"
   ]
  },
  {
   "cell_type": "code",
   "execution_count": 560,
   "metadata": {},
   "outputs": [
    {
     "name": "stdout",
     "output_type": "stream",
     "text": [
      "[123, 125, 126, 133, 138, 140, 142, 143, 145, 149, 152, 155, 156, 157, 158, 161, 178, 190, 191, 197, 199, 222, 224, 230, 231, 232, 236, 248, 255, 256, 271, 272, 273, 274, 275, 276, 277, 278, 280, 281, 282, 284, 285, 286, 296, 297, 301]\n"
     ]
    }
   ],
   "source": [
    "print([i+1 for i in range(len(TDG_H_3mode_prediction)) if TDG_H_3mode_prediction[i]==1])"
   ]
  },
  {
   "cell_type": "code",
   "execution_count": 561,
   "metadata": {},
   "outputs": [],
   "source": [
    "count_SBI_model7[0]+= count_positive_SBI(TDG_H_3mode_prediction,percentage[:,0],TDG_H_db_positions)[0]\n",
    "count_SBI_model7[1]+= count_positive_SBI(TDG_H_3mode_prediction,percentage[:,0],TDG_H_db_positions)[1]\n",
    "count_SBI_model7[2]+= count_positive_SBI(TDG_H_3mode_prediction,percentage[:,0],TDG_H_db_positions)[2]"
   ]
  },
  {
   "cell_type": "code",
   "execution_count": 562,
   "metadata": {},
   "outputs": [],
   "source": [
    "print_chimera_x_attribute_file(TDG_H_3mode_prediction,TDG_H_3mode_prediction,'./outputs/SBI_perc_multi_TDG_H_prediction_2x.txt')"
   ]
  },
  {
   "cell_type": "code",
   "execution_count": 563,
   "metadata": {},
   "outputs": [],
   "source": [
    "print_chimera_x_attribute_file_SBI(TDG_H_3mode_prediction,TDG_H_3mode_prediction,'./outputs/SBI_multi_TDG_H_prediction_2x.txt')"
   ]
  },
  {
   "cell_type": "code",
   "execution_count": 564,
   "metadata": {},
   "outputs": [
    {
     "name": "stdout",
     "output_type": "stream",
     "text": [
      " SBI variants: 1004 out of 3515 (28.56%) \n",
      " SBI residues: 47 out of 185 (25.41%) \n"
     ]
    }
   ],
   "source": [
    "count_SBI_perc_2x.append(print_percentage_prediction(prediction,TDG_H_3mode_prediction,TDG_H_WT_sequence,TDG_H_WT_seq_rose))"
   ]
  },
  {
   "cell_type": "code",
   "execution_count": 565,
   "metadata": {},
   "outputs": [
    {
     "name": "stdout",
     "output_type": "stream",
     "text": [
      "([139], []) [140, 151]\n"
     ]
    }
   ],
   "source": [
    "print(index_positive_SBI(TDG_H_3mode_prediction,percentage[:,0],TDG_H_db_positions),TDG_H_db_positions)"
   ]
  },
  {
   "cell_type": "code",
   "execution_count": 566,
   "metadata": {},
   "outputs": [],
   "source": [
    "for i,n in enumerate(TDG_H_3mode_prediction):\n",
    "    if n ==1:\n",
    "        proline_analysis.append([variants_extract(prediction,TDG_H_map,i)[int(alphabetAA_L_D['P'])-1],TDG_H_rosetta_ddg[i,int(alphabetAA_L_D['P'])-1],TDG_H_rosetta_ddg_mean[i],TDG_H_GEMME_mean[i],TDG_H_wcn[i]])"
   ]
  },
  {
   "cell_type": "code",
   "execution_count": 567,
   "metadata": {},
   "outputs": [],
   "source": [
    "count_total_variant+=np.array(print_numbers_classification(prediction,TDG_H_3mode_prediction)[0])\n",
    "count_total_residues+=np.array(print_numbers_classification(prediction,TDG_H_3mode_prediction)[1])"
   ]
  },
  {
   "cell_type": "code",
   "execution_count": 568,
   "metadata": {},
   "outputs": [],
   "source": [
    "count_catalytic_residues+=np.array(print_catalytic_classification(TDG_H_3mode_prediction,TDG_H_db_positions))"
   ]
  },
  {
   "cell_type": "code",
   "execution_count": 569,
   "metadata": {},
   "outputs": [],
   "source": [
    "count_MCSA_matched_over_threshold+=len(index_SBI_db(TDG_H_3mode_prediction,TDG_H_db_positions))"
   ]
  },
  {
   "cell_type": "code",
   "execution_count": 570,
   "metadata": {},
   "outputs": [],
   "source": [
    "for i in 0,1:\n",
    "    count_total_SBI_predicted[i]+=print_numbers_prediction(prediction,TDG_H_3mode_prediction,TDG_H_WT_sequence,TDG_H_WT_seq_rose)[i]"
   ]
  },
  {
   "cell_type": "code",
   "execution_count": 571,
   "metadata": {},
   "outputs": [
    {
     "name": "stdout",
     "output_type": "stream",
     "text": [
      "([137, 139, 141, 144, 151, 156, 190, 230, 231, 270, 272, 273, 274, 275], [138, 197, 199]) [138, 139, 140, 142, 145, 151, 152, 157, 191, 198, 200, 231, 232, 233, 271, 273, 274, 275, 276]\n"
     ]
    }
   ],
   "source": [
    "print(index_positive_SBI(TDG_H_3mode_prediction,percentage[:,0],TDG_H_db_ligand_positions),TDG_H_db_ligand_positions)"
   ]
  },
  {
   "cell_type": "code",
   "execution_count": 572,
   "metadata": {},
   "outputs": [],
   "source": [
    "asa_SBI_data.append(asa_SBI(TDG_H_3mode_prediction,TDG_H_rsa))"
   ]
  },
  {
   "cell_type": "code",
   "execution_count": 573,
   "metadata": {},
   "outputs": [],
   "source": [
    "ss_SBI_data.append(asa_SBI(TDG_H_3mode_prediction,TDG_H_ss))"
   ]
  },
  {
   "cell_type": "code",
   "execution_count": 574,
   "metadata": {},
   "outputs": [],
   "source": [
    "AA_SBI_data.append(asa_SBI(TDG_H_3mode_prediction,TDG_H_WT_sequence))"
   ]
  },
  {
   "cell_type": "code",
   "execution_count": 575,
   "metadata": {},
   "outputs": [
    {
     "name": "stdout",
     "output_type": "stream",
     "text": [
      "271 [9.503311843773199, 8.727666927650247, 9.250605223443491, 17.71346688257271, 5.473287951496798, 0.0, 6.430841391295547, 9.661105837325254, 5.820785943495945, 7.05851754974088, 3.7750490063044198, 11.44591949124228, 12.137871230162231, 9.819386589802852, 11.894875030869384, 13.232011562872817, 6.356609945560605, 8.250806081832241, 5.033447327627457, 7.6026591400640875, 8.667871364989221, 18.90314230491852, 18.273176571138364, 10.292199036163263, 11.685171329509897, 13.846983281567145, 15.263661192518654, 24.521668071320107, 21.539408185927485, 24.398962641882953, 11.930831027216838, 11.330021226811539]\n"
     ]
    }
   ],
   "source": [
    "TDG_H_blue_pred_distribution=[]\n",
    "for i,n in enumerate(TDG_H_3mode_prediction):\n",
    "    if n==1.0:\n",
    "        temp=[]\n",
    "        for j in TDG_H_db_positions:\n",
    "            temp.append(AS_CA_distance(TDG_H_Ca_coord,[j],i+1))\n",
    "            \n",
    "        TDG_H_blue_pred_distribution.append(np.min(temp))\n",
    "        act_site_distance_SBI.append(np.min(temp))\n",
    "    if i == 271:\n",
    "        print(i, TDG_H_blue_pred_distribution)"
   ]
  },
  {
   "cell_type": "code",
   "execution_count": 576,
   "metadata": {},
   "outputs": [],
   "source": [
    "temp_total_pred_distribution=[]\n",
    "for i,n in enumerate(TDG_H_3mode_prediction):\n",
    "        temp=[]\n",
    "        for j in TDG_H_db_positions:\n",
    "            temp.append(AS_CA_distance(TDG_H_Ca_coord,[j],i+1))\n",
    "        temp_total_pred_distribution.append(np.min(temp))\n",
    "\n",
    "act_site_distance_total.append(['Q13569',np.max(temp_total_pred_distribution),np.median([i for i in temp_total_pred_distribution if i!=-1])])"
   ]
  },
  {
   "cell_type": "code",
   "execution_count": 577,
   "metadata": {},
   "outputs": [],
   "source": [
    "temp=variants_statistic(prediction,TDG_H_map,TDG_H_WT_sequence)\n",
    "SBI_statistic_matrix+=temp[0]\n",
    "NO_SBI_statistic_matrix_under2+=temp[1]\n",
    "NO_SBI_statistic_matrix_over2+=temp[2]"
   ]
  },
  {
   "cell_type": "code",
   "execution_count": 578,
   "metadata": {},
   "outputs": [],
   "source": [
    "temp=variants_statistic_slice(prediction,TDG_H_map,TDG_H_WT_sequence,slice_variants)\n",
    "SBI_statistic_matrix_slice+=temp[0]\n",
    "NO_SBI_statistic_matrix_under2_slice+=temp[1]\n",
    "NO_SBI_statistic_matrix_over2_slice+=temp[2]"
   ]
  },
  {
   "cell_type": "markdown",
   "metadata": {},
   "source": [
    "#### BETA predictions"
   ]
  },
  {
   "cell_type": "code",
   "execution_count": 579,
   "metadata": {},
   "outputs": [],
   "source": [
    "BETA_X,BETA_map=features_validation([BETA_GEMME,BETA_rosetta_ddg_norm, BETA_GEMME_mean, BETA_rosetta_ddg_mean, BETA_hydrophobicity_mut,BETA_GEMME_neigbor_scores,BETA_rosetta_neigbor_scores,BETA_wcn],BETA_WT_sequence)"
   ]
  },
  {
   "cell_type": "code",
   "execution_count": 580,
   "metadata": {},
   "outputs": [],
   "source": [
    "prediction=cat.predict(BETA_X)"
   ]
  },
  {
   "cell_type": "code",
   "execution_count": 581,
   "metadata": {},
   "outputs": [],
   "source": [
    "BETA_3mode_prediction,percentage=retrieve_residue_label_pred(prediction,BETA_map,BETA_WT_sequence,sbi_perc_thr)"
   ]
  },
  {
   "cell_type": "code",
   "execution_count": 582,
   "metadata": {},
   "outputs": [],
   "source": [
    "sbi_percentage.append([i for i in percentage[:,0] if i>0.0])"
   ]
  },
  {
   "cell_type": "code",
   "execution_count": 583,
   "metadata": {},
   "outputs": [],
   "source": [
    "count_SBI_model7[0]+= count_positive_SBI(BETA_3mode_prediction,percentage[:,0],BETA_db_positions)[0]\n",
    "count_SBI_model7[1]+= count_positive_SBI(BETA_3mode_prediction,percentage[:,0],BETA_db_positions)[1]\n",
    "count_SBI_model7[2]+= count_positive_SBI(BETA_3mode_prediction,percentage[:,0],BETA_db_positions)[2]"
   ]
  },
  {
   "cell_type": "code",
   "execution_count": 584,
   "metadata": {},
   "outputs": [
    {
     "name": "stdout",
     "output_type": "stream",
     "text": [
      " SBI variants: 640 out of 4995 (12.81%) \n",
      " SBI residues: 25 out of 261 (9.58%) \n"
     ]
    }
   ],
   "source": [
    "count_SBI_perc_2x.append(print_percentage_prediction(prediction,BETA_3mode_prediction,BETA_WT_sequence,BETA_WT_seq_rose))"
   ]
  },
  {
   "cell_type": "code",
   "execution_count": 585,
   "metadata": {},
   "outputs": [],
   "source": [
    "print_chimera_x_attribute_file(BETA_3mode_prediction,percentage[:,0],'./outputs/SBI_perc_multi_BETA_chimera.txt')"
   ]
  },
  {
   "cell_type": "code",
   "execution_count": 586,
   "metadata": {},
   "outputs": [],
   "source": [
    "print_chimera_x_attribute_file_SBI(BETA_3mode_prediction,percentage[:,0],'./outputs/SBI_multi_BETA_chimera.txt')"
   ]
  },
  {
   "cell_type": "code",
   "execution_count": 587,
   "metadata": {},
   "outputs": [
    {
     "name": "stdout",
     "output_type": "stream",
     "text": [
      " /A:27 /A:28 /A:38 /A:40 /A:41 /A:46 /A:47 /A:48 /A:57 /A:61 /A:65 /A:66 /A:67 /A:68 /A:69 /A:71 /A:75 /A:76 /A:85 /A:87 /A:104 /A:105 /A:107 /A:116 /A:120 /A:121 /A:123 /A:126 /A:128 /A:129 /A:130 /A:142 /A:143 /A:147 /A:151 /A:155 /A:158 /A:164 /A:167 /A:168 /A:170 /A:172 /A:174 /A:177 /A:178 /A:179 /A:181 /A:183 /A:189 /A:194 /A:201 /A:202 /A:212 /A:215 /A:218 /A:220 /A:221 /A:223 /A:224 /A:230 /A:231 /A:232 /A:233 /A:234 /A:235 /A:236 /A:240 /A:241 /A:246 /A:248 /A:251 /A:253 /A:254 /A:262 /A:263 /A:271 /A:272 /A:276 /A:279 /A:280"
     ]
    }
   ],
   "source": [
    "for i,n in enumerate(percentage[:,0]):\n",
    "    if n>0.1:\n",
    "        print(' /A:',i+1, sep='',end='')"
   ]
  },
  {
   "cell_type": "code",
   "execution_count": 588,
   "metadata": {},
   "outputs": [
    {
     "name": "stdout",
     "output_type": "stream",
     "text": [
      "([67, 70, 127, 163, 231, 234], []) [68, 71, 128, 164, 232, 235]\n"
     ]
    }
   ],
   "source": [
    "print(index_positive_SBI(BETA_3mode_prediction,percentage[:,0],BETA_db_positions),BETA_db_positions)"
   ]
  },
  {
   "cell_type": "code",
   "execution_count": 589,
   "metadata": {},
   "outputs": [],
   "source": [
    "for i,n in enumerate(BETA_3mode_prediction):\n",
    "    if n ==1:\n",
    "        proline_analysis.append([variants_extract(prediction,BETA_map,i)[int(alphabetAA_L_D['P'])-1],BETA_rosetta_ddg[i,int(alphabetAA_L_D['P'])-1],BETA_rosetta_ddg_mean[i],BETA_GEMME_mean[i],BETA_wcn[i]])"
   ]
  },
  {
   "cell_type": "code",
   "execution_count": 590,
   "metadata": {},
   "outputs": [],
   "source": [
    "count_total_variant+=np.array(print_numbers_classification(prediction,BETA_3mode_prediction)[0])\n",
    "count_total_residues+=np.array(print_numbers_classification(prediction,BETA_3mode_prediction)[1])"
   ]
  },
  {
   "cell_type": "code",
   "execution_count": 591,
   "metadata": {},
   "outputs": [],
   "source": [
    "count_catalytic_residues+=np.array(print_catalytic_classification(BETA_3mode_prediction,BETA_db_positions))"
   ]
  },
  {
   "cell_type": "code",
   "execution_count": 592,
   "metadata": {},
   "outputs": [],
   "source": [
    "count_MCSA_matched_over_threshold+=len(index_SBI_db(BETA_3mode_prediction,BETA_db_positions))"
   ]
  },
  {
   "cell_type": "code",
   "execution_count": 593,
   "metadata": {},
   "outputs": [],
   "source": [
    "for i in 0,1:\n",
    "    count_total_SBI_predicted[i]+=print_numbers_prediction(prediction,BETA_3mode_prediction,BETA_WT_sequence,BETA_WT_seq_rose)[i]"
   ]
  },
  {
   "cell_type": "code",
   "execution_count": 594,
   "metadata": {},
   "outputs": [
    {
     "name": "stdout",
     "output_type": "stream",
     "text": [
      "([67, 127], [232, 233]) [68, 128, 233, 234, 242]\n"
     ]
    }
   ],
   "source": [
    "print(index_positive_SBI(BETA_3mode_prediction,percentage[:,0],BETA_db_ligand_positions),BETA_db_ligand_positions)"
   ]
  },
  {
   "cell_type": "code",
   "execution_count": 595,
   "metadata": {},
   "outputs": [],
   "source": [
    "asa_SBI_data.append(asa_SBI(BETA_3mode_prediction,BETA_rsa))"
   ]
  },
  {
   "cell_type": "code",
   "execution_count": 596,
   "metadata": {},
   "outputs": [],
   "source": [
    "ss_SBI_data.append(asa_SBI(BETA_3mode_prediction,BETA_ss))"
   ]
  },
  {
   "cell_type": "code",
   "execution_count": 597,
   "metadata": {},
   "outputs": [],
   "source": [
    "AA_SBI_data.append(asa_SBI(BETA_3mode_prediction,BETA_WT_sequence))"
   ]
  },
  {
   "cell_type": "code",
   "execution_count": 598,
   "metadata": {},
   "outputs": [],
   "source": [
    "BETA_blue_pred_distribution=[]\n",
    "for i,n in enumerate(BETA_3mode_prediction):\n",
    "    if n==1.0:\n",
    "        temp=[]\n",
    "        for j in BETA_db_positions:\n",
    "            temp.append(AS_CA_distance(BETA_Ca_coord,[j],i+1))\n",
    "        BETA_blue_pred_distribution.append(np.min(temp))\n",
    "        act_site_distance_SBI.append(np.min(temp))"
   ]
  },
  {
   "cell_type": "code",
   "execution_count": 599,
   "metadata": {},
   "outputs": [],
   "source": [
    "temp_total_pred_distribution=[]\n",
    "for i,n in enumerate(BETA_3mode_prediction):\n",
    "        temp=[]\n",
    "        for j in BETA_db_positions:\n",
    "            temp.append(AS_CA_distance(BETA_Ca_coord,[j],i+1))\n",
    "        temp_total_pred_distribution.append(np.min(temp))\n",
    "\n",
    "act_site_distance_total.append(['P62593',np.max(temp_total_pred_distribution),np.median([i for i in temp_total_pred_distribution if i!=-1])])"
   ]
  },
  {
   "cell_type": "code",
   "execution_count": 600,
   "metadata": {},
   "outputs": [],
   "source": [
    "temp=variants_statistic(prediction,BETA_map,BETA_WT_sequence)\n",
    "SBI_statistic_matrix+=temp[0]\n",
    "NO_SBI_statistic_matrix_under2+=temp[1]\n",
    "NO_SBI_statistic_matrix_over2+=temp[2]"
   ]
  },
  {
   "cell_type": "code",
   "execution_count": 601,
   "metadata": {},
   "outputs": [],
   "source": [
    "temp=variants_statistic_slice(prediction,BETA_map,BETA_WT_sequence,slice_variants)\n",
    "SBI_statistic_matrix_slice+=temp[0]\n",
    "NO_SBI_statistic_matrix_under2_slice+=temp[1]\n",
    "NO_SBI_statistic_matrix_over2_slice+=temp[2]"
   ]
  },
  {
   "cell_type": "markdown",
   "metadata": {},
   "source": [
    "#### DHFR predictions"
   ]
  },
  {
   "cell_type": "code",
   "execution_count": 602,
   "metadata": {},
   "outputs": [],
   "source": [
    "DHFR_X,DHFR_map=features_validation([DHFR_GEMME,DHFR_rosetta_ddg_norm, DHFR_GEMME_mean, DHFR_rosetta_ddg_mean, DHFR_hydrophobicity_mut,DHFR_GEMME_neigbor_scores,DHFR_rosetta_neigbor_scores,DHFR_wcn],DHFR_WT_sequence)"
   ]
  },
  {
   "cell_type": "code",
   "execution_count": 603,
   "metadata": {},
   "outputs": [],
   "source": [
    "prediction=cat.predict(DHFR_X)"
   ]
  },
  {
   "cell_type": "code",
   "execution_count": 604,
   "metadata": {},
   "outputs": [],
   "source": [
    "DHFR_3mode_prediction,percentage=retrieve_residue_label_pred(prediction,DHFR_map,DHFR_WT_sequence,sbi_perc_thr)"
   ]
  },
  {
   "cell_type": "code",
   "execution_count": 605,
   "metadata": {},
   "outputs": [],
   "source": [
    "sbi_percentage.append([i for i in percentage[:,0] if i>0.0])"
   ]
  },
  {
   "cell_type": "code",
   "execution_count": 606,
   "metadata": {},
   "outputs": [],
   "source": [
    "print_chimera_x_attribute_file(DHFR_3mode_prediction,percentage[:,0],'./outputs/SBI_perc_multi_DHFR_prediction_residues.txt')"
   ]
  },
  {
   "cell_type": "code",
   "execution_count": 607,
   "metadata": {},
   "outputs": [],
   "source": [
    "print_chimera_x_attribute_file_SBI(DHFR_3mode_prediction,percentage[:,0],'./outputs/SBI_multi_DHFR_prediction_residues.txt')"
   ]
  },
  {
   "cell_type": "code",
   "execution_count": 608,
   "metadata": {},
   "outputs": [],
   "source": [
    "count_SBI_model7[0]+= count_positive_SBI(DHFR_3mode_prediction,percentage[:,0],DHFR_db_positions)[0]\n",
    "count_SBI_model7[1]+= count_positive_SBI(DHFR_3mode_prediction,percentage[:,0],DHFR_db_positions)[1]\n",
    "count_SBI_model7[2]+= count_positive_SBI(DHFR_3mode_prediction,percentage[:,0],DHFR_db_positions)[2]"
   ]
  },
  {
   "cell_type": "code",
   "execution_count": 609,
   "metadata": {},
   "outputs": [
    {
     "name": "stdout",
     "output_type": "stream",
     "text": [
      " SBI variants: 401 out of 3458 (11.60%) \n",
      " SBI residues: 15 out of 182 (8.24%) \n"
     ]
    }
   ],
   "source": [
    "count_SBI_perc_2x.append(print_percentage_prediction(prediction,DHFR_3mode_prediction,DHFR_WT_sequence,DHFR_WT_seq_rose))"
   ]
  },
  {
   "cell_type": "code",
   "execution_count": 610,
   "metadata": {},
   "outputs": [
    {
     "name": "stdout",
     "output_type": "stream",
     "text": [
      "([22, 30], []) [23, 31]\n"
     ]
    }
   ],
   "source": [
    "print(index_positive_SBI(DHFR_3mode_prediction,percentage[:,0],DHFR_db_positions),DHFR_db_positions)"
   ]
  },
  {
   "cell_type": "code",
   "execution_count": 611,
   "metadata": {},
   "outputs": [],
   "source": [
    "count_MCSA_matched_over_threshold+=len(index_SBI_db(DHFR_3mode_prediction,DHFR_db_positions))"
   ]
  },
  {
   "cell_type": "code",
   "execution_count": 612,
   "metadata": {},
   "outputs": [],
   "source": [
    "for i in 0,1:\n",
    "    count_total_SBI_predicted[i]+=print_numbers_prediction(prediction,DHFR_3mode_prediction,DHFR_WT_sequence,DHFR_WT_seq_rose)[i]"
   ]
  },
  {
   "cell_type": "code",
   "execution_count": 613,
   "metadata": {},
   "outputs": [
    {
     "name": "stdout",
     "output_type": "stream",
     "text": [
      "([9, 30, 56], [61]) [8, 9, 10, 31, 32, 33, 35, 36, 57, 61, 62, 64, 67, 70, 115, 136]\n"
     ]
    }
   ],
   "source": [
    "print(index_positive_SBI(DHFR_3mode_prediction,percentage[:,0],DHFR_db_ligand_positions),DHFR_db_ligand_positions)"
   ]
  },
  {
   "cell_type": "code",
   "execution_count": 614,
   "metadata": {},
   "outputs": [],
   "source": [
    "for i,n in enumerate(DHFR_3mode_prediction):\n",
    "    if n ==1:\n",
    "        proline_analysis.append([variants_extract(prediction,DHFR_map,i)[int(alphabetAA_L_D['P'])-1],DHFR_rosetta_ddg[i,int(alphabetAA_L_D['P'])-1],DHFR_rosetta_ddg_mean[i],DHFR_GEMME_mean[i],DHFR_wcn[i]])"
   ]
  },
  {
   "cell_type": "code",
   "execution_count": 615,
   "metadata": {},
   "outputs": [],
   "source": [
    "count_total_variant+=np.array(print_numbers_classification(prediction,DHFR_3mode_prediction)[0])\n",
    "count_total_residues+=np.array(print_numbers_classification(prediction,DHFR_3mode_prediction)[1])"
   ]
  },
  {
   "cell_type": "code",
   "execution_count": 616,
   "metadata": {},
   "outputs": [],
   "source": [
    "count_catalytic_residues+=np.array(print_catalytic_classification(DHFR_3mode_prediction,DHFR_db_positions))"
   ]
  },
  {
   "cell_type": "code",
   "execution_count": 617,
   "metadata": {},
   "outputs": [],
   "source": [
    "asa_SBI_data.append(asa_SBI(DHFR_3mode_prediction,DHFR_rsa))"
   ]
  },
  {
   "cell_type": "code",
   "execution_count": 618,
   "metadata": {},
   "outputs": [],
   "source": [
    "ss_SBI_data.append(asa_SBI(DHFR_3mode_prediction,DHFR_ss))"
   ]
  },
  {
   "cell_type": "code",
   "execution_count": 619,
   "metadata": {},
   "outputs": [],
   "source": [
    "AA_SBI_data.append(asa_SBI(DHFR_3mode_prediction,DHFR_WT_sequence))"
   ]
  },
  {
   "cell_type": "code",
   "execution_count": 620,
   "metadata": {},
   "outputs": [],
   "source": [
    "DHFR_blue_pred_distribution=[]\n",
    "for i,n in enumerate(DHFR_3mode_prediction):\n",
    "    if n==1.0:\n",
    "        temp=[]\n",
    "        for j in DHFR_db_positions:\n",
    "            temp.append(AS_CA_distance(DHFR_Ca_coord,[j],i+1))\n",
    "        DHFR_blue_pred_distribution.append(np.min(temp))\n",
    "        act_site_distance_SBI.append(np.min(temp))"
   ]
  },
  {
   "cell_type": "code",
   "execution_count": 621,
   "metadata": {},
   "outputs": [],
   "source": [
    "temp_total_pred_distribution=[]\n",
    "for i,n in enumerate(DHFR_3mode_prediction):\n",
    "        temp=[]\n",
    "        for j in DHFR_db_positions:\n",
    "            temp.append(AS_CA_distance(DHFR_Ca_coord,[j],i+1))\n",
    "        temp_total_pred_distribution.append(np.min(temp))\n",
    "\n",
    "act_site_distance_total.append(['P00374',np.max(temp_total_pred_distribution),np.median([i for i in temp_total_pred_distribution if i!=-1])])"
   ]
  },
  {
   "cell_type": "code",
   "execution_count": 622,
   "metadata": {},
   "outputs": [],
   "source": [
    "temp=variants_statistic(prediction,DHFR_map,DHFR_WT_sequence)\n",
    "SBI_statistic_matrix+=temp[0]\n",
    "NO_SBI_statistic_matrix_under2+=temp[1]\n",
    "NO_SBI_statistic_matrix_over2+=temp[2]"
   ]
  },
  {
   "cell_type": "code",
   "execution_count": 623,
   "metadata": {},
   "outputs": [],
   "source": [
    "temp=variants_statistic_slice(prediction,DHFR_map,DHFR_WT_sequence,slice_variants)\n",
    "SBI_statistic_matrix_slice+=temp[0]\n",
    "NO_SBI_statistic_matrix_under2_slice+=temp[1]\n",
    "NO_SBI_statistic_matrix_over2_slice+=temp[2]"
   ]
  },
  {
   "cell_type": "markdown",
   "metadata": {},
   "source": [
    "## Results:"
   ]
  },
  {
   "cell_type": "code",
   "execution_count": 624,
   "metadata": {},
   "outputs": [
    {
     "name": "stdout",
     "output_type": "stream",
     "text": [
      "[26, 3, 32]\n"
     ]
    }
   ],
   "source": [
    "print(count_SBI_model7)"
   ]
  },
  {
   "cell_type": "markdown",
   "metadata": {},
   "source": [
    "[25, 2, 32]\n"
   ]
  },
  {
   "cell_type": "code",
   "execution_count": 625,
   "metadata": {},
   "outputs": [],
   "source": [
    "count_SBI_perc_2x=np.array(count_SBI_perc_2x)"
   ]
  },
  {
   "cell_type": "code",
   "execution_count": 626,
   "metadata": {},
   "outputs": [
    {
     "name": "stdout",
     "output_type": "stream",
     "text": [
      "percentages - variants: 17.55,residues: 13.17\n"
     ]
    }
   ],
   "source": [
    "print(f'percentages - variants: {np.mean(count_SBI_perc_2x[:,0]):.2f},residues: {np.mean(count_SBI_perc_2x[:,1]):.2f}')"
   ]
  },
  {
   "cell_type": "code",
   "execution_count": 627,
   "metadata": {},
   "outputs": [
    {
     "data": {
      "text/plain": [
       "0.014449708630289325"
      ]
     },
     "execution_count": 627,
     "metadata": {},
     "output_type": "execute_result"
    }
   ],
   "source": [
    "from scipy.stats import binom\n",
    "\n",
    "binom.pmf(280,3000,0.099)"
   ]
  },
  {
   "cell_type": "code",
   "execution_count": 628,
   "metadata": {},
   "outputs": [
    {
     "data": {
      "text/plain": [
       "(array([11.02362205, 12.09677419, 12.5       , 10.8       , 14.08450704,\n",
       "        14.81481481, 25.40540541,  9.57854406,  8.24175824]),\n",
       " 17.550607082869277)"
      ]
     },
     "execution_count": 628,
     "metadata": {},
     "output_type": "execute_result"
    }
   ],
   "source": [
    "count_SBI_perc_2x[:,1], np.mean(count_SBI_perc_2x[:,0])"
   ]
  },
  {
   "cell_type": "code",
   "execution_count": 629,
   "metadata": {},
   "outputs": [
    {
     "data": {
      "text/plain": [
       "(array([14.7192403 , 18.59083192, 18.696642  , 15.83786043, 16.85198913,\n",
       "        20.28648858, 28.56330014, 12.81281281, 11.59629844]),\n",
       " 13.171713978480796)"
      ]
     },
     "execution_count": 629,
     "metadata": {},
     "output_type": "execute_result"
    }
   ],
   "source": [
    "count_SBI_perc_2x[:,0], np.mean(count_SBI_perc_2x[:,1])"
   ]
  },
  {
   "cell_type": "code",
   "execution_count": 630,
   "metadata": {},
   "outputs": [],
   "source": [
    "asa_SBI_data_v=asa_SBI_data[0]\n",
    "for i in range(1,8):\n",
    "    temp=asa_SBI_data[i]\n",
    "    asa_SBI_data_v=asa_SBI_data_v+temp\n",
    "#asa_SBI_data_v=asa_SBI_data_v.reshape(-1)"
   ]
  },
  {
   "cell_type": "code",
   "execution_count": 631,
   "metadata": {},
   "outputs": [],
   "source": [
    "ss_SBI_data_v=ss_SBI_data[0]\n",
    "for i in range(1,8):\n",
    "    temp=ss_SBI_data[i]\n",
    "    ss_SBI_data_v=ss_SBI_data_v+temp\n",
    "#asa_SBI_data_v=asa_SBI_data_v.reshape(-1)\n",
    "ss_SBI_count=[0,0,0]\n",
    "for item in ss_SBI_data_v:\n",
    "    ss_SBI_count[int(item)]+=1"
   ]
  },
  {
   "cell_type": "code",
   "execution_count": 632,
   "metadata": {},
   "outputs": [],
   "source": [
    "AA_SBI_data_v=AA_SBI_data[0]\n",
    "for i in range(1,8):\n",
    "    temp=AA_SBI_data[i]\n",
    "    AA_SBI_data_v=AA_SBI_data_v+temp\n",
    "#asa_SBI_data_v=asa_SBI_data_v.reshape(-1)\n",
    "AA_SBI_count=[0,0,0,0,0,0,0,0,0,0,0,0,0,0,0,0,0,0,0,0]\n",
    "for item in AA_SBI_data_v:\n",
    "    AA_SBI_count[int(alphabetAA_L_D[item])-1]+=1"
   ]
  },
  {
   "cell_type": "code",
   "execution_count": 633,
   "metadata": {},
   "outputs": [],
   "source": [
    "AA_count=[0,0,0,0,0,0,0,0,0,0,0,0,0,0,0,0,0,0,0,0]\n",
    "\n",
    "for i in [Q9LAK3_WT_seq_rose,SOR_WT_seq_rose,XYNA_WT_seq_rose,MURL_WT_seq_rose,P0A7E3_WT_seq_rose,\n",
    "              SP2AB_WT_seq_rose,TDG_H_WT_seq_rose,BETA_WT_seq_rose,DHFR_WT_seq_rose]:\n",
    "    for item in i:\n",
    "        if item !='-':\n",
    "            AA_count[int(alphabetAA_L_D[item])-1]+=1"
   ]
  },
  {
   "cell_type": "code",
   "execution_count": 634,
   "metadata": {},
   "outputs": [
    {
     "name": "stdout",
     "output_type": "stream",
     "text": [
      "[110, 20, 88, 132, 85, 144, 40, 117, 130, 164, 34, 93, 75, 52, 77, 104, 107, 118, 21, 84]\n"
     ]
    }
   ],
   "source": [
    "print(AA_count)"
   ]
  },
  {
   "cell_type": "code",
   "execution_count": 635,
   "metadata": {},
   "outputs": [
    {
     "name": "stdout",
     "output_type": "stream",
     "text": [
      "[14, 7, 12, 13, 3, 33, 8, 2, 17, 5, 0, 17, 19, 3, 12, 20, 16, 5, 0, 9]\n"
     ]
    }
   ],
   "source": [
    "print(AA_SBI_count)"
   ]
  },
  {
   "cell_type": "code",
   "execution_count": 636,
   "metadata": {},
   "outputs": [
    {
     "name": "stdout",
     "output_type": "stream",
     "text": [
      "[57, 54, 104]\n"
     ]
    }
   ],
   "source": [
    "print(ss_SBI_count)"
   ]
  },
  {
   "cell_type": "code",
   "execution_count": 637,
   "metadata": {},
   "outputs": [
    {
     "name": "stdout",
     "output_type": "stream",
     "text": [
      "34098\n"
     ]
    }
   ],
   "source": [
    "tested_variants=0\n",
    "for i in [Q9LAK3_X,SOR_X,XYNA_X,MURL_X,P0A7E3_X,\n",
    "              SP2AB_X,TDG_H_X,BETA_X,DHFR_X]:\n",
    "    for item in i:\n",
    "            tested_variants+=1\n",
    "print(tested_variants)"
   ]
  },
  {
   "cell_type": "markdown",
   "metadata": {},
   "source": [
    "### ACTIVE SITE distance"
   ]
  },
  {
   "cell_type": "code",
   "execution_count": 162,
   "metadata": {
    "tags": []
   },
   "outputs": [],
   "source": [
    "### imported from other notebook (2/2)\n",
    "Q8VQN0_blue_pred_distribution=[0.0, 10.631290091047276, 8.826747249128639, 11.775597394612301, 0.0, 8.963961066403625, 3.8003095926516295, 10.765421125065197, 9.671628301377178, 0.0]"
   ]
  },
  {
   "cell_type": "code",
   "execution_count": 641,
   "metadata": {},
   "outputs": [
    {
     "data": {
      "image/png": "[encoded data removed]",
      "text/plain": [
       "<Figure size 576x288 with 1 Axes>"
      ]
     },
     "metadata": {
      "needs_background": "light"
     },
     "output_type": "display_data"
    }
   ],
   "source": [
    "dy=Q9LAK3_blue_pred_distribution +SOR_blue_pred_distribution+XYNA_blue_pred_distribution+MURL_blue_pred_distribution+\\\n",
    "P0A7E3_blue_pred_distribution +SP2AB_blue_pred_distribution+TDG_H_blue_pred_distribution+BETA_blue_pred_distribution+DHFR_blue_pred_distribution+\\\n",
    "Q8VQN0_blue_pred_distribution\n",
    "dx=['Q9LAK3' for i in range(len(Q9LAK3_blue_pred_distribution))]+['P82385' for i in range(len(SOR_blue_pred_distribution))]+['P09850' for i in range(len(XYNA_blue_pred_distribution))]+\\\n",
    "['P56868' for i in range(len(MURL_blue_pred_distribution))]+['P0A7E3' for i in range(len(P0A7E3_blue_pred_distribution))]+['O32727' for i in range(len(SP2AB_blue_pred_distribution))]+\\\n",
    "['Q13569' for i in range(len(TDG_H_blue_pred_distribution))]+['P62593' for i in range(len(BETA_blue_pred_distribution))]+['P00374' for i in range(len(DHFR_blue_pred_distribution))]+\\\n",
    "['Q8VQN0' for i in range(len(Q8VQN0_blue_pred_distribution))]\n",
    "\n",
    "\n",
    "f, ax = plt.subplots(figsize=(8, 4))\n",
    "\n",
    "\n",
    "\n",
    "\n",
    "ort = \"h\"; pal = \"Set3\"; sigma = .2\n",
    "pt.RainCloud(y = dy,\n",
    "             x = dx,\n",
    "             bw = .3, width_viol = .5, ax = ax,palette=pal)\n",
    "\n",
    "ax.set_ylabel('Active site distance (A)',fontsize=16)\n",
    "ax.tick_params(axis=\"y\", labelsize=14)\n",
    "ax.set_ylim(-2,45)\n",
    "\n",
    "dx_labels=['Q9LAK3','P82385','P09850','P56868','P0A7E3','032727','Q13569','P62593','P00374','Q8VQN0']\n",
    "ax.set_xticklabels(dx_labels,rotation=45,fontsize=14)\n",
    "plt.savefig('./Figures/SBIR_distance_from_active_site_MCSA_1.pdf')"
   ]
  },
  {
   "cell_type": "code",
   "execution_count": 642,
   "metadata": {},
   "outputs": [
    {
     "data": {
      "image/png": "[encoded data removed]",
      "text/plain": [
       "<Figure size 576x288 with 1 Axes>"
      ]
     },
     "metadata": {
      "needs_background": "light"
     },
     "output_type": "display_data"
    }
   ],
   "source": [
    "dy=Q9LAK3_blue_pred_distribution +SOR_blue_pred_distribution+XYNA_blue_pred_distribution+MURL_blue_pred_distribution+\\\n",
    "P0A7E3_blue_pred_distribution +SP2AB_blue_pred_distribution+TDG_H_blue_pred_distribution+BETA_blue_pred_distribution+DHFR_blue_pred_distribution+\\\n",
    "Q8VQN0_blue_pred_distribution\n",
    "dx=['Q9LAK3' for i in range(len(Q9LAK3_blue_pred_distribution))]+['P82385' for i in range(len(SOR_blue_pred_distribution))]+['P09850' for i in range(len(XYNA_blue_pred_distribution))]+\\\n",
    "['P56868' for i in range(len(MURL_blue_pred_distribution))]+['P0A7E3' for i in range(len(P0A7E3_blue_pred_distribution))]+['O32727' for i in range(len(SP2AB_blue_pred_distribution))]+\\\n",
    "['Q13569' for i in range(len(TDG_H_blue_pred_distribution))]+['P62593' for i in range(len(BETA_blue_pred_distribution))]+['P00374' for i in range(len(DHFR_blue_pred_distribution))]+\\\n",
    "['Q8VQN0' for i in range(len(Q8VQN0_blue_pred_distribution))]\n",
    "\n",
    "f, ax = plt.subplots(figsize=(8, 4))\n",
    "\n",
    "\n",
    "\n",
    "\n",
    "ort = \"h\"; color = \"green\"; sigma = .2\n",
    "sns.boxplot(y = dy,\n",
    "             x = dx,\n",
    "             width = .5, ax = ax,color=\"#56B4E9\")\n",
    "ax.set_ylabel('Active site distance (A)',fontsize=16)\n",
    "ax.tick_params(axis=\"y\", labelsize=14)\n",
    "ax.set_ylim(-2,50)\n",
    "\n",
    "dx_labels=['Q9LAK3','P82385','P09850','P56868','P0A7E3','032727','Q13569','P62593','P00374','Q8VQN0']\n",
    "ax.set_xticklabels(dx_labels,rotation=45,fontsize=14)\n",
    "plt.savefig('./Figures/SBIR_bar_distance_from_active_site_MCSA_1.pdf')"
   ]
  },
  {
   "cell_type": "code",
   "execution_count": 643,
   "metadata": {},
   "outputs": [
    {
     "name": "stdout",
     "output_type": "stream",
     "text": [
      "113 240\n"
     ]
    }
   ],
   "source": [
    "total_dist=0\n",
    "count_close=0\n",
    "for i in dy:\n",
    "    total_dist+=1\n",
    "    if i <10:\n",
    "        count_close+=1\n",
    "        \n",
    "print(count_close,total_dist)"
   ]
  },
  {
   "cell_type": "markdown",
   "metadata": {},
   "source": [
    "### Statistics\n",
    "data imported from notebook (2/2)"
   ]
  },
  {
   "cell_type": "code",
   "execution_count": 647,
   "metadata": {},
   "outputs": [
    {
     "name": "stdout",
     "output_type": "stream",
     "text": [
      "26\n"
     ]
    }
   ],
   "source": [
    "print(count_MCSA_matched_over_threshold)"
   ]
  },
  {
   "cell_type": "code",
   "execution_count": 648,
   "metadata": {},
   "outputs": [
    {
     "name": "stdout",
     "output_type": "stream",
     "text": [
      "[5104, 202]\n"
     ]
    }
   ],
   "source": [
    "print(count_total_SBI_predicted)"
   ]
  },
  {
   "cell_type": "code",
   "execution_count": 649,
   "metadata": {},
   "outputs": [],
   "source": [
    "statistic_threshold_SBI_MCSA=[[0.9,11,57],[0.8,16,91],[0.7,17,121],[0.5,22,161],[0.4,22,189],[0.3,23,223],[0.2,25,272],[0.01,27,487]]"
   ]
  },
  {
   "cell_type": "code",
   "execution_count": 650,
   "metadata": {},
   "outputs": [
    {
     "name": "stdout",
     "output_type": "stream",
     "text": [
      "[ 2 26  3  0  1]\n"
     ]
    }
   ],
   "source": [
    "print(count_catalytic_residues)\n",
    "count_catalytic_residues=np.array(count_catalytic_residues)\n",
    "np.save('./outputs/count_catalytic_residues_array_1.npy', count_catalytic_residues)"
   ]
  },
  {
   "cell_type": "code",
   "execution_count": 651,
   "metadata": {},
   "outputs": [
    {
     "name": "stdout",
     "output_type": "stream",
     "text": [
      "[19701  5817  8580     0]\n"
     ]
    }
   ],
   "source": [
    "print(count_total_variant)\n",
    "count_total_variant=np.array(count_total_variant)\n",
    "np.save('./outputs/count_total_variant_array_1.npy', count_total_variant)"
   ]
  },
  {
   "cell_type": "code",
   "execution_count": 652,
   "metadata": {},
   "outputs": [
    {
     "data": {
      "text/plain": [
       "0.2390628735357399"
      ]
     },
     "execution_count": 652,
     "metadata": {},
     "output_type": "execute_result"
    }
   ],
   "source": [
    "6000/(10077+6000+7924+1097)"
   ]
  },
  {
   "cell_type": "code",
   "execution_count": 653,
   "metadata": {},
   "outputs": [
    {
     "name": "stdout",
     "output_type": "stream",
     "text": [
      "[1002  230  488    0   75]\n"
     ]
    }
   ],
   "source": [
    "print(count_total_residues)\n",
    "count_total_residues=np.array(count_total_residues)\n",
    "np.save('./outputs/count_total_residues_array_1.npy', count_total_residues)"
   ]
  }
 ],
 "metadata": {
  "kernelspec": {
   "display_name": "Python 3 (ipykernel)",
   "language": "python",
   "name": "python3"
  },
  "language_info": {
   "codemirror_mode": {
    "name": "ipython",
    "version": 3
   },
   "file_extension": ".py",
   "mimetype": "text/x-python",
   "name": "python",
   "nbconvert_exporter": "python",
   "pygments_lexer": "ipython3",
   "version": "3.7.16"
  }
 },
 "nbformat": 4,
 "nbformat_minor": 4
}
