{
 "cells": [
  {
   "cell_type": "markdown",
   "id": "0e51c978-43df-47ad-ade8-bed86790a528",
   "metadata": {},
   "source": [
    "# Catboosting SBI classification"
   ]
  },
  {
   "cell_type": "markdown",
   "id": "28b4477f-61d8-4898-a3a7-b30ca80d551c",
   "metadata": {
    "toc-hr-collapsed": true
   },
   "source": [
    "## Libraries, functions and dictionaries"
   ]
  },
  {
   "cell_type": "code",
   "execution_count": 68,
   "id": "8eadbec7-11d6-4ee0-981c-3fa4cbbef934",
   "metadata": {},
   "outputs": [],
   "source": [
    "import sys, os\n",
    "\n",
    "import pandas as pd\n",
    "import numpy as np\n",
    "import scipy as sp\n",
    "import matplotlib as mpl\n",
    "import matplotlib.pyplot as plt\n",
    "import mdtraj as md\n",
    "import random\n",
    "import seaborn as sns\n",
    "import re\n",
    "from sklearn.model_selection import RandomizedSearchCV\n",
    "from sklearn.model_selection import RepeatedStratifiedKFold\n",
    "from sklearn.model_selection import cross_val_score\n",
    "from Bio.PDB.DSSP import make_dssp_dict\n",
    "\n",
    "from sklearn.ensemble import RandomForestClassifier\n",
    "from catboost import CatBoostClassifier, Pool\n",
    "from catboost.datasets import titanic\n",
    "from graphviz import Digraph\n",
    "\n",
    "import warnings\n",
    "warnings.filterwarnings('ignore')"
   ]
  },
  {
   "cell_type": "code",
   "execution_count": 6,
   "id": "8539e9c9-21ed-4534-aacb-ab0e44a56c81",
   "metadata": {},
   "outputs": [],
   "source": [
    "alphabetAA_L_D={'-':0,'_' :0,'A':1,'C':2,'D':3,'E':4,'F':5,'G':6,'H':7,'I':8,'K':9,'L':10,'M':11,'N':12,'P':13,'Q':14,'R':15,'S':16,'T':17,'V':18,'W':19,'Y':20}\n",
    "alphabetAA_D_L={v: k for k, v in alphabetAA_L_D.items()}\n",
    "               \n",
    "alphabetAA_3L_1L={\"Ter\":'*',\"Gap\":'-',\"Ala\":'A',\"Cys\":'C',\"Asp\":'D',\"Glu\":'E',\"Phe\":'F',\"Gly\":'G',\"His\":'H',\"Ile\":'I',\"Lys\":'K',\"Leu\":'L',\"Met\":'M',\"Asn\":'N',\"Pro\":'P',\"Gln\":'Q',\"Arg\":'R',\"Ser\":'S',\"Thr\":'T',\"Val\" :'V',\"Trp\":'W',\"Tyr\":'Y'}\n",
    "alphabetAA_1L_3L={v: k for k,v in alphabetAA_3L_1L.items()}\n",
    "\n",
    "alphabetAA_3L_1LC={\"Ter\":'*',\"Gap\":'-',\"ALA\":'A',\"CYS\":'C',\"ASP\":'D',\"GLU\":'E',\"PHE\":'F',\"GLY\":'G',\"HIS\":'H',\"ILE\":'I',\"LYS\":'K',\"LEU\":'L',\"MET\":'M',\"ASN\":'N',\"PRO\":'P',\"GLN\":'Q',\"ARG\":'R',\"SER\":'S',\"THR\":'T',\"VAL\" :'V',\"TRP\":'W',\"TYR\":'Y'}\n",
    "\n",
    "alphabetAA_to_classes={'A':1,'C':2,'D':3,'E':3,'F':1,'G':4,'H':3,'I':1,'K':3,'L':1,'M':1,'N':2,'P':4,'Q':2,'R':3,'S':2,'T':2,'V':1,'W':1,'Y':1}\n",
    "alphabetclasses_to_AA={v: k for k,v in alphabetAA_to_classes.items()}\n",
    "\n",
    "AA_ddsp_number={'H' :0,'B' : 1,'E' : 2,'G' : 3,'I' : 4,'T' : 5,'S' : 6,' ' : 7}\n",
    "AA_number_ddsp={v: k for k,v in AA_ddsp_number.items()}\n",
    "\n",
    "AA_ddsp_number_simp={'H' :0,'E' : 1,'C' : 2}\n",
    "AA_number_ddsp_simp={v: k for k,v in AA_ddsp_number.items()}\n",
    "\n",
    "AA_to_hydrophobicity_scores={'A':44,'C':50,'D':-37,'E':-12,'F':96,'G':0,'H':-16,'I':100,'K':-30,'L':99,'M':74,'N':-35,'P':-46,'Q':-14,'R':-20,'S':-6,'T':13,'V':78,'W':90,'Y':57}"
   ]
  },
  {
   "cell_type": "markdown",
   "id": "70ef15fa-1793-4d09-bc41-bc3734d018f7",
   "metadata": {},
   "source": [
    "### Load functions"
   ]
  },
  {
   "cell_type": "code",
   "execution_count": 7,
   "id": "53dadefa-44e4-4019-bcaa-b495864e3727",
   "metadata": {},
   "outputs": [],
   "source": [
    "def remove_WT_score(score,WT_seq):\n",
    "    for i in range(len(WT_seq)):\n",
    "        score[i,alphabetAA_L_D[WT_seq[i]]-1]=np.nan\n",
    "    return score"
   ]
  },
  {
   "cell_type": "code",
   "execution_count": 8,
   "id": "1a2c7975-7758-4024-9fb8-03aab122c889",
   "metadata": {
    "tags": []
   },
   "outputs": [],
   "source": [
    "def load_data_V2(data,wt_seq,start_gap=0,column_score=1):\n",
    "    df=pd.read_csv(data, delim_whitespace=True, comment='#')\n",
    "    mutation_load=np.array(df.iloc[:,0])\n",
    "    score_load=np.array(df.iloc[:,column_score])\n",
    "    scores=np.empty((len(wt_seq),20),dtype=float)\n",
    "    scores[:]=np.nan\n",
    "    for i in range(len(mutation_load)):\n",
    "        if  mutation_load[i][len(mutation_load[i])-1]!= '=' and mutation_load[i][len(mutation_load[i])-1]!= '*' :\n",
    "            scores[int(mutation_load[i][1:len(mutation_load[i])-1])-1+start_gap, alphabetAA_L_D[mutation_load[i][len(mutation_load[i])-1]]-1]= float(score_load[i])\n",
    "    return scores"
   ]
  },
  {
   "cell_type": "markdown",
   "id": "ab2d577a-3937-4e7e-92d0-c1e1cdabc51f",
   "metadata": {},
   "source": [
    "### General functions"
   ]
  },
  {
   "cell_type": "code",
   "execution_count": 9,
   "id": "3d4f6000-008b-425e-9277-fa8d3b56e87e",
   "metadata": {},
   "outputs": [],
   "source": [
    "def normalize_score(scores):\n",
    "    normalized_scores=np.copy(scores)\n",
    "    c_min_act=np.percentile(scores[~np.isnan(scores)],5)\n",
    "    c_max_act=np.percentile(scores[~np.isnan(scores)],95)\n",
    "    for i in range(scores.shape[0]):\n",
    "        for j in range(scores.shape[1]):\n",
    "            normalized_scores[i,j]=(scores[i,j]-c_min_act)/(c_max_act-c_min_act)\n",
    "                                  \n",
    "    return normalized_scores"
   ]
  },
  {
   "cell_type": "code",
   "execution_count": 10,
   "id": "5cc48beb-08e5-420a-b269-963db9e9be12",
   "metadata": {},
   "outputs": [],
   "source": [
    "def normalize_minmax(scores):\n",
    "    normalized_scores=np.copy(scores)\n",
    "    c_min_act=np.amin(scores[~np.isnan(scores)])\n",
    "    c_max_act=np.amax(scores[~np.isnan(scores)])\n",
    "    for i in range(scores.shape[0]):\n",
    "        for j in range(scores.shape[1]):\n",
    "            normalized_scores[i,j]=(scores[i,j]-c_min_act)/(c_max_act-c_min_act)\n",
    "                                  \n",
    "    return normalized_scores"
   ]
  },
  {
   "cell_type": "code",
   "execution_count": 11,
   "id": "0a2c357a-01ac-4bbe-8167-2dfec78403d7",
   "metadata": {},
   "outputs": [],
   "source": [
    "def normalize_fermi(scores):\n",
    "    normalized_scores=np.copy(scores)\n",
    "    for i in range(scores.shape[0]):\n",
    "        for j in range(scores.shape[1]):\n",
    "            normalized_scores[i,j]=1/(sp.exp(scores[i,j]-2)+1)                 \n",
    "    return normalized_scores"
   ]
  },
  {
   "cell_type": "code",
   "execution_count": 12,
   "id": "21fac80f-e2af-4ae9-a6ba-96011739ab5d",
   "metadata": {},
   "outputs": [],
   "source": [
    "def normalize_cutoff(scores,lowcut,highcut):\n",
    "    normalized_scores=np.copy(scores)\n",
    "    for i in range(scores.shape[0]):\n",
    "        for j in range(scores.shape[1]):\n",
    "            if scores[i,j] < lowcut:\n",
    "                normalized_scores[i,j]=lowcut\n",
    "            elif scores[i,j] > highcut:\n",
    "                normalized_scores[i,j]=highcut\n",
    "            else:\n",
    "                normalized_scores[i,j]=scores[i,j]\n",
    "    return normalized_scores"
   ]
  },
  {
   "cell_type": "code",
   "execution_count": 13,
   "id": "33c3b15e-b8d2-4c1e-8479-6f2726ac248e",
   "metadata": {},
   "outputs": [],
   "source": [
    "def position_mean(score):\n",
    "    score_mean=np.zeros(score.shape[0],dtype=float)\n",
    "    for i in range(score.shape[0]):\n",
    "        count=0\n",
    "        flag_nan=True\n",
    "        for j in range(score.shape[1]):\n",
    "            if np.isnan(score[i,j])==False:\n",
    "                flag_nan=False\n",
    "                score_mean[i]+=score[i,j]\n",
    "                count+=1\n",
    "            else:\n",
    "                pass\n",
    "        if flag_nan==True:\n",
    "            score_mean[i]=np.nan\n",
    "        score_mean[i]/=count\n",
    "        \n",
    "    return score_mean"
   ]
  },
  {
   "cell_type": "code",
   "execution_count": 14,
   "id": "6375d9dc-b30c-4982-b66f-3ce71b798305",
   "metadata": {},
   "outputs": [],
   "source": [
    "def score_histogram(score,nbin,color,label_x,norm_bool,thr):\n",
    "\n",
    "    counts, bins = np.histogram(score[~np.isnan(score)],bins=nbin)\n",
    "    if norm_bool=='Density':\n",
    "        n, bins, patches = plt.hist(score[~np.isnan(score)], bins=nbin, facecolor=color, alpha=0.7,edgecolor=\"black\",density=True)\n",
    "        plt.ylabel('Normalized counts',fontsize=20)\n",
    "    elif norm_bool=='True':\n",
    "        \n",
    "        norm= counts / np.linalg.norm(counts)\n",
    "        plt.hist(bins[:-1], bins, weights=norm, facecolor=color, alpha=0.7,edgecolor=\"black\")\n",
    "        plt.ylabel('Normalized counts',fontsize=20)\n",
    "    else:\n",
    "        n, bins, patches = plt.hist(score[~np.isnan(score)], bins=nbin, facecolor=color,edgecolor=\"black\")\n",
    "        plt.ylabel('Counts',fontsize=20)\n",
    "\n",
    "    plt.xlabel(label_x,fontsize=20)\n",
    "    plt.xticks(fontsize=18)\n",
    "    plt.grid(axis=\"y\",alpha=0.4,linestyle='--')\n",
    "    sum_unstable=0\n",
    "    for i in range(len(bins)-1):\n",
    "        if bins[i+1] < thr:\n",
    "            sum_unstable+=counts[i]\n",
    "    print('Wt-like variants:',np.sum(counts)-sum_unstable, ' (', (np.sum(counts)-sum_unstable)/np.sum(counts) ,')')\n",
    "    \n",
    "    #plt.show()"
   ]
  },
  {
   "cell_type": "code",
   "execution_count": 15,
   "id": "84e5a271-ae09-4ac4-984c-af00bdb46319",
   "metadata": {},
   "outputs": [],
   "source": [
    "def heatmap_IBS(prediction,variant_map,WT):\n",
    "    scores=np.empty((len(WT),20),dtype=float)\n",
    "    scores[:]=np.nan\n",
    "    \n",
    "    i=0\n",
    "    for cord in variant_map:\n",
    "        scores[cord[0],cord[1]]=prediction[i]\n",
    "        i+=1\n",
    "\n",
    "    fig, ax = plt.subplots(figsize=(16,6))\n",
    "    ylabels=[ alphabetAA_D_L[i] for i in range(1,21)]\n",
    "    \n",
    "    ax.imshow(np.transpose(scores), aspect = 'auto', cmap=mpl.colors.ListedColormap([\"white\",\"#56b4e9\"]))\n",
    "\n",
    "    ax.set_yticks([i for i in range(0,20)])\n",
    "    ax.set_yticklabels(ylabels,fontsize=15)\n",
    "    ax.tick_params(axis='x', which='major', labelsize=15)\n",
    "        \n",
    "    tmp=np.empty((len(WT),20),dtype=float)\n",
    "    tmp[:]=np.inf\n",
    "    for i in range(0,len(WT)):\n",
    "        tmp[i,alphabetAA_L_D[WT[i]]-1]=1\n",
    "    plt.imshow(tmp.T, cmap='Accent', aspect = 'auto')\n",
    "    \n",
    "    plt.grid(axis='both',which='both',alpha=0.4)\n",
    "    plt.ylabel(\"mutation\",fontsize=16)\n",
    "    plt.xlabel(\"residue\",fontsize=16)\n",
    "\n",
    "    plt.ylim(-0.5,19.5)"
   ]
  },
  {
   "cell_type": "code",
   "execution_count": 16,
   "id": "76f201e5-b6c5-47de-8736-e363874b4b87",
   "metadata": {},
   "outputs": [],
   "source": [
    "def ratio_variants(mave_funct,mave_abd):\n",
    "    ratio=np.copy(mave_funct)\n",
    "    ratio[:]=np.nan\n",
    "    for i in range(ratio.shape[0]):\n",
    "        for j in range(ratio.shape[1]):\n",
    "            if np.isnan(mave_funct[i,j]) or np.isnan(mave_abd[i,j]):\n",
    "                pass\n",
    "            else:\n",
    "                if mave_abd[i,j]==0.0:\n",
    "                    ratio[i,j]=mave_funct[i,j]/0.0000001\n",
    "                else:\n",
    "                    ratio[i,j]=mave_funct[i,j]/mave_abd[i,j]\n",
    "    sig_ratio=np.copy(ratio)\n",
    "    sig_ratio[:]=np.nan\n",
    "    for i in range(ratio.shape[0]):\n",
    "        for j in range(ratio.shape[1]):\n",
    "            if np.isnan(ratio[i,j])!=True:\n",
    "                sig_ratio[i,j]=1/(1+np.exp(-(ratio[i,j]-1)))\n",
    "\n",
    "    return sig_ratio"
   ]
  },
  {
   "cell_type": "code",
   "execution_count": 17,
   "id": "b4164f62-f696-4d6b-a476-a0c2e40e0a08",
   "metadata": {},
   "outputs": [],
   "source": [
    "def MCC_test_subset(prediction,test):\n",
    "    TP=0\n",
    "    FP=0\n",
    "    total=0\n",
    "    for i in range(len(prediction)):\n",
    "        if np.isnan(prediction[i])!= True and np.isnan(test[i])!=True:\n",
    "            if prediction[i]==1:\n",
    "                if int(prediction[i])==int(test[i]):\n",
    "                    TP+=1\n",
    "                else:\n",
    "                    FP+=1\n",
    "            if int(test[i])==1:\n",
    "                total+=1\n",
    "    precision=TP/(TP+FP)\n",
    "    recall=TP/total\n",
    "    mcc=np.sqrt(abs(precision*recall))\n",
    "    \n",
    "    return precision,recall,mcc                 "
   ]
  },
  {
   "cell_type": "code",
   "execution_count": 18,
   "id": "e9422a09-c74b-42c6-a22a-f18dff45c99f",
   "metadata": {},
   "outputs": [],
   "source": [
    "def AUC_subset(prediction,test):\n",
    "    TP=0\n",
    "    FP=0\n",
    "    FN=0\n",
    "    TN=0\n",
    "    \n",
    "    for i in range(len(prediction)):\n",
    "        if np.isnan(prediction[i])!= True and np.isnan(test[i])!=True:\n",
    "            if prediction[i]==1:\n",
    "                if int(prediction[i])==int(test[i]):\n",
    "                    TP+=1\n",
    "                else:\n",
    "                    FP+=1\n",
    "            if prediction[i]==0:\n",
    "                if int(prediction[i])==int(test[i]):\n",
    "                    TN+=1\n",
    "                else:\n",
    "                    FN+=1 \n",
    "                    \n",
    "    TPR=TP/(TP+FN)\n",
    "    FPR=FP/(FP+TN)\n",
    "    \n",
    "    return [TPR,FPR]"
   ]
  },
  {
   "cell_type": "code",
   "execution_count": 19,
   "id": "d9a37a4f-2485-4604-b2e6-ed58d0a1e445",
   "metadata": {},
   "outputs": [],
   "source": [
    "def retrieve_residue_label_pred_training(prediction,variant_map,WT,percentage_threshold):\n",
    "    scores=np.empty((len(WT),20),dtype=float)\n",
    "    scores[:]=np.nan\n",
    "    \n",
    "    i=0\n",
    "    for cord in variant_map:\n",
    "        scores[cord[0],cord[1]]=prediction[i]\n",
    "        i+=1\n",
    "    pseudomode_value_class=np.empty(len(WT),dtype=float)\n",
    "    pseudomode_value_class[:]=np.nan\n",
    "    percentage_mode=np.zeros((len(WT),2),dtype=float)\n",
    "    \n",
    "    for i in range(len(pseudomode_value_class)):\n",
    "        count=0\n",
    "        for j in range(scores.shape[1]):\n",
    "            if np.isnan(scores[i,j])!=True:\n",
    "                count+=1\n",
    "        if count>0:\n",
    "            count_1=0\n",
    "            for j in range(scores.shape[1]):\n",
    "                if scores[i,j]==1:\n",
    "                    count_1+=1\n",
    "            percentage=count_1/count\n",
    "            \n",
    "            if percentage > percentage_threshold:\n",
    "                pseudomode_value_class[i]=1\n",
    "            else:\n",
    "                pseudomode_value_class[i]=0\n",
    "            \n",
    "            percentage_mode[i,0]=percentage\n",
    "            percentage_mode[i,1]=count\n",
    "    \n",
    "    #mode_value_class, counts_mode=sp.stats.mode(scores,axis=1,nan_policy='omit')\n",
    "    \n",
    "    return pseudomode_value_class,percentage_mode"
   ]
  },
  {
   "cell_type": "code",
   "execution_count": 20,
   "id": "15e72197-8853-45fc-b16d-cd4db144c241",
   "metadata": {},
   "outputs": [],
   "source": [
    "def retrieve_residue_label_pred(prediction,variant_map,WT,percentage_threshold):\n",
    "    scores=np.empty((len(WT),20),dtype=float)\n",
    "    scores[:]=np.nan\n",
    "    \n",
    "    i=0\n",
    "    for cord in variant_map:\n",
    "        scores[cord[0],cord[1]]=prediction[i]\n",
    "        i+=1\n",
    "    \n",
    "    count_pos=np.zeros((len(WT),4),dtype=float)\n",
    "    \n",
    "    pseudomode_value_class=np.empty(len(WT),dtype=float)\n",
    "    pseudomode_value_class[:]=np.nan\n",
    "    percentage=np.zeros((len(WT),2),dtype=float)\n",
    "        \n",
    "    for i in range(len(pseudomode_value_class)):\n",
    "        count=0\n",
    "        for j in range(scores.shape[1]):\n",
    "            if np.isnan(scores[i,j])!=True:\n",
    "                count+=1\n",
    "        if count>0:\n",
    "            for j in range(scores.shape[1]):\n",
    "                    if np.isnan(scores[i,j])!=True:\n",
    "                        count_pos[i,int(scores[i,j])]+=1\n",
    "            count_pos=count_pos/count\n",
    "            if np.any(count_pos[i,:]>=0.50):\n",
    "                pseudomode_value_class[i]=np.argmax(count_pos[i,:])\n",
    "                percentage[i,0]=count_pos[i,1]\n",
    "                #print(i, count_pos[i,:],np.max(count_pos[i,:]),np.argmax(count_pos[i,:]),pseudomode_value_class[i])\n",
    "\n",
    "\n",
    "            else:                \n",
    "                pseudomode_value_class[i]=5\n",
    "                percentage[i,0]=count_pos[i,1]\n",
    "                #print(i, count_pos[i,:],np.max(count_pos[i,:]),np.argmax(count_pos[i,:]),'else',pseudomode_value_class[i])\n",
    "                ## 5 indicates mixed signal with no predominat mutation class\n",
    "            \n",
    "            percentage[i,1]=count\n",
    "    \n",
    "    #mode_value_class, counts_mode=sp.stats.mode(scores,axis=1,nan_policy='omit')\n",
    "    \n",
    "    return pseudomode_value_class,percentage"
   ]
  },
  {
   "cell_type": "code",
   "execution_count": 21,
   "id": "bfe1e813-b597-4214-8652-f04c22d1338f",
   "metadata": {},
   "outputs": [],
   "source": [
    "def print_chimera_x_attribute_file(attribute_check,attribute,file,model_id='#1',chain_id='/A',argument='cbyvalue'):\n",
    "    file=open(file,\"w+\")\n",
    "    file.write('%s\\n%s\\n%s\\n%s\\n' % ('#','#  Use this file to assign the attribute in Chimera with the','#  Define Attribute tool or the command defattr','#'))\n",
    "    file.write('%s%s\\n%s\\n%s\\n' % ( 'attribute: ',argument,'match mode: 1-to-1', 'recipient: residues') )\n",
    "    for i in range(len(attribute_check)):\n",
    "        if np.isnan(attribute_check[i])==True or attribute_check[i]==-99999:\n",
    "            pass\n",
    "        else:\n",
    "            file.write(\"\\t%s%s%s%d\\t%f\\n\" % (str(model_id),str(chain_id),':',i+1,attribute[i]))\n",
    "    file.close()"
   ]
  },
  {
   "cell_type": "code",
   "execution_count": 22,
   "id": "70214a83-c4e2-4e3f-b607-22997d65e72c",
   "metadata": {},
   "outputs": [],
   "source": [
    "def plot_attributes(pos,pred,variant_map,gemme,rosetta,wcn,gemme_n,rosetta_n):\n",
    "    \n",
    "    label_position=np.empty(20,dtype=float)\n",
    "    label_position[:]=np.nan\n",
    "    \n",
    "    i=0\n",
    "    for cord in variant_map:\n",
    "        if cord[0]==pos:\n",
    "            label_position[cord[1]]=prediction[i]\n",
    "        i+=1\n",
    "    \n",
    "    fig,(ax1,ax2,ax3,ax4,ax5,ax6)=plt.subplots(1,6,figsize=(9,4),gridspec_kw={\"width_ratios\" : [7,1,1,1,1,1], \"wspace\" : 0.4})\n",
    "    cdict = {1: 'blue', 0: 'red'}\n",
    "    glabel={1.0:'SBI',0.0:'non-SBI'}\n",
    "    for g in np.unique(label_position):\n",
    "        if np.isnan(g)!=True:\n",
    "            ix = np.where(label_position == g)\n",
    "            ax1.scatter(rosetta[pos,ix],gemme[pos,ix],c=cdict[g], label=[glabel[g]])\n",
    "    \n",
    "    ax2.bar(x=0.5,height=wcn[pos])\n",
    "    ax3.bar(x=0.5,height=np.mean(gemme[pos,:][~np.isnan(gemme[pos,:])]))\n",
    "    ax4.bar(x=0.5,height=np.mean(rosetta[pos,:][~np.isnan(rosetta[pos,:])]))   \n",
    "    ax5.bar(x=0.5,height=gemme_n[pos])\n",
    "    ax6.bar(x=0.5,height=rosetta_n[pos])\n",
    "    \n",
    "    \n",
    "    ax1.set_title('variants classification')\n",
    "    ax2.set_title('WCN')\n",
    "    ax3.set_title(r'$\\bar{G}$')\n",
    "    ax4.set_title(r'$\\bar{r}$')\n",
    "    ax5.set_title(r'G_n')\n",
    "    ax6.set_title(r'r_n')\n",
    "    \n",
    "    ax1.set_xlabel('rosetta_score',fontsize=13)\n",
    "    ax1.set_ylabel('GEMME score',fontsize=13)\n",
    "    ax1.set_xlim(6,-1)\n",
    "    ax1.set_ylim(-7,1)\n",
    "    ax2.set_ylim(0,15)\n",
    "    ax3.set_ylim(0,-8)\n",
    "    ax4.set_ylim(0,6)\n",
    "    ax5.set_ylim(0,-8)\n",
    "    ax6.set_ylim(0,6)\n",
    "    \n",
    "    \n",
    "    ax2.set_xticks([],[])\n",
    "    ax3.set_xticks([],[])\n",
    "    ax4.set_xticks([],[])\n",
    "    ax5.set_xticks([],[])\n",
    "    ax6.set_xticks([],[])\n",
    "    ax2.set_xlim(0.1,0.9)\n",
    "    \n",
    "    \n",
    "    \n",
    "    ax1.legend()"
   ]
  },
  {
   "cell_type": "code",
   "execution_count": 23,
   "id": "3acadab0-f313-4772-a518-b6b14e7a99ee",
   "metadata": {},
   "outputs": [],
   "source": [
    "def results_plot(MCC,AUC,name_models):\n",
    "    \n",
    "    fig,(ax1,ax2,ax3)=plt.subplots(1,3,figsize=(14,4))\n",
    "    \n",
    "    cdict = {1: '#355070', 2: '#6D597A',2:'#B56576',3 :'#a4d600',4:'#a47f4b',5:'#EAAC8B',6:'#4a944f',7:\"#F95738\"}\n",
    "    for g in range(0,7):\n",
    "        ax1.scatter(AUC[g,1],AUC[g,0],c=cdict[g+1])\n",
    "    ax1.plot([0, 1], [0, 1], transform=ax1.transAxes,ls=':')\n",
    "    ax1.set_xlabel('FPR',fontsize=13)\n",
    "    ax1.set_ylabel('TPR',fontsize=13)\n",
    "    \n",
    "    for g in range(0,7):\n",
    "        ax2.scatter(MCC[g,0],MCC[g,1],c=cdict[g+1], label=g+1)\n",
    "    #ax2.scatter(MCC[:,0],MCC[:,1],c=color_class)\n",
    "    \n",
    "    ax2.set_xlabel('Precision',fontsize=13)\n",
    "    ax2.set_ylabel('Recall',fontsize=13)\n",
    "    ax2.legend(loc='lower right')\n",
    "    \n",
    "    cbar=[cdict[i] for i in range(1,8)]\n",
    "    ax3.bar(name_models,MCC[:,2],color=cbar)\n",
    "    ax3.set_ylabel('MCC',fontsize=13)\n"
   ]
  },
  {
   "cell_type": "code",
   "execution_count": 24,
   "id": "6285383a-cb9b-4244-a374-c5c2651383a2",
   "metadata": {},
   "outputs": [],
   "source": [
    "def print_percentage_prediction(pred,mode_pred,WT,WT_ros):\n",
    "    effective_pos=0\n",
    "    for i in range(len(WT)):\n",
    "        if WT[i]==WT_ros[i]:\n",
    "            effective_pos+=1\n",
    "    count_SBI=0\n",
    "    for i in pred:\n",
    "        if i ==1:\n",
    "            count_SBI+=1\n",
    "    \n",
    "    print(f' SBI variants: {count_SBI} out of {len(pred)} ({count_SBI/len(pred)*100:.2f}%) ')\n",
    "    \n",
    "    perc_variants=count_SBI/len(pred)*100\n",
    "    \n",
    "    count_SBI=0\n",
    "    for i in mode_pred:\n",
    "        if i==1:\n",
    "            count_SBI+=1\n",
    "    print(f' SBI residues: {count_SBI} out of {effective_pos} ({count_SBI/effective_pos*100:.2f}%) ')\n",
    "    \n",
    "    return [perc_variants, count_SBI/effective_pos*100]"
   ]
  },
  {
   "cell_type": "code",
   "execution_count": 25,
   "id": "998ef755-4860-43b1-84e6-20e277bcf591",
   "metadata": {},
   "outputs": [],
   "source": [
    "def print_numbers_prediction(pred,mode_pred,WT,WT_ros):\n",
    "    effective_pos=0\n",
    "    for i in range(len(WT)):\n",
    "        if WT[i]==WT_ros[i]:\n",
    "            effective_pos+=1\n",
    "    count_SBI=0\n",
    "    for i in pred:\n",
    "        if i ==1:\n",
    "            count_SBI+=1\n",
    "    \n",
    "    variants=count_SBI\n",
    "    \n",
    "    count_SBI=0\n",
    "    for i in mode_pred:\n",
    "        if i==1:\n",
    "            count_SBI+=1\n",
    "    \n",
    "    return [variants, count_SBI]"
   ]
  },
  {
   "cell_type": "code",
   "execution_count": 26,
   "id": "d8341274-94a8-4990-b027-53305bfdb887",
   "metadata": {},
   "outputs": [],
   "source": [
    "def print_numbers_classification(pred,mode_pred):\n",
    "\n",
    "    count_SBI=[0,0,0,0]\n",
    "    for i in pred:\n",
    "            count_SBI[int(i)]+=1\n",
    "    \n",
    "    variants=count_SBI\n",
    "    \n",
    "    count_SBI=[0,0,0,0,0]\n",
    "    for i in mode_pred:\n",
    "        if np.isnan(i)!=True:\n",
    "            if i==5:\n",
    "                count_SBI[4]+=1\n",
    "            else:\n",
    "                count_SBI[int(i)]+=1\n",
    "    \n",
    "    return [variants, count_SBI]"
   ]
  },
  {
   "cell_type": "code",
   "execution_count": 27,
   "id": "17fd9193-0f78-4c0e-8eef-44a763c24d30",
   "metadata": {},
   "outputs": [],
   "source": [
    "def print_catalytic_classification(mode_pred,cat_positions):\n",
    "    cat_pos=[x - 1 for x in cat_positions]\n",
    "    cat_pos=np.array(cat_pos)\n",
    "    count_SBI=[0,0,0,0,0]\n",
    "\n",
    "    for i,n in enumerate(mode_pred):\n",
    "        if np.count_nonzero(cat_pos == i)==1:\n",
    "            if np.isnan(i)!=True:\n",
    "                if int(n)==5:\n",
    "                    count_SBI[4]+=1\n",
    "                else:\n",
    "                    count_SBI[int(n)]+=1\n",
    "    \n",
    "    return  count_SBI"
   ]
  },
  {
   "cell_type": "markdown",
   "id": "852ebc28-88ad-487c-a988-ffdb15c2d212",
   "metadata": {},
   "source": [
    "### setup ML functions"
   ]
  },
  {
   "cell_type": "code",
   "execution_count": 28,
   "id": "e139ede1-4af8-4bae-82de-90828398e3d7",
   "metadata": {},
   "outputs": [],
   "source": [
    "def WCN(pdb_loc,scheme_e,WT):\n",
    "    r0=7.0\n",
    "    pdb=md.load(pdb_loc)\n",
    "    topology=pdb.topology\n",
    "    chainA=topology.select('chainid 0 and protein')\n",
    "    pdb_chain0=pdb.atom_slice(chainA)\n",
    "    pdb_dist,pdb_rp=md.compute_contacts(pdb_chain0,scheme=scheme_e,periodic=False)\n",
    "    \n",
    "    cm= md.geometry.squareform(pdb_dist,pdb_rp)[0]\n",
    "    wcn=np.zeros((len(WT)),dtype=float)\n",
    "    \n",
    "    cm_adj=np.empty((len(WT),len(WT)),dtype=float)\n",
    "    cm_adj[:]=np.nan\n",
    "    chainA_top=pdb_chain0.topology\n",
    "    \n",
    "    for i in range(cm.shape[0]):\n",
    "        for j in range(cm.shape[1]):\n",
    "            if i==0 and j==0:\n",
    "                print(str(chainA_top.residue(i)))\n",
    "            cm_adj[int(str(chainA_top.residue(i))[3:])-1,int(str(chainA_top.residue(j))[3:])-1]=cm[i,j]\n",
    "    for i in range(len(WT)):\n",
    "        nan_flag=True\n",
    "        for j in range(len(WT)):\n",
    "            if np.isnan(cm_adj[i,j])!=True and cm_adj[i,j]!=0.0:\n",
    "                nan_flag=False\n",
    "                wcn[i]+=(1-(cm_adj[i,j]*10/r0)**6)/(1-(cm_adj[i,j]*10/r0)**12)\n",
    "        if nan_flag==True:\n",
    "            wcn[i]=np.nan\n",
    "    return wcn"
   ]
  },
  {
   "cell_type": "code",
   "execution_count": 29,
   "id": "d8011523-6cd3-41fe-957d-328b5bbdc5c0",
   "metadata": {},
   "outputs": [],
   "source": [
    "def neighbor_scores(score,ext_range):\n",
    "    score_neighborhood=np.zeros(len(score),dtype=float)\n",
    "    for i in range(len(score)):\n",
    "        if np.isnan(score[i])!=True:\n",
    "            count_nan=0\n",
    "            if i==0:\n",
    "                for j in range(1,ext_range+1):\n",
    "                    if np.isnan(score[j])==False:\n",
    "                        score_neighborhood[i]+=score[j]\n",
    "                    else:\n",
    "                        count_nan+=1\n",
    "                if count_nan!=ext_range:    \n",
    "                    score_neighborhood[i]/=(ext_range)\n",
    "                else:\n",
    "                    score_neighborhood[i]=np.nan\n",
    "\n",
    "            elif i==(len(score)-1):\n",
    "                for j in range(len(score)-1-ext_range,len(score)-1):\n",
    "                    if np.isnan(score[j])==False:\n",
    "                        score_neighborhood[i]+=score[j]\n",
    "                    else:\n",
    "                        count_nan+=1\n",
    "                if count_nan!=ext_range: \n",
    "                    score_neighborhood[i]/=ext_range\n",
    "                else:\n",
    "                    score_neighborhood[i]=np.nan                \n",
    "            elif i<ext_range:\n",
    "                for j in range(0,i+ext_range+1):\n",
    "                    if j!=i:\n",
    "                        if np.isnan(score[j])==False:\n",
    "                            score_neighborhood[i]+=score[j]\n",
    "                        else:\n",
    "                            count_nan+=1\n",
    "                if count_nan!=(i+ext_range):    \n",
    "                    score_neighborhood[i]/=(i+ext_range)\n",
    "                else:\n",
    "                    score_neighborhood[i]=np.nan                        \n",
    "\n",
    "            elif i>(len(score)-1-ext_range):\n",
    "                for j in range(i-ext_range,len(score)):\n",
    "                    if j!=i:\n",
    "                        if np.isnan(score[j])==False:\n",
    "                            score_neighborhood[i]+=score[j]\n",
    "                        else:\n",
    "                            count_nan+=1\n",
    "                if count_nan!=(len(score)-i+ext_range):                     \n",
    "                    score_neighborhood[i]/=(len(score)-i+ext_range)\n",
    "                else:\n",
    "                    score_neighborhood[i]=np.nan  \n",
    "            else:\n",
    "                for j in range(i-ext_range,i+ext_range+1):\n",
    "                    if j!=i:\n",
    "                        if np.isnan(score[j])==False:\n",
    "                            score_neighborhood[i]+=score[j]\n",
    "                        else:\n",
    "                            count_nan+=1\n",
    "                if count_nan!=(2*ext_range):  \n",
    "                    score_neighborhood[i]/=(2*ext_range)\n",
    "                else:\n",
    "                    score_neighborhood[i]=np.nan             \n",
    "        else:\n",
    "            score_neighborhood[i]=np.nan\n",
    "    return score_neighborhood"
   ]
  },
  {
   "cell_type": "code",
   "execution_count": 30,
   "id": "9ce2789c-0fba-4914-9142-92964d4d2d09",
   "metadata": {},
   "outputs": [],
   "source": [
    "def label_category(output,threshold):\n",
    "    labels=[]\n",
    "    if output.ndim==1:\n",
    "        labels=np.copy(output)\n",
    "        labels[:]=np.nan\n",
    "        for i in range(len(output)):\n",
    "            if output[i]<threshold:\n",
    "                labels[i]=0\n",
    "            else:\n",
    "                labels[i]=1\n",
    "    else:\n",
    "        labels=np.copy(output)\n",
    "        labels[:]=np.nan\n",
    "        for i in range(output.shape[0]):\n",
    "            for j in range(output.shape[1]):\n",
    "                if output[i,j]<threshold:\n",
    "                    labels[i,j]=1\n",
    "                else:\n",
    "                    labels[i,j]=0\n",
    "    return labels"
   ]
  },
  {
   "cell_type": "code",
   "execution_count": 31,
   "id": "ea02e1ef-daad-43e6-994d-4a85f3ff7ab2",
   "metadata": {},
   "outputs": [],
   "source": [
    "def features_classification(list_features_x,list_output_y,WT):\n",
    "    \n",
    "    X=[]\n",
    "    Y=[]\n",
    "    mapping_pos=[] \n",
    "    \n",
    "    for i in range(len(WT)):\n",
    "        for j in range(20):\n",
    "            if j!=(alphabetAA_L_D[WT[i]]-1):\n",
    "                temp_x=[]\n",
    "                temp_y=[]\n",
    "                cond=True\n",
    "\n",
    "                for elem in list_features_x:\n",
    "                    if elem.ndim==1:\n",
    "                        if np.isnan(elem[i])==True:\n",
    "                            cond=False\n",
    "                    else:\n",
    "                        if np.isnan(elem[i,j])==True:\n",
    "                            cond=False    \n",
    "                \n",
    "                for elem in list_output_y:\n",
    "                    if elem.ndim==1:\n",
    "                        if np.isnan(elem[i])==True:\n",
    "                            cond=False\n",
    "                    else:\n",
    "                        if np.isnan(elem[i,j])==True:\n",
    "                            cond=False \n",
    "\n",
    "                if cond==True:\n",
    "                    \n",
    "                    for elem in list_features_x:\n",
    "                        if elem.ndim==1:\n",
    "                            temp_x.append(elem[i])\n",
    "                        else:\n",
    "                            temp_x.append(elem[i,j])\n",
    "\n",
    "                    for elem in list_output_y:\n",
    "                        if elem.ndim==1:\n",
    "                            temp_y.append(elem[i])\n",
    "                        else:\n",
    "                            temp_y.append(elem[i,j])\n",
    "                    \n",
    "                if len(temp_x)>0:\n",
    "                    X.append(temp_x)\n",
    "                    Y.append(temp_y)\n",
    "                    mapping_pos.append([i,j])\n",
    "        \n",
    "    return np.array(X),Y,mapping_pos        "
   ]
  },
  {
   "cell_type": "code",
   "execution_count": 32,
   "id": "3296c953-a42c-4668-bc1e-d59157474b96",
   "metadata": {},
   "outputs": [],
   "source": [
    "def features_classification(list_features_x,list_output_y,WT):\n",
    "    \n",
    "    X=[]\n",
    "    Y=[]\n",
    "    mapping_pos=[] \n",
    "    \n",
    "    for i in range(len(WT)):\n",
    "        for j in range(20):\n",
    "            if j!=(alphabetAA_L_D[WT[i]]-1):\n",
    "                temp_x=[]\n",
    "                temp_y=[]\n",
    "                cond=True\n",
    "\n",
    "                for elem in list_features_x:\n",
    "                    if elem.ndim==1:\n",
    "                        if np.isnan(elem[i])==True:\n",
    "                            cond=False\n",
    "                    else:\n",
    "                        if np.isnan(elem[i,j])==True:\n",
    "                            cond=False    \n",
    "                \n",
    "                for elem in list_output_y:\n",
    "                    if elem.ndim==1:\n",
    "                        if np.isnan(elem[i])==True:\n",
    "                            cond=False\n",
    "                    else:\n",
    "                        if np.isnan(elem[i,j])==True:\n",
    "                            cond=False \n",
    "\n",
    "                if cond==True:\n",
    "                    \n",
    "                    for elem in list_features_x:\n",
    "                        if elem.ndim==1:\n",
    "                            temp_x.append(elem[i])\n",
    "                        else:\n",
    "                            temp_x.append(elem[i,j])\n",
    "\n",
    "                    for elem in list_output_y:\n",
    "                        if elem.ndim==1:\n",
    "                            temp_y.append(elem[i])\n",
    "                        else:\n",
    "                            temp_y.append(elem[i,j])\n",
    "                    \n",
    "                if len(temp_x)>0:\n",
    "                    X.append(temp_x)\n",
    "                    Y.append(temp_y)\n",
    "                    mapping_pos.append([i,j])\n",
    "        \n",
    "    return np.array(X),Y,mapping_pos        "
   ]
  },
  {
   "cell_type": "code",
   "execution_count": 33,
   "id": "cac3b8fa-2a2f-4538-9967-f402986c69bc",
   "metadata": {},
   "outputs": [],
   "source": [
    "def features_validation(list_features_x,WT):\n",
    "    \n",
    "    X=[]\n",
    "    mapping_pos=[] \n",
    "    \n",
    "    for i in range(len(WT)):\n",
    "        for j in range(20):\n",
    "            if j!=(alphabetAA_L_D[WT[i]]-1):\n",
    "                temp_x=[]\n",
    "                temp_y=[]\n",
    "                cond=True\n",
    "\n",
    "                for elem in list_features_x:\n",
    "                    if elem.ndim==1:\n",
    "                        if np.isnan(elem[i])==True:\n",
    "                            cond=False\n",
    "                    else:\n",
    "                        if np.isnan(elem[i,j])==True:\n",
    "                            cond=False    \n",
    "            \n",
    "\n",
    "                if cond==True:\n",
    "                    \n",
    "                    for elem in list_features_x:\n",
    "                        if elem.ndim==1:\n",
    "                            temp_x.append(elem[i])\n",
    "                        else:\n",
    "                            temp_x.append(elem[i,j])\n",
    "                    \n",
    "                if len(temp_x)>0:\n",
    "                    X.append(temp_x)\n",
    "                    mapping_pos.append([i,j])\n",
    "        \n",
    "    return np.array(X),mapping_pos        "
   ]
  },
  {
   "cell_type": "code",
   "execution_count": 34,
   "id": "27fc24ba-319a-40dd-b949-361578177f54",
   "metadata": {},
   "outputs": [],
   "source": [
    "def binary_threshold(data_x,data_y,t_x,t_y):\n",
    "    labels=np.copy(data_x)\n",
    "    labels[:]=np.nan\n",
    "    \n",
    "    for i in range(data_x.shape[0]):\n",
    "        for j in range(data_x.shape[1]):\n",
    "            if np.isnan(data_x[i,j])!= True and np.isnan(data_y[i,j])!=True:\n",
    "                if data_x[i,j] > t_x and data_y[i,j]<t_y:\n",
    "                    labels[i,j]=1\n",
    "                else:\n",
    "                    labels[i,j]=0\n",
    "    \n",
    "    return labels"
   ]
  },
  {
   "cell_type": "code",
   "execution_count": 35,
   "id": "8caa165f-031f-4e29-83bb-a14b073f51e2",
   "metadata": {},
   "outputs": [],
   "source": [
    "def multiclass_threshold(data_x,data_y,t_x,t_y):\n",
    "    labels=np.copy(data_x)\n",
    "    labels[:]=np.nan\n",
    "    \n",
    "    for i in range(data_x.shape[0]):\n",
    "        for j in range(data_x.shape[1]):\n",
    "            if np.isnan(data_x[i,j])!= True and np.isnan(data_y[i,j])!=True:\n",
    "                if data_x[i,j] > t_x and data_y[i,j]<t_y:\n",
    "                    labels[i,j]=1\n",
    "                elif data_x[i,j] < t_x and data_y[i,j]<t_y:\n",
    "                    labels[i,j]=2\n",
    "                elif data_x[i,j] < t_x and data_y[i,j]>t_y:\n",
    "                    labels[i,j]=3\n",
    "                else:\n",
    "                    labels[i,j]=0\n",
    "    \n",
    "    return labels"
   ]
  },
  {
   "cell_type": "code",
   "execution_count": 36,
   "id": "73eb8dda-de39-4a5b-a60f-af1ddceab974",
   "metadata": {
    "tags": []
   },
   "outputs": [],
   "source": [
    "def prob_to_label(probability,thr):\n",
    "    labels=np.zeros(probability.shape[0],dtype=int)\n",
    "    for i in range(probability.shape[0]):\n",
    "        if probability[i][1]>thr:\n",
    "            labels[i]=1\n",
    "            #print(1)\n",
    "        else:\n",
    "            labels[i]=0\n",
    "            #print(0)\n",
    "    return labels"
   ]
  },
  {
   "cell_type": "code",
   "execution_count": 69,
   "id": "e2c2d84a-f670-47f1-9e5b-20d153867ab2",
   "metadata": {
    "tags": []
   },
   "outputs": [],
   "source": [
    "def modify_dssp(protein,dssp_data,sequence,pdb_chain='A'):\n",
    "\n",
    "    \"\"\"\n",
    "    Read the dictionary output from Biopython function Bio.PDB.DSSP.make_dssp_dict,\n",
    "    and put relevant DSSP data (i.e. the secondary structure and  ASA) into a DataFrame.\n",
    "    Remove data for residues that do not occur in the UniProt sequences of the proteins (e.g.\n",
    "    residues added or mutated for experimental/purification reasons).\n",
    "    \"\"\"\n",
    "\n",
    "    # get relevant data from make_dssp_dict dictionary\n",
    "    dssp_dict = {}\n",
    "    for res in list(dssp_data[0].keys()):\n",
    "        if res[0] == pdb_chain: # select only from specified chain\n",
    "            dssp_dict[res[1][1]] = list(dssp_data[0][res][0:3]) # extract only SS and ASA\n",
    "\n",
    "    # create DataFrame with the selected DSSP output\n",
    "    df_dssp_raw = pd.DataFrame.from_dict(dssp_dict,orient='index',columns=['PDB_res','ss','ASA',])\n",
    "\n",
    "    # create DataFrame with UniProt sequence data\n",
    "    uniprot_seq = dict(zip(range(1,len(sequence)+1),sequence))\n",
    "    df_seq = pd.DataFrame.from_dict(uniprot_seq,orient='index',columns=['Sequence'])\n",
    "\n",
    "    # remove data for residues (residue indices) not present in UniProt sequences\n",
    "    for i in np.array(df_dssp_raw.index):\n",
    "        if i not in np.array(df_seq.index):\n",
    "            print(str(i)+str(df_dssp_raw.loc[i][0])+' will be removed')\n",
    "            df_dssp_raw.drop([i],inplace=True)\n",
    "\n",
    "    # remove data for residues not matching the residues in the UniProt sequence (within the sequence)\n",
    "    if np.all(df_dssp_raw['PDB_res'] == df_seq['Sequence'].loc[df_dssp_raw['PDB_res'].index]):\n",
    "        df_dssp_final = pd.concat([df_seq,df_dssp_raw],axis=1)\n",
    "    else:\n",
    "        mismatch = list(df_dssp_raw['PDB_res'][df_dssp_raw['PDB_res'] !=\n",
    "                                               df_seq['Sequence'].loc[df_dssp_raw['PDB_res'].index]].index)\n",
    "        print(mismatch)\n",
    "        print('Sequences do not match, residue(s) {} will be removed'.format(str(mismatch)))\n",
    "        df_dssp_raw.drop(mismatch,inplace=True)\n",
    "        df_dssp_final = pd.concat([df_seq,df_dssp_raw],axis=1)\n",
    "\n",
    "    # add relative ASA to final DataFrame\n",
    "\n",
    "    # maxASA from doi:10.1371/journal.pone.0080635\n",
    "    maxASA = {'A':129.0, 'R':274.0, 'N':195.0, 'D':193.0, 'C':167.0, 'E':223.0, 'Q':225.0, 'G':104.0,\n",
    "              'H':224.0, 'I':197.0, 'L':201.0, 'K':236.0, 'M':224.0, 'F':240.0, 'P':159.0, 'S':155.0,\n",
    "              'T':172.0, 'W':285.0, 'Y':263.0, 'V':174.0}\n",
    "\n",
    "    # calculate and add rASAs to df_dssp_final\n",
    "    rASA_list = []\n",
    "    for i in df_dssp_final.index:\n",
    "        res_type = df_dssp_final['Sequence'].loc[i]\n",
    "        rASA = (df_dssp_final['ASA'].loc[i])/(maxASA[res_type])\n",
    "        rASA_list.append(rASA)\n",
    "    df_dssp_final['rASA'] = rASA_list\n",
    "\n",
    "    return df_dssp_final\n",
    "            "
   ]
  },
  {
   "cell_type": "markdown",
   "id": "3f3f27fc-6c1a-4ae0-ba7d-ba849dbedd81",
   "metadata": {
    "tags": [],
    "toc-hr-collapsed": true
   },
   "source": [
    "## Load trained model"
   ]
  },
  {
   "cell_type": "code",
   "execution_count": 37,
   "id": "10634937-e750-4cd9-bba0-12988186a923",
   "metadata": {
    "tags": []
   },
   "outputs": [],
   "source": [
    "cat=CatBoostClassifier(iterations=2500, random_strength= 1, depth= 7, l2_leaf_reg= 9, bagging_temperature= 2,verbose=0,class_weights={0:1,1:2,2:1,3:0.1})"
   ]
  },
  {
   "cell_type": "code",
   "execution_count": 38,
   "id": "cfb399a8-3c42-41e1-8d3e-9289fdc65957",
   "metadata": {
    "tags": []
   },
   "outputs": [
    {
     "data": {
      "text/plain": [
       "<catboost.core.CatBoostClassifier at 0x7fd1f034af50>"
      ]
     },
     "execution_count": 38,
     "metadata": {},
     "output_type": "execute_result"
    }
   ],
   "source": [
    "cat.load_model('../catboost_model/cat_trained_24jun22.cbm')"
   ]
  },
  {
   "cell_type": "markdown",
   "id": "55d7164c-9473-47e0-8663-2b121187c19d",
   "metadata": {
    "tags": [],
    "toc-hr-collapsed": false
   },
   "source": [
    "## Load validation dataset"
   ]
  },
  {
   "cell_type": "code",
   "execution_count": 39,
   "id": "a3315f10-fdc8-4261-9f41-9bf6d3332e8a",
   "metadata": {
    "tags": []
   },
   "outputs": [],
   "source": [
    "P0A7E3_WT_sequence=\"MKPYQRQFIEFALSKQVLKFGEFTLKSGRKSPYFFNAGLFNTGRDLALLGRFYAEALVDSGIEFDLLFGPAYKGIPIATTTAVALAEHHDLDLPYCFNRKEAKDHGEGGNLVGSALQGRVMLVDDVITAGTAIRESMEIIQANGATLAGVLISLDRQERGRGEISAIQEVERDYNCKVISIITLKDLIAYLEEKPEMAEHLAAVKAYREEFGV\"\n",
    "P0A7E3_WT_seq_rose=\"MKPYQRQFIEFALSKQVLKFGEFTLKSGRKSPYFFNAGLFNTGRDLALLGRFYAEALVDSGIEFDLLFGPAYKGIPIATTTAVALAEHHDLDLPYCFNRKEAKDHGEGGNLVGSALQGRVMLVDDVITAGTAIRESMEIIQANGATLAGVLISLDRQERGRGEISAIQEVERDYNCKVISIITLKDLIAYLEEKPEMAEHLAAVKAYREEFGV\""
   ]
  },
  {
   "cell_type": "code",
   "execution_count": 40,
   "id": "99c7bc1e-e7aa-4f9b-889e-528f1d418c1c",
   "metadata": {
    "tags": []
   },
   "outputs": [
    {
     "name": "stdout",
     "output_type": "stream",
     "text": [
      "213 1.0\n"
     ]
    }
   ],
   "source": [
    "count=0\n",
    "for i in range(len(P0A7E3_WT_sequence)):\n",
    "    if P0A7E3_WT_sequence[i]==P0A7E3_WT_seq_rose[i]:\n",
    "        count+=1\n",
    "print(len(P0A7E3_WT_sequence),count/len(P0A7E3_WT_seq_rose))"
   ]
  },
  {
   "cell_type": "markdown",
   "id": "625f8df5-cfbd-4553-920f-ae787647a9b4",
   "metadata": {},
   "source": [
    "#### P0A7E3 active site"
   ]
  },
  {
   "cell_type": "code",
   "execution_count": 41,
   "id": "91f2a76b-39b2-4d36-8141-7a1683a04cd7",
   "metadata": {
    "tags": []
   },
   "outputs": [],
   "source": [
    "P0A7E3_db_positions=[103,105]"
   ]
  },
  {
   "cell_type": "markdown",
   "id": "7d030100-72d4-46c0-88c6-c811b53b5cb1",
   "metadata": {},
   "source": [
    "#### Co-evolution"
   ]
  },
  {
   "cell_type": "code",
   "execution_count": 43,
   "id": "4bfe0ffa-23fc-42f3-ae77-7a2f4cd89d32",
   "metadata": {
    "tags": []
   },
   "outputs": [],
   "source": [
    "P0A7E3_GEMME=load_data_V2('../scores_GEMME/prism_gemme_P0A7E3.txt',P0A7E3_WT_sequence)\n",
    "P0A7E3_GEMME=remove_WT_score(P0A7E3_GEMME,P0A7E3_WT_sequence)"
   ]
  },
  {
   "cell_type": "code",
   "execution_count": 44,
   "id": "22bb50a2-9241-4d1d-9b8c-2acd579e239a",
   "metadata": {
    "tags": []
   },
   "outputs": [],
   "source": [
    "P0A7E3_GEMME_mean=position_mean(P0A7E3_GEMME)"
   ]
  },
  {
   "cell_type": "markdown",
   "id": "83af2a1f-895d-466a-9d67-a101fb25fd81",
   "metadata": {},
   "source": [
    "####  Rosetta ddG"
   ]
  },
  {
   "cell_type": "code",
   "execution_count": 50,
   "id": "56aebf0f-8a4f-4445-923d-b8ac9b3e93c5",
   "metadata": {
    "tags": []
   },
   "outputs": [],
   "source": [
    "P0A7E3_rosetta_ddg=load_data_V2(\"../scores_rosetta/prism_rosetta_ddg_P0A7E3.txt\",P0A7E3_WT_seq_rose)\n",
    "P0A7E3_rosetta_ddg=remove_WT_score(P0A7E3_rosetta_ddg,P0A7E3_WT_seq_rose)"
   ]
  },
  {
   "cell_type": "code",
   "execution_count": 51,
   "id": "e38003d5-a7ad-4a53-a7f5-b241d94443b4",
   "metadata": {
    "tags": []
   },
   "outputs": [],
   "source": [
    "P0A7E3_rosetta_ddg_norm=normalize_cutoff(P0A7E3_rosetta_ddg,0.0,5.0)"
   ]
  },
  {
   "cell_type": "code",
   "execution_count": 52,
   "id": "83d48771-c81e-4452-85dd-c63778fc55d7",
   "metadata": {
    "tags": []
   },
   "outputs": [],
   "source": [
    "P0A7E3_rosetta_ddg_mean=position_mean(P0A7E3_rosetta_ddg_norm)"
   ]
  },
  {
   "cell_type": "code",
   "execution_count": 54,
   "id": "09c508f5-b7d7-41d9-afa5-a6091deeafd0",
   "metadata": {
    "tags": []
   },
   "outputs": [],
   "source": [
    "P0A7E3_rosetta_dimer_ddg=load_data_V2(\"../scores_rosetta/prism_rosetta_ddg_P0A7E3_dimer.txt\",P0A7E3_WT_seq_rose)\n",
    "P0A7E3_rosetta_dimer_ddg=remove_WT_score(P0A7E3_rosetta_dimer_ddg,P0A7E3_WT_seq_rose)\n",
    "P0A7E3_rosetta_dimer_ddg/=2"
   ]
  },
  {
   "cell_type": "code",
   "execution_count": 55,
   "id": "e860055c-a069-4c92-8eb2-8f5641e4c9cd",
   "metadata": {
    "tags": []
   },
   "outputs": [],
   "source": [
    "P0A7E3_rosetta_dimer_ddg_norm=normalize_cutoff(P0A7E3_rosetta_dimer_ddg,0.0,5.0)"
   ]
  },
  {
   "cell_type": "code",
   "execution_count": 56,
   "id": "5ecb2352-e72a-4b56-adfb-50a599124e08",
   "metadata": {
    "tags": []
   },
   "outputs": [],
   "source": [
    "P0A7E3_rosetta_dimer_ddg_mean=position_mean(P0A7E3_rosetta_dimer_ddg_norm)"
   ]
  },
  {
   "cell_type": "markdown",
   "id": "9e8d9b65-c2bb-4f8f-a49c-4d169ca96a00",
   "metadata": {},
   "source": [
    "#### Hydrophobicity"
   ]
  },
  {
   "cell_type": "code",
   "execution_count": 57,
   "id": "8cc662e5-9cd2-4c96-943e-94ade4382c3b",
   "metadata": {
    "tags": []
   },
   "outputs": [],
   "source": [
    "P0A7E3_hydrophobicity_mut=np.empty((len(P0A7E3_WT_sequence),20),dtype=float)\n",
    "P0A7E3_hydrophobicity_mut[:]=np.nan"
   ]
  },
  {
   "cell_type": "code",
   "execution_count": 58,
   "id": "3f36ee68-8481-44a6-9e1d-c13f98a71f55",
   "metadata": {
    "tags": []
   },
   "outputs": [],
   "source": [
    "for i in range(len(P0A7E3_WT_sequence)):\n",
    "    for j in range(20):\n",
    "        P0A7E3_hydrophobicity_mut[i,j]=AA_to_hydrophobicity_scores[alphabetAA_D_L[j+1]]"
   ]
  },
  {
   "cell_type": "markdown",
   "id": "d27c1b9f-80e4-4704-944e-50a719c0491e",
   "metadata": {},
   "source": [
    "#### WCN"
   ]
  },
  {
   "cell_type": "code",
   "execution_count": 60,
   "id": "88b01232-5d02-4b4f-b2b7-955fb01c5f2e",
   "metadata": {
    "tags": []
   },
   "outputs": [
    {
     "name": "stdout",
     "output_type": "stream",
     "text": [
      "MET1\n"
     ]
    }
   ],
   "source": [
    "P0A7E3_wcn=WCN('../pdbs/P0A7E3_1oro.pdb','ca',P0A7E3_WT_sequence)"
   ]
  },
  {
   "cell_type": "code",
   "execution_count": 61,
   "id": "6df970dd-2d27-4e59-8620-19c10c8138f4",
   "metadata": {
    "tags": []
   },
   "outputs": [
    {
     "name": "stdout",
     "output_type": "stream",
     "text": [
      "MET1\n"
     ]
    }
   ],
   "source": [
    "P0A7E3_wcn_dimer_double=WCN('../pdbs/P0A7E3_1oro_dimer.pdb','ca',P0A7E3_WT_sequence+P0A7E3_WT_sequence)"
   ]
  },
  {
   "cell_type": "code",
   "execution_count": 62,
   "id": "2190b6a5-1659-46df-a758-a69bea4f3c8d",
   "metadata": {
    "tags": []
   },
   "outputs": [],
   "source": [
    "P0A7E3_wcn_dimer=P0A7E3_wcn_dimer_double[0:len(P0A7E3_WT_sequence)]"
   ]
  },
  {
   "cell_type": "markdown",
   "id": "7350fa71-a078-457b-be19-7fb779f39b72",
   "metadata": {},
   "source": [
    "#### Neighbor sequences scores:"
   ]
  },
  {
   "cell_type": "code",
   "execution_count": 63,
   "id": "0b1e7553-d987-464f-81be-7ff38cecfeb7",
   "metadata": {
    "tags": []
   },
   "outputs": [],
   "source": [
    "P0A7E3_rosetta_neigbor_scores=neighbor_scores(P0A7E3_rosetta_ddg_mean,1)\n",
    "\n",
    "P0A7E3_GEMME_neigbor_scores=neighbor_scores(P0A7E3_GEMME_mean,1)\n",
    "\n",
    "P0A7E3_rosetta_dimer_neigbor_scores=neighbor_scores(P0A7E3_rosetta_dimer_ddg_mean,1)"
   ]
  },
  {
   "cell_type": "markdown",
   "id": "c9955f7d-9537-4240-bd53-2acfaf0a36b0",
   "metadata": {
    "toc-hr-collapsed": false
   },
   "source": [
    "## Predictions"
   ]
  },
  {
   "cell_type": "markdown",
   "id": "f351f923-ef9f-440c-8723-eb3efae37f60",
   "metadata": {},
   "source": [
    "### P0A7E3 Validation"
   ]
  },
  {
   "cell_type": "markdown",
   "id": "540e2ef7-72b1-4040-bcc8-22cd8aa343fc",
   "metadata": {},
   "source": [
    "#### monomer"
   ]
  },
  {
   "cell_type": "code",
   "execution_count": 183,
   "id": "0daca4d1-d266-4512-8089-f5580432c94a",
   "metadata": {},
   "outputs": [],
   "source": [
    "P0A7E3_X,P0A7E3_map=features_validation([P0A7E3_GEMME, P0A7E3_rosetta_ddg_norm,P0A7E3_GEMME_mean,P0A7E3_rosetta_ddg_mean,P0A7E3_hydrophobicity_mut,P0A7E3_GEMME_neigbor_scores,P0A7E3_rosetta_neigbor_scores,P0A7E3_wcn],P0A7E3_WT_sequence)"
   ]
  },
  {
   "cell_type": "code",
   "execution_count": 184,
   "id": "919ba205-c199-4e1a-9c96-4b6e94b4cc2a",
   "metadata": {},
   "outputs": [],
   "source": [
    "prediction=cat.predict(P0A7E3_X)"
   ]
  },
  {
   "cell_type": "code",
   "execution_count": 185,
   "id": "c9aac209-a28d-43ff-8fb1-40ce5cb9203a",
   "metadata": {},
   "outputs": [],
   "source": [
    "P0A7E3_variant_pred=np.empty((len(P0A7E3_WT_sequence),20),dtype=float)\n",
    "P0A7E3_variant_pred[:]=np.nan\n",
    "\n",
    "for i,(n,m) in enumerate(zip(P0A7E3_map,prediction)):\n",
    "    P0A7E3_variant_pred[n[0],n[1]]=m"
   ]
  },
  {
   "cell_type": "code",
   "execution_count": 186,
   "id": "6896df01-3bee-4f3e-bbf8-840c719a80b2",
   "metadata": {},
   "outputs": [],
   "source": [
    "P0A7E3_3mode_prediction,percentage=retrieve_residue_label_pred(prediction,P0A7E3_map,P0A7E3_WT_sequence,0.5)"
   ]
  },
  {
   "cell_type": "code",
   "execution_count": 215,
   "id": "77bbcbc4-5ffd-4e39-8ba3-722e8cf3e30b",
   "metadata": {},
   "outputs": [],
   "source": [
    "print_chimera_x_attribute_file(P0A7E3_3mode_prediction,P0A7E3_3mode_prediction,'./outputs/P0A7E3_chimerax_monomer_fm_predictions.defattr',model_id='#1',chain_id='/A',argument='monomer_classes')"
   ]
  },
  {
   "cell_type": "markdown",
   "id": "3c9f0a12-78dc-47fb-9762-0767ede71497",
   "metadata": {},
   "source": [
    "#### dimer"
   ]
  },
  {
   "cell_type": "code",
   "execution_count": 187,
   "id": "899662d2-5824-424a-aa92-330a26ebce76",
   "metadata": {},
   "outputs": [],
   "source": [
    "P0A7E3_X,P0A7E3_map=features_validation([P0A7E3_GEMME, P0A7E3_rosetta_dimer_ddg_norm,P0A7E3_GEMME_mean,P0A7E3_rosetta_dimer_ddg_mean,P0A7E3_hydrophobicity_mut,P0A7E3_GEMME_neigbor_scores,P0A7E3_rosetta_dimer_neigbor_scores,P0A7E3_wcn_dimer],P0A7E3_WT_sequence)"
   ]
  },
  {
   "cell_type": "code",
   "execution_count": 188,
   "id": "74b4cb31-db16-46d4-8715-69c4af25a94c",
   "metadata": {},
   "outputs": [],
   "source": [
    "prediction=cat.predict(P0A7E3_X)"
   ]
  },
  {
   "cell_type": "code",
   "execution_count": 189,
   "id": "efe30c08-ec55-4475-be4b-b0c2f26fa22d",
   "metadata": {},
   "outputs": [],
   "source": [
    "P0A7E3_variant_dimer_pred=np.empty((len(P0A7E3_WT_sequence),20),dtype=float)\n",
    "P0A7E3_variant_dimer_pred[:]=np.nan\n",
    "\n",
    "for i,(n,m) in enumerate(zip(P0A7E3_map,prediction)):\n",
    "    P0A7E3_variant_dimer_pred[n[0],n[1]]=m"
   ]
  },
  {
   "cell_type": "code",
   "execution_count": 190,
   "id": "b5404b67-a564-439b-89d7-438a91c5ace7",
   "metadata": {},
   "outputs": [],
   "source": [
    "P0A7E3_3mode_dimer_prediction,percentage=retrieve_residue_label_pred(prediction,P0A7E3_map,P0A7E3_WT_sequence,0.5)"
   ]
  },
  {
   "cell_type": "code",
   "execution_count": 214,
   "id": "353dc6d8-ba24-4b86-9d95-4bcbbf6f2550",
   "metadata": {},
   "outputs": [],
   "source": [
    "print_chimera_x_attribute_file(P0A7E3_3mode_dimer_prediction,P0A7E3_3mode_dimer_prediction,'./outputs/P0A7E3_chimerax_dimer_fm_predictions.defattr',model_id='#1',chain_id='/A',argument='dimer_classes')"
   ]
  },
  {
   "cell_type": "markdown",
   "id": "80b7e109-b4fe-47f7-b4d8-c5cdb4ac62d0",
   "metadata": {
    "tags": []
   },
   "source": [
    "## DSSP"
   ]
  },
  {
   "cell_type": "code",
   "execution_count": 70,
   "id": "54ca0ad7-f10e-466f-99a4-45ea0e3c3c92",
   "metadata": {
    "tags": []
   },
   "outputs": [],
   "source": [
    "monomer_dssp_dict=make_dssp_dict('../scores_dssp/P0A7E3_1oro_monomer.dssp')"
   ]
  },
  {
   "cell_type": "code",
   "execution_count": 71,
   "id": "6e8ac2ac-e00c-46bf-bc00-7fb67bf72ad6",
   "metadata": {
    "tags": []
   },
   "outputs": [],
   "source": [
    "dimer_dssp_dict=make_dssp_dict('../scores_dssp/P0A7E3_1oro_dimer.dssp')"
   ]
  },
  {
   "cell_type": "code",
   "execution_count": 72,
   "id": "2bfc84e7-7121-4369-937c-d5798a28ef37",
   "metadata": {
    "tags": []
   },
   "outputs": [],
   "source": [
    "P0A7E3_monomer_dssp=modify_dssp('P0A7E3',monomer_dssp_dict,P0A7E3_WT_sequence)"
   ]
  },
  {
   "cell_type": "code",
   "execution_count": 73,
   "id": "0d830820-f569-4d72-ad2a-582dc5ea007a",
   "metadata": {
    "tags": []
   },
   "outputs": [
    {
     "data": {
      "text/html": [
       "<div>\n",
       "<style scoped>\n",
       "    .dataframe tbody tr th:only-of-type {\n",
       "        vertical-align: middle;\n",
       "    }\n",
       "\n",
       "    .dataframe tbody tr th {\n",
       "        vertical-align: top;\n",
       "    }\n",
       "\n",
       "    .dataframe thead th {\n",
       "        text-align: right;\n",
       "    }\n",
       "</style>\n",
       "<table border=\"1\" class=\"dataframe\">\n",
       "  <thead>\n",
       "    <tr style=\"text-align: right;\">\n",
       "      <th></th>\n",
       "      <th>Sequence</th>\n",
       "      <th>PDB_res</th>\n",
       "      <th>ss</th>\n",
       "      <th>ASA</th>\n",
       "      <th>rASA</th>\n",
       "    </tr>\n",
       "  </thead>\n",
       "  <tbody>\n",
       "    <tr>\n",
       "      <th>1</th>\n",
       "      <td>M</td>\n",
       "      <td>M</td>\n",
       "      <td>-</td>\n",
       "      <td>67</td>\n",
       "      <td>0.299107</td>\n",
       "    </tr>\n",
       "    <tr>\n",
       "      <th>2</th>\n",
       "      <td>K</td>\n",
       "      <td>K</td>\n",
       "      <td>-</td>\n",
       "      <td>84</td>\n",
       "      <td>0.355932</td>\n",
       "    </tr>\n",
       "    <tr>\n",
       "      <th>3</th>\n",
       "      <td>P</td>\n",
       "      <td>P</td>\n",
       "      <td>H</td>\n",
       "      <td>84</td>\n",
       "      <td>0.528302</td>\n",
       "    </tr>\n",
       "    <tr>\n",
       "      <th>4</th>\n",
       "      <td>Y</td>\n",
       "      <td>Y</td>\n",
       "      <td>H</td>\n",
       "      <td>21</td>\n",
       "      <td>0.079848</td>\n",
       "    </tr>\n",
       "    <tr>\n",
       "      <th>5</th>\n",
       "      <td>Q</td>\n",
       "      <td>Q</td>\n",
       "      <td>H</td>\n",
       "      <td>13</td>\n",
       "      <td>0.057778</td>\n",
       "    </tr>\n",
       "    <tr>\n",
       "      <th>...</th>\n",
       "      <td>...</td>\n",
       "      <td>...</td>\n",
       "      <td>...</td>\n",
       "      <td>...</td>\n",
       "      <td>...</td>\n",
       "    </tr>\n",
       "    <tr>\n",
       "      <th>209</th>\n",
       "      <td>E</td>\n",
       "      <td>E</td>\n",
       "      <td>H</td>\n",
       "      <td>163</td>\n",
       "      <td>0.730942</td>\n",
       "    </tr>\n",
       "    <tr>\n",
       "      <th>210</th>\n",
       "      <td>E</td>\n",
       "      <td>E</td>\n",
       "      <td>H</td>\n",
       "      <td>126</td>\n",
       "      <td>0.565022</td>\n",
       "    </tr>\n",
       "    <tr>\n",
       "      <th>211</th>\n",
       "      <td>F</td>\n",
       "      <td>F</td>\n",
       "      <td>H</td>\n",
       "      <td>26</td>\n",
       "      <td>0.108333</td>\n",
       "    </tr>\n",
       "    <tr>\n",
       "      <th>212</th>\n",
       "      <td>G</td>\n",
       "      <td>G</td>\n",
       "      <td>B</td>\n",
       "      <td>13</td>\n",
       "      <td>0.125000</td>\n",
       "    </tr>\n",
       "    <tr>\n",
       "      <th>213</th>\n",
       "      <td>V</td>\n",
       "      <td>V</td>\n",
       "      <td>-</td>\n",
       "      <td>105</td>\n",
       "      <td>0.603448</td>\n",
       "    </tr>\n",
       "  </tbody>\n",
       "</table>\n",
       "<p>213 rows × 5 columns</p>\n",
       "</div>"
      ],
      "text/plain": [
       "    Sequence PDB_res ss  ASA      rASA\n",
       "1          M       M  -   67  0.299107\n",
       "2          K       K  -   84  0.355932\n",
       "3          P       P  H   84  0.528302\n",
       "4          Y       Y  H   21  0.079848\n",
       "5          Q       Q  H   13  0.057778\n",
       "..       ...     ... ..  ...       ...\n",
       "209        E       E  H  163  0.730942\n",
       "210        E       E  H  126  0.565022\n",
       "211        F       F  H   26  0.108333\n",
       "212        G       G  B   13  0.125000\n",
       "213        V       V  -  105  0.603448\n",
       "\n",
       "[213 rows x 5 columns]"
      ]
     },
     "execution_count": 73,
     "metadata": {},
     "output_type": "execute_result"
    }
   ],
   "source": [
    "P0A7E3_monomer_dssp"
   ]
  },
  {
   "cell_type": "code",
   "execution_count": 74,
   "id": "2ae96e07-88ac-475b-8d31-6cc4381dd422",
   "metadata": {
    "tags": []
   },
   "outputs": [],
   "source": [
    "P0A7E3_dimer_dssp=modify_dssp('P0A7E3',dimer_dssp_dict,P0A7E3_WT_sequence)"
   ]
  },
  {
   "cell_type": "code",
   "execution_count": 75,
   "id": "5cae6231-f1ac-44c1-94fb-fdb3a5c6a1d3",
   "metadata": {
    "tags": []
   },
   "outputs": [
    {
     "data": {
      "text/html": [
       "<div>\n",
       "<style scoped>\n",
       "    .dataframe tbody tr th:only-of-type {\n",
       "        vertical-align: middle;\n",
       "    }\n",
       "\n",
       "    .dataframe tbody tr th {\n",
       "        vertical-align: top;\n",
       "    }\n",
       "\n",
       "    .dataframe thead th {\n",
       "        text-align: right;\n",
       "    }\n",
       "</style>\n",
       "<table border=\"1\" class=\"dataframe\">\n",
       "  <thead>\n",
       "    <tr style=\"text-align: right;\">\n",
       "      <th></th>\n",
       "      <th>Sequence</th>\n",
       "      <th>PDB_res</th>\n",
       "      <th>ss</th>\n",
       "      <th>ASA</th>\n",
       "      <th>rASA</th>\n",
       "    </tr>\n",
       "  </thead>\n",
       "  <tbody>\n",
       "    <tr>\n",
       "      <th>1</th>\n",
       "      <td>M</td>\n",
       "      <td>M</td>\n",
       "      <td>-</td>\n",
       "      <td>67</td>\n",
       "      <td>0.299107</td>\n",
       "    </tr>\n",
       "    <tr>\n",
       "      <th>2</th>\n",
       "      <td>K</td>\n",
       "      <td>K</td>\n",
       "      <td>-</td>\n",
       "      <td>84</td>\n",
       "      <td>0.355932</td>\n",
       "    </tr>\n",
       "    <tr>\n",
       "      <th>3</th>\n",
       "      <td>P</td>\n",
       "      <td>P</td>\n",
       "      <td>H</td>\n",
       "      <td>84</td>\n",
       "      <td>0.528302</td>\n",
       "    </tr>\n",
       "    <tr>\n",
       "      <th>4</th>\n",
       "      <td>Y</td>\n",
       "      <td>Y</td>\n",
       "      <td>H</td>\n",
       "      <td>21</td>\n",
       "      <td>0.079848</td>\n",
       "    </tr>\n",
       "    <tr>\n",
       "      <th>5</th>\n",
       "      <td>Q</td>\n",
       "      <td>Q</td>\n",
       "      <td>H</td>\n",
       "      <td>13</td>\n",
       "      <td>0.057778</td>\n",
       "    </tr>\n",
       "    <tr>\n",
       "      <th>...</th>\n",
       "      <td>...</td>\n",
       "      <td>...</td>\n",
       "      <td>...</td>\n",
       "      <td>...</td>\n",
       "      <td>...</td>\n",
       "    </tr>\n",
       "    <tr>\n",
       "      <th>209</th>\n",
       "      <td>E</td>\n",
       "      <td>E</td>\n",
       "      <td>H</td>\n",
       "      <td>163</td>\n",
       "      <td>0.730942</td>\n",
       "    </tr>\n",
       "    <tr>\n",
       "      <th>210</th>\n",
       "      <td>E</td>\n",
       "      <td>E</td>\n",
       "      <td>H</td>\n",
       "      <td>126</td>\n",
       "      <td>0.565022</td>\n",
       "    </tr>\n",
       "    <tr>\n",
       "      <th>211</th>\n",
       "      <td>F</td>\n",
       "      <td>F</td>\n",
       "      <td>H</td>\n",
       "      <td>26</td>\n",
       "      <td>0.108333</td>\n",
       "    </tr>\n",
       "    <tr>\n",
       "      <th>212</th>\n",
       "      <td>G</td>\n",
       "      <td>G</td>\n",
       "      <td>B</td>\n",
       "      <td>13</td>\n",
       "      <td>0.125000</td>\n",
       "    </tr>\n",
       "    <tr>\n",
       "      <th>213</th>\n",
       "      <td>V</td>\n",
       "      <td>V</td>\n",
       "      <td>-</td>\n",
       "      <td>105</td>\n",
       "      <td>0.603448</td>\n",
       "    </tr>\n",
       "  </tbody>\n",
       "</table>\n",
       "<p>213 rows × 5 columns</p>\n",
       "</div>"
      ],
      "text/plain": [
       "    Sequence PDB_res ss  ASA      rASA\n",
       "1          M       M  -   67  0.299107\n",
       "2          K       K  -   84  0.355932\n",
       "3          P       P  H   84  0.528302\n",
       "4          Y       Y  H   21  0.079848\n",
       "5          Q       Q  H   13  0.057778\n",
       "..       ...     ... ..  ...       ...\n",
       "209        E       E  H  163  0.730942\n",
       "210        E       E  H  126  0.565022\n",
       "211        F       F  H   26  0.108333\n",
       "212        G       G  B   13  0.125000\n",
       "213        V       V  -  105  0.603448\n",
       "\n",
       "[213 rows x 5 columns]"
      ]
     },
     "execution_count": 75,
     "metadata": {},
     "output_type": "execute_result"
    }
   ],
   "source": [
    "P0A7E3_dimer_dssp"
   ]
  },
  {
   "cell_type": "code",
   "execution_count": 76,
   "id": "bb01cb4c-cf00-472e-9ece-737205f70365",
   "metadata": {
    "tags": []
   },
   "outputs": [
    {
     "data": {
      "text/plain": [
       "<BarContainer object of 213 artists>"
      ]
     },
     "execution_count": 76,
     "metadata": {},
     "output_type": "execute_result"
    },
    {
     "data": {
      "image/png": "[encoded data removed]",
      "text/plain": [
       "<Figure size 640x480 with 1 Axes>"
      ]
     },
     "metadata": {},
     "output_type": "display_data"
    }
   ],
   "source": [
    "plt.bar(np.arange(0,len(P0A7E3_dimer_dssp['rASA'].to_numpy().flatten()),1), P0A7E3_dimer_dssp['rASA'].to_numpy().flatten()-P0A7E3_monomer_dssp['rASA'].to_numpy().flatten())"
   ]
  },
  {
   "cell_type": "code",
   "execution_count": null,
   "id": "b1c095a0-7039-4f8f-af11-548a84693a9a",
   "metadata": {},
   "outputs": [
    {
     "name": "stdout",
     "output_type": "stream",
     "text": [
      "41, 42, 43, 44, 46, 47, 72, 75, 76, 79, 82, 83, 86, 87, 92, 94, 95, 97, 99, 105, 113, 114, "
     ]
    }
   ],
   "source": [
    "P0A7E3_residue_at_interface=[]\n",
    "P0A7E3_residue_at_interface_str=''\n",
    "for i,n in enumerate(P0A7E3_dimer_dssp['rASA'].to_numpy().flatten()-P0A7E3_monomer_dssp['rASA'].to_numpy().flatten()):\n",
    "    if np.abs(n) >0.1:\n",
    "        print(str(i+1)+', ',end='')\n",
    "        P0A7E3_residue_at_interface.append(i)\n",
    "        P0A7E3_residue_at_interface_str+=(str(i)+' ')"
   ]
  },
  {
   "cell_type": "code",
   "execution_count": null,
   "id": "21badff6-97b8-4ca4-80b9-a3ce19617c28",
   "metadata": {},
   "outputs": [],
   "source": [
    "P0A7E3_residue_at_interface_binary=np.zeros(len(P0A7E3_WT_sequence),dtype=int)\n",
    "for i in P0A7E3_residue_at_interface:\n",
    "    P0A7E3_residue_at_interface_binary[i]=1"
   ]
  },
  {
   "cell_type": "code",
   "execution_count": null,
   "id": "325a71c8-184a-4287-a21c-df8b2c034a34",
   "metadata": {},
   "outputs": [
    {
     "data": {
      "text/plain": [
       "'40 41 42 43 45 46 71 74 75 78 81 82 85 86 91 93 94 96 98 104 112 113 '"
      ]
     },
     "execution_count": 209,
     "metadata": {},
     "output_type": "execute_result"
    }
   ],
   "source": [
    "P0A7E3_residue_at_interface_str"
   ]
  },
  {
   "cell_type": "code",
   "execution_count": null,
   "id": "281faf05-d17d-4b74-9954-2d2ff7f6da1b",
   "metadata": {},
   "outputs": [
    {
     "data": {
      "image/png": "[encoded data removed]",
      "text/plain": [
       "<Figure size 1440x216 with 3 Axes>"
      ]
     },
     "metadata": {
      "needs_background": "light"
     },
     "output_type": "display_data"
    }
   ],
   "source": [
    "# Comparison with experimental MAVE residue colour classification\n",
    "fig, ((ax1),(ax2),(ax3)) = plt.subplots(3,1,figsize=(20,3))\n",
    "\n",
    "ax1.imshow(np.transpose(P0A7E3_residue_at_interface_binary.reshape(-1,1)),aspect= 'auto', cmap=mpl.colors.ListedColormap([\"white\", \"black\"]))\n",
    "ax1.set_yticks([])\n",
    "ax1.set_xticks([])\n",
    "plt.xlim(0-0.5,len(P0A7E3_WT_sequence)-0.5)\n",
    "\n",
    "ax2.imshow(np.transpose(P0A7E3_3mode_prediction.reshape(-1,1)),aspect= 'auto', cmap=mpl.colors.ListedColormap([\"#009e74\", \"#56b4e9\",\"#d55c00\",'gray','gray']))\n",
    "ax2.set_yticks([])\n",
    "ax2.set_xticks([])\n",
    "plt.xlim(0-0.5,len(P0A7E3_WT_sequence)-0.5)\n",
    "\n",
    "ax3.imshow(np.transpose(P0A7E3_3mode_dimer_prediction.reshape(-1,1)),aspect= 'auto', cmap=mpl.colors.ListedColormap([\"#009e74\", \"#56b4e9\",\"#d55c00\",'gray','gray']))\n",
    "ax3.set_yticks([])\n",
    "ax3.xaxis.set_ticks(np.arange(0, len(P0A7E3_WT_sequence), 20))\n",
    "ax3.set_xticklabels(np.arange(0, len(P0A7E3_WT_sequence), 20),fontsize=20)\n",
    "plt.xlim(0-0.5,len(P0A7E3_WT_sequence)-0.5)\n",
    "\n",
    "#plt.grid(axis='x',which='both',color='gray', linestyle='-')\n",
    "plt.savefig('./Figures/P0A7E3_comparison_monomer_dimer.pdf')"
   ]
  }
 ],
 "metadata": {
  "kernelspec": {
   "display_name": "Python 3 (ipykernel)",
   "language": "python",
   "name": "python3"
  },
  "language_info": {
   "codemirror_mode": {
    "name": "ipython",
    "version": 3
   },
   "file_extension": ".py",
   "mimetype": "text/x-python",
   "name": "python",
   "nbconvert_exporter": "python",
   "pygments_lexer": "ipython3",
   "version": "3.7.16"
  }
 },
 "nbformat": 4,
 "nbformat_minor": 5
}
