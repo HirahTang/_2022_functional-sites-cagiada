{
 "cells": [
  {
   "cell_type": "markdown",
   "id": "b6e06aa1-1fad-43f0-a557-dc18d6cdb79c",
   "metadata": {},
   "source": [
    "# Catboosting SBI classification"
   ]
  },
  {
   "cell_type": "markdown",
   "id": "9dafa62a-0a22-47c8-8ec3-3981463d7010",
   "metadata": {
    "toc-hr-collapsed": true
   },
   "source": [
    "## Libraries, functions and dictionaries"
   ]
  },
  {
   "cell_type": "code",
   "execution_count": 1,
   "id": "0ffb46fb-649a-4a0e-b712-53f976e71880",
   "metadata": {},
   "outputs": [],
   "source": [
    "import sys, os\n",
    "\n",
    "import pandas as pd\n",
    "import numpy as np\n",
    "import scipy as sp\n",
    "import matplotlib as mpl\n",
    "import matplotlib.pyplot as plt\n",
    "import mdtraj as md\n",
    "import random\n",
    "import seaborn as sns\n",
    "import re\n",
    "from sklearn.model_selection import RandomizedSearchCV\n",
    "from sklearn.model_selection import RepeatedStratifiedKFold\n",
    "from sklearn.model_selection import cross_val_score\n",
    "\n",
    "from sklearn.ensemble import RandomForestClassifier\n",
    "from catboost import CatBoostClassifier, Pool\n",
    "from Bio.PDB.DSSP import make_dssp_dict\n",
    "\n",
    "import warnings\n",
    "warnings.filterwarnings('ignore')"
   ]
  },
  {
   "cell_type": "code",
   "execution_count": null,
   "id": "b67fbf95-c762-4aee-be55-4b1259e4bf1e",
   "metadata": {},
   "outputs": [],
   "source": []
  },
  {
   "cell_type": "code",
   "execution_count": 2,
   "id": "e8dd4ebf-9d5e-4676-88b2-a098240774d0",
   "metadata": {},
   "outputs": [],
   "source": [
    "alphabetAA_L_D={'-':0,'_' :0,'A':1,'C':2,'D':3,'E':4,'F':5,'G':6,'H':7,'I':8,'K':9,'L':10,'M':11,'N':12,'P':13,'Q':14,'R':15,'S':16,'T':17,'V':18,'W':19,'Y':20}\n",
    "alphabetAA_D_L={v: k for k, v in alphabetAA_L_D.items()}\n",
    "               \n",
    "alphabetAA_3L_1L={\"Ter\":'*',\"Gap\":'-',\"Ala\":'A',\"Cys\":'C',\"Asp\":'D',\"Glu\":'E',\"Phe\":'F',\"Gly\":'G',\"His\":'H',\"Ile\":'I',\"Lys\":'K',\"Leu\":'L',\"Met\":'M',\"Asn\":'N',\"Pro\":'P',\"Gln\":'Q',\"Arg\":'R',\"Ser\":'S',\"Thr\":'T',\"Val\" :'V',\"Trp\":'W',\"Tyr\":'Y'}\n",
    "alphabetAA_1L_3L={v: k for k,v in alphabetAA_3L_1L.items()}\n",
    "\n",
    "alphabetAA_3L_1LC={\"Ter\":'*',\"Gap\":'-',\"ALA\":'A',\"CYS\":'C',\"ASP\":'D',\"GLU\":'E',\"PHE\":'F',\"GLY\":'G',\"HIS\":'H',\"ILE\":'I',\"LYS\":'K',\"LEU\":'L',\"MET\":'M',\"ASN\":'N',\"PRO\":'P',\"GLN\":'Q',\"ARG\":'R',\"SER\":'S',\"THR\":'T',\"VAL\" :'V',\"TRP\":'W',\"TYR\":'Y'}\n",
    "\n",
    "alphabetAA_to_classes={'A':1,'C':2,'D':3,'E':3,'F':1,'G':4,'H':3,'I':1,'K':3,'L':1,'M':1,'N':2,'P':4,'Q':2,'R':3,'S':2,'T':2,'V':1,'W':1,'Y':1}\n",
    "alphabetclasses_to_AA={v: k for k,v in alphabetAA_to_classes.items()}\n",
    "\n",
    "AA_ddsp_number={'H' :0,'B' : 1,'E' : 2,'G' : 3,'I' : 4,'T' : 5,'S' : 6,' ' : 7}\n",
    "AA_number_ddsp={v: k for k,v in AA_ddsp_number.items()}\n",
    "\n",
    "AA_ddsp_number_simp={'H' :0,'E' : 1,'C' : 2}\n",
    "AA_number_ddsp_simp={v: k for k,v in AA_ddsp_number.items()}\n",
    "\n",
    "AA_to_hydrophobicity_scores={'A':44,'C':50,'D':-37,'E':-12,'F':96,'G':0,'H':-16,'I':100,'K':-30,'L':99,'M':74,'N':-35,'P':-46,'Q':-14,'R':-20,'S':-6,'T':13,'V':78,'W':90,'Y':57}"
   ]
  },
  {
   "cell_type": "markdown",
   "id": "4a6ce6ff-1d48-4e84-9451-ac1550cdffa5",
   "metadata": {},
   "source": [
    "### Load functions"
   ]
  },
  {
   "cell_type": "code",
   "execution_count": 3,
   "id": "12264a6f-927a-4f68-9c88-de6e9939f94d",
   "metadata": {},
   "outputs": [],
   "source": [
    "def remove_WT_score(score,WT_seq):\n",
    "    for i in range(len(WT_seq)):\n",
    "        score[i,alphabetAA_L_D[WT_seq[i]]-1]=np.nan\n",
    "    return score"
   ]
  },
  {
   "cell_type": "code",
   "execution_count": 4,
   "id": "65b59aa4-0015-4aad-834a-17cd1875d287",
   "metadata": {
    "tags": []
   },
   "outputs": [],
   "source": [
    "def load_data_V2(data,wt_seq,start_gap=0,column_score=1):\n",
    "    df=pd.read_csv(data, delim_whitespace=True, comment='#')\n",
    "    mutation_load=np.array(df.iloc[:,0])\n",
    "    score_load=np.array(df.iloc[:,column_score])\n",
    "    scores=np.empty((len(wt_seq),20),dtype=float)\n",
    "    scores[:]=np.nan\n",
    "    for i in range(len(mutation_load)):\n",
    "        if  mutation_load[i][len(mutation_load[i])-1]!= '=' and mutation_load[i][len(mutation_load[i])-1]!= '*' :\n",
    "            scores[int(mutation_load[i][1:len(mutation_load[i])-1])-1+start_gap, alphabetAA_L_D[mutation_load[i][len(mutation_load[i])-1]]-1]= float(score_load[i])\n",
    "    return scores"
   ]
  },
  {
   "cell_type": "markdown",
   "id": "2c4bc758-4aff-4048-97b0-e30ce0c88e38",
   "metadata": {},
   "source": [
    "### General functions"
   ]
  },
  {
   "cell_type": "code",
   "execution_count": 5,
   "id": "3f07f81b-142f-4b6f-925b-71bf5c2bc37b",
   "metadata": {},
   "outputs": [],
   "source": [
    "def normalize_score(scores):\n",
    "    normalized_scores=np.copy(scores)\n",
    "    c_min_act=np.percentile(scores[~np.isnan(scores)],5)\n",
    "    c_max_act=np.percentile(scores[~np.isnan(scores)],95)\n",
    "    for i in range(scores.shape[0]):\n",
    "        for j in range(scores.shape[1]):\n",
    "            normalized_scores[i,j]=(scores[i,j]-c_min_act)/(c_max_act-c_min_act)\n",
    "                                  \n",
    "    return normalized_scores"
   ]
  },
  {
   "cell_type": "code",
   "execution_count": 6,
   "id": "54a307d4-08ed-4df9-9fd7-162e43fe5a5f",
   "metadata": {},
   "outputs": [],
   "source": [
    "def normalize_minmax(scores):\n",
    "    normalized_scores=np.copy(scores)\n",
    "    c_min_act=np.amin(scores[~np.isnan(scores)])\n",
    "    c_max_act=np.amax(scores[~np.isnan(scores)])\n",
    "    for i in range(scores.shape[0]):\n",
    "        for j in range(scores.shape[1]):\n",
    "            normalized_scores[i,j]=(scores[i,j]-c_min_act)/(c_max_act-c_min_act)\n",
    "                                  \n",
    "    return normalized_scores"
   ]
  },
  {
   "cell_type": "code",
   "execution_count": 7,
   "id": "3e851f84-c56f-4082-9fd9-427493f22750",
   "metadata": {},
   "outputs": [],
   "source": [
    "def normalize_fermi(scores):\n",
    "    normalized_scores=np.copy(scores)\n",
    "    for i in range(scores.shape[0]):\n",
    "        for j in range(scores.shape[1]):\n",
    "            normalized_scores[i,j]=1/(sp.exp(scores[i,j]-2)+1)                 \n",
    "    return normalized_scores"
   ]
  },
  {
   "cell_type": "code",
   "execution_count": 8,
   "id": "a9f3fef3-af6d-4d6e-9133-33cae73525e9",
   "metadata": {},
   "outputs": [],
   "source": [
    "def normalize_cutoff(scores,lowcut,highcut):\n",
    "    normalized_scores=np.copy(scores)\n",
    "    for i in range(scores.shape[0]):\n",
    "        for j in range(scores.shape[1]):\n",
    "            if scores[i,j] < lowcut:\n",
    "                normalized_scores[i,j]=lowcut\n",
    "            elif scores[i,j] > highcut:\n",
    "                normalized_scores[i,j]=highcut\n",
    "            else:\n",
    "                normalized_scores[i,j]=scores[i,j]\n",
    "    return normalized_scores"
   ]
  },
  {
   "cell_type": "code",
   "execution_count": 9,
   "id": "7cfaeb43-660d-436f-88e7-68091a1bc388",
   "metadata": {},
   "outputs": [],
   "source": [
    "def position_mean(score):\n",
    "    score_mean=np.zeros(score.shape[0],dtype=float)\n",
    "    for i in range(score.shape[0]):\n",
    "        count=0\n",
    "        flag_nan=True\n",
    "        for j in range(score.shape[1]):\n",
    "            if np.isnan(score[i,j])==False:\n",
    "                flag_nan=False\n",
    "                score_mean[i]+=score[i,j]\n",
    "                count+=1\n",
    "            else:\n",
    "                pass\n",
    "        if flag_nan==True:\n",
    "            score_mean[i]=np.nan\n",
    "        score_mean[i]/=count\n",
    "        \n",
    "    return score_mean"
   ]
  },
  {
   "cell_type": "code",
   "execution_count": 10,
   "id": "fd4e0826-72be-4e50-83f4-da49858c9f9c",
   "metadata": {},
   "outputs": [],
   "source": [
    "def score_histogram(score,nbin,color,label_x,norm_bool,thr):\n",
    "\n",
    "    counts, bins = np.histogram(score[~np.isnan(score)],bins=nbin)\n",
    "    if norm_bool=='Density':\n",
    "        n, bins, patches = plt.hist(score[~np.isnan(score)], bins=nbin, facecolor=color, alpha=0.7,edgecolor=\"black\",density=True)\n",
    "        plt.ylabel('Normalized counts',fontsize=20)\n",
    "    elif norm_bool=='True':\n",
    "        \n",
    "        norm= counts / np.linalg.norm(counts)\n",
    "        plt.hist(bins[:-1], bins, weights=norm, facecolor=color, alpha=0.7,edgecolor=\"black\")\n",
    "        plt.ylabel('Normalized counts',fontsize=20)\n",
    "    else:\n",
    "        n, bins, patches = plt.hist(score[~np.isnan(score)], bins=nbin, facecolor=color,edgecolor=\"black\")\n",
    "        plt.ylabel('Counts',fontsize=20)\n",
    "\n",
    "    plt.xlabel(label_x,fontsize=20)\n",
    "    plt.xticks(fontsize=18)\n",
    "    plt.grid(axis=\"y\",alpha=0.4,linestyle='--')\n",
    "    sum_unstable=0\n",
    "    for i in range(len(bins)-1):\n",
    "        if bins[i+1] < thr:\n",
    "            sum_unstable+=counts[i]\n",
    "    print('Wt-like variants:',np.sum(counts)-sum_unstable, ' (', (np.sum(counts)-sum_unstable)/np.sum(counts) ,')')\n",
    "    \n",
    "    #plt.show()"
   ]
  },
  {
   "cell_type": "code",
   "execution_count": 11,
   "id": "e91ff747-a1e4-44de-85ae-238b55abca10",
   "metadata": {},
   "outputs": [],
   "source": [
    "def heatmap_IBS(prediction,variant_map,WT):\n",
    "    scores=np.empty((len(WT),20),dtype=float)\n",
    "    scores[:]=np.nan\n",
    "    \n",
    "    i=0\n",
    "    for cord in variant_map:\n",
    "        scores[cord[0],cord[1]]=prediction[i]\n",
    "        i+=1\n",
    "\n",
    "    fig, ax = plt.subplots(figsize=(16,6))\n",
    "    ylabels=[ alphabetAA_D_L[i] for i in range(1,21)]\n",
    "    \n",
    "    ax.imshow(np.transpose(scores), aspect = 'auto', cmap=mpl.colors.ListedColormap([\"white\",\"#56b4e9\"]))\n",
    "\n",
    "    ax.set_yticks([i for i in range(0,20)])\n",
    "    ax.set_yticklabels(ylabels,fontsize=15)\n",
    "    ax.tick_params(axis='x', which='major', labelsize=15)\n",
    "        \n",
    "    tmp=np.empty((len(WT),20),dtype=float)\n",
    "    tmp[:]=np.inf\n",
    "    for i in range(0,len(WT)):\n",
    "        tmp[i,alphabetAA_L_D[WT[i]]-1]=1\n",
    "    plt.imshow(tmp.T, cmap='Accent', aspect = 'auto')\n",
    "    \n",
    "    plt.grid(axis='both',which='both',alpha=0.4)\n",
    "    plt.ylabel(\"mutation\",fontsize=16)\n",
    "    plt.xlabel(\"residue\",fontsize=16)\n",
    "\n",
    "    plt.ylim(-0.5,19.5)"
   ]
  },
  {
   "cell_type": "code",
   "execution_count": 12,
   "id": "48c7eb84-f665-4f26-bfbc-5686142ca8ac",
   "metadata": {},
   "outputs": [],
   "source": [
    "def ratio_variants(mave_funct,mave_abd):\n",
    "    ratio=np.copy(mave_funct)\n",
    "    ratio[:]=np.nan\n",
    "    for i in range(ratio.shape[0]):\n",
    "        for j in range(ratio.shape[1]):\n",
    "            if np.isnan(mave_funct[i,j]) or np.isnan(mave_abd[i,j]):\n",
    "                pass\n",
    "            else:\n",
    "                if mave_abd[i,j]==0.0:\n",
    "                    ratio[i,j]=mave_funct[i,j]/0.0000001\n",
    "                else:\n",
    "                    ratio[i,j]=mave_funct[i,j]/mave_abd[i,j]\n",
    "    sig_ratio=np.copy(ratio)\n",
    "    sig_ratio[:]=np.nan\n",
    "    for i in range(ratio.shape[0]):\n",
    "        for j in range(ratio.shape[1]):\n",
    "            if np.isnan(ratio[i,j])!=True:\n",
    "                sig_ratio[i,j]=1/(1+np.exp(-(ratio[i,j]-1)))\n",
    "\n",
    "    return sig_ratio"
   ]
  },
  {
   "cell_type": "code",
   "execution_count": 13,
   "id": "88646438-fc69-4632-9fda-80210cc5da4b",
   "metadata": {},
   "outputs": [],
   "source": [
    "def MCC_test_subset(prediction,test):\n",
    "    TP=0\n",
    "    FP=0\n",
    "    total=0\n",
    "    for i in range(len(prediction)):\n",
    "        if np.isnan(prediction[i])!= True and np.isnan(test[i])!=True:\n",
    "            if prediction[i]==1:\n",
    "                if int(prediction[i])==int(test[i]):\n",
    "                    TP+=1\n",
    "                else:\n",
    "                    FP+=1\n",
    "            if int(test[i])==1:\n",
    "                total+=1\n",
    "    precision=TP/(TP+FP)\n",
    "    recall=TP/total\n",
    "    mcc=np.sqrt(abs(precision*recall))\n",
    "    \n",
    "    return precision,recall,mcc                 "
   ]
  },
  {
   "cell_type": "code",
   "execution_count": 14,
   "id": "c65100c5-43e6-4590-862c-d12cd762b367",
   "metadata": {},
   "outputs": [],
   "source": [
    "def AUC_subset(prediction,test):\n",
    "    TP=0\n",
    "    FP=0\n",
    "    FN=0\n",
    "    TN=0\n",
    "    \n",
    "    for i in range(len(prediction)):\n",
    "        if np.isnan(prediction[i])!= True and np.isnan(test[i])!=True:\n",
    "            if prediction[i]==1:\n",
    "                if int(prediction[i])==int(test[i]):\n",
    "                    TP+=1\n",
    "                else:\n",
    "                    FP+=1\n",
    "            if prediction[i]==0:\n",
    "                if int(prediction[i])==int(test[i]):\n",
    "                    TN+=1\n",
    "                else:\n",
    "                    FN+=1 \n",
    "                    \n",
    "    TPR=TP/(TP+FN)\n",
    "    FPR=FP/(FP+TN)\n",
    "    \n",
    "    return [TPR,FPR]"
   ]
  },
  {
   "cell_type": "code",
   "execution_count": 15,
   "id": "bbbd1f21-1725-4831-b6b0-793bc5f20a05",
   "metadata": {},
   "outputs": [],
   "source": [
    "def retrieve_residue_label_pred_training(prediction,variant_map,WT,percentage_threshold):\n",
    "    scores=np.empty((len(WT),20),dtype=float)\n",
    "    scores[:]=np.nan\n",
    "    \n",
    "    i=0\n",
    "    for cord in variant_map:\n",
    "        scores[cord[0],cord[1]]=prediction[i]\n",
    "        i+=1\n",
    "    pseudomode_value_class=np.empty(len(WT),dtype=float)\n",
    "    pseudomode_value_class[:]=np.nan\n",
    "    percentage_mode=np.zeros((len(WT),2),dtype=float)\n",
    "    \n",
    "    for i in range(len(pseudomode_value_class)):\n",
    "        count=0\n",
    "        for j in range(scores.shape[1]):\n",
    "            if np.isnan(scores[i,j])!=True:\n",
    "                count+=1\n",
    "        if count>0:\n",
    "            count_1=0\n",
    "            for j in range(scores.shape[1]):\n",
    "                if scores[i,j]==1:\n",
    "                    count_1+=1\n",
    "            percentage=count_1/count\n",
    "            \n",
    "            if percentage > percentage_threshold:\n",
    "                pseudomode_value_class[i]=1\n",
    "            else:\n",
    "                pseudomode_value_class[i]=0\n",
    "            \n",
    "            percentage_mode[i,0]=percentage\n",
    "            percentage_mode[i,1]=count\n",
    "    \n",
    "    #mode_value_class, counts_mode=sp.stats.mode(scores,axis=1,nan_policy='omit')\n",
    "    \n",
    "    return pseudomode_value_class,percentage_mode"
   ]
  },
  {
   "cell_type": "code",
   "execution_count": 16,
   "id": "3a9eaac3-11c6-4112-8878-ddb218a52767",
   "metadata": {},
   "outputs": [],
   "source": [
    "def retrieve_residue_label_pred(prediction,variant_map,WT,percentage_threshold):\n",
    "    scores=np.empty((len(WT),20),dtype=float)\n",
    "    scores[:]=np.nan\n",
    "    \n",
    "    i=0\n",
    "    for cord in variant_map:\n",
    "        scores[cord[0],cord[1]]=prediction[i]\n",
    "        i+=1\n",
    "    \n",
    "    count_pos=np.zeros((len(WT),4),dtype=float)\n",
    "    \n",
    "    pseudomode_value_class=np.empty(len(WT),dtype=float)\n",
    "    pseudomode_value_class[:]=np.nan\n",
    "    percentage=np.zeros((len(WT),2),dtype=float)\n",
    "        \n",
    "    for i in range(len(pseudomode_value_class)):\n",
    "        count=0\n",
    "        for j in range(scores.shape[1]):\n",
    "            if np.isnan(scores[i,j])!=True:\n",
    "                count+=1\n",
    "        if count>0:\n",
    "            for j in range(scores.shape[1]):\n",
    "                    if np.isnan(scores[i,j])!=True:\n",
    "                        count_pos[i,int(scores[i,j])]+=1\n",
    "            count_pos=count_pos/count\n",
    "            if np.any(count_pos[i,:]>=0.50):\n",
    "                pseudomode_value_class[i]=np.argmax(count_pos[i,:])\n",
    "                percentage[i,0]=count_pos[i,1]\n",
    "                #print(i, count_pos[i,:],np.max(count_pos[i,:]),np.argmax(count_pos[i,:]),pseudomode_value_class[i])\n",
    "\n",
    "\n",
    "            else:                \n",
    "                pseudomode_value_class[i]=5\n",
    "                percentage[i,0]=count_pos[i,1]\n",
    "                #print(i, count_pos[i,:],np.max(count_pos[i,:]),np.argmax(count_pos[i,:]),'else',pseudomode_value_class[i])\n",
    "                ## 5 indicates mixed signal with no predominat mutation class\n",
    "            \n",
    "            percentage[i,1]=count\n",
    "    \n",
    "    #mode_value_class, counts_mode=sp.stats.mode(scores,axis=1,nan_policy='omit')\n",
    "    \n",
    "    return pseudomode_value_class,percentage"
   ]
  },
  {
   "cell_type": "code",
   "execution_count": 17,
   "id": "cfe82bfe-151a-44b8-b789-0cdcbbef7096",
   "metadata": {},
   "outputs": [],
   "source": [
    "def print_chimera_x_attribute_file(attribute_check,attribute,file,model_id='#1',chain_id='/A',argument='cbyvalue'):\n",
    "    file=open(file,\"w+\")\n",
    "    file.write('%s\\n%s\\n%s\\n%s\\n' % ('#','#  Use this file to assign the attribute in Chimera with the','#  Define Attribute tool or the command defattr','#'))\n",
    "    file.write('%s%s\\n%s\\n%s\\n' % ( 'attribute: ',argument,'match mode: 1-to-1', 'recipient: residues') )\n",
    "    for i in range(len(attribute_check)):\n",
    "        if np.isnan(attribute_check[i])==True or attribute_check[i]==-99999:\n",
    "            pass\n",
    "        else:\n",
    "            file.write(\"\\t%s%s%s%d\\t%f\\n\" % (str(model_id),str(chain_id),':',i+1,attribute[i]))\n",
    "    file.close()"
   ]
  },
  {
   "cell_type": "code",
   "execution_count": 18,
   "id": "e9aa555a-894e-40cd-8427-3b11b9ab577f",
   "metadata": {},
   "outputs": [],
   "source": [
    "def plot_attributes(pos,pred,variant_map,gemme,rosetta,wcn,gemme_n,rosetta_n):\n",
    "    \n",
    "    label_position=np.empty(20,dtype=float)\n",
    "    label_position[:]=np.nan\n",
    "    \n",
    "    i=0\n",
    "    for cord in variant_map:\n",
    "        if cord[0]==pos:\n",
    "            label_position[cord[1]]=prediction[i]\n",
    "        i+=1\n",
    "    \n",
    "    fig,(ax1,ax2,ax3,ax4,ax5,ax6)=plt.subplots(1,6,figsize=(9,4),gridspec_kw={\"width_ratios\" : [7,1,1,1,1,1], \"wspace\" : 0.4})\n",
    "    cdict = {1: 'blue', 0: 'red'}\n",
    "    glabel={1.0:'SBI',0.0:'non-SBI'}\n",
    "    for g in np.unique(label_position):\n",
    "        if np.isnan(g)!=True:\n",
    "            ix = np.where(label_position == g)\n",
    "            ax1.scatter(rosetta[pos,ix],gemme[pos,ix],c=cdict[g], label=[glabel[g]])\n",
    "    \n",
    "    ax2.bar(x=0.5,height=wcn[pos])\n",
    "    ax3.bar(x=0.5,height=np.mean(gemme[pos,:][~np.isnan(gemme[pos,:])]))\n",
    "    ax4.bar(x=0.5,height=np.mean(rosetta[pos,:][~np.isnan(rosetta[pos,:])]))   \n",
    "    ax5.bar(x=0.5,height=gemme_n[pos])\n",
    "    ax6.bar(x=0.5,height=rosetta_n[pos])\n",
    "    \n",
    "    \n",
    "    ax1.set_title('variants classification')\n",
    "    ax2.set_title('WCN')\n",
    "    ax3.set_title(r'$\\bar{G}$')\n",
    "    ax4.set_title(r'$\\bar{r}$')\n",
    "    ax5.set_title(r'G_n')\n",
    "    ax6.set_title(r'r_n')\n",
    "    \n",
    "    ax1.set_xlabel('rosetta_score',fontsize=13)\n",
    "    ax1.set_ylabel('GEMME score',fontsize=13)\n",
    "    ax1.set_xlim(6,-1)\n",
    "    ax1.set_ylim(-7,1)\n",
    "    ax2.set_ylim(0,15)\n",
    "    ax3.set_ylim(0,-8)\n",
    "    ax4.set_ylim(0,6)\n",
    "    ax5.set_ylim(0,-8)\n",
    "    ax6.set_ylim(0,6)\n",
    "    \n",
    "    \n",
    "    ax2.set_xticks([],[])\n",
    "    ax3.set_xticks([],[])\n",
    "    ax4.set_xticks([],[])\n",
    "    ax5.set_xticks([],[])\n",
    "    ax6.set_xticks([],[])\n",
    "    ax2.set_xlim(0.1,0.9)\n",
    "    \n",
    "    \n",
    "    \n",
    "    ax1.legend()"
   ]
  },
  {
   "cell_type": "code",
   "execution_count": 19,
   "id": "199c7bd6-2bac-4c6a-a7e6-da77d688c3fc",
   "metadata": {},
   "outputs": [],
   "source": [
    "def results_plot(MCC,AUC,name_models):\n",
    "    \n",
    "    fig,(ax1,ax2,ax3)=plt.subplots(1,3,figsize=(14,4))\n",
    "    \n",
    "    cdict = {1: '#355070', 2: '#6D597A',2:'#B56576',3 :'#a4d600',4:'#a47f4b',5:'#EAAC8B',6:'#4a944f',7:\"#F95738\"}\n",
    "    for g in range(0,7):\n",
    "        ax1.scatter(AUC[g,1],AUC[g,0],c=cdict[g+1])\n",
    "    ax1.plot([0, 1], [0, 1], transform=ax1.transAxes,ls=':')\n",
    "    ax1.set_xlabel('FPR',fontsize=13)\n",
    "    ax1.set_ylabel('TPR',fontsize=13)\n",
    "    \n",
    "    for g in range(0,7):\n",
    "        ax2.scatter(MCC[g,0],MCC[g,1],c=cdict[g+1], label=g+1)\n",
    "    #ax2.scatter(MCC[:,0],MCC[:,1],c=color_class)\n",
    "    \n",
    "    ax2.set_xlabel('Precision',fontsize=13)\n",
    "    ax2.set_ylabel('Recall',fontsize=13)\n",
    "    ax2.legend(loc='lower right')\n",
    "    \n",
    "    cbar=[cdict[i] for i in range(1,8)]\n",
    "    ax3.bar(name_models,MCC[:,2],color=cbar)\n",
    "    ax3.set_ylabel('MCC',fontsize=13)\n"
   ]
  },
  {
   "cell_type": "code",
   "execution_count": 20,
   "id": "d3893e65-b1d0-4bb5-b390-637bb82dfd3d",
   "metadata": {},
   "outputs": [],
   "source": [
    "def print_percentage_prediction(pred,mode_pred,WT,WT_ros):\n",
    "    effective_pos=0\n",
    "    for i in range(len(WT)):\n",
    "        if WT[i]==WT_ros[i]:\n",
    "            effective_pos+=1\n",
    "    count_SBI=0\n",
    "    for i in pred:\n",
    "        if i ==1:\n",
    "            count_SBI+=1\n",
    "    \n",
    "    print(f' SBI variants: {count_SBI} out of {len(pred)} ({count_SBI/len(pred)*100:.2f}%) ')\n",
    "    \n",
    "    perc_variants=count_SBI/len(pred)*100\n",
    "    \n",
    "    count_SBI=0\n",
    "    for i in mode_pred:\n",
    "        if i==1:\n",
    "            count_SBI+=1\n",
    "    print(f' SBI residues: {count_SBI} out of {effective_pos} ({count_SBI/effective_pos*100:.2f}%) ')\n",
    "    \n",
    "    return [perc_variants, count_SBI/effective_pos*100]"
   ]
  },
  {
   "cell_type": "code",
   "execution_count": 21,
   "id": "ac7e9027-deec-4254-ab60-906d864d3e55",
   "metadata": {},
   "outputs": [],
   "source": [
    "def print_numbers_prediction(pred,mode_pred,WT,WT_ros):\n",
    "    effective_pos=0\n",
    "    for i in range(len(WT)):\n",
    "        if WT[i]==WT_ros[i]:\n",
    "            effective_pos+=1\n",
    "    count_SBI=0\n",
    "    for i in pred:\n",
    "        if i ==1:\n",
    "            count_SBI+=1\n",
    "    \n",
    "    variants=count_SBI\n",
    "    \n",
    "    count_SBI=0\n",
    "    for i in mode_pred:\n",
    "        if i==1:\n",
    "            count_SBI+=1\n",
    "    \n",
    "    return [variants, count_SBI]"
   ]
  },
  {
   "cell_type": "code",
   "execution_count": 22,
   "id": "45639bdc-02a3-4691-9710-58aa5ebe732d",
   "metadata": {},
   "outputs": [],
   "source": [
    "def print_numbers_classification(pred,mode_pred):\n",
    "\n",
    "    count_SBI=[0,0,0,0]\n",
    "    for i in pred:\n",
    "            count_SBI[int(i)]+=1\n",
    "    \n",
    "    variants=count_SBI\n",
    "    \n",
    "    count_SBI=[0,0,0,0,0]\n",
    "    for i in mode_pred:\n",
    "        if np.isnan(i)!=True:\n",
    "            if i==5:\n",
    "                count_SBI[4]+=1\n",
    "            else:\n",
    "                count_SBI[int(i)]+=1\n",
    "    \n",
    "    return [variants, count_SBI]"
   ]
  },
  {
   "cell_type": "code",
   "execution_count": 23,
   "id": "722d1053-2cdb-47c6-accd-a8e4114ddeaa",
   "metadata": {},
   "outputs": [],
   "source": [
    "def print_catalytic_classification(mode_pred,cat_positions):\n",
    "    cat_pos=[x - 1 for x in cat_positions]\n",
    "    cat_pos=np.array(cat_pos)\n",
    "    count_SBI=[0,0,0,0,0]\n",
    "\n",
    "    for i,n in enumerate(mode_pred):\n",
    "        if np.count_nonzero(cat_pos == i)==1:\n",
    "            if np.isnan(i)!=True:\n",
    "                if int(n)==5:\n",
    "                    count_SBI[4]+=1\n",
    "                else:\n",
    "                    count_SBI[int(n)]+=1\n",
    "    \n",
    "    return  count_SBI"
   ]
  },
  {
   "cell_type": "markdown",
   "id": "434ddcf0-41be-4aa4-ac43-db4f9ae94a28",
   "metadata": {},
   "source": [
    "### setup ML functions"
   ]
  },
  {
   "cell_type": "code",
   "execution_count": 24,
   "id": "d99d74ae-a76b-4a54-86f3-ac22a1fdecaa",
   "metadata": {},
   "outputs": [],
   "source": [
    "def WCN(pdb_loc,scheme_e,WT):\n",
    "    r0=7.0\n",
    "    pdb=md.load(pdb_loc)\n",
    "    topology=pdb.topology\n",
    "    chainA=topology.select('chainid 0 and protein')\n",
    "    pdb_chain0=pdb.atom_slice(chainA)\n",
    "    pdb_dist,pdb_rp=md.compute_contacts(pdb_chain0,scheme=scheme_e,periodic=False)\n",
    "    \n",
    "    cm= md.geometry.squareform(pdb_dist,pdb_rp)[0]\n",
    "    wcn=np.zeros((len(WT)),dtype=float)\n",
    "    \n",
    "    cm_adj=np.empty((len(WT),len(WT)),dtype=float)\n",
    "    cm_adj[:]=np.nan\n",
    "    chainA_top=pdb_chain0.topology\n",
    "    \n",
    "    for i in range(cm.shape[0]):\n",
    "        for j in range(cm.shape[1]):\n",
    "            if i==0 and j==0:\n",
    "                print(str(chainA_top.residue(i)))\n",
    "            cm_adj[int(str(chainA_top.residue(i))[3:])-1,int(str(chainA_top.residue(j))[3:])-1]=cm[i,j]\n",
    "    for i in range(len(WT)):\n",
    "        nan_flag=True\n",
    "        for j in range(len(WT)):\n",
    "            if np.isnan(cm_adj[i,j])!=True and cm_adj[i,j]!=0.0:\n",
    "                nan_flag=False\n",
    "                wcn[i]+=(1-(cm_adj[i,j]*10/r0)**6)/(1-(cm_adj[i,j]*10/r0)**12)\n",
    "        if nan_flag==True:\n",
    "            wcn[i]=np.nan\n",
    "    return wcn"
   ]
  },
  {
   "cell_type": "code",
   "execution_count": 25,
   "id": "b68054d8-c89a-4fae-9cf8-fb57030bb1a1",
   "metadata": {},
   "outputs": [],
   "source": [
    "def neighbor_scores(score,ext_range):\n",
    "    score_neighborhood=np.zeros(len(score),dtype=float)\n",
    "    for i in range(len(score)):\n",
    "        if np.isnan(score[i])!=True:\n",
    "            count_nan=0\n",
    "            if i==0:\n",
    "                for j in range(1,ext_range+1):\n",
    "                    if np.isnan(score[j])==False:\n",
    "                        score_neighborhood[i]+=score[j]\n",
    "                    else:\n",
    "                        count_nan+=1\n",
    "                if count_nan!=ext_range:    \n",
    "                    score_neighborhood[i]/=(ext_range)\n",
    "                else:\n",
    "                    score_neighborhood[i]=np.nan\n",
    "\n",
    "            elif i==(len(score)-1):\n",
    "                for j in range(len(score)-1-ext_range,len(score)-1):\n",
    "                    if np.isnan(score[j])==False:\n",
    "                        score_neighborhood[i]+=score[j]\n",
    "                    else:\n",
    "                        count_nan+=1\n",
    "                if count_nan!=ext_range: \n",
    "                    score_neighborhood[i]/=ext_range\n",
    "                else:\n",
    "                    score_neighborhood[i]=np.nan                \n",
    "            elif i<ext_range:\n",
    "                for j in range(0,i+ext_range+1):\n",
    "                    if j!=i:\n",
    "                        if np.isnan(score[j])==False:\n",
    "                            score_neighborhood[i]+=score[j]\n",
    "                        else:\n",
    "                            count_nan+=1\n",
    "                if count_nan!=(i+ext_range):    \n",
    "                    score_neighborhood[i]/=(i+ext_range)\n",
    "                else:\n",
    "                    score_neighborhood[i]=np.nan                        \n",
    "\n",
    "            elif i>(len(score)-1-ext_range):\n",
    "                for j in range(i-ext_range,len(score)):\n",
    "                    if j!=i:\n",
    "                        if np.isnan(score[j])==False:\n",
    "                            score_neighborhood[i]+=score[j]\n",
    "                        else:\n",
    "                            count_nan+=1\n",
    "                if count_nan!=(len(score)-i+ext_range):                     \n",
    "                    score_neighborhood[i]/=(len(score)-i+ext_range)\n",
    "                else:\n",
    "                    score_neighborhood[i]=np.nan  \n",
    "            else:\n",
    "                for j in range(i-ext_range,i+ext_range+1):\n",
    "                    if j!=i:\n",
    "                        if np.isnan(score[j])==False:\n",
    "                            score_neighborhood[i]+=score[j]\n",
    "                        else:\n",
    "                            count_nan+=1\n",
    "                if count_nan!=(2*ext_range):  \n",
    "                    score_neighborhood[i]/=(2*ext_range)\n",
    "                else:\n",
    "                    score_neighborhood[i]=np.nan             \n",
    "        else:\n",
    "            score_neighborhood[i]=np.nan\n",
    "    return score_neighborhood"
   ]
  },
  {
   "cell_type": "code",
   "execution_count": 26,
   "id": "07943958-cf6d-4343-89f1-bb7926c3b971",
   "metadata": {},
   "outputs": [],
   "source": [
    "def label_category(output,threshold):\n",
    "    labels=[]\n",
    "    if output.ndim==1:\n",
    "        labels=np.copy(output)\n",
    "        labels[:]=np.nan\n",
    "        for i in range(len(output)):\n",
    "            if output[i]<threshold:\n",
    "                labels[i]=0\n",
    "            else:\n",
    "                labels[i]=1\n",
    "    else:\n",
    "        labels=np.copy(output)\n",
    "        labels[:]=np.nan\n",
    "        for i in range(output.shape[0]):\n",
    "            for j in range(output.shape[1]):\n",
    "                if output[i,j]<threshold:\n",
    "                    labels[i,j]=1\n",
    "                else:\n",
    "                    labels[i,j]=0\n",
    "    return labels"
   ]
  },
  {
   "cell_type": "code",
   "execution_count": 27,
   "id": "041c90ac-fbd7-4930-94ce-d768ad827266",
   "metadata": {},
   "outputs": [],
   "source": [
    "def features_classification(list_features_x,list_output_y,WT):\n",
    "    \n",
    "    X=[]\n",
    "    Y=[]\n",
    "    mapping_pos=[] \n",
    "    \n",
    "    for i in range(len(WT)):\n",
    "        for j in range(20):\n",
    "            if j!=(alphabetAA_L_D[WT[i]]-1):\n",
    "                temp_x=[]\n",
    "                temp_y=[]\n",
    "                cond=True\n",
    "\n",
    "                for elem in list_features_x:\n",
    "                    if elem.ndim==1:\n",
    "                        if np.isnan(elem[i])==True:\n",
    "                            cond=False\n",
    "                    else:\n",
    "                        if np.isnan(elem[i,j])==True:\n",
    "                            cond=False    \n",
    "                \n",
    "                for elem in list_output_y:\n",
    "                    if elem.ndim==1:\n",
    "                        if np.isnan(elem[i])==True:\n",
    "                            cond=False\n",
    "                    else:\n",
    "                        if np.isnan(elem[i,j])==True:\n",
    "                            cond=False \n",
    "\n",
    "                if cond==True:\n",
    "                    \n",
    "                    for elem in list_features_x:\n",
    "                        if elem.ndim==1:\n",
    "                            temp_x.append(elem[i])\n",
    "                        else:\n",
    "                            temp_x.append(elem[i,j])\n",
    "\n",
    "                    for elem in list_output_y:\n",
    "                        if elem.ndim==1:\n",
    "                            temp_y.append(elem[i])\n",
    "                        else:\n",
    "                            temp_y.append(elem[i,j])\n",
    "                    \n",
    "                if len(temp_x)>0:\n",
    "                    X.append(temp_x)\n",
    "                    Y.append(temp_y)\n",
    "                    mapping_pos.append([i,j])\n",
    "        \n",
    "    return np.array(X),Y,mapping_pos        "
   ]
  },
  {
   "cell_type": "code",
   "execution_count": 28,
   "id": "16eac3c9-946e-4008-8704-8315e56d29c6",
   "metadata": {},
   "outputs": [],
   "source": [
    "def features_classification(list_features_x,list_output_y,WT):\n",
    "    \n",
    "    X=[]\n",
    "    Y=[]\n",
    "    mapping_pos=[] \n",
    "    \n",
    "    for i in range(len(WT)):\n",
    "        for j in range(20):\n",
    "            if j!=(alphabetAA_L_D[WT[i]]-1):\n",
    "                temp_x=[]\n",
    "                temp_y=[]\n",
    "                cond=True\n",
    "\n",
    "                for elem in list_features_x:\n",
    "                    if elem.ndim==1:\n",
    "                        if np.isnan(elem[i])==True:\n",
    "                            cond=False\n",
    "                    else:\n",
    "                        if np.isnan(elem[i,j])==True:\n",
    "                            cond=False    \n",
    "                \n",
    "                for elem in list_output_y:\n",
    "                    if elem.ndim==1:\n",
    "                        if np.isnan(elem[i])==True:\n",
    "                            cond=False\n",
    "                    else:\n",
    "                        if np.isnan(elem[i,j])==True:\n",
    "                            cond=False \n",
    "\n",
    "                if cond==True:\n",
    "                    \n",
    "                    for elem in list_features_x:\n",
    "                        if elem.ndim==1:\n",
    "                            temp_x.append(elem[i])\n",
    "                        else:\n",
    "                            temp_x.append(elem[i,j])\n",
    "\n",
    "                    for elem in list_output_y:\n",
    "                        if elem.ndim==1:\n",
    "                            temp_y.append(elem[i])\n",
    "                        else:\n",
    "                            temp_y.append(elem[i,j])\n",
    "                    \n",
    "                if len(temp_x)>0:\n",
    "                    X.append(temp_x)\n",
    "                    Y.append(temp_y)\n",
    "                    mapping_pos.append([i,j])\n",
    "        \n",
    "    return np.array(X),Y,mapping_pos        "
   ]
  },
  {
   "cell_type": "code",
   "execution_count": 29,
   "id": "030f7a31-6e6e-4840-8d37-2f58ed8b7570",
   "metadata": {},
   "outputs": [],
   "source": [
    "def features_validation(list_features_x,WT):\n",
    "    \n",
    "    X=[]\n",
    "    mapping_pos=[] \n",
    "    \n",
    "    for i in range(len(WT)):\n",
    "        for j in range(20):\n",
    "            if j!=(alphabetAA_L_D[WT[i]]-1):\n",
    "                temp_x=[]\n",
    "                temp_y=[]\n",
    "                cond=True\n",
    "\n",
    "                for elem in list_features_x:\n",
    "                    if elem.ndim==1:\n",
    "                        if np.isnan(elem[i])==True:\n",
    "                            cond=False\n",
    "                    else:\n",
    "                        if np.isnan(elem[i,j])==True:\n",
    "                            cond=False    \n",
    "            \n",
    "\n",
    "                if cond==True:\n",
    "                    \n",
    "                    for elem in list_features_x:\n",
    "                        if elem.ndim==1:\n",
    "                            temp_x.append(elem[i])\n",
    "                        else:\n",
    "                            temp_x.append(elem[i,j])\n",
    "                    \n",
    "                if len(temp_x)>0:\n",
    "                    X.append(temp_x)\n",
    "                    mapping_pos.append([i,j])\n",
    "        \n",
    "    return np.array(X),mapping_pos        "
   ]
  },
  {
   "cell_type": "code",
   "execution_count": 30,
   "id": "92664f70-270d-42c0-bb9c-c45bcd8554f7",
   "metadata": {},
   "outputs": [],
   "source": [
    "def binary_threshold(data_x,data_y,t_x,t_y):\n",
    "    labels=np.copy(data_x)\n",
    "    labels[:]=np.nan\n",
    "    \n",
    "    for i in range(data_x.shape[0]):\n",
    "        for j in range(data_x.shape[1]):\n",
    "            if np.isnan(data_x[i,j])!= True and np.isnan(data_y[i,j])!=True:\n",
    "                if data_x[i,j] > t_x and data_y[i,j]<t_y:\n",
    "                    labels[i,j]=1\n",
    "                else:\n",
    "                    labels[i,j]=0\n",
    "    \n",
    "    return labels"
   ]
  },
  {
   "cell_type": "code",
   "execution_count": 31,
   "id": "dcb894de-9e7a-48b5-9530-bab0cfd71bf1",
   "metadata": {},
   "outputs": [],
   "source": [
    "def multiclass_threshold(data_x,data_y,t_x,t_y):\n",
    "    labels=np.copy(data_x)\n",
    "    labels[:]=np.nan\n",
    "    \n",
    "    for i in range(data_x.shape[0]):\n",
    "        for j in range(data_x.shape[1]):\n",
    "            if np.isnan(data_x[i,j])!= True and np.isnan(data_y[i,j])!=True:\n",
    "                if data_x[i,j] > t_x and data_y[i,j]<t_y:\n",
    "                    labels[i,j]=1\n",
    "                elif data_x[i,j] < t_x and data_y[i,j]<t_y:\n",
    "                    labels[i,j]=2\n",
    "                elif data_x[i,j] < t_x and data_y[i,j]>t_y:\n",
    "                    labels[i,j]=3\n",
    "                else:\n",
    "                    labels[i,j]=0\n",
    "    \n",
    "    return labels"
   ]
  },
  {
   "cell_type": "code",
   "execution_count": 32,
   "id": "31a1e346-2a3f-4f66-aadf-b433b27562f2",
   "metadata": {
    "tags": []
   },
   "outputs": [],
   "source": [
    "def prob_to_label(probability,thr):\n",
    "    labels=np.zeros(probability.shape[0],dtype=int)\n",
    "    for i in range(probability.shape[0]):\n",
    "        if probability[i][1]>thr:\n",
    "            labels[i]=1\n",
    "            #print(1)\n",
    "        else:\n",
    "            labels[i]=0\n",
    "            #print(0)\n",
    "    return labels"
   ]
  },
  {
   "cell_type": "code",
   "execution_count": 33,
   "id": "5be4c5ad-94da-4244-995e-3e15b9bf10f5",
   "metadata": {
    "tags": []
   },
   "outputs": [],
   "source": [
    "def modify_dssp(protein,dssp_data,sequence,pdb_chain='A'):\n",
    "\n",
    "    \"\"\"\n",
    "    Read the dictionary output from Biopython function Bio.PDB.DSSP.make_dssp_dict,\n",
    "    and put relevant DSSP data (i.e. the secondary structure and  ASA) into a DataFrame.\n",
    "    Remove data for residues that do not occur in the UniProt sequences of the proteins (e.g.\n",
    "    residues added or mutated for experimental/purification reasons).\n",
    "    \"\"\"\n",
    "\n",
    "    # get relevant data from make_dssp_dict dictionary\n",
    "    dssp_dict = {}\n",
    "    for res in list(dssp_data[0].keys()):\n",
    "        if res[0] == pdb_chain: # select only from specified chain\n",
    "            dssp_dict[res[1][1]] = list(dssp_data[0][res][0:3]) # extract only SS and ASA\n",
    "\n",
    "    # create DataFrame with the selected DSSP output\n",
    "    df_dssp_raw = pd.DataFrame.from_dict(dssp_dict,orient='index',columns=['PDB_res','ss','ASA',])\n",
    "\n",
    "    # create DataFrame with UniProt sequence data\n",
    "    uniprot_seq = dict(zip(range(1,len(sequence)+1),sequence))\n",
    "    df_seq = pd.DataFrame.from_dict(uniprot_seq,orient='index',columns=['Sequence'])\n",
    "\n",
    "    # remove data for residues (residue indices) not present in UniProt sequences\n",
    "    for i in np.array(df_dssp_raw.index):\n",
    "        if i not in np.array(df_seq.index):\n",
    "            print(str(i)+str(df_dssp_raw.loc[i][0])+' will be removed')\n",
    "            df_dssp_raw.drop([i],inplace=True)\n",
    "\n",
    "    # remove data for residues not matching the residues in the UniProt sequence (within the sequence)\n",
    "    if np.all(df_dssp_raw['PDB_res'] == df_seq['Sequence'].loc[df_dssp_raw['PDB_res'].index]):\n",
    "        df_dssp_final = pd.concat([df_seq,df_dssp_raw],axis=1)\n",
    "    else:\n",
    "        mismatch = list(df_dssp_raw['PDB_res'][df_dssp_raw['PDB_res'] !=\n",
    "                                               df_seq['Sequence'].loc[df_dssp_raw['PDB_res'].index]].index)\n",
    "        print(mismatch)\n",
    "        print('Sequences do not match, residue(s) {} will be removed'.format(str(mismatch)))\n",
    "        df_dssp_raw.drop(mismatch,inplace=True)\n",
    "        df_dssp_final = pd.concat([df_seq,df_dssp_raw],axis=1)\n",
    "\n",
    "    # add relative ASA to final DataFrame\n",
    "\n",
    "    # maxASA from doi:10.1371/journal.pone.0080635\n",
    "    maxASA = {'A':129.0, 'R':274.0, 'N':195.0, 'D':193.0, 'C':167.0, 'E':223.0, 'Q':225.0, 'G':104.0,\n",
    "              'H':224.0, 'I':197.0, 'L':201.0, 'K':236.0, 'M':224.0, 'F':240.0, 'P':159.0, 'S':155.0,\n",
    "              'T':172.0, 'W':285.0, 'Y':263.0, 'V':174.0}\n",
    "\n",
    "    # calculate and add rASAs to df_dssp_final\n",
    "    rASA_list = []\n",
    "    for i in df_dssp_final.index:\n",
    "        res_type = df_dssp_final['Sequence'].loc[i]\n",
    "        rASA = (df_dssp_final['ASA'].loc[i])/(maxASA[res_type])\n",
    "        rASA_list.append(rASA)\n",
    "    df_dssp_final['rASA'] = rASA_list\n",
    "\n",
    "    return df_dssp_final\n",
    "            "
   ]
  },
  {
   "cell_type": "markdown",
   "id": "423f5977-06c8-433b-a010-ebd4bd614dc7",
   "metadata": {
    "tags": [],
    "toc-hr-collapsed": true
   },
   "source": [
    "## Load trained model"
   ]
  },
  {
   "cell_type": "code",
   "execution_count": 34,
   "id": "0149ab10-5a18-448b-90d6-40b10bed1cf5",
   "metadata": {
    "tags": []
   },
   "outputs": [],
   "source": [
    "cat=CatBoostClassifier(iterations=2500, random_strength= 1, depth= 7, l2_leaf_reg= 9, bagging_temperature= 2,verbose=0,class_weights={0:1,1:2,2:1,3:0.1})"
   ]
  },
  {
   "cell_type": "code",
   "execution_count": 35,
   "id": "70477310-fb1d-483e-9a86-0c9409b7718a",
   "metadata": {
    "tags": []
   },
   "outputs": [
    {
     "data": {
      "text/plain": [
       "<catboost.core.CatBoostClassifier at 0x7ff0c0247750>"
      ]
     },
     "execution_count": 35,
     "metadata": {},
     "output_type": "execute_result"
    }
   ],
   "source": [
    "cat.load_model('../catboost_model/cat_trained_24jun22.cbm')"
   ]
  },
  {
   "cell_type": "markdown",
   "id": "d15b1685-f2ed-498b-bd12-12833aa232a7",
   "metadata": {},
   "source": [
    "## Validation datasets"
   ]
  },
  {
   "cell_type": "markdown",
   "id": "9def9de3-68f2-4537-84c1-b9e6d49e6a9f",
   "metadata": {
    "toc-hr-collapsed": true
   },
   "source": [
    "### P02144 -myo"
   ]
  },
  {
   "cell_type": "code",
   "execution_count": 36,
   "id": "f2caa5b2-5981-48b4-8d06-5e36dddac672",
   "metadata": {
    "tags": []
   },
   "outputs": [],
   "source": [
    "P02144_WT_sequence=\"MGLSDGEWQLVLNVWGKVEADIPGHGQEVLIRLFKGHPETLEKFDKFKHLKSEDEMKASEDLKKHGATVLTALGGILKKKGHHEAEIKPLAQSHATKHKIPVKYLEFISECIIQVLQSKHPGDFGADAQGAMNKALELFRKDMASNYKELGFQG\"\n",
    "P02144_WT_seq_rose=\"MGLSDGEWQLVLNVWGKVEADIPGHGQEVLIRLFKGHPETLEKFDKFKHLKSEDEMKASEDLKKHGATVLTALGGILKKKGHHEAEIKPLAQSHATKHKIPVKYLEFISECIIQVLQSKHPGDFGADAQGAMNKALELFRKDMASNYKELGFQG\""
   ]
  },
  {
   "cell_type": "code",
   "execution_count": 37,
   "id": "c235e953-2636-45a7-a3a8-6e4d63dd8550",
   "metadata": {
    "tags": []
   },
   "outputs": [
    {
     "name": "stdout",
     "output_type": "stream",
     "text": [
      "154 1.0\n"
     ]
    }
   ],
   "source": [
    "count=0\n",
    "for i in range(len(P02144_WT_sequence)):\n",
    "    if P02144_WT_sequence[i]==P02144_WT_seq_rose[i]:\n",
    "        count+=1\n",
    "print(len(P02144_WT_sequence),count/len(P02144_WT_seq_rose))"
   ]
  },
  {
   "cell_type": "markdown",
   "id": "f5eb6e4d-6de3-4165-8663-58699cb3abe6",
   "metadata": {
    "tags": []
   },
   "source": [
    "#### Co-evolution"
   ]
  },
  {
   "cell_type": "code",
   "execution_count": 39,
   "id": "771c4f43-1a01-4e65-8363-630986bb0e40",
   "metadata": {
    "tags": []
   },
   "outputs": [],
   "source": [
    "P02144_GEMME=load_data_V2('../scores_GEMME/prism_gemme_P02144.txt',P02144_WT_sequence)\n",
    "P02144_GEMME=remove_WT_score(P02144_GEMME,P02144_WT_sequence)"
   ]
  },
  {
   "cell_type": "code",
   "execution_count": 40,
   "id": "002ca995-157c-4f3c-9fc9-91ad7d10d718",
   "metadata": {
    "tags": []
   },
   "outputs": [],
   "source": [
    "P02144_GEMME_mean=position_mean(P02144_GEMME)"
   ]
  },
  {
   "cell_type": "markdown",
   "id": "2ec4422d-a7bf-4b1a-9211-38da29c6c119",
   "metadata": {
    "tags": []
   },
   "source": [
    "#### ddG"
   ]
  },
  {
   "cell_type": "code",
   "execution_count": 42,
   "id": "466f1f5b-1984-4ee9-a971-6cdc815a2610",
   "metadata": {
    "tags": []
   },
   "outputs": [],
   "source": [
    "P02144_cavity_ddg=load_data_V2('../score_RaSP/prism_cavity_P02144_A.txt',P02144_WT_sequence,column_score=2)"
   ]
  },
  {
   "cell_type": "code",
   "execution_count": 43,
   "id": "fc411e6a-aa77-41b0-a3ef-f321e93e62d8",
   "metadata": {
    "tags": []
   },
   "outputs": [],
   "source": [
    "P02144_cavity_ddg_norm=normalize_cutoff(P02144_cavity_ddg,0.0,5.0)"
   ]
  },
  {
   "cell_type": "code",
   "execution_count": 44,
   "id": "6c672452-8832-4290-8a7a-89dfb0b89078",
   "metadata": {
    "tags": []
   },
   "outputs": [],
   "source": [
    "P02144_cavity_ddg_mean=position_mean(P02144_cavity_ddg_norm)"
   ]
  },
  {
   "cell_type": "markdown",
   "id": "9c373afd-e146-4ff6-a0d8-132b40cccac8",
   "metadata": {},
   "source": [
    "#### Hydrophobicity"
   ]
  },
  {
   "cell_type": "code",
   "execution_count": 45,
   "id": "2d292fad-379c-47bd-aa9c-86354b01efcd",
   "metadata": {
    "tags": []
   },
   "outputs": [],
   "source": [
    "P02144_hydrophobicity_mut=np.empty((len(P02144_WT_sequence),20),dtype=float)\n",
    "P02144_hydrophobicity_mut[:]=np.nan"
   ]
  },
  {
   "cell_type": "code",
   "execution_count": 46,
   "id": "13dedecf-0c7c-4d4f-9c68-f1963e2a06da",
   "metadata": {
    "tags": []
   },
   "outputs": [],
   "source": [
    "for i in range(len(P02144_WT_sequence)):\n",
    "    for j in range(20):\n",
    "        P02144_hydrophobicity_mut[i,j]=AA_to_hydrophobicity_scores[alphabetAA_D_L[j+1]]"
   ]
  },
  {
   "cell_type": "markdown",
   "id": "85da123b-e658-4bac-bad8-5e50ccd80b70",
   "metadata": {},
   "source": [
    "#### WCN"
   ]
  },
  {
   "cell_type": "code",
   "execution_count": 49,
   "id": "85251a12-679d-49be-8742-8a891f88bf10",
   "metadata": {
    "tags": []
   },
   "outputs": [
    {
     "name": "stdout",
     "output_type": "stream",
     "text": [
      "MET1\n"
     ]
    }
   ],
   "source": [
    "P02144_wcn=WCN('../pdbs/P02144_AF_v3.pdb','ca',P02144_WT_sequence)"
   ]
  },
  {
   "cell_type": "markdown",
   "id": "7c34ddc0-47e4-42c0-a4f6-9aa28c8a956b",
   "metadata": {},
   "source": [
    "#### Neighbor sequences scores:"
   ]
  },
  {
   "cell_type": "code",
   "execution_count": 50,
   "id": "16b33717-76a6-4730-8b50-3e0a1f01b9b3",
   "metadata": {
    "tags": []
   },
   "outputs": [],
   "source": [
    "P02144_GEMME_neigbor_scores=neighbor_scores(P02144_GEMME_mean,1)\n",
    "\n",
    "P02144_cavity_neigbor_scores=neighbor_scores(P02144_cavity_ddg_mean,1)"
   ]
  },
  {
   "cell_type": "markdown",
   "id": "a9d21070-70d2-4316-8014-0d3fc26a2631",
   "metadata": {
    "tags": []
   },
   "source": [
    "### Tetramer cavity:\n"
   ]
  },
  {
   "cell_type": "code",
   "execution_count": 51,
   "id": "d42c118e-ce4f-448f-82b1-364ab4e6141e",
   "metadata": {
    "tags": []
   },
   "outputs": [],
   "source": [
    "tetra_sequence=\"VLSPADKTNVKAAWGKVGAHAGEYGAEALERMFLSFPTTKTYFPHFDLSHGSAQVKGHGKKVADALTNAVAHVDDMPNALSALSDLHAHKLRVDPVNFKLLSHCLLVTLAAHLPAEFTPAVHASLDKFLASVSTVLTSKYRVHLTPEEKSAVTALWGKVNVDEVGGEALGRLLVVYPWTQRFFESFGDLSTPDAVMGNPKVKAHGKKVLGAFSDGLAHLDNLKGTFATLSELHCDKLHVDPENFRLLGNVLVCVLAHHFGKEFTPPVQAAYQKVVAGVANALAHKYHVLSPADKTNVKAAWGKVGAHAGEYGAEALERMFLSFPTTKTYFPHFDLSHGSAQVKGHGKKVADALTNAVAHVDDMPNALSALSDLHAHKLRVDPVNFKLLSHCLLVTLAAHLPAEFTPAVHASLDKFLASVSTVLTSKYRVHLTPEEKSAVTALWGKVNVDEVGGEALGRLLVVYPWTQRFFESFGDLSTPDAVMGNPKVKAHGKKVLGAFSDGLAHLDNLKGTFATLSELHCDKLHVDPENFRLLGNVLVCVLAHHFGKEFTPPVQAAYQKVVAGVANALAHKYH\""
   ]
  },
  {
   "cell_type": "code",
   "execution_count": 52,
   "id": "9ff4a193-67e9-4fe3-a36a-432d7934edb6",
   "metadata": {
    "tags": []
   },
   "outputs": [],
   "source": [
    "HB_tetra_cavity_ddg=load_data_V2('../score_RaSP/prism_cavity_P69905_1bbb_tetramer.txt',tetra_sequence,column_score=2,start_gap=0)"
   ]
  },
  {
   "cell_type": "code",
   "execution_count": 53,
   "id": "c1142885-3ff4-4876-8afc-835affac9a39",
   "metadata": {
    "tags": []
   },
   "outputs": [],
   "source": [
    "HB_A1_ddg_wrong_num=HB_tetra_cavity_ddg[0:141]"
   ]
  },
  {
   "cell_type": "code",
   "execution_count": 54,
   "id": "6476775a-a440-4d64-99ea-5b51a3338ee7",
   "metadata": {
    "tags": []
   },
   "outputs": [],
   "source": [
    "HB_B1_ddg_wrong_num=HB_tetra_cavity_ddg[141:287]"
   ]
  },
  {
   "cell_type": "code",
   "execution_count": 55,
   "id": "7c05ab60-66a8-4acb-b75e-817c9b681a0a",
   "metadata": {
    "tags": []
   },
   "outputs": [
    {
     "name": "stdout",
     "output_type": "stream",
     "text": [
      "VAL1\n"
     ]
    }
   ],
   "source": [
    "tetramer_wcn=WCN('../pdbs/P69905_1bbb_tetramer.pdb','ca',tetra_sequence)"
   ]
  },
  {
   "cell_type": "markdown",
   "id": "3f82859c-755f-44d4-9270-bf660f927091",
   "metadata": {
    "tags": [],
    "toc-hr-collapsed": true
   },
   "source": [
    "### P69905_hba"
   ]
  },
  {
   "cell_type": "code",
   "execution_count": 56,
   "id": "3846e3af-8925-450f-a052-bf590c91a3c2",
   "metadata": {
    "tags": []
   },
   "outputs": [],
   "source": [
    "P69905_WT_sequence=\"MVLSPADKTNVKAAWGKVGAHAGEYGAEALERMFLSFPTTKTYFPHFDLSHGSAQVKGHGKKVADALTNAVAHVDDMPNALSALSDLHAHKLRVDPVNFKLLSHCLLVTLAAHLPAEFTPAVHASLDKFLASVSTVLTSKYR\"\n",
    "P69905_WT_seq_rose=\"-VLSPADKTNVKAAWGKVGAHAGEYGAEALERMFLSFPTTKTYFPHFDLSHGSAQVKGHGKKVADALTNAVAHVDDMPNALSALSDLHAHKLRVDPVNFKLLSHCLLVTLAAHLPAEFTPAVHASLDKFLASVSTVLTSKYR\""
   ]
  },
  {
   "cell_type": "code",
   "execution_count": 57,
   "id": "83476638-b604-4895-b1f9-47dd6a5b15a4",
   "metadata": {
    "tags": []
   },
   "outputs": [
    {
     "name": "stdout",
     "output_type": "stream",
     "text": [
      "142 0.9929577464788732\n"
     ]
    }
   ],
   "source": [
    "count=0\n",
    "for i in range(len(P69905_WT_sequence)):\n",
    "    if P69905_WT_sequence[i]==P69905_WT_seq_rose[i]:\n",
    "        count+=1\n",
    "print(len(P69905_WT_sequence),count/len(P69905_WT_seq_rose))"
   ]
  },
  {
   "cell_type": "markdown",
   "id": "09258adf-2682-4304-b290-b11e9850d6cc",
   "metadata": {},
   "source": [
    "#### Co-evolution"
   ]
  },
  {
   "cell_type": "code",
   "execution_count": 59,
   "id": "fe3267d7-655c-4551-98ae-ac7ee0235c43",
   "metadata": {
    "tags": []
   },
   "outputs": [],
   "source": [
    "P69905_GEMME=load_data_V2('../scores_GEMME/prism_gemme_P69905.txt',P69905_WT_sequence)\n",
    "P69905_GEMME=remove_WT_score(P69905_GEMME,P69905_WT_sequence)"
   ]
  },
  {
   "cell_type": "code",
   "execution_count": 60,
   "id": "a037b222-1532-4270-87ea-212c6c7623da",
   "metadata": {
    "tags": []
   },
   "outputs": [],
   "source": [
    "P69905_GEMME_mean=position_mean(P69905_GEMME)"
   ]
  },
  {
   "cell_type": "markdown",
   "id": "12da7040-a805-4003-aef1-065aa3ed74a3",
   "metadata": {
    "tags": []
   },
   "source": [
    "#### CAVITY"
   ]
  },
  {
   "cell_type": "code",
   "execution_count": 61,
   "id": "6e1ab4f9-133e-4688-8fb3-c908f9bfacfb",
   "metadata": {
    "tags": []
   },
   "outputs": [],
   "source": [
    "P69905_cavity_ddg=load_data_V2('../score_RaSP/prism_cavity_P69905_1BBB_A.txt',P69905_WT_sequence,column_score=2,start_gap=1)"
   ]
  },
  {
   "cell_type": "code",
   "execution_count": 62,
   "id": "ce1bd9bd-7e54-4ef4-9200-0744c7f2ffcf",
   "metadata": {
    "tags": []
   },
   "outputs": [],
   "source": [
    "P69905_cavity_ddg_norm=normalize_cutoff(P69905_cavity_ddg,0.0,5.0)"
   ]
  },
  {
   "cell_type": "code",
   "execution_count": 63,
   "id": "2ef9eacc-840c-4f21-b093-8877f980aa28",
   "metadata": {
    "tags": []
   },
   "outputs": [],
   "source": [
    "P69905_cavity_ddg_mean=position_mean(P69905_cavity_ddg_norm)"
   ]
  },
  {
   "cell_type": "markdown",
   "id": "34f30d2e-b9cb-4721-afb7-fa12966162b6",
   "metadata": {},
   "source": [
    "#### tetramer"
   ]
  },
  {
   "cell_type": "code",
   "execution_count": 64,
   "id": "061904f6-ee27-490a-8270-bc88812ae4c4",
   "metadata": {
    "tags": []
   },
   "outputs": [],
   "source": [
    "P69905_tetramer_ddg_cavity=np.empty((len(P69905_WT_sequence),20),dtype=float)\n",
    "P69905_tetramer_ddg_cavity[:]=np.nan\n",
    "P69905_tetramer_ddg_cavity[1:]=HB_A1_ddg_wrong_num"
   ]
  },
  {
   "cell_type": "code",
   "execution_count": 65,
   "id": "e6ea3a7b-29dd-4ecd-8899-c7c984ea414c",
   "metadata": {
    "tags": []
   },
   "outputs": [],
   "source": [
    "P69905_tetramer_ddg_cavity_norm=normalize_cutoff(P69905_tetramer_ddg_cavity,0.0,5.0)"
   ]
  },
  {
   "cell_type": "code",
   "execution_count": 66,
   "id": "49f572fc-147c-4bda-b9bc-a2314df61aff",
   "metadata": {
    "tags": []
   },
   "outputs": [],
   "source": [
    "P69905_tetramer_ddg_cavity_mean=position_mean(P69905_tetramer_ddg_cavity_norm)"
   ]
  },
  {
   "cell_type": "markdown",
   "id": "49fb6c6c-b1bc-40c4-b2c1-93883232fb66",
   "metadata": {},
   "source": [
    "#### Hydrophobicity"
   ]
  },
  {
   "cell_type": "code",
   "execution_count": 67,
   "id": "ca307cb4-f280-431e-a226-8c04f7a2a814",
   "metadata": {
    "tags": []
   },
   "outputs": [],
   "source": [
    "P69905_hydrophobicity_mut=np.empty((len(P69905_WT_sequence),20),dtype=float)\n",
    "P69905_hydrophobicity_mut[:]=np.nan"
   ]
  },
  {
   "cell_type": "code",
   "execution_count": 68,
   "id": "da5e3fce-5a89-4940-8b8e-09a67269c0ba",
   "metadata": {
    "tags": []
   },
   "outputs": [],
   "source": [
    "for i in range(len(P69905_WT_sequence)):\n",
    "    for j in range(20):\n",
    "        P69905_hydrophobicity_mut[i,j]=AA_to_hydrophobicity_scores[alphabetAA_D_L[j+1]]"
   ]
  },
  {
   "cell_type": "markdown",
   "id": "7e4a3031-d68e-4ea0-8238-41385ae9c155",
   "metadata": {},
   "source": [
    "#### WCN"
   ]
  },
  {
   "cell_type": "code",
   "execution_count": 89,
   "id": "0fcde8f2-9695-47f2-84c8-fdc819c99da2",
   "metadata": {
    "tags": []
   },
   "outputs": [
    {
     "name": "stdout",
     "output_type": "stream",
     "text": [
      "VAL2\n"
     ]
    }
   ],
   "source": [
    "P69905_wcn=WCN('../pdbs/P69905_1bbb_A.pdb','ca',P69905_WT_sequence)"
   ]
  },
  {
   "cell_type": "code",
   "execution_count": 70,
   "id": "79524a3f-ab4d-405b-829b-35f175ba3a97",
   "metadata": {
    "tags": []
   },
   "outputs": [],
   "source": [
    "P69905_tetramer_wcn=tetramer_wcn[0:141]"
   ]
  },
  {
   "cell_type": "markdown",
   "id": "5202a5c2-1c80-438f-b6b3-cff36e49cf71",
   "metadata": {},
   "source": [
    "#### Neighbor sequences scores:"
   ]
  },
  {
   "cell_type": "code",
   "execution_count": 71,
   "id": "25fa91db-3979-4539-bfe4-b1b0503f4d4f",
   "metadata": {
    "tags": []
   },
   "outputs": [],
   "source": [
    "\n",
    "P69905_GEMME_neigbor_scores=neighbor_scores(P69905_GEMME_mean,1)\n",
    "\n",
    "P69905_cavity_neigbor_scores=neighbor_scores(P69905_cavity_ddg_mean,1)\n",
    "\n",
    "P69905_tetramer_cavity_neigbor_scores=neighbor_scores(P69905_tetramer_ddg_cavity_mean,1)\n"
   ]
  },
  {
   "cell_type": "markdown",
   "id": "40a6c133-89f8-4062-97d2-68e01c55dac5",
   "metadata": {
    "tags": [],
    "toc-hr-collapsed": true
   },
   "source": [
    "### P68871_hbb"
   ]
  },
  {
   "cell_type": "code",
   "execution_count": 72,
   "id": "44dada49-417d-4bab-8541-3f10fa3e482c",
   "metadata": {
    "tags": []
   },
   "outputs": [],
   "source": [
    "P68871_WT_sequence=\"MVHLTPEEKSAVTALWGKVNVDEVGGEALGRLLVVYPWTQRFFESFGDLSTPDAVMGNPKVKAHGKKVLGAFSDGLAHLDNLKGTFATLSELHCDKLHVDPENFRLLGNVLVCVLAHHFGKEFTPPVQAAYQKVVAGVANALAHKYH\"\n",
    "P68871_WT_seq_rose=\"-VHLTPEEKSAVTALWGKVNVDEVGGEALGRLLVVYPWTQRFFESFGDLSTPDAVMGNPKVKAHGKKVLGAFSDGLAHLDNLKGTFATLSELHCDKLHVDPENFRLLGNVLVCVLAHHFGKEFTPPVQAAYQKVVAGVANALAHKYH\"\n",
    "P68871_WT_seq_dssp=\"AAAAAAAAAAAAAAAAAAAAAAAAAAAAAAAAAAAAAAAAAAAAAAAAAAAAAAAAAAAAAAAAAAAAAAAAAAAAAAAAAAAAAAAAAAAAAAAAAAAAAAAAAAAAAAAAAAAAAAAAAAAAAAAAAAAAAAAAAAAAAMVHLTPEEKSAVTALWGKVNVDEVGGEALGRLLVVYPWTQRFFESFGDLSTPDAVMGNPKVKAHGKKVLGAFSDGLAHLDNLKGTFATLSELHCDKLHVDPENFRLLGNVLVCVLAHHFGKEFTPPVQAAYQKVVAGVANALAHKYH\""
   ]
  },
  {
   "cell_type": "code",
   "execution_count": 73,
   "id": "731b510b-7757-4e96-8a3f-0d9a0576e956",
   "metadata": {
    "tags": []
   },
   "outputs": [
    {
     "name": "stdout",
     "output_type": "stream",
     "text": [
      "147 0.9931972789115646\n"
     ]
    }
   ],
   "source": [
    "count=0\n",
    "for i in range(len(P68871_WT_sequence)):\n",
    "    if P68871_WT_sequence[i]==P68871_WT_seq_rose[i]:\n",
    "        count+=1\n",
    "print(len(P68871_WT_sequence),count/len(P68871_WT_seq_rose))"
   ]
  },
  {
   "cell_type": "markdown",
   "id": "5d7f0812-55ca-40f8-8cf3-bc9689a7ca7d",
   "metadata": {},
   "source": [
    "#### Co-evolution"
   ]
  },
  {
   "cell_type": "code",
   "execution_count": 74,
   "id": "9896f97b-a8fc-4f26-8b51-f3cef32b6df3",
   "metadata": {
    "tags": []
   },
   "outputs": [],
   "source": [
    "P68871_GEMME=load_data_V2('../scores_GEMME/prism_gemme_P68871.txt',P68871_WT_sequence)\n",
    "P68871_GEMME=remove_WT_score(P68871_GEMME,P68871_WT_sequence)"
   ]
  },
  {
   "cell_type": "code",
   "execution_count": 75,
   "id": "b1b7879b-4ff2-488e-b329-b44b3ea85c4b",
   "metadata": {
    "tags": []
   },
   "outputs": [],
   "source": [
    "P68871_GEMME_mean=position_mean(P68871_GEMME)"
   ]
  },
  {
   "cell_type": "markdown",
   "id": "f7ca94a5-beee-4dee-a7cc-e45e594eb87d",
   "metadata": {
    "tags": []
   },
   "source": [
    "#### CAVITY"
   ]
  },
  {
   "cell_type": "code",
   "execution_count": 76,
   "id": "9e5cf9ec-4fe8-4da8-9ed7-f3a1bfb2c2bb",
   "metadata": {
    "tags": []
   },
   "outputs": [],
   "source": [
    "P68871_cavity_ddg=load_data_V2('../score_RaSP/prism_cavity_P69905_1BBB_B.txt',P68871_WT_sequence,column_score=2,start_gap=1)"
   ]
  },
  {
   "cell_type": "code",
   "execution_count": 77,
   "id": "45af3c1f-fa22-4801-83db-c0fea712a303",
   "metadata": {
    "tags": []
   },
   "outputs": [],
   "source": [
    "P68871_cavity_ddg_norm=normalize_cutoff(P68871_cavity_ddg,0.0,5.0)"
   ]
  },
  {
   "cell_type": "code",
   "execution_count": 78,
   "id": "702790f5-90eb-4ffe-a719-f080009388d9",
   "metadata": {
    "tags": []
   },
   "outputs": [],
   "source": [
    "P68871_cavity_ddg_mean=position_mean(P68871_cavity_ddg_norm)"
   ]
  },
  {
   "cell_type": "markdown",
   "id": "1811f96b-1d5c-4bbb-a326-2422f979208b",
   "metadata": {},
   "source": [
    "#### tetramer"
   ]
  },
  {
   "cell_type": "code",
   "execution_count": 79,
   "id": "91734dca-df68-4de0-829f-f2cd1032fcb9",
   "metadata": {
    "tags": []
   },
   "outputs": [],
   "source": [
    "P68871_tetramer_ddg_cavity=np.empty((len(P68871_WT_sequence),20),dtype=float)\n",
    "P68871_tetramer_ddg_cavity[:]=np.nan\n",
    "P68871_tetramer_ddg_cavity[1:]=HB_B1_ddg_wrong_num"
   ]
  },
  {
   "cell_type": "code",
   "execution_count": 80,
   "id": "4eb0680c-2a30-42ee-ad57-bb428191e180",
   "metadata": {
    "tags": []
   },
   "outputs": [],
   "source": [
    "P68871_tetramer_ddg_cavity_norm=normalize_cutoff(P68871_tetramer_ddg_cavity,0.0,5.0)"
   ]
  },
  {
   "cell_type": "code",
   "execution_count": 81,
   "id": "9ed652e9-8f89-43d1-b326-4ad13b6c89ff",
   "metadata": {
    "tags": []
   },
   "outputs": [],
   "source": [
    "P68871_tetramer_ddg_cavity_mean=position_mean(P68871_tetramer_ddg_cavity_norm)"
   ]
  },
  {
   "cell_type": "markdown",
   "id": "a5c2be24-9240-4b94-a8ac-5fcaf8bb8d12",
   "metadata": {},
   "source": [
    "#### Hydrophobicity"
   ]
  },
  {
   "cell_type": "code",
   "execution_count": 82,
   "id": "86ad5906-f2aa-462a-9f0e-58107076ea7a",
   "metadata": {
    "tags": []
   },
   "outputs": [],
   "source": [
    "P68871_hydrophobicity_mut=np.empty((len(P68871_WT_sequence),20),dtype=float)\n",
    "P68871_hydrophobicity_mut[:]=np.nan"
   ]
  },
  {
   "cell_type": "code",
   "execution_count": 83,
   "id": "38c33bbb-fb2b-4d0c-82cd-639ea95d8506",
   "metadata": {
    "tags": []
   },
   "outputs": [],
   "source": [
    "for i in range(len(P68871_WT_sequence)):\n",
    "    for j in range(20):\n",
    "        P68871_hydrophobicity_mut[i,j]=AA_to_hydrophobicity_scores[alphabetAA_D_L[j+1]]"
   ]
  },
  {
   "cell_type": "markdown",
   "id": "8b6d99b1-1995-4ce2-bf03-c6826b0177d3",
   "metadata": {},
   "source": [
    "#### WCN"
   ]
  },
  {
   "cell_type": "code",
   "execution_count": 85,
   "id": "ca4a7145-5c01-43f7-9520-a8672e08feda",
   "metadata": {
    "tags": []
   },
   "outputs": [
    {
     "name": "stdout",
     "output_type": "stream",
     "text": [
      "VAL2\n"
     ]
    }
   ],
   "source": [
    "P68871_wcn=WCN('../pdbs/P69905_1bbb_B.pdb','ca',P68871_WT_sequence)"
   ]
  },
  {
   "cell_type": "code",
   "execution_count": 86,
   "id": "55e09799-5588-416d-bcfe-51026a0ebc54",
   "metadata": {
    "tags": []
   },
   "outputs": [],
   "source": [
    "P68871_tetramer_wcn=tetramer_wcn[141:287]"
   ]
  },
  {
   "cell_type": "markdown",
   "id": "73bb0500-94a9-474d-b105-ab51527200fb",
   "metadata": {},
   "source": [
    "#### Neighbor sequences scores:"
   ]
  },
  {
   "cell_type": "code",
   "execution_count": 87,
   "id": "769eac3e-f240-447f-ae16-016114e3ccd0",
   "metadata": {
    "tags": []
   },
   "outputs": [],
   "source": [
    "\n",
    "P68871_GEMME_neigbor_scores=neighbor_scores(P68871_GEMME_mean,1)\n",
    "\n",
    "P68871_cavity_neigbor_scores=neighbor_scores(P68871_cavity_ddg_mean,1)\n",
    "\n",
    "P68871_tetramer_cavity_neigbor_scores=neighbor_scores(P68871_tetramer_ddg_cavity_mean,1)\n"
   ]
  },
  {
   "cell_type": "markdown",
   "id": "dd9e20c0-21d0-4cbd-84ee-54f1c115e609",
   "metadata": {
    "tags": []
   },
   "source": [
    "## Predictions"
   ]
  },
  {
   "cell_type": "markdown",
   "id": "2b94fdfe-f0a0-4172-ae9f-d780d15846f0",
   "metadata": {},
   "source": [
    "#### P02144 Validation"
   ]
  },
  {
   "cell_type": "code",
   "execution_count": 622,
   "id": "3645515e-3f77-4bb9-9d82-b74d3e247dfe",
   "metadata": {},
   "outputs": [],
   "source": [
    "P02144_X,P02144_map=features_validation([P02144_GEMME, P02144_cavity_ddg_norm,P02144_GEMME_mean,P02144_cavity_ddg_mean,P02144_hydrophobicity_mut,P02144_GEMME_neigbor_scores,P02144_cavity_neigbor_scores,P02144_wcn],P02144_WT_sequence)"
   ]
  },
  {
   "cell_type": "code",
   "execution_count": 623,
   "id": "f03e1602-b368-4cff-aa80-b22ffe3abe73",
   "metadata": {},
   "outputs": [],
   "source": [
    "prediction=cat.predict(P02144_X)"
   ]
  },
  {
   "cell_type": "code",
   "execution_count": 624,
   "id": "be0648c0-352a-47d8-8701-09b024c6eb17",
   "metadata": {},
   "outputs": [],
   "source": [
    "P02144_3mode_prediction,percentage=retrieve_residue_label_pred(prediction,P02144_map,P02144_WT_sequence,0.5)"
   ]
  },
  {
   "cell_type": "code",
   "execution_count": 625,
   "id": "ed55295e-2a22-43a9-ac81-231d06c4d371",
   "metadata": {},
   "outputs": [
    {
     "name": "stdout",
     "output_type": "stream",
     "text": [
      "21\n"
     ]
    }
   ],
   "source": [
    "count_funct=0\n",
    "for i in P02144_3mode_prediction:\n",
    "    if i ==1:\n",
    "        count_funct+=1\n",
    "print(count_funct)"
   ]
  },
  {
   "cell_type": "code",
   "execution_count": 626,
   "id": "00e71add-3ee5-4541-a597-cb1554616b53",
   "metadata": {},
   "outputs": [
    {
     "name": "stdout",
     "output_type": "stream",
     "text": [
      "5\n"
     ]
    }
   ],
   "source": [
    "count_funct_heme=0\n",
    "for i in [40,43,44,65,68,69,72,73,90,94,98,100,104,105,108,112,139]:\n",
    "        if int(P02144_3mode_prediction[i-1])==1:\n",
    "            count_funct_heme+=1\n",
    "print(count_funct_heme)"
   ]
  },
  {
   "cell_type": "code",
   "execution_count": 627,
   "id": "a213f4ed-5dd1-42dc-b99a-407c49c12b35",
   "metadata": {},
   "outputs": [],
   "source": [
    "print_chimera_x_attribute_file(P02144_3mode_prediction,P02144_3mode_prediction,\"./outputs/SBI_perc_multi_P02144_chimera_list.defattr\",model_id='#2')"
   ]
  },
  {
   "cell_type": "markdown",
   "id": "65376aaa-ef38-43cd-9cfc-f3706a3d895e",
   "metadata": {},
   "source": [
    "#### P69905 Validation"
   ]
  },
  {
   "cell_type": "code",
   "execution_count": 628,
   "id": "0178745e-2128-4489-a20a-113a0c3e0136",
   "metadata": {},
   "outputs": [],
   "source": [
    "P69905_X,P69905_map=features_validation([P69905_GEMME, P69905_cavity_ddg_norm,P69905_GEMME_mean,P69905_cavity_ddg_mean,P69905_hydrophobicity_mut,P69905_GEMME_neigbor_scores,P69905_cavity_neigbor_scores,P69905_wcn],P69905_WT_sequence)"
   ]
  },
  {
   "cell_type": "code",
   "execution_count": 629,
   "id": "4361af13-a964-47e3-9ce7-523f920e26f6",
   "metadata": {},
   "outputs": [],
   "source": [
    "prediction=cat.predict(P69905_X)"
   ]
  },
  {
   "cell_type": "code",
   "execution_count": 630,
   "id": "f94ac1a6-5304-4f71-9060-bb8c318f5ad9",
   "metadata": {},
   "outputs": [],
   "source": [
    "P69905_3mode_prediction,percentage=retrieve_residue_label_pred(prediction,P69905_map,P69905_WT_sequence,0.5)"
   ]
  },
  {
   "cell_type": "code",
   "execution_count": 631,
   "id": "3a2318a4-8142-4da6-bdda-74a447dc2ba3",
   "metadata": {},
   "outputs": [
    {
     "name": "stdout",
     "output_type": "stream",
     "text": [
      "23\n"
     ]
    }
   ],
   "source": [
    "count_funct=0\n",
    "for i in P69905_3mode_prediction:\n",
    "    if i ==1:\n",
    "        count_funct+=1\n",
    "print(count_funct)"
   ]
  },
  {
   "cell_type": "code",
   "execution_count": 632,
   "id": "1a2f8237-d169-47de-bd2e-ff1a50aabfeb",
   "metadata": {},
   "outputs": [
    {
     "name": "stdout",
     "output_type": "stream",
     "text": [
      "9\n"
     ]
    }
   ],
   "source": [
    "count_funct_heme=0\n",
    "for i in [33,40,43,44,46,47,59,62,63,66,67,84,87,88,92,94,98,99,102,133,137]:\n",
    "        if int(P69905_3mode_prediction[i-1])==1:\n",
    "            count_funct_heme+=1\n",
    "print(count_funct_heme)"
   ]
  },
  {
   "cell_type": "code",
   "execution_count": 633,
   "id": "32318887-fef3-4d7c-9167-eeb693ee1c7f",
   "metadata": {},
   "outputs": [],
   "source": [
    "print_chimera_x_attribute_file(P69905_3mode_prediction,P69905_3mode_prediction,\"./outputs/SBI_perc_multi_P69055_chimera_list.defattr\",model_id='#1',chain_id='/A',argument='monomer_class')"
   ]
  },
  {
   "cell_type": "markdown",
   "id": "b03290da-7ccb-49fe-b9fa-94dddff0b65b",
   "metadata": {},
   "source": [
    "#### P69905 Validation"
   ]
  },
  {
   "cell_type": "code",
   "execution_count": 634,
   "id": "3997564a-cfdb-4034-acd6-672c380825ac",
   "metadata": {},
   "outputs": [],
   "source": [
    "P69905_X,P69905_map=features_validation([P69905_GEMME, P69905_tetramer_ddg_cavity_norm,P69905_GEMME_mean,P69905_tetramer_ddg_cavity_mean,P69905_hydrophobicity_mut,P69905_GEMME_neigbor_scores,P69905_tetramer_cavity_neigbor_scores,P69905_wcn],P69905_WT_sequence)"
   ]
  },
  {
   "cell_type": "code",
   "execution_count": 635,
   "id": "0ed4d88c-9df4-48e0-a2dc-5cf1ddcc5242",
   "metadata": {},
   "outputs": [],
   "source": [
    "prediction=cat.predict(P69905_X)"
   ]
  },
  {
   "cell_type": "code",
   "execution_count": 636,
   "id": "11ed18de-954d-4ff2-90d7-fe66720e8349",
   "metadata": {},
   "outputs": [],
   "source": [
    "P69905_tetra_3mode_prediction,percentage=retrieve_residue_label_pred(prediction,P69905_map,P69905_WT_sequence,0.5)"
   ]
  },
  {
   "cell_type": "code",
   "execution_count": 637,
   "id": "0c420dde-3a70-4dbb-9014-6667e6027c3f",
   "metadata": {},
   "outputs": [
    {
     "name": "stdout",
     "output_type": "stream",
     "text": [
      "18\n"
     ]
    }
   ],
   "source": [
    "count_funct=0\n",
    "for i in P69905_tetra_3mode_prediction:\n",
    "    if i ==1:\n",
    "        count_funct+=1\n",
    "print(count_funct)"
   ]
  },
  {
   "cell_type": "code",
   "execution_count": 638,
   "id": "197ca995-3211-4e06-ab31-3f67542d0911",
   "metadata": {},
   "outputs": [
    {
     "name": "stdout",
     "output_type": "stream",
     "text": [
      "7\n"
     ]
    }
   ],
   "source": [
    "count_funct_heme=0\n",
    "for i in [33,40,43,44,46,47,59,62,63,66,67,84,87,88,92,94,98,99,102,133,137]:\n",
    "        if int(P69905_tetra_3mode_prediction[i-1])==1:\n",
    "            count_funct_heme+=1\n",
    "print(count_funct_heme)"
   ]
  },
  {
   "cell_type": "code",
   "execution_count": 640,
   "id": "08507a9d-2f98-4165-99e0-9d56a3a88e42",
   "metadata": {},
   "outputs": [],
   "source": [
    "print_chimera_x_attribute_file(P69905_3mode_prediction,P69905_tetra_3mode_prediction,\"./outputs/SBI_perc_multi_P69055_tetra_chimera_list.defattr\",model_id='#1',chain_id='/A',argument='tetramer_class')"
   ]
  },
  {
   "cell_type": "markdown",
   "id": "8bff5b42-e1aa-4637-984a-8272031f5936",
   "metadata": {},
   "source": [
    "#### P68871 Validation"
   ]
  },
  {
   "cell_type": "code",
   "execution_count": 641,
   "id": "2e57f47a-9b30-407a-a708-f8086bbf846e",
   "metadata": {},
   "outputs": [],
   "source": [
    "P68871_X,P68871_map=features_validation([P68871_GEMME, P68871_cavity_ddg_norm,P68871_GEMME_mean,P68871_cavity_ddg_mean,P68871_hydrophobicity_mut,P68871_GEMME_neigbor_scores,P68871_cavity_neigbor_scores,P68871_wcn],P68871_WT_sequence)"
   ]
  },
  {
   "cell_type": "code",
   "execution_count": 642,
   "id": "c48d0ffc-6eb3-4fdb-9e5f-8fc9cdd2e819",
   "metadata": {},
   "outputs": [],
   "source": [
    "prediction=cat.predict(P68871_X)"
   ]
  },
  {
   "cell_type": "code",
   "execution_count": 643,
   "id": "9fe4f125-a6fe-4e41-9905-b6f04fb2d3bd",
   "metadata": {},
   "outputs": [],
   "source": [
    "P68871_3mode_prediction,percentage=retrieve_residue_label_pred(prediction,P68871_map,P68871_WT_sequence,0.5)"
   ]
  },
  {
   "cell_type": "code",
   "execution_count": 644,
   "id": "b7ddbf30-1b88-4615-bf8f-f0858562eb83",
   "metadata": {},
   "outputs": [
    {
     "name": "stdout",
     "output_type": "stream",
     "text": [
      "26\n"
     ]
    }
   ],
   "source": [
    "count_funct=0\n",
    "for i in P68871_3mode_prediction:\n",
    "    if i ==1:\n",
    "        count_funct+=1\n",
    "print(count_funct)"
   ]
  },
  {
   "cell_type": "code",
   "execution_count": 645,
   "id": "32d85913-270e-41e1-95ad-abb9350d1400",
   "metadata": {},
   "outputs": [
    {
     "name": "stdout",
     "output_type": "stream",
     "text": [
      "9\n"
     ]
    }
   ],
   "source": [
    "count_funct_heme=0\n",
    "for i in [32,39,42,43,64,67,68,71,72,89,92,93,97,99,103,104,107,138,142]:\n",
    "        if int(P68871_3mode_prediction[i-1])==1:\n",
    "            count_funct_heme+=1\n",
    "print(count_funct_heme)"
   ]
  },
  {
   "cell_type": "code",
   "execution_count": 647,
   "id": "a4a3abd7-9b9e-4348-bb99-36bb5d864174",
   "metadata": {},
   "outputs": [],
   "source": [
    "print_chimera_x_attribute_file(P68871_3mode_prediction,P68871_3mode_prediction,\"./outputs/SBI_perc_multi_P68871_chimera_list.defattr\",chain_id='/B',model_id='#3',argument='monomer_class')"
   ]
  },
  {
   "cell_type": "markdown",
   "id": "e1212674-260e-448b-b44e-48f01a522fb6",
   "metadata": {},
   "source": [
    "#### P68871 Validation"
   ]
  },
  {
   "cell_type": "code",
   "execution_count": 649,
   "id": "8d1eedd0-337c-4bf8-b90d-35320645d1be",
   "metadata": {},
   "outputs": [],
   "source": [
    "P68871_X,P68871_map=features_validation([P68871_GEMME, P68871_tetramer_ddg_cavity_norm,P68871_GEMME_mean,P68871_tetramer_ddg_cavity_mean,P68871_hydrophobicity_mut,P68871_GEMME_neigbor_scores,P68871_tetramer_cavity_neigbor_scores,P68871_wcn],P68871_WT_sequence)"
   ]
  },
  {
   "cell_type": "code",
   "execution_count": 650,
   "id": "535cea17-1662-4aae-8919-f52ea2f013ad",
   "metadata": {},
   "outputs": [],
   "source": [
    "prediction=cat.predict(P68871_X)"
   ]
  },
  {
   "cell_type": "code",
   "execution_count": 651,
   "id": "ca8b1326-2f44-4791-b2b7-edd8c6686116",
   "metadata": {},
   "outputs": [],
   "source": [
    "P68871_tetra_3mode_prediction,percentage=retrieve_residue_label_pred(prediction,P68871_map,P68871_WT_sequence,0.5)"
   ]
  },
  {
   "cell_type": "code",
   "execution_count": 652,
   "id": "49574f01-428f-42ea-9903-53d8415e9693",
   "metadata": {},
   "outputs": [
    {
     "name": "stdout",
     "output_type": "stream",
     "text": [
      "21\n"
     ]
    }
   ],
   "source": [
    "count_funct=0\n",
    "for i in P68871_tetra_3mode_prediction:\n",
    "    if i ==1:\n",
    "        count_funct+=1\n",
    "print(count_funct)"
   ]
  },
  {
   "cell_type": "code",
   "execution_count": 653,
   "id": "2e0de949-883f-43ae-aee8-3c909657398f",
   "metadata": {},
   "outputs": [
    {
     "name": "stdout",
     "output_type": "stream",
     "text": [
      "7\n"
     ]
    }
   ],
   "source": [
    "count_funct_heme=0\n",
    "for i in [32,39,42,43,64,67,68,71,72,89,92,93,97,99,103,104,107,138,142]:\n",
    "        if int(P68871_tetra_3mode_prediction[i-1])==1:\n",
    "            count_funct_heme+=1\n",
    "print(count_funct_heme)"
   ]
  },
  {
   "cell_type": "code",
   "execution_count": 654,
   "id": "254f1e57-5fbd-4405-8539-60261dba0efb",
   "metadata": {},
   "outputs": [],
   "source": [
    "print_chimera_x_attribute_file(P68871_tetra_3mode_prediction,P68871_tetra_3mode_prediction,\"./outputs/SBI_perc_multi_P68871_tetra_chimera_list.defattr\",chain_id='/B',model_id='#3',argument='tetramer_class')"
   ]
  },
  {
   "cell_type": "markdown",
   "id": "04467ef9-953a-4dee-9a59-a4640b83a399",
   "metadata": {
    "tags": []
   },
   "source": [
    "## DSSP"
   ]
  },
  {
   "cell_type": "code",
   "execution_count": 93,
   "id": "7dadd5fd-01cf-40a4-956b-342f46bef840",
   "metadata": {
    "tags": []
   },
   "outputs": [],
   "source": [
    "hba_monomer_dssp_dict=make_dssp_dict('../scores_dssp/P69905_1bbb_monomer')"
   ]
  },
  {
   "cell_type": "code",
   "execution_count": 94,
   "id": "28ce3e39-c785-4545-98f4-c5e1fcb2670d",
   "metadata": {
    "tags": []
   },
   "outputs": [],
   "source": [
    "hbb_monomer_dssp_dict=make_dssp_dict('../scores_dssp/P69905_1bbb_B_monomer')"
   ]
  },
  {
   "cell_type": "code",
   "execution_count": 95,
   "id": "9c7a99c7-9d4d-4075-9b1d-11c04b1e9010",
   "metadata": {
    "tags": []
   },
   "outputs": [],
   "source": [
    "tetramer_dssp_dict=make_dssp_dict('../scores_dssp//P69905_1bbb_tetramer')"
   ]
  },
  {
   "cell_type": "code",
   "execution_count": 96,
   "id": "5225dfd0-154b-4be6-bdfb-5691994a72e3",
   "metadata": {
    "tags": []
   },
   "outputs": [],
   "source": [
    "P69905_monomer_dssp=modify_dssp('P69905',hba_monomer_dssp_dict,P69905_WT_sequence)"
   ]
  },
  {
   "cell_type": "code",
   "execution_count": 97,
   "id": "c12a6cea-a63f-472f-b4b1-46e7ca8f2a26",
   "metadata": {
    "tags": []
   },
   "outputs": [],
   "source": [
    "P69905_tetramer_dssp=modify_dssp('P69905',tetramer_dssp_dict,P69905_WT_sequence)"
   ]
  },
  {
   "cell_type": "code",
   "execution_count": 98,
   "id": "df9a0e59-fde6-4bb0-8572-f7f89bd0f918",
   "metadata": {
    "tags": []
   },
   "outputs": [
    {
     "data": {
      "text/plain": [
       "<BarContainer object of 142 artists>"
      ]
     },
     "execution_count": 98,
     "metadata": {},
     "output_type": "execute_result"
    },
    {
     "data": {
      "image/png": "[encoded data removed]",
      "text/plain": [
       "<Figure size 640x480 with 1 Axes>"
      ]
     },
     "metadata": {},
     "output_type": "display_data"
    }
   ],
   "source": [
    "plt.bar(np.arange(0,len(P69905_tetramer_dssp['rASA'].to_numpy().flatten()),1), P69905_tetramer_dssp['rASA'].to_numpy().flatten()-P69905_monomer_dssp['rASA'].to_numpy().flatten())"
   ]
  },
  {
   "cell_type": "code",
   "execution_count": 99,
   "id": "66000f3a-5c79-4069-81bd-c259d06e7c6a",
   "metadata": {
    "tags": []
   },
   "outputs": [
    {
     "name": "stdout",
     "output_type": "stream",
     "text": [
      "2, 32, 35, 36, 39, 42, 93, 95, 96, 97, 104, 108, 111, 112, 115, 120, 123, 124, 127, 139, 140, 141, "
     ]
    }
   ],
   "source": [
    "P69905_residue_at_interface=[]\n",
    "P69905_residue_at_interface_str=''\n",
    "for i,n in enumerate(P69905_tetramer_dssp['rASA'].to_numpy().flatten()-P69905_monomer_dssp['rASA'].to_numpy().flatten()):\n",
    "    if np.abs(n) >0.2:\n",
    "        print(str(i+1)+', ',end='')\n",
    "        P69905_residue_at_interface.append(i)\n",
    "        P69905_residue_at_interface_str+=(str(i+1)+' ')"
   ]
  },
  {
   "cell_type": "code",
   "execution_count": 100,
   "id": "549a6885-f1ae-44e7-8d9c-488977eba0a5",
   "metadata": {
    "tags": []
   },
   "outputs": [],
   "source": [
    "P68871_monomer_dssp=modify_dssp('P68871',hbb_monomer_dssp_dict,P68871_WT_sequence,pdb_chain='B')"
   ]
  },
  {
   "cell_type": "code",
   "execution_count": 101,
   "id": "43d305fc-b806-4d0c-adb7-4bf5c53e104c",
   "metadata": {
    "tags": []
   },
   "outputs": [],
   "source": [
    "P68871_monomer_dssp.reset_index(drop=True,inplace=True)"
   ]
  },
  {
   "cell_type": "code",
   "execution_count": 102,
   "id": "6f3070b8-ef15-477b-ba79-f73f532ac017",
   "metadata": {
    "tags": []
   },
   "outputs": [],
   "source": [
    "P68871_tetramer_dssp=modify_dssp('P8871',tetramer_dssp_dict,P68871_WT_seq_dssp,pdb_chain='B')"
   ]
  },
  {
   "cell_type": "code",
   "execution_count": 103,
   "id": "6cf4f065-4b17-4632-82c2-05ee193d2adc",
   "metadata": {
    "tags": []
   },
   "outputs": [],
   "source": [
    "P68871_tetramer_dssp=P68871_tetramer_dssp[141:]"
   ]
  },
  {
   "cell_type": "code",
   "execution_count": 104,
   "id": "67f5d211-be0c-4073-b78e-4510a8aff294",
   "metadata": {
    "tags": []
   },
   "outputs": [],
   "source": [
    "P68871_tetramer_dssp.reset_index(drop=True,inplace=True)"
   ]
  },
  {
   "cell_type": "code",
   "execution_count": 105,
   "id": "0e5f75ce-7376-4319-8c5d-11840723208c",
   "metadata": {
    "tags": []
   },
   "outputs": [
    {
     "data": {
      "text/plain": [
       "<BarContainer object of 147 artists>"
      ]
     },
     "execution_count": 105,
     "metadata": {},
     "output_type": "execute_result"
    },
    {
     "data": {
      "image/png": "[encoded data removed]",
      "text/plain": [
       "<Figure size 640x480 with 1 Axes>"
      ]
     },
     "metadata": {},
     "output_type": "display_data"
    }
   ],
   "source": [
    "plt.bar(np.arange(0,len(P68871_tetramer_dssp['rASA'].to_numpy().flatten()),1), P68871_tetramer_dssp['rASA'].to_numpy().flatten()-P68871_monomer_dssp['rASA'].to_numpy().flatten())"
   ]
  },
  {
   "cell_type": "code",
   "execution_count": 106,
   "id": "126c5198-60b8-4cd5-91f1-31eb3ffb1243",
   "metadata": {
    "tags": []
   },
   "outputs": [
    {
     "name": "stdout",
     "output_type": "stream",
     "text": [
      "30, 34, 36, 37, 40, 99, 112, 115, 116, 119, 124, 127, 128, 131, 146, "
     ]
    }
   ],
   "source": [
    "P68871_residue_at_interface=[]\n",
    "P68871_residue_at_interface_str=''\n",
    "for i,n in enumerate(P68871_tetramer_dssp['rASA'].to_numpy().flatten()-P68871_monomer_dssp['rASA'].to_numpy().flatten()):\n",
    "    if np.abs(n) >0.2:\n",
    "        print(str(i)+', ',end='')\n",
    "        P68871_residue_at_interface.append(i)\n",
    "        P68871_residue_at_interface_str+=(str(i+1)+' ')"
   ]
  }
 ],
 "metadata": {
  "kernelspec": {
   "display_name": "Python 3 (ipykernel)",
   "language": "python",
   "name": "python3"
  },
  "language_info": {
   "codemirror_mode": {
    "name": "ipython",
    "version": 3
   },
   "file_extension": ".py",
   "mimetype": "text/x-python",
   "name": "python",
   "nbconvert_exporter": "python",
   "pygments_lexer": "ipython3",
   "version": "3.7.16"
  }
 },
 "nbformat": 4,
 "nbformat_minor": 5
}
